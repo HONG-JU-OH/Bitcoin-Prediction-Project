{
  "nbformat": 4,
  "nbformat_minor": 0,
  "metadata": {
    "colab": {
      "provenance": [],
      "mount_file_id": "1SVyzurFCtPAv-a9PWtlhLdrdbfku7i5v",
      "authorship_tag": "ABX9TyNv1YAER42Gc7wv7lbOf+w2",
      "include_colab_link": true
    },
    "kernelspec": {
      "name": "python3",
      "display_name": "Python 3"
    },
    "language_info": {
      "name": "python"
    }
  },
  "cells": [
    {
      "cell_type": "markdown",
      "metadata": {
        "id": "view-in-github",
        "colab_type": "text"
      },
      "source": [
        "<a href=\"https://colab.research.google.com/github/HONG-JU-OH/Bitcoin-Prediction-Project/blob/main/GRU%20%EB%AA%A8%EB%8D%B8_%20%EC%95%A0%EB%8B%88%EB%A9%94%EC%9D%B4%EC%85%98.ipynb\" target=\"_parent\"><img src=\"https://colab.research.google.com/assets/colab-badge.svg\" alt=\"Open In Colab\"/></a>"
      ]
    },
    {
      "cell_type": "markdown",
      "source": [
        "# 1. GRU 모델을 이용한 슬라이싱 기법적용 (21년 1월 ~ 21년 8월 데이터 )"
      ],
      "metadata": {
        "id": "eToW2RfYYgfs"
      }
    },
    {
      "cell_type": "code",
      "source": [
        "!pip install finance-datareader"
      ],
      "metadata": {
        "colab": {
          "base_uri": "https://localhost:8080/"
        },
        "id": "RKy4t35_Fp5D",
        "outputId": "27acada5-b4f9-4a1f-d072-838f1acbf1fc"
      },
      "execution_count": null,
      "outputs": [
        {
          "output_type": "stream",
          "name": "stdout",
          "text": [
            "Looking in indexes: https://pypi.org/simple, https://us-python.pkg.dev/colab-wheels/public/simple/\n",
            "Collecting finance-datareader\n",
            "  Downloading finance_datareader-0.9.50-py3-none-any.whl (19 kB)\n",
            "Requirement already satisfied: pandas>=0.19.2 in /usr/local/lib/python3.10/dist-packages (from finance-datareader) (1.5.3)\n",
            "Requirement already satisfied: requests>=2.3.0 in /usr/local/lib/python3.10/dist-packages (from finance-datareader) (2.27.1)\n",
            "Collecting requests-file (from finance-datareader)\n",
            "  Downloading requests_file-1.5.1-py2.py3-none-any.whl (3.7 kB)\n",
            "Requirement already satisfied: lxml in /usr/local/lib/python3.10/dist-packages (from finance-datareader) (4.9.2)\n",
            "Requirement already satisfied: tqdm in /usr/local/lib/python3.10/dist-packages (from finance-datareader) (4.65.0)\n",
            "Requirement already satisfied: python-dateutil>=2.8.1 in /usr/local/lib/python3.10/dist-packages (from pandas>=0.19.2->finance-datareader) (2.8.2)\n",
            "Requirement already satisfied: pytz>=2020.1 in /usr/local/lib/python3.10/dist-packages (from pandas>=0.19.2->finance-datareader) (2022.7.1)\n",
            "Requirement already satisfied: numpy>=1.21.0 in /usr/local/lib/python3.10/dist-packages (from pandas>=0.19.2->finance-datareader) (1.22.4)\n",
            "Requirement already satisfied: urllib3<1.27,>=1.21.1 in /usr/local/lib/python3.10/dist-packages (from requests>=2.3.0->finance-datareader) (1.26.15)\n",
            "Requirement already satisfied: certifi>=2017.4.17 in /usr/local/lib/python3.10/dist-packages (from requests>=2.3.0->finance-datareader) (2022.12.7)\n",
            "Requirement already satisfied: charset-normalizer~=2.0.0 in /usr/local/lib/python3.10/dist-packages (from requests>=2.3.0->finance-datareader) (2.0.12)\n",
            "Requirement already satisfied: idna<4,>=2.5 in /usr/local/lib/python3.10/dist-packages (from requests>=2.3.0->finance-datareader) (3.4)\n",
            "Requirement already satisfied: six in /usr/local/lib/python3.10/dist-packages (from requests-file->finance-datareader) (1.16.0)\n",
            "Installing collected packages: requests-file, finance-datareader\n",
            "Successfully installed finance-datareader-0.9.50 requests-file-1.5.1\n"
          ]
        }
      ]
    },
    {
      "cell_type": "code",
      "source": [
        "pip install workalendar # 공휴일 데이터 추가를 위한 달력 패키지"
      ],
      "metadata": {
        "colab": {
          "base_uri": "https://localhost:8080/"
        },
        "id": "RyJRhcZQFrmo",
        "outputId": "450f7205-dc0e-4e2d-be5c-3e99cf48addd"
      },
      "execution_count": null,
      "outputs": [
        {
          "output_type": "stream",
          "name": "stdout",
          "text": [
            "Looking in indexes: https://pypi.org/simple, https://us-python.pkg.dev/colab-wheels/public/simple/\n",
            "Collecting workalendar\n",
            "  Downloading workalendar-17.0.0-py3-none-any.whl (210 kB)\n",
            "\u001b[2K     \u001b[90m━━━━━━━━━━━━━━━━━━━━━━━━━━━━━━━━━━━━━━━\u001b[0m \u001b[32m210.7/210.7 kB\u001b[0m \u001b[31m5.2 MB/s\u001b[0m eta \u001b[36m0:00:00\u001b[0m\n",
            "\u001b[?25hRequirement already satisfied: python-dateutil in /usr/local/lib/python3.10/dist-packages (from workalendar) (2.8.2)\n",
            "Collecting lunardate (from workalendar)\n",
            "  Downloading lunardate-0.2.0-py3-none-any.whl (5.6 kB)\n",
            "Requirement already satisfied: convertdate in /usr/local/lib/python3.10/dist-packages (from workalendar) (2.4.0)\n",
            "Collecting pyluach (from workalendar)\n",
            "  Downloading pyluach-2.2.0-py3-none-any.whl (25 kB)\n",
            "Requirement already satisfied: pymeeus<=1,>=0.3.13 in /usr/local/lib/python3.10/dist-packages (from convertdate->workalendar) (0.5.12)\n",
            "Requirement already satisfied: six>=1.5 in /usr/local/lib/python3.10/dist-packages (from python-dateutil->workalendar) (1.16.0)\n",
            "Installing collected packages: lunardate, pyluach, workalendar\n",
            "Successfully installed lunardate-0.2.0 pyluach-2.2.0 workalendar-17.0.0\n"
          ]
        }
      ]
    },
    {
      "cell_type": "markdown",
      "source": [
        "## 1. 데이터 불러오기"
      ],
      "metadata": {
        "id": "-gPmc-VDUXBw"
      }
    },
    {
      "cell_type": "code",
      "source": [
        "import pandas as pd\n",
        "import numpy as np\n",
        "import FinanceDataReader as fdr\n",
        "from sklearn.preprocessing import MinMaxScaler\n",
        "from tensorflow.keras.models import Sequential\n",
        "from tensorflow.keras.layers import GRU, Dense\n",
        "import matplotlib.pyplot as plt\n",
        "from matplotlib.animation import FuncAnimation\n",
        "from IPython.display import HTML\n",
        "\n",
        "# 데이터 불러오기\n",
        "start_date = '2021-01-01'\n",
        "end_date = '2021-08-31'\n",
        "bitcoin_df = fdr.DataReader('BTC/KRW', start_date, end_date) #FinanceDataReader 에서 DataReader 함수 불러온다 , 'BTC/KRW' : 비트코인을 나타낸다.\n",
        "bitcoin_df = bitcoin_df[['Close']]\n",
        "bitcoin_df = bitcoin_df.reset_index().rename(columns={'Date': 'ds', 'Close': 'y'})  # reset_index(): 설정 인덱스를 제거하고 기본 인덱스로 변경하는 메서드\n",
        "bitcoin_df.to_csv(\"btc_price.csv\", index=False)"
      ],
      "metadata": {
        "id": "Zjj4tPl9UWlX"
      },
      "execution_count": null,
      "outputs": []
    },
    {
      "cell_type": "code",
      "source": [
        "bitcoin_df.head()"
      ],
      "metadata": {
        "colab": {
          "base_uri": "https://localhost:8080/",
          "height": 206
        },
        "id": "cd0ZMf3pY4ku",
        "outputId": "20d2b7c2-122f-44a9-b5d9-d97d70d44993"
      },
      "execution_count": null,
      "outputs": [
        {
          "output_type": "execute_result",
          "data": {
            "text/plain": [
              "          ds           y\n",
              "0 2021-01-01  31892398.0\n",
              "1 2021-01-02  34881540.0\n",
              "2 2021-01-03  35641816.0\n",
              "3 2021-01-04  34743756.0\n",
              "4 2021-01-05  36965032.0"
            ],
            "text/html": [
              "\n",
              "  <div id=\"df-f0f03037-1a54-4eee-a56e-571fae0cfaf5\">\n",
              "    <div class=\"colab-df-container\">\n",
              "      <div>\n",
              "<style scoped>\n",
              "    .dataframe tbody tr th:only-of-type {\n",
              "        vertical-align: middle;\n",
              "    }\n",
              "\n",
              "    .dataframe tbody tr th {\n",
              "        vertical-align: top;\n",
              "    }\n",
              "\n",
              "    .dataframe thead th {\n",
              "        text-align: right;\n",
              "    }\n",
              "</style>\n",
              "<table border=\"1\" class=\"dataframe\">\n",
              "  <thead>\n",
              "    <tr style=\"text-align: right;\">\n",
              "      <th></th>\n",
              "      <th>ds</th>\n",
              "      <th>y</th>\n",
              "    </tr>\n",
              "  </thead>\n",
              "  <tbody>\n",
              "    <tr>\n",
              "      <th>0</th>\n",
              "      <td>2021-01-01</td>\n",
              "      <td>31892398.0</td>\n",
              "    </tr>\n",
              "    <tr>\n",
              "      <th>1</th>\n",
              "      <td>2021-01-02</td>\n",
              "      <td>34881540.0</td>\n",
              "    </tr>\n",
              "    <tr>\n",
              "      <th>2</th>\n",
              "      <td>2021-01-03</td>\n",
              "      <td>35641816.0</td>\n",
              "    </tr>\n",
              "    <tr>\n",
              "      <th>3</th>\n",
              "      <td>2021-01-04</td>\n",
              "      <td>34743756.0</td>\n",
              "    </tr>\n",
              "    <tr>\n",
              "      <th>4</th>\n",
              "      <td>2021-01-05</td>\n",
              "      <td>36965032.0</td>\n",
              "    </tr>\n",
              "  </tbody>\n",
              "</table>\n",
              "</div>\n",
              "      <button class=\"colab-df-convert\" onclick=\"convertToInteractive('df-f0f03037-1a54-4eee-a56e-571fae0cfaf5')\"\n",
              "              title=\"Convert this dataframe to an interactive table.\"\n",
              "              style=\"display:none;\">\n",
              "        \n",
              "  <svg xmlns=\"http://www.w3.org/2000/svg\" height=\"24px\"viewBox=\"0 0 24 24\"\n",
              "       width=\"24px\">\n",
              "    <path d=\"M0 0h24v24H0V0z\" fill=\"none\"/>\n",
              "    <path d=\"M18.56 5.44l.94 2.06.94-2.06 2.06-.94-2.06-.94-.94-2.06-.94 2.06-2.06.94zm-11 1L8.5 8.5l.94-2.06 2.06-.94-2.06-.94L8.5 2.5l-.94 2.06-2.06.94zm10 10l.94 2.06.94-2.06 2.06-.94-2.06-.94-.94-2.06-.94 2.06-2.06.94z\"/><path d=\"M17.41 7.96l-1.37-1.37c-.4-.4-.92-.59-1.43-.59-.52 0-1.04.2-1.43.59L10.3 9.45l-7.72 7.72c-.78.78-.78 2.05 0 2.83L4 21.41c.39.39.9.59 1.41.59.51 0 1.02-.2 1.41-.59l7.78-7.78 2.81-2.81c.8-.78.8-2.07 0-2.86zM5.41 20L4 18.59l7.72-7.72 1.47 1.35L5.41 20z\"/>\n",
              "  </svg>\n",
              "      </button>\n",
              "      \n",
              "  <style>\n",
              "    .colab-df-container {\n",
              "      display:flex;\n",
              "      flex-wrap:wrap;\n",
              "      gap: 12px;\n",
              "    }\n",
              "\n",
              "    .colab-df-convert {\n",
              "      background-color: #E8F0FE;\n",
              "      border: none;\n",
              "      border-radius: 50%;\n",
              "      cursor: pointer;\n",
              "      display: none;\n",
              "      fill: #1967D2;\n",
              "      height: 32px;\n",
              "      padding: 0 0 0 0;\n",
              "      width: 32px;\n",
              "    }\n",
              "\n",
              "    .colab-df-convert:hover {\n",
              "      background-color: #E2EBFA;\n",
              "      box-shadow: 0px 1px 2px rgba(60, 64, 67, 0.3), 0px 1px 3px 1px rgba(60, 64, 67, 0.15);\n",
              "      fill: #174EA6;\n",
              "    }\n",
              "\n",
              "    [theme=dark] .colab-df-convert {\n",
              "      background-color: #3B4455;\n",
              "      fill: #D2E3FC;\n",
              "    }\n",
              "\n",
              "    [theme=dark] .colab-df-convert:hover {\n",
              "      background-color: #434B5C;\n",
              "      box-shadow: 0px 1px 3px 1px rgba(0, 0, 0, 0.15);\n",
              "      filter: drop-shadow(0px 1px 2px rgba(0, 0, 0, 0.3));\n",
              "      fill: #FFFFFF;\n",
              "    }\n",
              "  </style>\n",
              "\n",
              "      <script>\n",
              "        const buttonEl =\n",
              "          document.querySelector('#df-f0f03037-1a54-4eee-a56e-571fae0cfaf5 button.colab-df-convert');\n",
              "        buttonEl.style.display =\n",
              "          google.colab.kernel.accessAllowed ? 'block' : 'none';\n",
              "\n",
              "        async function convertToInteractive(key) {\n",
              "          const element = document.querySelector('#df-f0f03037-1a54-4eee-a56e-571fae0cfaf5');\n",
              "          const dataTable =\n",
              "            await google.colab.kernel.invokeFunction('convertToInteractive',\n",
              "                                                     [key], {});\n",
              "          if (!dataTable) return;\n",
              "\n",
              "          const docLinkHtml = 'Like what you see? Visit the ' +\n",
              "            '<a target=\"_blank\" href=https://colab.research.google.com/notebooks/data_table.ipynb>data table notebook</a>'\n",
              "            + ' to learn more about interactive tables.';\n",
              "          element.innerHTML = '';\n",
              "          dataTable['output_type'] = 'display_data';\n",
              "          await google.colab.output.renderOutput(dataTable, element);\n",
              "          const docLink = document.createElement('div');\n",
              "          docLink.innerHTML = docLinkHtml;\n",
              "          element.appendChild(docLink);\n",
              "        }\n",
              "      </script>\n",
              "    </div>\n",
              "  </div>\n",
              "  "
            ]
          },
          "metadata": {},
          "execution_count": 82
        }
      ]
    },
    {
      "cell_type": "markdown",
      "source": [
        "## 2. 데이터 전처리"
      ],
      "metadata": {
        "id": "oX7hM098UdAw"
      }
    },
    {
      "cell_type": "code",
      "source": [
        "# 데이터 전처리\n",
        "scaler = MinMaxScaler()  #M MinMaxScaler 는 스케일을 조정하는 정규화 함수로, 모든 데이터가 0과1 사이의 값을 갖도록 해주는 함수이다\n",
        "                         # 최댓값은 1로, 최솟값은 0으로 데이터의 범위를 조정해줍니다.\n",
        "                        # 정규화를 하는 목적은 데이터 범위의 숫자 열값을 변경하여, 값 범위의 차이를 수정하지 않고 공통척도를 사용하는 것이다\n",
        "\n",
        "bitcoin_scaled = scaler.fit_transform(bitcoin_df[['y']])  # fit_transform() :fit()과 transform()을 한번에 처리할 수 있게 하는 메서드\n",
        "                                                          # fit_transform() : train dataset에서만 사용\n",
        "                                                          # scler : 학습이 느리거나 문제가 발생하는 경우가 종종 발생하게되면 Scaler를 이용하여 동일하게 일정 범위로 스케일링하는 것이 필요하다"
      ],
      "metadata": {
        "id": "p_zQ0JyAUcF8"
      },
      "execution_count": null,
      "outputs": []
    },
    {
      "cell_type": "code",
      "source": [
        "scaler"
      ],
      "metadata": {
        "colab": {
          "base_uri": "https://localhost:8080/",
          "height": 75
        },
        "id": "wUpzpySXY3RZ",
        "outputId": "1ac0dbcc-0a21-400d-9b69-414dda0b59a9"
      },
      "execution_count": null,
      "outputs": [
        {
          "output_type": "execute_result",
          "data": {
            "text/plain": [
              "MinMaxScaler()"
            ],
            "text/html": [
              "<style>#sk-container-id-2 {color: black;background-color: white;}#sk-container-id-2 pre{padding: 0;}#sk-container-id-2 div.sk-toggleable {background-color: white;}#sk-container-id-2 label.sk-toggleable__label {cursor: pointer;display: block;width: 100%;margin-bottom: 0;padding: 0.3em;box-sizing: border-box;text-align: center;}#sk-container-id-2 label.sk-toggleable__label-arrow:before {content: \"▸\";float: left;margin-right: 0.25em;color: #696969;}#sk-container-id-2 label.sk-toggleable__label-arrow:hover:before {color: black;}#sk-container-id-2 div.sk-estimator:hover label.sk-toggleable__label-arrow:before {color: black;}#sk-container-id-2 div.sk-toggleable__content {max-height: 0;max-width: 0;overflow: hidden;text-align: left;background-color: #f0f8ff;}#sk-container-id-2 div.sk-toggleable__content pre {margin: 0.2em;color: black;border-radius: 0.25em;background-color: #f0f8ff;}#sk-container-id-2 input.sk-toggleable__control:checked~div.sk-toggleable__content {max-height: 200px;max-width: 100%;overflow: auto;}#sk-container-id-2 input.sk-toggleable__control:checked~label.sk-toggleable__label-arrow:before {content: \"▾\";}#sk-container-id-2 div.sk-estimator input.sk-toggleable__control:checked~label.sk-toggleable__label {background-color: #d4ebff;}#sk-container-id-2 div.sk-label input.sk-toggleable__control:checked~label.sk-toggleable__label {background-color: #d4ebff;}#sk-container-id-2 input.sk-hidden--visually {border: 0;clip: rect(1px 1px 1px 1px);clip: rect(1px, 1px, 1px, 1px);height: 1px;margin: -1px;overflow: hidden;padding: 0;position: absolute;width: 1px;}#sk-container-id-2 div.sk-estimator {font-family: monospace;background-color: #f0f8ff;border: 1px dotted black;border-radius: 0.25em;box-sizing: border-box;margin-bottom: 0.5em;}#sk-container-id-2 div.sk-estimator:hover {background-color: #d4ebff;}#sk-container-id-2 div.sk-parallel-item::after {content: \"\";width: 100%;border-bottom: 1px solid gray;flex-grow: 1;}#sk-container-id-2 div.sk-label:hover label.sk-toggleable__label {background-color: #d4ebff;}#sk-container-id-2 div.sk-serial::before {content: \"\";position: absolute;border-left: 1px solid gray;box-sizing: border-box;top: 0;bottom: 0;left: 50%;z-index: 0;}#sk-container-id-2 div.sk-serial {display: flex;flex-direction: column;align-items: center;background-color: white;padding-right: 0.2em;padding-left: 0.2em;position: relative;}#sk-container-id-2 div.sk-item {position: relative;z-index: 1;}#sk-container-id-2 div.sk-parallel {display: flex;align-items: stretch;justify-content: center;background-color: white;position: relative;}#sk-container-id-2 div.sk-item::before, #sk-container-id-2 div.sk-parallel-item::before {content: \"\";position: absolute;border-left: 1px solid gray;box-sizing: border-box;top: 0;bottom: 0;left: 50%;z-index: -1;}#sk-container-id-2 div.sk-parallel-item {display: flex;flex-direction: column;z-index: 1;position: relative;background-color: white;}#sk-container-id-2 div.sk-parallel-item:first-child::after {align-self: flex-end;width: 50%;}#sk-container-id-2 div.sk-parallel-item:last-child::after {align-self: flex-start;width: 50%;}#sk-container-id-2 div.sk-parallel-item:only-child::after {width: 0;}#sk-container-id-2 div.sk-dashed-wrapped {border: 1px dashed gray;margin: 0 0.4em 0.5em 0.4em;box-sizing: border-box;padding-bottom: 0.4em;background-color: white;}#sk-container-id-2 div.sk-label label {font-family: monospace;font-weight: bold;display: inline-block;line-height: 1.2em;}#sk-container-id-2 div.sk-label-container {text-align: center;}#sk-container-id-2 div.sk-container {/* jupyter's `normalize.less` sets `[hidden] { display: none; }` but bootstrap.min.css set `[hidden] { display: none !important; }` so we also need the `!important` here to be able to override the default hidden behavior on the sphinx rendered scikit-learn.org. See: https://github.com/scikit-learn/scikit-learn/issues/21755 */display: inline-block !important;position: relative;}#sk-container-id-2 div.sk-text-repr-fallback {display: none;}</style><div id=\"sk-container-id-2\" class=\"sk-top-container\"><div class=\"sk-text-repr-fallback\"><pre>MinMaxScaler()</pre><b>In a Jupyter environment, please rerun this cell to show the HTML representation or trust the notebook. <br />On GitHub, the HTML representation is unable to render, please try loading this page with nbviewer.org.</b></div><div class=\"sk-container\" hidden><div class=\"sk-item\"><div class=\"sk-estimator sk-toggleable\"><input class=\"sk-toggleable__control sk-hidden--visually\" id=\"sk-estimator-id-2\" type=\"checkbox\" checked><label for=\"sk-estimator-id-2\" class=\"sk-toggleable__label sk-toggleable__label-arrow\">MinMaxScaler</label><div class=\"sk-toggleable__content\"><pre>MinMaxScaler()</pre></div></div></div></div></div>"
            ]
          },
          "metadata": {},
          "execution_count": 87
        }
      ]
    },
    {
      "cell_type": "code",
      "source": [
        "bitcoin_scaled"
      ],
      "metadata": {
        "colab": {
          "base_uri": "https://localhost:8080/"
        },
        "id": "wDu-1O2xYxC8",
        "outputId": "c0d1d333-e26f-4fba-9bf2-bcf414c06001"
      },
      "execution_count": null,
      "outputs": [
        {
          "output_type": "execute_result",
          "data": {
            "text/plain": [
              "array([[0.        ],\n",
              "       [0.07598477],\n",
              "       [0.09531119],\n",
              "       [0.07248227],\n",
              "       [0.12894768],\n",
              "       [0.20770057],\n",
              "       [0.2842665 ],\n",
              "       [0.32283219],\n",
              "       [0.30774333],\n",
              "       [0.25500483],\n",
              "       [0.18150652],\n",
              "       [0.13247805],\n",
              "       [0.23092594],\n",
              "       [0.28097966],\n",
              "       [0.22299625],\n",
              "       [0.20483632],\n",
              "       [0.1938871 ],\n",
              "       [0.21737461],\n",
              "       [0.19997983],\n",
              "       [0.18093385],\n",
              "       [0.05124242],\n",
              "       [0.11685171],\n",
              "       [0.09048754],\n",
              "       [0.09677102],\n",
              "       [0.09655373],\n",
              "       [0.1017778 ],\n",
              "       [0.04681787],\n",
              "       [0.13633725],\n",
              "       [0.16492864],\n",
              "       [0.16359692],\n",
              "       [0.13077062],\n",
              "       [0.14189026],\n",
              "       [0.19505429],\n",
              "       [0.25008621],\n",
              "       [0.24075555],\n",
              "       [0.27310009],\n",
              "       [0.30497161],\n",
              "       [0.29484997],\n",
              "       [0.501456  ],\n",
              "       [0.50200213],\n",
              "       [0.45323712],\n",
              "       [0.53285185],\n",
              "       [0.52290836],\n",
              "       [0.51169772],\n",
              "       [0.55694894],\n",
              "       [0.53278016],\n",
              "       [0.57436009],\n",
              "       [0.65557731],\n",
              "       [0.64384149],\n",
              "       [0.76062797],\n",
              "       [0.76657123],\n",
              "       [0.80653991],\n",
              "       [0.72249076],\n",
              "       [0.56725024],\n",
              "       [0.58838546],\n",
              "       [0.52960263],\n",
              "       [0.51434864],\n",
              "       [0.51002212],\n",
              "       [0.47999509],\n",
              "       [0.58026837],\n",
              "       [0.57321028],\n",
              "       [0.63881397],\n",
              "       [0.58912489],\n",
              "       [0.59251097],\n",
              "       [0.59208299],\n",
              "       [0.65774312],\n",
              "       [0.70395482],\n",
              "       [0.77233522],\n",
              "       [0.80801225],\n",
              "       [0.84965196],\n",
              "       [0.84560363],\n",
              "       [0.95859182],\n",
              "       [0.90221171],\n",
              "       [0.79861204],\n",
              "       [0.8219994 ],\n",
              "       [0.86837633],\n",
              "       [0.84543606],\n",
              "       [0.86448753],\n",
              "       [0.86353976],\n",
              "       [0.84088167],\n",
              "       [0.75011354],\n",
              "       [0.76599856],\n",
              "       [0.71254341],\n",
              "       [0.68133119],\n",
              "       [0.77164277],\n",
              "       [0.79564041],\n",
              "       [0.79498406],\n",
              "       [0.85203801],\n",
              "       [0.88666386],\n",
              "       [0.87903148],\n",
              "       [0.88539397],\n",
              "       [0.89477059],\n",
              "       [0.84363773],\n",
              "       [0.87680751],\n",
              "       [0.87828707],\n",
              "       [0.84383235],\n",
              "       [0.78341256],\n",
              "       [0.84512441],\n",
              "       [0.84922073],\n",
              "       [0.89315823],\n",
              "       [0.90804719],\n",
              "       [0.9027795 ],\n",
              "       [1.        ],\n",
              "       [0.98035237],\n",
              "       [0.98652157],\n",
              "       [0.93704784],\n",
              "       [0.91182972],\n",
              "       [0.78501475],\n",
              "       [0.76923619],\n",
              "       [0.79296244],\n",
              "       [0.71913397],\n",
              "       [0.66245502],\n",
              "       [0.63756797],\n",
              "       [0.60807366],\n",
              "       [0.57840709],\n",
              "       [0.71390705],\n",
              "       [0.74653264],\n",
              "       [0.73577183],\n",
              "       [0.6971976 ],\n",
              "       [0.83018614],\n",
              "       [0.83239872],\n",
              "       [0.7983857 ],\n",
              "       [0.8185459 ],\n",
              "       [0.7158032 ],\n",
              "       [0.83146987],\n",
              "       [0.79552358],\n",
              "       [0.81201361],\n",
              "       [0.8529627 ],\n",
              "       [0.83679724],\n",
              "       [0.77474069],\n",
              "       [0.80259743],\n",
              "       [0.60437928],\n",
              "       [0.61327119],\n",
              "       [0.61773814],\n",
              "       [0.52837941],\n",
              "       [0.51963626],\n",
              "       [0.44710392],\n",
              "       [0.41982645],\n",
              "       [0.25337448],\n",
              "       [0.35874604],\n",
              "       [0.25876449],\n",
              "       [0.26541392],\n",
              "       [0.18611521],\n",
              "       [0.29441285],\n",
              "       [0.28496993],\n",
              "       [0.30454434],\n",
              "       [0.28195305],\n",
              "       [0.20004175],\n",
              "       [0.16941867],\n",
              "       [0.19949176],\n",
              "       [0.24077203],\n",
              "       [0.22273849],\n",
              "       [0.25036594],\n",
              "       [0.30187074],\n",
              "       [0.23095533],\n",
              "       [0.19305291],\n",
              "       [0.2018173 ],\n",
              "       [0.13652638],\n",
              "       [0.14037796],\n",
              "       [0.25006811],\n",
              "       [0.22724672],\n",
              "       [0.24894891],\n",
              "       [0.19837377],\n",
              "       [0.29900222],\n",
              "       [0.33163126],\n",
              "       [0.3370111 ],\n",
              "       [0.29367932],\n",
              "       [0.28676165],\n",
              "       [0.22204777],\n",
              "       [0.2171022 ],\n",
              "       [0.21948032],\n",
              "       [0.10027475],\n",
              "       [0.12590945],\n",
              "       [0.16105429],\n",
              "       [0.18654725],\n",
              "       [0.09593154],\n",
              "       [0.11164981],\n",
              "       [0.18225265],\n",
              "       [0.17842751],\n",
              "       [0.22095459],\n",
              "       [0.19636679],\n",
              "       [0.1574078 ],\n",
              "       [0.16363953],\n",
              "       [0.18581596],\n",
              "       [0.20361472],\n",
              "       [0.15915295],\n",
              "       [0.17891273],\n",
              "       [0.17169226],\n",
              "       [0.14812636],\n",
              "       [0.17328489],\n",
              "       [0.16520603],\n",
              "       [0.18606722],\n",
              "       [0.15188388],\n",
              "       [0.14502447],\n",
              "       [0.14412683],\n",
              "       [0.11117007],\n",
              "       [0.10185162],\n",
              "       [0.10509067],\n",
              "       [0.11277104],\n",
              "       [0.09097093],\n",
              "       [0.05950319],\n",
              "       [0.12766111],\n",
              "       [0.13465494],\n",
              "       [0.17279621],\n",
              "       [0.19361632],\n",
              "       [0.22459508],\n",
              "       [0.28321563],\n",
              "       [0.34574957],\n",
              "       [0.35891676],\n",
              "       [0.35134925],\n",
              "       [0.42604354],\n",
              "       [0.40820024],\n",
              "       [0.35984562],\n",
              "       [0.33578941],\n",
              "       [0.30324791],\n",
              "       [0.34625625],\n",
              "       [0.3769926 ],\n",
              "       [0.43651384],\n",
              "       [0.4874295 ],\n",
              "       [0.46510939],\n",
              "       [0.54104399],\n",
              "       [0.52592229],\n",
              "       [0.52660111],\n",
              "       [0.50275121],\n",
              "       [0.60148412],\n",
              "       [0.58090763],\n",
              "       [0.5794356 ],\n",
              "       [0.55337159],\n",
              "       [0.52706752],\n",
              "       [0.52252512],\n",
              "       [0.58633506],\n",
              "       [0.66308961],\n",
              "       [0.65033393],\n",
              "       [0.66276738],\n",
              "       [0.66112158],\n",
              "       [0.60144233],\n",
              "       [0.63840623],\n",
              "       [0.58662313],\n",
              "       [0.63881031],\n",
              "       [0.63419308],\n",
              "       [0.63205015],\n",
              "       [0.58460791],\n",
              "       [0.57941008]])"
            ]
          },
          "metadata": {},
          "execution_count": 19
        }
      ]
    },
    {
      "cell_type": "markdown",
      "source": [
        "## 3. 입력데이터와 타켓 데이터 생성"
      ],
      "metadata": {
        "id": "Qkq5zpfNUib1"
      }
    },
    {
      "cell_type": "code",
      "source": [
        "# 입력 데이터와 타겟 데이터 생성\n",
        "window_size = 15   # windw_size : 과거 기간의 주가 데이터에 기반하여 다음날의 종가를 예측할 것인가를 정하는 parameter(파라미터) 이다. 15일을 기반으로 내일데이터를 예측한다.\n",
        "slide_step = 1    # 1만큼 전진하면서 그래프로 보여준다.\n",
        "\n",
        "X = []\n",
        "y = []\n",
        "for i in range(len(bitcoin_scaled) - window_size):   # 위에서 정의내린 bitcoin_scaled의 길이- window_size 만큼 범위로 잡았다.\n",
        "    X.append(bitcoin_scaled[i:i+window_size])        # append() : 괄호( )안에 값을 입력하면 새로운 요소를 array 맨 끝에 객체로 추가한다. bitcoin_scaled 에서 i부터 i+ window_size 까지 추가를 한다.\n",
        "    y.append(bitcoin_scaled[i+window_size])          # append() : 괄호( )안에 값을 입력하면 새로운 요소를 array 맨 끝에 객체로 추가한다. bitcoin_scaled 에서 i+ window_size 까지 추가를 한다.\n",
        "\n",
        "X = np.array(X)  # 넘파이의 array 함수에 X값을 입력값으로 갖고, X라는 변수로 지칭한다.\n",
        "y = np.array(y)"
      ],
      "metadata": {
        "id": "Sw0XHRPGUkpN"
      },
      "execution_count": null,
      "outputs": []
    },
    {
      "cell_type": "code",
      "source": [
        "X"
      ],
      "metadata": {
        "colab": {
          "base_uri": "https://localhost:8080/"
        },
        "id": "xUW5RU89YrMa",
        "outputId": "a4ef488c-f728-4403-c5da-57d16f918d70"
      },
      "execution_count": null,
      "outputs": [
        {
          "output_type": "execute_result",
          "data": {
            "text/plain": [
              "array([[[0.        ],\n",
              "        [0.07598477],\n",
              "        [0.09531119],\n",
              "        ...,\n",
              "        [0.23092594],\n",
              "        [0.28097966],\n",
              "        [0.22299625]],\n",
              "\n",
              "       [[0.07598477],\n",
              "        [0.09531119],\n",
              "        [0.07248227],\n",
              "        ...,\n",
              "        [0.28097966],\n",
              "        [0.22299625],\n",
              "        [0.20483632]],\n",
              "\n",
              "       [[0.09531119],\n",
              "        [0.07248227],\n",
              "        [0.12894768],\n",
              "        ...,\n",
              "        [0.22299625],\n",
              "        [0.20483632],\n",
              "        [0.1938871 ]],\n",
              "\n",
              "       ...,\n",
              "\n",
              "       [[0.58090763],\n",
              "        [0.5794356 ],\n",
              "        [0.55337159],\n",
              "        ...,\n",
              "        [0.58662313],\n",
              "        [0.63881031],\n",
              "        [0.63419308]],\n",
              "\n",
              "       [[0.5794356 ],\n",
              "        [0.55337159],\n",
              "        [0.52706752],\n",
              "        ...,\n",
              "        [0.63881031],\n",
              "        [0.63419308],\n",
              "        [0.63205015]],\n",
              "\n",
              "       [[0.55337159],\n",
              "        [0.52706752],\n",
              "        [0.52252512],\n",
              "        ...,\n",
              "        [0.63419308],\n",
              "        [0.63205015],\n",
              "        [0.58460791]]])"
            ]
          },
          "metadata": {},
          "execution_count": 15
        }
      ]
    },
    {
      "cell_type": "code",
      "source": [
        "y"
      ],
      "metadata": {
        "colab": {
          "base_uri": "https://localhost:8080/"
        },
        "id": "yVUA6de5YtD3",
        "outputId": "416790c7-3f97-4711-9051-074b9dbdb2e3"
      },
      "execution_count": null,
      "outputs": [
        {
          "output_type": "execute_result",
          "data": {
            "text/plain": [
              "array([[0.20483632],\n",
              "       [0.1938871 ],\n",
              "       [0.21737461],\n",
              "       [0.19997983],\n",
              "       [0.18093385],\n",
              "       [0.05124242],\n",
              "       [0.11685171],\n",
              "       [0.09048754],\n",
              "       [0.09677102],\n",
              "       [0.09655373],\n",
              "       [0.1017778 ],\n",
              "       [0.04681787],\n",
              "       [0.13633725],\n",
              "       [0.16492864],\n",
              "       [0.16359692],\n",
              "       [0.13077062],\n",
              "       [0.14189026],\n",
              "       [0.19505429],\n",
              "       [0.25008621],\n",
              "       [0.24075555],\n",
              "       [0.27310009],\n",
              "       [0.30497161],\n",
              "       [0.29484997],\n",
              "       [0.501456  ],\n",
              "       [0.50200213],\n",
              "       [0.45323712],\n",
              "       [0.53285185],\n",
              "       [0.52290836],\n",
              "       [0.51169772],\n",
              "       [0.55694894],\n",
              "       [0.53278016],\n",
              "       [0.57436009],\n",
              "       [0.65557731],\n",
              "       [0.64384149],\n",
              "       [0.76062797],\n",
              "       [0.76657123],\n",
              "       [0.80653991],\n",
              "       [0.72249076],\n",
              "       [0.56725024],\n",
              "       [0.58838546],\n",
              "       [0.52960263],\n",
              "       [0.51434864],\n",
              "       [0.51002212],\n",
              "       [0.47999509],\n",
              "       [0.58026837],\n",
              "       [0.57321028],\n",
              "       [0.63881397],\n",
              "       [0.58912489],\n",
              "       [0.59251097],\n",
              "       [0.59208299],\n",
              "       [0.65774312],\n",
              "       [0.70395482],\n",
              "       [0.77233522],\n",
              "       [0.80801225],\n",
              "       [0.84965196],\n",
              "       [0.84560363],\n",
              "       [0.95859182],\n",
              "       [0.90221171],\n",
              "       [0.79861204],\n",
              "       [0.8219994 ],\n",
              "       [0.86837633],\n",
              "       [0.84543606],\n",
              "       [0.86448753],\n",
              "       [0.86353976],\n",
              "       [0.84088167],\n",
              "       [0.75011354],\n",
              "       [0.76599856],\n",
              "       [0.71254341],\n",
              "       [0.68133119],\n",
              "       [0.77164277],\n",
              "       [0.79564041],\n",
              "       [0.79498406],\n",
              "       [0.85203801],\n",
              "       [0.88666386],\n",
              "       [0.87903148],\n",
              "       [0.88539397],\n",
              "       [0.89477059],\n",
              "       [0.84363773],\n",
              "       [0.87680751],\n",
              "       [0.87828707],\n",
              "       [0.84383235],\n",
              "       [0.78341256],\n",
              "       [0.84512441],\n",
              "       [0.84922073],\n",
              "       [0.89315823],\n",
              "       [0.90804719],\n",
              "       [0.9027795 ],\n",
              "       [1.        ],\n",
              "       [0.98035237],\n",
              "       [0.98652157],\n",
              "       [0.93704784],\n",
              "       [0.91182972],\n",
              "       [0.78501475],\n",
              "       [0.76923619],\n",
              "       [0.79296244],\n",
              "       [0.71913397],\n",
              "       [0.66245502],\n",
              "       [0.63756797],\n",
              "       [0.60807366],\n",
              "       [0.57840709],\n",
              "       [0.71390705],\n",
              "       [0.74653264],\n",
              "       [0.73577183],\n",
              "       [0.6971976 ],\n",
              "       [0.83018614],\n",
              "       [0.83239872],\n",
              "       [0.7983857 ],\n",
              "       [0.8185459 ],\n",
              "       [0.7158032 ],\n",
              "       [0.83146987],\n",
              "       [0.79552358],\n",
              "       [0.81201361],\n",
              "       [0.8529627 ],\n",
              "       [0.83679724],\n",
              "       [0.77474069],\n",
              "       [0.80259743],\n",
              "       [0.60437928],\n",
              "       [0.61327119],\n",
              "       [0.61773814],\n",
              "       [0.52837941],\n",
              "       [0.51963626],\n",
              "       [0.44710392],\n",
              "       [0.41982645],\n",
              "       [0.25337448],\n",
              "       [0.35874604],\n",
              "       [0.25876449],\n",
              "       [0.26541392],\n",
              "       [0.18611521],\n",
              "       [0.29441285],\n",
              "       [0.28496993],\n",
              "       [0.30454434],\n",
              "       [0.28195305],\n",
              "       [0.20004175],\n",
              "       [0.16941867],\n",
              "       [0.19949176],\n",
              "       [0.24077203],\n",
              "       [0.22273849],\n",
              "       [0.25036594],\n",
              "       [0.30187074],\n",
              "       [0.23095533],\n",
              "       [0.19305291],\n",
              "       [0.2018173 ],\n",
              "       [0.13652638],\n",
              "       [0.14037796],\n",
              "       [0.25006811],\n",
              "       [0.22724672],\n",
              "       [0.24894891],\n",
              "       [0.19837377],\n",
              "       [0.29900222],\n",
              "       [0.33163126],\n",
              "       [0.3370111 ],\n",
              "       [0.29367932],\n",
              "       [0.28676165],\n",
              "       [0.22204777],\n",
              "       [0.2171022 ],\n",
              "       [0.21948032],\n",
              "       [0.10027475],\n",
              "       [0.12590945],\n",
              "       [0.16105429],\n",
              "       [0.18654725],\n",
              "       [0.09593154],\n",
              "       [0.11164981],\n",
              "       [0.18225265],\n",
              "       [0.17842751],\n",
              "       [0.22095459],\n",
              "       [0.19636679],\n",
              "       [0.1574078 ],\n",
              "       [0.16363953],\n",
              "       [0.18581596],\n",
              "       [0.20361472],\n",
              "       [0.15915295],\n",
              "       [0.17891273],\n",
              "       [0.17169226],\n",
              "       [0.14812636],\n",
              "       [0.17328489],\n",
              "       [0.16520603],\n",
              "       [0.18606722],\n",
              "       [0.15188388],\n",
              "       [0.14502447],\n",
              "       [0.14412683],\n",
              "       [0.11117007],\n",
              "       [0.10185162],\n",
              "       [0.10509067],\n",
              "       [0.11277104],\n",
              "       [0.09097093],\n",
              "       [0.05950319],\n",
              "       [0.12766111],\n",
              "       [0.13465494],\n",
              "       [0.17279621],\n",
              "       [0.19361632],\n",
              "       [0.22459508],\n",
              "       [0.28321563],\n",
              "       [0.34574957],\n",
              "       [0.35891676],\n",
              "       [0.35134925],\n",
              "       [0.42604354],\n",
              "       [0.40820024],\n",
              "       [0.35984562],\n",
              "       [0.33578941],\n",
              "       [0.30324791],\n",
              "       [0.34625625],\n",
              "       [0.3769926 ],\n",
              "       [0.43651384],\n",
              "       [0.4874295 ],\n",
              "       [0.46510939],\n",
              "       [0.54104399],\n",
              "       [0.52592229],\n",
              "       [0.52660111],\n",
              "       [0.50275121],\n",
              "       [0.60148412],\n",
              "       [0.58090763],\n",
              "       [0.5794356 ],\n",
              "       [0.55337159],\n",
              "       [0.52706752],\n",
              "       [0.52252512],\n",
              "       [0.58633506],\n",
              "       [0.66308961],\n",
              "       [0.65033393],\n",
              "       [0.66276738],\n",
              "       [0.66112158],\n",
              "       [0.60144233],\n",
              "       [0.63840623],\n",
              "       [0.58662313],\n",
              "       [0.63881031],\n",
              "       [0.63419308],\n",
              "       [0.63205015],\n",
              "       [0.58460791],\n",
              "       [0.57941008]])"
            ]
          },
          "metadata": {},
          "execution_count": 16
        }
      ]
    },
    {
      "cell_type": "markdown",
      "source": [
        "## 4. 모델 생성"
      ],
      "metadata": {
        "id": "L2Ar_9UAUm_M"
      }
    },
    {
      "cell_type": "code",
      "source": [
        "# 모델 생성\n",
        "model = Sequential()   # 모델의 객체생성\n",
        "model.add(GRU(64, input_shape=(window_size, 1)))   # 64: 레이어의 출력차원, input_shape=입력 데이터의 형태를 정의를 의미한다.\n",
        "                                                   # window_size: 이전 데이터의 갯수만큼 비트코인 가격을 입력으로 받아들이고, 각각의 데이터가 1차원인것을 의미한다\n",
        "\n",
        "model.add(Dense(1))      # Dense 는 완전 연결 레이어(층)를 의미한다. 1은 출력의 차원을 의미\n",
        "\n",
        "model.compile(loss='mean_squared_error', optimizer='adam')   # compile() 함수를 이용하여 모델을 컴파일합니다\n",
        "                                                           # loss는 손실 함수를 의미한다.\n",
        "                                                   # mean_squared_error(MSE) 는 전체 에러를 표현하기 위해서 사용하는 식이고 오차의 제곱에 대해 평균을 취한 것이다.(수치가 작을 수록 원본과의 오차가 적은 것이다)\n",
        "                                                   # optimizer는  최적화 알고리즘을 정의하는 부분이다. adam(아담) 은 모멘텀+ AdaGrad(아다그라드) 을 합친 것이다\n",
        "                                                  # 모멘텀 : 기울기 방향으로 힘을 받아 물체가 가속된다는 물리법칙을 적용한것이다.\n",
        "                                                  # AdaGrad : 학습을 진행하면서 학습률을 점차 줄여가는 방법이다."
      ],
      "metadata": {
        "id": "9WN8ylZ2UokO"
      },
      "execution_count": null,
      "outputs": []
    },
    {
      "cell_type": "code",
      "source": [
        "model"
      ],
      "metadata": {
        "colab": {
          "base_uri": "https://localhost:8080/"
        },
        "id": "qHwcCBZYYopd",
        "outputId": "3af144d7-0dc3-4f8a-c37e-2d6161c98095"
      },
      "execution_count": null,
      "outputs": [
        {
          "output_type": "execute_result",
          "data": {
            "text/plain": [
              "<keras.engine.sequential.Sequential at 0x7ff09e949d20>"
            ]
          },
          "metadata": {},
          "execution_count": 14
        }
      ]
    },
    {
      "cell_type": "markdown",
      "source": [
        "## 5. 애니메이션 설정 및 저장"
      ],
      "metadata": {
        "id": "egwolho2UsM0"
      }
    },
    {
      "cell_type": "code",
      "source": [
        "# 애니메이션 설정\n",
        "fig, ax = plt.subplots(figsize=(10, 6))  #  plt.figure 메소드에 figsize 옵션을 설정한다, figsize=(가로길이, 세로길이)\n",
        "                                          # fig : 데이터가 담기는 프레임 (크기, 모양을 변형할수 있지만 실제로 프레임 위에 글씨를 쓸수없다)\n",
        "                                          # ax : 실제 데이터가 그려지는 캔버스 ,모든 plot은 이 ax 위애서 이루어져야 하는 것이다.\n",
        "\n",
        "line_actual, = ax.plot([], [], label='Actual')  # ax는 그래프를 그릴 축(Axes) 객체를 나타냅니다.\n",
        "                                                  # 쉼표(,)는 Python의 언패킹 기능을 나타냅니다. 이를 통해 ax.plot([], []) 함수의 반환값을 여러 변수에 동시에 할당할 수 있다.\n",
        "                                                  # 언패킹 : 여러개의 객체를 포함하고 있는 하나의 객체를 풀어준다.    <---->  패킹 : 여러개의 객체를 하나의 객체로 합쳐준다.\n",
        "                                                  # [ ] : 실제 데이터가 입력되기 전에 그래프를 초기화하는 용도이다.\n",
        "\n",
        "line_forecast, = ax.plot([], [], label='Forecast')\n",
        "line_vertical = ax.axvline(0, color='red', linestyle='--')  # axvline() : 세로선을 그릴수있다. axvline(x좌표=0 , color= 빨간색, linestyle= --)\n",
        "\n",
        "\n",
        "\n",
        "\n",
        "def init():\n",
        "    ax.set_xlabel('Date')  # 그래프 x축을 Date 로 지정\n",
        "    ax.set_ylabel('Value')  # 그래프 y축을 Value로 지정\n",
        "    ax.legend()  # 그래프의 범례출력\n",
        "    return line_actual, line_forecast, line_vertical\n",
        "\n",
        "def update(frame):\n",
        "    start_idx = frame\n",
        "    end_idx = frame + window_size\n",
        "\n",
        "    ax.set_xlim(bitcoin_df['ds'][0], bitcoin_df['ds'][len(bitcoin_df) - 1])  # ax 객체에 x 축의 범위를 설정, (ds 열에서 첫 번째 행의 값, ds 열에서 마지막 행의 값)을 가져오는 것을 말한다.\n",
        "\n",
        "    line_vertical.set_xdata(bitcoin_df['ds'][end_idx])  #line_vertical의 x 데이터를 변경한다. bitcoin_df의 y 열에서 end_idx에 해당하는 행의 값을 가져오는것이다.\n",
        "                                                        # 따라서 line_vertical의 x 데이터를 bitcoin_df['y'][end_idx]로 변경하는 것이다.\n",
        "    line_vertical.set_visible(True)  # 세로선을 표시하도록 설정\n",
        "\n",
        "    current_data = bitcoin_df.iloc[start_idx:end_idx]  # bitcoin_df에서 특정 범위의 행을 추출하여 current_data라는 새로운 데이터프레임을 생성한다.\n",
        "                                                        # iloc : 행과 열을 정수 인덱스를 사용하여 선택하기 위한 메서드이다.\n",
        "                                                        # iloc[start_idx:end_idx] : start_idx부터 end_idx 이전까지의 행을 선택하는 것을 의미합니다.\n",
        "\n",
        "    current_scaled = bitcoin_scaled[start_idx:end_idx] # bitcoin_scaled 배열에서 start_idx부터 end_idx 이전까지의 값들을 추출하여 current_scaled라는 새로운 배열을 생성한다.\n",
        "\n",
        "    # 모델 학습\n",
        "    model.fit(np.expand_dims(current_scaled, axis=0), np.expand_dims(y[frame], axis=0), epochs=1, batch_size=1)\n",
        "             # np.expand_dims(current_sclaed, axis=0) : 입력 데이터인 current_scaled의 차원을 확장하여 모델에 맞는 형태로 변환하는 역할을 하고, axis=0은 새로운 차원을 첫 번째 축에 추가한다.\n",
        "             # np.expand_dims(y[frame], axis=0) :  y[frame]의 차원을 확장하여 모델에 맞는 형태로 변환하고, axis=0은 새로운 차원을 첫번째 축에 추가한다.\n",
        "             # epochs=1 : 반복횟수가 1번이다.\n",
        "             # batch_size : 한 번의 반복마다 사용할 샘플의 개수를 지정하는 매개변수 ,학습을 수행할 때, 몇 개의 데이터를 한 번에 처리할지를 지정한다\n",
        "\n",
        "\n",
        "    # 예측\n",
        "    future = np.array([current_scaled[-window_size:]])  # current_scaled에서 마지막 window_size 개의 값을 추출하여 future라는 새로운 배열을 생성한다\n",
        "    predicted = model.predict(future)  # 입력 데이터 future에 대한 모델의 예측 값을 계산하여 predicted 변수에 할당한다.\n",
        "    predicted = scaler.inverse_transform(predicted)  #  예측된 값을 원래의 스케일로 변환하여 predicted 변수에 할당한다\n",
        "                                                    # scaler.inverse_transform() : 스케일된 데이터를 원래의 스케일로 되돌리는 역변환을 수행하는 메서드이다\n",
        "\n",
        "    line_actual.set_data(bitcoin_df['ds'][:end_idx], bitcoin_df['y'][:end_idx])  # line_actual의 데이터를 bitcoin_df의 ds와 y열에서 선택한 데이터로 설정하여 그래프의 선을 새로운 데이터로 업데이트하는 것이다\n",
        "    line_forecast.set_data(bitcoin_df['ds'][end_idx], predicted[0][0])  # line_forecast의 데이터를 bitcoin_df의 ds열에서 선택한 데이터와 predicted의 예측값으로 설정하여 그래프의 예측 선을 새로운 데이터로 업데이트 하는 것이다\n",
        "\n",
        "\n",
        "    ax.relim()  # 그래프의 데이터 제한을 재계산하여 그래프를 새로 그리지 않고도 최신의 데이터에 맞게 업데이트하는 역할을 한다\n",
        "    ax.autoscale_view()   # 그래프의 축 범위가 데이터에 따라 자동으로 조정\n",
        "\n",
        "    return line_actual, line_forecast, line_vertical\n",
        "\n",
        "def update_vertical(frame):  # line_vertical을 업데이트하는 함수 ,가상의 선을 그려주는 함수\n",
        "    start_idx = frame\n",
        "    end_idx = frame + window_size\n",
        "\n",
        "    line_vertical.set_xdata(bitcoin_df['ds'][end_idx])\n",
        "    line_vertical.set_visible(True)\n",
        "\n",
        "    return line_vertical,\n",
        "\n",
        "ani = FuncAnimation(fig, update, frames=range(len(bitcoin_df) - window_size),\n",
        "                    init_func=init, blit=True)\n",
        "\n",
        "# 애니메이션 저장\n",
        "ani.save('bitcoin_animation.mp4', writer='ffmpeg')\n",
        "\n",
        "# 애니메이션 표시\n",
        "plt.show()"
      ],
      "metadata": {
        "colab": {
          "base_uri": "https://localhost:8080/",
          "height": 1000
        },
        "id": "5R0hE3q7UxPU",
        "outputId": "05f1bf4a-091e-48ee-c577-92688e312787"
      },
      "execution_count": null,
      "outputs": [
        {
          "output_type": "stream",
          "name": "stderr",
          "text": [
            "<ipython-input-7-53af35328c47>:29: MatplotlibDeprecationWarning: Setting data with a non sequence type is deprecated since 3.7 and will be remove two minor releases later\n",
            "  line_vertical.set_xdata(bitcoin_df['ds'][end_idx])  #line_vertical의 x 데이터를 변경한다. bitcoin_df의 y 열에서 end_idx에 해당하는 행의 값을 가져오는것이다.\n"
          ]
        },
        {
          "output_type": "stream",
          "name": "stdout",
          "text": [
            "1/1 [==============================] - 2s 2s/step - loss: 0.0437\n",
            "1/1 [==============================] - 0s 443ms/step\n"
          ]
        },
        {
          "output_type": "stream",
          "name": "stderr",
          "text": [
            "<ipython-input-7-53af35328c47>:54: MatplotlibDeprecationWarning: Setting data with a non sequence type is deprecated since 3.7 and will be remove two minor releases later\n",
            "  line_forecast.set_data(bitcoin_df['ds'][end_idx], predicted[0][0])  # line_forecast의 데이터를 bitcoin_df의 ds열에서 선택한 데이터와 predicted의 예측값으로 설정하여 그래프의 예측 선을 새로운 데이터로 업데이트 하는 것이다\n",
            "<ipython-input-7-53af35328c47>:29: MatplotlibDeprecationWarning: Setting data with a non sequence type is deprecated since 3.7 and will be remove two minor releases later\n",
            "  line_vertical.set_xdata(bitcoin_df['ds'][end_idx])  #line_vertical의 x 데이터를 변경한다. bitcoin_df의 y 열에서 end_idx에 해당하는 행의 값을 가져오는것이다.\n"
          ]
        },
        {
          "output_type": "stream",
          "name": "stdout",
          "text": [
            "1/1 [==============================] - 0s 11ms/step - loss: 0.0288\n",
            "1/1 [==============================] - 0s 28ms/step\n"
          ]
        },
        {
          "output_type": "stream",
          "name": "stderr",
          "text": [
            "<ipython-input-7-53af35328c47>:54: MatplotlibDeprecationWarning: Setting data with a non sequence type is deprecated since 3.7 and will be remove two minor releases later\n",
            "  line_forecast.set_data(bitcoin_df['ds'][end_idx], predicted[0][0])  # line_forecast의 데이터를 bitcoin_df의 ds열에서 선택한 데이터와 predicted의 예측값으로 설정하여 그래프의 예측 선을 새로운 데이터로 업데이트 하는 것이다\n",
            "<ipython-input-7-53af35328c47>:29: MatplotlibDeprecationWarning: Setting data with a non sequence type is deprecated since 3.7 and will be remove two minor releases later\n",
            "  line_vertical.set_xdata(bitcoin_df['ds'][end_idx])  #line_vertical의 x 데이터를 변경한다. bitcoin_df의 y 열에서 end_idx에 해당하는 행의 값을 가져오는것이다.\n"
          ]
        },
        {
          "output_type": "stream",
          "name": "stdout",
          "text": [
            "1/1 [==============================] - 0s 11ms/step - loss: 0.0276\n",
            "1/1 [==============================] - 0s 25ms/step\n"
          ]
        },
        {
          "output_type": "stream",
          "name": "stderr",
          "text": [
            "<ipython-input-7-53af35328c47>:54: MatplotlibDeprecationWarning: Setting data with a non sequence type is deprecated since 3.7 and will be remove two minor releases later\n",
            "  line_forecast.set_data(bitcoin_df['ds'][end_idx], predicted[0][0])  # line_forecast의 데이터를 bitcoin_df의 ds열에서 선택한 데이터와 predicted의 예측값으로 설정하여 그래프의 예측 선을 새로운 데이터로 업데이트 하는 것이다\n",
            "<ipython-input-7-53af35328c47>:29: MatplotlibDeprecationWarning: Setting data with a non sequence type is deprecated since 3.7 and will be remove two minor releases later\n",
            "  line_vertical.set_xdata(bitcoin_df['ds'][end_idx])  #line_vertical의 x 데이터를 변경한다. bitcoin_df의 y 열에서 end_idx에 해당하는 행의 값을 가져오는것이다.\n"
          ]
        },
        {
          "output_type": "stream",
          "name": "stdout",
          "text": [
            "1/1 [==============================] - 0s 10ms/step - loss: 0.0150\n",
            "1/1 [==============================] - 0s 31ms/step\n",
            "1/1 [==============================] - 0s 9ms/step - loss: 0.0059\n"
          ]
        },
        {
          "output_type": "stream",
          "name": "stderr",
          "text": [
            "<ipython-input-7-53af35328c47>:54: MatplotlibDeprecationWarning: Setting data with a non sequence type is deprecated since 3.7 and will be remove two minor releases later\n",
            "  line_forecast.set_data(bitcoin_df['ds'][end_idx], predicted[0][0])  # line_forecast의 데이터를 bitcoin_df의 ds열에서 선택한 데이터와 predicted의 예측값으로 설정하여 그래프의 예측 선을 새로운 데이터로 업데이트 하는 것이다\n",
            "<ipython-input-7-53af35328c47>:29: MatplotlibDeprecationWarning: Setting data with a non sequence type is deprecated since 3.7 and will be remove two minor releases later\n",
            "  line_vertical.set_xdata(bitcoin_df['ds'][end_idx])  #line_vertical의 x 데이터를 변경한다. bitcoin_df의 y 열에서 end_idx에 해당하는 행의 값을 가져오는것이다.\n"
          ]
        },
        {
          "output_type": "stream",
          "name": "stdout",
          "text": [
            "1/1 [==============================] - 0s 23ms/step\n"
          ]
        },
        {
          "output_type": "stream",
          "name": "stderr",
          "text": [
            "<ipython-input-7-53af35328c47>:54: MatplotlibDeprecationWarning: Setting data with a non sequence type is deprecated since 3.7 and will be remove two minor releases later\n",
            "  line_forecast.set_data(bitcoin_df['ds'][end_idx], predicted[0][0])  # line_forecast의 데이터를 bitcoin_df의 ds열에서 선택한 데이터와 predicted의 예측값으로 설정하여 그래프의 예측 선을 새로운 데이터로 업데이트 하는 것이다\n",
            "<ipython-input-7-53af35328c47>:29: MatplotlibDeprecationWarning: Setting data with a non sequence type is deprecated since 3.7 and will be remove two minor releases later\n",
            "  line_vertical.set_xdata(bitcoin_df['ds'][end_idx])  #line_vertical의 x 데이터를 변경한다. bitcoin_df의 y 열에서 end_idx에 해당하는 행의 값을 가져오는것이다.\n"
          ]
        },
        {
          "output_type": "stream",
          "name": "stdout",
          "text": [
            "1/1 [==============================] - 0s 16ms/step - loss: 0.0060\n",
            "1/1 [==============================] - 0s 25ms/step\n"
          ]
        },
        {
          "output_type": "stream",
          "name": "stderr",
          "text": [
            "<ipython-input-7-53af35328c47>:54: MatplotlibDeprecationWarning: Setting data with a non sequence type is deprecated since 3.7 and will be remove two minor releases later\n",
            "  line_forecast.set_data(bitcoin_df['ds'][end_idx], predicted[0][0])  # line_forecast의 데이터를 bitcoin_df의 ds열에서 선택한 데이터와 predicted의 예측값으로 설정하여 그래프의 예측 선을 새로운 데이터로 업데이트 하는 것이다\n",
            "<ipython-input-7-53af35328c47>:29: MatplotlibDeprecationWarning: Setting data with a non sequence type is deprecated since 3.7 and will be remove two minor releases later\n",
            "  line_vertical.set_xdata(bitcoin_df['ds'][end_idx])  #line_vertical의 x 데이터를 변경한다. bitcoin_df의 y 열에서 end_idx에 해당하는 행의 값을 가져오는것이다.\n"
          ]
        },
        {
          "output_type": "stream",
          "name": "stdout",
          "text": [
            "1/1 [==============================] - 0s 9ms/step - loss: 6.1779e-04\n",
            "1/1 [==============================] - 0s 34ms/step\n",
            "1/1 [==============================] - ETA: 0s - loss: 0.0033"
          ]
        },
        {
          "output_type": "stream",
          "name": "stderr",
          "text": [
            "<ipython-input-7-53af35328c47>:54: MatplotlibDeprecationWarning: Setting data with a non sequence type is deprecated since 3.7 and will be remove two minor releases later\n",
            "  line_forecast.set_data(bitcoin_df['ds'][end_idx], predicted[0][0])  # line_forecast의 데이터를 bitcoin_df의 ds열에서 선택한 데이터와 predicted의 예측값으로 설정하여 그래프의 예측 선을 새로운 데이터로 업데이트 하는 것이다\n",
            "<ipython-input-7-53af35328c47>:29: MatplotlibDeprecationWarning: Setting data with a non sequence type is deprecated since 3.7 and will be remove two minor releases later\n",
            "  line_vertical.set_xdata(bitcoin_df['ds'][end_idx])  #line_vertical의 x 데이터를 변경한다. bitcoin_df의 y 열에서 end_idx에 해당하는 행의 값을 가져오는것이다.\n"
          ]
        },
        {
          "output_type": "stream",
          "name": "stdout",
          "text": [
            "1/1 [==============================] - 0s 15ms/step - loss: 0.0033\n",
            "1/1 [==============================] - 0s 28ms/step\n",
            "1/1 [==============================] - ETA: 0s - loss: 0.0030"
          ]
        },
        {
          "output_type": "stream",
          "name": "stderr",
          "text": [
            "<ipython-input-7-53af35328c47>:54: MatplotlibDeprecationWarning: Setting data with a non sequence type is deprecated since 3.7 and will be remove two minor releases later\n",
            "  line_forecast.set_data(bitcoin_df['ds'][end_idx], predicted[0][0])  # line_forecast의 데이터를 bitcoin_df의 ds열에서 선택한 데이터와 predicted의 예측값으로 설정하여 그래프의 예측 선을 새로운 데이터로 업데이트 하는 것이다\n",
            "<ipython-input-7-53af35328c47>:29: MatplotlibDeprecationWarning: Setting data with a non sequence type is deprecated since 3.7 and will be remove two minor releases later\n",
            "  line_vertical.set_xdata(bitcoin_df['ds'][end_idx])  #line_vertical의 x 데이터를 변경한다. bitcoin_df의 y 열에서 end_idx에 해당하는 행의 값을 가져오는것이다.\n"
          ]
        },
        {
          "output_type": "stream",
          "name": "stdout",
          "text": [
            "1/1 [==============================] - 0s 10ms/step - loss: 0.0030\n",
            "1/1 [==============================] - 0s 24ms/step\n"
          ]
        },
        {
          "output_type": "stream",
          "name": "stderr",
          "text": [
            "<ipython-input-7-53af35328c47>:54: MatplotlibDeprecationWarning: Setting data with a non sequence type is deprecated since 3.7 and will be remove two minor releases later\n",
            "  line_forecast.set_data(bitcoin_df['ds'][end_idx], predicted[0][0])  # line_forecast의 데이터를 bitcoin_df의 ds열에서 선택한 데이터와 predicted의 예측값으로 설정하여 그래프의 예측 선을 새로운 데이터로 업데이트 하는 것이다\n",
            "<ipython-input-7-53af35328c47>:29: MatplotlibDeprecationWarning: Setting data with a non sequence type is deprecated since 3.7 and will be remove two minor releases later\n",
            "  line_vertical.set_xdata(bitcoin_df['ds'][end_idx])  #line_vertical의 x 데이터를 변경한다. bitcoin_df의 y 열에서 end_idx에 해당하는 행의 값을 가져오는것이다.\n"
          ]
        },
        {
          "output_type": "stream",
          "name": "stdout",
          "text": [
            "1/1 [==============================] - 0s 9ms/step - loss: 0.0031\n",
            "1/1 [==============================] - 0s 23ms/step\n"
          ]
        },
        {
          "output_type": "stream",
          "name": "stderr",
          "text": [
            "<ipython-input-7-53af35328c47>:54: MatplotlibDeprecationWarning: Setting data with a non sequence type is deprecated since 3.7 and will be remove two minor releases later\n",
            "  line_forecast.set_data(bitcoin_df['ds'][end_idx], predicted[0][0])  # line_forecast의 데이터를 bitcoin_df의 ds열에서 선택한 데이터와 predicted의 예측값으로 설정하여 그래프의 예측 선을 새로운 데이터로 업데이트 하는 것이다\n",
            "<ipython-input-7-53af35328c47>:29: MatplotlibDeprecationWarning: Setting data with a non sequence type is deprecated since 3.7 and will be remove two minor releases later\n",
            "  line_vertical.set_xdata(bitcoin_df['ds'][end_idx])  #line_vertical의 x 데이터를 변경한다. bitcoin_df의 y 열에서 end_idx에 해당하는 행의 값을 가져오는것이다.\n"
          ]
        },
        {
          "output_type": "stream",
          "name": "stdout",
          "text": [
            "1/1 [==============================] - 0s 14ms/step - loss: 0.0025\n",
            "1/1 [==============================] - 0s 24ms/step\n"
          ]
        },
        {
          "output_type": "stream",
          "name": "stderr",
          "text": [
            "<ipython-input-7-53af35328c47>:54: MatplotlibDeprecationWarning: Setting data with a non sequence type is deprecated since 3.7 and will be remove two minor releases later\n",
            "  line_forecast.set_data(bitcoin_df['ds'][end_idx], predicted[0][0])  # line_forecast의 데이터를 bitcoin_df의 ds열에서 선택한 데이터와 predicted의 예측값으로 설정하여 그래프의 예측 선을 새로운 데이터로 업데이트 하는 것이다\n",
            "<ipython-input-7-53af35328c47>:29: MatplotlibDeprecationWarning: Setting data with a non sequence type is deprecated since 3.7 and will be remove two minor releases later\n",
            "  line_vertical.set_xdata(bitcoin_df['ds'][end_idx])  #line_vertical의 x 데이터를 변경한다. bitcoin_df의 y 열에서 end_idx에 해당하는 행의 값을 가져오는것이다.\n"
          ]
        },
        {
          "output_type": "stream",
          "name": "stdout",
          "text": [
            "1/1 [==============================] - 0s 11ms/step - loss: 0.0108\n",
            "1/1 [==============================] - 0s 25ms/step\n"
          ]
        },
        {
          "output_type": "stream",
          "name": "stderr",
          "text": [
            "<ipython-input-7-53af35328c47>:54: MatplotlibDeprecationWarning: Setting data with a non sequence type is deprecated since 3.7 and will be remove two minor releases later\n",
            "  line_forecast.set_data(bitcoin_df['ds'][end_idx], predicted[0][0])  # line_forecast의 데이터를 bitcoin_df의 ds열에서 선택한 데이터와 predicted의 예측값으로 설정하여 그래프의 예측 선을 새로운 데이터로 업데이트 하는 것이다\n",
            "<ipython-input-7-53af35328c47>:29: MatplotlibDeprecationWarning: Setting data with a non sequence type is deprecated since 3.7 and will be remove two minor releases later\n",
            "  line_vertical.set_xdata(bitcoin_df['ds'][end_idx])  #line_vertical의 x 데이터를 변경한다. bitcoin_df의 y 열에서 end_idx에 해당하는 행의 값을 가져오는것이다.\n"
          ]
        },
        {
          "output_type": "stream",
          "name": "stdout",
          "text": [
            "1/1 [==============================] - 0s 12ms/step - loss: 7.3550e-05\n",
            "1/1 [==============================] - 0s 24ms/step\n"
          ]
        },
        {
          "output_type": "stream",
          "name": "stderr",
          "text": [
            "<ipython-input-7-53af35328c47>:54: MatplotlibDeprecationWarning: Setting data with a non sequence type is deprecated since 3.7 and will be remove two minor releases later\n",
            "  line_forecast.set_data(bitcoin_df['ds'][end_idx], predicted[0][0])  # line_forecast의 데이터를 bitcoin_df의 ds열에서 선택한 데이터와 predicted의 예측값으로 설정하여 그래프의 예측 선을 새로운 데이터로 업데이트 하는 것이다\n",
            "<ipython-input-7-53af35328c47>:29: MatplotlibDeprecationWarning: Setting data with a non sequence type is deprecated since 3.7 and will be remove two minor releases later\n",
            "  line_vertical.set_xdata(bitcoin_df['ds'][end_idx])  #line_vertical의 x 데이터를 변경한다. bitcoin_df의 y 열에서 end_idx에 해당하는 행의 값을 가져오는것이다.\n"
          ]
        },
        {
          "output_type": "stream",
          "name": "stdout",
          "text": [
            "1/1 [==============================] - 0s 10ms/step - loss: 5.5924e-04\n",
            "1/1 [==============================] - 0s 23ms/step\n"
          ]
        },
        {
          "output_type": "stream",
          "name": "stderr",
          "text": [
            "<ipython-input-7-53af35328c47>:54: MatplotlibDeprecationWarning: Setting data with a non sequence type is deprecated since 3.7 and will be remove two minor releases later\n",
            "  line_forecast.set_data(bitcoin_df['ds'][end_idx], predicted[0][0])  # line_forecast의 데이터를 bitcoin_df의 ds열에서 선택한 데이터와 predicted의 예측값으로 설정하여 그래프의 예측 선을 새로운 데이터로 업데이트 하는 것이다\n",
            "<ipython-input-7-53af35328c47>:29: MatplotlibDeprecationWarning: Setting data with a non sequence type is deprecated since 3.7 and will be remove two minor releases later\n",
            "  line_vertical.set_xdata(bitcoin_df['ds'][end_idx])  #line_vertical의 x 데이터를 변경한다. bitcoin_df의 y 열에서 end_idx에 해당하는 행의 값을 가져오는것이다.\n"
          ]
        },
        {
          "output_type": "stream",
          "name": "stdout",
          "text": [
            "1/1 [==============================] - 0s 15ms/step - loss: 3.8285e-04\n",
            "1/1 [==============================] - 0s 24ms/step\n"
          ]
        },
        {
          "output_type": "stream",
          "name": "stderr",
          "text": [
            "<ipython-input-7-53af35328c47>:54: MatplotlibDeprecationWarning: Setting data with a non sequence type is deprecated since 3.7 and will be remove two minor releases later\n",
            "  line_forecast.set_data(bitcoin_df['ds'][end_idx], predicted[0][0])  # line_forecast의 데이터를 bitcoin_df의 ds열에서 선택한 데이터와 predicted의 예측값으로 설정하여 그래프의 예측 선을 새로운 데이터로 업데이트 하는 것이다\n",
            "<ipython-input-7-53af35328c47>:29: MatplotlibDeprecationWarning: Setting data with a non sequence type is deprecated since 3.7 and will be remove two minor releases later\n",
            "  line_vertical.set_xdata(bitcoin_df['ds'][end_idx])  #line_vertical의 x 데이터를 변경한다. bitcoin_df의 y 열에서 end_idx에 해당하는 행의 값을 가져오는것이다.\n"
          ]
        },
        {
          "output_type": "stream",
          "name": "stdout",
          "text": [
            "1/1 [==============================] - 0s 13ms/step - loss: 3.2093e-04\n",
            "1/1 [==============================] - 0s 23ms/step\n",
            "1/1 [==============================] - ETA: 0s - loss: 6.5402e-05"
          ]
        },
        {
          "output_type": "stream",
          "name": "stderr",
          "text": [
            "<ipython-input-7-53af35328c47>:54: MatplotlibDeprecationWarning: Setting data with a non sequence type is deprecated since 3.7 and will be remove two minor releases later\n",
            "  line_forecast.set_data(bitcoin_df['ds'][end_idx], predicted[0][0])  # line_forecast의 데이터를 bitcoin_df의 ds열에서 선택한 데이터와 predicted의 예측값으로 설정하여 그래프의 예측 선을 새로운 데이터로 업데이트 하는 것이다\n",
            "<ipython-input-7-53af35328c47>:29: MatplotlibDeprecationWarning: Setting data with a non sequence type is deprecated since 3.7 and will be remove two minor releases later\n",
            "  line_vertical.set_xdata(bitcoin_df['ds'][end_idx])  #line_vertical의 x 데이터를 변경한다. bitcoin_df의 y 열에서 end_idx에 해당하는 행의 값을 가져오는것이다.\n"
          ]
        },
        {
          "output_type": "stream",
          "name": "stdout",
          "text": [
            "1/1 [==============================] - 0s 19ms/step - loss: 6.5402e-05\n",
            "1/1 [==============================] - 0s 36ms/step\n"
          ]
        },
        {
          "output_type": "stream",
          "name": "stderr",
          "text": [
            "<ipython-input-7-53af35328c47>:54: MatplotlibDeprecationWarning: Setting data with a non sequence type is deprecated since 3.7 and will be remove two minor releases later\n",
            "  line_forecast.set_data(bitcoin_df['ds'][end_idx], predicted[0][0])  # line_forecast의 데이터를 bitcoin_df의 ds열에서 선택한 데이터와 predicted의 예측값으로 설정하여 그래프의 예측 선을 새로운 데이터로 업데이트 하는 것이다\n"
          ]
        },
        {
          "output_type": "stream",
          "name": "stdout",
          "text": [
            "1/1 [==============================] - 0s 17ms/step - loss: 0.0021\n"
          ]
        },
        {
          "output_type": "stream",
          "name": "stderr",
          "text": [
            "<ipython-input-7-53af35328c47>:29: MatplotlibDeprecationWarning: Setting data with a non sequence type is deprecated since 3.7 and will be remove two minor releases later\n",
            "  line_vertical.set_xdata(bitcoin_df['ds'][end_idx])  #line_vertical의 x 데이터를 변경한다. bitcoin_df의 y 열에서 end_idx에 해당하는 행의 값을 가져오는것이다.\n"
          ]
        },
        {
          "output_type": "stream",
          "name": "stdout",
          "text": [
            "1/1 [==============================] - 0s 42ms/step\n"
          ]
        },
        {
          "output_type": "stream",
          "name": "stderr",
          "text": [
            "<ipython-input-7-53af35328c47>:54: MatplotlibDeprecationWarning: Setting data with a non sequence type is deprecated since 3.7 and will be remove two minor releases later\n",
            "  line_forecast.set_data(bitcoin_df['ds'][end_idx], predicted[0][0])  # line_forecast의 데이터를 bitcoin_df의 ds열에서 선택한 데이터와 predicted의 예측값으로 설정하여 그래프의 예측 선을 새로운 데이터로 업데이트 하는 것이다\n"
          ]
        },
        {
          "output_type": "stream",
          "name": "stdout",
          "text": [
            "1/1 [==============================] - 0s 16ms/step - loss: 0.0096\n"
          ]
        },
        {
          "output_type": "stream",
          "name": "stderr",
          "text": [
            "<ipython-input-7-53af35328c47>:29: MatplotlibDeprecationWarning: Setting data with a non sequence type is deprecated since 3.7 and will be remove two minor releases later\n",
            "  line_vertical.set_xdata(bitcoin_df['ds'][end_idx])  #line_vertical의 x 데이터를 변경한다. bitcoin_df의 y 열에서 end_idx에 해당하는 행의 값을 가져오는것이다.\n"
          ]
        },
        {
          "output_type": "stream",
          "name": "stdout",
          "text": [
            "1/1 [==============================] - 0s 40ms/step\n"
          ]
        },
        {
          "output_type": "stream",
          "name": "stderr",
          "text": [
            "<ipython-input-7-53af35328c47>:54: MatplotlibDeprecationWarning: Setting data with a non sequence type is deprecated since 3.7 and will be remove two minor releases later\n",
            "  line_forecast.set_data(bitcoin_df['ds'][end_idx], predicted[0][0])  # line_forecast의 데이터를 bitcoin_df의 ds열에서 선택한 데이터와 predicted의 예측값으로 설정하여 그래프의 예측 선을 새로운 데이터로 업데이트 하는 것이다\n"
          ]
        },
        {
          "output_type": "stream",
          "name": "stdout",
          "text": [
            "1/1 [==============================] - 0s 14ms/step - loss: 0.0061\n"
          ]
        },
        {
          "output_type": "stream",
          "name": "stderr",
          "text": [
            "<ipython-input-7-53af35328c47>:29: MatplotlibDeprecationWarning: Setting data with a non sequence type is deprecated since 3.7 and will be remove two minor releases later\n",
            "  line_vertical.set_xdata(bitcoin_df['ds'][end_idx])  #line_vertical의 x 데이터를 변경한다. bitcoin_df의 y 열에서 end_idx에 해당하는 행의 값을 가져오는것이다.\n"
          ]
        },
        {
          "output_type": "stream",
          "name": "stdout",
          "text": [
            "1/1 [==============================] - 0s 46ms/step\n"
          ]
        },
        {
          "output_type": "stream",
          "name": "stderr",
          "text": [
            "<ipython-input-7-53af35328c47>:54: MatplotlibDeprecationWarning: Setting data with a non sequence type is deprecated since 3.7 and will be remove two minor releases later\n",
            "  line_forecast.set_data(bitcoin_df['ds'][end_idx], predicted[0][0])  # line_forecast의 데이터를 bitcoin_df의 ds열에서 선택한 데이터와 predicted의 예측값으로 설정하여 그래프의 예측 선을 새로운 데이터로 업데이트 하는 것이다\n"
          ]
        },
        {
          "output_type": "stream",
          "name": "stdout",
          "text": [
            "1/1 [==============================] - 0s 19ms/step - loss: 0.0094\n"
          ]
        },
        {
          "output_type": "stream",
          "name": "stderr",
          "text": [
            "<ipython-input-7-53af35328c47>:29: MatplotlibDeprecationWarning: Setting data with a non sequence type is deprecated since 3.7 and will be remove two minor releases later\n",
            "  line_vertical.set_xdata(bitcoin_df['ds'][end_idx])  #line_vertical의 x 데이터를 변경한다. bitcoin_df의 y 열에서 end_idx에 해당하는 행의 값을 가져오는것이다.\n"
          ]
        },
        {
          "output_type": "stream",
          "name": "stdout",
          "text": [
            "1/1 [==============================] - 0s 35ms/step\n"
          ]
        },
        {
          "output_type": "stream",
          "name": "stderr",
          "text": [
            "<ipython-input-7-53af35328c47>:54: MatplotlibDeprecationWarning: Setting data with a non sequence type is deprecated since 3.7 and will be remove two minor releases later\n",
            "  line_forecast.set_data(bitcoin_df['ds'][end_idx], predicted[0][0])  # line_forecast의 데이터를 bitcoin_df의 ds열에서 선택한 데이터와 predicted의 예측값으로 설정하여 그래프의 예측 선을 새로운 데이터로 업데이트 하는 것이다\n"
          ]
        },
        {
          "output_type": "stream",
          "name": "stdout",
          "text": [
            "1/1 [==============================] - 0s 14ms/step - loss: 0.0126\n"
          ]
        },
        {
          "output_type": "stream",
          "name": "stderr",
          "text": [
            "<ipython-input-7-53af35328c47>:29: MatplotlibDeprecationWarning: Setting data with a non sequence type is deprecated since 3.7 and will be remove two minor releases later\n",
            "  line_vertical.set_xdata(bitcoin_df['ds'][end_idx])  #line_vertical의 x 데이터를 변경한다. bitcoin_df의 y 열에서 end_idx에 해당하는 행의 값을 가져오는것이다.\n"
          ]
        },
        {
          "output_type": "stream",
          "name": "stdout",
          "text": [
            "1/1 [==============================] - 0s 44ms/step\n"
          ]
        },
        {
          "output_type": "stream",
          "name": "stderr",
          "text": [
            "<ipython-input-7-53af35328c47>:54: MatplotlibDeprecationWarning: Setting data with a non sequence type is deprecated since 3.7 and will be remove two minor releases later\n",
            "  line_forecast.set_data(bitcoin_df['ds'][end_idx], predicted[0][0])  # line_forecast의 데이터를 bitcoin_df의 ds열에서 선택한 데이터와 predicted의 예측값으로 설정하여 그래프의 예측 선을 새로운 데이터로 업데이트 하는 것이다\n"
          ]
        },
        {
          "output_type": "stream",
          "name": "stdout",
          "text": [
            "1/1 [==============================] - 0s 17ms/step - loss: 0.0067\n"
          ]
        },
        {
          "output_type": "stream",
          "name": "stderr",
          "text": [
            "<ipython-input-7-53af35328c47>:29: MatplotlibDeprecationWarning: Setting data with a non sequence type is deprecated since 3.7 and will be remove two minor releases later\n",
            "  line_vertical.set_xdata(bitcoin_df['ds'][end_idx])  #line_vertical의 x 데이터를 변경한다. bitcoin_df의 y 열에서 end_idx에 해당하는 행의 값을 가져오는것이다.\n"
          ]
        },
        {
          "output_type": "stream",
          "name": "stdout",
          "text": [
            "1/1 [==============================] - 0s 52ms/step\n"
          ]
        },
        {
          "output_type": "stream",
          "name": "stderr",
          "text": [
            "<ipython-input-7-53af35328c47>:54: MatplotlibDeprecationWarning: Setting data with a non sequence type is deprecated since 3.7 and will be remove two minor releases later\n",
            "  line_forecast.set_data(bitcoin_df['ds'][end_idx], predicted[0][0])  # line_forecast의 데이터를 bitcoin_df의 ds열에서 선택한 데이터와 predicted의 예측값으로 설정하여 그래프의 예측 선을 새로운 데이터로 업데이트 하는 것이다\n"
          ]
        },
        {
          "output_type": "stream",
          "name": "stdout",
          "text": [
            "1/1 [==============================] - 0s 12ms/step - loss: 0.0711\n",
            "1/1 [==============================] - 0s 33ms/step\n"
          ]
        },
        {
          "output_type": "stream",
          "name": "stderr",
          "text": [
            "<ipython-input-7-53af35328c47>:29: MatplotlibDeprecationWarning: Setting data with a non sequence type is deprecated since 3.7 and will be remove two minor releases later\n",
            "  line_vertical.set_xdata(bitcoin_df['ds'][end_idx])  #line_vertical의 x 데이터를 변경한다. bitcoin_df의 y 열에서 end_idx에 해당하는 행의 값을 가져오는것이다.\n",
            "<ipython-input-7-53af35328c47>:54: MatplotlibDeprecationWarning: Setting data with a non sequence type is deprecated since 3.7 and will be remove two minor releases later\n",
            "  line_forecast.set_data(bitcoin_df['ds'][end_idx], predicted[0][0])  # line_forecast의 데이터를 bitcoin_df의 ds열에서 선택한 데이터와 predicted의 예측값으로 설정하여 그래프의 예측 선을 새로운 데이터로 업데이트 하는 것이다\n"
          ]
        },
        {
          "output_type": "stream",
          "name": "stdout",
          "text": [
            "1/1 [==============================] - 0s 15ms/step - loss: 0.0511\n",
            "1/1 [==============================] - 0s 32ms/step\n"
          ]
        },
        {
          "output_type": "stream",
          "name": "stderr",
          "text": [
            "<ipython-input-7-53af35328c47>:29: MatplotlibDeprecationWarning: Setting data with a non sequence type is deprecated since 3.7 and will be remove two minor releases later\n",
            "  line_vertical.set_xdata(bitcoin_df['ds'][end_idx])  #line_vertical의 x 데이터를 변경한다. bitcoin_df의 y 열에서 end_idx에 해당하는 행의 값을 가져오는것이다.\n",
            "<ipython-input-7-53af35328c47>:54: MatplotlibDeprecationWarning: Setting data with a non sequence type is deprecated since 3.7 and will be remove two minor releases later\n",
            "  line_forecast.set_data(bitcoin_df['ds'][end_idx], predicted[0][0])  # line_forecast의 데이터를 bitcoin_df의 ds열에서 선택한 데이터와 predicted의 예측값으로 설정하여 그래프의 예측 선을 새로운 데이터로 업데이트 하는 것이다\n"
          ]
        },
        {
          "output_type": "stream",
          "name": "stdout",
          "text": [
            "1/1 [==============================] - 0s 18ms/step - loss: 0.0154\n"
          ]
        },
        {
          "output_type": "stream",
          "name": "stderr",
          "text": [
            "<ipython-input-7-53af35328c47>:29: MatplotlibDeprecationWarning: Setting data with a non sequence type is deprecated since 3.7 and will be remove two minor releases later\n",
            "  line_vertical.set_xdata(bitcoin_df['ds'][end_idx])  #line_vertical의 x 데이터를 변경한다. bitcoin_df의 y 열에서 end_idx에 해당하는 행의 값을 가져오는것이다.\n"
          ]
        },
        {
          "output_type": "stream",
          "name": "stdout",
          "text": [
            "1/1 [==============================] - 0s 38ms/step\n"
          ]
        },
        {
          "output_type": "stream",
          "name": "stderr",
          "text": [
            "<ipython-input-7-53af35328c47>:54: MatplotlibDeprecationWarning: Setting data with a non sequence type is deprecated since 3.7 and will be remove two minor releases later\n",
            "  line_forecast.set_data(bitcoin_df['ds'][end_idx], predicted[0][0])  # line_forecast의 데이터를 bitcoin_df의 ds열에서 선택한 데이터와 predicted의 예측값으로 설정하여 그래프의 예측 선을 새로운 데이터로 업데이트 하는 것이다\n"
          ]
        },
        {
          "output_type": "stream",
          "name": "stdout",
          "text": [
            "1/1 [==============================] - 0s 13ms/step - loss: 0.0238\n"
          ]
        },
        {
          "output_type": "stream",
          "name": "stderr",
          "text": [
            "<ipython-input-7-53af35328c47>:29: MatplotlibDeprecationWarning: Setting data with a non sequence type is deprecated since 3.7 and will be remove two minor releases later\n",
            "  line_vertical.set_xdata(bitcoin_df['ds'][end_idx])  #line_vertical의 x 데이터를 변경한다. bitcoin_df의 y 열에서 end_idx에 해당하는 행의 값을 가져오는것이다.\n"
          ]
        },
        {
          "output_type": "stream",
          "name": "stdout",
          "text": [
            "1/1 [==============================] - 0s 39ms/step\n"
          ]
        },
        {
          "output_type": "stream",
          "name": "stderr",
          "text": [
            "<ipython-input-7-53af35328c47>:54: MatplotlibDeprecationWarning: Setting data with a non sequence type is deprecated since 3.7 and will be remove two minor releases later\n",
            "  line_forecast.set_data(bitcoin_df['ds'][end_idx], predicted[0][0])  # line_forecast의 데이터를 bitcoin_df의 ds열에서 선택한 데이터와 predicted의 예측값으로 설정하여 그래프의 예측 선을 새로운 데이터로 업데이트 하는 것이다\n",
            "<ipython-input-7-53af35328c47>:29: MatplotlibDeprecationWarning: Setting data with a non sequence type is deprecated since 3.7 and will be remove two minor releases later\n",
            "  line_vertical.set_xdata(bitcoin_df['ds'][end_idx])  #line_vertical의 x 데이터를 변경한다. bitcoin_df의 y 열에서 end_idx에 해당하는 행의 값을 가져오는것이다.\n"
          ]
        },
        {
          "output_type": "stream",
          "name": "stdout",
          "text": [
            "1/1 [==============================] - 0s 11ms/step - loss: 0.0080\n",
            "1/1 [==============================] - 0s 24ms/step\n",
            "1/1 [==============================] - 0s 10ms/step - loss: 4.1869e-04\n"
          ]
        },
        {
          "output_type": "stream",
          "name": "stderr",
          "text": [
            "<ipython-input-7-53af35328c47>:54: MatplotlibDeprecationWarning: Setting data with a non sequence type is deprecated since 3.7 and will be remove two minor releases later\n",
            "  line_forecast.set_data(bitcoin_df['ds'][end_idx], predicted[0][0])  # line_forecast의 데이터를 bitcoin_df의 ds열에서 선택한 데이터와 predicted의 예측값으로 설정하여 그래프의 예측 선을 새로운 데이터로 업데이트 하는 것이다\n",
            "<ipython-input-7-53af35328c47>:29: MatplotlibDeprecationWarning: Setting data with a non sequence type is deprecated since 3.7 and will be remove two minor releases later\n",
            "  line_vertical.set_xdata(bitcoin_df['ds'][end_idx])  #line_vertical의 x 데이터를 변경한다. bitcoin_df의 y 열에서 end_idx에 해당하는 행의 값을 가져오는것이다.\n"
          ]
        },
        {
          "output_type": "stream",
          "name": "stdout",
          "text": [
            "1/1 [==============================] - 0s 24ms/step\n",
            "1/1 [==============================] - 0s 10ms/step - loss: 1.4968e-04\n"
          ]
        },
        {
          "output_type": "stream",
          "name": "stderr",
          "text": [
            "<ipython-input-7-53af35328c47>:54: MatplotlibDeprecationWarning: Setting data with a non sequence type is deprecated since 3.7 and will be remove two minor releases later\n",
            "  line_forecast.set_data(bitcoin_df['ds'][end_idx], predicted[0][0])  # line_forecast의 데이터를 bitcoin_df의 ds열에서 선택한 데이터와 predicted의 예측값으로 설정하여 그래프의 예측 선을 새로운 데이터로 업데이트 하는 것이다\n",
            "<ipython-input-7-53af35328c47>:29: MatplotlibDeprecationWarning: Setting data with a non sequence type is deprecated since 3.7 and will be remove two minor releases later\n",
            "  line_vertical.set_xdata(bitcoin_df['ds'][end_idx])  #line_vertical의 x 데이터를 변경한다. bitcoin_df의 y 열에서 end_idx에 해당하는 행의 값을 가져오는것이다.\n"
          ]
        },
        {
          "output_type": "stream",
          "name": "stdout",
          "text": [
            "1/1 [==============================] - 0s 25ms/step\n",
            "1/1 [==============================] - 0s 10ms/step - loss: 0.0046\n"
          ]
        },
        {
          "output_type": "stream",
          "name": "stderr",
          "text": [
            "<ipython-input-7-53af35328c47>:54: MatplotlibDeprecationWarning: Setting data with a non sequence type is deprecated since 3.7 and will be remove two minor releases later\n",
            "  line_forecast.set_data(bitcoin_df['ds'][end_idx], predicted[0][0])  # line_forecast의 데이터를 bitcoin_df의 ds열에서 선택한 데이터와 predicted의 예측값으로 설정하여 그래프의 예측 선을 새로운 데이터로 업데이트 하는 것이다\n",
            "<ipython-input-7-53af35328c47>:29: MatplotlibDeprecationWarning: Setting data with a non sequence type is deprecated since 3.7 and will be remove two minor releases later\n",
            "  line_vertical.set_xdata(bitcoin_df['ds'][end_idx])  #line_vertical의 x 데이터를 변경한다. bitcoin_df의 y 열에서 end_idx에 해당하는 행의 값을 가져오는것이다.\n"
          ]
        },
        {
          "output_type": "stream",
          "name": "stdout",
          "text": [
            "1/1 [==============================] - 0s 27ms/step\n"
          ]
        },
        {
          "output_type": "stream",
          "name": "stderr",
          "text": [
            "<ipython-input-7-53af35328c47>:54: MatplotlibDeprecationWarning: Setting data with a non sequence type is deprecated since 3.7 and will be remove two minor releases later\n",
            "  line_forecast.set_data(bitcoin_df['ds'][end_idx], predicted[0][0])  # line_forecast의 데이터를 bitcoin_df의 ds열에서 선택한 데이터와 predicted의 예측값으로 설정하여 그래프의 예측 선을 새로운 데이터로 업데이트 하는 것이다\n",
            "<ipython-input-7-53af35328c47>:29: MatplotlibDeprecationWarning: Setting data with a non sequence type is deprecated since 3.7 and will be remove two minor releases later\n",
            "  line_vertical.set_xdata(bitcoin_df['ds'][end_idx])  #line_vertical의 x 데이터를 변경한다. bitcoin_df의 y 열에서 end_idx에 해당하는 행의 값을 가져오는것이다.\n"
          ]
        },
        {
          "output_type": "stream",
          "name": "stdout",
          "text": [
            "1/1 [==============================] - 0s 16ms/step - loss: 0.0045\n",
            "1/1 [==============================] - 0s 25ms/step\n"
          ]
        },
        {
          "output_type": "stream",
          "name": "stderr",
          "text": [
            "<ipython-input-7-53af35328c47>:54: MatplotlibDeprecationWarning: Setting data with a non sequence type is deprecated since 3.7 and will be remove two minor releases later\n",
            "  line_forecast.set_data(bitcoin_df['ds'][end_idx], predicted[0][0])  # line_forecast의 데이터를 bitcoin_df의 ds열에서 선택한 데이터와 predicted의 예측값으로 설정하여 그래프의 예측 선을 새로운 데이터로 업데이트 하는 것이다\n",
            "<ipython-input-7-53af35328c47>:29: MatplotlibDeprecationWarning: Setting data with a non sequence type is deprecated since 3.7 and will be remove two minor releases later\n",
            "  line_vertical.set_xdata(bitcoin_df['ds'][end_idx])  #line_vertical의 x 데이터를 변경한다. bitcoin_df의 y 열에서 end_idx에 해당하는 행의 값을 가져오는것이다.\n"
          ]
        },
        {
          "output_type": "stream",
          "name": "stdout",
          "text": [
            "1/1 [==============================] - 0s 24ms/step - loss: 3.0859e-04\n",
            "1/1 [==============================] - 0s 26ms/step\n",
            "1/1 [==============================] - 0s 10ms/step - loss: 0.0046\n"
          ]
        },
        {
          "output_type": "stream",
          "name": "stderr",
          "text": [
            "<ipython-input-7-53af35328c47>:54: MatplotlibDeprecationWarning: Setting data with a non sequence type is deprecated since 3.7 and will be remove two minor releases later\n",
            "  line_forecast.set_data(bitcoin_df['ds'][end_idx], predicted[0][0])  # line_forecast의 데이터를 bitcoin_df의 ds열에서 선택한 데이터와 predicted의 예측값으로 설정하여 그래프의 예측 선을 새로운 데이터로 업데이트 하는 것이다\n",
            "<ipython-input-7-53af35328c47>:29: MatplotlibDeprecationWarning: Setting data with a non sequence type is deprecated since 3.7 and will be remove two minor releases later\n",
            "  line_vertical.set_xdata(bitcoin_df['ds'][end_idx])  #line_vertical의 x 데이터를 변경한다. bitcoin_df의 y 열에서 end_idx에 해당하는 행의 값을 가져오는것이다.\n"
          ]
        },
        {
          "output_type": "stream",
          "name": "stdout",
          "text": [
            "1/1 [==============================] - 0s 23ms/step\n",
            "1/1 [==============================] - 0s 11ms/step - loss: 5.5793e-04\n"
          ]
        },
        {
          "output_type": "stream",
          "name": "stderr",
          "text": [
            "<ipython-input-7-53af35328c47>:54: MatplotlibDeprecationWarning: Setting data with a non sequence type is deprecated since 3.7 and will be remove two minor releases later\n",
            "  line_forecast.set_data(bitcoin_df['ds'][end_idx], predicted[0][0])  # line_forecast의 데이터를 bitcoin_df의 ds열에서 선택한 데이터와 predicted의 예측값으로 설정하여 그래프의 예측 선을 새로운 데이터로 업데이트 하는 것이다\n",
            "<ipython-input-7-53af35328c47>:29: MatplotlibDeprecationWarning: Setting data with a non sequence type is deprecated since 3.7 and will be remove two minor releases later\n",
            "  line_vertical.set_xdata(bitcoin_df['ds'][end_idx])  #line_vertical의 x 데이터를 변경한다. bitcoin_df의 y 열에서 end_idx에 해당하는 행의 값을 가져오는것이다.\n"
          ]
        },
        {
          "output_type": "stream",
          "name": "stdout",
          "text": [
            "1/1 [==============================] - 0s 25ms/step\n",
            "1/1 [==============================] - ETA: 0s - loss: 1.1342e-04"
          ]
        },
        {
          "output_type": "stream",
          "name": "stderr",
          "text": [
            "<ipython-input-7-53af35328c47>:54: MatplotlibDeprecationWarning: Setting data with a non sequence type is deprecated since 3.7 and will be remove two minor releases later\n",
            "  line_forecast.set_data(bitcoin_df['ds'][end_idx], predicted[0][0])  # line_forecast의 데이터를 bitcoin_df의 ds열에서 선택한 데이터와 predicted의 예측값으로 설정하여 그래프의 예측 선을 새로운 데이터로 업데이트 하는 것이다\n",
            "<ipython-input-7-53af35328c47>:29: MatplotlibDeprecationWarning: Setting data with a non sequence type is deprecated since 3.7 and will be remove two minor releases later\n",
            "  line_vertical.set_xdata(bitcoin_df['ds'][end_idx])  #line_vertical의 x 데이터를 변경한다. bitcoin_df의 y 열에서 end_idx에 해당하는 행의 값을 가져오는것이다.\n"
          ]
        },
        {
          "output_type": "stream",
          "name": "stdout",
          "text": [
            "1/1 [==============================] - 0s 16ms/step - loss: 1.1342e-04\n",
            "1/1 [==============================] - 0s 25ms/step\n",
            "1/1 [==============================] - 0s 9ms/step - loss: 6.4498e-05\n"
          ]
        },
        {
          "output_type": "stream",
          "name": "stderr",
          "text": [
            "<ipython-input-7-53af35328c47>:54: MatplotlibDeprecationWarning: Setting data with a non sequence type is deprecated since 3.7 and will be remove two minor releases later\n",
            "  line_forecast.set_data(bitcoin_df['ds'][end_idx], predicted[0][0])  # line_forecast의 데이터를 bitcoin_df의 ds열에서 선택한 데이터와 predicted의 예측값으로 설정하여 그래프의 예측 선을 새로운 데이터로 업데이트 하는 것이다\n",
            "<ipython-input-7-53af35328c47>:29: MatplotlibDeprecationWarning: Setting data with a non sequence type is deprecated since 3.7 and will be remove two minor releases later\n",
            "  line_vertical.set_xdata(bitcoin_df['ds'][end_idx])  #line_vertical의 x 데이터를 변경한다. bitcoin_df의 y 열에서 end_idx에 해당하는 행의 값을 가져오는것이다.\n"
          ]
        },
        {
          "output_type": "stream",
          "name": "stdout",
          "text": [
            "1/1 [==============================] - 0s 24ms/step\n"
          ]
        },
        {
          "output_type": "stream",
          "name": "stderr",
          "text": [
            "<ipython-input-7-53af35328c47>:54: MatplotlibDeprecationWarning: Setting data with a non sequence type is deprecated since 3.7 and will be remove two minor releases later\n",
            "  line_forecast.set_data(bitcoin_df['ds'][end_idx], predicted[0][0])  # line_forecast의 데이터를 bitcoin_df의 ds열에서 선택한 데이터와 predicted의 예측값으로 설정하여 그래프의 예측 선을 새로운 데이터로 업데이트 하는 것이다\n",
            "<ipython-input-7-53af35328c47>:29: MatplotlibDeprecationWarning: Setting data with a non sequence type is deprecated since 3.7 and will be remove two minor releases later\n",
            "  line_vertical.set_xdata(bitcoin_df['ds'][end_idx])  #line_vertical의 x 데이터를 변경한다. bitcoin_df의 y 열에서 end_idx에 해당하는 행의 값을 가져오는것이다.\n"
          ]
        },
        {
          "output_type": "stream",
          "name": "stdout",
          "text": [
            "1/1 [==============================] - 0s 13ms/step - loss: 0.0159\n",
            "1/1 [==============================] - 0s 24ms/step\n"
          ]
        },
        {
          "output_type": "stream",
          "name": "stderr",
          "text": [
            "<ipython-input-7-53af35328c47>:54: MatplotlibDeprecationWarning: Setting data with a non sequence type is deprecated since 3.7 and will be remove two minor releases later\n",
            "  line_forecast.set_data(bitcoin_df['ds'][end_idx], predicted[0][0])  # line_forecast의 데이터를 bitcoin_df의 ds열에서 선택한 데이터와 predicted의 예측값으로 설정하여 그래프의 예측 선을 새로운 데이터로 업데이트 하는 것이다\n",
            "<ipython-input-7-53af35328c47>:29: MatplotlibDeprecationWarning: Setting data with a non sequence type is deprecated since 3.7 and will be remove two minor releases later\n",
            "  line_vertical.set_xdata(bitcoin_df['ds'][end_idx])  #line_vertical의 x 데이터를 변경한다. bitcoin_df의 y 열에서 end_idx에 해당하는 행의 값을 가져오는것이다.\n"
          ]
        },
        {
          "output_type": "stream",
          "name": "stdout",
          "text": [
            "1/1 [==============================] - 0s 18ms/step - loss: 0.0759\n",
            "1/1 [==============================] - 0s 26ms/step\n"
          ]
        },
        {
          "output_type": "stream",
          "name": "stderr",
          "text": [
            "<ipython-input-7-53af35328c47>:54: MatplotlibDeprecationWarning: Setting data with a non sequence type is deprecated since 3.7 and will be remove two minor releases later\n",
            "  line_forecast.set_data(bitcoin_df['ds'][end_idx], predicted[0][0])  # line_forecast의 데이터를 bitcoin_df의 ds열에서 선택한 데이터와 predicted의 예측값으로 설정하여 그래프의 예측 선을 새로운 데이터로 업데이트 하는 것이다\n",
            "<ipython-input-7-53af35328c47>:29: MatplotlibDeprecationWarning: Setting data with a non sequence type is deprecated since 3.7 and will be remove two minor releases later\n",
            "  line_vertical.set_xdata(bitcoin_df['ds'][end_idx])  #line_vertical의 x 데이터를 변경한다. bitcoin_df의 y 열에서 end_idx에 해당하는 행의 값을 가져오는것이다.\n"
          ]
        },
        {
          "output_type": "stream",
          "name": "stdout",
          "text": [
            "1/1 [==============================] - 0s 22ms/step - loss: 0.0380\n",
            "1/1 [==============================] - 0s 24ms/step\n",
            "1/1 [==============================] - ETA: 0s - loss: 0.0337"
          ]
        },
        {
          "output_type": "stream",
          "name": "stderr",
          "text": [
            "<ipython-input-7-53af35328c47>:54: MatplotlibDeprecationWarning: Setting data with a non sequence type is deprecated since 3.7 and will be remove two minor releases later\n",
            "  line_forecast.set_data(bitcoin_df['ds'][end_idx], predicted[0][0])  # line_forecast의 데이터를 bitcoin_df의 ds열에서 선택한 데이터와 predicted의 예측값으로 설정하여 그래프의 예측 선을 새로운 데이터로 업데이트 하는 것이다\n",
            "<ipython-input-7-53af35328c47>:29: MatplotlibDeprecationWarning: Setting data with a non sequence type is deprecated since 3.7 and will be remove two minor releases later\n",
            "  line_vertical.set_xdata(bitcoin_df['ds'][end_idx])  #line_vertical의 x 데이터를 변경한다. bitcoin_df의 y 열에서 end_idx에 해당하는 행의 값을 가져오는것이다.\n"
          ]
        },
        {
          "output_type": "stream",
          "name": "stdout",
          "text": [
            "1/1 [==============================] - 0s 17ms/step - loss: 0.0337\n",
            "1/1 [==============================] - 0s 36ms/step\n"
          ]
        },
        {
          "output_type": "stream",
          "name": "stderr",
          "text": [
            "<ipython-input-7-53af35328c47>:54: MatplotlibDeprecationWarning: Setting data with a non sequence type is deprecated since 3.7 and will be remove two minor releases later\n",
            "  line_forecast.set_data(bitcoin_df['ds'][end_idx], predicted[0][0])  # line_forecast의 데이터를 bitcoin_df의 ds열에서 선택한 데이터와 predicted의 예측값으로 설정하여 그래프의 예측 선을 새로운 데이터로 업데이트 하는 것이다\n",
            "<ipython-input-7-53af35328c47>:29: MatplotlibDeprecationWarning: Setting data with a non sequence type is deprecated since 3.7 and will be remove two minor releases later\n",
            "  line_vertical.set_xdata(bitcoin_df['ds'][end_idx])  #line_vertical의 x 데이터를 변경한다. bitcoin_df의 y 열에서 end_idx에 해당하는 행의 값을 가져오는것이다.\n"
          ]
        },
        {
          "output_type": "stream",
          "name": "stdout",
          "text": [
            "1/1 [==============================] - 0s 15ms/step - loss: 0.0155\n",
            "1/1 [==============================] - 0s 23ms/step\n"
          ]
        },
        {
          "output_type": "stream",
          "name": "stderr",
          "text": [
            "<ipython-input-7-53af35328c47>:54: MatplotlibDeprecationWarning: Setting data with a non sequence type is deprecated since 3.7 and will be remove two minor releases later\n",
            "  line_forecast.set_data(bitcoin_df['ds'][end_idx], predicted[0][0])  # line_forecast의 데이터를 bitcoin_df의 ds열에서 선택한 데이터와 predicted의 예측값으로 설정하여 그래프의 예측 선을 새로운 데이터로 업데이트 하는 것이다\n",
            "<ipython-input-7-53af35328c47>:29: MatplotlibDeprecationWarning: Setting data with a non sequence type is deprecated since 3.7 and will be remove two minor releases later\n",
            "  line_vertical.set_xdata(bitcoin_df['ds'][end_idx])  #line_vertical의 x 데이터를 변경한다. bitcoin_df의 y 열에서 end_idx에 해당하는 행의 값을 가져오는것이다.\n"
          ]
        },
        {
          "output_type": "stream",
          "name": "stdout",
          "text": [
            "1/1 [==============================] - 0s 10ms/step - loss: 0.0036\n",
            "1/1 [==============================] - 0s 24ms/step\n",
            "1/1 [==============================] - ETA: 0s - loss: 0.0011"
          ]
        },
        {
          "output_type": "stream",
          "name": "stderr",
          "text": [
            "<ipython-input-7-53af35328c47>:54: MatplotlibDeprecationWarning: Setting data with a non sequence type is deprecated since 3.7 and will be remove two minor releases later\n",
            "  line_forecast.set_data(bitcoin_df['ds'][end_idx], predicted[0][0])  # line_forecast의 데이터를 bitcoin_df의 ds열에서 선택한 데이터와 predicted의 예측값으로 설정하여 그래프의 예측 선을 새로운 데이터로 업데이트 하는 것이다\n",
            "<ipython-input-7-53af35328c47>:29: MatplotlibDeprecationWarning: Setting data with a non sequence type is deprecated since 3.7 and will be remove two minor releases later\n",
            "  line_vertical.set_xdata(bitcoin_df['ds'][end_idx])  #line_vertical의 x 데이터를 변경한다. bitcoin_df의 y 열에서 end_idx에 해당하는 행의 값을 가져오는것이다.\n"
          ]
        },
        {
          "output_type": "stream",
          "name": "stdout",
          "text": [
            "1/1 [==============================] - 0s 9ms/step - loss: 0.0011\n",
            "1/1 [==============================] - 0s 32ms/step\n"
          ]
        },
        {
          "output_type": "stream",
          "name": "stderr",
          "text": [
            "<ipython-input-7-53af35328c47>:54: MatplotlibDeprecationWarning: Setting data with a non sequence type is deprecated since 3.7 and will be remove two minor releases later\n",
            "  line_forecast.set_data(bitcoin_df['ds'][end_idx], predicted[0][0])  # line_forecast의 데이터를 bitcoin_df의 ds열에서 선택한 데이터와 predicted의 예측값으로 설정하여 그래프의 예측 선을 새로운 데이터로 업데이트 하는 것이다\n",
            "<ipython-input-7-53af35328c47>:29: MatplotlibDeprecationWarning: Setting data with a non sequence type is deprecated since 3.7 and will be remove two minor releases later\n",
            "  line_vertical.set_xdata(bitcoin_df['ds'][end_idx])  #line_vertical의 x 데이터를 변경한다. bitcoin_df의 y 열에서 end_idx에 해당하는 행의 값을 가져오는것이다.\n"
          ]
        },
        {
          "output_type": "stream",
          "name": "stdout",
          "text": [
            "1/1 [==============================] - 0s 14ms/step - loss: 0.0135\n",
            "1/1 [==============================] - 0s 24ms/step\n"
          ]
        },
        {
          "output_type": "stream",
          "name": "stderr",
          "text": [
            "<ipython-input-7-53af35328c47>:54: MatplotlibDeprecationWarning: Setting data with a non sequence type is deprecated since 3.7 and will be remove two minor releases later\n",
            "  line_forecast.set_data(bitcoin_df['ds'][end_idx], predicted[0][0])  # line_forecast의 데이터를 bitcoin_df의 ds열에서 선택한 데이터와 predicted의 예측값으로 설정하여 그래프의 예측 선을 새로운 데이터로 업데이트 하는 것이다\n",
            "<ipython-input-7-53af35328c47>:29: MatplotlibDeprecationWarning: Setting data with a non sequence type is deprecated since 3.7 and will be remove two minor releases later\n",
            "  line_vertical.set_xdata(bitcoin_df['ds'][end_idx])  #line_vertical의 x 데이터를 변경한다. bitcoin_df의 y 열에서 end_idx에 해당하는 행의 값을 가져오는것이다.\n"
          ]
        },
        {
          "output_type": "stream",
          "name": "stdout",
          "text": [
            "1/1 [==============================] - 0s 14ms/step - loss: 0.0174\n",
            "1/1 [==============================] - 0s 25ms/step\n"
          ]
        },
        {
          "output_type": "stream",
          "name": "stderr",
          "text": [
            "<ipython-input-7-53af35328c47>:54: MatplotlibDeprecationWarning: Setting data with a non sequence type is deprecated since 3.7 and will be remove two minor releases later\n",
            "  line_forecast.set_data(bitcoin_df['ds'][end_idx], predicted[0][0])  # line_forecast의 데이터를 bitcoin_df의 ds열에서 선택한 데이터와 predicted의 예측값으로 설정하여 그래프의 예측 선을 새로운 데이터로 업데이트 하는 것이다\n",
            "<ipython-input-7-53af35328c47>:29: MatplotlibDeprecationWarning: Setting data with a non sequence type is deprecated since 3.7 and will be remove two minor releases later\n",
            "  line_vertical.set_xdata(bitcoin_df['ds'][end_idx])  #line_vertical의 x 데이터를 변경한다. bitcoin_df의 y 열에서 end_idx에 해당하는 행의 값을 가져오는것이다.\n"
          ]
        },
        {
          "output_type": "stream",
          "name": "stdout",
          "text": [
            "1/1 [==============================] - 0s 11ms/step - loss: 0.0435\n",
            "1/1 [==============================] - 0s 32ms/step\n"
          ]
        },
        {
          "output_type": "stream",
          "name": "stderr",
          "text": [
            "<ipython-input-7-53af35328c47>:54: MatplotlibDeprecationWarning: Setting data with a non sequence type is deprecated since 3.7 and will be remove two minor releases later\n",
            "  line_forecast.set_data(bitcoin_df['ds'][end_idx], predicted[0][0])  # line_forecast의 데이터를 bitcoin_df의 ds열에서 선택한 데이터와 predicted의 예측값으로 설정하여 그래프의 예측 선을 새로운 데이터로 업데이트 하는 것이다\n",
            "<ipython-input-7-53af35328c47>:29: MatplotlibDeprecationWarning: Setting data with a non sequence type is deprecated since 3.7 and will be remove two minor releases later\n",
            "  line_vertical.set_xdata(bitcoin_df['ds'][end_idx])  #line_vertical의 x 데이터를 변경한다. bitcoin_df의 y 열에서 end_idx에 해당하는 행의 값을 가져오는것이다.\n"
          ]
        },
        {
          "output_type": "stream",
          "name": "stdout",
          "text": [
            "1/1 [==============================] - 0s 9ms/step - loss: 0.0237\n",
            "1/1 [==============================] - 0s 23ms/step\n"
          ]
        },
        {
          "output_type": "stream",
          "name": "stderr",
          "text": [
            "<ipython-input-7-53af35328c47>:54: MatplotlibDeprecationWarning: Setting data with a non sequence type is deprecated since 3.7 and will be remove two minor releases later\n",
            "  line_forecast.set_data(bitcoin_df['ds'][end_idx], predicted[0][0])  # line_forecast의 데이터를 bitcoin_df의 ds열에서 선택한 데이터와 predicted의 예측값으로 설정하여 그래프의 예측 선을 새로운 데이터로 업데이트 하는 것이다\n",
            "<ipython-input-7-53af35328c47>:29: MatplotlibDeprecationWarning: Setting data with a non sequence type is deprecated since 3.7 and will be remove two minor releases later\n",
            "  line_vertical.set_xdata(bitcoin_df['ds'][end_idx])  #line_vertical의 x 데이터를 변경한다. bitcoin_df의 y 열에서 end_idx에 해당하는 행의 값을 가져오는것이다.\n"
          ]
        },
        {
          "output_type": "stream",
          "name": "stdout",
          "text": [
            "1/1 [==============================] - 0s 20ms/step - loss: 0.0234\n",
            "1/1 [==============================] - 0s 23ms/step\n",
            "1/1 [==============================] - ETA: 0s - loss: 0.0215"
          ]
        },
        {
          "output_type": "stream",
          "name": "stderr",
          "text": [
            "<ipython-input-7-53af35328c47>:54: MatplotlibDeprecationWarning: Setting data with a non sequence type is deprecated since 3.7 and will be remove two minor releases later\n",
            "  line_forecast.set_data(bitcoin_df['ds'][end_idx], predicted[0][0])  # line_forecast의 데이터를 bitcoin_df의 ds열에서 선택한 데이터와 predicted의 예측값으로 설정하여 그래프의 예측 선을 새로운 데이터로 업데이트 하는 것이다\n",
            "<ipython-input-7-53af35328c47>:29: MatplotlibDeprecationWarning: Setting data with a non sequence type is deprecated since 3.7 and will be remove two minor releases later\n",
            "  line_vertical.set_xdata(bitcoin_df['ds'][end_idx])  #line_vertical의 x 데이터를 변경한다. bitcoin_df의 y 열에서 end_idx에 해당하는 행의 값을 가져오는것이다.\n"
          ]
        },
        {
          "output_type": "stream",
          "name": "stdout",
          "text": [
            "1/1 [==============================] - 0s 14ms/step - loss: 0.0215\n",
            "1/1 [==============================] - 0s 27ms/step\n"
          ]
        },
        {
          "output_type": "stream",
          "name": "stderr",
          "text": [
            "<ipython-input-7-53af35328c47>:54: MatplotlibDeprecationWarning: Setting data with a non sequence type is deprecated since 3.7 and will be remove two minor releases later\n",
            "  line_forecast.set_data(bitcoin_df['ds'][end_idx], predicted[0][0])  # line_forecast의 데이터를 bitcoin_df의 ds열에서 선택한 데이터와 predicted의 예측값으로 설정하여 그래프의 예측 선을 새로운 데이터로 업데이트 하는 것이다\n",
            "<ipython-input-7-53af35328c47>:29: MatplotlibDeprecationWarning: Setting data with a non sequence type is deprecated since 3.7 and will be remove two minor releases later\n",
            "  line_vertical.set_xdata(bitcoin_df['ds'][end_idx])  #line_vertical의 x 데이터를 변경한다. bitcoin_df의 y 열에서 end_idx에 해당하는 행의 값을 가져오는것이다.\n"
          ]
        },
        {
          "output_type": "stream",
          "name": "stdout",
          "text": [
            "1/1 [==============================] - 0s 15ms/step - loss: 0.0412\n",
            "1/1 [==============================] - 0s 24ms/step\n"
          ]
        },
        {
          "output_type": "stream",
          "name": "stderr",
          "text": [
            "<ipython-input-7-53af35328c47>:54: MatplotlibDeprecationWarning: Setting data with a non sequence type is deprecated since 3.7 and will be remove two minor releases later\n",
            "  line_forecast.set_data(bitcoin_df['ds'][end_idx], predicted[0][0])  # line_forecast의 데이터를 bitcoin_df의 ds열에서 선택한 데이터와 predicted의 예측값으로 설정하여 그래프의 예측 선을 새로운 데이터로 업데이트 하는 것이다\n",
            "<ipython-input-7-53af35328c47>:29: MatplotlibDeprecationWarning: Setting data with a non sequence type is deprecated since 3.7 and will be remove two minor releases later\n",
            "  line_vertical.set_xdata(bitcoin_df['ds'][end_idx])  #line_vertical의 x 데이터를 변경한다. bitcoin_df의 y 열에서 end_idx에 해당하는 행의 값을 가져오는것이다.\n"
          ]
        },
        {
          "output_type": "stream",
          "name": "stdout",
          "text": [
            "1/1 [==============================] - 0s 9ms/step - loss: 0.0515\n",
            "1/1 [==============================] - 0s 27ms/step\n"
          ]
        },
        {
          "output_type": "stream",
          "name": "stderr",
          "text": [
            "<ipython-input-7-53af35328c47>:54: MatplotlibDeprecationWarning: Setting data with a non sequence type is deprecated since 3.7 and will be remove two minor releases later\n",
            "  line_forecast.set_data(bitcoin_df['ds'][end_idx], predicted[0][0])  # line_forecast의 데이터를 bitcoin_df의 ds열에서 선택한 데이터와 predicted의 예측값으로 설정하여 그래프의 예측 선을 새로운 데이터로 업데이트 하는 것이다\n",
            "<ipython-input-7-53af35328c47>:29: MatplotlibDeprecationWarning: Setting data with a non sequence type is deprecated since 3.7 and will be remove two minor releases later\n",
            "  line_vertical.set_xdata(bitcoin_df['ds'][end_idx])  #line_vertical의 x 데이터를 변경한다. bitcoin_df의 y 열에서 end_idx에 해당하는 행의 값을 가져오는것이다.\n"
          ]
        },
        {
          "output_type": "stream",
          "name": "stdout",
          "text": [
            "1/1 [==============================] - 0s 11ms/step - loss: 0.0680\n",
            "1/1 [==============================] - 0s 25ms/step\n"
          ]
        },
        {
          "output_type": "stream",
          "name": "stderr",
          "text": [
            "<ipython-input-7-53af35328c47>:54: MatplotlibDeprecationWarning: Setting data with a non sequence type is deprecated since 3.7 and will be remove two minor releases later\n",
            "  line_forecast.set_data(bitcoin_df['ds'][end_idx], predicted[0][0])  # line_forecast의 데이터를 bitcoin_df의 ds열에서 선택한 데이터와 predicted의 예측값으로 설정하여 그래프의 예측 선을 새로운 데이터로 업데이트 하는 것이다\n",
            "<ipython-input-7-53af35328c47>:29: MatplotlibDeprecationWarning: Setting data with a non sequence type is deprecated since 3.7 and will be remove two minor releases later\n",
            "  line_vertical.set_xdata(bitcoin_df['ds'][end_idx])  #line_vertical의 x 데이터를 변경한다. bitcoin_df의 y 열에서 end_idx에 해당하는 행의 값을 가져오는것이다.\n"
          ]
        },
        {
          "output_type": "stream",
          "name": "stdout",
          "text": [
            "1/1 [==============================] - 0s 15ms/step - loss: 0.0616\n",
            "1/1 [==============================] - 0s 22ms/step\n"
          ]
        },
        {
          "output_type": "stream",
          "name": "stderr",
          "text": [
            "<ipython-input-7-53af35328c47>:54: MatplotlibDeprecationWarning: Setting data with a non sequence type is deprecated since 3.7 and will be remove two minor releases later\n",
            "  line_forecast.set_data(bitcoin_df['ds'][end_idx], predicted[0][0])  # line_forecast의 데이터를 bitcoin_df의 ds열에서 선택한 데이터와 predicted의 예측값으로 설정하여 그래프의 예측 선을 새로운 데이터로 업데이트 하는 것이다\n",
            "<ipython-input-7-53af35328c47>:29: MatplotlibDeprecationWarning: Setting data with a non sequence type is deprecated since 3.7 and will be remove two minor releases later\n",
            "  line_vertical.set_xdata(bitcoin_df['ds'][end_idx])  #line_vertical의 x 데이터를 변경한다. bitcoin_df의 y 열에서 end_idx에 해당하는 행의 값을 가져오는것이다.\n"
          ]
        },
        {
          "output_type": "stream",
          "name": "stdout",
          "text": [
            "1/1 [==============================] - 0s 15ms/step - loss: 0.0544\n",
            "1/1 [==============================] - 0s 23ms/step\n"
          ]
        },
        {
          "output_type": "stream",
          "name": "stderr",
          "text": [
            "<ipython-input-7-53af35328c47>:54: MatplotlibDeprecationWarning: Setting data with a non sequence type is deprecated since 3.7 and will be remove two minor releases later\n",
            "  line_forecast.set_data(bitcoin_df['ds'][end_idx], predicted[0][0])  # line_forecast의 데이터를 bitcoin_df의 ds열에서 선택한 데이터와 predicted의 예측값으로 설정하여 그래프의 예측 선을 새로운 데이터로 업데이트 하는 것이다\n",
            "<ipython-input-7-53af35328c47>:29: MatplotlibDeprecationWarning: Setting data with a non sequence type is deprecated since 3.7 and will be remove two minor releases later\n",
            "  line_vertical.set_xdata(bitcoin_df['ds'][end_idx])  #line_vertical의 x 데이터를 변경한다. bitcoin_df의 y 열에서 end_idx에 해당하는 행의 값을 가져오는것이다.\n"
          ]
        },
        {
          "output_type": "stream",
          "name": "stdout",
          "text": [
            "1/1 [==============================] - 0s 21ms/step - loss: 0.0272\n",
            "1/1 [==============================] - 0s 23ms/step\n"
          ]
        },
        {
          "output_type": "stream",
          "name": "stderr",
          "text": [
            "<ipython-input-7-53af35328c47>:54: MatplotlibDeprecationWarning: Setting data with a non sequence type is deprecated since 3.7 and will be remove two minor releases later\n",
            "  line_forecast.set_data(bitcoin_df['ds'][end_idx], predicted[0][0])  # line_forecast의 데이터를 bitcoin_df의 ds열에서 선택한 데이터와 predicted의 예측값으로 설정하여 그래프의 예측 선을 새로운 데이터로 업데이트 하는 것이다\n",
            "<ipython-input-7-53af35328c47>:29: MatplotlibDeprecationWarning: Setting data with a non sequence type is deprecated since 3.7 and will be remove two minor releases later\n",
            "  line_vertical.set_xdata(bitcoin_df['ds'][end_idx])  #line_vertical의 x 데이터를 변경한다. bitcoin_df의 y 열에서 end_idx에 해당하는 행의 값을 가져오는것이다.\n"
          ]
        },
        {
          "output_type": "stream",
          "name": "stdout",
          "text": [
            "1/1 [==============================] - 0s 18ms/step - loss: 0.0462\n",
            "1/1 [==============================] - 0s 23ms/step\n"
          ]
        },
        {
          "output_type": "stream",
          "name": "stderr",
          "text": [
            "<ipython-input-7-53af35328c47>:54: MatplotlibDeprecationWarning: Setting data with a non sequence type is deprecated since 3.7 and will be remove two minor releases later\n",
            "  line_forecast.set_data(bitcoin_df['ds'][end_idx], predicted[0][0])  # line_forecast의 데이터를 bitcoin_df의 ds열에서 선택한 데이터와 predicted의 예측값으로 설정하여 그래프의 예측 선을 새로운 데이터로 업데이트 하는 것이다\n",
            "<ipython-input-7-53af35328c47>:29: MatplotlibDeprecationWarning: Setting data with a non sequence type is deprecated since 3.7 and will be remove two minor releases later\n",
            "  line_vertical.set_xdata(bitcoin_df['ds'][end_idx])  #line_vertical의 x 데이터를 변경한다. bitcoin_df의 y 열에서 end_idx에 해당하는 행의 값을 가져오는것이다.\n"
          ]
        },
        {
          "output_type": "stream",
          "name": "stdout",
          "text": [
            "1/1 [==============================] - 0s 14ms/step - loss: 0.0058\n",
            "1/1 [==============================] - 0s 26ms/step\n"
          ]
        },
        {
          "output_type": "stream",
          "name": "stderr",
          "text": [
            "<ipython-input-7-53af35328c47>:54: MatplotlibDeprecationWarning: Setting data with a non sequence type is deprecated since 3.7 and will be remove two minor releases later\n",
            "  line_forecast.set_data(bitcoin_df['ds'][end_idx], predicted[0][0])  # line_forecast의 데이터를 bitcoin_df의 ds열에서 선택한 데이터와 predicted의 예측값으로 설정하여 그래프의 예측 선을 새로운 데이터로 업데이트 하는 것이다\n",
            "<ipython-input-7-53af35328c47>:29: MatplotlibDeprecationWarning: Setting data with a non sequence type is deprecated since 3.7 and will be remove two minor releases later\n",
            "  line_vertical.set_xdata(bitcoin_df['ds'][end_idx])  #line_vertical의 x 데이터를 변경한다. bitcoin_df의 y 열에서 end_idx에 해당하는 행의 값을 가져오는것이다.\n"
          ]
        },
        {
          "output_type": "stream",
          "name": "stdout",
          "text": [
            "1/1 [==============================] - 0s 18ms/step - loss: 0.0097\n",
            "1/1 [==============================] - 0s 23ms/step\n"
          ]
        },
        {
          "output_type": "stream",
          "name": "stderr",
          "text": [
            "<ipython-input-7-53af35328c47>:54: MatplotlibDeprecationWarning: Setting data with a non sequence type is deprecated since 3.7 and will be remove two minor releases later\n",
            "  line_forecast.set_data(bitcoin_df['ds'][end_idx], predicted[0][0])  # line_forecast의 데이터를 bitcoin_df의 ds열에서 선택한 데이터와 predicted의 예측값으로 설정하여 그래프의 예측 선을 새로운 데이터로 업데이트 하는 것이다\n",
            "<ipython-input-7-53af35328c47>:29: MatplotlibDeprecationWarning: Setting data with a non sequence type is deprecated since 3.7 and will be remove two minor releases later\n",
            "  line_vertical.set_xdata(bitcoin_df['ds'][end_idx])  #line_vertical의 x 데이터를 변경한다. bitcoin_df의 y 열에서 end_idx에 해당하는 행의 값을 가져오는것이다.\n"
          ]
        },
        {
          "output_type": "stream",
          "name": "stdout",
          "text": [
            "1/1 [==============================] - 0s 18ms/step - loss: 0.0121\n",
            "1/1 [==============================] - 0s 47ms/step\n"
          ]
        },
        {
          "output_type": "stream",
          "name": "stderr",
          "text": [
            "<ipython-input-7-53af35328c47>:54: MatplotlibDeprecationWarning: Setting data with a non sequence type is deprecated since 3.7 and will be remove two minor releases later\n",
            "  line_forecast.set_data(bitcoin_df['ds'][end_idx], predicted[0][0])  # line_forecast의 데이터를 bitcoin_df의 ds열에서 선택한 데이터와 predicted의 예측값으로 설정하여 그래프의 예측 선을 새로운 데이터로 업데이트 하는 것이다\n"
          ]
        },
        {
          "output_type": "stream",
          "name": "stdout",
          "text": [
            "1/1 [==============================] - 0s 12ms/step - loss: 0.0076\n",
            "1/1 [==============================] - ETA: 0s"
          ]
        },
        {
          "output_type": "stream",
          "name": "stderr",
          "text": [
            "<ipython-input-7-53af35328c47>:29: MatplotlibDeprecationWarning: Setting data with a non sequence type is deprecated since 3.7 and will be remove two minor releases later\n",
            "  line_vertical.set_xdata(bitcoin_df['ds'][end_idx])  #line_vertical의 x 데이터를 변경한다. bitcoin_df의 y 열에서 end_idx에 해당하는 행의 값을 가져오는것이다.\n"
          ]
        },
        {
          "output_type": "stream",
          "name": "stdout",
          "text": [
            "\b\b\b\b\b\b\b\b\b\b\b\b\b\b\b\b\b\b\b\b\b\b\b\b\b\b\b\b\b\b\b\b\b\b\b\b\b\b\b\b\b\b\b\b\b\b\r1/1 [==============================] - 0s 34ms/step\n"
          ]
        },
        {
          "output_type": "stream",
          "name": "stderr",
          "text": [
            "<ipython-input-7-53af35328c47>:54: MatplotlibDeprecationWarning: Setting data with a non sequence type is deprecated since 3.7 and will be remove two minor releases later\n",
            "  line_forecast.set_data(bitcoin_df['ds'][end_idx], predicted[0][0])  # line_forecast의 데이터를 bitcoin_df의 ds열에서 선택한 데이터와 predicted의 예측값으로 설정하여 그래프의 예측 선을 새로운 데이터로 업데이트 하는 것이다\n",
            "<ipython-input-7-53af35328c47>:29: MatplotlibDeprecationWarning: Setting data with a non sequence type is deprecated since 3.7 and will be remove two minor releases later\n",
            "  line_vertical.set_xdata(bitcoin_df['ds'][end_idx])  #line_vertical의 x 데이터를 변경한다. bitcoin_df의 y 열에서 end_idx에 해당하는 행의 값을 가져오는것이다.\n"
          ]
        },
        {
          "output_type": "stream",
          "name": "stdout",
          "text": [
            "1/1 [==============================] - 0s 14ms/step - loss: 0.0183\n",
            "1/1 [==============================] - 0s 35ms/step\n"
          ]
        },
        {
          "output_type": "stream",
          "name": "stderr",
          "text": [
            "<ipython-input-7-53af35328c47>:54: MatplotlibDeprecationWarning: Setting data with a non sequence type is deprecated since 3.7 and will be remove two minor releases later\n",
            "  line_forecast.set_data(bitcoin_df['ds'][end_idx], predicted[0][0])  # line_forecast의 데이터를 bitcoin_df의 ds열에서 선택한 데이터와 predicted의 예측값으로 설정하여 그래프의 예측 선을 새로운 데이터로 업데이트 하는 것이다\n",
            "<ipython-input-7-53af35328c47>:29: MatplotlibDeprecationWarning: Setting data with a non sequence type is deprecated since 3.7 and will be remove two minor releases later\n",
            "  line_vertical.set_xdata(bitcoin_df['ds'][end_idx])  #line_vertical의 x 데이터를 변경한다. bitcoin_df의 y 열에서 end_idx에 해당하는 행의 값을 가져오는것이다.\n"
          ]
        },
        {
          "output_type": "stream",
          "name": "stdout",
          "text": [
            "1/1 [==============================] - 0s 17ms/step - loss: 0.0160\n",
            "1/1 [==============================] - 0s 34ms/step\n"
          ]
        },
        {
          "output_type": "stream",
          "name": "stderr",
          "text": [
            "<ipython-input-7-53af35328c47>:54: MatplotlibDeprecationWarning: Setting data with a non sequence type is deprecated since 3.7 and will be remove two minor releases later\n",
            "  line_forecast.set_data(bitcoin_df['ds'][end_idx], predicted[0][0])  # line_forecast의 데이터를 bitcoin_df의 ds열에서 선택한 데이터와 predicted의 예측값으로 설정하여 그래프의 예측 선을 새로운 데이터로 업데이트 하는 것이다\n",
            "<ipython-input-7-53af35328c47>:29: MatplotlibDeprecationWarning: Setting data with a non sequence type is deprecated since 3.7 and will be remove two minor releases later\n",
            "  line_vertical.set_xdata(bitcoin_df['ds'][end_idx])  #line_vertical의 x 데이터를 변경한다. bitcoin_df의 y 열에서 end_idx에 해당하는 행의 값을 가져오는것이다.\n"
          ]
        },
        {
          "output_type": "stream",
          "name": "stdout",
          "text": [
            "1/1 [==============================] - 0s 13ms/step - loss: 0.0170\n",
            "1/1 [==============================] - 0s 38ms/step\n"
          ]
        },
        {
          "output_type": "stream",
          "name": "stderr",
          "text": [
            "<ipython-input-7-53af35328c47>:54: MatplotlibDeprecationWarning: Setting data with a non sequence type is deprecated since 3.7 and will be remove two minor releases later\n",
            "  line_forecast.set_data(bitcoin_df['ds'][end_idx], predicted[0][0])  # line_forecast의 데이터를 bitcoin_df의 ds열에서 선택한 데이터와 predicted의 예측값으로 설정하여 그래프의 예측 선을 새로운 데이터로 업데이트 하는 것이다\n"
          ]
        },
        {
          "output_type": "stream",
          "name": "stdout",
          "text": [
            "1/1 [==============================] - 0s 20ms/step - loss: 0.0214\n"
          ]
        },
        {
          "output_type": "stream",
          "name": "stderr",
          "text": [
            "<ipython-input-7-53af35328c47>:29: MatplotlibDeprecationWarning: Setting data with a non sequence type is deprecated since 3.7 and will be remove two minor releases later\n",
            "  line_vertical.set_xdata(bitcoin_df['ds'][end_idx])  #line_vertical의 x 데이터를 변경한다. bitcoin_df의 y 열에서 end_idx에 해당하는 행의 값을 가져오는것이다.\n"
          ]
        },
        {
          "output_type": "stream",
          "name": "stdout",
          "text": [
            "1/1 [==============================] - 0s 46ms/step\n"
          ]
        },
        {
          "output_type": "stream",
          "name": "stderr",
          "text": [
            "<ipython-input-7-53af35328c47>:54: MatplotlibDeprecationWarning: Setting data with a non sequence type is deprecated since 3.7 and will be remove two minor releases later\n",
            "  line_forecast.set_data(bitcoin_df['ds'][end_idx], predicted[0][0])  # line_forecast의 데이터를 bitcoin_df의 ds열에서 선택한 데이터와 predicted의 예측값으로 설정하여 그래프의 예측 선을 새로운 데이터로 업데이트 하는 것이다\n"
          ]
        },
        {
          "output_type": "stream",
          "name": "stdout",
          "text": [
            "1/1 [==============================] - 0s 19ms/step - loss: 0.0467\n"
          ]
        },
        {
          "output_type": "stream",
          "name": "stderr",
          "text": [
            "<ipython-input-7-53af35328c47>:29: MatplotlibDeprecationWarning: Setting data with a non sequence type is deprecated since 3.7 and will be remove two minor releases later\n",
            "  line_vertical.set_xdata(bitcoin_df['ds'][end_idx])  #line_vertical의 x 데이터를 변경한다. bitcoin_df의 y 열에서 end_idx에 해당하는 행의 값을 가져오는것이다.\n"
          ]
        },
        {
          "output_type": "stream",
          "name": "stdout",
          "text": [
            "1/1 [==============================] - 0s 43ms/step\n"
          ]
        },
        {
          "output_type": "stream",
          "name": "stderr",
          "text": [
            "<ipython-input-7-53af35328c47>:54: MatplotlibDeprecationWarning: Setting data with a non sequence type is deprecated since 3.7 and will be remove two minor releases later\n",
            "  line_forecast.set_data(bitcoin_df['ds'][end_idx], predicted[0][0])  # line_forecast의 데이터를 bitcoin_df의 ds열에서 선택한 데이터와 predicted의 예측값으로 설정하여 그래프의 예측 선을 새로운 데이터로 업데이트 하는 것이다\n"
          ]
        },
        {
          "output_type": "stream",
          "name": "stdout",
          "text": [
            "1/1 [==============================] - 0s 13ms/step - loss: 0.0227\n",
            "1/1 [==============================] - 0s 33ms/step\n"
          ]
        },
        {
          "output_type": "stream",
          "name": "stderr",
          "text": [
            "<ipython-input-7-53af35328c47>:29: MatplotlibDeprecationWarning: Setting data with a non sequence type is deprecated since 3.7 and will be remove two minor releases later\n",
            "  line_vertical.set_xdata(bitcoin_df['ds'][end_idx])  #line_vertical의 x 데이터를 변경한다. bitcoin_df의 y 열에서 end_idx에 해당하는 행의 값을 가져오는것이다.\n",
            "<ipython-input-7-53af35328c47>:54: MatplotlibDeprecationWarning: Setting data with a non sequence type is deprecated since 3.7 and will be remove two minor releases later\n",
            "  line_forecast.set_data(bitcoin_df['ds'][end_idx], predicted[0][0])  # line_forecast의 데이터를 bitcoin_df의 ds열에서 선택한 데이터와 predicted의 예측값으로 설정하여 그래프의 예측 선을 새로운 데이터로 업데이트 하는 것이다\n"
          ]
        },
        {
          "output_type": "stream",
          "name": "stdout",
          "text": [
            "1/1 [==============================] - 0s 18ms/step - loss: 0.0243\n"
          ]
        },
        {
          "output_type": "stream",
          "name": "stderr",
          "text": [
            "<ipython-input-7-53af35328c47>:29: MatplotlibDeprecationWarning: Setting data with a non sequence type is deprecated since 3.7 and will be remove two minor releases later\n",
            "  line_vertical.set_xdata(bitcoin_df['ds'][end_idx])  #line_vertical의 x 데이터를 변경한다. bitcoin_df의 y 열에서 end_idx에 해당하는 행의 값을 가져오는것이다.\n"
          ]
        },
        {
          "output_type": "stream",
          "name": "stdout",
          "text": [
            "1/1 [==============================] - 0s 41ms/step\n"
          ]
        },
        {
          "output_type": "stream",
          "name": "stderr",
          "text": [
            "<ipython-input-7-53af35328c47>:54: MatplotlibDeprecationWarning: Setting data with a non sequence type is deprecated since 3.7 and will be remove two minor releases later\n",
            "  line_forecast.set_data(bitcoin_df['ds'][end_idx], predicted[0][0])  # line_forecast의 데이터를 bitcoin_df의 ds열에서 선택한 데이터와 predicted의 예측값으로 설정하여 그래프의 예측 선을 새로운 데이터로 업데이트 하는 것이다\n"
          ]
        },
        {
          "output_type": "stream",
          "name": "stdout",
          "text": [
            "1/1 [==============================] - 0s 19ms/step - loss: 0.0173\n"
          ]
        },
        {
          "output_type": "stream",
          "name": "stderr",
          "text": [
            "<ipython-input-7-53af35328c47>:29: MatplotlibDeprecationWarning: Setting data with a non sequence type is deprecated since 3.7 and will be remove two minor releases later\n",
            "  line_vertical.set_xdata(bitcoin_df['ds'][end_idx])  #line_vertical의 x 데이터를 변경한다. bitcoin_df의 y 열에서 end_idx에 해당하는 행의 값을 가져오는것이다.\n"
          ]
        },
        {
          "output_type": "stream",
          "name": "stdout",
          "text": [
            "1/1 [==============================] - 0s 38ms/step\n"
          ]
        },
        {
          "output_type": "stream",
          "name": "stderr",
          "text": [
            "<ipython-input-7-53af35328c47>:54: MatplotlibDeprecationWarning: Setting data with a non sequence type is deprecated since 3.7 and will be remove two minor releases later\n",
            "  line_forecast.set_data(bitcoin_df['ds'][end_idx], predicted[0][0])  # line_forecast의 데이터를 bitcoin_df의 ds열에서 선택한 데이터와 predicted의 예측값으로 설정하여 그래프의 예측 선을 새로운 데이터로 업데이트 하는 것이다\n",
            "<ipython-input-7-53af35328c47>:29: MatplotlibDeprecationWarning: Setting data with a non sequence type is deprecated since 3.7 and will be remove two minor releases later\n",
            "  line_vertical.set_xdata(bitcoin_df['ds'][end_idx])  #line_vertical의 x 데이터를 변경한다. bitcoin_df의 y 열에서 end_idx에 해당하는 행의 값을 가져오는것이다.\n"
          ]
        },
        {
          "output_type": "stream",
          "name": "stdout",
          "text": [
            "1/1 [==============================] - 0s 9ms/step - loss: 2.3082e-04\n",
            "1/1 [==============================] - 0s 23ms/step\n"
          ]
        },
        {
          "output_type": "stream",
          "name": "stderr",
          "text": [
            "<ipython-input-7-53af35328c47>:54: MatplotlibDeprecationWarning: Setting data with a non sequence type is deprecated since 3.7 and will be remove two minor releases later\n",
            "  line_forecast.set_data(bitcoin_df['ds'][end_idx], predicted[0][0])  # line_forecast의 데이터를 bitcoin_df의 ds열에서 선택한 데이터와 predicted의 예측값으로 설정하여 그래프의 예측 선을 새로운 데이터로 업데이트 하는 것이다\n",
            "<ipython-input-7-53af35328c47>:29: MatplotlibDeprecationWarning: Setting data with a non sequence type is deprecated since 3.7 and will be remove two minor releases later\n",
            "  line_vertical.set_xdata(bitcoin_df['ds'][end_idx])  #line_vertical의 x 데이터를 변경한다. bitcoin_df의 y 열에서 end_idx에 해당하는 행의 값을 가져오는것이다.\n"
          ]
        },
        {
          "output_type": "stream",
          "name": "stdout",
          "text": [
            "1/1 [==============================] - 0s 13ms/step - loss: 0.0045\n",
            "1/1 [==============================] - 0s 24ms/step\n"
          ]
        },
        {
          "output_type": "stream",
          "name": "stderr",
          "text": [
            "<ipython-input-7-53af35328c47>:54: MatplotlibDeprecationWarning: Setting data with a non sequence type is deprecated since 3.7 and will be remove two minor releases later\n",
            "  line_forecast.set_data(bitcoin_df['ds'][end_idx], predicted[0][0])  # line_forecast의 데이터를 bitcoin_df의 ds열에서 선택한 데이터와 predicted의 예측값으로 설정하여 그래프의 예측 선을 새로운 데이터로 업데이트 하는 것이다\n",
            "<ipython-input-7-53af35328c47>:29: MatplotlibDeprecationWarning: Setting data with a non sequence type is deprecated since 3.7 and will be remove two minor releases later\n",
            "  line_vertical.set_xdata(bitcoin_df['ds'][end_idx])  #line_vertical의 x 데이터를 변경한다. bitcoin_df의 y 열에서 end_idx에 해당하는 행의 값을 가져오는것이다.\n"
          ]
        },
        {
          "output_type": "stream",
          "name": "stdout",
          "text": [
            "1/1 [==============================] - 0s 14ms/step - loss: 0.0062\n",
            "1/1 [==============================] - 0s 27ms/step\n"
          ]
        },
        {
          "output_type": "stream",
          "name": "stderr",
          "text": [
            "<ipython-input-7-53af35328c47>:54: MatplotlibDeprecationWarning: Setting data with a non sequence type is deprecated since 3.7 and will be remove two minor releases later\n",
            "  line_forecast.set_data(bitcoin_df['ds'][end_idx], predicted[0][0])  # line_forecast의 데이터를 bitcoin_df의 ds열에서 선택한 데이터와 predicted의 예측값으로 설정하여 그래프의 예측 선을 새로운 데이터로 업데이트 하는 것이다\n",
            "<ipython-input-7-53af35328c47>:29: MatplotlibDeprecationWarning: Setting data with a non sequence type is deprecated since 3.7 and will be remove two minor releases later\n",
            "  line_vertical.set_xdata(bitcoin_df['ds'][end_idx])  #line_vertical의 x 데이터를 변경한다. bitcoin_df의 y 열에서 end_idx에 해당하는 행의 값을 가져오는것이다.\n"
          ]
        },
        {
          "output_type": "stream",
          "name": "stdout",
          "text": [
            "1/1 [==============================] - 0s 12ms/step - loss: 0.0209\n",
            "1/1 [==============================] - 0s 23ms/step\n"
          ]
        },
        {
          "output_type": "stream",
          "name": "stderr",
          "text": [
            "<ipython-input-7-53af35328c47>:54: MatplotlibDeprecationWarning: Setting data with a non sequence type is deprecated since 3.7 and will be remove two minor releases later\n",
            "  line_forecast.set_data(bitcoin_df['ds'][end_idx], predicted[0][0])  # line_forecast의 데이터를 bitcoin_df의 ds열에서 선택한 데이터와 predicted의 예측값으로 설정하여 그래프의 예측 선을 새로운 데이터로 업데이트 하는 것이다\n",
            "<ipython-input-7-53af35328c47>:29: MatplotlibDeprecationWarning: Setting data with a non sequence type is deprecated since 3.7 and will be remove two minor releases later\n",
            "  line_vertical.set_xdata(bitcoin_df['ds'][end_idx])  #line_vertical의 x 데이터를 변경한다. bitcoin_df의 y 열에서 end_idx에 해당하는 행의 값을 가져오는것이다.\n"
          ]
        },
        {
          "output_type": "stream",
          "name": "stdout",
          "text": [
            "1/1 [==============================] - 0s 9ms/step - loss: 0.0300\n",
            "1/1 [==============================] - 0s 24ms/step\n"
          ]
        },
        {
          "output_type": "stream",
          "name": "stderr",
          "text": [
            "<ipython-input-7-53af35328c47>:54: MatplotlibDeprecationWarning: Setting data with a non sequence type is deprecated since 3.7 and will be remove two minor releases later\n",
            "  line_forecast.set_data(bitcoin_df['ds'][end_idx], predicted[0][0])  # line_forecast의 데이터를 bitcoin_df의 ds열에서 선택한 데이터와 predicted의 예측값으로 설정하여 그래프의 예측 선을 새로운 데이터로 업데이트 하는 것이다\n",
            "<ipython-input-7-53af35328c47>:29: MatplotlibDeprecationWarning: Setting data with a non sequence type is deprecated since 3.7 and will be remove two minor releases later\n",
            "  line_vertical.set_xdata(bitcoin_df['ds'][end_idx])  #line_vertical의 x 데이터를 변경한다. bitcoin_df의 y 열에서 end_idx에 해당하는 행의 값을 가져오는것이다.\n"
          ]
        },
        {
          "output_type": "stream",
          "name": "stdout",
          "text": [
            "1/1 [==============================] - 0s 13ms/step - loss: 0.0224\n",
            "1/1 [==============================] - 0s 26ms/step\n"
          ]
        },
        {
          "output_type": "stream",
          "name": "stderr",
          "text": [
            "<ipython-input-7-53af35328c47>:54: MatplotlibDeprecationWarning: Setting data with a non sequence type is deprecated since 3.7 and will be remove two minor releases later\n",
            "  line_forecast.set_data(bitcoin_df['ds'][end_idx], predicted[0][0])  # line_forecast의 데이터를 bitcoin_df의 ds열에서 선택한 데이터와 predicted의 예측값으로 설정하여 그래프의 예측 선을 새로운 데이터로 업데이트 하는 것이다\n",
            "<ipython-input-7-53af35328c47>:29: MatplotlibDeprecationWarning: Setting data with a non sequence type is deprecated since 3.7 and will be remove two minor releases later\n",
            "  line_vertical.set_xdata(bitcoin_df['ds'][end_idx])  #line_vertical의 x 데이터를 변경한다. bitcoin_df의 y 열에서 end_idx에 해당하는 행의 값을 가져오는것이다.\n"
          ]
        },
        {
          "output_type": "stream",
          "name": "stdout",
          "text": [
            "1/1 [==============================] - 0s 10ms/step - loss: 0.0199\n",
            "1/1 [==============================] - 0s 22ms/step\n"
          ]
        },
        {
          "output_type": "stream",
          "name": "stderr",
          "text": [
            "<ipython-input-7-53af35328c47>:54: MatplotlibDeprecationWarning: Setting data with a non sequence type is deprecated since 3.7 and will be remove two minor releases later\n",
            "  line_forecast.set_data(bitcoin_df['ds'][end_idx], predicted[0][0])  # line_forecast의 데이터를 bitcoin_df의 ds열에서 선택한 데이터와 predicted의 예측값으로 설정하여 그래프의 예측 선을 새로운 데이터로 업데이트 하는 것이다\n",
            "<ipython-input-7-53af35328c47>:29: MatplotlibDeprecationWarning: Setting data with a non sequence type is deprecated since 3.7 and will be remove two minor releases later\n",
            "  line_vertical.set_xdata(bitcoin_df['ds'][end_idx])  #line_vertical의 x 데이터를 변경한다. bitcoin_df의 y 열에서 end_idx에 해당하는 행의 값을 가져오는것이다.\n"
          ]
        },
        {
          "output_type": "stream",
          "name": "stdout",
          "text": [
            "1/1 [==============================] - 0s 9ms/step - loss: 0.0180\n",
            "1/1 [==============================] - 0s 39ms/step\n"
          ]
        },
        {
          "output_type": "stream",
          "name": "stderr",
          "text": [
            "<ipython-input-7-53af35328c47>:54: MatplotlibDeprecationWarning: Setting data with a non sequence type is deprecated since 3.7 and will be remove two minor releases later\n",
            "  line_forecast.set_data(bitcoin_df['ds'][end_idx], predicted[0][0])  # line_forecast의 데이터를 bitcoin_df의 ds열에서 선택한 데이터와 predicted의 예측값으로 설정하여 그래프의 예측 선을 새로운 데이터로 업데이트 하는 것이다\n",
            "<ipython-input-7-53af35328c47>:29: MatplotlibDeprecationWarning: Setting data with a non sequence type is deprecated since 3.7 and will be remove two minor releases later\n",
            "  line_vertical.set_xdata(bitcoin_df['ds'][end_idx])  #line_vertical의 x 데이터를 변경한다. bitcoin_df의 y 열에서 end_idx에 해당하는 행의 값을 가져오는것이다.\n"
          ]
        },
        {
          "output_type": "stream",
          "name": "stdout",
          "text": [
            "1/1 [==============================] - 0s 16ms/step - loss: 0.0041\n",
            "1/1 [==============================] - 0s 31ms/step\n"
          ]
        },
        {
          "output_type": "stream",
          "name": "stderr",
          "text": [
            "<ipython-input-7-53af35328c47>:54: MatplotlibDeprecationWarning: Setting data with a non sequence type is deprecated since 3.7 and will be remove two minor releases later\n",
            "  line_forecast.set_data(bitcoin_df['ds'][end_idx], predicted[0][0])  # line_forecast의 데이터를 bitcoin_df의 ds열에서 선택한 데이터와 predicted의 예측값으로 설정하여 그래프의 예측 선을 새로운 데이터로 업데이트 하는 것이다\n",
            "<ipython-input-7-53af35328c47>:29: MatplotlibDeprecationWarning: Setting data with a non sequence type is deprecated since 3.7 and will be remove two minor releases later\n",
            "  line_vertical.set_xdata(bitcoin_df['ds'][end_idx])  #line_vertical의 x 데이터를 변경한다. bitcoin_df의 y 열에서 end_idx에 해당하는 행의 값을 가져오는것이다.\n"
          ]
        },
        {
          "output_type": "stream",
          "name": "stdout",
          "text": [
            "1/1 [==============================] - 0s 13ms/step - loss: 0.0078\n",
            "1/1 [==============================] - 0s 28ms/step\n"
          ]
        },
        {
          "output_type": "stream",
          "name": "stderr",
          "text": [
            "<ipython-input-7-53af35328c47>:54: MatplotlibDeprecationWarning: Setting data with a non sequence type is deprecated since 3.7 and will be remove two minor releases later\n",
            "  line_forecast.set_data(bitcoin_df['ds'][end_idx], predicted[0][0])  # line_forecast의 데이터를 bitcoin_df의 ds열에서 선택한 데이터와 predicted의 예측값으로 설정하여 그래프의 예측 선을 새로운 데이터로 업데이트 하는 것이다\n",
            "<ipython-input-7-53af35328c47>:29: MatplotlibDeprecationWarning: Setting data with a non sequence type is deprecated since 3.7 and will be remove two minor releases later\n",
            "  line_vertical.set_xdata(bitcoin_df['ds'][end_idx])  #line_vertical의 x 데이터를 변경한다. bitcoin_df의 y 열에서 end_idx에 해당하는 행의 값을 가져오는것이다.\n"
          ]
        },
        {
          "output_type": "stream",
          "name": "stdout",
          "text": [
            "1/1 [==============================] - 0s 13ms/step - loss: 0.0053\n",
            "1/1 [==============================] - 0s 27ms/step\n"
          ]
        },
        {
          "output_type": "stream",
          "name": "stderr",
          "text": [
            "<ipython-input-7-53af35328c47>:54: MatplotlibDeprecationWarning: Setting data with a non sequence type is deprecated since 3.7 and will be remove two minor releases later\n",
            "  line_forecast.set_data(bitcoin_df['ds'][end_idx], predicted[0][0])  # line_forecast의 데이터를 bitcoin_df의 ds열에서 선택한 데이터와 predicted의 예측값으로 설정하여 그래프의 예측 선을 새로운 데이터로 업데이트 하는 것이다\n",
            "<ipython-input-7-53af35328c47>:29: MatplotlibDeprecationWarning: Setting data with a non sequence type is deprecated since 3.7 and will be remove two minor releases later\n",
            "  line_vertical.set_xdata(bitcoin_df['ds'][end_idx])  #line_vertical의 x 데이터를 변경한다. bitcoin_df의 y 열에서 end_idx에 해당하는 행의 값을 가져오는것이다.\n"
          ]
        },
        {
          "output_type": "stream",
          "name": "stdout",
          "text": [
            "1/1 [==============================] - 0s 9ms/step - loss: 3.5056e-04\n",
            "1/1 [==============================] - 0s 24ms/step\n"
          ]
        },
        {
          "output_type": "stream",
          "name": "stderr",
          "text": [
            "<ipython-input-7-53af35328c47>:54: MatplotlibDeprecationWarning: Setting data with a non sequence type is deprecated since 3.7 and will be remove two minor releases later\n",
            "  line_forecast.set_data(bitcoin_df['ds'][end_idx], predicted[0][0])  # line_forecast의 데이터를 bitcoin_df의 ds열에서 선택한 데이터와 predicted의 예측값으로 설정하여 그래프의 예측 선을 새로운 데이터로 업데이트 하는 것이다\n",
            "<ipython-input-7-53af35328c47>:29: MatplotlibDeprecationWarning: Setting data with a non sequence type is deprecated since 3.7 and will be remove two minor releases later\n",
            "  line_vertical.set_xdata(bitcoin_df['ds'][end_idx])  #line_vertical의 x 데이터를 변경한다. bitcoin_df의 y 열에서 end_idx에 해당하는 행의 값을 가져오는것이다.\n"
          ]
        },
        {
          "output_type": "stream",
          "name": "stdout",
          "text": [
            "1/1 [==============================] - 0s 14ms/step - loss: 0.0029\n",
            "1/1 [==============================] - 0s 23ms/step\n"
          ]
        },
        {
          "output_type": "stream",
          "name": "stderr",
          "text": [
            "<ipython-input-7-53af35328c47>:54: MatplotlibDeprecationWarning: Setting data with a non sequence type is deprecated since 3.7 and will be remove two minor releases later\n",
            "  line_forecast.set_data(bitcoin_df['ds'][end_idx], predicted[0][0])  # line_forecast의 데이터를 bitcoin_df의 ds열에서 선택한 데이터와 predicted의 예측값으로 설정하여 그래프의 예측 선을 새로운 데이터로 업데이트 하는 것이다\n",
            "<ipython-input-7-53af35328c47>:29: MatplotlibDeprecationWarning: Setting data with a non sequence type is deprecated since 3.7 and will be remove two minor releases later\n",
            "  line_vertical.set_xdata(bitcoin_df['ds'][end_idx])  #line_vertical의 x 데이터를 변경한다. bitcoin_df의 y 열에서 end_idx에 해당하는 행의 값을 가져오는것이다.\n"
          ]
        },
        {
          "output_type": "stream",
          "name": "stdout",
          "text": [
            "1/1 [==============================] - 0s 23ms/step - loss: 1.5820e-04\n",
            "1/1 [==============================] - 0s 26ms/step\n"
          ]
        },
        {
          "output_type": "stream",
          "name": "stderr",
          "text": [
            "<ipython-input-7-53af35328c47>:54: MatplotlibDeprecationWarning: Setting data with a non sequence type is deprecated since 3.7 and will be remove two minor releases later\n",
            "  line_forecast.set_data(bitcoin_df['ds'][end_idx], predicted[0][0])  # line_forecast의 데이터를 bitcoin_df의 ds열에서 선택한 데이터와 predicted의 예측값으로 설정하여 그래프의 예측 선을 새로운 데이터로 업데이트 하는 것이다\n",
            "<ipython-input-7-53af35328c47>:29: MatplotlibDeprecationWarning: Setting data with a non sequence type is deprecated since 3.7 and will be remove two minor releases later\n",
            "  line_vertical.set_xdata(bitcoin_df['ds'][end_idx])  #line_vertical의 x 데이터를 변경한다. bitcoin_df의 y 열에서 end_idx에 해당하는 행의 값을 가져오는것이다.\n"
          ]
        },
        {
          "output_type": "stream",
          "name": "stdout",
          "text": [
            "1/1 [==============================] - 0s 10ms/step - loss: 2.6965e-05\n",
            "1/1 [==============================] - 0s 23ms/step\n"
          ]
        },
        {
          "output_type": "stream",
          "name": "stderr",
          "text": [
            "<ipython-input-7-53af35328c47>:54: MatplotlibDeprecationWarning: Setting data with a non sequence type is deprecated since 3.7 and will be remove two minor releases later\n",
            "  line_forecast.set_data(bitcoin_df['ds'][end_idx], predicted[0][0])  # line_forecast의 데이터를 bitcoin_df의 ds열에서 선택한 데이터와 predicted의 예측값으로 설정하여 그래프의 예측 선을 새로운 데이터로 업데이트 하는 것이다\n",
            "<ipython-input-7-53af35328c47>:29: MatplotlibDeprecationWarning: Setting data with a non sequence type is deprecated since 3.7 and will be remove two minor releases later\n",
            "  line_vertical.set_xdata(bitcoin_df['ds'][end_idx])  #line_vertical의 x 데이터를 변경한다. bitcoin_df의 y 열에서 end_idx에 해당하는 행의 값을 가져오는것이다.\n"
          ]
        },
        {
          "output_type": "stream",
          "name": "stdout",
          "text": [
            "1/1 [==============================] - 0s 10ms/step - loss: 0.0012\n",
            "1/1 [==============================] - 0s 28ms/step\n"
          ]
        },
        {
          "output_type": "stream",
          "name": "stderr",
          "text": [
            "<ipython-input-7-53af35328c47>:54: MatplotlibDeprecationWarning: Setting data with a non sequence type is deprecated since 3.7 and will be remove two minor releases later\n",
            "  line_forecast.set_data(bitcoin_df['ds'][end_idx], predicted[0][0])  # line_forecast의 데이터를 bitcoin_df의 ds열에서 선택한 데이터와 predicted의 예측값으로 설정하여 그래프의 예측 선을 새로운 데이터로 업데이트 하는 것이다\n",
            "<ipython-input-7-53af35328c47>:29: MatplotlibDeprecationWarning: Setting data with a non sequence type is deprecated since 3.7 and will be remove two minor releases later\n",
            "  line_vertical.set_xdata(bitcoin_df['ds'][end_idx])  #line_vertical의 x 데이터를 변경한다. bitcoin_df의 y 열에서 end_idx에 해당하는 행의 값을 가져오는것이다.\n"
          ]
        },
        {
          "output_type": "stream",
          "name": "stdout",
          "text": [
            "1/1 [==============================] - 0s 16ms/step - loss: 6.1553e-04\n",
            "1/1 [==============================] - 0s 23ms/step\n",
            "1/1 [==============================] - ETA: 0s - loss: 3.5981e-05"
          ]
        },
        {
          "output_type": "stream",
          "name": "stderr",
          "text": [
            "<ipython-input-7-53af35328c47>:54: MatplotlibDeprecationWarning: Setting data with a non sequence type is deprecated since 3.7 and will be remove two minor releases later\n",
            "  line_forecast.set_data(bitcoin_df['ds'][end_idx], predicted[0][0])  # line_forecast의 데이터를 bitcoin_df의 ds열에서 선택한 데이터와 predicted의 예측값으로 설정하여 그래프의 예측 선을 새로운 데이터로 업데이트 하는 것이다\n",
            "<ipython-input-7-53af35328c47>:29: MatplotlibDeprecationWarning: Setting data with a non sequence type is deprecated since 3.7 and will be remove two minor releases later\n",
            "  line_vertical.set_xdata(bitcoin_df['ds'][end_idx])  #line_vertical의 x 데이터를 변경한다. bitcoin_df의 y 열에서 end_idx에 해당하는 행의 값을 가져오는것이다.\n"
          ]
        },
        {
          "output_type": "stream",
          "name": "stdout",
          "text": [
            "1/1 [==============================] - 0s 9ms/step - loss: 3.5981e-05\n",
            "1/1 [==============================] - 0s 24ms/step\n"
          ]
        },
        {
          "output_type": "stream",
          "name": "stderr",
          "text": [
            "<ipython-input-7-53af35328c47>:54: MatplotlibDeprecationWarning: Setting data with a non sequence type is deprecated since 3.7 and will be remove two minor releases later\n",
            "  line_forecast.set_data(bitcoin_df['ds'][end_idx], predicted[0][0])  # line_forecast의 데이터를 bitcoin_df의 ds열에서 선택한 데이터와 predicted의 예측값으로 설정하여 그래프의 예측 선을 새로운 데이터로 업데이트 하는 것이다\n",
            "<ipython-input-7-53af35328c47>:29: MatplotlibDeprecationWarning: Setting data with a non sequence type is deprecated since 3.7 and will be remove two minor releases later\n",
            "  line_vertical.set_xdata(bitcoin_df['ds'][end_idx])  #line_vertical의 x 데이터를 변경한다. bitcoin_df의 y 열에서 end_idx에 해당하는 행의 값을 가져오는것이다.\n"
          ]
        },
        {
          "output_type": "stream",
          "name": "stdout",
          "text": [
            "1/1 [==============================] - 0s 10ms/step - loss: 0.0052\n",
            "1/1 [==============================] - 0s 29ms/step\n"
          ]
        },
        {
          "output_type": "stream",
          "name": "stderr",
          "text": [
            "<ipython-input-7-53af35328c47>:54: MatplotlibDeprecationWarning: Setting data with a non sequence type is deprecated since 3.7 and will be remove two minor releases later\n",
            "  line_forecast.set_data(bitcoin_df['ds'][end_idx], predicted[0][0])  # line_forecast의 데이터를 bitcoin_df의 ds열에서 선택한 데이터와 predicted의 예측값으로 설정하여 그래프의 예측 선을 새로운 데이터로 업데이트 하는 것이다\n",
            "<ipython-input-7-53af35328c47>:29: MatplotlibDeprecationWarning: Setting data with a non sequence type is deprecated since 3.7 and will be remove two minor releases later\n",
            "  line_vertical.set_xdata(bitcoin_df['ds'][end_idx])  #line_vertical의 x 데이터를 변경한다. bitcoin_df의 y 열에서 end_idx에 해당하는 행의 값을 가져오는것이다.\n"
          ]
        },
        {
          "output_type": "stream",
          "name": "stdout",
          "text": [
            "1/1 [==============================] - 0s 13ms/step - loss: 1.6439e-04\n",
            "1/1 [==============================] - 0s 26ms/step\n"
          ]
        },
        {
          "output_type": "stream",
          "name": "stderr",
          "text": [
            "<ipython-input-7-53af35328c47>:54: MatplotlibDeprecationWarning: Setting data with a non sequence type is deprecated since 3.7 and will be remove two minor releases later\n",
            "  line_forecast.set_data(bitcoin_df['ds'][end_idx], predicted[0][0])  # line_forecast의 데이터를 bitcoin_df의 ds열에서 선택한 데이터와 predicted의 예측값으로 설정하여 그래프의 예측 선을 새로운 데이터로 업데이트 하는 것이다\n",
            "<ipython-input-7-53af35328c47>:29: MatplotlibDeprecationWarning: Setting data with a non sequence type is deprecated since 3.7 and will be remove two minor releases later\n",
            "  line_vertical.set_xdata(bitcoin_df['ds'][end_idx])  #line_vertical의 x 데이터를 변경한다. bitcoin_df의 y 열에서 end_idx에 해당하는 행의 값을 가져오는것이다.\n"
          ]
        },
        {
          "output_type": "stream",
          "name": "stdout",
          "text": [
            "1/1 [==============================] - 0s 11ms/step - loss: 1.0614e-04\n",
            "1/1 [==============================] - 0s 23ms/step\n"
          ]
        },
        {
          "output_type": "stream",
          "name": "stderr",
          "text": [
            "<ipython-input-7-53af35328c47>:54: MatplotlibDeprecationWarning: Setting data with a non sequence type is deprecated since 3.7 and will be remove two minor releases later\n",
            "  line_forecast.set_data(bitcoin_df['ds'][end_idx], predicted[0][0])  # line_forecast의 데이터를 bitcoin_df의 ds열에서 선택한 데이터와 predicted의 예측값으로 설정하여 그래프의 예측 선을 새로운 데이터로 업데이트 하는 것이다\n",
            "<ipython-input-7-53af35328c47>:29: MatplotlibDeprecationWarning: Setting data with a non sequence type is deprecated since 3.7 and will be remove two minor releases later\n",
            "  line_vertical.set_xdata(bitcoin_df['ds'][end_idx])  #line_vertical의 x 데이터를 변경한다. bitcoin_df의 y 열에서 end_idx에 해당하는 행의 값을 가져오는것이다.\n"
          ]
        },
        {
          "output_type": "stream",
          "name": "stdout",
          "text": [
            "1/1 [==============================] - 0s 17ms/step - loss: 0.0067\n",
            "1/1 [==============================] - 0s 32ms/step\n"
          ]
        },
        {
          "output_type": "stream",
          "name": "stderr",
          "text": [
            "<ipython-input-7-53af35328c47>:54: MatplotlibDeprecationWarning: Setting data with a non sequence type is deprecated since 3.7 and will be remove two minor releases later\n",
            "  line_forecast.set_data(bitcoin_df['ds'][end_idx], predicted[0][0])  # line_forecast의 데이터를 bitcoin_df의 ds열에서 선택한 데이터와 predicted의 예측값으로 설정하여 그래프의 예측 선을 새로운 데이터로 업데이트 하는 것이다\n",
            "<ipython-input-7-53af35328c47>:29: MatplotlibDeprecationWarning: Setting data with a non sequence type is deprecated since 3.7 and will be remove two minor releases later\n",
            "  line_vertical.set_xdata(bitcoin_df['ds'][end_idx])  #line_vertical의 x 데이터를 변경한다. bitcoin_df의 y 열에서 end_idx에 해당하는 행의 값을 가져오는것이다.\n"
          ]
        },
        {
          "output_type": "stream",
          "name": "stdout",
          "text": [
            "1/1 [==============================] - 0s 20ms/step - loss: 0.0115\n",
            "1/1 [==============================] - 0s 24ms/step\n"
          ]
        },
        {
          "output_type": "stream",
          "name": "stderr",
          "text": [
            "<ipython-input-7-53af35328c47>:54: MatplotlibDeprecationWarning: Setting data with a non sequence type is deprecated since 3.7 and will be remove two minor releases later\n",
            "  line_forecast.set_data(bitcoin_df['ds'][end_idx], predicted[0][0])  # line_forecast의 데이터를 bitcoin_df의 ds열에서 선택한 데이터와 predicted의 예측값으로 설정하여 그래프의 예측 선을 새로운 데이터로 업데이트 하는 것이다\n",
            "<ipython-input-7-53af35328c47>:29: MatplotlibDeprecationWarning: Setting data with a non sequence type is deprecated since 3.7 and will be remove two minor releases later\n",
            "  line_vertical.set_xdata(bitcoin_df['ds'][end_idx])  #line_vertical의 x 데이터를 변경한다. bitcoin_df의 y 열에서 end_idx에 해당하는 행의 값을 가져오는것이다.\n"
          ]
        },
        {
          "output_type": "stream",
          "name": "stdout",
          "text": [
            "1/1 [==============================] - 0s 9ms/step - loss: 0.0486\n",
            "1/1 [==============================] - 0s 25ms/step\n"
          ]
        },
        {
          "output_type": "stream",
          "name": "stderr",
          "text": [
            "<ipython-input-7-53af35328c47>:54: MatplotlibDeprecationWarning: Setting data with a non sequence type is deprecated since 3.7 and will be remove two minor releases later\n",
            "  line_forecast.set_data(bitcoin_df['ds'][end_idx], predicted[0][0])  # line_forecast의 데이터를 bitcoin_df의 ds열에서 선택한 데이터와 predicted의 예측값으로 설정하여 그래프의 예측 선을 새로운 데이터로 업데이트 하는 것이다\n",
            "<ipython-input-7-53af35328c47>:29: MatplotlibDeprecationWarning: Setting data with a non sequence type is deprecated since 3.7 and will be remove two minor releases later\n",
            "  line_vertical.set_xdata(bitcoin_df['ds'][end_idx])  #line_vertical의 x 데이터를 변경한다. bitcoin_df의 y 열에서 end_idx에 해당하는 행의 값을 가져오는것이다.\n"
          ]
        },
        {
          "output_type": "stream",
          "name": "stdout",
          "text": [
            "1/1 [==============================] - 0s 16ms/step - loss: 0.0340\n",
            "1/1 [==============================] - 0s 33ms/step\n"
          ]
        },
        {
          "output_type": "stream",
          "name": "stderr",
          "text": [
            "<ipython-input-7-53af35328c47>:54: MatplotlibDeprecationWarning: Setting data with a non sequence type is deprecated since 3.7 and will be remove two minor releases later\n",
            "  line_forecast.set_data(bitcoin_df['ds'][end_idx], predicted[0][0])  # line_forecast의 데이터를 bitcoin_df의 ds열에서 선택한 데이터와 predicted의 예측값으로 설정하여 그래프의 예측 선을 새로운 데이터로 업데이트 하는 것이다\n",
            "<ipython-input-7-53af35328c47>:29: MatplotlibDeprecationWarning: Setting data with a non sequence type is deprecated since 3.7 and will be remove two minor releases later\n",
            "  line_vertical.set_xdata(bitcoin_df['ds'][end_idx])  #line_vertical의 x 데이터를 변경한다. bitcoin_df의 y 열에서 end_idx에 해당하는 행의 값을 가져오는것이다.\n"
          ]
        },
        {
          "output_type": "stream",
          "name": "stdout",
          "text": [
            "1/1 [==============================] - 0s 13ms/step - loss: 0.0115\n",
            "1/1 [==============================] - 0s 30ms/step\n"
          ]
        },
        {
          "output_type": "stream",
          "name": "stderr",
          "text": [
            "<ipython-input-7-53af35328c47>:54: MatplotlibDeprecationWarning: Setting data with a non sequence type is deprecated since 3.7 and will be remove two minor releases later\n",
            "  line_forecast.set_data(bitcoin_df['ds'][end_idx], predicted[0][0])  # line_forecast의 데이터를 bitcoin_df의 ds열에서 선택한 데이터와 predicted의 예측값으로 설정하여 그래프의 예측 선을 새로운 데이터로 업데이트 하는 것이다\n",
            "<ipython-input-7-53af35328c47>:29: MatplotlibDeprecationWarning: Setting data with a non sequence type is deprecated since 3.7 and will be remove two minor releases later\n",
            "  line_vertical.set_xdata(bitcoin_df['ds'][end_idx])  #line_vertical의 x 데이터를 변경한다. bitcoin_df의 y 열에서 end_idx에 해당하는 행의 값을 가져오는것이다.\n"
          ]
        },
        {
          "output_type": "stream",
          "name": "stdout",
          "text": [
            "1/1 [==============================] - 0s 10ms/step - loss: 0.0204\n",
            "1/1 [==============================] - 0s 22ms/step\n"
          ]
        },
        {
          "output_type": "stream",
          "name": "stderr",
          "text": [
            "<ipython-input-7-53af35328c47>:54: MatplotlibDeprecationWarning: Setting data with a non sequence type is deprecated since 3.7 and will be remove two minor releases later\n",
            "  line_forecast.set_data(bitcoin_df['ds'][end_idx], predicted[0][0])  # line_forecast의 데이터를 bitcoin_df의 ds열에서 선택한 데이터와 predicted의 예측값으로 설정하여 그래프의 예측 선을 새로운 데이터로 업데이트 하는 것이다\n",
            "<ipython-input-7-53af35328c47>:29: MatplotlibDeprecationWarning: Setting data with a non sequence type is deprecated since 3.7 and will be remove two minor releases later\n",
            "  line_vertical.set_xdata(bitcoin_df['ds'][end_idx])  #line_vertical의 x 데이터를 변경한다. bitcoin_df의 y 열에서 end_idx에 해당하는 행의 값을 가져오는것이다.\n"
          ]
        },
        {
          "output_type": "stream",
          "name": "stdout",
          "text": [
            "1/1 [==============================] - 0s 16ms/step - loss: 0.0229\n",
            "1/1 [==============================] - 0s 25ms/step\n"
          ]
        },
        {
          "output_type": "stream",
          "name": "stderr",
          "text": [
            "<ipython-input-7-53af35328c47>:54: MatplotlibDeprecationWarning: Setting data with a non sequence type is deprecated since 3.7 and will be remove two minor releases later\n",
            "  line_forecast.set_data(bitcoin_df['ds'][end_idx], predicted[0][0])  # line_forecast의 데이터를 bitcoin_df의 ds열에서 선택한 데이터와 predicted의 예측값으로 설정하여 그래프의 예측 선을 새로운 데이터로 업데이트 하는 것이다\n",
            "<ipython-input-7-53af35328c47>:29: MatplotlibDeprecationWarning: Setting data with a non sequence type is deprecated since 3.7 and will be remove two minor releases later\n",
            "  line_vertical.set_xdata(bitcoin_df['ds'][end_idx])  #line_vertical의 x 데이터를 변경한다. bitcoin_df의 y 열에서 end_idx에 해당하는 행의 값을 가져오는것이다.\n"
          ]
        },
        {
          "output_type": "stream",
          "name": "stdout",
          "text": [
            "1/1 [==============================] - 0s 9ms/step - loss: 0.0147\n",
            "1/1 [==============================] - 0s 26ms/step\n"
          ]
        },
        {
          "output_type": "stream",
          "name": "stderr",
          "text": [
            "<ipython-input-7-53af35328c47>:54: MatplotlibDeprecationWarning: Setting data with a non sequence type is deprecated since 3.7 and will be remove two minor releases later\n",
            "  line_forecast.set_data(bitcoin_df['ds'][end_idx], predicted[0][0])  # line_forecast의 데이터를 bitcoin_df의 ds열에서 선택한 데이터와 predicted의 예측값으로 설정하여 그래프의 예측 선을 새로운 데이터로 업데이트 하는 것이다\n",
            "<ipython-input-7-53af35328c47>:29: MatplotlibDeprecationWarning: Setting data with a non sequence type is deprecated since 3.7 and will be remove two minor releases later\n",
            "  line_vertical.set_xdata(bitcoin_df['ds'][end_idx])  #line_vertical의 x 데이터를 변경한다. bitcoin_df의 y 열에서 end_idx에 해당하는 행의 값을 가져오는것이다.\n"
          ]
        },
        {
          "output_type": "stream",
          "name": "stdout",
          "text": [
            "1/1 [==============================] - 0s 14ms/step - loss: 0.0100\n",
            "1/1 [==============================] - 0s 24ms/step\n"
          ]
        },
        {
          "output_type": "stream",
          "name": "stderr",
          "text": [
            "<ipython-input-7-53af35328c47>:54: MatplotlibDeprecationWarning: Setting data with a non sequence type is deprecated since 3.7 and will be remove two minor releases later\n",
            "  line_forecast.set_data(bitcoin_df['ds'][end_idx], predicted[0][0])  # line_forecast의 데이터를 bitcoin_df의 ds열에서 선택한 데이터와 predicted의 예측값으로 설정하여 그래프의 예측 선을 새로운 데이터로 업데이트 하는 것이다\n",
            "<ipython-input-7-53af35328c47>:29: MatplotlibDeprecationWarning: Setting data with a non sequence type is deprecated since 3.7 and will be remove two minor releases later\n",
            "  line_vertical.set_xdata(bitcoin_df['ds'][end_idx])  #line_vertical의 x 데이터를 변경한다. bitcoin_df의 y 열에서 end_idx에 해당하는 행의 값을 가져오는것이다.\n"
          ]
        },
        {
          "output_type": "stream",
          "name": "stdout",
          "text": [
            "1/1 [==============================] - 0s 10ms/step - loss: 0.0070\n",
            "1/1 [==============================] - 0s 38ms/step\n"
          ]
        },
        {
          "output_type": "stream",
          "name": "stderr",
          "text": [
            "<ipython-input-7-53af35328c47>:54: MatplotlibDeprecationWarning: Setting data with a non sequence type is deprecated since 3.7 and will be remove two minor releases later\n",
            "  line_forecast.set_data(bitcoin_df['ds'][end_idx], predicted[0][0])  # line_forecast의 데이터를 bitcoin_df의 ds열에서 선택한 데이터와 predicted의 예측값으로 설정하여 그래프의 예측 선을 새로운 데이터로 업데이트 하는 것이다\n",
            "<ipython-input-7-53af35328c47>:29: MatplotlibDeprecationWarning: Setting data with a non sequence type is deprecated since 3.7 and will be remove two minor releases later\n",
            "  line_vertical.set_xdata(bitcoin_df['ds'][end_idx])  #line_vertical의 x 데이터를 변경한다. bitcoin_df의 y 열에서 end_idx에 해당하는 행의 값을 가져오는것이다.\n"
          ]
        },
        {
          "output_type": "stream",
          "name": "stdout",
          "text": [
            "1/1 [==============================] - 0s 13ms/step - loss: 0.0089\n",
            "1/1 [==============================] - 0s 39ms/step\n"
          ]
        },
        {
          "output_type": "stream",
          "name": "stderr",
          "text": [
            "<ipython-input-7-53af35328c47>:54: MatplotlibDeprecationWarning: Setting data with a non sequence type is deprecated since 3.7 and will be remove two minor releases later\n",
            "  line_forecast.set_data(bitcoin_df['ds'][end_idx], predicted[0][0])  # line_forecast의 데이터를 bitcoin_df의 ds열에서 선택한 데이터와 predicted의 예측값으로 설정하여 그래프의 예측 선을 새로운 데이터로 업데이트 하는 것이다\n"
          ]
        },
        {
          "output_type": "stream",
          "name": "stdout",
          "text": [
            "1/1 [==============================] - 0s 19ms/step - loss: 0.0168\n"
          ]
        },
        {
          "output_type": "stream",
          "name": "stderr",
          "text": [
            "<ipython-input-7-53af35328c47>:29: MatplotlibDeprecationWarning: Setting data with a non sequence type is deprecated since 3.7 and will be remove two minor releases later\n",
            "  line_vertical.set_xdata(bitcoin_df['ds'][end_idx])  #line_vertical의 x 데이터를 변경한다. bitcoin_df의 y 열에서 end_idx에 해당하는 행의 값을 가져오는것이다.\n"
          ]
        },
        {
          "output_type": "stream",
          "name": "stdout",
          "text": [
            "1/1 [==============================] - 0s 48ms/step\n"
          ]
        },
        {
          "output_type": "stream",
          "name": "stderr",
          "text": [
            "<ipython-input-7-53af35328c47>:54: MatplotlibDeprecationWarning: Setting data with a non sequence type is deprecated since 3.7 and will be remove two minor releases later\n",
            "  line_forecast.set_data(bitcoin_df['ds'][end_idx], predicted[0][0])  # line_forecast의 데이터를 bitcoin_df의 ds열에서 선택한 데이터와 predicted의 예측값으로 설정하여 그래프의 예측 선을 새로운 데이터로 업데이트 하는 것이다\n"
          ]
        },
        {
          "output_type": "stream",
          "name": "stdout",
          "text": [
            "1/1 [==============================] - 0s 16ms/step - loss: 0.0119\n"
          ]
        },
        {
          "output_type": "stream",
          "name": "stderr",
          "text": [
            "<ipython-input-7-53af35328c47>:29: MatplotlibDeprecationWarning: Setting data with a non sequence type is deprecated since 3.7 and will be remove two minor releases later\n",
            "  line_vertical.set_xdata(bitcoin_df['ds'][end_idx])  #line_vertical의 x 데이터를 변경한다. bitcoin_df의 y 열에서 end_idx에 해당하는 행의 값을 가져오는것이다.\n"
          ]
        },
        {
          "output_type": "stream",
          "name": "stdout",
          "text": [
            "1/1 [==============================] - 0s 41ms/step\n"
          ]
        },
        {
          "output_type": "stream",
          "name": "stderr",
          "text": [
            "<ipython-input-7-53af35328c47>:54: MatplotlibDeprecationWarning: Setting data with a non sequence type is deprecated since 3.7 and will be remove two minor releases later\n",
            "  line_forecast.set_data(bitcoin_df['ds'][end_idx], predicted[0][0])  # line_forecast의 데이터를 bitcoin_df의 ds열에서 선택한 데이터와 predicted의 예측값으로 설정하여 그래프의 예측 선을 새로운 데이터로 업데이트 하는 것이다\n"
          ]
        },
        {
          "output_type": "stream",
          "name": "stdout",
          "text": [
            "1/1 [==============================] - 0s 15ms/step - loss: 0.0043\n"
          ]
        },
        {
          "output_type": "stream",
          "name": "stderr",
          "text": [
            "<ipython-input-7-53af35328c47>:29: MatplotlibDeprecationWarning: Setting data with a non sequence type is deprecated since 3.7 and will be remove two minor releases later\n",
            "  line_vertical.set_xdata(bitcoin_df['ds'][end_idx])  #line_vertical의 x 데이터를 변경한다. bitcoin_df의 y 열에서 end_idx에 해당하는 행의 값을 가져오는것이다.\n"
          ]
        },
        {
          "output_type": "stream",
          "name": "stdout",
          "text": [
            "1/1 [==============================] - 0s 48ms/step\n"
          ]
        },
        {
          "output_type": "stream",
          "name": "stderr",
          "text": [
            "<ipython-input-7-53af35328c47>:54: MatplotlibDeprecationWarning: Setting data with a non sequence type is deprecated since 3.7 and will be remove two minor releases later\n",
            "  line_forecast.set_data(bitcoin_df['ds'][end_idx], predicted[0][0])  # line_forecast의 데이터를 bitcoin_df의 ds열에서 선택한 데이터와 predicted의 예측값으로 설정하여 그래프의 예측 선을 새로운 데이터로 업데이트 하는 것이다\n"
          ]
        },
        {
          "output_type": "stream",
          "name": "stdout",
          "text": [
            "1/1 [==============================] - 0s 19ms/step - loss: 0.0426\n"
          ]
        },
        {
          "output_type": "stream",
          "name": "stderr",
          "text": [
            "<ipython-input-7-53af35328c47>:29: MatplotlibDeprecationWarning: Setting data with a non sequence type is deprecated since 3.7 and will be remove two minor releases later\n",
            "  line_vertical.set_xdata(bitcoin_df['ds'][end_idx])  #line_vertical의 x 데이터를 변경한다. bitcoin_df의 y 열에서 end_idx에 해당하는 행의 값을 가져오는것이다.\n"
          ]
        },
        {
          "output_type": "stream",
          "name": "stdout",
          "text": [
            "1/1 [==============================] - 0s 33ms/step\n"
          ]
        },
        {
          "output_type": "stream",
          "name": "stderr",
          "text": [
            "<ipython-input-7-53af35328c47>:54: MatplotlibDeprecationWarning: Setting data with a non sequence type is deprecated since 3.7 and will be remove two minor releases later\n",
            "  line_forecast.set_data(bitcoin_df['ds'][end_idx], predicted[0][0])  # line_forecast의 데이터를 bitcoin_df의 ds열에서 선택한 데이터와 predicted의 예측값으로 설정하여 그래프의 예측 선을 새로운 데이터로 업데이트 하는 것이다\n",
            "<ipython-input-7-53af35328c47>:29: MatplotlibDeprecationWarning: Setting data with a non sequence type is deprecated since 3.7 and will be remove two minor releases later\n",
            "  line_vertical.set_xdata(bitcoin_df['ds'][end_idx])  #line_vertical의 x 데이터를 변경한다. bitcoin_df의 y 열에서 end_idx에 해당하는 행의 값을 가져오는것이다.\n"
          ]
        },
        {
          "output_type": "stream",
          "name": "stdout",
          "text": [
            "1/1 [==============================] - 0s 12ms/step - loss: 0.0347\n",
            "1/1 [==============================] - 0s 36ms/step\n"
          ]
        },
        {
          "output_type": "stream",
          "name": "stderr",
          "text": [
            "<ipython-input-7-53af35328c47>:54: MatplotlibDeprecationWarning: Setting data with a non sequence type is deprecated since 3.7 and will be remove two minor releases later\n",
            "  line_forecast.set_data(bitcoin_df['ds'][end_idx], predicted[0][0])  # line_forecast의 데이터를 bitcoin_df의 ds열에서 선택한 데이터와 predicted의 예측값으로 설정하여 그래프의 예측 선을 새로운 데이터로 업데이트 하는 것이다\n"
          ]
        },
        {
          "output_type": "stream",
          "name": "stdout",
          "text": [
            "1/1 [==============================] - 0s 18ms/step - loss: 0.0168\n"
          ]
        },
        {
          "output_type": "stream",
          "name": "stderr",
          "text": [
            "<ipython-input-7-53af35328c47>:29: MatplotlibDeprecationWarning: Setting data with a non sequence type is deprecated since 3.7 and will be remove two minor releases later\n",
            "  line_vertical.set_xdata(bitcoin_df['ds'][end_idx])  #line_vertical의 x 데이터를 변경한다. bitcoin_df의 y 열에서 end_idx에 해당하는 행의 값을 가져오는것이다.\n"
          ]
        },
        {
          "output_type": "stream",
          "name": "stdout",
          "text": [
            "1/1 [==============================] - 0s 43ms/step\n"
          ]
        },
        {
          "output_type": "stream",
          "name": "stderr",
          "text": [
            "<ipython-input-7-53af35328c47>:54: MatplotlibDeprecationWarning: Setting data with a non sequence type is deprecated since 3.7 and will be remove two minor releases later\n",
            "  line_forecast.set_data(bitcoin_df['ds'][end_idx], predicted[0][0])  # line_forecast의 데이터를 bitcoin_df의 ds열에서 선택한 데이터와 predicted의 예측값으로 설정하여 그래프의 예측 선을 새로운 데이터로 업데이트 하는 것이다\n"
          ]
        },
        {
          "output_type": "stream",
          "name": "stdout",
          "text": [
            "1/1 [==============================] - 0s 18ms/step - loss: 0.0192\n"
          ]
        },
        {
          "output_type": "stream",
          "name": "stderr",
          "text": [
            "<ipython-input-7-53af35328c47>:29: MatplotlibDeprecationWarning: Setting data with a non sequence type is deprecated since 3.7 and will be remove two minor releases later\n",
            "  line_vertical.set_xdata(bitcoin_df['ds'][end_idx])  #line_vertical의 x 데이터를 변경한다. bitcoin_df의 y 열에서 end_idx에 해당하는 행의 값을 가져오는것이다.\n"
          ]
        },
        {
          "output_type": "stream",
          "name": "stdout",
          "text": [
            "1/1 [==============================] - 0s 57ms/step\n"
          ]
        },
        {
          "output_type": "stream",
          "name": "stderr",
          "text": [
            "<ipython-input-7-53af35328c47>:54: MatplotlibDeprecationWarning: Setting data with a non sequence type is deprecated since 3.7 and will be remove two minor releases later\n",
            "  line_forecast.set_data(bitcoin_df['ds'][end_idx], predicted[0][0])  # line_forecast의 데이터를 bitcoin_df의 ds열에서 선택한 데이터와 predicted의 예측값으로 설정하여 그래프의 예측 선을 새로운 데이터로 업데이트 하는 것이다\n"
          ]
        },
        {
          "output_type": "stream",
          "name": "stdout",
          "text": [
            "1/1 [==============================] - 0s 15ms/step - loss: 4.5938e-04\n"
          ]
        },
        {
          "output_type": "stream",
          "name": "stderr",
          "text": [
            "<ipython-input-7-53af35328c47>:29: MatplotlibDeprecationWarning: Setting data with a non sequence type is deprecated since 3.7 and will be remove two minor releases later\n",
            "  line_vertical.set_xdata(bitcoin_df['ds'][end_idx])  #line_vertical의 x 데이터를 변경한다. bitcoin_df의 y 열에서 end_idx에 해당하는 행의 값을 가져오는것이다.\n"
          ]
        },
        {
          "output_type": "stream",
          "name": "stdout",
          "text": [
            "1/1 [==============================] - 0s 42ms/step\n"
          ]
        },
        {
          "output_type": "stream",
          "name": "stderr",
          "text": [
            "<ipython-input-7-53af35328c47>:54: MatplotlibDeprecationWarning: Setting data with a non sequence type is deprecated since 3.7 and will be remove two minor releases later\n",
            "  line_forecast.set_data(bitcoin_df['ds'][end_idx], predicted[0][0])  # line_forecast의 데이터를 bitcoin_df의 ds열에서 선택한 데이터와 predicted의 예측값으로 설정하여 그래프의 예측 선을 새로운 데이터로 업데이트 하는 것이다\n"
          ]
        },
        {
          "output_type": "stream",
          "name": "stdout",
          "text": [
            "1/1 [==============================] - 0s 19ms/step - loss: 0.0214\n"
          ]
        },
        {
          "output_type": "stream",
          "name": "stderr",
          "text": [
            "<ipython-input-7-53af35328c47>:29: MatplotlibDeprecationWarning: Setting data with a non sequence type is deprecated since 3.7 and will be remove two minor releases later\n",
            "  line_vertical.set_xdata(bitcoin_df['ds'][end_idx])  #line_vertical의 x 데이터를 변경한다. bitcoin_df의 y 열에서 end_idx에 해당하는 행의 값을 가져오는것이다.\n"
          ]
        },
        {
          "output_type": "stream",
          "name": "stdout",
          "text": [
            "1/1 [==============================] - 0s 56ms/step\n"
          ]
        },
        {
          "output_type": "stream",
          "name": "stderr",
          "text": [
            "<ipython-input-7-53af35328c47>:54: MatplotlibDeprecationWarning: Setting data with a non sequence type is deprecated since 3.7 and will be remove two minor releases later\n",
            "  line_forecast.set_data(bitcoin_df['ds'][end_idx], predicted[0][0])  # line_forecast의 데이터를 bitcoin_df의 ds열에서 선택한 데이터와 predicted의 예측값으로 설정하여 그래프의 예측 선을 새로운 데이터로 업데이트 하는 것이다\n"
          ]
        },
        {
          "output_type": "stream",
          "name": "stdout",
          "text": [
            "1/1 [==============================] - 0s 14ms/step - loss: 0.0078\n",
            "1/1 [==============================] - 0s 30ms/step\n"
          ]
        },
        {
          "output_type": "stream",
          "name": "stderr",
          "text": [
            "<ipython-input-7-53af35328c47>:29: MatplotlibDeprecationWarning: Setting data with a non sequence type is deprecated since 3.7 and will be remove two minor releases later\n",
            "  line_vertical.set_xdata(bitcoin_df['ds'][end_idx])  #line_vertical의 x 데이터를 변경한다. bitcoin_df의 y 열에서 end_idx에 해당하는 행의 값을 가져오는것이다.\n",
            "<ipython-input-7-53af35328c47>:54: MatplotlibDeprecationWarning: Setting data with a non sequence type is deprecated since 3.7 and will be remove two minor releases later\n",
            "  line_forecast.set_data(bitcoin_df['ds'][end_idx], predicted[0][0])  # line_forecast의 데이터를 bitcoin_df의 ds열에서 선택한 데이터와 predicted의 예측값으로 설정하여 그래프의 예측 선을 새로운 데이터로 업데이트 하는 것이다\n"
          ]
        },
        {
          "output_type": "stream",
          "name": "stdout",
          "text": [
            "1/1 [==============================] - 0s 10ms/step - loss: 0.0078\n",
            "1/1 [==============================] - 0s 23ms/step\n"
          ]
        },
        {
          "output_type": "stream",
          "name": "stderr",
          "text": [
            "<ipython-input-7-53af35328c47>:29: MatplotlibDeprecationWarning: Setting data with a non sequence type is deprecated since 3.7 and will be remove two minor releases later\n",
            "  line_vertical.set_xdata(bitcoin_df['ds'][end_idx])  #line_vertical의 x 데이터를 변경한다. bitcoin_df의 y 열에서 end_idx에 해당하는 행의 값을 가져오는것이다.\n",
            "<ipython-input-7-53af35328c47>:54: MatplotlibDeprecationWarning: Setting data with a non sequence type is deprecated since 3.7 and will be remove two minor releases later\n",
            "  line_forecast.set_data(bitcoin_df['ds'][end_idx], predicted[0][0])  # line_forecast의 데이터를 bitcoin_df의 ds열에서 선택한 데이터와 predicted의 예측값으로 설정하여 그래프의 예측 선을 새로운 데이터로 업데이트 하는 것이다\n"
          ]
        },
        {
          "output_type": "stream",
          "name": "stdout",
          "text": [
            "1/1 [==============================] - 0s 9ms/step - loss: 0.0120\n",
            "1/1 [==============================] - 0s 23ms/step\n"
          ]
        },
        {
          "output_type": "stream",
          "name": "stderr",
          "text": [
            "<ipython-input-7-53af35328c47>:29: MatplotlibDeprecationWarning: Setting data with a non sequence type is deprecated since 3.7 and will be remove two minor releases later\n",
            "  line_vertical.set_xdata(bitcoin_df['ds'][end_idx])  #line_vertical의 x 데이터를 변경한다. bitcoin_df의 y 열에서 end_idx에 해당하는 행의 값을 가져오는것이다.\n",
            "<ipython-input-7-53af35328c47>:54: MatplotlibDeprecationWarning: Setting data with a non sequence type is deprecated since 3.7 and will be remove two minor releases later\n",
            "  line_forecast.set_data(bitcoin_df['ds'][end_idx], predicted[0][0])  # line_forecast의 데이터를 bitcoin_df의 ds열에서 선택한 데이터와 predicted의 예측값으로 설정하여 그래프의 예측 선을 새로운 데이터로 업데이트 하는 것이다\n"
          ]
        },
        {
          "output_type": "stream",
          "name": "stdout",
          "text": [
            "1/1 [==============================] - 0s 9ms/step - loss: 0.0040\n",
            "1/1 [==============================] - 0s 34ms/step\n"
          ]
        },
        {
          "output_type": "stream",
          "name": "stderr",
          "text": [
            "<ipython-input-7-53af35328c47>:29: MatplotlibDeprecationWarning: Setting data with a non sequence type is deprecated since 3.7 and will be remove two minor releases later\n",
            "  line_vertical.set_xdata(bitcoin_df['ds'][end_idx])  #line_vertical의 x 데이터를 변경한다. bitcoin_df의 y 열에서 end_idx에 해당하는 행의 값을 가져오는것이다.\n",
            "<ipython-input-7-53af35328c47>:54: MatplotlibDeprecationWarning: Setting data with a non sequence type is deprecated since 3.7 and will be remove two minor releases later\n",
            "  line_forecast.set_data(bitcoin_df['ds'][end_idx], predicted[0][0])  # line_forecast의 데이터를 bitcoin_df의 ds열에서 선택한 데이터와 predicted의 예측값으로 설정하여 그래프의 예측 선을 새로운 데이터로 업데이트 하는 것이다\n"
          ]
        },
        {
          "output_type": "stream",
          "name": "stdout",
          "text": [
            "1/1 [==============================] - 0s 13ms/step - loss: 4.8134e-04\n",
            "1/1 [==============================] - 0s 24ms/step\n"
          ]
        },
        {
          "output_type": "stream",
          "name": "stderr",
          "text": [
            "<ipython-input-7-53af35328c47>:29: MatplotlibDeprecationWarning: Setting data with a non sequence type is deprecated since 3.7 and will be remove two minor releases later\n",
            "  line_vertical.set_xdata(bitcoin_df['ds'][end_idx])  #line_vertical의 x 데이터를 변경한다. bitcoin_df의 y 열에서 end_idx에 해당하는 행의 값을 가져오는것이다.\n",
            "<ipython-input-7-53af35328c47>:54: MatplotlibDeprecationWarning: Setting data with a non sequence type is deprecated since 3.7 and will be remove two minor releases later\n",
            "  line_forecast.set_data(bitcoin_df['ds'][end_idx], predicted[0][0])  # line_forecast의 데이터를 bitcoin_df의 ds열에서 선택한 데이터와 predicted의 예측값으로 설정하여 그래프의 예측 선을 새로운 데이터로 업데이트 하는 것이다\n"
          ]
        },
        {
          "output_type": "stream",
          "name": "stdout",
          "text": [
            "1/1 [==============================] - 0s 9ms/step - loss: 5.0768e-06\n",
            "1/1 [==============================] - 0s 22ms/step\n"
          ]
        },
        {
          "output_type": "stream",
          "name": "stderr",
          "text": [
            "<ipython-input-7-53af35328c47>:29: MatplotlibDeprecationWarning: Setting data with a non sequence type is deprecated since 3.7 and will be remove two minor releases later\n",
            "  line_vertical.set_xdata(bitcoin_df['ds'][end_idx])  #line_vertical의 x 데이터를 변경한다. bitcoin_df의 y 열에서 end_idx에 해당하는 행의 값을 가져오는것이다.\n",
            "<ipython-input-7-53af35328c47>:54: MatplotlibDeprecationWarning: Setting data with a non sequence type is deprecated since 3.7 and will be remove two minor releases later\n",
            "  line_forecast.set_data(bitcoin_df['ds'][end_idx], predicted[0][0])  # line_forecast의 데이터를 bitcoin_df의 ds열에서 선택한 데이터와 predicted의 예측값으로 설정하여 그래프의 예측 선을 새로운 데이터로 업데이트 하는 것이다\n"
          ]
        },
        {
          "output_type": "stream",
          "name": "stdout",
          "text": [
            "1/1 [==============================] - 0s 10ms/step - loss: 0.0428\n",
            "1/1 [==============================] - 0s 24ms/step\n"
          ]
        },
        {
          "output_type": "stream",
          "name": "stderr",
          "text": [
            "<ipython-input-7-53af35328c47>:29: MatplotlibDeprecationWarning: Setting data with a non sequence type is deprecated since 3.7 and will be remove two minor releases later\n",
            "  line_vertical.set_xdata(bitcoin_df['ds'][end_idx])  #line_vertical의 x 데이터를 변경한다. bitcoin_df의 y 열에서 end_idx에 해당하는 행의 값을 가져오는것이다.\n",
            "<ipython-input-7-53af35328c47>:54: MatplotlibDeprecationWarning: Setting data with a non sequence type is deprecated since 3.7 and will be remove two minor releases later\n",
            "  line_forecast.set_data(bitcoin_df['ds'][end_idx], predicted[0][0])  # line_forecast의 데이터를 bitcoin_df의 ds열에서 선택한 데이터와 predicted의 예측값으로 설정하여 그래프의 예측 선을 새로운 데이터로 업데이트 하는 것이다\n"
          ]
        },
        {
          "output_type": "stream",
          "name": "stdout",
          "text": [
            "1/1 [==============================] - 0s 12ms/step - loss: 0.0243\n",
            "1/1 [==============================] - 0s 22ms/step\n"
          ]
        },
        {
          "output_type": "stream",
          "name": "stderr",
          "text": [
            "<ipython-input-7-53af35328c47>:29: MatplotlibDeprecationWarning: Setting data with a non sequence type is deprecated since 3.7 and will be remove two minor releases later\n",
            "  line_vertical.set_xdata(bitcoin_df['ds'][end_idx])  #line_vertical의 x 데이터를 변경한다. bitcoin_df의 y 열에서 end_idx에 해당하는 행의 값을 가져오는것이다.\n",
            "<ipython-input-7-53af35328c47>:54: MatplotlibDeprecationWarning: Setting data with a non sequence type is deprecated since 3.7 and will be remove two minor releases later\n",
            "  line_forecast.set_data(bitcoin_df['ds'][end_idx], predicted[0][0])  # line_forecast의 데이터를 bitcoin_df의 ds열에서 선택한 데이터와 predicted의 예측값으로 설정하여 그래프의 예측 선을 새로운 데이터로 업데이트 하는 것이다\n"
          ]
        },
        {
          "output_type": "stream",
          "name": "stdout",
          "text": [
            "1/1 [==============================] - 0s 9ms/step - loss: 0.0138\n",
            "1/1 [==============================] - 0s 30ms/step\n"
          ]
        },
        {
          "output_type": "stream",
          "name": "stderr",
          "text": [
            "<ipython-input-7-53af35328c47>:29: MatplotlibDeprecationWarning: Setting data with a non sequence type is deprecated since 3.7 and will be remove two minor releases later\n",
            "  line_vertical.set_xdata(bitcoin_df['ds'][end_idx])  #line_vertical의 x 데이터를 변경한다. bitcoin_df의 y 열에서 end_idx에 해당하는 행의 값을 가져오는것이다.\n",
            "<ipython-input-7-53af35328c47>:54: MatplotlibDeprecationWarning: Setting data with a non sequence type is deprecated since 3.7 and will be remove two minor releases later\n",
            "  line_forecast.set_data(bitcoin_df['ds'][end_idx], predicted[0][0])  # line_forecast의 데이터를 bitcoin_df의 ds열에서 선택한 데이터와 predicted의 예측값으로 설정하여 그래프의 예측 선을 새로운 데이터로 업데이트 하는 것이다\n"
          ]
        },
        {
          "output_type": "stream",
          "name": "stdout",
          "text": [
            "1/1 [==============================] - 0s 13ms/step - loss: 0.0343\n",
            "1/1 [==============================] - 0s 24ms/step\n"
          ]
        },
        {
          "output_type": "stream",
          "name": "stderr",
          "text": [
            "<ipython-input-7-53af35328c47>:29: MatplotlibDeprecationWarning: Setting data with a non sequence type is deprecated since 3.7 and will be remove two minor releases later\n",
            "  line_vertical.set_xdata(bitcoin_df['ds'][end_idx])  #line_vertical의 x 데이터를 변경한다. bitcoin_df의 y 열에서 end_idx에 해당하는 행의 값을 가져오는것이다.\n",
            "<ipython-input-7-53af35328c47>:54: MatplotlibDeprecationWarning: Setting data with a non sequence type is deprecated since 3.7 and will be remove two minor releases later\n",
            "  line_forecast.set_data(bitcoin_df['ds'][end_idx], predicted[0][0])  # line_forecast의 데이터를 bitcoin_df의 ds열에서 선택한 데이터와 predicted의 예측값으로 설정하여 그래프의 예측 선을 새로운 데이터로 업데이트 하는 것이다\n"
          ]
        },
        {
          "output_type": "stream",
          "name": "stdout",
          "text": [
            "1/1 [==============================] - 0s 12ms/step - loss: 0.0246\n",
            "1/1 [==============================] - 0s 31ms/step\n"
          ]
        },
        {
          "output_type": "stream",
          "name": "stderr",
          "text": [
            "<ipython-input-7-53af35328c47>:29: MatplotlibDeprecationWarning: Setting data with a non sequence type is deprecated since 3.7 and will be remove two minor releases later\n",
            "  line_vertical.set_xdata(bitcoin_df['ds'][end_idx])  #line_vertical의 x 데이터를 변경한다. bitcoin_df의 y 열에서 end_idx에 해당하는 행의 값을 가져오는것이다.\n",
            "<ipython-input-7-53af35328c47>:54: MatplotlibDeprecationWarning: Setting data with a non sequence type is deprecated since 3.7 and will be remove two minor releases later\n",
            "  line_forecast.set_data(bitcoin_df['ds'][end_idx], predicted[0][0])  # line_forecast의 데이터를 bitcoin_df의 ds열에서 선택한 데이터와 predicted의 예측값으로 설정하여 그래프의 예측 선을 새로운 데이터로 업데이트 하는 것이다\n"
          ]
        },
        {
          "output_type": "stream",
          "name": "stdout",
          "text": [
            "1/1 [==============================] - 0s 14ms/step - loss: 0.0387\n",
            "1/1 [==============================] - 0s 23ms/step\n"
          ]
        },
        {
          "output_type": "stream",
          "name": "stderr",
          "text": [
            "<ipython-input-7-53af35328c47>:29: MatplotlibDeprecationWarning: Setting data with a non sequence type is deprecated since 3.7 and will be remove two minor releases later\n",
            "  line_vertical.set_xdata(bitcoin_df['ds'][end_idx])  #line_vertical의 x 데이터를 변경한다. bitcoin_df의 y 열에서 end_idx에 해당하는 행의 값을 가져오는것이다.\n",
            "<ipython-input-7-53af35328c47>:54: MatplotlibDeprecationWarning: Setting data with a non sequence type is deprecated since 3.7 and will be remove two minor releases later\n",
            "  line_forecast.set_data(bitcoin_df['ds'][end_idx], predicted[0][0])  # line_forecast의 데이터를 bitcoin_df의 ds열에서 선택한 데이터와 predicted의 예측값으로 설정하여 그래프의 예측 선을 새로운 데이터로 업데이트 하는 것이다\n"
          ]
        },
        {
          "output_type": "stream",
          "name": "stdout",
          "text": [
            "1/1 [==============================] - 0s 13ms/step - loss: 0.0330\n",
            "1/1 [==============================] - 0s 24ms/step\n"
          ]
        },
        {
          "output_type": "stream",
          "name": "stderr",
          "text": [
            "<ipython-input-7-53af35328c47>:29: MatplotlibDeprecationWarning: Setting data with a non sequence type is deprecated since 3.7 and will be remove two minor releases later\n",
            "  line_vertical.set_xdata(bitcoin_df['ds'][end_idx])  #line_vertical의 x 데이터를 변경한다. bitcoin_df의 y 열에서 end_idx에 해당하는 행의 값을 가져오는것이다.\n",
            "<ipython-input-7-53af35328c47>:54: MatplotlibDeprecationWarning: Setting data with a non sequence type is deprecated since 3.7 and will be remove two minor releases later\n",
            "  line_forecast.set_data(bitcoin_df['ds'][end_idx], predicted[0][0])  # line_forecast의 데이터를 bitcoin_df의 ds열에서 선택한 데이터와 predicted의 예측값으로 설정하여 그래프의 예측 선을 새로운 데이터로 업데이트 하는 것이다\n"
          ]
        },
        {
          "output_type": "stream",
          "name": "stdout",
          "text": [
            "1/1 [==============================] - 0s 10ms/step - loss: 0.0947\n",
            "1/1 [==============================] - 0s 24ms/step\n"
          ]
        },
        {
          "output_type": "stream",
          "name": "stderr",
          "text": [
            "<ipython-input-7-53af35328c47>:29: MatplotlibDeprecationWarning: Setting data with a non sequence type is deprecated since 3.7 and will be remove two minor releases later\n",
            "  line_vertical.set_xdata(bitcoin_df['ds'][end_idx])  #line_vertical의 x 데이터를 변경한다. bitcoin_df의 y 열에서 end_idx에 해당하는 행의 값을 가져오는것이다.\n",
            "<ipython-input-7-53af35328c47>:54: MatplotlibDeprecationWarning: Setting data with a non sequence type is deprecated since 3.7 and will be remove two minor releases later\n",
            "  line_forecast.set_data(bitcoin_df['ds'][end_idx], predicted[0][0])  # line_forecast의 데이터를 bitcoin_df의 ds열에서 선택한 데이터와 predicted의 예측값으로 설정하여 그래프의 예측 선을 새로운 데이터로 업데이트 하는 것이다\n"
          ]
        },
        {
          "output_type": "stream",
          "name": "stdout",
          "text": [
            "1/1 [==============================] - 0s 16ms/step - loss: 0.0177\n",
            "1/1 [==============================] - 0s 30ms/step\n"
          ]
        },
        {
          "output_type": "stream",
          "name": "stderr",
          "text": [
            "<ipython-input-7-53af35328c47>:29: MatplotlibDeprecationWarning: Setting data with a non sequence type is deprecated since 3.7 and will be remove two minor releases later\n",
            "  line_vertical.set_xdata(bitcoin_df['ds'][end_idx])  #line_vertical의 x 데이터를 변경한다. bitcoin_df의 y 열에서 end_idx에 해당하는 행의 값을 가져오는것이다.\n",
            "<ipython-input-7-53af35328c47>:54: MatplotlibDeprecationWarning: Setting data with a non sequence type is deprecated since 3.7 and will be remove two minor releases later\n",
            "  line_forecast.set_data(bitcoin_df['ds'][end_idx], predicted[0][0])  # line_forecast의 데이터를 bitcoin_df의 ds열에서 선택한 데이터와 predicted의 예측값으로 설정하여 그래프의 예측 선을 새로운 데이터로 업데이트 하는 것이다\n"
          ]
        },
        {
          "output_type": "stream",
          "name": "stdout",
          "text": [
            "1/1 [==============================] - 0s 10ms/step - loss: 0.0402\n",
            "1/1 [==============================] - 0s 23ms/step\n"
          ]
        },
        {
          "output_type": "stream",
          "name": "stderr",
          "text": [
            "<ipython-input-7-53af35328c47>:29: MatplotlibDeprecationWarning: Setting data with a non sequence type is deprecated since 3.7 and will be remove two minor releases later\n",
            "  line_vertical.set_xdata(bitcoin_df['ds'][end_idx])  #line_vertical의 x 데이터를 변경한다. bitcoin_df의 y 열에서 end_idx에 해당하는 행의 값을 가져오는것이다.\n",
            "<ipython-input-7-53af35328c47>:54: MatplotlibDeprecationWarning: Setting data with a non sequence type is deprecated since 3.7 and will be remove two minor releases later\n",
            "  line_forecast.set_data(bitcoin_df['ds'][end_idx], predicted[0][0])  # line_forecast의 데이터를 bitcoin_df의 ds열에서 선택한 데이터와 predicted의 예측값으로 설정하여 그래프의 예측 선을 새로운 데이터로 업데이트 하는 것이다\n"
          ]
        },
        {
          "output_type": "stream",
          "name": "stdout",
          "text": [
            "1/1 [==============================] - 0s 15ms/step - loss: 0.0236\n",
            "1/1 [==============================] - 0s 25ms/step\n"
          ]
        },
        {
          "output_type": "stream",
          "name": "stderr",
          "text": [
            "<ipython-input-7-53af35328c47>:29: MatplotlibDeprecationWarning: Setting data with a non sequence type is deprecated since 3.7 and will be remove two minor releases later\n",
            "  line_vertical.set_xdata(bitcoin_df['ds'][end_idx])  #line_vertical의 x 데이터를 변경한다. bitcoin_df의 y 열에서 end_idx에 해당하는 행의 값을 가져오는것이다.\n",
            "<ipython-input-7-53af35328c47>:54: MatplotlibDeprecationWarning: Setting data with a non sequence type is deprecated since 3.7 and will be remove two minor releases later\n",
            "  line_forecast.set_data(bitcoin_df['ds'][end_idx], predicted[0][0])  # line_forecast의 데이터를 bitcoin_df의 ds열에서 선택한 데이터와 predicted의 예측값으로 설정하여 그래프의 예측 선을 새로운 데이터로 업데이트 하는 것이다\n"
          ]
        },
        {
          "output_type": "stream",
          "name": "stdout",
          "text": [
            "1/1 [==============================] - 0s 11ms/step - loss: 0.0405\n",
            "1/1 [==============================] - 0s 24ms/step\n"
          ]
        },
        {
          "output_type": "stream",
          "name": "stderr",
          "text": [
            "<ipython-input-7-53af35328c47>:29: MatplotlibDeprecationWarning: Setting data with a non sequence type is deprecated since 3.7 and will be remove two minor releases later\n",
            "  line_vertical.set_xdata(bitcoin_df['ds'][end_idx])  #line_vertical의 x 데이터를 변경한다. bitcoin_df의 y 열에서 end_idx에 해당하는 행의 값을 가져오는것이다.\n",
            "<ipython-input-7-53af35328c47>:54: MatplotlibDeprecationWarning: Setting data with a non sequence type is deprecated since 3.7 and will be remove two minor releases later\n",
            "  line_forecast.set_data(bitcoin_df['ds'][end_idx], predicted[0][0])  # line_forecast의 데이터를 bitcoin_df의 ds열에서 선택한 데이터와 predicted의 예측값으로 설정하여 그래프의 예측 선을 새로운 데이터로 업데이트 하는 것이다\n"
          ]
        },
        {
          "output_type": "stream",
          "name": "stdout",
          "text": [
            "1/1 [==============================] - 0s 14ms/step - loss: 0.0028\n",
            "1/1 [==============================] - 0s 23ms/step\n"
          ]
        },
        {
          "output_type": "stream",
          "name": "stderr",
          "text": [
            "<ipython-input-7-53af35328c47>:29: MatplotlibDeprecationWarning: Setting data with a non sequence type is deprecated since 3.7 and will be remove two minor releases later\n",
            "  line_vertical.set_xdata(bitcoin_df['ds'][end_idx])  #line_vertical의 x 데이터를 변경한다. bitcoin_df의 y 열에서 end_idx에 해당하는 행의 값을 가져오는것이다.\n",
            "<ipython-input-7-53af35328c47>:54: MatplotlibDeprecationWarning: Setting data with a non sequence type is deprecated since 3.7 and will be remove two minor releases later\n",
            "  line_forecast.set_data(bitcoin_df['ds'][end_idx], predicted[0][0])  # line_forecast의 데이터를 bitcoin_df의 ds열에서 선택한 데이터와 predicted의 예측값으로 설정하여 그래프의 예측 선을 새로운 데이터로 업데이트 하는 것이다\n"
          ]
        },
        {
          "output_type": "stream",
          "name": "stdout",
          "text": [
            "1/1 [==============================] - 0s 10ms/step - loss: 0.0027\n",
            "1/1 [==============================] - 0s 29ms/step\n"
          ]
        },
        {
          "output_type": "stream",
          "name": "stderr",
          "text": [
            "<ipython-input-7-53af35328c47>:29: MatplotlibDeprecationWarning: Setting data with a non sequence type is deprecated since 3.7 and will be remove two minor releases later\n",
            "  line_vertical.set_xdata(bitcoin_df['ds'][end_idx])  #line_vertical의 x 데이터를 변경한다. bitcoin_df의 y 열에서 end_idx에 해당하는 행의 값을 가져오는것이다.\n",
            "<ipython-input-7-53af35328c47>:54: MatplotlibDeprecationWarning: Setting data with a non sequence type is deprecated since 3.7 and will be remove two minor releases later\n",
            "  line_forecast.set_data(bitcoin_df['ds'][end_idx], predicted[0][0])  # line_forecast의 데이터를 bitcoin_df의 ds열에서 선택한 데이터와 predicted의 예측값으로 설정하여 그래프의 예측 선을 새로운 데이터로 업데이트 하는 것이다\n"
          ]
        },
        {
          "output_type": "stream",
          "name": "stdout",
          "text": [
            "1/1 [==============================] - 0s 13ms/step - loss: 6.6336e-04\n",
            "1/1 [==============================] - 0s 25ms/step\n"
          ]
        },
        {
          "output_type": "stream",
          "name": "stderr",
          "text": [
            "<ipython-input-7-53af35328c47>:29: MatplotlibDeprecationWarning: Setting data with a non sequence type is deprecated since 3.7 and will be remove two minor releases later\n",
            "  line_vertical.set_xdata(bitcoin_df['ds'][end_idx])  #line_vertical의 x 데이터를 변경한다. bitcoin_df의 y 열에서 end_idx에 해당하는 행의 값을 가져오는것이다.\n",
            "<ipython-input-7-53af35328c47>:54: MatplotlibDeprecationWarning: Setting data with a non sequence type is deprecated since 3.7 and will be remove two minor releases later\n",
            "  line_forecast.set_data(bitcoin_df['ds'][end_idx], predicted[0][0])  # line_forecast의 데이터를 bitcoin_df의 ds열에서 선택한 데이터와 predicted의 예측값으로 설정하여 그래프의 예측 선을 새로운 데이터로 업데이트 하는 것이다\n"
          ]
        },
        {
          "output_type": "stream",
          "name": "stdout",
          "text": [
            "1/1 [==============================] - 0s 10ms/step - loss: 0.0020\n",
            "1/1 [==============================] - 0s 25ms/step\n"
          ]
        },
        {
          "output_type": "stream",
          "name": "stderr",
          "text": [
            "<ipython-input-7-53af35328c47>:29: MatplotlibDeprecationWarning: Setting data with a non sequence type is deprecated since 3.7 and will be remove two minor releases later\n",
            "  line_vertical.set_xdata(bitcoin_df['ds'][end_idx])  #line_vertical의 x 데이터를 변경한다. bitcoin_df의 y 열에서 end_idx에 해당하는 행의 값을 가져오는것이다.\n",
            "<ipython-input-7-53af35328c47>:54: MatplotlibDeprecationWarning: Setting data with a non sequence type is deprecated since 3.7 and will be remove two minor releases later\n",
            "  line_forecast.set_data(bitcoin_df['ds'][end_idx], predicted[0][0])  # line_forecast의 데이터를 bitcoin_df의 ds열에서 선택한 데이터와 predicted의 예측값으로 설정하여 그래프의 예측 선을 새로운 데이터로 업데이트 하는 것이다\n"
          ]
        },
        {
          "output_type": "stream",
          "name": "stdout",
          "text": [
            "1/1 [==============================] - 0s 18ms/step - loss: 0.0133\n",
            "1/1 [==============================] - 0s 23ms/step\n"
          ]
        },
        {
          "output_type": "stream",
          "name": "stderr",
          "text": [
            "<ipython-input-7-53af35328c47>:29: MatplotlibDeprecationWarning: Setting data with a non sequence type is deprecated since 3.7 and will be remove two minor releases later\n",
            "  line_vertical.set_xdata(bitcoin_df['ds'][end_idx])  #line_vertical의 x 데이터를 변경한다. bitcoin_df의 y 열에서 end_idx에 해당하는 행의 값을 가져오는것이다.\n",
            "<ipython-input-7-53af35328c47>:54: MatplotlibDeprecationWarning: Setting data with a non sequence type is deprecated since 3.7 and will be remove two minor releases later\n",
            "  line_forecast.set_data(bitcoin_df['ds'][end_idx], predicted[0][0])  # line_forecast의 데이터를 bitcoin_df의 ds열에서 선택한 데이터와 predicted의 예측값으로 설정하여 그래프의 예측 선을 새로운 데이터로 업데이트 하는 것이다\n"
          ]
        },
        {
          "output_type": "stream",
          "name": "stdout",
          "text": [
            "1/1 [==============================] - 0s 17ms/step - loss: 0.0138\n",
            "1/1 [==============================] - 0s 24ms/step\n"
          ]
        },
        {
          "output_type": "stream",
          "name": "stderr",
          "text": [
            "<ipython-input-7-53af35328c47>:29: MatplotlibDeprecationWarning: Setting data with a non sequence type is deprecated since 3.7 and will be remove two minor releases later\n",
            "  line_vertical.set_xdata(bitcoin_df['ds'][end_idx])  #line_vertical의 x 데이터를 변경한다. bitcoin_df의 y 열에서 end_idx에 해당하는 행의 값을 가져오는것이다.\n",
            "<ipython-input-7-53af35328c47>:54: MatplotlibDeprecationWarning: Setting data with a non sequence type is deprecated since 3.7 and will be remove two minor releases later\n",
            "  line_forecast.set_data(bitcoin_df['ds'][end_idx], predicted[0][0])  # line_forecast의 데이터를 bitcoin_df의 ds열에서 선택한 데이터와 predicted의 예측값으로 설정하여 그래프의 예측 선을 새로운 데이터로 업데이트 하는 것이다\n"
          ]
        },
        {
          "output_type": "stream",
          "name": "stdout",
          "text": [
            "1/1 [==============================] - 0s 15ms/step - loss: 0.0032\n",
            "1/1 [==============================] - 0s 26ms/step\n"
          ]
        },
        {
          "output_type": "stream",
          "name": "stderr",
          "text": [
            "<ipython-input-7-53af35328c47>:29: MatplotlibDeprecationWarning: Setting data with a non sequence type is deprecated since 3.7 and will be remove two minor releases later\n",
            "  line_vertical.set_xdata(bitcoin_df['ds'][end_idx])  #line_vertical의 x 데이터를 변경한다. bitcoin_df의 y 열에서 end_idx에 해당하는 행의 값을 가져오는것이다.\n",
            "<ipython-input-7-53af35328c47>:54: MatplotlibDeprecationWarning: Setting data with a non sequence type is deprecated since 3.7 and will be remove two minor releases later\n",
            "  line_forecast.set_data(bitcoin_df['ds'][end_idx], predicted[0][0])  # line_forecast의 데이터를 bitcoin_df의 ds열에서 선택한 데이터와 predicted의 예측값으로 설정하여 그래프의 예측 선을 새로운 데이터로 업데이트 하는 것이다\n"
          ]
        },
        {
          "output_type": "stream",
          "name": "stdout",
          "text": [
            "1/1 [==============================] - 0s 11ms/step - loss: 8.2752e-06\n",
            "1/1 [==============================] - 0s 24ms/step\n"
          ]
        },
        {
          "output_type": "stream",
          "name": "stderr",
          "text": [
            "<ipython-input-7-53af35328c47>:29: MatplotlibDeprecationWarning: Setting data with a non sequence type is deprecated since 3.7 and will be remove two minor releases later\n",
            "  line_vertical.set_xdata(bitcoin_df['ds'][end_idx])  #line_vertical의 x 데이터를 변경한다. bitcoin_df의 y 열에서 end_idx에 해당하는 행의 값을 가져오는것이다.\n",
            "<ipython-input-7-53af35328c47>:54: MatplotlibDeprecationWarning: Setting data with a non sequence type is deprecated since 3.7 and will be remove two minor releases later\n",
            "  line_forecast.set_data(bitcoin_df['ds'][end_idx], predicted[0][0])  # line_forecast의 데이터를 bitcoin_df의 ds열에서 선택한 데이터와 predicted의 예측값으로 설정하여 그래프의 예측 선을 새로운 데이터로 업데이트 하는 것이다\n"
          ]
        },
        {
          "output_type": "stream",
          "name": "stdout",
          "text": [
            "1/1 [==============================] - 0s 15ms/step - loss: 1.5048e-04\n",
            "1/1 [==============================] - 0s 23ms/step\n"
          ]
        },
        {
          "output_type": "stream",
          "name": "stderr",
          "text": [
            "<ipython-input-7-53af35328c47>:29: MatplotlibDeprecationWarning: Setting data with a non sequence type is deprecated since 3.7 and will be remove two minor releases later\n",
            "  line_vertical.set_xdata(bitcoin_df['ds'][end_idx])  #line_vertical의 x 데이터를 변경한다. bitcoin_df의 y 열에서 end_idx에 해당하는 행의 값을 가져오는것이다.\n",
            "<ipython-input-7-53af35328c47>:54: MatplotlibDeprecationWarning: Setting data with a non sequence type is deprecated since 3.7 and will be remove two minor releases later\n",
            "  line_forecast.set_data(bitcoin_df['ds'][end_idx], predicted[0][0])  # line_forecast의 데이터를 bitcoin_df의 ds열에서 선택한 데이터와 predicted의 예측값으로 설정하여 그래프의 예측 선을 새로운 데이터로 업데이트 하는 것이다\n"
          ]
        },
        {
          "output_type": "stream",
          "name": "stdout",
          "text": [
            "1/1 [==============================] - 0s 9ms/step - loss: 3.9813e-04\n",
            "1/1 [==============================] - 0s 25ms/step\n"
          ]
        },
        {
          "output_type": "stream",
          "name": "stderr",
          "text": [
            "<ipython-input-7-53af35328c47>:29: MatplotlibDeprecationWarning: Setting data with a non sequence type is deprecated since 3.7 and will be remove two minor releases later\n",
            "  line_vertical.set_xdata(bitcoin_df['ds'][end_idx])  #line_vertical의 x 데이터를 변경한다. bitcoin_df의 y 열에서 end_idx에 해당하는 행의 값을 가져오는것이다.\n",
            "<ipython-input-7-53af35328c47>:54: MatplotlibDeprecationWarning: Setting data with a non sequence type is deprecated since 3.7 and will be remove two minor releases later\n",
            "  line_forecast.set_data(bitcoin_df['ds'][end_idx], predicted[0][0])  # line_forecast의 데이터를 bitcoin_df의 ds열에서 선택한 데이터와 predicted의 예측값으로 설정하여 그래프의 예측 선을 새로운 데이터로 업데이트 하는 것이다\n"
          ]
        },
        {
          "output_type": "stream",
          "name": "stdout",
          "text": [
            "1/1 [==============================] - 0s 9ms/step - loss: 0.0053\n",
            "1/1 [==============================] - 0s 25ms/step\n"
          ]
        },
        {
          "output_type": "stream",
          "name": "stderr",
          "text": [
            "<ipython-input-7-53af35328c47>:29: MatplotlibDeprecationWarning: Setting data with a non sequence type is deprecated since 3.7 and will be remove two minor releases later\n",
            "  line_vertical.set_xdata(bitcoin_df['ds'][end_idx])  #line_vertical의 x 데이터를 변경한다. bitcoin_df의 y 열에서 end_idx에 해당하는 행의 값을 가져오는것이다.\n",
            "<ipython-input-7-53af35328c47>:54: MatplotlibDeprecationWarning: Setting data with a non sequence type is deprecated since 3.7 and will be remove two minor releases later\n",
            "  line_forecast.set_data(bitcoin_df['ds'][end_idx], predicted[0][0])  # line_forecast의 데이터를 bitcoin_df의 ds열에서 선택한 데이터와 predicted의 예측값으로 설정하여 그래프의 예측 선을 새로운 데이터로 업데이트 하는 것이다\n"
          ]
        },
        {
          "output_type": "stream",
          "name": "stdout",
          "text": [
            "1/1 [==============================] - 0s 12ms/step - loss: 3.9495e-05\n",
            "1/1 [==============================] - 0s 24ms/step\n"
          ]
        },
        {
          "output_type": "stream",
          "name": "stderr",
          "text": [
            "<ipython-input-7-53af35328c47>:29: MatplotlibDeprecationWarning: Setting data with a non sequence type is deprecated since 3.7 and will be remove two minor releases later\n",
            "  line_vertical.set_xdata(bitcoin_df['ds'][end_idx])  #line_vertical의 x 데이터를 변경한다. bitcoin_df의 y 열에서 end_idx에 해당하는 행의 값을 가져오는것이다.\n",
            "<ipython-input-7-53af35328c47>:54: MatplotlibDeprecationWarning: Setting data with a non sequence type is deprecated since 3.7 and will be remove two minor releases later\n",
            "  line_forecast.set_data(bitcoin_df['ds'][end_idx], predicted[0][0])  # line_forecast의 데이터를 bitcoin_df의 ds열에서 선택한 데이터와 predicted의 예측값으로 설정하여 그래프의 예측 선을 새로운 데이터로 업데이트 하는 것이다\n"
          ]
        },
        {
          "output_type": "stream",
          "name": "stdout",
          "text": [
            "1/1 [==============================] - 0s 9ms/step - loss: 0.0013\n",
            "1/1 [==============================] - 0s 31ms/step\n"
          ]
        },
        {
          "output_type": "stream",
          "name": "stderr",
          "text": [
            "<ipython-input-7-53af35328c47>:29: MatplotlibDeprecationWarning: Setting data with a non sequence type is deprecated since 3.7 and will be remove two minor releases later\n",
            "  line_vertical.set_xdata(bitcoin_df['ds'][end_idx])  #line_vertical의 x 데이터를 변경한다. bitcoin_df의 y 열에서 end_idx에 해당하는 행의 값을 가져오는것이다.\n",
            "<ipython-input-7-53af35328c47>:54: MatplotlibDeprecationWarning: Setting data with a non sequence type is deprecated since 3.7 and will be remove two minor releases later\n",
            "  line_forecast.set_data(bitcoin_df['ds'][end_idx], predicted[0][0])  # line_forecast의 데이터를 bitcoin_df의 ds열에서 선택한 데이터와 predicted의 예측값으로 설정하여 그래프의 예측 선을 새로운 데이터로 업데이트 하는 것이다\n"
          ]
        },
        {
          "output_type": "stream",
          "name": "stdout",
          "text": [
            "1/1 [==============================] - 0s 15ms/step - loss: 8.7746e-05\n"
          ]
        },
        {
          "output_type": "stream",
          "name": "stderr",
          "text": [
            "<ipython-input-7-53af35328c47>:29: MatplotlibDeprecationWarning: Setting data with a non sequence type is deprecated since 3.7 and will be remove two minor releases later\n",
            "  line_vertical.set_xdata(bitcoin_df['ds'][end_idx])  #line_vertical의 x 데이터를 변경한다. bitcoin_df의 y 열에서 end_idx에 해당하는 행의 값을 가져오는것이다.\n"
          ]
        },
        {
          "output_type": "stream",
          "name": "stdout",
          "text": [
            "1/1 [==============================] - 0s 49ms/step\n"
          ]
        },
        {
          "output_type": "stream",
          "name": "stderr",
          "text": [
            "<ipython-input-7-53af35328c47>:54: MatplotlibDeprecationWarning: Setting data with a non sequence type is deprecated since 3.7 and will be remove two minor releases later\n",
            "  line_forecast.set_data(bitcoin_df['ds'][end_idx], predicted[0][0])  # line_forecast의 데이터를 bitcoin_df의 ds열에서 선택한 데이터와 predicted의 예측값으로 설정하여 그래프의 예측 선을 새로운 데이터로 업데이트 하는 것이다\n",
            "<ipython-input-7-53af35328c47>:29: MatplotlibDeprecationWarning: Setting data with a non sequence type is deprecated since 3.7 and will be remove two minor releases later\n",
            "  line_vertical.set_xdata(bitcoin_df['ds'][end_idx])  #line_vertical의 x 데이터를 변경한다. bitcoin_df의 y 열에서 end_idx에 해당하는 행의 값을 가져오는것이다.\n"
          ]
        },
        {
          "output_type": "stream",
          "name": "stdout",
          "text": [
            "1/1 [==============================] - 0s 15ms/step - loss: 0.0038\n",
            "1/1 [==============================] - 0s 34ms/step\n"
          ]
        },
        {
          "output_type": "stream",
          "name": "stderr",
          "text": [
            "<ipython-input-7-53af35328c47>:54: MatplotlibDeprecationWarning: Setting data with a non sequence type is deprecated since 3.7 and will be remove two minor releases later\n",
            "  line_forecast.set_data(bitcoin_df['ds'][end_idx], predicted[0][0])  # line_forecast의 데이터를 bitcoin_df의 ds열에서 선택한 데이터와 predicted의 예측값으로 설정하여 그래프의 예측 선을 새로운 데이터로 업데이트 하는 것이다\n",
            "<ipython-input-7-53af35328c47>:29: MatplotlibDeprecationWarning: Setting data with a non sequence type is deprecated since 3.7 and will be remove two minor releases later\n",
            "  line_vertical.set_xdata(bitcoin_df['ds'][end_idx])  #line_vertical의 x 데이터를 변경한다. bitcoin_df의 y 열에서 end_idx에 해당하는 행의 값을 가져오는것이다.\n"
          ]
        },
        {
          "output_type": "stream",
          "name": "stdout",
          "text": [
            "1/1 [==============================] - 0s 18ms/step - loss: 0.0015\n",
            "1/1 [==============================] - 0s 37ms/step\n"
          ]
        },
        {
          "output_type": "stream",
          "name": "stderr",
          "text": [
            "<ipython-input-7-53af35328c47>:54: MatplotlibDeprecationWarning: Setting data with a non sequence type is deprecated since 3.7 and will be remove two minor releases later\n",
            "  line_forecast.set_data(bitcoin_df['ds'][end_idx], predicted[0][0])  # line_forecast의 데이터를 bitcoin_df의 ds열에서 선택한 데이터와 predicted의 예측값으로 설정하여 그래프의 예측 선을 새로운 데이터로 업데이트 하는 것이다\n",
            "<ipython-input-7-53af35328c47>:29: MatplotlibDeprecationWarning: Setting data with a non sequence type is deprecated since 3.7 and will be remove two minor releases later\n",
            "  line_vertical.set_xdata(bitcoin_df['ds'][end_idx])  #line_vertical의 x 데이터를 변경한다. bitcoin_df의 y 열에서 end_idx에 해당하는 행의 값을 가져오는것이다.\n"
          ]
        },
        {
          "output_type": "stream",
          "name": "stdout",
          "text": [
            "1/1 [==============================] - 0s 17ms/step - loss: 0.0074\n",
            "1/1 [==============================] - 0s 39ms/step\n"
          ]
        },
        {
          "output_type": "stream",
          "name": "stderr",
          "text": [
            "<ipython-input-7-53af35328c47>:54: MatplotlibDeprecationWarning: Setting data with a non sequence type is deprecated since 3.7 and will be remove two minor releases later\n",
            "  line_forecast.set_data(bitcoin_df['ds'][end_idx], predicted[0][0])  # line_forecast의 데이터를 bitcoin_df의 ds열에서 선택한 데이터와 predicted의 예측값으로 설정하여 그래프의 예측 선을 새로운 데이터로 업데이트 하는 것이다\n",
            "<ipython-input-7-53af35328c47>:29: MatplotlibDeprecationWarning: Setting data with a non sequence type is deprecated since 3.7 and will be remove two minor releases later\n",
            "  line_vertical.set_xdata(bitcoin_df['ds'][end_idx])  #line_vertical의 x 데이터를 변경한다. bitcoin_df의 y 열에서 end_idx에 해당하는 행의 값을 가져오는것이다.\n"
          ]
        },
        {
          "output_type": "stream",
          "name": "stdout",
          "text": [
            "1/1 [==============================] - 0s 16ms/step - loss: 0.0027\n",
            "1/1 [==============================] - 0s 34ms/step\n"
          ]
        },
        {
          "output_type": "stream",
          "name": "stderr",
          "text": [
            "<ipython-input-7-53af35328c47>:54: MatplotlibDeprecationWarning: Setting data with a non sequence type is deprecated since 3.7 and will be remove two minor releases later\n",
            "  line_forecast.set_data(bitcoin_df['ds'][end_idx], predicted[0][0])  # line_forecast의 데이터를 bitcoin_df의 ds열에서 선택한 데이터와 predicted의 예측값으로 설정하여 그래프의 예측 선을 새로운 데이터로 업데이트 하는 것이다\n",
            "<ipython-input-7-53af35328c47>:29: MatplotlibDeprecationWarning: Setting data with a non sequence type is deprecated since 3.7 and will be remove two minor releases later\n",
            "  line_vertical.set_xdata(bitcoin_df['ds'][end_idx])  #line_vertical의 x 데이터를 변경한다. bitcoin_df의 y 열에서 end_idx에 해당하는 행의 값을 가져오는것이다.\n"
          ]
        },
        {
          "output_type": "stream",
          "name": "stdout",
          "text": [
            "1/1 [==============================] - 0s 13ms/step - loss: 0.0043\n",
            "1/1 [==============================] - 0s 34ms/step\n"
          ]
        },
        {
          "output_type": "stream",
          "name": "stderr",
          "text": [
            "<ipython-input-7-53af35328c47>:54: MatplotlibDeprecationWarning: Setting data with a non sequence type is deprecated since 3.7 and will be remove two minor releases later\n",
            "  line_forecast.set_data(bitcoin_df['ds'][end_idx], predicted[0][0])  # line_forecast의 데이터를 bitcoin_df의 ds열에서 선택한 데이터와 predicted의 예측값으로 설정하여 그래프의 예측 선을 새로운 데이터로 업데이트 하는 것이다\n",
            "<ipython-input-7-53af35328c47>:29: MatplotlibDeprecationWarning: Setting data with a non sequence type is deprecated since 3.7 and will be remove two minor releases later\n",
            "  line_vertical.set_xdata(bitcoin_df['ds'][end_idx])  #line_vertical의 x 데이터를 변경한다. bitcoin_df의 y 열에서 end_idx에 해당하는 행의 값을 가져오는것이다.\n"
          ]
        },
        {
          "output_type": "stream",
          "name": "stdout",
          "text": [
            "1/1 [==============================] - 0s 13ms/step - loss: 5.9569e-05\n",
            "1/1 [==============================] - 0s 39ms/step\n"
          ]
        },
        {
          "output_type": "stream",
          "name": "stderr",
          "text": [
            "<ipython-input-7-53af35328c47>:54: MatplotlibDeprecationWarning: Setting data with a non sequence type is deprecated since 3.7 and will be remove two minor releases later\n",
            "  line_forecast.set_data(bitcoin_df['ds'][end_idx], predicted[0][0])  # line_forecast의 데이터를 bitcoin_df의 ds열에서 선택한 데이터와 predicted의 예측값으로 설정하여 그래프의 예측 선을 새로운 데이터로 업데이트 하는 것이다\n"
          ]
        },
        {
          "output_type": "stream",
          "name": "stdout",
          "text": [
            "1/1 [==============================] - 0s 13ms/step - loss: 0.0129\n"
          ]
        },
        {
          "output_type": "stream",
          "name": "stderr",
          "text": [
            "<ipython-input-7-53af35328c47>:29: MatplotlibDeprecationWarning: Setting data with a non sequence type is deprecated since 3.7 and will be remove two minor releases later\n",
            "  line_vertical.set_xdata(bitcoin_df['ds'][end_idx])  #line_vertical의 x 데이터를 변경한다. bitcoin_df의 y 열에서 end_idx에 해당하는 행의 값을 가져오는것이다.\n"
          ]
        },
        {
          "output_type": "stream",
          "name": "stdout",
          "text": [
            "1/1 [==============================] - 0s 44ms/step\n"
          ]
        },
        {
          "output_type": "stream",
          "name": "stderr",
          "text": [
            "<ipython-input-7-53af35328c47>:54: MatplotlibDeprecationWarning: Setting data with a non sequence type is deprecated since 3.7 and will be remove two minor releases later\n",
            "  line_forecast.set_data(bitcoin_df['ds'][end_idx], predicted[0][0])  # line_forecast의 데이터를 bitcoin_df의 ds열에서 선택한 데이터와 predicted의 예측값으로 설정하여 그래프의 예측 선을 새로운 데이터로 업데이트 하는 것이다\n"
          ]
        },
        {
          "output_type": "stream",
          "name": "stdout",
          "text": [
            "1/1 [==============================] - 0s 18ms/step - loss: 0.0182\n"
          ]
        },
        {
          "output_type": "stream",
          "name": "stderr",
          "text": [
            "<ipython-input-7-53af35328c47>:29: MatplotlibDeprecationWarning: Setting data with a non sequence type is deprecated since 3.7 and will be remove two minor releases later\n",
            "  line_vertical.set_xdata(bitcoin_df['ds'][end_idx])  #line_vertical의 x 데이터를 변경한다. bitcoin_df의 y 열에서 end_idx에 해당하는 행의 값을 가져오는것이다.\n"
          ]
        },
        {
          "output_type": "stream",
          "name": "stdout",
          "text": [
            "1/1 [==============================] - 0s 45ms/step\n"
          ]
        },
        {
          "output_type": "stream",
          "name": "stderr",
          "text": [
            "<ipython-input-7-53af35328c47>:54: MatplotlibDeprecationWarning: Setting data with a non sequence type is deprecated since 3.7 and will be remove two minor releases later\n",
            "  line_forecast.set_data(bitcoin_df['ds'][end_idx], predicted[0][0])  # line_forecast의 데이터를 bitcoin_df의 ds열에서 선택한 데이터와 predicted의 예측값으로 설정하여 그래프의 예측 선을 새로운 데이터로 업데이트 하는 것이다\n",
            "<ipython-input-7-53af35328c47>:29: MatplotlibDeprecationWarning: Setting data with a non sequence type is deprecated since 3.7 and will be remove two minor releases later\n",
            "  line_vertical.set_xdata(bitcoin_df['ds'][end_idx])  #line_vertical의 x 데이터를 변경한다. bitcoin_df의 y 열에서 end_idx에 해당하는 행의 값을 가져오는것이다.\n"
          ]
        },
        {
          "output_type": "stream",
          "name": "stdout",
          "text": [
            "1/1 [==============================] - 0s 12ms/step - loss: 0.0149\n",
            "1/1 [==============================] - 0s 37ms/step\n"
          ]
        },
        {
          "output_type": "stream",
          "name": "stderr",
          "text": [
            "<ipython-input-7-53af35328c47>:54: MatplotlibDeprecationWarning: Setting data with a non sequence type is deprecated since 3.7 and will be remove two minor releases later\n",
            "  line_forecast.set_data(bitcoin_df['ds'][end_idx], predicted[0][0])  # line_forecast의 데이터를 bitcoin_df의 ds열에서 선택한 데이터와 predicted의 예측값으로 설정하여 그래프의 예측 선을 새로운 데이터로 업데이트 하는 것이다\n"
          ]
        },
        {
          "output_type": "stream",
          "name": "stdout",
          "text": [
            "1/1 [==============================] - 0s 26ms/step - loss: 0.0042\n"
          ]
        },
        {
          "output_type": "stream",
          "name": "stderr",
          "text": [
            "<ipython-input-7-53af35328c47>:29: MatplotlibDeprecationWarning: Setting data with a non sequence type is deprecated since 3.7 and will be remove two minor releases later\n",
            "  line_vertical.set_xdata(bitcoin_df['ds'][end_idx])  #line_vertical의 x 데이터를 변경한다. bitcoin_df의 y 열에서 end_idx에 해당하는 행의 값을 가져오는것이다.\n"
          ]
        },
        {
          "output_type": "stream",
          "name": "stdout",
          "text": [
            "1/1 [==============================] - 0s 38ms/step\n"
          ]
        },
        {
          "output_type": "stream",
          "name": "stderr",
          "text": [
            "<ipython-input-7-53af35328c47>:54: MatplotlibDeprecationWarning: Setting data with a non sequence type is deprecated since 3.7 and will be remove two minor releases later\n",
            "  line_forecast.set_data(bitcoin_df['ds'][end_idx], predicted[0][0])  # line_forecast의 데이터를 bitcoin_df의 ds열에서 선택한 데이터와 predicted의 예측값으로 설정하여 그래프의 예측 선을 새로운 데이터로 업데이트 하는 것이다\n",
            "<ipython-input-7-53af35328c47>:29: MatplotlibDeprecationWarning: Setting data with a non sequence type is deprecated since 3.7 and will be remove two minor releases later\n",
            "  line_vertical.set_xdata(bitcoin_df['ds'][end_idx])  #line_vertical의 x 데이터를 변경한다. bitcoin_df의 y 열에서 end_idx에 해당하는 행의 값을 가져오는것이다.\n"
          ]
        },
        {
          "output_type": "stream",
          "name": "stdout",
          "text": [
            "1/1 [==============================] - 0s 13ms/step - loss: 0.0034\n",
            "1/1 [==============================] - 0s 25ms/step\n"
          ]
        },
        {
          "output_type": "stream",
          "name": "stderr",
          "text": [
            "<ipython-input-7-53af35328c47>:54: MatplotlibDeprecationWarning: Setting data with a non sequence type is deprecated since 3.7 and will be remove two minor releases later\n",
            "  line_forecast.set_data(bitcoin_df['ds'][end_idx], predicted[0][0])  # line_forecast의 데이터를 bitcoin_df의 ds열에서 선택한 데이터와 predicted의 예측값으로 설정하여 그래프의 예측 선을 새로운 데이터로 업데이트 하는 것이다\n",
            "<ipython-input-7-53af35328c47>:29: MatplotlibDeprecationWarning: Setting data with a non sequence type is deprecated since 3.7 and will be remove two minor releases later\n",
            "  line_vertical.set_xdata(bitcoin_df['ds'][end_idx])  #line_vertical의 x 데이터를 변경한다. bitcoin_df의 y 열에서 end_idx에 해당하는 행의 값을 가져오는것이다.\n"
          ]
        },
        {
          "output_type": "stream",
          "name": "stdout",
          "text": [
            "1/1 [==============================] - 0s 14ms/step - loss: 8.1007e-06\n",
            "1/1 [==============================] - 0s 27ms/step\n"
          ]
        },
        {
          "output_type": "stream",
          "name": "stderr",
          "text": [
            "<ipython-input-7-53af35328c47>:54: MatplotlibDeprecationWarning: Setting data with a non sequence type is deprecated since 3.7 and will be remove two minor releases later\n",
            "  line_forecast.set_data(bitcoin_df['ds'][end_idx], predicted[0][0])  # line_forecast의 데이터를 bitcoin_df의 ds열에서 선택한 데이터와 predicted의 예측값으로 설정하여 그래프의 예측 선을 새로운 데이터로 업데이트 하는 것이다\n",
            "<ipython-input-7-53af35328c47>:29: MatplotlibDeprecationWarning: Setting data with a non sequence type is deprecated since 3.7 and will be remove two minor releases later\n",
            "  line_vertical.set_xdata(bitcoin_df['ds'][end_idx])  #line_vertical의 x 데이터를 변경한다. bitcoin_df의 y 열에서 end_idx에 해당하는 행의 값을 가져오는것이다.\n"
          ]
        },
        {
          "output_type": "stream",
          "name": "stdout",
          "text": [
            "1/1 [==============================] - 0s 11ms/step - loss: 3.0899e-05\n",
            "1/1 [==============================] - 0s 24ms/step\n"
          ]
        },
        {
          "output_type": "stream",
          "name": "stderr",
          "text": [
            "<ipython-input-7-53af35328c47>:54: MatplotlibDeprecationWarning: Setting data with a non sequence type is deprecated since 3.7 and will be remove two minor releases later\n",
            "  line_forecast.set_data(bitcoin_df['ds'][end_idx], predicted[0][0])  # line_forecast의 데이터를 bitcoin_df의 ds열에서 선택한 데이터와 predicted의 예측값으로 설정하여 그래프의 예측 선을 새로운 데이터로 업데이트 하는 것이다\n",
            "<ipython-input-7-53af35328c47>:29: MatplotlibDeprecationWarning: Setting data with a non sequence type is deprecated since 3.7 and will be remove two minor releases later\n",
            "  line_vertical.set_xdata(bitcoin_df['ds'][end_idx])  #line_vertical의 x 데이터를 변경한다. bitcoin_df의 y 열에서 end_idx에 해당하는 행의 값을 가져오는것이다.\n"
          ]
        },
        {
          "output_type": "stream",
          "name": "stdout",
          "text": [
            "1/1 [==============================] - 0s 12ms/step - loss: 3.3270e-04\n",
            "1/1 [==============================] - 0s 34ms/step\n"
          ]
        },
        {
          "output_type": "stream",
          "name": "stderr",
          "text": [
            "<ipython-input-7-53af35328c47>:54: MatplotlibDeprecationWarning: Setting data with a non sequence type is deprecated since 3.7 and will be remove two minor releases later\n",
            "  line_forecast.set_data(bitcoin_df['ds'][end_idx], predicted[0][0])  # line_forecast의 데이터를 bitcoin_df의 ds열에서 선택한 데이터와 predicted의 예측값으로 설정하여 그래프의 예측 선을 새로운 데이터로 업데이트 하는 것이다\n",
            "<ipython-input-7-53af35328c47>:29: MatplotlibDeprecationWarning: Setting data with a non sequence type is deprecated since 3.7 and will be remove two minor releases later\n",
            "  line_vertical.set_xdata(bitcoin_df['ds'][end_idx])  #line_vertical의 x 데이터를 변경한다. bitcoin_df의 y 열에서 end_idx에 해당하는 행의 값을 가져오는것이다.\n"
          ]
        },
        {
          "output_type": "stream",
          "name": "stdout",
          "text": [
            "1/1 [==============================] - 0s 10ms/step - loss: 0.0094\n",
            "1/1 [==============================] - 0s 27ms/step\n"
          ]
        },
        {
          "output_type": "stream",
          "name": "stderr",
          "text": [
            "<ipython-input-7-53af35328c47>:54: MatplotlibDeprecationWarning: Setting data with a non sequence type is deprecated since 3.7 and will be remove two minor releases later\n",
            "  line_forecast.set_data(bitcoin_df['ds'][end_idx], predicted[0][0])  # line_forecast의 데이터를 bitcoin_df의 ds열에서 선택한 데이터와 predicted의 예측값으로 설정하여 그래프의 예측 선을 새로운 데이터로 업데이트 하는 것이다\n",
            "<ipython-input-7-53af35328c47>:29: MatplotlibDeprecationWarning: Setting data with a non sequence type is deprecated since 3.7 and will be remove two minor releases later\n",
            "  line_vertical.set_xdata(bitcoin_df['ds'][end_idx])  #line_vertical의 x 데이터를 변경한다. bitcoin_df의 y 열에서 end_idx에 해당하는 행의 값을 가져오는것이다.\n"
          ]
        },
        {
          "output_type": "stream",
          "name": "stdout",
          "text": [
            "1/1 [==============================] - 0s 16ms/step - loss: 0.0025\n",
            "1/1 [==============================] - 0s 28ms/step\n"
          ]
        },
        {
          "output_type": "stream",
          "name": "stderr",
          "text": [
            "<ipython-input-7-53af35328c47>:54: MatplotlibDeprecationWarning: Setting data with a non sequence type is deprecated since 3.7 and will be remove two minor releases later\n",
            "  line_forecast.set_data(bitcoin_df['ds'][end_idx], predicted[0][0])  # line_forecast의 데이터를 bitcoin_df의 ds열에서 선택한 데이터와 predicted의 예측값으로 설정하여 그래프의 예측 선을 새로운 데이터로 업데이트 하는 것이다\n",
            "<ipython-input-7-53af35328c47>:29: MatplotlibDeprecationWarning: Setting data with a non sequence type is deprecated since 3.7 and will be remove two minor releases later\n",
            "  line_vertical.set_xdata(bitcoin_df['ds'][end_idx])  #line_vertical의 x 데이터를 변경한다. bitcoin_df의 y 열에서 end_idx에 해당하는 행의 값을 가져오는것이다.\n"
          ]
        },
        {
          "output_type": "stream",
          "name": "stdout",
          "text": [
            "1/1 [==============================] - 0s 18ms/step - loss: 3.1436e-06\n",
            "1/1 [==============================] - 0s 25ms/step\n"
          ]
        },
        {
          "output_type": "stream",
          "name": "stderr",
          "text": [
            "<ipython-input-7-53af35328c47>:54: MatplotlibDeprecationWarning: Setting data with a non sequence type is deprecated since 3.7 and will be remove two minor releases later\n",
            "  line_forecast.set_data(bitcoin_df['ds'][end_idx], predicted[0][0])  # line_forecast의 데이터를 bitcoin_df의 ds열에서 선택한 데이터와 predicted의 예측값으로 설정하여 그래프의 예측 선을 새로운 데이터로 업데이트 하는 것이다\n",
            "<ipython-input-7-53af35328c47>:29: MatplotlibDeprecationWarning: Setting data with a non sequence type is deprecated since 3.7 and will be remove two minor releases later\n",
            "  line_vertical.set_xdata(bitcoin_df['ds'][end_idx])  #line_vertical의 x 데이터를 변경한다. bitcoin_df의 y 열에서 end_idx에 해당하는 행의 값을 가져오는것이다.\n"
          ]
        },
        {
          "output_type": "stream",
          "name": "stdout",
          "text": [
            "1/1 [==============================] - 0s 21ms/step - loss: 4.9755e-04\n",
            "1/1 [==============================] - 0s 27ms/step\n"
          ]
        },
        {
          "output_type": "stream",
          "name": "stderr",
          "text": [
            "<ipython-input-7-53af35328c47>:54: MatplotlibDeprecationWarning: Setting data with a non sequence type is deprecated since 3.7 and will be remove two minor releases later\n",
            "  line_forecast.set_data(bitcoin_df['ds'][end_idx], predicted[0][0])  # line_forecast의 데이터를 bitcoin_df의 ds열에서 선택한 데이터와 predicted의 예측값으로 설정하여 그래프의 예측 선을 새로운 데이터로 업데이트 하는 것이다\n",
            "<ipython-input-7-53af35328c47>:29: MatplotlibDeprecationWarning: Setting data with a non sequence type is deprecated since 3.7 and will be remove two minor releases later\n",
            "  line_vertical.set_xdata(bitcoin_df['ds'][end_idx])  #line_vertical의 x 데이터를 변경한다. bitcoin_df의 y 열에서 end_idx에 해당하는 행의 값을 가져오는것이다.\n"
          ]
        },
        {
          "output_type": "stream",
          "name": "stdout",
          "text": [
            "1/1 [==============================] - 0s 16ms/step - loss: 0.0060\n",
            "1/1 [==============================] - 0s 23ms/step\n"
          ]
        },
        {
          "output_type": "stream",
          "name": "stderr",
          "text": [
            "<ipython-input-7-53af35328c47>:54: MatplotlibDeprecationWarning: Setting data with a non sequence type is deprecated since 3.7 and will be remove two minor releases later\n",
            "  line_forecast.set_data(bitcoin_df['ds'][end_idx], predicted[0][0])  # line_forecast의 데이터를 bitcoin_df의 ds열에서 선택한 데이터와 predicted의 예측값으로 설정하여 그래프의 예측 선을 새로운 데이터로 업데이트 하는 것이다\n",
            "<ipython-input-7-53af35328c47>:29: MatplotlibDeprecationWarning: Setting data with a non sequence type is deprecated since 3.7 and will be remove two minor releases later\n",
            "  line_vertical.set_xdata(bitcoin_df['ds'][end_idx])  #line_vertical의 x 데이터를 변경한다. bitcoin_df의 y 열에서 end_idx에 해당하는 행의 값을 가져오는것이다.\n"
          ]
        },
        {
          "output_type": "stream",
          "name": "stdout",
          "text": [
            "1/1 [==============================] - 0s 15ms/step - loss: 0.0028\n",
            "1/1 [==============================] - 0s 24ms/step\n"
          ]
        },
        {
          "output_type": "stream",
          "name": "stderr",
          "text": [
            "<ipython-input-7-53af35328c47>:54: MatplotlibDeprecationWarning: Setting data with a non sequence type is deprecated since 3.7 and will be remove two minor releases later\n",
            "  line_forecast.set_data(bitcoin_df['ds'][end_idx], predicted[0][0])  # line_forecast의 데이터를 bitcoin_df의 ds열에서 선택한 데이터와 predicted의 예측값으로 설정하여 그래프의 예측 선을 새로운 데이터로 업데이트 하는 것이다\n",
            "<ipython-input-7-53af35328c47>:29: MatplotlibDeprecationWarning: Setting data with a non sequence type is deprecated since 3.7 and will be remove two minor releases later\n",
            "  line_vertical.set_xdata(bitcoin_df['ds'][end_idx])  #line_vertical의 x 데이터를 변경한다. bitcoin_df의 y 열에서 end_idx에 해당하는 행의 값을 가져오는것이다.\n"
          ]
        },
        {
          "output_type": "stream",
          "name": "stdout",
          "text": [
            "1/1 [==============================] - 0s 11ms/step - loss: 6.6887e-04\n",
            "1/1 [==============================] - 0s 23ms/step\n"
          ]
        },
        {
          "output_type": "stream",
          "name": "stderr",
          "text": [
            "<ipython-input-7-53af35328c47>:54: MatplotlibDeprecationWarning: Setting data with a non sequence type is deprecated since 3.7 and will be remove two minor releases later\n",
            "  line_forecast.set_data(bitcoin_df['ds'][end_idx], predicted[0][0])  # line_forecast의 데이터를 bitcoin_df의 ds열에서 선택한 데이터와 predicted의 예측값으로 설정하여 그래프의 예측 선을 새로운 데이터로 업데이트 하는 것이다\n",
            "<ipython-input-7-53af35328c47>:29: MatplotlibDeprecationWarning: Setting data with a non sequence type is deprecated since 3.7 and will be remove two minor releases later\n",
            "  line_vertical.set_xdata(bitcoin_df['ds'][end_idx])  #line_vertical의 x 데이터를 변경한다. bitcoin_df의 y 열에서 end_idx에 해당하는 행의 값을 가져오는것이다.\n"
          ]
        },
        {
          "output_type": "stream",
          "name": "stdout",
          "text": [
            "1/1 [==============================] - 0s 12ms/step - loss: 1.8480e-04\n",
            "1/1 [==============================] - 0s 26ms/step\n"
          ]
        },
        {
          "output_type": "stream",
          "name": "stderr",
          "text": [
            "<ipython-input-7-53af35328c47>:54: MatplotlibDeprecationWarning: Setting data with a non sequence type is deprecated since 3.7 and will be remove two minor releases later\n",
            "  line_forecast.set_data(bitcoin_df['ds'][end_idx], predicted[0][0])  # line_forecast의 데이터를 bitcoin_df의 ds열에서 선택한 데이터와 predicted의 예측값으로 설정하여 그래프의 예측 선을 새로운 데이터로 업데이트 하는 것이다\n",
            "<ipython-input-7-53af35328c47>:29: MatplotlibDeprecationWarning: Setting data with a non sequence type is deprecated since 3.7 and will be remove two minor releases later\n",
            "  line_vertical.set_xdata(bitcoin_df['ds'][end_idx])  #line_vertical의 x 데이터를 변경한다. bitcoin_df의 y 열에서 end_idx에 해당하는 행의 값을 가져오는것이다.\n"
          ]
        },
        {
          "output_type": "stream",
          "name": "stdout",
          "text": [
            "1/1 [==============================] - 0s 13ms/step - loss: 0.0022\n",
            "1/1 [==============================] - 0s 30ms/step\n"
          ]
        },
        {
          "output_type": "stream",
          "name": "stderr",
          "text": [
            "<ipython-input-7-53af35328c47>:54: MatplotlibDeprecationWarning: Setting data with a non sequence type is deprecated since 3.7 and will be remove two minor releases later\n",
            "  line_forecast.set_data(bitcoin_df['ds'][end_idx], predicted[0][0])  # line_forecast의 데이터를 bitcoin_df의 ds열에서 선택한 데이터와 predicted의 예측값으로 설정하여 그래프의 예측 선을 새로운 데이터로 업데이트 하는 것이다\n",
            "<ipython-input-7-53af35328c47>:29: MatplotlibDeprecationWarning: Setting data with a non sequence type is deprecated since 3.7 and will be remove two minor releases later\n",
            "  line_vertical.set_xdata(bitcoin_df['ds'][end_idx])  #line_vertical의 x 데이터를 변경한다. bitcoin_df의 y 열에서 end_idx에 해당하는 행의 값을 가져오는것이다.\n"
          ]
        },
        {
          "output_type": "stream",
          "name": "stdout",
          "text": [
            "1/1 [==============================] - 0s 10ms/step - loss: 1.0776e-04\n",
            "1/1 [==============================] - 0s 24ms/step\n"
          ]
        },
        {
          "output_type": "stream",
          "name": "stderr",
          "text": [
            "<ipython-input-7-53af35328c47>:54: MatplotlibDeprecationWarning: Setting data with a non sequence type is deprecated since 3.7 and will be remove two minor releases later\n",
            "  line_forecast.set_data(bitcoin_df['ds'][end_idx], predicted[0][0])  # line_forecast의 데이터를 bitcoin_df의 ds열에서 선택한 데이터와 predicted의 예측값으로 설정하여 그래프의 예측 선을 새로운 데이터로 업데이트 하는 것이다\n",
            "<ipython-input-7-53af35328c47>:29: MatplotlibDeprecationWarning: Setting data with a non sequence type is deprecated since 3.7 and will be remove two minor releases later\n",
            "  line_vertical.set_xdata(bitcoin_df['ds'][end_idx])  #line_vertical의 x 데이터를 변경한다. bitcoin_df의 y 열에서 end_idx에 해당하는 행의 값을 가져오는것이다.\n"
          ]
        },
        {
          "output_type": "stream",
          "name": "stdout",
          "text": [
            "1/1 [==============================] - 0s 25ms/step - loss: 0.0011\n",
            "1/1 [==============================] - 0s 31ms/step\n"
          ]
        },
        {
          "output_type": "stream",
          "name": "stderr",
          "text": [
            "<ipython-input-7-53af35328c47>:54: MatplotlibDeprecationWarning: Setting data with a non sequence type is deprecated since 3.7 and will be remove two minor releases later\n",
            "  line_forecast.set_data(bitcoin_df['ds'][end_idx], predicted[0][0])  # line_forecast의 데이터를 bitcoin_df의 ds열에서 선택한 데이터와 predicted의 예측값으로 설정하여 그래프의 예측 선을 새로운 데이터로 업데이트 하는 것이다\n",
            "<ipython-input-7-53af35328c47>:29: MatplotlibDeprecationWarning: Setting data with a non sequence type is deprecated since 3.7 and will be remove two minor releases later\n",
            "  line_vertical.set_xdata(bitcoin_df['ds'][end_idx])  #line_vertical의 x 데이터를 변경한다. bitcoin_df의 y 열에서 end_idx에 해당하는 행의 값을 가져오는것이다.\n"
          ]
        },
        {
          "output_type": "stream",
          "name": "stdout",
          "text": [
            "1/1 [==============================] - 0s 12ms/step - loss: 3.8727e-04\n",
            "1/1 [==============================] - 0s 23ms/step\n"
          ]
        },
        {
          "output_type": "stream",
          "name": "stderr",
          "text": [
            "<ipython-input-7-53af35328c47>:54: MatplotlibDeprecationWarning: Setting data with a non sequence type is deprecated since 3.7 and will be remove two minor releases later\n",
            "  line_forecast.set_data(bitcoin_df['ds'][end_idx], predicted[0][0])  # line_forecast의 데이터를 bitcoin_df의 ds열에서 선택한 데이터와 predicted의 예측값으로 설정하여 그래프의 예측 선을 새로운 데이터로 업데이트 하는 것이다\n",
            "<ipython-input-7-53af35328c47>:29: MatplotlibDeprecationWarning: Setting data with a non sequence type is deprecated since 3.7 and will be remove two minor releases later\n",
            "  line_vertical.set_xdata(bitcoin_df['ds'][end_idx])  #line_vertical의 x 데이터를 변경한다. bitcoin_df의 y 열에서 end_idx에 해당하는 행의 값을 가져오는것이다.\n"
          ]
        },
        {
          "output_type": "stream",
          "name": "stdout",
          "text": [
            "1/1 [==============================] - 0s 22ms/step - loss: 6.7108e-05\n",
            "1/1 [==============================] - 0s 23ms/step\n"
          ]
        },
        {
          "output_type": "stream",
          "name": "stderr",
          "text": [
            "<ipython-input-7-53af35328c47>:54: MatplotlibDeprecationWarning: Setting data with a non sequence type is deprecated since 3.7 and will be remove two minor releases later\n",
            "  line_forecast.set_data(bitcoin_df['ds'][end_idx], predicted[0][0])  # line_forecast의 데이터를 bitcoin_df의 ds열에서 선택한 데이터와 predicted의 예측값으로 설정하여 그래프의 예측 선을 새로운 데이터로 업데이트 하는 것이다\n",
            "<ipython-input-7-53af35328c47>:29: MatplotlibDeprecationWarning: Setting data with a non sequence type is deprecated since 3.7 and will be remove two minor releases later\n",
            "  line_vertical.set_xdata(bitcoin_df['ds'][end_idx])  #line_vertical의 x 데이터를 변경한다. bitcoin_df의 y 열에서 end_idx에 해당하는 행의 값을 가져오는것이다.\n"
          ]
        },
        {
          "output_type": "stream",
          "name": "stdout",
          "text": [
            "1/1 [==============================] - 0s 16ms/step - loss: 6.1722e-04\n",
            "1/1 [==============================] - 0s 33ms/step\n"
          ]
        },
        {
          "output_type": "stream",
          "name": "stderr",
          "text": [
            "<ipython-input-7-53af35328c47>:54: MatplotlibDeprecationWarning: Setting data with a non sequence type is deprecated since 3.7 and will be remove two minor releases later\n",
            "  line_forecast.set_data(bitcoin_df['ds'][end_idx], predicted[0][0])  # line_forecast의 데이터를 bitcoin_df의 ds열에서 선택한 데이터와 predicted의 예측값으로 설정하여 그래프의 예측 선을 새로운 데이터로 업데이트 하는 것이다\n",
            "<ipython-input-7-53af35328c47>:29: MatplotlibDeprecationWarning: Setting data with a non sequence type is deprecated since 3.7 and will be remove two minor releases later\n",
            "  line_vertical.set_xdata(bitcoin_df['ds'][end_idx])  #line_vertical의 x 데이터를 변경한다. bitcoin_df의 y 열에서 end_idx에 해당하는 행의 값을 가져오는것이다.\n"
          ]
        },
        {
          "output_type": "stream",
          "name": "stdout",
          "text": [
            "1/1 [==============================] - 0s 9ms/step - loss: 6.3873e-04\n",
            "1/1 [==============================] - 0s 22ms/step\n"
          ]
        },
        {
          "output_type": "stream",
          "name": "stderr",
          "text": [
            "<ipython-input-7-53af35328c47>:54: MatplotlibDeprecationWarning: Setting data with a non sequence type is deprecated since 3.7 and will be remove two minor releases later\n",
            "  line_forecast.set_data(bitcoin_df['ds'][end_idx], predicted[0][0])  # line_forecast의 데이터를 bitcoin_df의 ds열에서 선택한 데이터와 predicted의 예측값으로 설정하여 그래프의 예측 선을 새로운 데이터로 업데이트 하는 것이다\n",
            "<ipython-input-7-53af35328c47>:29: MatplotlibDeprecationWarning: Setting data with a non sequence type is deprecated since 3.7 and will be remove two minor releases later\n",
            "  line_vertical.set_xdata(bitcoin_df['ds'][end_idx])  #line_vertical의 x 데이터를 변경한다. bitcoin_df의 y 열에서 end_idx에 해당하는 행의 값을 가져오는것이다.\n"
          ]
        },
        {
          "output_type": "stream",
          "name": "stdout",
          "text": [
            "1/1 [==============================] - 0s 11ms/step - loss: 3.2915e-06\n",
            "1/1 [==============================] - 0s 34ms/step\n"
          ]
        },
        {
          "output_type": "stream",
          "name": "stderr",
          "text": [
            "<ipython-input-7-53af35328c47>:54: MatplotlibDeprecationWarning: Setting data with a non sequence type is deprecated since 3.7 and will be remove two minor releases later\n",
            "  line_forecast.set_data(bitcoin_df['ds'][end_idx], predicted[0][0])  # line_forecast의 데이터를 bitcoin_df의 ds열에서 선택한 데이터와 predicted의 예측값으로 설정하여 그래프의 예측 선을 새로운 데이터로 업데이트 하는 것이다\n",
            "<ipython-input-7-53af35328c47>:29: MatplotlibDeprecationWarning: Setting data with a non sequence type is deprecated since 3.7 and will be remove two minor releases later\n",
            "  line_vertical.set_xdata(bitcoin_df['ds'][end_idx])  #line_vertical의 x 데이터를 변경한다. bitcoin_df의 y 열에서 end_idx에 해당하는 행의 값을 가져오는것이다.\n"
          ]
        },
        {
          "output_type": "stream",
          "name": "stdout",
          "text": [
            "1/1 [==============================] - 0s 10ms/step - loss: 5.9778e-05\n",
            "1/1 [==============================] - 0s 24ms/step\n"
          ]
        },
        {
          "output_type": "stream",
          "name": "stderr",
          "text": [
            "<ipython-input-7-53af35328c47>:54: MatplotlibDeprecationWarning: Setting data with a non sequence type is deprecated since 3.7 and will be remove two minor releases later\n",
            "  line_forecast.set_data(bitcoin_df['ds'][end_idx], predicted[0][0])  # line_forecast의 데이터를 bitcoin_df의 ds열에서 선택한 데이터와 predicted의 예측값으로 설정하여 그래프의 예측 선을 새로운 데이터로 업데이트 하는 것이다\n",
            "<ipython-input-7-53af35328c47>:29: MatplotlibDeprecationWarning: Setting data with a non sequence type is deprecated since 3.7 and will be remove two minor releases later\n",
            "  line_vertical.set_xdata(bitcoin_df['ds'][end_idx])  #line_vertical의 x 데이터를 변경한다. bitcoin_df의 y 열에서 end_idx에 해당하는 행의 값을 가져오는것이다.\n"
          ]
        },
        {
          "output_type": "stream",
          "name": "stdout",
          "text": [
            "1/1 [==============================] - 0s 19ms/step - loss: 9.0893e-04\n",
            "1/1 [==============================] - 0s 25ms/step\n"
          ]
        },
        {
          "output_type": "stream",
          "name": "stderr",
          "text": [
            "<ipython-input-7-53af35328c47>:54: MatplotlibDeprecationWarning: Setting data with a non sequence type is deprecated since 3.7 and will be remove two minor releases later\n",
            "  line_forecast.set_data(bitcoin_df['ds'][end_idx], predicted[0][0])  # line_forecast의 데이터를 bitcoin_df의 ds열에서 선택한 데이터와 predicted의 예측값으로 설정하여 그래프의 예측 선을 새로운 데이터로 업데이트 하는 것이다\n",
            "<ipython-input-7-53af35328c47>:29: MatplotlibDeprecationWarning: Setting data with a non sequence type is deprecated since 3.7 and will be remove two minor releases later\n",
            "  line_vertical.set_xdata(bitcoin_df['ds'][end_idx])  #line_vertical의 x 데이터를 변경한다. bitcoin_df의 y 열에서 end_idx에 해당하는 행의 값을 가져오는것이다.\n"
          ]
        },
        {
          "output_type": "stream",
          "name": "stdout",
          "text": [
            "1/1 [==============================] - 0s 11ms/step - loss: 3.7059e-08\n",
            "1/1 [==============================] - 0s 24ms/step\n"
          ]
        },
        {
          "output_type": "stream",
          "name": "stderr",
          "text": [
            "<ipython-input-7-53af35328c47>:54: MatplotlibDeprecationWarning: Setting data with a non sequence type is deprecated since 3.7 and will be remove two minor releases later\n",
            "  line_forecast.set_data(bitcoin_df['ds'][end_idx], predicted[0][0])  # line_forecast의 데이터를 bitcoin_df의 ds열에서 선택한 데이터와 predicted의 예측값으로 설정하여 그래프의 예측 선을 새로운 데이터로 업데이트 하는 것이다\n",
            "<ipython-input-7-53af35328c47>:29: MatplotlibDeprecationWarning: Setting data with a non sequence type is deprecated since 3.7 and will be remove two minor releases later\n",
            "  line_vertical.set_xdata(bitcoin_df['ds'][end_idx])  #line_vertical의 x 데이터를 변경한다. bitcoin_df의 y 열에서 end_idx에 해당하는 행의 값을 가져오는것이다.\n"
          ]
        },
        {
          "output_type": "stream",
          "name": "stdout",
          "text": [
            "1/1 [==============================] - 0s 11ms/step - loss: 6.5099e-05\n",
            "1/1 [==============================] - 0s 25ms/step\n"
          ]
        },
        {
          "output_type": "stream",
          "name": "stderr",
          "text": [
            "<ipython-input-7-53af35328c47>:54: MatplotlibDeprecationWarning: Setting data with a non sequence type is deprecated since 3.7 and will be remove two minor releases later\n",
            "  line_forecast.set_data(bitcoin_df['ds'][end_idx], predicted[0][0])  # line_forecast의 데이터를 bitcoin_df의 ds열에서 선택한 데이터와 predicted의 예측값으로 설정하여 그래프의 예측 선을 새로운 데이터로 업데이트 하는 것이다\n",
            "<ipython-input-7-53af35328c47>:29: MatplotlibDeprecationWarning: Setting data with a non sequence type is deprecated since 3.7 and will be remove two minor releases later\n",
            "  line_vertical.set_xdata(bitcoin_df['ds'][end_idx])  #line_vertical의 x 데이터를 변경한다. bitcoin_df의 y 열에서 end_idx에 해당하는 행의 값을 가져오는것이다.\n"
          ]
        },
        {
          "output_type": "stream",
          "name": "stdout",
          "text": [
            "1/1 [==============================] - 0s 10ms/step - loss: 1.6141e-04\n",
            "1/1 [==============================] - 0s 27ms/step\n"
          ]
        },
        {
          "output_type": "stream",
          "name": "stderr",
          "text": [
            "<ipython-input-7-53af35328c47>:54: MatplotlibDeprecationWarning: Setting data with a non sequence type is deprecated since 3.7 and will be remove two minor releases later\n",
            "  line_forecast.set_data(bitcoin_df['ds'][end_idx], predicted[0][0])  # line_forecast의 데이터를 bitcoin_df의 ds열에서 선택한 데이터와 predicted의 예측값으로 설정하여 그래프의 예측 선을 새로운 데이터로 업데이트 하는 것이다\n",
            "<ipython-input-7-53af35328c47>:29: MatplotlibDeprecationWarning: Setting data with a non sequence type is deprecated since 3.7 and will be remove two minor releases later\n",
            "  line_vertical.set_xdata(bitcoin_df['ds'][end_idx])  #line_vertical의 x 데이터를 변경한다. bitcoin_df의 y 열에서 end_idx에 해당하는 행의 값을 가져오는것이다.\n"
          ]
        },
        {
          "output_type": "stream",
          "name": "stdout",
          "text": [
            "1/1 [==============================] - 0s 11ms/step - loss: 6.2126e-04\n",
            "1/1 [==============================] - 0s 23ms/step\n"
          ]
        },
        {
          "output_type": "stream",
          "name": "stderr",
          "text": [
            "<ipython-input-7-53af35328c47>:54: MatplotlibDeprecationWarning: Setting data with a non sequence type is deprecated since 3.7 and will be remove two minor releases later\n",
            "  line_forecast.set_data(bitcoin_df['ds'][end_idx], predicted[0][0])  # line_forecast의 데이터를 bitcoin_df의 ds열에서 선택한 데이터와 predicted의 예측값으로 설정하여 그래프의 예측 선을 새로운 데이터로 업데이트 하는 것이다\n",
            "<ipython-input-7-53af35328c47>:29: MatplotlibDeprecationWarning: Setting data with a non sequence type is deprecated since 3.7 and will be remove two minor releases later\n",
            "  line_vertical.set_xdata(bitcoin_df['ds'][end_idx])  #line_vertical의 x 데이터를 변경한다. bitcoin_df의 y 열에서 end_idx에 해당하는 행의 값을 가져오는것이다.\n"
          ]
        },
        {
          "output_type": "stream",
          "name": "stdout",
          "text": [
            "1/1 [==============================] - 0s 10ms/step - loss: 8.1141e-04\n",
            "1/1 [==============================] - 0s 24ms/step\n"
          ]
        },
        {
          "output_type": "stream",
          "name": "stderr",
          "text": [
            "<ipython-input-7-53af35328c47>:54: MatplotlibDeprecationWarning: Setting data with a non sequence type is deprecated since 3.7 and will be remove two minor releases later\n",
            "  line_forecast.set_data(bitcoin_df['ds'][end_idx], predicted[0][0])  # line_forecast의 데이터를 bitcoin_df의 ds열에서 선택한 데이터와 predicted의 예측값으로 설정하여 그래프의 예측 선을 새로운 데이터로 업데이트 하는 것이다\n",
            "<ipython-input-7-53af35328c47>:29: MatplotlibDeprecationWarning: Setting data with a non sequence type is deprecated since 3.7 and will be remove two minor releases later\n",
            "  line_vertical.set_xdata(bitcoin_df['ds'][end_idx])  #line_vertical의 x 데이터를 변경한다. bitcoin_df의 y 열에서 end_idx에 해당하는 행의 값을 가져오는것이다.\n"
          ]
        },
        {
          "output_type": "stream",
          "name": "stdout",
          "text": [
            "1/1 [==============================] - 0s 10ms/step - loss: 5.7551e-04\n",
            "1/1 [==============================] - 0s 32ms/step\n"
          ]
        },
        {
          "output_type": "stream",
          "name": "stderr",
          "text": [
            "<ipython-input-7-53af35328c47>:54: MatplotlibDeprecationWarning: Setting data with a non sequence type is deprecated since 3.7 and will be remove two minor releases later\n",
            "  line_forecast.set_data(bitcoin_df['ds'][end_idx], predicted[0][0])  # line_forecast의 데이터를 bitcoin_df의 ds열에서 선택한 데이터와 predicted의 예측값으로 설정하여 그래프의 예측 선을 새로운 데이터로 업데이트 하는 것이다\n",
            "<ipython-input-7-53af35328c47>:29: MatplotlibDeprecationWarning: Setting data with a non sequence type is deprecated since 3.7 and will be remove two minor releases later\n",
            "  line_vertical.set_xdata(bitcoin_df['ds'][end_idx])  #line_vertical의 x 데이터를 변경한다. bitcoin_df의 y 열에서 end_idx에 해당하는 행의 값을 가져오는것이다.\n"
          ]
        },
        {
          "output_type": "stream",
          "name": "stdout",
          "text": [
            "1/1 [==============================] - 0s 14ms/step - loss: 0.0028\n",
            "1/1 [==============================] - 0s 23ms/step\n"
          ]
        },
        {
          "output_type": "stream",
          "name": "stderr",
          "text": [
            "<ipython-input-7-53af35328c47>:54: MatplotlibDeprecationWarning: Setting data with a non sequence type is deprecated since 3.7 and will be remove two minor releases later\n",
            "  line_forecast.set_data(bitcoin_df['ds'][end_idx], predicted[0][0])  # line_forecast의 데이터를 bitcoin_df의 ds열에서 선택한 데이터와 predicted의 예측값으로 설정하여 그래프의 예측 선을 새로운 데이터로 업데이트 하는 것이다\n",
            "<ipython-input-7-53af35328c47>:29: MatplotlibDeprecationWarning: Setting data with a non sequence type is deprecated since 3.7 and will be remove two minor releases later\n",
            "  line_vertical.set_xdata(bitcoin_df['ds'][end_idx])  #line_vertical의 x 데이터를 변경한다. bitcoin_df의 y 열에서 end_idx에 해당하는 행의 값을 가져오는것이다.\n"
          ]
        },
        {
          "output_type": "stream",
          "name": "stdout",
          "text": [
            "1/1 [==============================] - 0s 23ms/step - loss: 0.0029\n",
            "1/1 [==============================] - 0s 25ms/step\n"
          ]
        },
        {
          "output_type": "stream",
          "name": "stderr",
          "text": [
            "<ipython-input-7-53af35328c47>:54: MatplotlibDeprecationWarning: Setting data with a non sequence type is deprecated since 3.7 and will be remove two minor releases later\n",
            "  line_forecast.set_data(bitcoin_df['ds'][end_idx], predicted[0][0])  # line_forecast의 데이터를 bitcoin_df의 ds열에서 선택한 데이터와 predicted의 예측값으로 설정하여 그래프의 예측 선을 새로운 데이터로 업데이트 하는 것이다\n",
            "<ipython-input-7-53af35328c47>:29: MatplotlibDeprecationWarning: Setting data with a non sequence type is deprecated since 3.7 and will be remove two minor releases later\n",
            "  line_vertical.set_xdata(bitcoin_df['ds'][end_idx])  #line_vertical의 x 데이터를 변경한다. bitcoin_df의 y 열에서 end_idx에 해당하는 행의 값을 가져오는것이다.\n"
          ]
        },
        {
          "output_type": "stream",
          "name": "stdout",
          "text": [
            "1/1 [==============================] - 0s 9ms/step - loss: 0.0018\n",
            "1/1 [==============================] - 0s 41ms/step\n"
          ]
        },
        {
          "output_type": "stream",
          "name": "stderr",
          "text": [
            "<ipython-input-7-53af35328c47>:54: MatplotlibDeprecationWarning: Setting data with a non sequence type is deprecated since 3.7 and will be remove two minor releases later\n",
            "  line_forecast.set_data(bitcoin_df['ds'][end_idx], predicted[0][0])  # line_forecast의 데이터를 bitcoin_df의 ds열에서 선택한 데이터와 predicted의 예측값으로 설정하여 그래프의 예측 선을 새로운 데이터로 업데이트 하는 것이다\n"
          ]
        },
        {
          "output_type": "stream",
          "name": "stdout",
          "text": [
            "1/1 [==============================] - 0s 16ms/step - loss: 8.6119e-04\n"
          ]
        },
        {
          "output_type": "stream",
          "name": "stderr",
          "text": [
            "<ipython-input-7-53af35328c47>:29: MatplotlibDeprecationWarning: Setting data with a non sequence type is deprecated since 3.7 and will be remove two minor releases later\n",
            "  line_vertical.set_xdata(bitcoin_df['ds'][end_idx])  #line_vertical의 x 데이터를 변경한다. bitcoin_df의 y 열에서 end_idx에 해당하는 행의 값을 가져오는것이다.\n"
          ]
        },
        {
          "output_type": "stream",
          "name": "stdout",
          "text": [
            "1/1 [==============================] - 0s 54ms/step\n"
          ]
        },
        {
          "output_type": "stream",
          "name": "stderr",
          "text": [
            "<ipython-input-7-53af35328c47>:54: MatplotlibDeprecationWarning: Setting data with a non sequence type is deprecated since 3.7 and will be remove two minor releases later\n",
            "  line_forecast.set_data(bitcoin_df['ds'][end_idx], predicted[0][0])  # line_forecast의 데이터를 bitcoin_df의 ds열에서 선택한 데이터와 predicted의 예측값으로 설정하여 그래프의 예측 선을 새로운 데이터로 업데이트 하는 것이다\n",
            "<ipython-input-7-53af35328c47>:29: MatplotlibDeprecationWarning: Setting data with a non sequence type is deprecated since 3.7 and will be remove two minor releases later\n",
            "  line_vertical.set_xdata(bitcoin_df['ds'][end_idx])  #line_vertical의 x 데이터를 변경한다. bitcoin_df의 y 열에서 end_idx에 해당하는 행의 값을 가져오는것이다.\n"
          ]
        },
        {
          "output_type": "stream",
          "name": "stdout",
          "text": [
            "1/1 [==============================] - 0s 15ms/step - loss: 0.0025\n",
            "1/1 [==============================] - 0s 34ms/step\n"
          ]
        },
        {
          "output_type": "stream",
          "name": "stderr",
          "text": [
            "<ipython-input-7-53af35328c47>:54: MatplotlibDeprecationWarning: Setting data with a non sequence type is deprecated since 3.7 and will be remove two minor releases later\n",
            "  line_forecast.set_data(bitcoin_df['ds'][end_idx], predicted[0][0])  # line_forecast의 데이터를 bitcoin_df의 ds열에서 선택한 데이터와 predicted의 예측값으로 설정하여 그래프의 예측 선을 새로운 데이터로 업데이트 하는 것이다\n"
          ]
        },
        {
          "output_type": "stream",
          "name": "stdout",
          "text": [
            "1/1 [==============================] - 0s 16ms/step - loss: 0.0058\n"
          ]
        },
        {
          "output_type": "stream",
          "name": "stderr",
          "text": [
            "<ipython-input-7-53af35328c47>:29: MatplotlibDeprecationWarning: Setting data with a non sequence type is deprecated since 3.7 and will be remove two minor releases later\n",
            "  line_vertical.set_xdata(bitcoin_df['ds'][end_idx])  #line_vertical의 x 데이터를 변경한다. bitcoin_df의 y 열에서 end_idx에 해당하는 행의 값을 가져오는것이다.\n"
          ]
        },
        {
          "output_type": "stream",
          "name": "stdout",
          "text": [
            "1/1 [==============================] - 0s 42ms/step\n"
          ]
        },
        {
          "output_type": "stream",
          "name": "stderr",
          "text": [
            "<ipython-input-7-53af35328c47>:54: MatplotlibDeprecationWarning: Setting data with a non sequence type is deprecated since 3.7 and will be remove two minor releases later\n",
            "  line_forecast.set_data(bitcoin_df['ds'][end_idx], predicted[0][0])  # line_forecast의 데이터를 bitcoin_df의 ds열에서 선택한 데이터와 predicted의 예측값으로 설정하여 그래프의 예측 선을 새로운 데이터로 업데이트 하는 것이다\n"
          ]
        },
        {
          "output_type": "stream",
          "name": "stdout",
          "text": [
            "1/1 [==============================] - 0s 16ms/step - loss: 4.8982e-06\n"
          ]
        },
        {
          "output_type": "stream",
          "name": "stderr",
          "text": [
            "<ipython-input-7-53af35328c47>:29: MatplotlibDeprecationWarning: Setting data with a non sequence type is deprecated since 3.7 and will be remove two minor releases later\n",
            "  line_vertical.set_xdata(bitcoin_df['ds'][end_idx])  #line_vertical의 x 데이터를 변경한다. bitcoin_df의 y 열에서 end_idx에 해당하는 행의 값을 가져오는것이다.\n"
          ]
        },
        {
          "output_type": "stream",
          "name": "stdout",
          "text": [
            "1/1 [==============================] - 0s 48ms/step\n"
          ]
        },
        {
          "output_type": "stream",
          "name": "stderr",
          "text": [
            "<ipython-input-7-53af35328c47>:54: MatplotlibDeprecationWarning: Setting data with a non sequence type is deprecated since 3.7 and will be remove two minor releases later\n",
            "  line_forecast.set_data(bitcoin_df['ds'][end_idx], predicted[0][0])  # line_forecast의 데이터를 bitcoin_df의 ds열에서 선택한 데이터와 predicted의 예측값으로 설정하여 그래프의 예측 선을 새로운 데이터로 업데이트 하는 것이다\n"
          ]
        },
        {
          "output_type": "stream",
          "name": "stdout",
          "text": [
            "1/1 [==============================] - 0s 17ms/step - loss: 3.6179e-05\n"
          ]
        },
        {
          "output_type": "stream",
          "name": "stderr",
          "text": [
            "<ipython-input-7-53af35328c47>:29: MatplotlibDeprecationWarning: Setting data with a non sequence type is deprecated since 3.7 and will be remove two minor releases later\n",
            "  line_vertical.set_xdata(bitcoin_df['ds'][end_idx])  #line_vertical의 x 데이터를 변경한다. bitcoin_df의 y 열에서 end_idx에 해당하는 행의 값을 가져오는것이다.\n"
          ]
        },
        {
          "output_type": "stream",
          "name": "stdout",
          "text": [
            "1/1 [==============================] - 0s 40ms/step\n"
          ]
        },
        {
          "output_type": "stream",
          "name": "stderr",
          "text": [
            "<ipython-input-7-53af35328c47>:54: MatplotlibDeprecationWarning: Setting data with a non sequence type is deprecated since 3.7 and will be remove two minor releases later\n",
            "  line_forecast.set_data(bitcoin_df['ds'][end_idx], predicted[0][0])  # line_forecast의 데이터를 bitcoin_df의 ds열에서 선택한 데이터와 predicted의 예측값으로 설정하여 그래프의 예측 선을 새로운 데이터로 업데이트 하는 것이다\n"
          ]
        },
        {
          "output_type": "stream",
          "name": "stdout",
          "text": [
            "1/1 [==============================] - 0s 16ms/step - loss: 0.0014\n"
          ]
        },
        {
          "output_type": "stream",
          "name": "stderr",
          "text": [
            "<ipython-input-7-53af35328c47>:29: MatplotlibDeprecationWarning: Setting data with a non sequence type is deprecated since 3.7 and will be remove two minor releases later\n",
            "  line_vertical.set_xdata(bitcoin_df['ds'][end_idx])  #line_vertical의 x 데이터를 변경한다. bitcoin_df의 y 열에서 end_idx에 해당하는 행의 값을 가져오는것이다.\n"
          ]
        },
        {
          "output_type": "stream",
          "name": "stdout",
          "text": [
            "1/1 [==============================] - 0s 42ms/step\n"
          ]
        },
        {
          "output_type": "stream",
          "name": "stderr",
          "text": [
            "<ipython-input-7-53af35328c47>:54: MatplotlibDeprecationWarning: Setting data with a non sequence type is deprecated since 3.7 and will be remove two minor releases later\n",
            "  line_forecast.set_data(bitcoin_df['ds'][end_idx], predicted[0][0])  # line_forecast의 데이터를 bitcoin_df의 ds열에서 선택한 데이터와 predicted의 예측값으로 설정하여 그래프의 예측 선을 새로운 데이터로 업데이트 하는 것이다\n"
          ]
        },
        {
          "output_type": "stream",
          "name": "stdout",
          "text": [
            "1/1 [==============================] - 0s 15ms/step - loss: 0.0023\n"
          ]
        },
        {
          "output_type": "stream",
          "name": "stderr",
          "text": [
            "<ipython-input-7-53af35328c47>:29: MatplotlibDeprecationWarning: Setting data with a non sequence type is deprecated since 3.7 and will be remove two minor releases later\n",
            "  line_vertical.set_xdata(bitcoin_df['ds'][end_idx])  #line_vertical의 x 데이터를 변경한다. bitcoin_df의 y 열에서 end_idx에 해당하는 행의 값을 가져오는것이다.\n"
          ]
        },
        {
          "output_type": "stream",
          "name": "stdout",
          "text": [
            "1/1 [==============================] - 0s 45ms/step\n"
          ]
        },
        {
          "output_type": "stream",
          "name": "stderr",
          "text": [
            "<ipython-input-7-53af35328c47>:54: MatplotlibDeprecationWarning: Setting data with a non sequence type is deprecated since 3.7 and will be remove two minor releases later\n",
            "  line_forecast.set_data(bitcoin_df['ds'][end_idx], predicted[0][0])  # line_forecast의 데이터를 bitcoin_df의 ds열에서 선택한 데이터와 predicted의 예측값으로 설정하여 그래프의 예측 선을 새로운 데이터로 업데이트 하는 것이다\n"
          ]
        },
        {
          "output_type": "stream",
          "name": "stdout",
          "text": [
            "1/1 [==============================] - 0s 15ms/step - loss: 0.0047\n"
          ]
        },
        {
          "output_type": "stream",
          "name": "stderr",
          "text": [
            "<ipython-input-7-53af35328c47>:29: MatplotlibDeprecationWarning: Setting data with a non sequence type is deprecated since 3.7 and will be remove two minor releases later\n",
            "  line_vertical.set_xdata(bitcoin_df['ds'][end_idx])  #line_vertical의 x 데이터를 변경한다. bitcoin_df의 y 열에서 end_idx에 해당하는 행의 값을 가져오는것이다.\n"
          ]
        },
        {
          "output_type": "stream",
          "name": "stdout",
          "text": [
            "1/1 [==============================] - 0s 44ms/step\n"
          ]
        },
        {
          "output_type": "stream",
          "name": "stderr",
          "text": [
            "<ipython-input-7-53af35328c47>:54: MatplotlibDeprecationWarning: Setting data with a non sequence type is deprecated since 3.7 and will be remove two minor releases later\n",
            "  line_forecast.set_data(bitcoin_df['ds'][end_idx], predicted[0][0])  # line_forecast의 데이터를 bitcoin_df의 ds열에서 선택한 데이터와 predicted의 예측값으로 설정하여 그래프의 예측 선을 새로운 데이터로 업데이트 하는 것이다\n"
          ]
        },
        {
          "output_type": "stream",
          "name": "stdout",
          "text": [
            "1/1 [==============================] - 0s 14ms/step - loss: 0.0132\n"
          ]
        },
        {
          "output_type": "stream",
          "name": "stderr",
          "text": [
            "<ipython-input-7-53af35328c47>:29: MatplotlibDeprecationWarning: Setting data with a non sequence type is deprecated since 3.7 and will be remove two minor releases later\n",
            "  line_vertical.set_xdata(bitcoin_df['ds'][end_idx])  #line_vertical의 x 데이터를 변경한다. bitcoin_df의 y 열에서 end_idx에 해당하는 행의 값을 가져오는것이다.\n"
          ]
        },
        {
          "output_type": "stream",
          "name": "stdout",
          "text": [
            "1/1 [==============================] - 0s 42ms/step\n"
          ]
        },
        {
          "output_type": "stream",
          "name": "stderr",
          "text": [
            "<ipython-input-7-53af35328c47>:54: MatplotlibDeprecationWarning: Setting data with a non sequence type is deprecated since 3.7 and will be remove two minor releases later\n",
            "  line_forecast.set_data(bitcoin_df['ds'][end_idx], predicted[0][0])  # line_forecast의 데이터를 bitcoin_df의 ds열에서 선택한 데이터와 predicted의 예측값으로 설정하여 그래프의 예측 선을 새로운 데이터로 업데이트 하는 것이다\n"
          ]
        },
        {
          "output_type": "stream",
          "name": "stdout",
          "text": [
            "1/1 [==============================] - 0s 14ms/step - loss: 0.0253\n"
          ]
        },
        {
          "output_type": "stream",
          "name": "stderr",
          "text": [
            "<ipython-input-7-53af35328c47>:29: MatplotlibDeprecationWarning: Setting data with a non sequence type is deprecated since 3.7 and will be remove two minor releases later\n",
            "  line_vertical.set_xdata(bitcoin_df['ds'][end_idx])  #line_vertical의 x 데이터를 변경한다. bitcoin_df의 y 열에서 end_idx에 해당하는 행의 값을 가져오는것이다.\n"
          ]
        },
        {
          "output_type": "stream",
          "name": "stdout",
          "text": [
            "1/1 [==============================] - 0s 35ms/step\n"
          ]
        },
        {
          "output_type": "stream",
          "name": "stderr",
          "text": [
            "<ipython-input-7-53af35328c47>:54: MatplotlibDeprecationWarning: Setting data with a non sequence type is deprecated since 3.7 and will be remove two minor releases later\n",
            "  line_forecast.set_data(bitcoin_df['ds'][end_idx], predicted[0][0])  # line_forecast의 데이터를 bitcoin_df의 ds열에서 선택한 데이터와 predicted의 예측값으로 설정하여 그래프의 예측 선을 새로운 데이터로 업데이트 하는 것이다\n"
          ]
        },
        {
          "output_type": "stream",
          "name": "stdout",
          "text": [
            "1/1 [==============================] - 0s 14ms/step - loss: 0.0216\n"
          ]
        },
        {
          "output_type": "stream",
          "name": "stderr",
          "text": [
            "<ipython-input-7-53af35328c47>:29: MatplotlibDeprecationWarning: Setting data with a non sequence type is deprecated since 3.7 and will be remove two minor releases later\n",
            "  line_vertical.set_xdata(bitcoin_df['ds'][end_idx])  #line_vertical의 x 데이터를 변경한다. bitcoin_df의 y 열에서 end_idx에 해당하는 행의 값을 가져오는것이다.\n"
          ]
        },
        {
          "output_type": "stream",
          "name": "stdout",
          "text": [
            "1/1 [==============================] - 0s 45ms/step\n"
          ]
        },
        {
          "output_type": "stream",
          "name": "stderr",
          "text": [
            "<ipython-input-7-53af35328c47>:54: MatplotlibDeprecationWarning: Setting data with a non sequence type is deprecated since 3.7 and will be remove two minor releases later\n",
            "  line_forecast.set_data(bitcoin_df['ds'][end_idx], predicted[0][0])  # line_forecast의 데이터를 bitcoin_df의 ds열에서 선택한 데이터와 predicted의 예측값으로 설정하여 그래프의 예측 선을 새로운 데이터로 업데이트 하는 것이다\n",
            "<ipython-input-7-53af35328c47>:29: MatplotlibDeprecationWarning: Setting data with a non sequence type is deprecated since 3.7 and will be remove two minor releases later\n",
            "  line_vertical.set_xdata(bitcoin_df['ds'][end_idx])  #line_vertical의 x 데이터를 변경한다. bitcoin_df의 y 열에서 end_idx에 해당하는 행의 값을 가져오는것이다.\n"
          ]
        },
        {
          "output_type": "stream",
          "name": "stdout",
          "text": [
            "1/1 [==============================] - 0s 11ms/step - loss: 0.0142\n",
            "1/1 [==============================] - 0s 23ms/step\n"
          ]
        },
        {
          "output_type": "stream",
          "name": "stderr",
          "text": [
            "<ipython-input-7-53af35328c47>:54: MatplotlibDeprecationWarning: Setting data with a non sequence type is deprecated since 3.7 and will be remove two minor releases later\n",
            "  line_forecast.set_data(bitcoin_df['ds'][end_idx], predicted[0][0])  # line_forecast의 데이터를 bitcoin_df의 ds열에서 선택한 데이터와 predicted의 예측값으로 설정하여 그래프의 예측 선을 새로운 데이터로 업데이트 하는 것이다\n",
            "<ipython-input-7-53af35328c47>:29: MatplotlibDeprecationWarning: Setting data with a non sequence type is deprecated since 3.7 and will be remove two minor releases later\n",
            "  line_vertical.set_xdata(bitcoin_df['ds'][end_idx])  #line_vertical의 x 데이터를 변경한다. bitcoin_df의 y 열에서 end_idx에 해당하는 행의 값을 가져오는것이다.\n"
          ]
        },
        {
          "output_type": "stream",
          "name": "stdout",
          "text": [
            "1/1 [==============================] - 0s 10ms/step - loss: 0.0335\n",
            "1/1 [==============================] - 0s 26ms/step\n"
          ]
        },
        {
          "output_type": "stream",
          "name": "stderr",
          "text": [
            "<ipython-input-7-53af35328c47>:54: MatplotlibDeprecationWarning: Setting data with a non sequence type is deprecated since 3.7 and will be remove two minor releases later\n",
            "  line_forecast.set_data(bitcoin_df['ds'][end_idx], predicted[0][0])  # line_forecast의 데이터를 bitcoin_df의 ds열에서 선택한 데이터와 predicted의 예측값으로 설정하여 그래프의 예측 선을 새로운 데이터로 업데이트 하는 것이다\n",
            "<ipython-input-7-53af35328c47>:29: MatplotlibDeprecationWarning: Setting data with a non sequence type is deprecated since 3.7 and will be remove two minor releases later\n",
            "  line_vertical.set_xdata(bitcoin_df['ds'][end_idx])  #line_vertical의 x 데이터를 변경한다. bitcoin_df의 y 열에서 end_idx에 해당하는 행의 값을 가져오는것이다.\n"
          ]
        },
        {
          "output_type": "stream",
          "name": "stdout",
          "text": [
            "1/1 [==============================] - 0s 14ms/step - loss: 0.0207\n",
            "1/1 [==============================] - 0s 24ms/step\n"
          ]
        },
        {
          "output_type": "stream",
          "name": "stderr",
          "text": [
            "<ipython-input-7-53af35328c47>:54: MatplotlibDeprecationWarning: Setting data with a non sequence type is deprecated since 3.7 and will be remove two minor releases later\n",
            "  line_forecast.set_data(bitcoin_df['ds'][end_idx], predicted[0][0])  # line_forecast의 데이터를 bitcoin_df의 ds열에서 선택한 데이터와 predicted의 예측값으로 설정하여 그래프의 예측 선을 새로운 데이터로 업데이트 하는 것이다\n",
            "<ipython-input-7-53af35328c47>:29: MatplotlibDeprecationWarning: Setting data with a non sequence type is deprecated since 3.7 and will be remove two minor releases later\n",
            "  line_vertical.set_xdata(bitcoin_df['ds'][end_idx])  #line_vertical의 x 데이터를 변경한다. bitcoin_df의 y 열에서 end_idx에 해당하는 행의 값을 가져오는것이다.\n"
          ]
        },
        {
          "output_type": "stream",
          "name": "stdout",
          "text": [
            "1/1 [==============================] - 0s 9ms/step - loss: 0.0066\n",
            "1/1 [==============================] - 0s 23ms/step\n"
          ]
        },
        {
          "output_type": "stream",
          "name": "stderr",
          "text": [
            "<ipython-input-7-53af35328c47>:54: MatplotlibDeprecationWarning: Setting data with a non sequence type is deprecated since 3.7 and will be remove two minor releases later\n",
            "  line_forecast.set_data(bitcoin_df['ds'][end_idx], predicted[0][0])  # line_forecast의 데이터를 bitcoin_df의 ds열에서 선택한 데이터와 predicted의 예측값으로 설정하여 그래프의 예측 선을 새로운 데이터로 업데이트 하는 것이다\n",
            "<ipython-input-7-53af35328c47>:29: MatplotlibDeprecationWarning: Setting data with a non sequence type is deprecated since 3.7 and will be remove two minor releases later\n",
            "  line_vertical.set_xdata(bitcoin_df['ds'][end_idx])  #line_vertical의 x 데이터를 변경한다. bitcoin_df의 y 열에서 end_idx에 해당하는 행의 값을 가져오는것이다.\n"
          ]
        },
        {
          "output_type": "stream",
          "name": "stdout",
          "text": [
            "1/1 [==============================] - 0s 13ms/step - loss: 0.0033\n",
            "1/1 [==============================] - 0s 26ms/step\n"
          ]
        },
        {
          "output_type": "stream",
          "name": "stderr",
          "text": [
            "<ipython-input-7-53af35328c47>:54: MatplotlibDeprecationWarning: Setting data with a non sequence type is deprecated since 3.7 and will be remove two minor releases later\n",
            "  line_forecast.set_data(bitcoin_df['ds'][end_idx], predicted[0][0])  # line_forecast의 데이터를 bitcoin_df의 ds열에서 선택한 데이터와 predicted의 예측값으로 설정하여 그래프의 예측 선을 새로운 데이터로 업데이트 하는 것이다\n",
            "<ipython-input-7-53af35328c47>:29: MatplotlibDeprecationWarning: Setting data with a non sequence type is deprecated since 3.7 and will be remove two minor releases later\n",
            "  line_vertical.set_xdata(bitcoin_df['ds'][end_idx])  #line_vertical의 x 데이터를 변경한다. bitcoin_df의 y 열에서 end_idx에 해당하는 행의 값을 가져오는것이다.\n"
          ]
        },
        {
          "output_type": "stream",
          "name": "stdout",
          "text": [
            "1/1 [==============================] - 0s 11ms/step - loss: 8.9054e-04\n",
            "1/1 [==============================] - 0s 25ms/step\n"
          ]
        },
        {
          "output_type": "stream",
          "name": "stderr",
          "text": [
            "<ipython-input-7-53af35328c47>:54: MatplotlibDeprecationWarning: Setting data with a non sequence type is deprecated since 3.7 and will be remove two minor releases later\n",
            "  line_forecast.set_data(bitcoin_df['ds'][end_idx], predicted[0][0])  # line_forecast의 데이터를 bitcoin_df의 ds열에서 선택한 데이터와 predicted의 예측값으로 설정하여 그래프의 예측 선을 새로운 데이터로 업데이트 하는 것이다\n",
            "<ipython-input-7-53af35328c47>:29: MatplotlibDeprecationWarning: Setting data with a non sequence type is deprecated since 3.7 and will be remove two minor releases later\n",
            "  line_vertical.set_xdata(bitcoin_df['ds'][end_idx])  #line_vertical의 x 데이터를 변경한다. bitcoin_df의 y 열에서 end_idx에 해당하는 행의 값을 가져오는것이다.\n"
          ]
        },
        {
          "output_type": "stream",
          "name": "stdout",
          "text": [
            "1/1 [==============================] - 0s 11ms/step - loss: 0.0064\n",
            "1/1 [==============================] - 0s 24ms/step\n"
          ]
        },
        {
          "output_type": "stream",
          "name": "stderr",
          "text": [
            "<ipython-input-7-53af35328c47>:54: MatplotlibDeprecationWarning: Setting data with a non sequence type is deprecated since 3.7 and will be remove two minor releases later\n",
            "  line_forecast.set_data(bitcoin_df['ds'][end_idx], predicted[0][0])  # line_forecast의 데이터를 bitcoin_df의 ds열에서 선택한 데이터와 predicted의 예측값으로 설정하여 그래프의 예측 선을 새로운 데이터로 업데이트 하는 것이다\n",
            "<ipython-input-7-53af35328c47>:29: MatplotlibDeprecationWarning: Setting data with a non sequence type is deprecated since 3.7 and will be remove two minor releases later\n",
            "  line_vertical.set_xdata(bitcoin_df['ds'][end_idx])  #line_vertical의 x 데이터를 변경한다. bitcoin_df의 y 열에서 end_idx에 해당하는 행의 값을 가져오는것이다.\n"
          ]
        },
        {
          "output_type": "stream",
          "name": "stdout",
          "text": [
            "1/1 [==============================] - 0s 10ms/step - loss: 0.0108\n",
            "1/1 [==============================] - 0s 27ms/step\n"
          ]
        },
        {
          "output_type": "stream",
          "name": "stderr",
          "text": [
            "<ipython-input-7-53af35328c47>:54: MatplotlibDeprecationWarning: Setting data with a non sequence type is deprecated since 3.7 and will be remove two minor releases later\n",
            "  line_forecast.set_data(bitcoin_df['ds'][end_idx], predicted[0][0])  # line_forecast의 데이터를 bitcoin_df의 ds열에서 선택한 데이터와 predicted의 예측값으로 설정하여 그래프의 예측 선을 새로운 데이터로 업데이트 하는 것이다\n",
            "<ipython-input-7-53af35328c47>:29: MatplotlibDeprecationWarning: Setting data with a non sequence type is deprecated since 3.7 and will be remove two minor releases later\n",
            "  line_vertical.set_xdata(bitcoin_df['ds'][end_idx])  #line_vertical의 x 데이터를 변경한다. bitcoin_df의 y 열에서 end_idx에 해당하는 행의 값을 가져오는것이다.\n"
          ]
        },
        {
          "output_type": "stream",
          "name": "stdout",
          "text": [
            "1/1 [==============================] - 0s 9ms/step - loss: 0.0215\n",
            "1/1 [==============================] - 0s 24ms/step\n"
          ]
        },
        {
          "output_type": "stream",
          "name": "stderr",
          "text": [
            "<ipython-input-7-53af35328c47>:54: MatplotlibDeprecationWarning: Setting data with a non sequence type is deprecated since 3.7 and will be remove two minor releases later\n",
            "  line_forecast.set_data(bitcoin_df['ds'][end_idx], predicted[0][0])  # line_forecast의 데이터를 bitcoin_df의 ds열에서 선택한 데이터와 predicted의 예측값으로 설정하여 그래프의 예측 선을 새로운 데이터로 업데이트 하는 것이다\n",
            "<ipython-input-7-53af35328c47>:29: MatplotlibDeprecationWarning: Setting data with a non sequence type is deprecated since 3.7 and will be remove two minor releases later\n",
            "  line_vertical.set_xdata(bitcoin_df['ds'][end_idx])  #line_vertical의 x 데이터를 변경한다. bitcoin_df의 y 열에서 end_idx에 해당하는 행의 값을 가져오는것이다.\n"
          ]
        },
        {
          "output_type": "stream",
          "name": "stdout",
          "text": [
            "1/1 [==============================] - 0s 9ms/step - loss: 0.0289\n",
            "1/1 [==============================] - 0s 22ms/step\n"
          ]
        },
        {
          "output_type": "stream",
          "name": "stderr",
          "text": [
            "<ipython-input-7-53af35328c47>:54: MatplotlibDeprecationWarning: Setting data with a non sequence type is deprecated since 3.7 and will be remove two minor releases later\n",
            "  line_forecast.set_data(bitcoin_df['ds'][end_idx], predicted[0][0])  # line_forecast의 데이터를 bitcoin_df의 ds열에서 선택한 데이터와 predicted의 예측값으로 설정하여 그래프의 예측 선을 새로운 데이터로 업데이트 하는 것이다\n",
            "<ipython-input-7-53af35328c47>:29: MatplotlibDeprecationWarning: Setting data with a non sequence type is deprecated since 3.7 and will be remove two minor releases later\n",
            "  line_vertical.set_xdata(bitcoin_df['ds'][end_idx])  #line_vertical의 x 데이터를 변경한다. bitcoin_df의 y 열에서 end_idx에 해당하는 행의 값을 가져오는것이다.\n"
          ]
        },
        {
          "output_type": "stream",
          "name": "stdout",
          "text": [
            "1/1 [==============================] - 0s 10ms/step - loss: 0.0132\n",
            "1/1 [==============================] - 0s 26ms/step\n"
          ]
        },
        {
          "output_type": "stream",
          "name": "stderr",
          "text": [
            "<ipython-input-7-53af35328c47>:54: MatplotlibDeprecationWarning: Setting data with a non sequence type is deprecated since 3.7 and will be remove two minor releases later\n",
            "  line_forecast.set_data(bitcoin_df['ds'][end_idx], predicted[0][0])  # line_forecast의 데이터를 bitcoin_df의 ds열에서 선택한 데이터와 predicted의 예측값으로 설정하여 그래프의 예측 선을 새로운 데이터로 업데이트 하는 것이다\n",
            "<ipython-input-7-53af35328c47>:29: MatplotlibDeprecationWarning: Setting data with a non sequence type is deprecated since 3.7 and will be remove two minor releases later\n",
            "  line_vertical.set_xdata(bitcoin_df['ds'][end_idx])  #line_vertical의 x 데이터를 변경한다. bitcoin_df의 y 열에서 end_idx에 해당하는 행의 값을 가져오는것이다.\n"
          ]
        },
        {
          "output_type": "stream",
          "name": "stdout",
          "text": [
            "1/1 [==============================] - 0s 13ms/step - loss: 0.0293\n",
            "1/1 [==============================] - 0s 27ms/step\n"
          ]
        },
        {
          "output_type": "stream",
          "name": "stderr",
          "text": [
            "<ipython-input-7-53af35328c47>:54: MatplotlibDeprecationWarning: Setting data with a non sequence type is deprecated since 3.7 and will be remove two minor releases later\n",
            "  line_forecast.set_data(bitcoin_df['ds'][end_idx], predicted[0][0])  # line_forecast의 데이터를 bitcoin_df의 ds열에서 선택한 데이터와 predicted의 예측값으로 설정하여 그래프의 예측 선을 새로운 데이터로 업데이트 하는 것이다\n",
            "<ipython-input-7-53af35328c47>:29: MatplotlibDeprecationWarning: Setting data with a non sequence type is deprecated since 3.7 and will be remove two minor releases later\n",
            "  line_vertical.set_xdata(bitcoin_df['ds'][end_idx])  #line_vertical의 x 데이터를 변경한다. bitcoin_df의 y 열에서 end_idx에 해당하는 행의 값을 가져오는것이다.\n"
          ]
        },
        {
          "output_type": "stream",
          "name": "stdout",
          "text": [
            "1/1 [==============================] - 0s 12ms/step - loss: 0.0159\n",
            "1/1 [==============================] - 0s 34ms/step\n"
          ]
        },
        {
          "output_type": "stream",
          "name": "stderr",
          "text": [
            "<ipython-input-7-53af35328c47>:54: MatplotlibDeprecationWarning: Setting data with a non sequence type is deprecated since 3.7 and will be remove two minor releases later\n",
            "  line_forecast.set_data(bitcoin_df['ds'][end_idx], predicted[0][0])  # line_forecast의 데이터를 bitcoin_df의 ds열에서 선택한 데이터와 predicted의 예측값으로 설정하여 그래프의 예측 선을 새로운 데이터로 업데이트 하는 것이다\n",
            "<ipython-input-7-53af35328c47>:29: MatplotlibDeprecationWarning: Setting data with a non sequence type is deprecated since 3.7 and will be remove two minor releases later\n",
            "  line_vertical.set_xdata(bitcoin_df['ds'][end_idx])  #line_vertical의 x 데이터를 변경한다. bitcoin_df의 y 열에서 end_idx에 해당하는 행의 값을 가져오는것이다.\n"
          ]
        },
        {
          "output_type": "stream",
          "name": "stdout",
          "text": [
            "1/1 [==============================] - 0s 12ms/step - loss: 0.0111\n",
            "1/1 [==============================] - 0s 27ms/step\n"
          ]
        },
        {
          "output_type": "stream",
          "name": "stderr",
          "text": [
            "<ipython-input-7-53af35328c47>:54: MatplotlibDeprecationWarning: Setting data with a non sequence type is deprecated since 3.7 and will be remove two minor releases later\n",
            "  line_forecast.set_data(bitcoin_df['ds'][end_idx], predicted[0][0])  # line_forecast의 데이터를 bitcoin_df의 ds열에서 선택한 데이터와 predicted의 예측값으로 설정하여 그래프의 예측 선을 새로운 데이터로 업데이트 하는 것이다\n",
            "<ipython-input-7-53af35328c47>:29: MatplotlibDeprecationWarning: Setting data with a non sequence type is deprecated since 3.7 and will be remove two minor releases later\n",
            "  line_vertical.set_xdata(bitcoin_df['ds'][end_idx])  #line_vertical의 x 데이터를 변경한다. bitcoin_df의 y 열에서 end_idx에 해당하는 행의 값을 가져오는것이다.\n"
          ]
        },
        {
          "output_type": "stream",
          "name": "stdout",
          "text": [
            "1/1 [==============================] - 0s 10ms/step - loss: 0.0043\n",
            "1/1 [==============================] - 0s 25ms/step\n"
          ]
        },
        {
          "output_type": "stream",
          "name": "stderr",
          "text": [
            "<ipython-input-7-53af35328c47>:54: MatplotlibDeprecationWarning: Setting data with a non sequence type is deprecated since 3.7 and will be remove two minor releases later\n",
            "  line_forecast.set_data(bitcoin_df['ds'][end_idx], predicted[0][0])  # line_forecast의 데이터를 bitcoin_df의 ds열에서 선택한 데이터와 predicted의 예측값으로 설정하여 그래프의 예측 선을 새로운 데이터로 업데이트 하는 것이다\n",
            "<ipython-input-7-53af35328c47>:29: MatplotlibDeprecationWarning: Setting data with a non sequence type is deprecated since 3.7 and will be remove two minor releases later\n",
            "  line_vertical.set_xdata(bitcoin_df['ds'][end_idx])  #line_vertical의 x 데이터를 변경한다. bitcoin_df의 y 열에서 end_idx에 해당하는 행의 값을 가져오는것이다.\n"
          ]
        },
        {
          "output_type": "stream",
          "name": "stdout",
          "text": [
            "1/1 [==============================] - 0s 13ms/step - loss: 0.0244\n",
            "1/1 [==============================] - 0s 30ms/step\n"
          ]
        },
        {
          "output_type": "stream",
          "name": "stderr",
          "text": [
            "<ipython-input-7-53af35328c47>:54: MatplotlibDeprecationWarning: Setting data with a non sequence type is deprecated since 3.7 and will be remove two minor releases later\n",
            "  line_forecast.set_data(bitcoin_df['ds'][end_idx], predicted[0][0])  # line_forecast의 데이터를 bitcoin_df의 ds열에서 선택한 데이터와 predicted의 예측값으로 설정하여 그래프의 예측 선을 새로운 데이터로 업데이트 하는 것이다\n",
            "<ipython-input-7-53af35328c47>:29: MatplotlibDeprecationWarning: Setting data with a non sequence type is deprecated since 3.7 and will be remove two minor releases later\n",
            "  line_vertical.set_xdata(bitcoin_df['ds'][end_idx])  #line_vertical의 x 데이터를 변경한다. bitcoin_df의 y 열에서 end_idx에 해당하는 행의 값을 가져오는것이다.\n"
          ]
        },
        {
          "output_type": "stream",
          "name": "stdout",
          "text": [
            "1/1 [==============================] - 0s 15ms/step - loss: 0.0105\n",
            "1/1 [==============================] - 0s 23ms/step\n"
          ]
        },
        {
          "output_type": "stream",
          "name": "stderr",
          "text": [
            "<ipython-input-7-53af35328c47>:54: MatplotlibDeprecationWarning: Setting data with a non sequence type is deprecated since 3.7 and will be remove two minor releases later\n",
            "  line_forecast.set_data(bitcoin_df['ds'][end_idx], predicted[0][0])  # line_forecast의 데이터를 bitcoin_df의 ds열에서 선택한 데이터와 predicted의 예측값으로 설정하여 그래프의 예측 선을 새로운 데이터로 업데이트 하는 것이다\n",
            "<ipython-input-7-53af35328c47>:29: MatplotlibDeprecationWarning: Setting data with a non sequence type is deprecated since 3.7 and will be remove two minor releases later\n",
            "  line_vertical.set_xdata(bitcoin_df['ds'][end_idx])  #line_vertical의 x 데이터를 변경한다. bitcoin_df의 y 열에서 end_idx에 해당하는 행의 값을 가져오는것이다.\n"
          ]
        },
        {
          "output_type": "stream",
          "name": "stdout",
          "text": [
            "1/1 [==============================] - 0s 12ms/step - loss: 0.0059\n",
            "1/1 [==============================] - 0s 23ms/step\n"
          ]
        },
        {
          "output_type": "stream",
          "name": "stderr",
          "text": [
            "<ipython-input-7-53af35328c47>:54: MatplotlibDeprecationWarning: Setting data with a non sequence type is deprecated since 3.7 and will be remove two minor releases later\n",
            "  line_forecast.set_data(bitcoin_df['ds'][end_idx], predicted[0][0])  # line_forecast의 데이터를 bitcoin_df의 ds열에서 선택한 데이터와 predicted의 예측값으로 설정하여 그래프의 예측 선을 새로운 데이터로 업데이트 하는 것이다\n",
            "<ipython-input-7-53af35328c47>:29: MatplotlibDeprecationWarning: Setting data with a non sequence type is deprecated since 3.7 and will be remove two minor releases later\n",
            "  line_vertical.set_xdata(bitcoin_df['ds'][end_idx])  #line_vertical의 x 데이터를 변경한다. bitcoin_df의 y 열에서 end_idx에 해당하는 행의 값을 가져오는것이다.\n"
          ]
        },
        {
          "output_type": "stream",
          "name": "stdout",
          "text": [
            "1/1 [==============================] - 0s 9ms/step - loss: 0.0010\n",
            "1/1 [==============================] - 0s 24ms/step\n"
          ]
        },
        {
          "output_type": "stream",
          "name": "stderr",
          "text": [
            "<ipython-input-7-53af35328c47>:54: MatplotlibDeprecationWarning: Setting data with a non sequence type is deprecated since 3.7 and will be remove two minor releases later\n",
            "  line_forecast.set_data(bitcoin_df['ds'][end_idx], predicted[0][0])  # line_forecast의 데이터를 bitcoin_df의 ds열에서 선택한 데이터와 predicted의 예측값으로 설정하여 그래프의 예측 선을 새로운 데이터로 업데이트 하는 것이다\n",
            "<ipython-input-7-53af35328c47>:29: MatplotlibDeprecationWarning: Setting data with a non sequence type is deprecated since 3.7 and will be remove two minor releases later\n",
            "  line_vertical.set_xdata(bitcoin_df['ds'][end_idx])  #line_vertical의 x 데이터를 변경한다. bitcoin_df의 y 열에서 end_idx에 해당하는 행의 값을 가져오는것이다.\n"
          ]
        },
        {
          "output_type": "stream",
          "name": "stdout",
          "text": [
            "1/1 [==============================] - 0s 10ms/step - loss: 8.1998e-06\n",
            "1/1 [==============================] - 0s 24ms/step\n"
          ]
        },
        {
          "output_type": "stream",
          "name": "stderr",
          "text": [
            "<ipython-input-7-53af35328c47>:54: MatplotlibDeprecationWarning: Setting data with a non sequence type is deprecated since 3.7 and will be remove two minor releases later\n",
            "  line_forecast.set_data(bitcoin_df['ds'][end_idx], predicted[0][0])  # line_forecast의 데이터를 bitcoin_df의 ds열에서 선택한 데이터와 predicted의 예측값으로 설정하여 그래프의 예측 선을 새로운 데이터로 업데이트 하는 것이다\n",
            "<ipython-input-7-53af35328c47>:29: MatplotlibDeprecationWarning: Setting data with a non sequence type is deprecated since 3.7 and will be remove two minor releases later\n",
            "  line_vertical.set_xdata(bitcoin_df['ds'][end_idx])  #line_vertical의 x 데이터를 변경한다. bitcoin_df의 y 열에서 end_idx에 해당하는 행의 값을 가져오는것이다.\n"
          ]
        },
        {
          "output_type": "stream",
          "name": "stdout",
          "text": [
            "1/1 [==============================] - 0s 10ms/step - loss: 8.4146e-05\n",
            "1/1 [==============================] - 0s 26ms/step\n"
          ]
        },
        {
          "output_type": "stream",
          "name": "stderr",
          "text": [
            "<ipython-input-7-53af35328c47>:54: MatplotlibDeprecationWarning: Setting data with a non sequence type is deprecated since 3.7 and will be remove two minor releases later\n",
            "  line_forecast.set_data(bitcoin_df['ds'][end_idx], predicted[0][0])  # line_forecast의 데이터를 bitcoin_df의 ds열에서 선택한 데이터와 predicted의 예측값으로 설정하여 그래프의 예측 선을 새로운 데이터로 업데이트 하는 것이다\n",
            "<ipython-input-7-53af35328c47>:29: MatplotlibDeprecationWarning: Setting data with a non sequence type is deprecated since 3.7 and will be remove two minor releases later\n",
            "  line_vertical.set_xdata(bitcoin_df['ds'][end_idx])  #line_vertical의 x 데이터를 변경한다. bitcoin_df의 y 열에서 end_idx에 해당하는 행의 값을 가져오는것이다.\n"
          ]
        },
        {
          "output_type": "stream",
          "name": "stdout",
          "text": [
            "1/1 [==============================] - 0s 10ms/step - loss: 0.0026\n",
            "1/1 [==============================] - 0s 30ms/step\n"
          ]
        },
        {
          "output_type": "stream",
          "name": "stderr",
          "text": [
            "<ipython-input-7-53af35328c47>:54: MatplotlibDeprecationWarning: Setting data with a non sequence type is deprecated since 3.7 and will be remove two minor releases later\n",
            "  line_forecast.set_data(bitcoin_df['ds'][end_idx], predicted[0][0])  # line_forecast의 데이터를 bitcoin_df의 ds열에서 선택한 데이터와 predicted의 예측값으로 설정하여 그래프의 예측 선을 새로운 데이터로 업데이트 하는 것이다\n",
            "<ipython-input-7-53af35328c47>:29: MatplotlibDeprecationWarning: Setting data with a non sequence type is deprecated since 3.7 and will be remove two minor releases later\n",
            "  line_vertical.set_xdata(bitcoin_df['ds'][end_idx])  #line_vertical의 x 데이터를 변경한다. bitcoin_df의 y 열에서 end_idx에 해당하는 행의 값을 가져오는것이다.\n"
          ]
        },
        {
          "output_type": "stream",
          "name": "stdout",
          "text": [
            "1/1 [==============================] - 0s 20ms/step - loss: 0.0109\n",
            "1/1 [==============================] - 0s 23ms/step\n"
          ]
        },
        {
          "output_type": "stream",
          "name": "stderr",
          "text": [
            "<ipython-input-7-53af35328c47>:54: MatplotlibDeprecationWarning: Setting data with a non sequence type is deprecated since 3.7 and will be remove two minor releases later\n",
            "  line_forecast.set_data(bitcoin_df['ds'][end_idx], predicted[0][0])  # line_forecast의 데이터를 bitcoin_df의 ds열에서 선택한 데이터와 predicted의 예측값으로 설정하여 그래프의 예측 선을 새로운 데이터로 업데이트 하는 것이다\n",
            "<ipython-input-7-53af35328c47>:29: MatplotlibDeprecationWarning: Setting data with a non sequence type is deprecated since 3.7 and will be remove two minor releases later\n",
            "  line_vertical.set_xdata(bitcoin_df['ds'][end_idx])  #line_vertical의 x 데이터를 변경한다. bitcoin_df의 y 열에서 end_idx에 해당하는 행의 값을 가져오는것이다.\n"
          ]
        },
        {
          "output_type": "stream",
          "name": "stdout",
          "text": [
            "1/1 [==============================] - 0s 10ms/step - loss: 0.0023\n",
            "1/1 [==============================] - 0s 29ms/step\n"
          ]
        },
        {
          "output_type": "stream",
          "name": "stderr",
          "text": [
            "<ipython-input-7-53af35328c47>:54: MatplotlibDeprecationWarning: Setting data with a non sequence type is deprecated since 3.7 and will be remove two minor releases later\n",
            "  line_forecast.set_data(bitcoin_df['ds'][end_idx], predicted[0][0])  # line_forecast의 데이터를 bitcoin_df의 ds열에서 선택한 데이터와 predicted의 예측값으로 설정하여 그래프의 예측 선을 새로운 데이터로 업데이트 하는 것이다\n",
            "<ipython-input-7-53af35328c47>:29: MatplotlibDeprecationWarning: Setting data with a non sequence type is deprecated since 3.7 and will be remove two minor releases later\n",
            "  line_vertical.set_xdata(bitcoin_df['ds'][end_idx])  #line_vertical의 x 데이터를 변경한다. bitcoin_df의 y 열에서 end_idx에 해당하는 행의 값을 가져오는것이다.\n"
          ]
        },
        {
          "output_type": "stream",
          "name": "stdout",
          "text": [
            "1/1 [==============================] - 0s 15ms/step - loss: 0.0010\n",
            "1/1 [==============================] - 0s 24ms/step\n"
          ]
        },
        {
          "output_type": "stream",
          "name": "stderr",
          "text": [
            "<ipython-input-7-53af35328c47>:54: MatplotlibDeprecationWarning: Setting data with a non sequence type is deprecated since 3.7 and will be remove two minor releases later\n",
            "  line_forecast.set_data(bitcoin_df['ds'][end_idx], predicted[0][0])  # line_forecast의 데이터를 bitcoin_df의 ds열에서 선택한 데이터와 predicted의 예측값으로 설정하여 그래프의 예측 선을 새로운 데이터로 업데이트 하는 것이다\n",
            "<ipython-input-7-53af35328c47>:29: MatplotlibDeprecationWarning: Setting data with a non sequence type is deprecated since 3.7 and will be remove two minor releases later\n",
            "  line_vertical.set_xdata(bitcoin_df['ds'][end_idx])  #line_vertical의 x 데이터를 변경한다. bitcoin_df의 y 열에서 end_idx에 해당하는 행의 값을 가져오는것이다.\n"
          ]
        },
        {
          "output_type": "stream",
          "name": "stdout",
          "text": [
            "1/1 [==============================] - 0s 10ms/step - loss: 5.2409e-05\n",
            "1/1 [==============================] - 0s 23ms/step\n"
          ]
        },
        {
          "output_type": "stream",
          "name": "stderr",
          "text": [
            "<ipython-input-7-53af35328c47>:54: MatplotlibDeprecationWarning: Setting data with a non sequence type is deprecated since 3.7 and will be remove two minor releases later\n",
            "  line_forecast.set_data(bitcoin_df['ds'][end_idx], predicted[0][0])  # line_forecast의 데이터를 bitcoin_df의 ds열에서 선택한 데이터와 predicted의 예측값으로 설정하여 그래프의 예측 선을 새로운 데이터로 업데이트 하는 것이다\n",
            "<ipython-input-7-53af35328c47>:29: MatplotlibDeprecationWarning: Setting data with a non sequence type is deprecated since 3.7 and will be remove two minor releases later\n",
            "  line_vertical.set_xdata(bitcoin_df['ds'][end_idx])  #line_vertical의 x 데이터를 변경한다. bitcoin_df의 y 열에서 end_idx에 해당하는 행의 값을 가져오는것이다.\n"
          ]
        },
        {
          "output_type": "stream",
          "name": "stdout",
          "text": [
            "1/1 [==============================] - 0s 13ms/step - loss: 0.0047\n",
            "1/1 [==============================] - 0s 23ms/step\n"
          ]
        },
        {
          "output_type": "stream",
          "name": "stderr",
          "text": [
            "<ipython-input-7-53af35328c47>:54: MatplotlibDeprecationWarning: Setting data with a non sequence type is deprecated since 3.7 and will be remove two minor releases later\n",
            "  line_forecast.set_data(bitcoin_df['ds'][end_idx], predicted[0][0])  # line_forecast의 데이터를 bitcoin_df의 ds열에서 선택한 데이터와 predicted의 예측값으로 설정하여 그래프의 예측 선을 새로운 데이터로 업데이트 하는 것이다\n",
            "<ipython-input-7-53af35328c47>:29: MatplotlibDeprecationWarning: Setting data with a non sequence type is deprecated since 3.7 and will be remove two minor releases later\n",
            "  line_vertical.set_xdata(bitcoin_df['ds'][end_idx])  #line_vertical의 x 데이터를 변경한다. bitcoin_df의 y 열에서 end_idx에 해당하는 행의 값을 가져오는것이다.\n"
          ]
        },
        {
          "output_type": "stream",
          "name": "stdout",
          "text": [
            "1/1 [==============================] - 0s 10ms/step - loss: 6.1684e-04\n",
            "1/1 [==============================] - 0s 25ms/step\n"
          ]
        },
        {
          "output_type": "stream",
          "name": "stderr",
          "text": [
            "<ipython-input-7-53af35328c47>:54: MatplotlibDeprecationWarning: Setting data with a non sequence type is deprecated since 3.7 and will be remove two minor releases later\n",
            "  line_forecast.set_data(bitcoin_df['ds'][end_idx], predicted[0][0])  # line_forecast의 데이터를 bitcoin_df의 ds열에서 선택한 데이터와 predicted의 예측값으로 설정하여 그래프의 예측 선을 새로운 데이터로 업데이트 하는 것이다\n",
            "<ipython-input-7-53af35328c47>:29: MatplotlibDeprecationWarning: Setting data with a non sequence type is deprecated since 3.7 and will be remove two minor releases later\n",
            "  line_vertical.set_xdata(bitcoin_df['ds'][end_idx])  #line_vertical의 x 데이터를 변경한다. bitcoin_df의 y 열에서 end_idx에 해당하는 행의 값을 가져오는것이다.\n"
          ]
        },
        {
          "output_type": "stream",
          "name": "stdout",
          "text": [
            "1/1 [==============================] - 0s 16ms/step - loss: 0.0069\n",
            "1/1 [==============================] - 0s 23ms/step\n"
          ]
        },
        {
          "output_type": "stream",
          "name": "stderr",
          "text": [
            "<ipython-input-7-53af35328c47>:54: MatplotlibDeprecationWarning: Setting data with a non sequence type is deprecated since 3.7 and will be remove two minor releases later\n",
            "  line_forecast.set_data(bitcoin_df['ds'][end_idx], predicted[0][0])  # line_forecast의 데이터를 bitcoin_df의 ds열에서 선택한 데이터와 predicted의 예측값으로 설정하여 그래프의 예측 선을 새로운 데이터로 업데이트 하는 것이다\n",
            "<ipython-input-7-53af35328c47>:29: MatplotlibDeprecationWarning: Setting data with a non sequence type is deprecated since 3.7 and will be remove two minor releases later\n",
            "  line_vertical.set_xdata(bitcoin_df['ds'][end_idx])  #line_vertical의 x 데이터를 변경한다. bitcoin_df의 y 열에서 end_idx에 해당하는 행의 값을 가져오는것이다.\n"
          ]
        },
        {
          "output_type": "stream",
          "name": "stdout",
          "text": [
            "1/1 [==============================] - 0s 30ms/step - loss: 5.0756e-04\n",
            "1/1 [==============================] - 0s 30ms/step\n"
          ]
        },
        {
          "output_type": "stream",
          "name": "stderr",
          "text": [
            "<ipython-input-7-53af35328c47>:54: MatplotlibDeprecationWarning: Setting data with a non sequence type is deprecated since 3.7 and will be remove two minor releases later\n",
            "  line_forecast.set_data(bitcoin_df['ds'][end_idx], predicted[0][0])  # line_forecast의 데이터를 bitcoin_df의 ds열에서 선택한 데이터와 predicted의 예측값으로 설정하여 그래프의 예측 선을 새로운 데이터로 업데이트 하는 것이다\n",
            "<ipython-input-7-53af35328c47>:29: MatplotlibDeprecationWarning: Setting data with a non sequence type is deprecated since 3.7 and will be remove two minor releases later\n",
            "  line_vertical.set_xdata(bitcoin_df['ds'][end_idx])  #line_vertical의 x 데이터를 변경한다. bitcoin_df의 y 열에서 end_idx에 해당하는 행의 값을 가져오는것이다.\n"
          ]
        },
        {
          "output_type": "stream",
          "name": "stdout",
          "text": [
            "1/1 [==============================] - 0s 23ms/step - loss: 0.0013\n",
            "1/1 [==============================] - 0s 37ms/step\n"
          ]
        },
        {
          "output_type": "stream",
          "name": "stderr",
          "text": [
            "<ipython-input-7-53af35328c47>:54: MatplotlibDeprecationWarning: Setting data with a non sequence type is deprecated since 3.7 and will be remove two minor releases later\n",
            "  line_forecast.set_data(bitcoin_df['ds'][end_idx], predicted[0][0])  # line_forecast의 데이터를 bitcoin_df의 ds열에서 선택한 데이터와 predicted의 예측값으로 설정하여 그래프의 예측 선을 새로운 데이터로 업데이트 하는 것이다\n"
          ]
        },
        {
          "output_type": "stream",
          "name": "stdout",
          "text": [
            "1/1 [==============================] - 0s 18ms/step - loss: 0.0021\n"
          ]
        },
        {
          "output_type": "stream",
          "name": "stderr",
          "text": [
            "<ipython-input-7-53af35328c47>:29: MatplotlibDeprecationWarning: Setting data with a non sequence type is deprecated since 3.7 and will be remove two minor releases later\n",
            "  line_vertical.set_xdata(bitcoin_df['ds'][end_idx])  #line_vertical의 x 데이터를 변경한다. bitcoin_df의 y 열에서 end_idx에 해당하는 행의 값을 가져오는것이다.\n"
          ]
        },
        {
          "output_type": "stream",
          "name": "stdout",
          "text": [
            "1/1 [==============================] - 0s 60ms/step\n"
          ]
        },
        {
          "output_type": "stream",
          "name": "stderr",
          "text": [
            "<ipython-input-7-53af35328c47>:54: MatplotlibDeprecationWarning: Setting data with a non sequence type is deprecated since 3.7 and will be remove two minor releases later\n",
            "  line_forecast.set_data(bitcoin_df['ds'][end_idx], predicted[0][0])  # line_forecast의 데이터를 bitcoin_df의 ds열에서 선택한 데이터와 predicted의 예측값으로 설정하여 그래프의 예측 선을 새로운 데이터로 업데이트 하는 것이다\n",
            "<ipython-input-7-53af35328c47>:29: MatplotlibDeprecationWarning: Setting data with a non sequence type is deprecated since 3.7 and will be remove two minor releases later\n",
            "  line_vertical.set_xdata(bitcoin_df['ds'][end_idx])  #line_vertical의 x 데이터를 변경한다. bitcoin_df의 y 열에서 end_idx에 해당하는 행의 값을 가져오는것이다.\n"
          ]
        },
        {
          "output_type": "stream",
          "name": "stdout",
          "text": [
            "1/1 [==============================] - 0s 15ms/step - loss: 0.0092\n",
            "1/1 [==============================] - 0s 33ms/step\n"
          ]
        },
        {
          "output_type": "stream",
          "name": "stderr",
          "text": [
            "<ipython-input-7-53af35328c47>:54: MatplotlibDeprecationWarning: Setting data with a non sequence type is deprecated since 3.7 and will be remove two minor releases later\n",
            "  line_forecast.set_data(bitcoin_df['ds'][end_idx], predicted[0][0])  # line_forecast의 데이터를 bitcoin_df의 ds열에서 선택한 데이터와 predicted의 예측값으로 설정하여 그래프의 예측 선을 새로운 데이터로 업데이트 하는 것이다\n"
          ]
        },
        {
          "output_type": "stream",
          "name": "stdout",
          "text": [
            "1/1 [==============================] - 0s 17ms/step - loss: 0.0075\n"
          ]
        },
        {
          "output_type": "stream",
          "name": "stderr",
          "text": [
            "<ipython-input-7-53af35328c47>:29: MatplotlibDeprecationWarning: Setting data with a non sequence type is deprecated since 3.7 and will be remove two minor releases later\n",
            "  line_vertical.set_xdata(bitcoin_df['ds'][end_idx])  #line_vertical의 x 데이터를 변경한다. bitcoin_df의 y 열에서 end_idx에 해당하는 행의 값을 가져오는것이다.\n"
          ]
        },
        {
          "output_type": "stream",
          "name": "stdout",
          "text": [
            "1/1 [==============================] - 0s 34ms/step\n"
          ]
        },
        {
          "output_type": "stream",
          "name": "stderr",
          "text": [
            "<ipython-input-7-53af35328c47>:54: MatplotlibDeprecationWarning: Setting data with a non sequence type is deprecated since 3.7 and will be remove two minor releases later\n",
            "  line_forecast.set_data(bitcoin_df['ds'][end_idx], predicted[0][0])  # line_forecast의 데이터를 bitcoin_df의 ds열에서 선택한 데이터와 predicted의 예측값으로 설정하여 그래프의 예측 선을 새로운 데이터로 업데이트 하는 것이다\n"
          ]
        },
        {
          "output_type": "display_data",
          "data": {
            "text/plain": [
              "<Figure size 1000x600 with 1 Axes>"
            ],
            "image/png": "[encoded data removed]"
          },
          "metadata": {}
        }
      ]
    },
    {
      "cell_type": "markdown",
      "source": [
        "# 2. GRU 모델을 이용한 슬라이싱 기법적용 (22년 1월 ~ 22년 8월 데이터 )"
      ],
      "metadata": {
        "id": "jNZEgoDFQU71"
      }
    },
    {
      "cell_type": "code",
      "source": [
        "!pip install finance-datareader"
      ],
      "metadata": {
        "colab": {
          "base_uri": "https://localhost:8080/"
        },
        "id": "-J-X558SQUoV",
        "outputId": "31730f46-79d8-4e10-c45b-c11631eafc96"
      },
      "execution_count": null,
      "outputs": [
        {
          "output_type": "stream",
          "name": "stdout",
          "text": [
            "Looking in indexes: https://pypi.org/simple, https://us-python.pkg.dev/colab-wheels/public/simple/\n",
            "Collecting finance-datareader\n",
            "  Downloading finance_datareader-0.9.50-py3-none-any.whl (19 kB)\n",
            "Requirement already satisfied: pandas>=0.19.2 in /usr/local/lib/python3.10/dist-packages (from finance-datareader) (1.5.3)\n",
            "Requirement already satisfied: requests>=2.3.0 in /usr/local/lib/python3.10/dist-packages (from finance-datareader) (2.27.1)\n",
            "Collecting requests-file (from finance-datareader)\n",
            "  Downloading requests_file-1.5.1-py2.py3-none-any.whl (3.7 kB)\n",
            "Requirement already satisfied: lxml in /usr/local/lib/python3.10/dist-packages (from finance-datareader) (4.9.2)\n",
            "Requirement already satisfied: tqdm in /usr/local/lib/python3.10/dist-packages (from finance-datareader) (4.65.0)\n",
            "Requirement already satisfied: python-dateutil>=2.8.1 in /usr/local/lib/python3.10/dist-packages (from pandas>=0.19.2->finance-datareader) (2.8.2)\n",
            "Requirement already satisfied: pytz>=2020.1 in /usr/local/lib/python3.10/dist-packages (from pandas>=0.19.2->finance-datareader) (2022.7.1)\n",
            "Requirement already satisfied: numpy>=1.21.0 in /usr/local/lib/python3.10/dist-packages (from pandas>=0.19.2->finance-datareader) (1.22.4)\n",
            "Requirement already satisfied: urllib3<1.27,>=1.21.1 in /usr/local/lib/python3.10/dist-packages (from requests>=2.3.0->finance-datareader) (1.26.15)\n",
            "Requirement already satisfied: certifi>=2017.4.17 in /usr/local/lib/python3.10/dist-packages (from requests>=2.3.0->finance-datareader) (2022.12.7)\n",
            "Requirement already satisfied: charset-normalizer~=2.0.0 in /usr/local/lib/python3.10/dist-packages (from requests>=2.3.0->finance-datareader) (2.0.12)\n",
            "Requirement already satisfied: idna<4,>=2.5 in /usr/local/lib/python3.10/dist-packages (from requests>=2.3.0->finance-datareader) (3.4)\n",
            "Requirement already satisfied: six in /usr/local/lib/python3.10/dist-packages (from requests-file->finance-datareader) (1.16.0)\n",
            "Installing collected packages: requests-file, finance-datareader\n",
            "Successfully installed finance-datareader-0.9.50 requests-file-1.5.1\n"
          ]
        }
      ]
    },
    {
      "cell_type": "code",
      "source": [
        "pip install workalendar # 공휴일 데이터 추가를 위한 달력 패키지"
      ],
      "metadata": {
        "colab": {
          "base_uri": "https://localhost:8080/"
        },
        "id": "6GDW2TJMQUAQ",
        "outputId": "eb8608ff-d61d-4bce-b2f4-efaf01718639"
      },
      "execution_count": null,
      "outputs": [
        {
          "output_type": "stream",
          "name": "stdout",
          "text": [
            "Looking in indexes: https://pypi.org/simple, https://us-python.pkg.dev/colab-wheels/public/simple/\n",
            "Collecting workalendar\n",
            "  Downloading workalendar-17.0.0-py3-none-any.whl (210 kB)\n",
            "\u001b[2K     \u001b[90m━━━━━━━━━━━━━━━━━━━━━━━━━━━━━━━━━━━━━━━\u001b[0m \u001b[32m210.7/210.7 kB\u001b[0m \u001b[31m6.9 MB/s\u001b[0m eta \u001b[36m0:00:00\u001b[0m\n",
            "\u001b[?25hRequirement already satisfied: python-dateutil in /usr/local/lib/python3.10/dist-packages (from workalendar) (2.8.2)\n",
            "Collecting lunardate (from workalendar)\n",
            "  Downloading lunardate-0.2.0-py3-none-any.whl (5.6 kB)\n",
            "Requirement already satisfied: convertdate in /usr/local/lib/python3.10/dist-packages (from workalendar) (2.4.0)\n",
            "Collecting pyluach (from workalendar)\n",
            "  Downloading pyluach-2.2.0-py3-none-any.whl (25 kB)\n",
            "Requirement already satisfied: pymeeus<=1,>=0.3.13 in /usr/local/lib/python3.10/dist-packages (from convertdate->workalendar) (0.5.12)\n",
            "Requirement already satisfied: six>=1.5 in /usr/local/lib/python3.10/dist-packages (from python-dateutil->workalendar) (1.16.0)\n",
            "Installing collected packages: lunardate, pyluach, workalendar\n",
            "Successfully installed lunardate-0.2.0 pyluach-2.2.0 workalendar-17.0.0\n"
          ]
        }
      ]
    },
    {
      "cell_type": "markdown",
      "source": [
        "## 1. 데이터 불러오기"
      ],
      "metadata": {
        "id": "ssjGDNibWyUp"
      }
    },
    {
      "cell_type": "code",
      "source": [
        "import pandas as pd\n",
        "import numpy as np\n",
        "import FinanceDataReader as fdr\n",
        "from sklearn.preprocessing import MinMaxScaler\n",
        "from tensorflow.keras.models import Sequential\n",
        "from tensorflow.keras.layers import GRU, Dense\n",
        "import matplotlib.pyplot as plt\n",
        "from matplotlib.animation import FuncAnimation\n",
        "from IPython.display import HTML\n",
        "\n",
        "# 데이터 불러오기\n",
        "start_date = '2022-01-01'\n",
        "end_date = '2022-08-31'\n",
        "bitcoin_df = fdr.DataReader('BTC/KRW', start_date, end_date) #FinanceDataReader 에서 DataReader 함수 불러온다 , 'BTC/KRW' : 비트코인을 나타낸다.\n",
        "bitcoin_df = bitcoin_df[['Close']]\n",
        "bitcoin_df = bitcoin_df.reset_index().rename(columns={'Date': 'ds', 'Close': 'y'})  # reset_index(): 설정 인덱스를 제거하고 기본 인덱스로 변경하는 메서드\n",
        "bitcoin_df.to_csv(\"btc_price.csv\", index=False)"
      ],
      "metadata": {
        "id": "mQj3MlzdQplV"
      },
      "execution_count": null,
      "outputs": []
    },
    {
      "cell_type": "code",
      "source": [
        "bitcoin_df.head()"
      ],
      "metadata": {
        "colab": {
          "base_uri": "https://localhost:8080/",
          "height": 206
        },
        "id": "TTd-JvFcSchP",
        "outputId": "53675f54-240e-4c36-bc60-140866710a46"
      },
      "execution_count": null,
      "outputs": [
        {
          "output_type": "execute_result",
          "data": {
            "text/plain": [
              "          ds           y\n",
              "0 2022-01-01  56693896.0\n",
              "1 2022-01-02  56288032.0\n",
              "2 2022-01-03  55549032.0\n",
              "3 2022-01-04  54962304.0\n",
              "4 2022-01-05  52293708.0"
            ],
            "text/html": [
              "\n",
              "  <div id=\"df-7b1e8049-ee4e-4f35-9204-ce79f2b060c0\">\n",
              "    <div class=\"colab-df-container\">\n",
              "      <div>\n",
              "<style scoped>\n",
              "    .dataframe tbody tr th:only-of-type {\n",
              "        vertical-align: middle;\n",
              "    }\n",
              "\n",
              "    .dataframe tbody tr th {\n",
              "        vertical-align: top;\n",
              "    }\n",
              "\n",
              "    .dataframe thead th {\n",
              "        text-align: right;\n",
              "    }\n",
              "</style>\n",
              "<table border=\"1\" class=\"dataframe\">\n",
              "  <thead>\n",
              "    <tr style=\"text-align: right;\">\n",
              "      <th></th>\n",
              "      <th>ds</th>\n",
              "      <th>y</th>\n",
              "    </tr>\n",
              "  </thead>\n",
              "  <tbody>\n",
              "    <tr>\n",
              "      <th>0</th>\n",
              "      <td>2022-01-01</td>\n",
              "      <td>56693896.0</td>\n",
              "    </tr>\n",
              "    <tr>\n",
              "      <th>1</th>\n",
              "      <td>2022-01-02</td>\n",
              "      <td>56288032.0</td>\n",
              "    </tr>\n",
              "    <tr>\n",
              "      <th>2</th>\n",
              "      <td>2022-01-03</td>\n",
              "      <td>55549032.0</td>\n",
              "    </tr>\n",
              "    <tr>\n",
              "      <th>3</th>\n",
              "      <td>2022-01-04</td>\n",
              "      <td>54962304.0</td>\n",
              "    </tr>\n",
              "    <tr>\n",
              "      <th>4</th>\n",
              "      <td>2022-01-05</td>\n",
              "      <td>52293708.0</td>\n",
              "    </tr>\n",
              "  </tbody>\n",
              "</table>\n",
              "</div>\n",
              "      <button class=\"colab-df-convert\" onclick=\"convertToInteractive('df-7b1e8049-ee4e-4f35-9204-ce79f2b060c0')\"\n",
              "              title=\"Convert this dataframe to an interactive table.\"\n",
              "              style=\"display:none;\">\n",
              "        \n",
              "  <svg xmlns=\"http://www.w3.org/2000/svg\" height=\"24px\"viewBox=\"0 0 24 24\"\n",
              "       width=\"24px\">\n",
              "    <path d=\"M0 0h24v24H0V0z\" fill=\"none\"/>\n",
              "    <path d=\"M18.56 5.44l.94 2.06.94-2.06 2.06-.94-2.06-.94-.94-2.06-.94 2.06-2.06.94zm-11 1L8.5 8.5l.94-2.06 2.06-.94-2.06-.94L8.5 2.5l-.94 2.06-2.06.94zm10 10l.94 2.06.94-2.06 2.06-.94-2.06-.94-.94-2.06-.94 2.06-2.06.94z\"/><path d=\"M17.41 7.96l-1.37-1.37c-.4-.4-.92-.59-1.43-.59-.52 0-1.04.2-1.43.59L10.3 9.45l-7.72 7.72c-.78.78-.78 2.05 0 2.83L4 21.41c.39.39.9.59 1.41.59.51 0 1.02-.2 1.41-.59l7.78-7.78 2.81-2.81c.8-.78.8-2.07 0-2.86zM5.41 20L4 18.59l7.72-7.72 1.47 1.35L5.41 20z\"/>\n",
              "  </svg>\n",
              "      </button>\n",
              "      \n",
              "  <style>\n",
              "    .colab-df-container {\n",
              "      display:flex;\n",
              "      flex-wrap:wrap;\n",
              "      gap: 12px;\n",
              "    }\n",
              "\n",
              "    .colab-df-convert {\n",
              "      background-color: #E8F0FE;\n",
              "      border: none;\n",
              "      border-radius: 50%;\n",
              "      cursor: pointer;\n",
              "      display: none;\n",
              "      fill: #1967D2;\n",
              "      height: 32px;\n",
              "      padding: 0 0 0 0;\n",
              "      width: 32px;\n",
              "    }\n",
              "\n",
              "    .colab-df-convert:hover {\n",
              "      background-color: #E2EBFA;\n",
              "      box-shadow: 0px 1px 2px rgba(60, 64, 67, 0.3), 0px 1px 3px 1px rgba(60, 64, 67, 0.15);\n",
              "      fill: #174EA6;\n",
              "    }\n",
              "\n",
              "    [theme=dark] .colab-df-convert {\n",
              "      background-color: #3B4455;\n",
              "      fill: #D2E3FC;\n",
              "    }\n",
              "\n",
              "    [theme=dark] .colab-df-convert:hover {\n",
              "      background-color: #434B5C;\n",
              "      box-shadow: 0px 1px 3px 1px rgba(0, 0, 0, 0.15);\n",
              "      filter: drop-shadow(0px 1px 2px rgba(0, 0, 0, 0.3));\n",
              "      fill: #FFFFFF;\n",
              "    }\n",
              "  </style>\n",
              "\n",
              "      <script>\n",
              "        const buttonEl =\n",
              "          document.querySelector('#df-7b1e8049-ee4e-4f35-9204-ce79f2b060c0 button.colab-df-convert');\n",
              "        buttonEl.style.display =\n",
              "          google.colab.kernel.accessAllowed ? 'block' : 'none';\n",
              "\n",
              "        async function convertToInteractive(key) {\n",
              "          const element = document.querySelector('#df-7b1e8049-ee4e-4f35-9204-ce79f2b060c0');\n",
              "          const dataTable =\n",
              "            await google.colab.kernel.invokeFunction('convertToInteractive',\n",
              "                                                     [key], {});\n",
              "          if (!dataTable) return;\n",
              "\n",
              "          const docLinkHtml = 'Like what you see? Visit the ' +\n",
              "            '<a target=\"_blank\" href=https://colab.research.google.com/notebooks/data_table.ipynb>data table notebook</a>'\n",
              "            + ' to learn more about interactive tables.';\n",
              "          element.innerHTML = '';\n",
              "          dataTable['output_type'] = 'display_data';\n",
              "          await google.colab.output.renderOutput(dataTable, element);\n",
              "          const docLink = document.createElement('div');\n",
              "          docLink.innerHTML = docLinkHtml;\n",
              "          element.appendChild(docLink);\n",
              "        }\n",
              "      </script>\n",
              "    </div>\n",
              "  </div>\n",
              "  "
            ]
          },
          "metadata": {},
          "execution_count": 16
        }
      ]
    },
    {
      "cell_type": "markdown",
      "source": [
        "## 2. 데이터 전처리"
      ],
      "metadata": {
        "id": "AnmCO1EOWu4I"
      }
    },
    {
      "cell_type": "code",
      "source": [
        "# 데이터 전처리\n",
        "scaler = MinMaxScaler()  #M MinMaxScaler 는 스케일을 조정하는 정규화 함수로, 모든 데이터가 0과1 사이의 값을 갖도록 해주는 함수이다\n",
        "                         # 최댓값은 1로, 최솟값은 0으로 데이터의 범위를 조정해줍니다.\n",
        "                        # 정규화를 하는 목적은 데이터 범위의 숫자 열값을 변경하여, 값 범위의 차이를 수정하지 않고 공통척도를 사용하는 것이다\n",
        "\n",
        "bitcoin_scaled = scaler.fit_transform(bitcoin_df[['y']])  # fit_transform() :fit()과 transform()을 한번에 처리할 수 있게 하는 메서드\n",
        "                                                          # fit_transform() : train dataset에서만 사용\n",
        "                                                          # scler : 학습이 느리거나 문제가 발생하는 경우가 종종 발생하게되면 Scaler를 이용하여 동일하게 일정 범위로 스케일링하는 것이 필요하다"
      ],
      "metadata": {
        "id": "X0cDvMOgQtPs"
      },
      "execution_count": null,
      "outputs": []
    },
    {
      "cell_type": "code",
      "source": [
        "scaler"
      ],
      "metadata": {
        "colab": {
          "base_uri": "https://localhost:8080/",
          "height": 75
        },
        "id": "gFdJIaXiaXfk",
        "outputId": "e2f17341-ad6d-402e-c4b4-e381e87c0fae"
      },
      "execution_count": null,
      "outputs": [
        {
          "output_type": "execute_result",
          "data": {
            "text/plain": [
              "MinMaxScaler()"
            ],
            "text/html": [
              "<style>#sk-container-id-1 {color: black;background-color: white;}#sk-container-id-1 pre{padding: 0;}#sk-container-id-1 div.sk-toggleable {background-color: white;}#sk-container-id-1 label.sk-toggleable__label {cursor: pointer;display: block;width: 100%;margin-bottom: 0;padding: 0.3em;box-sizing: border-box;text-align: center;}#sk-container-id-1 label.sk-toggleable__label-arrow:before {content: \"▸\";float: left;margin-right: 0.25em;color: #696969;}#sk-container-id-1 label.sk-toggleable__label-arrow:hover:before {color: black;}#sk-container-id-1 div.sk-estimator:hover label.sk-toggleable__label-arrow:before {color: black;}#sk-container-id-1 div.sk-toggleable__content {max-height: 0;max-width: 0;overflow: hidden;text-align: left;background-color: #f0f8ff;}#sk-container-id-1 div.sk-toggleable__content pre {margin: 0.2em;color: black;border-radius: 0.25em;background-color: #f0f8ff;}#sk-container-id-1 input.sk-toggleable__control:checked~div.sk-toggleable__content {max-height: 200px;max-width: 100%;overflow: auto;}#sk-container-id-1 input.sk-toggleable__control:checked~label.sk-toggleable__label-arrow:before {content: \"▾\";}#sk-container-id-1 div.sk-estimator input.sk-toggleable__control:checked~label.sk-toggleable__label {background-color: #d4ebff;}#sk-container-id-1 div.sk-label input.sk-toggleable__control:checked~label.sk-toggleable__label {background-color: #d4ebff;}#sk-container-id-1 input.sk-hidden--visually {border: 0;clip: rect(1px 1px 1px 1px);clip: rect(1px, 1px, 1px, 1px);height: 1px;margin: -1px;overflow: hidden;padding: 0;position: absolute;width: 1px;}#sk-container-id-1 div.sk-estimator {font-family: monospace;background-color: #f0f8ff;border: 1px dotted black;border-radius: 0.25em;box-sizing: border-box;margin-bottom: 0.5em;}#sk-container-id-1 div.sk-estimator:hover {background-color: #d4ebff;}#sk-container-id-1 div.sk-parallel-item::after {content: \"\";width: 100%;border-bottom: 1px solid gray;flex-grow: 1;}#sk-container-id-1 div.sk-label:hover label.sk-toggleable__label {background-color: #d4ebff;}#sk-container-id-1 div.sk-serial::before {content: \"\";position: absolute;border-left: 1px solid gray;box-sizing: border-box;top: 0;bottom: 0;left: 50%;z-index: 0;}#sk-container-id-1 div.sk-serial {display: flex;flex-direction: column;align-items: center;background-color: white;padding-right: 0.2em;padding-left: 0.2em;position: relative;}#sk-container-id-1 div.sk-item {position: relative;z-index: 1;}#sk-container-id-1 div.sk-parallel {display: flex;align-items: stretch;justify-content: center;background-color: white;position: relative;}#sk-container-id-1 div.sk-item::before, #sk-container-id-1 div.sk-parallel-item::before {content: \"\";position: absolute;border-left: 1px solid gray;box-sizing: border-box;top: 0;bottom: 0;left: 50%;z-index: -1;}#sk-container-id-1 div.sk-parallel-item {display: flex;flex-direction: column;z-index: 1;position: relative;background-color: white;}#sk-container-id-1 div.sk-parallel-item:first-child::after {align-self: flex-end;width: 50%;}#sk-container-id-1 div.sk-parallel-item:last-child::after {align-self: flex-start;width: 50%;}#sk-container-id-1 div.sk-parallel-item:only-child::after {width: 0;}#sk-container-id-1 div.sk-dashed-wrapped {border: 1px dashed gray;margin: 0 0.4em 0.5em 0.4em;box-sizing: border-box;padding-bottom: 0.4em;background-color: white;}#sk-container-id-1 div.sk-label label {font-family: monospace;font-weight: bold;display: inline-block;line-height: 1.2em;}#sk-container-id-1 div.sk-label-container {text-align: center;}#sk-container-id-1 div.sk-container {/* jupyter's `normalize.less` sets `[hidden] { display: none; }` but bootstrap.min.css set `[hidden] { display: none !important; }` so we also need the `!important` here to be able to override the default hidden behavior on the sphinx rendered scikit-learn.org. See: https://github.com/scikit-learn/scikit-learn/issues/21755 */display: inline-block !important;position: relative;}#sk-container-id-1 div.sk-text-repr-fallback {display: none;}</style><div id=\"sk-container-id-1\" class=\"sk-top-container\"><div class=\"sk-text-repr-fallback\"><pre>MinMaxScaler()</pre><b>In a Jupyter environment, please rerun this cell to show the HTML representation or trust the notebook. <br />On GitHub, the HTML representation is unable to render, please try loading this page with nbviewer.org.</b></div><div class=\"sk-container\" hidden><div class=\"sk-item\"><div class=\"sk-estimator sk-toggleable\"><input class=\"sk-toggleable__control sk-hidden--visually\" id=\"sk-estimator-id-1\" type=\"checkbox\" checked><label for=\"sk-estimator-id-1\" class=\"sk-toggleable__label sk-toggleable__label-arrow\">MinMaxScaler</label><div class=\"sk-toggleable__content\"><pre>MinMaxScaler()</pre></div></div></div></div></div>"
            ]
          },
          "metadata": {},
          "execution_count": 29
        }
      ]
    },
    {
      "cell_type": "markdown",
      "source": [
        "## 3. 입력 데이터와 타겟 데이터 생성"
      ],
      "metadata": {
        "id": "6b6lSXdvW2QP"
      }
    },
    {
      "cell_type": "code",
      "source": [
        "# 입력 데이터와 타겟 데이터 생성\n",
        "window_size = 15   # windw_size : 과거 기간의 주가 데이터에 기반하여 다음날의 종가를 예측할 것인가를 정하는 parameter(파라미터) 이다. 15일을 기반으로 내일데이터를 예측한다.\n",
        "slide_step = 1    # 1만큼 전진하면서 그래프로 보여준다.\n",
        "\n",
        "X = []\n",
        "y = []\n",
        "for i in range(len(bitcoin_scaled) - window_size):   # 위에서 정의내린 bitcoin_scaled의 길이- window_size 만큼 범위로 잡았다.\n",
        "    X.append(bitcoin_scaled[i:i+window_size])        # append() : 괄호( )안에 값을 입력하면 새로운 요소를 array 맨 끝에 객체로 추가한다. bitcoin_scaled_b 에서 i부터 i+ window_size 까지 추가를 한다.\n",
        "    y.append(bitcoin_scaled[i+window_size])          # append() : 괄호( )안에 값을 입력하면 새로운 요소를 array 맨 끝에 객체로 추가한다. bitcoin_scaled_b 에서 i+ window_size 까지 추가를 한다.\n",
        "\n",
        "X = np.array(X)  # 넘파이의 array 함수에 X값을 입력값으로 갖고, X라는 변수로 지칭한다.\n",
        "y = np.array(y)"
      ],
      "metadata": {
        "id": "H8ox5HIPRAqT"
      },
      "execution_count": null,
      "outputs": []
    },
    {
      "cell_type": "code",
      "source": [
        "X"
      ],
      "metadata": {
        "colab": {
          "base_uri": "https://localhost:8080/"
        },
        "id": "9FfauBzIai8D",
        "outputId": "d69dd741-a0ed-4533-b113-279da166b893"
      },
      "execution_count": null,
      "outputs": [
        {
          "output_type": "execute_result",
          "data": {
            "text/plain": [
              "array([[[0.        ],\n",
              "        [0.07598477],\n",
              "        [0.09531119],\n",
              "        ...,\n",
              "        [0.23092594],\n",
              "        [0.28097966],\n",
              "        [0.22299625]],\n",
              "\n",
              "       [[0.07598477],\n",
              "        [0.09531119],\n",
              "        [0.07248227],\n",
              "        ...,\n",
              "        [0.28097966],\n",
              "        [0.22299625],\n",
              "        [0.20483632]],\n",
              "\n",
              "       [[0.09531119],\n",
              "        [0.07248227],\n",
              "        [0.12894768],\n",
              "        ...,\n",
              "        [0.22299625],\n",
              "        [0.20483632],\n",
              "        [0.1938871 ]],\n",
              "\n",
              "       ...,\n",
              "\n",
              "       [[0.58090763],\n",
              "        [0.5794356 ],\n",
              "        [0.55337159],\n",
              "        ...,\n",
              "        [0.58662313],\n",
              "        [0.63881031],\n",
              "        [0.63419308]],\n",
              "\n",
              "       [[0.5794356 ],\n",
              "        [0.55337159],\n",
              "        [0.52706752],\n",
              "        ...,\n",
              "        [0.63881031],\n",
              "        [0.63419308],\n",
              "        [0.63205015]],\n",
              "\n",
              "       [[0.55337159],\n",
              "        [0.52706752],\n",
              "        [0.52252512],\n",
              "        ...,\n",
              "        [0.63419308],\n",
              "        [0.63205015],\n",
              "        [0.58460791]]])"
            ]
          },
          "metadata": {},
          "execution_count": 30
        }
      ]
    },
    {
      "cell_type": "code",
      "source": [
        "y"
      ],
      "metadata": {
        "colab": {
          "base_uri": "https://localhost:8080/"
        },
        "id": "3Q-bamqUak5N",
        "outputId": "c7a64469-c325-4efc-b88d-a8b7f2e45eca"
      },
      "execution_count": null,
      "outputs": [
        {
          "output_type": "execute_result",
          "data": {
            "text/plain": [
              "array([[0.20483632],\n",
              "       [0.1938871 ],\n",
              "       [0.21737461],\n",
              "       [0.19997983],\n",
              "       [0.18093385],\n",
              "       [0.05124242],\n",
              "       [0.11685171],\n",
              "       [0.09048754],\n",
              "       [0.09677102],\n",
              "       [0.09655373],\n",
              "       [0.1017778 ],\n",
              "       [0.04681787],\n",
              "       [0.13633725],\n",
              "       [0.16492864],\n",
              "       [0.16359692],\n",
              "       [0.13077062],\n",
              "       [0.14189026],\n",
              "       [0.19505429],\n",
              "       [0.25008621],\n",
              "       [0.24075555],\n",
              "       [0.27310009],\n",
              "       [0.30497161],\n",
              "       [0.29484997],\n",
              "       [0.501456  ],\n",
              "       [0.50200213],\n",
              "       [0.45323712],\n",
              "       [0.53285185],\n",
              "       [0.52290836],\n",
              "       [0.51169772],\n",
              "       [0.55694894],\n",
              "       [0.53278016],\n",
              "       [0.57436009],\n",
              "       [0.65557731],\n",
              "       [0.64384149],\n",
              "       [0.76062797],\n",
              "       [0.76657123],\n",
              "       [0.80653991],\n",
              "       [0.72249076],\n",
              "       [0.56725024],\n",
              "       [0.58838546],\n",
              "       [0.52960263],\n",
              "       [0.51434864],\n",
              "       [0.51002212],\n",
              "       [0.47999509],\n",
              "       [0.58026837],\n",
              "       [0.57321028],\n",
              "       [0.63881397],\n",
              "       [0.58912489],\n",
              "       [0.59251097],\n",
              "       [0.59208299],\n",
              "       [0.65774312],\n",
              "       [0.70395482],\n",
              "       [0.77233522],\n",
              "       [0.80801225],\n",
              "       [0.84965196],\n",
              "       [0.84560363],\n",
              "       [0.95859182],\n",
              "       [0.90221171],\n",
              "       [0.79861204],\n",
              "       [0.8219994 ],\n",
              "       [0.86837633],\n",
              "       [0.84543606],\n",
              "       [0.86448753],\n",
              "       [0.86353976],\n",
              "       [0.84088167],\n",
              "       [0.75011354],\n",
              "       [0.76599856],\n",
              "       [0.71254341],\n",
              "       [0.68133119],\n",
              "       [0.77164277],\n",
              "       [0.79564041],\n",
              "       [0.79498406],\n",
              "       [0.85203801],\n",
              "       [0.88666386],\n",
              "       [0.87903148],\n",
              "       [0.88539397],\n",
              "       [0.89477059],\n",
              "       [0.84363773],\n",
              "       [0.87680751],\n",
              "       [0.87828707],\n",
              "       [0.84383235],\n",
              "       [0.78341256],\n",
              "       [0.84512441],\n",
              "       [0.84922073],\n",
              "       [0.89315823],\n",
              "       [0.90804719],\n",
              "       [0.9027795 ],\n",
              "       [1.        ],\n",
              "       [0.98035237],\n",
              "       [0.98652157],\n",
              "       [0.93704784],\n",
              "       [0.91182972],\n",
              "       [0.78501475],\n",
              "       [0.76923619],\n",
              "       [0.79296244],\n",
              "       [0.71913397],\n",
              "       [0.66245502],\n",
              "       [0.63756797],\n",
              "       [0.60807366],\n",
              "       [0.57840709],\n",
              "       [0.71390705],\n",
              "       [0.74653264],\n",
              "       [0.73577183],\n",
              "       [0.6971976 ],\n",
              "       [0.83018614],\n",
              "       [0.83239872],\n",
              "       [0.7983857 ],\n",
              "       [0.8185459 ],\n",
              "       [0.7158032 ],\n",
              "       [0.83146987],\n",
              "       [0.79552358],\n",
              "       [0.81201361],\n",
              "       [0.8529627 ],\n",
              "       [0.83679724],\n",
              "       [0.77474069],\n",
              "       [0.80259743],\n",
              "       [0.60437928],\n",
              "       [0.61327119],\n",
              "       [0.61773814],\n",
              "       [0.52837941],\n",
              "       [0.51963626],\n",
              "       [0.44710392],\n",
              "       [0.41982645],\n",
              "       [0.25337448],\n",
              "       [0.35874604],\n",
              "       [0.25876449],\n",
              "       [0.26541392],\n",
              "       [0.18611521],\n",
              "       [0.29441285],\n",
              "       [0.28496993],\n",
              "       [0.30454434],\n",
              "       [0.28195305],\n",
              "       [0.20004175],\n",
              "       [0.16941867],\n",
              "       [0.19949176],\n",
              "       [0.24077203],\n",
              "       [0.22273849],\n",
              "       [0.25036594],\n",
              "       [0.30187074],\n",
              "       [0.23095533],\n",
              "       [0.19305291],\n",
              "       [0.2018173 ],\n",
              "       [0.13652638],\n",
              "       [0.14037796],\n",
              "       [0.25006811],\n",
              "       [0.22724672],\n",
              "       [0.24894891],\n",
              "       [0.19837377],\n",
              "       [0.29900222],\n",
              "       [0.33163126],\n",
              "       [0.3370111 ],\n",
              "       [0.29367932],\n",
              "       [0.28676165],\n",
              "       [0.22204777],\n",
              "       [0.2171022 ],\n",
              "       [0.21948032],\n",
              "       [0.10027475],\n",
              "       [0.12590945],\n",
              "       [0.16105429],\n",
              "       [0.18654725],\n",
              "       [0.09593154],\n",
              "       [0.11164981],\n",
              "       [0.18225265],\n",
              "       [0.17842751],\n",
              "       [0.22095459],\n",
              "       [0.19636679],\n",
              "       [0.1574078 ],\n",
              "       [0.16363953],\n",
              "       [0.18581596],\n",
              "       [0.20361472],\n",
              "       [0.15915295],\n",
              "       [0.17891273],\n",
              "       [0.17169226],\n",
              "       [0.14812636],\n",
              "       [0.17328489],\n",
              "       [0.16520603],\n",
              "       [0.18606722],\n",
              "       [0.15188388],\n",
              "       [0.14502447],\n",
              "       [0.14412683],\n",
              "       [0.11117007],\n",
              "       [0.10185162],\n",
              "       [0.10509067],\n",
              "       [0.11277104],\n",
              "       [0.09097093],\n",
              "       [0.05950319],\n",
              "       [0.12766111],\n",
              "       [0.13465494],\n",
              "       [0.17279621],\n",
              "       [0.19361632],\n",
              "       [0.22459508],\n",
              "       [0.28321563],\n",
              "       [0.34574957],\n",
              "       [0.35891676],\n",
              "       [0.35134925],\n",
              "       [0.42604354],\n",
              "       [0.40820024],\n",
              "       [0.35984562],\n",
              "       [0.33578941],\n",
              "       [0.30324791],\n",
              "       [0.34625625],\n",
              "       [0.3769926 ],\n",
              "       [0.43651384],\n",
              "       [0.4874295 ],\n",
              "       [0.46510939],\n",
              "       [0.54104399],\n",
              "       [0.52592229],\n",
              "       [0.52660111],\n",
              "       [0.50275121],\n",
              "       [0.60148412],\n",
              "       [0.58090763],\n",
              "       [0.5794356 ],\n",
              "       [0.55337159],\n",
              "       [0.52706752],\n",
              "       [0.52252512],\n",
              "       [0.58633506],\n",
              "       [0.66308961],\n",
              "       [0.65033393],\n",
              "       [0.66276738],\n",
              "       [0.66112158],\n",
              "       [0.60144233],\n",
              "       [0.63840623],\n",
              "       [0.58662313],\n",
              "       [0.63881031],\n",
              "       [0.63419308],\n",
              "       [0.63205015],\n",
              "       [0.58460791],\n",
              "       [0.57941008]])"
            ]
          },
          "metadata": {},
          "execution_count": 31
        }
      ]
    },
    {
      "cell_type": "markdown",
      "source": [
        "## 4. 모델생성"
      ],
      "metadata": {
        "id": "kUkviOBaW42r"
      }
    },
    {
      "cell_type": "code",
      "source": [
        "# 모델 생성\n",
        "model = Sequential()   # 모델의 객체생성\n",
        "model.add(GRU(64, input_shape=(window_size, 1)))   # 64: 레이어의 출력차원, input_shape=입력 데이터의 형태를 정의를 의미한다.\n",
        "                                                   # window_size: 이전 데이터의 갯수만큼 비트코인 가격을 입력으로 받아들이고, 각각의 데이터가 1차원인것을 의미한다\n",
        "\n",
        "model.add(Dense(1))      # Dense 는 완전 연결 레이어(층)를 의미한다. 1은 출력의 차원을 의미\n",
        "\n",
        "model.compile(loss='mean_squared_error', optimizer='adam')   # compile() 함수를 이용하여 모델을 컴파일합니다\n",
        "                                                           # loss는 손실 함수를 의미한다.\n",
        "                                                   # mean_squared_error(MSE) 는 전체 에러를 표현하기 위해서 사용하는 식이고 오차의 제곱에 대해 평균을 취한 것이다.(수치가 작을 수록 원본과의 오차가 적은 것이다)\n",
        "                                                   # optimizer는  최적화 알고리즘을 정의하는 부분이다. adam(아담) 은 모멘텀+ AdaGrad(아다그라드) 을 합친 것이다\n",
        "                                                  # 모멘텀 : 기울기 방향으로 힘을 받아 물체가 가속된다는 물리법칙을 적용한것이다.\n",
        "                                                  # AdaGrad : 학습을 진행하면서 학습률을 점차 줄여가는 방법이다."
      ],
      "metadata": {
        "id": "2yG39ZSsRPIv"
      },
      "execution_count": null,
      "outputs": []
    },
    {
      "cell_type": "code",
      "source": [
        "model"
      ],
      "metadata": {
        "colab": {
          "base_uri": "https://localhost:8080/"
        },
        "id": "F1xRvgbMaoP0",
        "outputId": "89af221a-1cb5-4175-858f-d19e32201f9c"
      },
      "execution_count": null,
      "outputs": [
        {
          "output_type": "execute_result",
          "data": {
            "text/plain": [
              "<keras.engine.sequential.Sequential at 0x7fd80981ea40>"
            ]
          },
          "metadata": {},
          "execution_count": 32
        }
      ]
    },
    {
      "cell_type": "markdown",
      "source": [
        "## 5. 애니메이션 설정 및 저장"
      ],
      "metadata": {
        "id": "bacxlyiPW63v"
      }
    },
    {
      "cell_type": "code",
      "source": [
        "# 애니메이션 설정\n",
        "fig, ax = plt.subplots(figsize=(10, 6))  #  plt.figure 메소드에 figsize 옵션을 설정한다, figsize=(가로길이, 세로길이)\n",
        "                                          # fig : 데이터가 담기는 프레임 (크기, 모양을 변형할수 있지만 실제로 프레임 위에 글씨를 쓸수없다)\n",
        "                                          # ax : 실제 데이터가 그려지는 캔버스 ,모든 plot은 이 ax 위애서 이루어져야 하는 것이다.\n",
        "\n",
        "line_actual, = ax.plot([], [], label='Actual')  # ax는 그래프를 그릴 축(Axes) 객체를 나타냅니다.\n",
        "                                                  # 쉼표(,)는 Python의 언패킹 기능을 나타냅니다. 이를 통해 ax.plot([], []) 함수의 반환값을 여러 변수에 동시에 할당할 수 있다.\n",
        "                                                  # 언패킹 : 여러개의 객체를 포함하고 있는 하나의 객체를 풀어준다.    <---->  패킹 : 여러개의 객체를 하나의 객체로 합쳐준다.\n",
        "                                                  # [ ] : 실제 데이터가 입력되기 전에 그래프를 초기화하는 용도이다.\n",
        "\n",
        "line_forecast, = ax.plot([], [], label='Forecast')\n",
        "line_vertical = ax.axvline(0, color='red', linestyle='--')  # axvline() : 세로선을 그릴수있다. axvline(x좌표=0 , color= 빨간색, linestyle= --)\n",
        "\n",
        "\n",
        "\n",
        "\n",
        "def init():\n",
        "    ax.set_xlabel('Date')  # 그래프 x축을 Date 로 지정\n",
        "    ax.set_ylabel('Value')  # 그래프 y축을 Value로 지정\n",
        "    ax.legend()  # 그래프의 범례출력\n",
        "    return line_actual, line_forecast, line_vertical\n",
        "\n",
        "def update(frame):\n",
        "    start_idx = frame\n",
        "    end_idx = frame + window_size\n",
        "\n",
        "    ax.set_xlim(bitcoin_df['ds'][0], bitcoin_df['ds'][len(bitcoin_df) - 1])  # ax 객체에 x 축의 범위를 설정, (ds 열에서 첫 번째 행의 값, ds 열에서 마지막 행의 값)을 가져오는 것을 말한다.\n",
        "\n",
        "    line_vertical.set_xdata(bitcoin_df['ds'][end_idx])  #line_vertical의 x 데이터를 변경한다. bitcoin_df의 y 열에서 end_idx에 해당하는 행의 값을 가져오는것이다.\n",
        "                                                        # 따라서 line_vertical의 x 데이터를 bitcoin_df['y'][end_idx]로 변경하는 것이다.\n",
        "    line_vertical.set_visible(True)  # 세로선을 표시하도록 설정\n",
        "\n",
        "    current_data = bitcoin_df.iloc[start_idx:end_idx]  # bitcoin_df에서 특정 범위의 행을 추출하여 current_data라는 새로운 데이터프레임을 생성한다.\n",
        "                                                        # iloc : 행과 열을 정수 인덱스를 사용하여 선택하기 위한 메서드이다.\n",
        "                                                        # iloc[start_idx:end_idx] : start_idx부터 end_idx 이전까지의 행을 선택하는 것을 의미합니다.\n",
        "\n",
        "    current_scaled = bitcoin_scaled[start_idx:end_idx] # bitcoin_scaled 배열에서 start_idx부터 end_idx 이전까지의 값들을 추출하여 current_scaled라는 새로운 배열을 생성한다.\n",
        "\n",
        "    # 모델 학습\n",
        "    model.fit(np.expand_dims(current_scaled, axis=0), np.expand_dims(y[frame], axis=0), epochs=1, batch_size=1)\n",
        "             # np.expand_dims(current_sclaed, axis=0) : 입력 데이터인 current_scaled의 차원을 확장하여 모델에 맞는 형태로 변환하는 역할을 하고, axis=0은 새로운 차원을 첫 번째 축에 추가한다.\n",
        "             # np.expand_dims(y[frame], axis=0) :  y[frame]의 차원을 확장하여 모델에 맞는 형태로 변환하고, axis=0은 새로운 차원을 첫번째 축에 추가한다.\n",
        "             # epochs=1 : 반복횟수가 1번이다.\n",
        "             # batch_size : 한 번의 반복마다 사용할 샘플의 개수를 지정하는 매개변수 ,학습을 수행할 때, 몇 개의 데이터를 한 번에 처리할지를 지정한다\n",
        "\n",
        "\n",
        "    # 예측\n",
        "    future = np.array([current_scaled[-window_size:]])  # current_scaled에서 마지막 window_size 개의 값을 추출하여 future라는 새로운 배열을 생성한다\n",
        "    predicted = model.predict(future)  # 입력 데이터 future에 대한 모델의 예측 값을 계산하여 predicted 변수에 할당한다.\n",
        "    predicted = scaler.inverse_transform(predicted)  #  예측된 값을 원래의 스케일로 변환하여 predicted 변수에 할당한다\n",
        "                                                    # scaler.inverse_transform() : 스케일된 데이터를 원래의 스케일로 되돌리는 역변환을 수행하는 메서드이다\n",
        "\n",
        "    line_actual.set_data(bitcoin_df['ds'][:end_idx], bitcoin_df['y'][:end_idx])  # line_actual의 데이터를 bitcoin_df의 ds와 y열에서 선택한 데이터로 설정하여 그래프의 선을 새로운 데이터로 업데이트하는 것이다\n",
        "    line_forecast.set_data(bitcoin_df['ds'][end_idx], predicted[0][0])  # line_forecast의 데이터를 bitcoin_df의 ds열에서 선택한 데이터와 predicted의 예측값으로 설정하여 그래프의 예측 선을 새로운 데이터로 업데이트 하는 것이다\n",
        "\n",
        "\n",
        "    ax.relim()  # 그래프의 데이터 제한을 재계산하여 그래프를 새로 그리지 않고도 최신의 데이터에 맞게 업데이트하는 역할을 한다\n",
        "    ax.autoscale_view()   # 그래프의 축 범위가 데이터에 따라 자동으로 조정\n",
        "\n",
        "    return line_actual, line_forecast, line_vertical\n",
        "\n",
        "def update_vertical(frame):  # line_vertical을 업데이트하는 함수\n",
        "    start_idx = frame\n",
        "    end_idx = frame + window_size\n",
        "\n",
        "    line_vertical.set_xdata(bitcoin_df['ds'][end_idx])\n",
        "    line_vertical.set_visible(True)\n",
        "\n",
        "    return line_vertical,\n",
        "\n",
        "ani = FuncAnimation(fig, update, frames=range(len(bitcoin_df) - window_size),\n",
        "                    init_func=init, blit=True)\n",
        "\n",
        "# 애니메이션 저장\n",
        "ani.save('bitcoin_animation_b.mp4', writer='ffmpeg')\n",
        "\n",
        "# 애니메이션 표시\n",
        "plt.show()"
      ],
      "metadata": {
        "colab": {
          "base_uri": "https://localhost:8080/",
          "height": 1000
        },
        "id": "XRusqcbURpnT",
        "outputId": "030d40fc-b241-42f5-becc-a5891a6a6494"
      },
      "execution_count": null,
      "outputs": [
        {
          "output_type": "stream",
          "name": "stderr",
          "text": [
            "<ipython-input-12-62fb44db4d1e>:29: MatplotlibDeprecationWarning: Setting data with a non sequence type is deprecated since 3.7 and will be remove two minor releases later\n",
            "  line_vertical.set_xdata(bitcoin_df['ds'][end_idx])  #line_vertical의 x 데이터를 변경한다. bitcoin_df의 y 열에서 end_idx에 해당하는 행의 값을 가져오는것이다.\n"
          ]
        },
        {
          "output_type": "stream",
          "name": "stdout",
          "text": [
            "1/1 [==============================] - 2s 2s/step - loss: 0.5419\n",
            "1/1 [==============================] - 0s 394ms/step\n"
          ]
        },
        {
          "output_type": "stream",
          "name": "stderr",
          "text": [
            "<ipython-input-12-62fb44db4d1e>:54: MatplotlibDeprecationWarning: Setting data with a non sequence type is deprecated since 3.7 and will be remove two minor releases later\n",
            "  line_forecast.set_data(bitcoin_df['ds'][end_idx], predicted[0][0])  # line_forecast의 데이터를 bitcoin_df의 ds열에서 선택한 데이터와 predicted의 예측값으로 설정하여 그래프의 예측 선을 새로운 데이터로 업데이트 하는 것이다\n",
            "<ipython-input-12-62fb44db4d1e>:29: MatplotlibDeprecationWarning: Setting data with a non sequence type is deprecated since 3.7 and will be remove two minor releases later\n",
            "  line_vertical.set_xdata(bitcoin_df['ds'][end_idx])  #line_vertical의 x 데이터를 변경한다. bitcoin_df의 y 열에서 end_idx에 해당하는 행의 값을 가져오는것이다.\n"
          ]
        },
        {
          "output_type": "stream",
          "name": "stdout",
          "text": [
            "1/1 [==============================] - 0s 10ms/step - loss: 0.4210\n",
            "1/1 [==============================] - 0s 23ms/step\n"
          ]
        },
        {
          "output_type": "stream",
          "name": "stderr",
          "text": [
            "<ipython-input-12-62fb44db4d1e>:54: MatplotlibDeprecationWarning: Setting data with a non sequence type is deprecated since 3.7 and will be remove two minor releases later\n",
            "  line_forecast.set_data(bitcoin_df['ds'][end_idx], predicted[0][0])  # line_forecast의 데이터를 bitcoin_df의 ds열에서 선택한 데이터와 predicted의 예측값으로 설정하여 그래프의 예측 선을 새로운 데이터로 업데이트 하는 것이다\n",
            "<ipython-input-12-62fb44db4d1e>:29: MatplotlibDeprecationWarning: Setting data with a non sequence type is deprecated since 3.7 and will be remove two minor releases later\n",
            "  line_vertical.set_xdata(bitcoin_df['ds'][end_idx])  #line_vertical의 x 데이터를 변경한다. bitcoin_df의 y 열에서 end_idx에 해당하는 행의 값을 가져오는것이다.\n"
          ]
        },
        {
          "output_type": "stream",
          "name": "stdout",
          "text": [
            "1/1 [==============================] - 0s 15ms/step - loss: 0.3611\n",
            "1/1 [==============================] - 0s 25ms/step\n"
          ]
        },
        {
          "output_type": "stream",
          "name": "stderr",
          "text": [
            "<ipython-input-12-62fb44db4d1e>:54: MatplotlibDeprecationWarning: Setting data with a non sequence type is deprecated since 3.7 and will be remove two minor releases later\n",
            "  line_forecast.set_data(bitcoin_df['ds'][end_idx], predicted[0][0])  # line_forecast의 데이터를 bitcoin_df의 ds열에서 선택한 데이터와 predicted의 예측값으로 설정하여 그래프의 예측 선을 새로운 데이터로 업데이트 하는 것이다\n",
            "<ipython-input-12-62fb44db4d1e>:29: MatplotlibDeprecationWarning: Setting data with a non sequence type is deprecated since 3.7 and will be remove two minor releases later\n",
            "  line_vertical.set_xdata(bitcoin_df['ds'][end_idx])  #line_vertical의 x 데이터를 변경한다. bitcoin_df의 y 열에서 end_idx에 해당하는 행의 값을 가져오는것이다.\n"
          ]
        },
        {
          "output_type": "stream",
          "name": "stdout",
          "text": [
            "1/1 [==============================] - 0s 15ms/step - loss: 0.2654\n",
            "1/1 [==============================] - 0s 23ms/step\n",
            "1/1 [==============================] - 0s 12ms/step - loss: 0.1835\n"
          ]
        },
        {
          "output_type": "stream",
          "name": "stderr",
          "text": [
            "<ipython-input-12-62fb44db4d1e>:54: MatplotlibDeprecationWarning: Setting data with a non sequence type is deprecated since 3.7 and will be remove two minor releases later\n",
            "  line_forecast.set_data(bitcoin_df['ds'][end_idx], predicted[0][0])  # line_forecast의 데이터를 bitcoin_df의 ds열에서 선택한 데이터와 predicted의 예측값으로 설정하여 그래프의 예측 선을 새로운 데이터로 업데이트 하는 것이다\n",
            "<ipython-input-12-62fb44db4d1e>:29: MatplotlibDeprecationWarning: Setting data with a non sequence type is deprecated since 3.7 and will be remove two minor releases later\n",
            "  line_vertical.set_xdata(bitcoin_df['ds'][end_idx])  #line_vertical의 x 데이터를 변경한다. bitcoin_df의 y 열에서 end_idx에 해당하는 행의 값을 가져오는것이다.\n"
          ]
        },
        {
          "output_type": "stream",
          "name": "stdout",
          "text": [
            "1/1 [==============================] - 0s 31ms/step\n"
          ]
        },
        {
          "output_type": "stream",
          "name": "stderr",
          "text": [
            "<ipython-input-12-62fb44db4d1e>:54: MatplotlibDeprecationWarning: Setting data with a non sequence type is deprecated since 3.7 and will be remove two minor releases later\n",
            "  line_forecast.set_data(bitcoin_df['ds'][end_idx], predicted[0][0])  # line_forecast의 데이터를 bitcoin_df의 ds열에서 선택한 데이터와 predicted의 예측값으로 설정하여 그래프의 예측 선을 새로운 데이터로 업데이트 하는 것이다\n",
            "<ipython-input-12-62fb44db4d1e>:29: MatplotlibDeprecationWarning: Setting data with a non sequence type is deprecated since 3.7 and will be remove two minor releases later\n",
            "  line_vertical.set_xdata(bitcoin_df['ds'][end_idx])  #line_vertical의 x 데이터를 변경한다. bitcoin_df의 y 열에서 end_idx에 해당하는 행의 값을 가져오는것이다.\n"
          ]
        },
        {
          "output_type": "stream",
          "name": "stdout",
          "text": [
            "1/1 [==============================] - 0s 12ms/step - loss: 0.0510\n",
            "1/1 [==============================] - 0s 36ms/step\n"
          ]
        },
        {
          "output_type": "stream",
          "name": "stderr",
          "text": [
            "<ipython-input-12-62fb44db4d1e>:54: MatplotlibDeprecationWarning: Setting data with a non sequence type is deprecated since 3.7 and will be remove two minor releases later\n",
            "  line_forecast.set_data(bitcoin_df['ds'][end_idx], predicted[0][0])  # line_forecast의 데이터를 bitcoin_df의 ds열에서 선택한 데이터와 predicted의 예측값으로 설정하여 그래프의 예측 선을 새로운 데이터로 업데이트 하는 것이다\n",
            "<ipython-input-12-62fb44db4d1e>:29: MatplotlibDeprecationWarning: Setting data with a non sequence type is deprecated since 3.7 and will be remove two minor releases later\n",
            "  line_vertical.set_xdata(bitcoin_df['ds'][end_idx])  #line_vertical의 x 데이터를 변경한다. bitcoin_df의 y 열에서 end_idx에 해당하는 행의 값을 가져오는것이다.\n"
          ]
        },
        {
          "output_type": "stream",
          "name": "stdout",
          "text": [
            "1/1 [==============================] - 0s 14ms/step - loss: 0.0204\n",
            "1/1 [==============================] - 0s 40ms/step\n"
          ]
        },
        {
          "output_type": "stream",
          "name": "stderr",
          "text": [
            "<ipython-input-12-62fb44db4d1e>:54: MatplotlibDeprecationWarning: Setting data with a non sequence type is deprecated since 3.7 and will be remove two minor releases later\n",
            "  line_forecast.set_data(bitcoin_df['ds'][end_idx], predicted[0][0])  # line_forecast의 데이터를 bitcoin_df의 ds열에서 선택한 데이터와 predicted의 예측값으로 설정하여 그래프의 예측 선을 새로운 데이터로 업데이트 하는 것이다\n",
            "<ipython-input-12-62fb44db4d1e>:29: MatplotlibDeprecationWarning: Setting data with a non sequence type is deprecated since 3.7 and will be remove two minor releases later\n",
            "  line_vertical.set_xdata(bitcoin_df['ds'][end_idx])  #line_vertical의 x 데이터를 변경한다. bitcoin_df의 y 열에서 end_idx에 해당하는 행의 값을 가져오는것이다.\n"
          ]
        },
        {
          "output_type": "stream",
          "name": "stdout",
          "text": [
            "1/1 [==============================] - 0s 13ms/step - loss: 0.0264\n",
            "1/1 [==============================] - 0s 34ms/step\n"
          ]
        },
        {
          "output_type": "stream",
          "name": "stderr",
          "text": [
            "<ipython-input-12-62fb44db4d1e>:54: MatplotlibDeprecationWarning: Setting data with a non sequence type is deprecated since 3.7 and will be remove two minor releases later\n",
            "  line_forecast.set_data(bitcoin_df['ds'][end_idx], predicted[0][0])  # line_forecast의 데이터를 bitcoin_df의 ds열에서 선택한 데이터와 predicted의 예측값으로 설정하여 그래프의 예측 선을 새로운 데이터로 업데이트 하는 것이다\n"
          ]
        },
        {
          "output_type": "stream",
          "name": "stdout",
          "text": [
            "1/1 [==============================] - 0s 13ms/step - loss: 0.0220\n"
          ]
        },
        {
          "output_type": "stream",
          "name": "stderr",
          "text": [
            "<ipython-input-12-62fb44db4d1e>:29: MatplotlibDeprecationWarning: Setting data with a non sequence type is deprecated since 3.7 and will be remove two minor releases later\n",
            "  line_vertical.set_xdata(bitcoin_df['ds'][end_idx])  #line_vertical의 x 데이터를 변경한다. bitcoin_df의 y 열에서 end_idx에 해당하는 행의 값을 가져오는것이다.\n"
          ]
        },
        {
          "output_type": "stream",
          "name": "stdout",
          "text": [
            "1/1 [==============================] - 0s 38ms/step\n"
          ]
        },
        {
          "output_type": "stream",
          "name": "stderr",
          "text": [
            "<ipython-input-12-62fb44db4d1e>:54: MatplotlibDeprecationWarning: Setting data with a non sequence type is deprecated since 3.7 and will be remove two minor releases later\n",
            "  line_forecast.set_data(bitcoin_df['ds'][end_idx], predicted[0][0])  # line_forecast의 데이터를 bitcoin_df의 ds열에서 선택한 데이터와 predicted의 예측값으로 설정하여 그래프의 예측 선을 새로운 데이터로 업데이트 하는 것이다\n",
            "<ipython-input-12-62fb44db4d1e>:29: MatplotlibDeprecationWarning: Setting data with a non sequence type is deprecated since 3.7 and will be remove two minor releases later\n",
            "  line_vertical.set_xdata(bitcoin_df['ds'][end_idx])  #line_vertical의 x 데이터를 변경한다. bitcoin_df의 y 열에서 end_idx에 해당하는 행의 값을 가져오는것이다.\n"
          ]
        },
        {
          "output_type": "stream",
          "name": "stdout",
          "text": [
            "1/1 [==============================] - 0s 16ms/step - loss: 0.0157\n",
            "1/1 [==============================] - 0s 42ms/step\n"
          ]
        },
        {
          "output_type": "stream",
          "name": "stderr",
          "text": [
            "<ipython-input-12-62fb44db4d1e>:54: MatplotlibDeprecationWarning: Setting data with a non sequence type is deprecated since 3.7 and will be remove two minor releases later\n",
            "  line_forecast.set_data(bitcoin_df['ds'][end_idx], predicted[0][0])  # line_forecast의 데이터를 bitcoin_df의 ds열에서 선택한 데이터와 predicted의 예측값으로 설정하여 그래프의 예측 선을 새로운 데이터로 업데이트 하는 것이다\n"
          ]
        },
        {
          "output_type": "stream",
          "name": "stdout",
          "text": [
            "1/1 [==============================] - 0s 19ms/step - loss: 0.0081\n"
          ]
        },
        {
          "output_type": "stream",
          "name": "stderr",
          "text": [
            "<ipython-input-12-62fb44db4d1e>:29: MatplotlibDeprecationWarning: Setting data with a non sequence type is deprecated since 3.7 and will be remove two minor releases later\n",
            "  line_vertical.set_xdata(bitcoin_df['ds'][end_idx])  #line_vertical의 x 데이터를 변경한다. bitcoin_df의 y 열에서 end_idx에 해당하는 행의 값을 가져오는것이다.\n"
          ]
        },
        {
          "output_type": "stream",
          "name": "stdout",
          "text": [
            "1/1 [==============================] - 0s 43ms/step\n"
          ]
        },
        {
          "output_type": "stream",
          "name": "stderr",
          "text": [
            "<ipython-input-12-62fb44db4d1e>:54: MatplotlibDeprecationWarning: Setting data with a non sequence type is deprecated since 3.7 and will be remove two minor releases later\n",
            "  line_forecast.set_data(bitcoin_df['ds'][end_idx], predicted[0][0])  # line_forecast의 데이터를 bitcoin_df의 ds열에서 선택한 데이터와 predicted의 예측값으로 설정하여 그래프의 예측 선을 새로운 데이터로 업데이트 하는 것이다\n"
          ]
        },
        {
          "output_type": "stream",
          "name": "stdout",
          "text": [
            "1/1 [==============================] - 0s 14ms/step - loss: 0.0045\n",
            "1/1 [==============================] - 0s 35ms/step\n"
          ]
        },
        {
          "output_type": "stream",
          "name": "stderr",
          "text": [
            "<ipython-input-12-62fb44db4d1e>:29: MatplotlibDeprecationWarning: Setting data with a non sequence type is deprecated since 3.7 and will be remove two minor releases later\n",
            "  line_vertical.set_xdata(bitcoin_df['ds'][end_idx])  #line_vertical의 x 데이터를 변경한다. bitcoin_df의 y 열에서 end_idx에 해당하는 행의 값을 가져오는것이다.\n",
            "<ipython-input-12-62fb44db4d1e>:54: MatplotlibDeprecationWarning: Setting data with a non sequence type is deprecated since 3.7 and will be remove two minor releases later\n",
            "  line_forecast.set_data(bitcoin_df['ds'][end_idx], predicted[0][0])  # line_forecast의 데이터를 bitcoin_df의 ds열에서 선택한 데이터와 predicted의 예측값으로 설정하여 그래프의 예측 선을 새로운 데이터로 업데이트 하는 것이다\n"
          ]
        },
        {
          "output_type": "stream",
          "name": "stdout",
          "text": [
            "1/1 [==============================] - 0s 17ms/step - loss: 0.0035\n"
          ]
        },
        {
          "output_type": "stream",
          "name": "stderr",
          "text": [
            "<ipython-input-12-62fb44db4d1e>:29: MatplotlibDeprecationWarning: Setting data with a non sequence type is deprecated since 3.7 and will be remove two minor releases later\n",
            "  line_vertical.set_xdata(bitcoin_df['ds'][end_idx])  #line_vertical의 x 데이터를 변경한다. bitcoin_df의 y 열에서 end_idx에 해당하는 행의 값을 가져오는것이다.\n"
          ]
        },
        {
          "output_type": "stream",
          "name": "stdout",
          "text": [
            "1/1 [==============================] - 0s 46ms/step\n"
          ]
        },
        {
          "output_type": "stream",
          "name": "stderr",
          "text": [
            "<ipython-input-12-62fb44db4d1e>:54: MatplotlibDeprecationWarning: Setting data with a non sequence type is deprecated since 3.7 and will be remove two minor releases later\n",
            "  line_forecast.set_data(bitcoin_df['ds'][end_idx], predicted[0][0])  # line_forecast의 데이터를 bitcoin_df의 ds열에서 선택한 데이터와 predicted의 예측값으로 설정하여 그래프의 예측 선을 새로운 데이터로 업데이트 하는 것이다\n"
          ]
        },
        {
          "output_type": "stream",
          "name": "stdout",
          "text": [
            "1/1 [==============================] - 0s 12ms/step - loss: 8.8399e-04\n"
          ]
        },
        {
          "output_type": "stream",
          "name": "stderr",
          "text": [
            "<ipython-input-12-62fb44db4d1e>:29: MatplotlibDeprecationWarning: Setting data with a non sequence type is deprecated since 3.7 and will be remove two minor releases later\n",
            "  line_vertical.set_xdata(bitcoin_df['ds'][end_idx])  #line_vertical의 x 데이터를 변경한다. bitcoin_df의 y 열에서 end_idx에 해당하는 행의 값을 가져오는것이다.\n"
          ]
        },
        {
          "output_type": "stream",
          "name": "stdout",
          "text": [
            "1/1 [==============================] - 0s 52ms/step\n"
          ]
        },
        {
          "output_type": "stream",
          "name": "stderr",
          "text": [
            "<ipython-input-12-62fb44db4d1e>:54: MatplotlibDeprecationWarning: Setting data with a non sequence type is deprecated since 3.7 and will be remove two minor releases later\n",
            "  line_forecast.set_data(bitcoin_df['ds'][end_idx], predicted[0][0])  # line_forecast의 데이터를 bitcoin_df의 ds열에서 선택한 데이터와 predicted의 예측값으로 설정하여 그래프의 예측 선을 새로운 데이터로 업데이트 하는 것이다\n"
          ]
        },
        {
          "output_type": "stream",
          "name": "stdout",
          "text": [
            "1/1 [==============================] - 0s 15ms/step - loss: 4.5961e-04\n"
          ]
        },
        {
          "output_type": "stream",
          "name": "stderr",
          "text": [
            "<ipython-input-12-62fb44db4d1e>:29: MatplotlibDeprecationWarning: Setting data with a non sequence type is deprecated since 3.7 and will be remove two minor releases later\n",
            "  line_vertical.set_xdata(bitcoin_df['ds'][end_idx])  #line_vertical의 x 데이터를 변경한다. bitcoin_df의 y 열에서 end_idx에 해당하는 행의 값을 가져오는것이다.\n"
          ]
        },
        {
          "output_type": "stream",
          "name": "stdout",
          "text": [
            "1/1 [==============================] - 0s 52ms/step\n"
          ]
        },
        {
          "output_type": "stream",
          "name": "stderr",
          "text": [
            "<ipython-input-12-62fb44db4d1e>:54: MatplotlibDeprecationWarning: Setting data with a non sequence type is deprecated since 3.7 and will be remove two minor releases later\n",
            "  line_forecast.set_data(bitcoin_df['ds'][end_idx], predicted[0][0])  # line_forecast의 데이터를 bitcoin_df의 ds열에서 선택한 데이터와 predicted의 예측값으로 설정하여 그래프의 예측 선을 새로운 데이터로 업데이트 하는 것이다\n"
          ]
        },
        {
          "output_type": "stream",
          "name": "stdout",
          "text": [
            "1/1 [==============================] - 0s 14ms/step - loss: 0.0019\n"
          ]
        },
        {
          "output_type": "stream",
          "name": "stderr",
          "text": [
            "<ipython-input-12-62fb44db4d1e>:29: MatplotlibDeprecationWarning: Setting data with a non sequence type is deprecated since 3.7 and will be remove two minor releases later\n",
            "  line_vertical.set_xdata(bitcoin_df['ds'][end_idx])  #line_vertical의 x 데이터를 변경한다. bitcoin_df의 y 열에서 end_idx에 해당하는 행의 값을 가져오는것이다.\n"
          ]
        },
        {
          "output_type": "stream",
          "name": "stdout",
          "text": [
            "1/1 [==============================] - 0s 45ms/step\n"
          ]
        },
        {
          "output_type": "stream",
          "name": "stderr",
          "text": [
            "<ipython-input-12-62fb44db4d1e>:54: MatplotlibDeprecationWarning: Setting data with a non sequence type is deprecated since 3.7 and will be remove two minor releases later\n",
            "  line_forecast.set_data(bitcoin_df['ds'][end_idx], predicted[0][0])  # line_forecast의 데이터를 bitcoin_df의 ds열에서 선택한 데이터와 predicted의 예측값으로 설정하여 그래프의 예측 선을 새로운 데이터로 업데이트 하는 것이다\n",
            "<ipython-input-12-62fb44db4d1e>:29: MatplotlibDeprecationWarning: Setting data with a non sequence type is deprecated since 3.7 and will be remove two minor releases later\n",
            "  line_vertical.set_xdata(bitcoin_df['ds'][end_idx])  #line_vertical의 x 데이터를 변경한다. bitcoin_df의 y 열에서 end_idx에 해당하는 행의 값을 가져오는것이다.\n"
          ]
        },
        {
          "output_type": "stream",
          "name": "stdout",
          "text": [
            "1/1 [==============================] - 0s 14ms/step - loss: 0.0054\n",
            "1/1 [==============================] - 0s 39ms/step\n"
          ]
        },
        {
          "output_type": "stream",
          "name": "stderr",
          "text": [
            "<ipython-input-12-62fb44db4d1e>:54: MatplotlibDeprecationWarning: Setting data with a non sequence type is deprecated since 3.7 and will be remove two minor releases later\n",
            "  line_forecast.set_data(bitcoin_df['ds'][end_idx], predicted[0][0])  # line_forecast의 데이터를 bitcoin_df의 ds열에서 선택한 데이터와 predicted의 예측값으로 설정하여 그래프의 예측 선을 새로운 데이터로 업데이트 하는 것이다\n",
            "<ipython-input-12-62fb44db4d1e>:29: MatplotlibDeprecationWarning: Setting data with a non sequence type is deprecated since 3.7 and will be remove two minor releases later\n",
            "  line_vertical.set_xdata(bitcoin_df['ds'][end_idx])  #line_vertical의 x 데이터를 변경한다. bitcoin_df의 y 열에서 end_idx에 해당하는 행의 값을 가져오는것이다.\n"
          ]
        },
        {
          "output_type": "stream",
          "name": "stdout",
          "text": [
            "1/1 [==============================] - 0s 17ms/step - loss: 0.0293\n",
            "1/1 [==============================] - 0s 25ms/step\n"
          ]
        },
        {
          "output_type": "stream",
          "name": "stderr",
          "text": [
            "<ipython-input-12-62fb44db4d1e>:54: MatplotlibDeprecationWarning: Setting data with a non sequence type is deprecated since 3.7 and will be remove two minor releases later\n",
            "  line_forecast.set_data(bitcoin_df['ds'][end_idx], predicted[0][0])  # line_forecast의 데이터를 bitcoin_df의 ds열에서 선택한 데이터와 predicted의 예측값으로 설정하여 그래프의 예측 선을 새로운 데이터로 업데이트 하는 것이다\n",
            "<ipython-input-12-62fb44db4d1e>:29: MatplotlibDeprecationWarning: Setting data with a non sequence type is deprecated since 3.7 and will be remove two minor releases later\n",
            "  line_vertical.set_xdata(bitcoin_df['ds'][end_idx])  #line_vertical의 x 데이터를 변경한다. bitcoin_df의 y 열에서 end_idx에 해당하는 행의 값을 가져오는것이다.\n"
          ]
        },
        {
          "output_type": "stream",
          "name": "stdout",
          "text": [
            "1/1 [==============================] - 0s 14ms/step - loss: 0.0295\n",
            "1/1 [==============================] - 0s 23ms/step\n",
            "1/1 [==============================] - ETA: 0s - loss: 2.3514e-04"
          ]
        },
        {
          "output_type": "stream",
          "name": "stderr",
          "text": [
            "<ipython-input-12-62fb44db4d1e>:54: MatplotlibDeprecationWarning: Setting data with a non sequence type is deprecated since 3.7 and will be remove two minor releases later\n",
            "  line_forecast.set_data(bitcoin_df['ds'][end_idx], predicted[0][0])  # line_forecast의 데이터를 bitcoin_df의 ds열에서 선택한 데이터와 predicted의 예측값으로 설정하여 그래프의 예측 선을 새로운 데이터로 업데이트 하는 것이다\n",
            "<ipython-input-12-62fb44db4d1e>:29: MatplotlibDeprecationWarning: Setting data with a non sequence type is deprecated since 3.7 and will be remove two minor releases later\n",
            "  line_vertical.set_xdata(bitcoin_df['ds'][end_idx])  #line_vertical의 x 데이터를 변경한다. bitcoin_df의 y 열에서 end_idx에 해당하는 행의 값을 가져오는것이다.\n"
          ]
        },
        {
          "output_type": "stream",
          "name": "stdout",
          "text": [
            "1/1 [==============================] - 0s 9ms/step - loss: 2.3514e-04\n",
            "1/1 [==============================] - 0s 23ms/step\n"
          ]
        },
        {
          "output_type": "stream",
          "name": "stderr",
          "text": [
            "<ipython-input-12-62fb44db4d1e>:54: MatplotlibDeprecationWarning: Setting data with a non sequence type is deprecated since 3.7 and will be remove two minor releases later\n",
            "  line_forecast.set_data(bitcoin_df['ds'][end_idx], predicted[0][0])  # line_forecast의 데이터를 bitcoin_df의 ds열에서 선택한 데이터와 predicted의 예측값으로 설정하여 그래프의 예측 선을 새로운 데이터로 업데이트 하는 것이다\n",
            "<ipython-input-12-62fb44db4d1e>:29: MatplotlibDeprecationWarning: Setting data with a non sequence type is deprecated since 3.7 and will be remove two minor releases later\n",
            "  line_vertical.set_xdata(bitcoin_df['ds'][end_idx])  #line_vertical의 x 데이터를 변경한다. bitcoin_df의 y 열에서 end_idx에 해당하는 행의 값을 가져오는것이다.\n"
          ]
        },
        {
          "output_type": "stream",
          "name": "stdout",
          "text": [
            "1/1 [==============================] - 0s 18ms/step - loss: 0.0015\n",
            "1/1 [==============================] - 0s 36ms/step\n"
          ]
        },
        {
          "output_type": "stream",
          "name": "stderr",
          "text": [
            "<ipython-input-12-62fb44db4d1e>:54: MatplotlibDeprecationWarning: Setting data with a non sequence type is deprecated since 3.7 and will be remove two minor releases later\n",
            "  line_forecast.set_data(bitcoin_df['ds'][end_idx], predicted[0][0])  # line_forecast의 데이터를 bitcoin_df의 ds열에서 선택한 데이터와 predicted의 예측값으로 설정하여 그래프의 예측 선을 새로운 데이터로 업데이트 하는 것이다\n",
            "<ipython-input-12-62fb44db4d1e>:29: MatplotlibDeprecationWarning: Setting data with a non sequence type is deprecated since 3.7 and will be remove two minor releases later\n",
            "  line_vertical.set_xdata(bitcoin_df['ds'][end_idx])  #line_vertical의 x 데이터를 변경한다. bitcoin_df의 y 열에서 end_idx에 해당하는 행의 값을 가져오는것이다.\n"
          ]
        },
        {
          "output_type": "stream",
          "name": "stdout",
          "text": [
            "1/1 [==============================] - 0s 12ms/step - loss: 6.3389e-04\n",
            "1/1 [==============================] - 0s 26ms/step\n",
            "1/1 [==============================] - ETA: 0s - loss: 7.5502e-07"
          ]
        },
        {
          "output_type": "stream",
          "name": "stderr",
          "text": [
            "<ipython-input-12-62fb44db4d1e>:54: MatplotlibDeprecationWarning: Setting data with a non sequence type is deprecated since 3.7 and will be remove two minor releases later\n",
            "  line_forecast.set_data(bitcoin_df['ds'][end_idx], predicted[0][0])  # line_forecast의 데이터를 bitcoin_df의 ds열에서 선택한 데이터와 predicted의 예측값으로 설정하여 그래프의 예측 선을 새로운 데이터로 업데이트 하는 것이다\n",
            "<ipython-input-12-62fb44db4d1e>:29: MatplotlibDeprecationWarning: Setting data with a non sequence type is deprecated since 3.7 and will be remove two minor releases later\n",
            "  line_vertical.set_xdata(bitcoin_df['ds'][end_idx])  #line_vertical의 x 데이터를 변경한다. bitcoin_df의 y 열에서 end_idx에 해당하는 행의 값을 가져오는것이다.\n"
          ]
        },
        {
          "output_type": "stream",
          "name": "stdout",
          "text": [
            "1/1 [==============================] - 0s 14ms/step - loss: 7.5502e-07\n",
            "1/1 [==============================] - 0s 26ms/step\n"
          ]
        },
        {
          "output_type": "stream",
          "name": "stderr",
          "text": [
            "<ipython-input-12-62fb44db4d1e>:54: MatplotlibDeprecationWarning: Setting data with a non sequence type is deprecated since 3.7 and will be remove two minor releases later\n",
            "  line_forecast.set_data(bitcoin_df['ds'][end_idx], predicted[0][0])  # line_forecast의 데이터를 bitcoin_df의 ds열에서 선택한 데이터와 predicted의 예측값으로 설정하여 그래프의 예측 선을 새로운 데이터로 업데이트 하는 것이다\n",
            "<ipython-input-12-62fb44db4d1e>:29: MatplotlibDeprecationWarning: Setting data with a non sequence type is deprecated since 3.7 and will be remove two minor releases later\n",
            "  line_vertical.set_xdata(bitcoin_df['ds'][end_idx])  #line_vertical의 x 데이터를 변경한다. bitcoin_df의 y 열에서 end_idx에 해당하는 행의 값을 가져오는것이다.\n"
          ]
        },
        {
          "output_type": "stream",
          "name": "stdout",
          "text": [
            "1/1 [==============================] - 0s 17ms/step - loss: 3.1497e-04\n",
            "1/1 [==============================] - 0s 27ms/step\n"
          ]
        },
        {
          "output_type": "stream",
          "name": "stderr",
          "text": [
            "<ipython-input-12-62fb44db4d1e>:54: MatplotlibDeprecationWarning: Setting data with a non sequence type is deprecated since 3.7 and will be remove two minor releases later\n",
            "  line_forecast.set_data(bitcoin_df['ds'][end_idx], predicted[0][0])  # line_forecast의 데이터를 bitcoin_df의 ds열에서 선택한 데이터와 predicted의 예측값으로 설정하여 그래프의 예측 선을 새로운 데이터로 업데이트 하는 것이다\n",
            "<ipython-input-12-62fb44db4d1e>:29: MatplotlibDeprecationWarning: Setting data with a non sequence type is deprecated since 3.7 and will be remove two minor releases later\n",
            "  line_vertical.set_xdata(bitcoin_df['ds'][end_idx])  #line_vertical의 x 데이터를 변경한다. bitcoin_df의 y 열에서 end_idx에 해당하는 행의 값을 가져오는것이다.\n"
          ]
        },
        {
          "output_type": "stream",
          "name": "stdout",
          "text": [
            "1/1 [==============================] - 0s 19ms/step - loss: 0.0014\n",
            "1/1 [==============================] - 0s 28ms/step\n"
          ]
        },
        {
          "output_type": "stream",
          "name": "stderr",
          "text": [
            "<ipython-input-12-62fb44db4d1e>:54: MatplotlibDeprecationWarning: Setting data with a non sequence type is deprecated since 3.7 and will be remove two minor releases later\n",
            "  line_forecast.set_data(bitcoin_df['ds'][end_idx], predicted[0][0])  # line_forecast의 데이터를 bitcoin_df의 ds열에서 선택한 데이터와 predicted의 예측값으로 설정하여 그래프의 예측 선을 새로운 데이터로 업데이트 하는 것이다\n",
            "<ipython-input-12-62fb44db4d1e>:29: MatplotlibDeprecationWarning: Setting data with a non sequence type is deprecated since 3.7 and will be remove two minor releases later\n",
            "  line_vertical.set_xdata(bitcoin_df['ds'][end_idx])  #line_vertical의 x 데이터를 변경한다. bitcoin_df의 y 열에서 end_idx에 해당하는 행의 값을 가져오는것이다.\n"
          ]
        },
        {
          "output_type": "stream",
          "name": "stdout",
          "text": [
            "1/1 [==============================] - 0s 13ms/step - loss: 0.0060\n",
            "1/1 [==============================] - 0s 25ms/step\n"
          ]
        },
        {
          "output_type": "stream",
          "name": "stderr",
          "text": [
            "<ipython-input-12-62fb44db4d1e>:54: MatplotlibDeprecationWarning: Setting data with a non sequence type is deprecated since 3.7 and will be remove two minor releases later\n",
            "  line_forecast.set_data(bitcoin_df['ds'][end_idx], predicted[0][0])  # line_forecast의 데이터를 bitcoin_df의 ds열에서 선택한 데이터와 predicted의 예측값으로 설정하여 그래프의 예측 선을 새로운 데이터로 업데이트 하는 것이다\n",
            "<ipython-input-12-62fb44db4d1e>:29: MatplotlibDeprecationWarning: Setting data with a non sequence type is deprecated since 3.7 and will be remove two minor releases later\n",
            "  line_vertical.set_xdata(bitcoin_df['ds'][end_idx])  #line_vertical의 x 데이터를 변경한다. bitcoin_df의 y 열에서 end_idx에 해당하는 행의 값을 가져오는것이다.\n"
          ]
        },
        {
          "output_type": "stream",
          "name": "stdout",
          "text": [
            "1/1 [==============================] - 0s 17ms/step - loss: 0.0157\n",
            "1/1 [==============================] - 0s 23ms/step\n"
          ]
        },
        {
          "output_type": "stream",
          "name": "stderr",
          "text": [
            "<ipython-input-12-62fb44db4d1e>:54: MatplotlibDeprecationWarning: Setting data with a non sequence type is deprecated since 3.7 and will be remove two minor releases later\n",
            "  line_forecast.set_data(bitcoin_df['ds'][end_idx], predicted[0][0])  # line_forecast의 데이터를 bitcoin_df의 ds열에서 선택한 데이터와 predicted의 예측값으로 설정하여 그래프의 예측 선을 새로운 데이터로 업데이트 하는 것이다\n",
            "<ipython-input-12-62fb44db4d1e>:29: MatplotlibDeprecationWarning: Setting data with a non sequence type is deprecated since 3.7 and will be remove two minor releases later\n",
            "  line_vertical.set_xdata(bitcoin_df['ds'][end_idx])  #line_vertical의 x 데이터를 변경한다. bitcoin_df의 y 열에서 end_idx에 해당하는 행의 값을 가져오는것이다.\n"
          ]
        },
        {
          "output_type": "stream",
          "name": "stdout",
          "text": [
            "1/1 [==============================] - 0s 15ms/step - loss: 0.0146\n",
            "1/1 [==============================] - 0s 23ms/step\n"
          ]
        },
        {
          "output_type": "stream",
          "name": "stderr",
          "text": [
            "<ipython-input-12-62fb44db4d1e>:54: MatplotlibDeprecationWarning: Setting data with a non sequence type is deprecated since 3.7 and will be remove two minor releases later\n",
            "  line_forecast.set_data(bitcoin_df['ds'][end_idx], predicted[0][0])  # line_forecast의 데이터를 bitcoin_df의 ds열에서 선택한 데이터와 predicted의 예측값으로 설정하여 그래프의 예측 선을 새로운 데이터로 업데이트 하는 것이다\n",
            "<ipython-input-12-62fb44db4d1e>:29: MatplotlibDeprecationWarning: Setting data with a non sequence type is deprecated since 3.7 and will be remove two minor releases later\n",
            "  line_vertical.set_xdata(bitcoin_df['ds'][end_idx])  #line_vertical의 x 데이터를 변경한다. bitcoin_df의 y 열에서 end_idx에 해당하는 행의 값을 가져오는것이다.\n"
          ]
        },
        {
          "output_type": "stream",
          "name": "stdout",
          "text": [
            "1/1 [==============================] - 0s 14ms/step - loss: 0.0105\n",
            "1/1 [==============================] - 0s 27ms/step\n"
          ]
        },
        {
          "output_type": "stream",
          "name": "stderr",
          "text": [
            "<ipython-input-12-62fb44db4d1e>:54: MatplotlibDeprecationWarning: Setting data with a non sequence type is deprecated since 3.7 and will be remove two minor releases later\n",
            "  line_forecast.set_data(bitcoin_df['ds'][end_idx], predicted[0][0])  # line_forecast의 데이터를 bitcoin_df의 ds열에서 선택한 데이터와 predicted의 예측값으로 설정하여 그래프의 예측 선을 새로운 데이터로 업데이트 하는 것이다\n",
            "<ipython-input-12-62fb44db4d1e>:29: MatplotlibDeprecationWarning: Setting data with a non sequence type is deprecated since 3.7 and will be remove two minor releases later\n",
            "  line_vertical.set_xdata(bitcoin_df['ds'][end_idx])  #line_vertical의 x 데이터를 변경한다. bitcoin_df의 y 열에서 end_idx에 해당하는 행의 값을 가져오는것이다.\n"
          ]
        },
        {
          "output_type": "stream",
          "name": "stdout",
          "text": [
            "1/1 [==============================] - 0s 13ms/step - loss: 0.0045\n",
            "1/1 [==============================] - 0s 42ms/step\n",
            "1/1 [==============================] - ETA: 0s - loss: 7.6517e-04"
          ]
        },
        {
          "output_type": "stream",
          "name": "stderr",
          "text": [
            "<ipython-input-12-62fb44db4d1e>:54: MatplotlibDeprecationWarning: Setting data with a non sequence type is deprecated since 3.7 and will be remove two minor releases later\n",
            "  line_forecast.set_data(bitcoin_df['ds'][end_idx], predicted[0][0])  # line_forecast의 데이터를 bitcoin_df의 ds열에서 선택한 데이터와 predicted의 예측값으로 설정하여 그래프의 예측 선을 새로운 데이터로 업데이트 하는 것이다\n",
            "<ipython-input-12-62fb44db4d1e>:29: MatplotlibDeprecationWarning: Setting data with a non sequence type is deprecated since 3.7 and will be remove two minor releases later\n",
            "  line_vertical.set_xdata(bitcoin_df['ds'][end_idx])  #line_vertical의 x 데이터를 변경한다. bitcoin_df의 y 열에서 end_idx에 해당하는 행의 값을 가져오는것이다.\n"
          ]
        },
        {
          "output_type": "stream",
          "name": "stdout",
          "text": [
            "1/1 [==============================] - 0s 11ms/step - loss: 7.6517e-04\n",
            "1/1 [==============================] - 0s 25ms/step\n"
          ]
        },
        {
          "output_type": "stream",
          "name": "stderr",
          "text": [
            "<ipython-input-12-62fb44db4d1e>:54: MatplotlibDeprecationWarning: Setting data with a non sequence type is deprecated since 3.7 and will be remove two minor releases later\n",
            "  line_forecast.set_data(bitcoin_df['ds'][end_idx], predicted[0][0])  # line_forecast의 데이터를 bitcoin_df의 ds열에서 선택한 데이터와 predicted의 예측값으로 설정하여 그래프의 예측 선을 새로운 데이터로 업데이트 하는 것이다\n",
            "<ipython-input-12-62fb44db4d1e>:29: MatplotlibDeprecationWarning: Setting data with a non sequence type is deprecated since 3.7 and will be remove two minor releases later\n",
            "  line_vertical.set_xdata(bitcoin_df['ds'][end_idx])  #line_vertical의 x 데이터를 변경한다. bitcoin_df의 y 열에서 end_idx에 해당하는 행의 값을 가져오는것이다.\n"
          ]
        },
        {
          "output_type": "stream",
          "name": "stdout",
          "text": [
            "1/1 [==============================] - 0s 15ms/step - loss: 1.9776e-04\n",
            "1/1 [==============================] - 0s 23ms/step\n",
            "1/1 [==============================] - ETA: 0s - loss: 0.0099"
          ]
        },
        {
          "output_type": "stream",
          "name": "stderr",
          "text": [
            "<ipython-input-12-62fb44db4d1e>:54: MatplotlibDeprecationWarning: Setting data with a non sequence type is deprecated since 3.7 and will be remove two minor releases later\n",
            "  line_forecast.set_data(bitcoin_df['ds'][end_idx], predicted[0][0])  # line_forecast의 데이터를 bitcoin_df의 ds열에서 선택한 데이터와 predicted의 예측값으로 설정하여 그래프의 예측 선을 새로운 데이터로 업데이트 하는 것이다\n",
            "<ipython-input-12-62fb44db4d1e>:29: MatplotlibDeprecationWarning: Setting data with a non sequence type is deprecated since 3.7 and will be remove two minor releases later\n",
            "  line_vertical.set_xdata(bitcoin_df['ds'][end_idx])  #line_vertical의 x 데이터를 변경한다. bitcoin_df의 y 열에서 end_idx에 해당하는 행의 값을 가져오는것이다.\n"
          ]
        },
        {
          "output_type": "stream",
          "name": "stdout",
          "text": [
            "1/1 [==============================] - 0s 10ms/step - loss: 0.0099\n",
            "1/1 [==============================] - 0s 25ms/step\n"
          ]
        },
        {
          "output_type": "stream",
          "name": "stderr",
          "text": [
            "<ipython-input-12-62fb44db4d1e>:54: MatplotlibDeprecationWarning: Setting data with a non sequence type is deprecated since 3.7 and will be remove two minor releases later\n",
            "  line_forecast.set_data(bitcoin_df['ds'][end_idx], predicted[0][0])  # line_forecast의 데이터를 bitcoin_df의 ds열에서 선택한 데이터와 predicted의 예측값으로 설정하여 그래프의 예측 선을 새로운 데이터로 업데이트 하는 것이다\n",
            "<ipython-input-12-62fb44db4d1e>:29: MatplotlibDeprecationWarning: Setting data with a non sequence type is deprecated since 3.7 and will be remove two minor releases later\n",
            "  line_vertical.set_xdata(bitcoin_df['ds'][end_idx])  #line_vertical의 x 데이터를 변경한다. bitcoin_df의 y 열에서 end_idx에 해당하는 행의 값을 가져오는것이다.\n"
          ]
        },
        {
          "output_type": "stream",
          "name": "stdout",
          "text": [
            "1/1 [==============================] - 0s 10ms/step - loss: 0.0086\n",
            "1/1 [==============================] - 0s 24ms/step\n"
          ]
        },
        {
          "output_type": "stream",
          "name": "stderr",
          "text": [
            "<ipython-input-12-62fb44db4d1e>:54: MatplotlibDeprecationWarning: Setting data with a non sequence type is deprecated since 3.7 and will be remove two minor releases later\n",
            "  line_forecast.set_data(bitcoin_df['ds'][end_idx], predicted[0][0])  # line_forecast의 데이터를 bitcoin_df의 ds열에서 선택한 데이터와 predicted의 예측값으로 설정하여 그래프의 예측 선을 새로운 데이터로 업데이트 하는 것이다\n",
            "<ipython-input-12-62fb44db4d1e>:29: MatplotlibDeprecationWarning: Setting data with a non sequence type is deprecated since 3.7 and will be remove two minor releases later\n",
            "  line_vertical.set_xdata(bitcoin_df['ds'][end_idx])  #line_vertical의 x 데이터를 변경한다. bitcoin_df의 y 열에서 end_idx에 해당하는 행의 값을 가져오는것이다.\n"
          ]
        },
        {
          "output_type": "stream",
          "name": "stdout",
          "text": [
            "1/1 [==============================] - 0s 17ms/step - loss: 0.0028\n",
            "1/1 [==============================] - 0s 24ms/step\n"
          ]
        },
        {
          "output_type": "stream",
          "name": "stderr",
          "text": [
            "<ipython-input-12-62fb44db4d1e>:54: MatplotlibDeprecationWarning: Setting data with a non sequence type is deprecated since 3.7 and will be remove two minor releases later\n",
            "  line_forecast.set_data(bitcoin_df['ds'][end_idx], predicted[0][0])  # line_forecast의 데이터를 bitcoin_df의 ds열에서 선택한 데이터와 predicted의 예측값으로 설정하여 그래프의 예측 선을 새로운 데이터로 업데이트 하는 것이다\n",
            "<ipython-input-12-62fb44db4d1e>:29: MatplotlibDeprecationWarning: Setting data with a non sequence type is deprecated since 3.7 and will be remove two minor releases later\n",
            "  line_vertical.set_xdata(bitcoin_df['ds'][end_idx])  #line_vertical의 x 데이터를 변경한다. bitcoin_df의 y 열에서 end_idx에 해당하는 행의 값을 가져오는것이다.\n"
          ]
        },
        {
          "output_type": "stream",
          "name": "stdout",
          "text": [
            "1/1 [==============================] - 0s 13ms/step - loss: 0.0064\n",
            "1/1 [==============================] - 0s 23ms/step\n"
          ]
        },
        {
          "output_type": "stream",
          "name": "stderr",
          "text": [
            "<ipython-input-12-62fb44db4d1e>:54: MatplotlibDeprecationWarning: Setting data with a non sequence type is deprecated since 3.7 and will be remove two minor releases later\n",
            "  line_forecast.set_data(bitcoin_df['ds'][end_idx], predicted[0][0])  # line_forecast의 데이터를 bitcoin_df의 ds열에서 선택한 데이터와 predicted의 예측값으로 설정하여 그래프의 예측 선을 새로운 데이터로 업데이트 하는 것이다\n",
            "<ipython-input-12-62fb44db4d1e>:29: MatplotlibDeprecationWarning: Setting data with a non sequence type is deprecated since 3.7 and will be remove two minor releases later\n",
            "  line_vertical.set_xdata(bitcoin_df['ds'][end_idx])  #line_vertical의 x 데이터를 변경한다. bitcoin_df의 y 열에서 end_idx에 해당하는 행의 값을 가져오는것이다.\n"
          ]
        },
        {
          "output_type": "stream",
          "name": "stdout",
          "text": [
            "1/1 [==============================] - 0s 14ms/step - loss: 0.0083\n",
            "1/1 [==============================] - 0s 24ms/step\n"
          ]
        },
        {
          "output_type": "stream",
          "name": "stderr",
          "text": [
            "<ipython-input-12-62fb44db4d1e>:54: MatplotlibDeprecationWarning: Setting data with a non sequence type is deprecated since 3.7 and will be remove two minor releases later\n",
            "  line_forecast.set_data(bitcoin_df['ds'][end_idx], predicted[0][0])  # line_forecast의 데이터를 bitcoin_df의 ds열에서 선택한 데이터와 predicted의 예측값으로 설정하여 그래프의 예측 선을 새로운 데이터로 업데이트 하는 것이다\n",
            "<ipython-input-12-62fb44db4d1e>:29: MatplotlibDeprecationWarning: Setting data with a non sequence type is deprecated since 3.7 and will be remove two minor releases later\n",
            "  line_vertical.set_xdata(bitcoin_df['ds'][end_idx])  #line_vertical의 x 데이터를 변경한다. bitcoin_df의 y 열에서 end_idx에 해당하는 행의 값을 가져오는것이다.\n"
          ]
        },
        {
          "output_type": "stream",
          "name": "stdout",
          "text": [
            "1/1 [==============================] - 0s 11ms/step - loss: 3.3438e-05\n",
            "1/1 [==============================] - 0s 25ms/step\n"
          ]
        },
        {
          "output_type": "stream",
          "name": "stderr",
          "text": [
            "<ipython-input-12-62fb44db4d1e>:54: MatplotlibDeprecationWarning: Setting data with a non sequence type is deprecated since 3.7 and will be remove two minor releases later\n",
            "  line_forecast.set_data(bitcoin_df['ds'][end_idx], predicted[0][0])  # line_forecast의 데이터를 bitcoin_df의 ds열에서 선택한 데이터와 predicted의 예측값으로 설정하여 그래프의 예측 선을 새로운 데이터로 업데이트 하는 것이다\n",
            "<ipython-input-12-62fb44db4d1e>:29: MatplotlibDeprecationWarning: Setting data with a non sequence type is deprecated since 3.7 and will be remove two minor releases later\n",
            "  line_vertical.set_xdata(bitcoin_df['ds'][end_idx])  #line_vertical의 x 데이터를 변경한다. bitcoin_df의 y 열에서 end_idx에 해당하는 행의 값을 가져오는것이다.\n"
          ]
        },
        {
          "output_type": "stream",
          "name": "stdout",
          "text": [
            "1/1 [==============================] - 0s 15ms/step - loss: 1.2215e-04\n",
            "1/1 [==============================] - 0s 23ms/step\n"
          ]
        },
        {
          "output_type": "stream",
          "name": "stderr",
          "text": [
            "<ipython-input-12-62fb44db4d1e>:54: MatplotlibDeprecationWarning: Setting data with a non sequence type is deprecated since 3.7 and will be remove two minor releases later\n",
            "  line_forecast.set_data(bitcoin_df['ds'][end_idx], predicted[0][0])  # line_forecast의 데이터를 bitcoin_df의 ds열에서 선택한 데이터와 predicted의 예측값으로 설정하여 그래프의 예측 선을 새로운 데이터로 업데이트 하는 것이다\n",
            "<ipython-input-12-62fb44db4d1e>:29: MatplotlibDeprecationWarning: Setting data with a non sequence type is deprecated since 3.7 and will be remove two minor releases later\n",
            "  line_vertical.set_xdata(bitcoin_df['ds'][end_idx])  #line_vertical의 x 데이터를 변경한다. bitcoin_df의 y 열에서 end_idx에 해당하는 행의 값을 가져오는것이다.\n"
          ]
        },
        {
          "output_type": "stream",
          "name": "stdout",
          "text": [
            "1/1 [==============================] - 0s 14ms/step - loss: 0.0049\n",
            "1/1 [==============================] - 0s 25ms/step\n"
          ]
        },
        {
          "output_type": "stream",
          "name": "stderr",
          "text": [
            "<ipython-input-12-62fb44db4d1e>:54: MatplotlibDeprecationWarning: Setting data with a non sequence type is deprecated since 3.7 and will be remove two minor releases later\n",
            "  line_forecast.set_data(bitcoin_df['ds'][end_idx], predicted[0][0])  # line_forecast의 데이터를 bitcoin_df의 ds열에서 선택한 데이터와 predicted의 예측값으로 설정하여 그래프의 예측 선을 새로운 데이터로 업데이트 하는 것이다\n",
            "<ipython-input-12-62fb44db4d1e>:29: MatplotlibDeprecationWarning: Setting data with a non sequence type is deprecated since 3.7 and will be remove two minor releases later\n",
            "  line_vertical.set_xdata(bitcoin_df['ds'][end_idx])  #line_vertical의 x 데이터를 변경한다. bitcoin_df의 y 열에서 end_idx에 해당하는 행의 값을 가져오는것이다.\n"
          ]
        },
        {
          "output_type": "stream",
          "name": "stdout",
          "text": [
            "1/1 [==============================] - 0s 15ms/step - loss: 0.0113\n",
            "1/1 [==============================] - 0s 24ms/step\n"
          ]
        },
        {
          "output_type": "stream",
          "name": "stderr",
          "text": [
            "<ipython-input-12-62fb44db4d1e>:54: MatplotlibDeprecationWarning: Setting data with a non sequence type is deprecated since 3.7 and will be remove two minor releases later\n",
            "  line_forecast.set_data(bitcoin_df['ds'][end_idx], predicted[0][0])  # line_forecast의 데이터를 bitcoin_df의 ds열에서 선택한 데이터와 predicted의 예측값으로 설정하여 그래프의 예측 선을 새로운 데이터로 업데이트 하는 것이다\n",
            "<ipython-input-12-62fb44db4d1e>:29: MatplotlibDeprecationWarning: Setting data with a non sequence type is deprecated since 3.7 and will be remove two minor releases later\n",
            "  line_vertical.set_xdata(bitcoin_df['ds'][end_idx])  #line_vertical의 x 데이터를 변경한다. bitcoin_df의 y 열에서 end_idx에 해당하는 행의 값을 가져오는것이다.\n"
          ]
        },
        {
          "output_type": "stream",
          "name": "stdout",
          "text": [
            "1/1 [==============================] - 0s 12ms/step - loss: 0.0113\n",
            "1/1 [==============================] - 0s 26ms/step\n"
          ]
        },
        {
          "output_type": "stream",
          "name": "stderr",
          "text": [
            "<ipython-input-12-62fb44db4d1e>:54: MatplotlibDeprecationWarning: Setting data with a non sequence type is deprecated since 3.7 and will be remove two minor releases later\n",
            "  line_forecast.set_data(bitcoin_df['ds'][end_idx], predicted[0][0])  # line_forecast의 데이터를 bitcoin_df의 ds열에서 선택한 데이터와 predicted의 예측값으로 설정하여 그래프의 예측 선을 새로운 데이터로 업데이트 하는 것이다\n",
            "<ipython-input-12-62fb44db4d1e>:29: MatplotlibDeprecationWarning: Setting data with a non sequence type is deprecated since 3.7 and will be remove two minor releases later\n",
            "  line_vertical.set_xdata(bitcoin_df['ds'][end_idx])  #line_vertical의 x 데이터를 변경한다. bitcoin_df의 y 열에서 end_idx에 해당하는 행의 값을 가져오는것이다.\n"
          ]
        },
        {
          "output_type": "stream",
          "name": "stdout",
          "text": [
            "1/1 [==============================] - 0s 12ms/step - loss: 0.0031\n",
            "1/1 [==============================] - 0s 26ms/step\n"
          ]
        },
        {
          "output_type": "stream",
          "name": "stderr",
          "text": [
            "<ipython-input-12-62fb44db4d1e>:54: MatplotlibDeprecationWarning: Setting data with a non sequence type is deprecated since 3.7 and will be remove two minor releases later\n",
            "  line_forecast.set_data(bitcoin_df['ds'][end_idx], predicted[0][0])  # line_forecast의 데이터를 bitcoin_df의 ds열에서 선택한 데이터와 predicted의 예측값으로 설정하여 그래프의 예측 선을 새로운 데이터로 업데이트 하는 것이다\n",
            "<ipython-input-12-62fb44db4d1e>:29: MatplotlibDeprecationWarning: Setting data with a non sequence type is deprecated since 3.7 and will be remove two minor releases later\n",
            "  line_vertical.set_xdata(bitcoin_df['ds'][end_idx])  #line_vertical의 x 데이터를 변경한다. bitcoin_df의 y 열에서 end_idx에 해당하는 행의 값을 가져오는것이다.\n"
          ]
        },
        {
          "output_type": "stream",
          "name": "stdout",
          "text": [
            "1/1 [==============================] - 0s 10ms/step - loss: 0.0695\n",
            "1/1 [==============================] - 0s 22ms/step\n"
          ]
        },
        {
          "output_type": "stream",
          "name": "stderr",
          "text": [
            "<ipython-input-12-62fb44db4d1e>:54: MatplotlibDeprecationWarning: Setting data with a non sequence type is deprecated since 3.7 and will be remove two minor releases later\n",
            "  line_forecast.set_data(bitcoin_df['ds'][end_idx], predicted[0][0])  # line_forecast의 데이터를 bitcoin_df의 ds열에서 선택한 데이터와 predicted의 예측값으로 설정하여 그래프의 예측 선을 새로운 데이터로 업데이트 하는 것이다\n",
            "<ipython-input-12-62fb44db4d1e>:29: MatplotlibDeprecationWarning: Setting data with a non sequence type is deprecated since 3.7 and will be remove two minor releases later\n",
            "  line_vertical.set_xdata(bitcoin_df['ds'][end_idx])  #line_vertical의 x 데이터를 변경한다. bitcoin_df의 y 열에서 end_idx에 해당하는 행의 값을 가져오는것이다.\n"
          ]
        },
        {
          "output_type": "stream",
          "name": "stdout",
          "text": [
            "1/1 [==============================] - 0s 12ms/step - loss: 0.0807\n",
            "1/1 [==============================] - 0s 23ms/step\n"
          ]
        },
        {
          "output_type": "stream",
          "name": "stderr",
          "text": [
            "<ipython-input-12-62fb44db4d1e>:54: MatplotlibDeprecationWarning: Setting data with a non sequence type is deprecated since 3.7 and will be remove two minor releases later\n",
            "  line_forecast.set_data(bitcoin_df['ds'][end_idx], predicted[0][0])  # line_forecast의 데이터를 bitcoin_df의 ds열에서 선택한 데이터와 predicted의 예측값으로 설정하여 그래프의 예측 선을 새로운 데이터로 업데이트 하는 것이다\n",
            "<ipython-input-12-62fb44db4d1e>:29: MatplotlibDeprecationWarning: Setting data with a non sequence type is deprecated since 3.7 and will be remove two minor releases later\n",
            "  line_vertical.set_xdata(bitcoin_df['ds'][end_idx])  #line_vertical의 x 데이터를 변경한다. bitcoin_df의 y 열에서 end_idx에 해당하는 행의 값을 가져오는것이다.\n"
          ]
        },
        {
          "output_type": "stream",
          "name": "stdout",
          "text": [
            "1/1 [==============================] - 0s 9ms/step - loss: 0.0505\n",
            "1/1 [==============================] - 0s 29ms/step\n"
          ]
        },
        {
          "output_type": "stream",
          "name": "stderr",
          "text": [
            "<ipython-input-12-62fb44db4d1e>:54: MatplotlibDeprecationWarning: Setting data with a non sequence type is deprecated since 3.7 and will be remove two minor releases later\n",
            "  line_forecast.set_data(bitcoin_df['ds'][end_idx], predicted[0][0])  # line_forecast의 데이터를 bitcoin_df의 ds열에서 선택한 데이터와 predicted의 예측값으로 설정하여 그래프의 예측 선을 새로운 데이터로 업데이트 하는 것이다\n",
            "<ipython-input-12-62fb44db4d1e>:29: MatplotlibDeprecationWarning: Setting data with a non sequence type is deprecated since 3.7 and will be remove two minor releases later\n",
            "  line_vertical.set_xdata(bitcoin_df['ds'][end_idx])  #line_vertical의 x 데이터를 변경한다. bitcoin_df의 y 열에서 end_idx에 해당하는 행의 값을 가져오는것이다.\n"
          ]
        },
        {
          "output_type": "stream",
          "name": "stdout",
          "text": [
            "1/1 [==============================] - 0s 10ms/step - loss: 0.0185\n",
            "1/1 [==============================] - 0s 24ms/step\n"
          ]
        },
        {
          "output_type": "stream",
          "name": "stderr",
          "text": [
            "<ipython-input-12-62fb44db4d1e>:54: MatplotlibDeprecationWarning: Setting data with a non sequence type is deprecated since 3.7 and will be remove two minor releases later\n",
            "  line_forecast.set_data(bitcoin_df['ds'][end_idx], predicted[0][0])  # line_forecast의 데이터를 bitcoin_df의 ds열에서 선택한 데이터와 predicted의 예측값으로 설정하여 그래프의 예측 선을 새로운 데이터로 업데이트 하는 것이다\n",
            "<ipython-input-12-62fb44db4d1e>:29: MatplotlibDeprecationWarning: Setting data with a non sequence type is deprecated since 3.7 and will be remove two minor releases later\n",
            "  line_vertical.set_xdata(bitcoin_df['ds'][end_idx])  #line_vertical의 x 데이터를 변경한다. bitcoin_df의 y 열에서 end_idx에 해당하는 행의 값을 가져오는것이다.\n"
          ]
        },
        {
          "output_type": "stream",
          "name": "stdout",
          "text": [
            "1/1 [==============================] - 0s 10ms/step - loss: 8.5712e-06\n",
            "1/1 [==============================] - 0s 28ms/step\n"
          ]
        },
        {
          "output_type": "stream",
          "name": "stderr",
          "text": [
            "<ipython-input-12-62fb44db4d1e>:54: MatplotlibDeprecationWarning: Setting data with a non sequence type is deprecated since 3.7 and will be remove two minor releases later\n",
            "  line_forecast.set_data(bitcoin_df['ds'][end_idx], predicted[0][0])  # line_forecast의 데이터를 bitcoin_df의 ds열에서 선택한 데이터와 predicted의 예측값으로 설정하여 그래프의 예측 선을 새로운 데이터로 업데이트 하는 것이다\n"
          ]
        },
        {
          "output_type": "stream",
          "name": "stdout",
          "text": [
            "1/1 [==============================] - 0s 14ms/step - loss: 1.6058e-08\n"
          ]
        },
        {
          "output_type": "stream",
          "name": "stderr",
          "text": [
            "<ipython-input-12-62fb44db4d1e>:29: MatplotlibDeprecationWarning: Setting data with a non sequence type is deprecated since 3.7 and will be remove two minor releases later\n",
            "  line_vertical.set_xdata(bitcoin_df['ds'][end_idx])  #line_vertical의 x 데이터를 변경한다. bitcoin_df의 y 열에서 end_idx에 해당하는 행의 값을 가져오는것이다.\n"
          ]
        },
        {
          "output_type": "stream",
          "name": "stdout",
          "text": [
            "1/1 [==============================] - 0s 39ms/step\n"
          ]
        },
        {
          "output_type": "stream",
          "name": "stderr",
          "text": [
            "<ipython-input-12-62fb44db4d1e>:54: MatplotlibDeprecationWarning: Setting data with a non sequence type is deprecated since 3.7 and will be remove two minor releases later\n",
            "  line_forecast.set_data(bitcoin_df['ds'][end_idx], predicted[0][0])  # line_forecast의 데이터를 bitcoin_df의 ds열에서 선택한 데이터와 predicted의 예측값으로 설정하여 그래프의 예측 선을 새로운 데이터로 업데이트 하는 것이다\n"
          ]
        },
        {
          "output_type": "stream",
          "name": "stdout",
          "text": [
            "1/1 [==============================] - 0s 15ms/step - loss: 0.0016\n"
          ]
        },
        {
          "output_type": "stream",
          "name": "stderr",
          "text": [
            "<ipython-input-12-62fb44db4d1e>:29: MatplotlibDeprecationWarning: Setting data with a non sequence type is deprecated since 3.7 and will be remove two minor releases later\n",
            "  line_vertical.set_xdata(bitcoin_df['ds'][end_idx])  #line_vertical의 x 데이터를 변경한다. bitcoin_df의 y 열에서 end_idx에 해당하는 행의 값을 가져오는것이다.\n"
          ]
        },
        {
          "output_type": "stream",
          "name": "stdout",
          "text": [
            "1/1 [==============================] - 0s 44ms/step\n"
          ]
        },
        {
          "output_type": "stream",
          "name": "stderr",
          "text": [
            "<ipython-input-12-62fb44db4d1e>:54: MatplotlibDeprecationWarning: Setting data with a non sequence type is deprecated since 3.7 and will be remove two minor releases later\n",
            "  line_forecast.set_data(bitcoin_df['ds'][end_idx], predicted[0][0])  # line_forecast의 데이터를 bitcoin_df의 ds열에서 선택한 데이터와 predicted의 예측값으로 설정하여 그래프의 예측 선을 새로운 데이터로 업데이트 하는 것이다\n"
          ]
        },
        {
          "output_type": "stream",
          "name": "stdout",
          "text": [
            "1/1 [==============================] - 0s 14ms/step - loss: 0.0011\n"
          ]
        },
        {
          "output_type": "stream",
          "name": "stderr",
          "text": [
            "<ipython-input-12-62fb44db4d1e>:29: MatplotlibDeprecationWarning: Setting data with a non sequence type is deprecated since 3.7 and will be remove two minor releases later\n",
            "  line_vertical.set_xdata(bitcoin_df['ds'][end_idx])  #line_vertical의 x 데이터를 변경한다. bitcoin_df의 y 열에서 end_idx에 해당하는 행의 값을 가져오는것이다.\n"
          ]
        },
        {
          "output_type": "stream",
          "name": "stdout",
          "text": [
            "1/1 [==============================] - 0s 43ms/step\n"
          ]
        },
        {
          "output_type": "stream",
          "name": "stderr",
          "text": [
            "<ipython-input-12-62fb44db4d1e>:54: MatplotlibDeprecationWarning: Setting data with a non sequence type is deprecated since 3.7 and will be remove two minor releases later\n",
            "  line_forecast.set_data(bitcoin_df['ds'][end_idx], predicted[0][0])  # line_forecast의 데이터를 bitcoin_df의 ds열에서 선택한 데이터와 predicted의 예측값으로 설정하여 그래프의 예측 선을 새로운 데이터로 업데이트 하는 것이다\n"
          ]
        },
        {
          "output_type": "stream",
          "name": "stdout",
          "text": [
            "1/1 [==============================] - 0s 18ms/step - loss: 1.9286e-05\n"
          ]
        },
        {
          "output_type": "stream",
          "name": "stderr",
          "text": [
            "<ipython-input-12-62fb44db4d1e>:29: MatplotlibDeprecationWarning: Setting data with a non sequence type is deprecated since 3.7 and will be remove two minor releases later\n",
            "  line_vertical.set_xdata(bitcoin_df['ds'][end_idx])  #line_vertical의 x 데이터를 변경한다. bitcoin_df의 y 열에서 end_idx에 해당하는 행의 값을 가져오는것이다.\n"
          ]
        },
        {
          "output_type": "stream",
          "name": "stdout",
          "text": [
            "1/1 [==============================] - 0s 37ms/step\n"
          ]
        },
        {
          "output_type": "stream",
          "name": "stderr",
          "text": [
            "<ipython-input-12-62fb44db4d1e>:54: MatplotlibDeprecationWarning: Setting data with a non sequence type is deprecated since 3.7 and will be remove two minor releases later\n",
            "  line_forecast.set_data(bitcoin_df['ds'][end_idx], predicted[0][0])  # line_forecast의 데이터를 bitcoin_df의 ds열에서 선택한 데이터와 predicted의 예측값으로 설정하여 그래프의 예측 선을 새로운 데이터로 업데이트 하는 것이다\n"
          ]
        },
        {
          "output_type": "stream",
          "name": "stdout",
          "text": [
            "1/1 [==============================] - 0s 15ms/step - loss: 0.0098\n"
          ]
        },
        {
          "output_type": "stream",
          "name": "stderr",
          "text": [
            "<ipython-input-12-62fb44db4d1e>:29: MatplotlibDeprecationWarning: Setting data with a non sequence type is deprecated since 3.7 and will be remove two minor releases later\n",
            "  line_vertical.set_xdata(bitcoin_df['ds'][end_idx])  #line_vertical의 x 데이터를 변경한다. bitcoin_df의 y 열에서 end_idx에 해당하는 행의 값을 가져오는것이다.\n"
          ]
        },
        {
          "output_type": "stream",
          "name": "stdout",
          "text": [
            "1/1 [==============================] - 0s 37ms/step\n"
          ]
        },
        {
          "output_type": "stream",
          "name": "stderr",
          "text": [
            "<ipython-input-12-62fb44db4d1e>:54: MatplotlibDeprecationWarning: Setting data with a non sequence type is deprecated since 3.7 and will be remove two minor releases later\n",
            "  line_forecast.set_data(bitcoin_df['ds'][end_idx], predicted[0][0])  # line_forecast의 데이터를 bitcoin_df의 ds열에서 선택한 데이터와 predicted의 예측값으로 설정하여 그래프의 예측 선을 새로운 데이터로 업데이트 하는 것이다\n"
          ]
        },
        {
          "output_type": "stream",
          "name": "stdout",
          "text": [
            "1/1 [==============================] - 0s 16ms/step - loss: 1.9311e-04\n"
          ]
        },
        {
          "output_type": "stream",
          "name": "stderr",
          "text": [
            "<ipython-input-12-62fb44db4d1e>:29: MatplotlibDeprecationWarning: Setting data with a non sequence type is deprecated since 3.7 and will be remove two minor releases later\n",
            "  line_vertical.set_xdata(bitcoin_df['ds'][end_idx])  #line_vertical의 x 데이터를 변경한다. bitcoin_df의 y 열에서 end_idx에 해당하는 행의 값을 가져오는것이다.\n"
          ]
        },
        {
          "output_type": "stream",
          "name": "stdout",
          "text": [
            "1/1 [==============================] - 0s 34ms/step\n"
          ]
        },
        {
          "output_type": "stream",
          "name": "stderr",
          "text": [
            "<ipython-input-12-62fb44db4d1e>:54: MatplotlibDeprecationWarning: Setting data with a non sequence type is deprecated since 3.7 and will be remove two minor releases later\n",
            "  line_forecast.set_data(bitcoin_df['ds'][end_idx], predicted[0][0])  # line_forecast의 데이터를 bitcoin_df의 ds열에서 선택한 데이터와 predicted의 예측값으로 설정하여 그래프의 예측 선을 새로운 데이터로 업데이트 하는 것이다\n",
            "<ipython-input-12-62fb44db4d1e>:29: MatplotlibDeprecationWarning: Setting data with a non sequence type is deprecated since 3.7 and will be remove two minor releases later\n",
            "  line_vertical.set_xdata(bitcoin_df['ds'][end_idx])  #line_vertical의 x 데이터를 변경한다. bitcoin_df의 y 열에서 end_idx에 해당하는 행의 값을 가져오는것이다.\n"
          ]
        },
        {
          "output_type": "stream",
          "name": "stdout",
          "text": [
            "1/1 [==============================] - 0s 13ms/step - loss: 0.0016\n",
            "1/1 [==============================] - 0s 37ms/step\n"
          ]
        },
        {
          "output_type": "stream",
          "name": "stderr",
          "text": [
            "<ipython-input-12-62fb44db4d1e>:54: MatplotlibDeprecationWarning: Setting data with a non sequence type is deprecated since 3.7 and will be remove two minor releases later\n",
            "  line_forecast.set_data(bitcoin_df['ds'][end_idx], predicted[0][0])  # line_forecast의 데이터를 bitcoin_df의 ds열에서 선택한 데이터와 predicted의 예측값으로 설정하여 그래프의 예측 선을 새로운 데이터로 업데이트 하는 것이다\n",
            "<ipython-input-12-62fb44db4d1e>:29: MatplotlibDeprecationWarning: Setting data with a non sequence type is deprecated since 3.7 and will be remove two minor releases later\n",
            "  line_vertical.set_xdata(bitcoin_df['ds'][end_idx])  #line_vertical의 x 데이터를 변경한다. bitcoin_df의 y 열에서 end_idx에 해당하는 행의 값을 가져오는것이다.\n"
          ]
        },
        {
          "output_type": "stream",
          "name": "stdout",
          "text": [
            "1/1 [==============================] - 0s 21ms/step - loss: 0.0018\n",
            "1/1 [==============================] - 0s 33ms/step\n"
          ]
        },
        {
          "output_type": "stream",
          "name": "stderr",
          "text": [
            "<ipython-input-12-62fb44db4d1e>:54: MatplotlibDeprecationWarning: Setting data with a non sequence type is deprecated since 3.7 and will be remove two minor releases later\n",
            "  line_forecast.set_data(bitcoin_df['ds'][end_idx], predicted[0][0])  # line_forecast의 데이터를 bitcoin_df의 ds열에서 선택한 데이터와 predicted의 예측값으로 설정하여 그래프의 예측 선을 새로운 데이터로 업데이트 하는 것이다\n"
          ]
        },
        {
          "output_type": "stream",
          "name": "stdout",
          "text": [
            "1/1 [==============================] - 0s 14ms/step - loss: 0.0072\n"
          ]
        },
        {
          "output_type": "stream",
          "name": "stderr",
          "text": [
            "<ipython-input-12-62fb44db4d1e>:29: MatplotlibDeprecationWarning: Setting data with a non sequence type is deprecated since 3.7 and will be remove two minor releases later\n",
            "  line_vertical.set_xdata(bitcoin_df['ds'][end_idx])  #line_vertical의 x 데이터를 변경한다. bitcoin_df의 y 열에서 end_idx에 해당하는 행의 값을 가져오는것이다.\n"
          ]
        },
        {
          "output_type": "stream",
          "name": "stdout",
          "text": [
            "1/1 [==============================] - 0s 38ms/step\n"
          ]
        },
        {
          "output_type": "stream",
          "name": "stderr",
          "text": [
            "<ipython-input-12-62fb44db4d1e>:54: MatplotlibDeprecationWarning: Setting data with a non sequence type is deprecated since 3.7 and will be remove two minor releases later\n",
            "  line_forecast.set_data(bitcoin_df['ds'][end_idx], predicted[0][0])  # line_forecast의 데이터를 bitcoin_df의 ds열에서 선택한 데이터와 predicted의 예측값으로 설정하여 그래프의 예측 선을 새로운 데이터로 업데이트 하는 것이다\n",
            "<ipython-input-12-62fb44db4d1e>:29: MatplotlibDeprecationWarning: Setting data with a non sequence type is deprecated since 3.7 and will be remove two minor releases later\n",
            "  line_vertical.set_xdata(bitcoin_df['ds'][end_idx])  #line_vertical의 x 데이터를 변경한다. bitcoin_df의 y 열에서 end_idx에 해당하는 행의 값을 가져오는것이다.\n"
          ]
        },
        {
          "output_type": "stream",
          "name": "stdout",
          "text": [
            "1/1 [==============================] - 0s 14ms/step - loss: 1.7321e-05\n",
            "1/1 [==============================] - 0s 54ms/step\n"
          ]
        },
        {
          "output_type": "stream",
          "name": "stderr",
          "text": [
            "<ipython-input-12-62fb44db4d1e>:54: MatplotlibDeprecationWarning: Setting data with a non sequence type is deprecated since 3.7 and will be remove two minor releases later\n",
            "  line_forecast.set_data(bitcoin_df['ds'][end_idx], predicted[0][0])  # line_forecast의 데이터를 bitcoin_df의 ds열에서 선택한 데이터와 predicted의 예측값으로 설정하여 그래프의 예측 선을 새로운 데이터로 업데이트 하는 것이다\n",
            "<ipython-input-12-62fb44db4d1e>:29: MatplotlibDeprecationWarning: Setting data with a non sequence type is deprecated since 3.7 and will be remove two minor releases later\n",
            "  line_vertical.set_xdata(bitcoin_df['ds'][end_idx])  #line_vertical의 x 데이터를 변경한다. bitcoin_df의 y 열에서 end_idx에 해당하는 행의 값을 가져오는것이다.\n"
          ]
        },
        {
          "output_type": "stream",
          "name": "stdout",
          "text": [
            "1/1 [==============================] - 0s 11ms/step - loss: 4.9452e-04\n",
            "1/1 [==============================] - 0s 24ms/step\n"
          ]
        },
        {
          "output_type": "stream",
          "name": "stderr",
          "text": [
            "<ipython-input-12-62fb44db4d1e>:54: MatplotlibDeprecationWarning: Setting data with a non sequence type is deprecated since 3.7 and will be remove two minor releases later\n",
            "  line_forecast.set_data(bitcoin_df['ds'][end_idx], predicted[0][0])  # line_forecast의 데이터를 bitcoin_df의 ds열에서 선택한 데이터와 predicted의 예측값으로 설정하여 그래프의 예측 선을 새로운 데이터로 업데이트 하는 것이다\n",
            "<ipython-input-12-62fb44db4d1e>:29: MatplotlibDeprecationWarning: Setting data with a non sequence type is deprecated since 3.7 and will be remove two minor releases later\n",
            "  line_vertical.set_xdata(bitcoin_df['ds'][end_idx])  #line_vertical의 x 데이터를 변경한다. bitcoin_df의 y 열에서 end_idx에 해당하는 행의 값을 가져오는것이다.\n"
          ]
        },
        {
          "output_type": "stream",
          "name": "stdout",
          "text": [
            "1/1 [==============================] - 0s 10ms/step - loss: 3.3047e-04\n",
            "1/1 [==============================] - 0s 24ms/step\n"
          ]
        },
        {
          "output_type": "stream",
          "name": "stderr",
          "text": [
            "<ipython-input-12-62fb44db4d1e>:54: MatplotlibDeprecationWarning: Setting data with a non sequence type is deprecated since 3.7 and will be remove two minor releases later\n",
            "  line_forecast.set_data(bitcoin_df['ds'][end_idx], predicted[0][0])  # line_forecast의 데이터를 bitcoin_df의 ds열에서 선택한 데이터와 predicted의 예측값으로 설정하여 그래프의 예측 선을 새로운 데이터로 업데이트 하는 것이다\n",
            "<ipython-input-12-62fb44db4d1e>:29: MatplotlibDeprecationWarning: Setting data with a non sequence type is deprecated since 3.7 and will be remove two minor releases later\n",
            "  line_vertical.set_xdata(bitcoin_df['ds'][end_idx])  #line_vertical의 x 데이터를 변경한다. bitcoin_df의 y 열에서 end_idx에 해당하는 행의 값을 가져오는것이다.\n"
          ]
        },
        {
          "output_type": "stream",
          "name": "stdout",
          "text": [
            "1/1 [==============================] - 0s 20ms/step - loss: 2.4231e-04\n",
            "1/1 [==============================] - 0s 30ms/step\n"
          ]
        },
        {
          "output_type": "stream",
          "name": "stderr",
          "text": [
            "<ipython-input-12-62fb44db4d1e>:54: MatplotlibDeprecationWarning: Setting data with a non sequence type is deprecated since 3.7 and will be remove two minor releases later\n",
            "  line_forecast.set_data(bitcoin_df['ds'][end_idx], predicted[0][0])  # line_forecast의 데이터를 bitcoin_df의 ds열에서 선택한 데이터와 predicted의 예측값으로 설정하여 그래프의 예측 선을 새로운 데이터로 업데이트 하는 것이다\n",
            "<ipython-input-12-62fb44db4d1e>:29: MatplotlibDeprecationWarning: Setting data with a non sequence type is deprecated since 3.7 and will be remove two minor releases later\n",
            "  line_vertical.set_xdata(bitcoin_df['ds'][end_idx])  #line_vertical의 x 데이터를 변경한다. bitcoin_df의 y 열에서 end_idx에 해당하는 행의 값을 가져오는것이다.\n"
          ]
        },
        {
          "output_type": "stream",
          "name": "stdout",
          "text": [
            "1/1 [==============================] - 0s 16ms/step - loss: 1.0173e-04\n",
            "1/1 [==============================] - 0s 23ms/step\n"
          ]
        },
        {
          "output_type": "stream",
          "name": "stderr",
          "text": [
            "<ipython-input-12-62fb44db4d1e>:54: MatplotlibDeprecationWarning: Setting data with a non sequence type is deprecated since 3.7 and will be remove two minor releases later\n",
            "  line_forecast.set_data(bitcoin_df['ds'][end_idx], predicted[0][0])  # line_forecast의 데이터를 bitcoin_df의 ds열에서 선택한 데이터와 predicted의 예측값으로 설정하여 그래프의 예측 선을 새로운 데이터로 업데이트 하는 것이다\n",
            "<ipython-input-12-62fb44db4d1e>:29: MatplotlibDeprecationWarning: Setting data with a non sequence type is deprecated since 3.7 and will be remove two minor releases later\n",
            "  line_vertical.set_xdata(bitcoin_df['ds'][end_idx])  #line_vertical의 x 데이터를 변경한다. bitcoin_df의 y 열에서 end_idx에 해당하는 행의 값을 가져오는것이다.\n"
          ]
        },
        {
          "output_type": "stream",
          "name": "stdout",
          "text": [
            "1/1 [==============================] - 0s 12ms/step - loss: 2.0915e-04\n",
            "1/1 [==============================] - 0s 23ms/step\n"
          ]
        },
        {
          "output_type": "stream",
          "name": "stderr",
          "text": [
            "<ipython-input-12-62fb44db4d1e>:54: MatplotlibDeprecationWarning: Setting data with a non sequence type is deprecated since 3.7 and will be remove two minor releases later\n",
            "  line_forecast.set_data(bitcoin_df['ds'][end_idx], predicted[0][0])  # line_forecast의 데이터를 bitcoin_df의 ds열에서 선택한 데이터와 predicted의 예측값으로 설정하여 그래프의 예측 선을 새로운 데이터로 업데이트 하는 것이다\n",
            "<ipython-input-12-62fb44db4d1e>:29: MatplotlibDeprecationWarning: Setting data with a non sequence type is deprecated since 3.7 and will be remove two minor releases later\n",
            "  line_vertical.set_xdata(bitcoin_df['ds'][end_idx])  #line_vertical의 x 데이터를 변경한다. bitcoin_df의 y 열에서 end_idx에 해당하는 행의 값을 가져오는것이다.\n"
          ]
        },
        {
          "output_type": "stream",
          "name": "stdout",
          "text": [
            "1/1 [==============================] - 0s 14ms/step - loss: 9.7310e-04\n",
            "1/1 [==============================] - 0s 24ms/step\n"
          ]
        },
        {
          "output_type": "stream",
          "name": "stderr",
          "text": [
            "<ipython-input-12-62fb44db4d1e>:54: MatplotlibDeprecationWarning: Setting data with a non sequence type is deprecated since 3.7 and will be remove two minor releases later\n",
            "  line_forecast.set_data(bitcoin_df['ds'][end_idx], predicted[0][0])  # line_forecast의 데이터를 bitcoin_df의 ds열에서 선택한 데이터와 predicted의 예측값으로 설정하여 그래프의 예측 선을 새로운 데이터로 업데이트 하는 것이다\n",
            "<ipython-input-12-62fb44db4d1e>:29: MatplotlibDeprecationWarning: Setting data with a non sequence type is deprecated since 3.7 and will be remove two minor releases later\n",
            "  line_vertical.set_xdata(bitcoin_df['ds'][end_idx])  #line_vertical의 x 데이터를 변경한다. bitcoin_df의 y 열에서 end_idx에 해당하는 행의 값을 가져오는것이다.\n"
          ]
        },
        {
          "output_type": "stream",
          "name": "stdout",
          "text": [
            "1/1 [==============================] - 0s 9ms/step - loss: 8.7934e-04\n",
            "1/1 [==============================] - 0s 23ms/step\n"
          ]
        },
        {
          "output_type": "stream",
          "name": "stderr",
          "text": [
            "<ipython-input-12-62fb44db4d1e>:54: MatplotlibDeprecationWarning: Setting data with a non sequence type is deprecated since 3.7 and will be remove two minor releases later\n",
            "  line_forecast.set_data(bitcoin_df['ds'][end_idx], predicted[0][0])  # line_forecast의 데이터를 bitcoin_df의 ds열에서 선택한 데이터와 predicted의 예측값으로 설정하여 그래프의 예측 선을 새로운 데이터로 업데이트 하는 것이다\n",
            "<ipython-input-12-62fb44db4d1e>:29: MatplotlibDeprecationWarning: Setting data with a non sequence type is deprecated since 3.7 and will be remove two minor releases later\n",
            "  line_vertical.set_xdata(bitcoin_df['ds'][end_idx])  #line_vertical의 x 데이터를 변경한다. bitcoin_df의 y 열에서 end_idx에 해당하는 행의 값을 가져오는것이다.\n"
          ]
        },
        {
          "output_type": "stream",
          "name": "stdout",
          "text": [
            "1/1 [==============================] - 0s 11ms/step - loss: 1.2960e-04\n",
            "1/1 [==============================] - 0s 24ms/step\n"
          ]
        },
        {
          "output_type": "stream",
          "name": "stderr",
          "text": [
            "<ipython-input-12-62fb44db4d1e>:54: MatplotlibDeprecationWarning: Setting data with a non sequence type is deprecated since 3.7 and will be remove two minor releases later\n",
            "  line_forecast.set_data(bitcoin_df['ds'][end_idx], predicted[0][0])  # line_forecast의 데이터를 bitcoin_df의 ds열에서 선택한 데이터와 predicted의 예측값으로 설정하여 그래프의 예측 선을 새로운 데이터로 업데이트 하는 것이다\n",
            "<ipython-input-12-62fb44db4d1e>:29: MatplotlibDeprecationWarning: Setting data with a non sequence type is deprecated since 3.7 and will be remove two minor releases later\n",
            "  line_vertical.set_xdata(bitcoin_df['ds'][end_idx])  #line_vertical의 x 데이터를 변경한다. bitcoin_df의 y 열에서 end_idx에 해당하는 행의 값을 가져오는것이다.\n"
          ]
        },
        {
          "output_type": "stream",
          "name": "stdout",
          "text": [
            "1/1 [==============================] - 0s 10ms/step - loss: 9.3985e-04\n",
            "1/1 [==============================] - 0s 25ms/step\n"
          ]
        },
        {
          "output_type": "stream",
          "name": "stderr",
          "text": [
            "<ipython-input-12-62fb44db4d1e>:54: MatplotlibDeprecationWarning: Setting data with a non sequence type is deprecated since 3.7 and will be remove two minor releases later\n",
            "  line_forecast.set_data(bitcoin_df['ds'][end_idx], predicted[0][0])  # line_forecast의 데이터를 bitcoin_df의 ds열에서 선택한 데이터와 predicted의 예측값으로 설정하여 그래프의 예측 선을 새로운 데이터로 업데이트 하는 것이다\n",
            "<ipython-input-12-62fb44db4d1e>:29: MatplotlibDeprecationWarning: Setting data with a non sequence type is deprecated since 3.7 and will be remove two minor releases later\n",
            "  line_vertical.set_xdata(bitcoin_df['ds'][end_idx])  #line_vertical의 x 데이터를 변경한다. bitcoin_df의 y 열에서 end_idx에 해당하는 행의 값을 가져오는것이다.\n"
          ]
        },
        {
          "output_type": "stream",
          "name": "stdout",
          "text": [
            "1/1 [==============================] - 0s 9ms/step - loss: 0.0036\n",
            "1/1 [==============================] - 0s 23ms/step\n"
          ]
        },
        {
          "output_type": "stream",
          "name": "stderr",
          "text": [
            "<ipython-input-12-62fb44db4d1e>:54: MatplotlibDeprecationWarning: Setting data with a non sequence type is deprecated since 3.7 and will be remove two minor releases later\n",
            "  line_forecast.set_data(bitcoin_df['ds'][end_idx], predicted[0][0])  # line_forecast의 데이터를 bitcoin_df의 ds열에서 선택한 데이터와 predicted의 예측값으로 설정하여 그래프의 예측 선을 새로운 데이터로 업데이트 하는 것이다\n",
            "<ipython-input-12-62fb44db4d1e>:29: MatplotlibDeprecationWarning: Setting data with a non sequence type is deprecated since 3.7 and will be remove two minor releases later\n",
            "  line_vertical.set_xdata(bitcoin_df['ds'][end_idx])  #line_vertical의 x 데이터를 변경한다. bitcoin_df의 y 열에서 end_idx에 해당하는 행의 값을 가져오는것이다.\n"
          ]
        },
        {
          "output_type": "stream",
          "name": "stdout",
          "text": [
            "1/1 [==============================] - 0s 10ms/step - loss: 0.0038\n",
            "1/1 [==============================] - 0s 24ms/step\n"
          ]
        },
        {
          "output_type": "stream",
          "name": "stderr",
          "text": [
            "<ipython-input-12-62fb44db4d1e>:54: MatplotlibDeprecationWarning: Setting data with a non sequence type is deprecated since 3.7 and will be remove two minor releases later\n",
            "  line_forecast.set_data(bitcoin_df['ds'][end_idx], predicted[0][0])  # line_forecast의 데이터를 bitcoin_df의 ds열에서 선택한 데이터와 predicted의 예측값으로 설정하여 그래프의 예측 선을 새로운 데이터로 업데이트 하는 것이다\n",
            "<ipython-input-12-62fb44db4d1e>:29: MatplotlibDeprecationWarning: Setting data with a non sequence type is deprecated since 3.7 and will be remove two minor releases later\n",
            "  line_vertical.set_xdata(bitcoin_df['ds'][end_idx])  #line_vertical의 x 데이터를 변경한다. bitcoin_df의 y 열에서 end_idx에 해당하는 행의 값을 가져오는것이다.\n"
          ]
        },
        {
          "output_type": "stream",
          "name": "stdout",
          "text": [
            "1/1 [==============================] - 0s 9ms/step - loss: 0.0020\n",
            "1/1 [==============================] - 0s 25ms/step\n"
          ]
        },
        {
          "output_type": "stream",
          "name": "stderr",
          "text": [
            "<ipython-input-12-62fb44db4d1e>:54: MatplotlibDeprecationWarning: Setting data with a non sequence type is deprecated since 3.7 and will be remove two minor releases later\n",
            "  line_forecast.set_data(bitcoin_df['ds'][end_idx], predicted[0][0])  # line_forecast의 데이터를 bitcoin_df의 ds열에서 선택한 데이터와 predicted의 예측값으로 설정하여 그래프의 예측 선을 새로운 데이터로 업데이트 하는 것이다\n",
            "<ipython-input-12-62fb44db4d1e>:29: MatplotlibDeprecationWarning: Setting data with a non sequence type is deprecated since 3.7 and will be remove two minor releases later\n",
            "  line_vertical.set_xdata(bitcoin_df['ds'][end_idx])  #line_vertical의 x 데이터를 변경한다. bitcoin_df의 y 열에서 end_idx에 해당하는 행의 값을 가져오는것이다.\n"
          ]
        },
        {
          "output_type": "stream",
          "name": "stdout",
          "text": [
            "1/1 [==============================] - 0s 18ms/step - loss: 0.0116\n",
            "1/1 [==============================] - 0s 27ms/step\n"
          ]
        },
        {
          "output_type": "stream",
          "name": "stderr",
          "text": [
            "<ipython-input-12-62fb44db4d1e>:54: MatplotlibDeprecationWarning: Setting data with a non sequence type is deprecated since 3.7 and will be remove two minor releases later\n",
            "  line_forecast.set_data(bitcoin_df['ds'][end_idx], predicted[0][0])  # line_forecast의 데이터를 bitcoin_df의 ds열에서 선택한 데이터와 predicted의 예측값으로 설정하여 그래프의 예측 선을 새로운 데이터로 업데이트 하는 것이다\n",
            "<ipython-input-12-62fb44db4d1e>:29: MatplotlibDeprecationWarning: Setting data with a non sequence type is deprecated since 3.7 and will be remove two minor releases later\n",
            "  line_vertical.set_xdata(bitcoin_df['ds'][end_idx])  #line_vertical의 x 데이터를 변경한다. bitcoin_df의 y 열에서 end_idx에 해당하는 행의 값을 가져오는것이다.\n"
          ]
        },
        {
          "output_type": "stream",
          "name": "stdout",
          "text": [
            "1/1 [==============================] - 0s 9ms/step - loss: 0.0063\n",
            "1/1 [==============================] - 0s 27ms/step\n"
          ]
        },
        {
          "output_type": "stream",
          "name": "stderr",
          "text": [
            "<ipython-input-12-62fb44db4d1e>:54: MatplotlibDeprecationWarning: Setting data with a non sequence type is deprecated since 3.7 and will be remove two minor releases later\n",
            "  line_forecast.set_data(bitcoin_df['ds'][end_idx], predicted[0][0])  # line_forecast의 데이터를 bitcoin_df의 ds열에서 선택한 데이터와 predicted의 예측값으로 설정하여 그래프의 예측 선을 새로운 데이터로 업데이트 하는 것이다\n",
            "<ipython-input-12-62fb44db4d1e>:29: MatplotlibDeprecationWarning: Setting data with a non sequence type is deprecated since 3.7 and will be remove two minor releases later\n",
            "  line_vertical.set_xdata(bitcoin_df['ds'][end_idx])  #line_vertical의 x 데이터를 변경한다. bitcoin_df의 y 열에서 end_idx에 해당하는 행의 값을 가져오는것이다.\n"
          ]
        },
        {
          "output_type": "stream",
          "name": "stdout",
          "text": [
            "1/1 [==============================] - 0s 15ms/step - loss: 9.8386e-04\n",
            "1/1 [==============================] - 0s 24ms/step\n"
          ]
        },
        {
          "output_type": "stream",
          "name": "stderr",
          "text": [
            "<ipython-input-12-62fb44db4d1e>:54: MatplotlibDeprecationWarning: Setting data with a non sequence type is deprecated since 3.7 and will be remove two minor releases later\n",
            "  line_forecast.set_data(bitcoin_df['ds'][end_idx], predicted[0][0])  # line_forecast의 데이터를 bitcoin_df의 ds열에서 선택한 데이터와 predicted의 예측값으로 설정하여 그래프의 예측 선을 새로운 데이터로 업데이트 하는 것이다\n",
            "<ipython-input-12-62fb44db4d1e>:29: MatplotlibDeprecationWarning: Setting data with a non sequence type is deprecated since 3.7 and will be remove two minor releases later\n",
            "  line_vertical.set_xdata(bitcoin_df['ds'][end_idx])  #line_vertical의 x 데이터를 변경한다. bitcoin_df의 y 열에서 end_idx에 해당하는 행의 값을 가져오는것이다.\n"
          ]
        },
        {
          "output_type": "stream",
          "name": "stdout",
          "text": [
            "1/1 [==============================] - 0s 10ms/step - loss: 2.7783e-04\n",
            "1/1 [==============================] - 0s 24ms/step\n"
          ]
        },
        {
          "output_type": "stream",
          "name": "stderr",
          "text": [
            "<ipython-input-12-62fb44db4d1e>:54: MatplotlibDeprecationWarning: Setting data with a non sequence type is deprecated since 3.7 and will be remove two minor releases later\n",
            "  line_forecast.set_data(bitcoin_df['ds'][end_idx], predicted[0][0])  # line_forecast의 데이터를 bitcoin_df의 ds열에서 선택한 데이터와 predicted의 예측값으로 설정하여 그래프의 예측 선을 새로운 데이터로 업데이트 하는 것이다\n",
            "<ipython-input-12-62fb44db4d1e>:29: MatplotlibDeprecationWarning: Setting data with a non sequence type is deprecated since 3.7 and will be remove two minor releases later\n",
            "  line_vertical.set_xdata(bitcoin_df['ds'][end_idx])  #line_vertical의 x 데이터를 변경한다. bitcoin_df의 y 열에서 end_idx에 해당하는 행의 값을 가져오는것이다.\n"
          ]
        },
        {
          "output_type": "stream",
          "name": "stdout",
          "text": [
            "1/1 [==============================] - 0s 18ms/step - loss: 0.0086\n",
            "1/1 [==============================] - 0s 25ms/step\n",
            "1/1 [==============================] - 0s 11ms/step - loss: 0.0041\n"
          ]
        },
        {
          "output_type": "stream",
          "name": "stderr",
          "text": [
            "<ipython-input-12-62fb44db4d1e>:54: MatplotlibDeprecationWarning: Setting data with a non sequence type is deprecated since 3.7 and will be remove two minor releases later\n",
            "  line_forecast.set_data(bitcoin_df['ds'][end_idx], predicted[0][0])  # line_forecast의 데이터를 bitcoin_df의 ds열에서 선택한 데이터와 predicted의 예측값으로 설정하여 그래프의 예측 선을 새로운 데이터로 업데이트 하는 것이다\n",
            "<ipython-input-12-62fb44db4d1e>:29: MatplotlibDeprecationWarning: Setting data with a non sequence type is deprecated since 3.7 and will be remove two minor releases later\n",
            "  line_vertical.set_xdata(bitcoin_df['ds'][end_idx])  #line_vertical의 x 데이터를 변경한다. bitcoin_df의 y 열에서 end_idx에 해당하는 행의 값을 가져오는것이다.\n"
          ]
        },
        {
          "output_type": "stream",
          "name": "stdout",
          "text": [
            "1/1 [==============================] - 0s 23ms/step\n"
          ]
        },
        {
          "output_type": "stream",
          "name": "stderr",
          "text": [
            "<ipython-input-12-62fb44db4d1e>:54: MatplotlibDeprecationWarning: Setting data with a non sequence type is deprecated since 3.7 and will be remove two minor releases later\n",
            "  line_forecast.set_data(bitcoin_df['ds'][end_idx], predicted[0][0])  # line_forecast의 데이터를 bitcoin_df의 ds열에서 선택한 데이터와 predicted의 예측값으로 설정하여 그래프의 예측 선을 새로운 데이터로 업데이트 하는 것이다\n",
            "<ipython-input-12-62fb44db4d1e>:29: MatplotlibDeprecationWarning: Setting data with a non sequence type is deprecated since 3.7 and will be remove two minor releases later\n",
            "  line_vertical.set_xdata(bitcoin_df['ds'][end_idx])  #line_vertical의 x 데이터를 변경한다. bitcoin_df의 y 열에서 end_idx에 해당하는 행의 값을 가져오는것이다.\n"
          ]
        },
        {
          "output_type": "stream",
          "name": "stdout",
          "text": [
            "1/1 [==============================] - 0s 16ms/step - loss: 0.0069\n",
            "1/1 [==============================] - 0s 29ms/step\n"
          ]
        },
        {
          "output_type": "stream",
          "name": "stderr",
          "text": [
            "<ipython-input-12-62fb44db4d1e>:54: MatplotlibDeprecationWarning: Setting data with a non sequence type is deprecated since 3.7 and will be remove two minor releases later\n",
            "  line_forecast.set_data(bitcoin_df['ds'][end_idx], predicted[0][0])  # line_forecast의 데이터를 bitcoin_df의 ds열에서 선택한 데이터와 predicted의 예측값으로 설정하여 그래프의 예측 선을 새로운 데이터로 업데이트 하는 것이다\n",
            "<ipython-input-12-62fb44db4d1e>:29: MatplotlibDeprecationWarning: Setting data with a non sequence type is deprecated since 3.7 and will be remove two minor releases later\n",
            "  line_vertical.set_xdata(bitcoin_df['ds'][end_idx])  #line_vertical의 x 데이터를 변경한다. bitcoin_df의 y 열에서 end_idx에 해당하는 행의 값을 가져오는것이다.\n"
          ]
        },
        {
          "output_type": "stream",
          "name": "stdout",
          "text": [
            "1/1 [==============================] - 0s 10ms/step - loss: 0.0032\n",
            "1/1 [==============================] - 0s 22ms/step\n"
          ]
        },
        {
          "output_type": "stream",
          "name": "stderr",
          "text": [
            "<ipython-input-12-62fb44db4d1e>:54: MatplotlibDeprecationWarning: Setting data with a non sequence type is deprecated since 3.7 and will be remove two minor releases later\n",
            "  line_forecast.set_data(bitcoin_df['ds'][end_idx], predicted[0][0])  # line_forecast의 데이터를 bitcoin_df의 ds열에서 선택한 데이터와 predicted의 예측값으로 설정하여 그래프의 예측 선을 새로운 데이터로 업데이트 하는 것이다\n",
            "<ipython-input-12-62fb44db4d1e>:29: MatplotlibDeprecationWarning: Setting data with a non sequence type is deprecated since 3.7 and will be remove two minor releases later\n",
            "  line_vertical.set_xdata(bitcoin_df['ds'][end_idx])  #line_vertical의 x 데이터를 변경한다. bitcoin_df의 y 열에서 end_idx에 해당하는 행의 값을 가져오는것이다.\n"
          ]
        },
        {
          "output_type": "stream",
          "name": "stdout",
          "text": [
            "1/1 [==============================] - 0s 14ms/step - loss: 0.0027\n",
            "1/1 [==============================] - 0s 24ms/step\n"
          ]
        },
        {
          "output_type": "stream",
          "name": "stderr",
          "text": [
            "<ipython-input-12-62fb44db4d1e>:54: MatplotlibDeprecationWarning: Setting data with a non sequence type is deprecated since 3.7 and will be remove two minor releases later\n",
            "  line_forecast.set_data(bitcoin_df['ds'][end_idx], predicted[0][0])  # line_forecast의 데이터를 bitcoin_df의 ds열에서 선택한 데이터와 predicted의 예측값으로 설정하여 그래프의 예측 선을 새로운 데이터로 업데이트 하는 것이다\n",
            "<ipython-input-12-62fb44db4d1e>:29: MatplotlibDeprecationWarning: Setting data with a non sequence type is deprecated since 3.7 and will be remove two minor releases later\n",
            "  line_vertical.set_xdata(bitcoin_df['ds'][end_idx])  #line_vertical의 x 데이터를 변경한다. bitcoin_df의 y 열에서 end_idx에 해당하는 행의 값을 가져오는것이다.\n"
          ]
        },
        {
          "output_type": "stream",
          "name": "stdout",
          "text": [
            "1/1 [==============================] - 0s 12ms/step - loss: 0.0058\n",
            "1/1 [==============================] - 0s 23ms/step\n"
          ]
        },
        {
          "output_type": "stream",
          "name": "stderr",
          "text": [
            "<ipython-input-12-62fb44db4d1e>:54: MatplotlibDeprecationWarning: Setting data with a non sequence type is deprecated since 3.7 and will be remove two minor releases later\n",
            "  line_forecast.set_data(bitcoin_df['ds'][end_idx], predicted[0][0])  # line_forecast의 데이터를 bitcoin_df의 ds열에서 선택한 데이터와 predicted의 예측값으로 설정하여 그래프의 예측 선을 새로운 데이터로 업데이트 하는 것이다\n",
            "<ipython-input-12-62fb44db4d1e>:29: MatplotlibDeprecationWarning: Setting data with a non sequence type is deprecated since 3.7 and will be remove two minor releases later\n",
            "  line_vertical.set_xdata(bitcoin_df['ds'][end_idx])  #line_vertical의 x 데이터를 변경한다. bitcoin_df의 y 열에서 end_idx에 해당하는 행의 값을 가져오는것이다.\n"
          ]
        },
        {
          "output_type": "stream",
          "name": "stdout",
          "text": [
            "1/1 [==============================] - 0s 14ms/step - loss: 0.0212\n",
            "1/1 [==============================] - 0s 26ms/step\n"
          ]
        },
        {
          "output_type": "stream",
          "name": "stderr",
          "text": [
            "<ipython-input-12-62fb44db4d1e>:54: MatplotlibDeprecationWarning: Setting data with a non sequence type is deprecated since 3.7 and will be remove two minor releases later\n",
            "  line_forecast.set_data(bitcoin_df['ds'][end_idx], predicted[0][0])  # line_forecast의 데이터를 bitcoin_df의 ds열에서 선택한 데이터와 predicted의 예측값으로 설정하여 그래프의 예측 선을 새로운 데이터로 업데이트 하는 것이다\n",
            "<ipython-input-12-62fb44db4d1e>:29: MatplotlibDeprecationWarning: Setting data with a non sequence type is deprecated since 3.7 and will be remove two minor releases later\n",
            "  line_vertical.set_xdata(bitcoin_df['ds'][end_idx])  #line_vertical의 x 데이터를 변경한다. bitcoin_df의 y 열에서 end_idx에 해당하는 행의 값을 가져오는것이다.\n"
          ]
        },
        {
          "output_type": "stream",
          "name": "stdout",
          "text": [
            "1/1 [==============================] - 0s 13ms/step - loss: 0.0076\n",
            "1/1 [==============================] - 0s 24ms/step\n"
          ]
        },
        {
          "output_type": "stream",
          "name": "stderr",
          "text": [
            "<ipython-input-12-62fb44db4d1e>:54: MatplotlibDeprecationWarning: Setting data with a non sequence type is deprecated since 3.7 and will be remove two minor releases later\n",
            "  line_forecast.set_data(bitcoin_df['ds'][end_idx], predicted[0][0])  # line_forecast의 데이터를 bitcoin_df의 ds열에서 선택한 데이터와 predicted의 예측값으로 설정하여 그래프의 예측 선을 새로운 데이터로 업데이트 하는 것이다\n",
            "<ipython-input-12-62fb44db4d1e>:29: MatplotlibDeprecationWarning: Setting data with a non sequence type is deprecated since 3.7 and will be remove two minor releases later\n",
            "  line_vertical.set_xdata(bitcoin_df['ds'][end_idx])  #line_vertical의 x 데이터를 변경한다. bitcoin_df의 y 열에서 end_idx에 해당하는 행의 값을 가져오는것이다.\n"
          ]
        },
        {
          "output_type": "stream",
          "name": "stdout",
          "text": [
            "1/1 [==============================] - 0s 15ms/step - loss: 0.0071\n",
            "1/1 [==============================] - 0s 23ms/step\n"
          ]
        },
        {
          "output_type": "stream",
          "name": "stderr",
          "text": [
            "<ipython-input-12-62fb44db4d1e>:54: MatplotlibDeprecationWarning: Setting data with a non sequence type is deprecated since 3.7 and will be remove two minor releases later\n",
            "  line_forecast.set_data(bitcoin_df['ds'][end_idx], predicted[0][0])  # line_forecast의 데이터를 bitcoin_df의 ds열에서 선택한 데이터와 predicted의 예측값으로 설정하여 그래프의 예측 선을 새로운 데이터로 업데이트 하는 것이다\n",
            "<ipython-input-12-62fb44db4d1e>:29: MatplotlibDeprecationWarning: Setting data with a non sequence type is deprecated since 3.7 and will be remove two minor releases later\n",
            "  line_vertical.set_xdata(bitcoin_df['ds'][end_idx])  #line_vertical의 x 데이터를 변경한다. bitcoin_df의 y 열에서 end_idx에 해당하는 행의 값을 가져오는것이다.\n"
          ]
        },
        {
          "output_type": "stream",
          "name": "stdout",
          "text": [
            "1/1 [==============================] - 0s 10ms/step - loss: 5.0981e-04\n",
            "1/1 [==============================] - 0s 24ms/step\n"
          ]
        },
        {
          "output_type": "stream",
          "name": "stderr",
          "text": [
            "<ipython-input-12-62fb44db4d1e>:54: MatplotlibDeprecationWarning: Setting data with a non sequence type is deprecated since 3.7 and will be remove two minor releases later\n",
            "  line_forecast.set_data(bitcoin_df['ds'][end_idx], predicted[0][0])  # line_forecast의 데이터를 bitcoin_df의 ds열에서 선택한 데이터와 predicted의 예측값으로 설정하여 그래프의 예측 선을 새로운 데이터로 업데이트 하는 것이다\n",
            "<ipython-input-12-62fb44db4d1e>:29: MatplotlibDeprecationWarning: Setting data with a non sequence type is deprecated since 3.7 and will be remove two minor releases later\n",
            "  line_vertical.set_xdata(bitcoin_df['ds'][end_idx])  #line_vertical의 x 데이터를 변경한다. bitcoin_df의 y 열에서 end_idx에 해당하는 행의 값을 가져오는것이다.\n"
          ]
        },
        {
          "output_type": "stream",
          "name": "stdout",
          "text": [
            "1/1 [==============================] - 0s 11ms/step - loss: 9.0670e-05\n",
            "1/1 [==============================] - 0s 25ms/step\n"
          ]
        },
        {
          "output_type": "stream",
          "name": "stderr",
          "text": [
            "<ipython-input-12-62fb44db4d1e>:54: MatplotlibDeprecationWarning: Setting data with a non sequence type is deprecated since 3.7 and will be remove two minor releases later\n",
            "  line_forecast.set_data(bitcoin_df['ds'][end_idx], predicted[0][0])  # line_forecast의 데이터를 bitcoin_df의 ds열에서 선택한 데이터와 predicted의 예측값으로 설정하여 그래프의 예측 선을 새로운 데이터로 업데이트 하는 것이다\n",
            "<ipython-input-12-62fb44db4d1e>:29: MatplotlibDeprecationWarning: Setting data with a non sequence type is deprecated since 3.7 and will be remove two minor releases later\n",
            "  line_vertical.set_xdata(bitcoin_df['ds'][end_idx])  #line_vertical의 x 데이터를 변경한다. bitcoin_df의 y 열에서 end_idx에 해당하는 행의 값을 가져오는것이다.\n"
          ]
        },
        {
          "output_type": "stream",
          "name": "stdout",
          "text": [
            "1/1 [==============================] - 0s 17ms/step - loss: 0.0050\n",
            "1/1 [==============================] - 0s 23ms/step\n"
          ]
        },
        {
          "output_type": "stream",
          "name": "stderr",
          "text": [
            "<ipython-input-12-62fb44db4d1e>:54: MatplotlibDeprecationWarning: Setting data with a non sequence type is deprecated since 3.7 and will be remove two minor releases later\n",
            "  line_forecast.set_data(bitcoin_df['ds'][end_idx], predicted[0][0])  # line_forecast의 데이터를 bitcoin_df의 ds열에서 선택한 데이터와 predicted의 예측값으로 설정하여 그래프의 예측 선을 새로운 데이터로 업데이트 하는 것이다\n",
            "<ipython-input-12-62fb44db4d1e>:29: MatplotlibDeprecationWarning: Setting data with a non sequence type is deprecated since 3.7 and will be remove two minor releases later\n",
            "  line_vertical.set_xdata(bitcoin_df['ds'][end_idx])  #line_vertical의 x 데이터를 변경한다. bitcoin_df의 y 열에서 end_idx에 해당하는 행의 값을 가져오는것이다.\n"
          ]
        },
        {
          "output_type": "stream",
          "name": "stdout",
          "text": [
            "1/1 [==============================] - 0s 10ms/step - loss: 1.5274e-04\n",
            "1/1 [==============================] - 0s 24ms/step\n"
          ]
        },
        {
          "output_type": "stream",
          "name": "stderr",
          "text": [
            "<ipython-input-12-62fb44db4d1e>:54: MatplotlibDeprecationWarning: Setting data with a non sequence type is deprecated since 3.7 and will be remove two minor releases later\n",
            "  line_forecast.set_data(bitcoin_df['ds'][end_idx], predicted[0][0])  # line_forecast의 데이터를 bitcoin_df의 ds열에서 선택한 데이터와 predicted의 예측값으로 설정하여 그래프의 예측 선을 새로운 데이터로 업데이트 하는 것이다\n",
            "<ipython-input-12-62fb44db4d1e>:29: MatplotlibDeprecationWarning: Setting data with a non sequence type is deprecated since 3.7 and will be remove two minor releases later\n",
            "  line_vertical.set_xdata(bitcoin_df['ds'][end_idx])  #line_vertical의 x 데이터를 변경한다. bitcoin_df의 y 열에서 end_idx에 해당하는 행의 값을 가져오는것이다.\n"
          ]
        },
        {
          "output_type": "stream",
          "name": "stdout",
          "text": [
            "1/1 [==============================] - 0s 12ms/step - loss: 0.0030\n",
            "1/1 [==============================] - 0s 27ms/step\n"
          ]
        },
        {
          "output_type": "stream",
          "name": "stderr",
          "text": [
            "<ipython-input-12-62fb44db4d1e>:54: MatplotlibDeprecationWarning: Setting data with a non sequence type is deprecated since 3.7 and will be remove two minor releases later\n",
            "  line_forecast.set_data(bitcoin_df['ds'][end_idx], predicted[0][0])  # line_forecast의 데이터를 bitcoin_df의 ds열에서 선택한 데이터와 predicted의 예측값으로 설정하여 그래프의 예측 선을 새로운 데이터로 업데이트 하는 것이다\n",
            "<ipython-input-12-62fb44db4d1e>:29: MatplotlibDeprecationWarning: Setting data with a non sequence type is deprecated since 3.7 and will be remove two minor releases later\n",
            "  line_vertical.set_xdata(bitcoin_df['ds'][end_idx])  #line_vertical의 x 데이터를 변경한다. bitcoin_df의 y 열에서 end_idx에 해당하는 행의 값을 가져오는것이다.\n"
          ]
        },
        {
          "output_type": "stream",
          "name": "stdout",
          "text": [
            "1/1 [==============================] - 0s 13ms/step - loss: 0.0015\n",
            "1/1 [==============================] - 0s 24ms/step\n"
          ]
        },
        {
          "output_type": "stream",
          "name": "stderr",
          "text": [
            "<ipython-input-12-62fb44db4d1e>:54: MatplotlibDeprecationWarning: Setting data with a non sequence type is deprecated since 3.7 and will be remove two minor releases later\n",
            "  line_forecast.set_data(bitcoin_df['ds'][end_idx], predicted[0][0])  # line_forecast의 데이터를 bitcoin_df의 ds열에서 선택한 데이터와 predicted의 예측값으로 설정하여 그래프의 예측 선을 새로운 데이터로 업데이트 하는 것이다\n",
            "<ipython-input-12-62fb44db4d1e>:29: MatplotlibDeprecationWarning: Setting data with a non sequence type is deprecated since 3.7 and will be remove two minor releases later\n",
            "  line_vertical.set_xdata(bitcoin_df['ds'][end_idx])  #line_vertical의 x 데이터를 변경한다. bitcoin_df의 y 열에서 end_idx에 해당하는 행의 값을 가져오는것이다.\n"
          ]
        },
        {
          "output_type": "stream",
          "name": "stdout",
          "text": [
            "1/1 [==============================] - 0s 20ms/step - loss: 0.0064\n",
            "1/1 [==============================] - 0s 42ms/step\n"
          ]
        },
        {
          "output_type": "stream",
          "name": "stderr",
          "text": [
            "<ipython-input-12-62fb44db4d1e>:54: MatplotlibDeprecationWarning: Setting data with a non sequence type is deprecated since 3.7 and will be remove two minor releases later\n",
            "  line_forecast.set_data(bitcoin_df['ds'][end_idx], predicted[0][0])  # line_forecast의 데이터를 bitcoin_df의 ds열에서 선택한 데이터와 predicted의 예측값으로 설정하여 그래프의 예측 선을 새로운 데이터로 업데이트 하는 것이다\n"
          ]
        },
        {
          "output_type": "stream",
          "name": "stdout",
          "text": [
            "1/1 [==============================] - 0s 13ms/step - loss: 0.0073\n"
          ]
        },
        {
          "output_type": "stream",
          "name": "stderr",
          "text": [
            "<ipython-input-12-62fb44db4d1e>:29: MatplotlibDeprecationWarning: Setting data with a non sequence type is deprecated since 3.7 and will be remove two minor releases later\n",
            "  line_vertical.set_xdata(bitcoin_df['ds'][end_idx])  #line_vertical의 x 데이터를 변경한다. bitcoin_df의 y 열에서 end_idx에 해당하는 행의 값을 가져오는것이다.\n"
          ]
        },
        {
          "output_type": "stream",
          "name": "stdout",
          "text": [
            "1/1 [==============================] - 0s 39ms/step\n"
          ]
        },
        {
          "output_type": "stream",
          "name": "stderr",
          "text": [
            "<ipython-input-12-62fb44db4d1e>:54: MatplotlibDeprecationWarning: Setting data with a non sequence type is deprecated since 3.7 and will be remove two minor releases later\n",
            "  line_forecast.set_data(bitcoin_df['ds'][end_idx], predicted[0][0])  # line_forecast의 데이터를 bitcoin_df의 ds열에서 선택한 데이터와 predicted의 예측값으로 설정하여 그래프의 예측 선을 새로운 데이터로 업데이트 하는 것이다\n"
          ]
        },
        {
          "output_type": "stream",
          "name": "stdout",
          "text": [
            "1/1 [==============================] - 0s 16ms/step - loss: 0.0042\n"
          ]
        },
        {
          "output_type": "stream",
          "name": "stderr",
          "text": [
            "<ipython-input-12-62fb44db4d1e>:29: MatplotlibDeprecationWarning: Setting data with a non sequence type is deprecated since 3.7 and will be remove two minor releases later\n",
            "  line_vertical.set_xdata(bitcoin_df['ds'][end_idx])  #line_vertical의 x 데이터를 변경한다. bitcoin_df의 y 열에서 end_idx에 해당하는 행의 값을 가져오는것이다.\n"
          ]
        },
        {
          "output_type": "stream",
          "name": "stdout",
          "text": [
            "1/1 [==============================] - 0s 36ms/step\n"
          ]
        },
        {
          "output_type": "stream",
          "name": "stderr",
          "text": [
            "<ipython-input-12-62fb44db4d1e>:54: MatplotlibDeprecationWarning: Setting data with a non sequence type is deprecated since 3.7 and will be remove two minor releases later\n",
            "  line_forecast.set_data(bitcoin_df['ds'][end_idx], predicted[0][0])  # line_forecast의 데이터를 bitcoin_df의 ds열에서 선택한 데이터와 predicted의 예측값으로 설정하여 그래프의 예측 선을 새로운 데이터로 업데이트 하는 것이다\n"
          ]
        },
        {
          "output_type": "stream",
          "name": "stdout",
          "text": [
            "1/1 [==============================] - 0s 21ms/step - loss: 0.0144\n"
          ]
        },
        {
          "output_type": "stream",
          "name": "stderr",
          "text": [
            "<ipython-input-12-62fb44db4d1e>:29: MatplotlibDeprecationWarning: Setting data with a non sequence type is deprecated since 3.7 and will be remove two minor releases later\n",
            "  line_vertical.set_xdata(bitcoin_df['ds'][end_idx])  #line_vertical의 x 데이터를 변경한다. bitcoin_df의 y 열에서 end_idx에 해당하는 행의 값을 가져오는것이다.\n"
          ]
        },
        {
          "output_type": "stream",
          "name": "stdout",
          "text": [
            "1/1 [==============================] - 0s 39ms/step\n"
          ]
        },
        {
          "output_type": "stream",
          "name": "stderr",
          "text": [
            "<ipython-input-12-62fb44db4d1e>:54: MatplotlibDeprecationWarning: Setting data with a non sequence type is deprecated since 3.7 and will be remove two minor releases later\n",
            "  line_forecast.set_data(bitcoin_df['ds'][end_idx], predicted[0][0])  # line_forecast의 데이터를 bitcoin_df의 ds열에서 선택한 데이터와 predicted의 예측값으로 설정하여 그래프의 예측 선을 새로운 데이터로 업데이트 하는 것이다\n",
            "<ipython-input-12-62fb44db4d1e>:29: MatplotlibDeprecationWarning: Setting data with a non sequence type is deprecated since 3.7 and will be remove two minor releases later\n",
            "  line_vertical.set_xdata(bitcoin_df['ds'][end_idx])  #line_vertical의 x 데이터를 변경한다. bitcoin_df의 y 열에서 end_idx에 해당하는 행의 값을 가져오는것이다.\n"
          ]
        },
        {
          "output_type": "stream",
          "name": "stdout",
          "text": [
            "1/1 [==============================] - 0s 12ms/step - loss: 0.0208\n",
            "1/1 [==============================] - 0s 34ms/step\n"
          ]
        },
        {
          "output_type": "stream",
          "name": "stderr",
          "text": [
            "<ipython-input-12-62fb44db4d1e>:54: MatplotlibDeprecationWarning: Setting data with a non sequence type is deprecated since 3.7 and will be remove two minor releases later\n",
            "  line_forecast.set_data(bitcoin_df['ds'][end_idx], predicted[0][0])  # line_forecast의 데이터를 bitcoin_df의 ds열에서 선택한 데이터와 predicted의 예측값으로 설정하여 그래프의 예측 선을 새로운 데이터로 업데이트 하는 것이다\n"
          ]
        },
        {
          "output_type": "stream",
          "name": "stdout",
          "text": [
            "1/1 [==============================] - 0s 22ms/step - loss: 0.0135\n"
          ]
        },
        {
          "output_type": "stream",
          "name": "stderr",
          "text": [
            "<ipython-input-12-62fb44db4d1e>:29: MatplotlibDeprecationWarning: Setting data with a non sequence type is deprecated since 3.7 and will be remove two minor releases later\n",
            "  line_vertical.set_xdata(bitcoin_df['ds'][end_idx])  #line_vertical의 x 데이터를 변경한다. bitcoin_df의 y 열에서 end_idx에 해당하는 행의 값을 가져오는것이다.\n"
          ]
        },
        {
          "output_type": "stream",
          "name": "stdout",
          "text": [
            "1/1 [==============================] - 0s 45ms/step\n"
          ]
        },
        {
          "output_type": "stream",
          "name": "stderr",
          "text": [
            "<ipython-input-12-62fb44db4d1e>:54: MatplotlibDeprecationWarning: Setting data with a non sequence type is deprecated since 3.7 and will be remove two minor releases later\n",
            "  line_forecast.set_data(bitcoin_df['ds'][end_idx], predicted[0][0])  # line_forecast의 데이터를 bitcoin_df의 ds열에서 선택한 데이터와 predicted의 예측값으로 설정하여 그래프의 예측 선을 새로운 데이터로 업데이트 하는 것이다\n"
          ]
        },
        {
          "output_type": "stream",
          "name": "stdout",
          "text": [
            "1/1 [==============================] - 0s 18ms/step - loss: 0.0061\n"
          ]
        },
        {
          "output_type": "stream",
          "name": "stderr",
          "text": [
            "<ipython-input-12-62fb44db4d1e>:29: MatplotlibDeprecationWarning: Setting data with a non sequence type is deprecated since 3.7 and will be remove two minor releases later\n",
            "  line_vertical.set_xdata(bitcoin_df['ds'][end_idx])  #line_vertical의 x 데이터를 변경한다. bitcoin_df의 y 열에서 end_idx에 해당하는 행의 값을 가져오는것이다.\n"
          ]
        },
        {
          "output_type": "stream",
          "name": "stdout",
          "text": [
            "1/1 [==============================] - 0s 43ms/step\n"
          ]
        },
        {
          "output_type": "stream",
          "name": "stderr",
          "text": [
            "<ipython-input-12-62fb44db4d1e>:54: MatplotlibDeprecationWarning: Setting data with a non sequence type is deprecated since 3.7 and will be remove two minor releases later\n",
            "  line_forecast.set_data(bitcoin_df['ds'][end_idx], predicted[0][0])  # line_forecast의 데이터를 bitcoin_df의 ds열에서 선택한 데이터와 predicted의 예측값으로 설정하여 그래프의 예측 선을 새로운 데이터로 업데이트 하는 것이다\n",
            "<ipython-input-12-62fb44db4d1e>:29: MatplotlibDeprecationWarning: Setting data with a non sequence type is deprecated since 3.7 and will be remove two minor releases later\n",
            "  line_vertical.set_xdata(bitcoin_df['ds'][end_idx])  #line_vertical의 x 데이터를 변경한다. bitcoin_df의 y 열에서 end_idx에 해당하는 행의 값을 가져오는것이다.\n"
          ]
        },
        {
          "output_type": "stream",
          "name": "stdout",
          "text": [
            "1/1 [==============================] - 0s 14ms/step - loss: 0.0013\n",
            "1/1 [==============================] - 0s 34ms/step\n"
          ]
        },
        {
          "output_type": "stream",
          "name": "stderr",
          "text": [
            "<ipython-input-12-62fb44db4d1e>:54: MatplotlibDeprecationWarning: Setting data with a non sequence type is deprecated since 3.7 and will be remove two minor releases later\n",
            "  line_forecast.set_data(bitcoin_df['ds'][end_idx], predicted[0][0])  # line_forecast의 데이터를 bitcoin_df의 ds열에서 선택한 데이터와 predicted의 예측값으로 설정하여 그래프의 예측 선을 새로운 데이터로 업데이트 하는 것이다\n"
          ]
        },
        {
          "output_type": "stream",
          "name": "stdout",
          "text": [
            "1/1 [==============================] - 0s 14ms/step - loss: 3.6412e-04\n"
          ]
        },
        {
          "output_type": "stream",
          "name": "stderr",
          "text": [
            "<ipython-input-12-62fb44db4d1e>:29: MatplotlibDeprecationWarning: Setting data with a non sequence type is deprecated since 3.7 and will be remove two minor releases later\n",
            "  line_vertical.set_xdata(bitcoin_df['ds'][end_idx])  #line_vertical의 x 데이터를 변경한다. bitcoin_df의 y 열에서 end_idx에 해당하는 행의 값을 가져오는것이다.\n"
          ]
        },
        {
          "output_type": "stream",
          "name": "stdout",
          "text": [
            "1/1 [==============================] - 0s 41ms/step\n"
          ]
        },
        {
          "output_type": "stream",
          "name": "stderr",
          "text": [
            "<ipython-input-12-62fb44db4d1e>:54: MatplotlibDeprecationWarning: Setting data with a non sequence type is deprecated since 3.7 and will be remove two minor releases later\n",
            "  line_forecast.set_data(bitcoin_df['ds'][end_idx], predicted[0][0])  # line_forecast의 데이터를 bitcoin_df의 ds열에서 선택한 데이터와 predicted의 예측값으로 설정하여 그래프의 예측 선을 새로운 데이터로 업데이트 하는 것이다\n"
          ]
        },
        {
          "output_type": "stream",
          "name": "stdout",
          "text": [
            "1/1 [==============================] - 0s 17ms/step - loss: 1.2607e-04\n"
          ]
        },
        {
          "output_type": "stream",
          "name": "stderr",
          "text": [
            "<ipython-input-12-62fb44db4d1e>:29: MatplotlibDeprecationWarning: Setting data with a non sequence type is deprecated since 3.7 and will be remove two minor releases later\n",
            "  line_vertical.set_xdata(bitcoin_df['ds'][end_idx])  #line_vertical의 x 데이터를 변경한다. bitcoin_df의 y 열에서 end_idx에 해당하는 행의 값을 가져오는것이다.\n"
          ]
        },
        {
          "output_type": "stream",
          "name": "stdout",
          "text": [
            "1/1 [==============================] - 0s 37ms/step\n"
          ]
        },
        {
          "output_type": "stream",
          "name": "stderr",
          "text": [
            "<ipython-input-12-62fb44db4d1e>:54: MatplotlibDeprecationWarning: Setting data with a non sequence type is deprecated since 3.7 and will be remove two minor releases later\n",
            "  line_forecast.set_data(bitcoin_df['ds'][end_idx], predicted[0][0])  # line_forecast의 데이터를 bitcoin_df의 ds열에서 선택한 데이터와 predicted의 예측값으로 설정하여 그래프의 예측 선을 새로운 데이터로 업데이트 하는 것이다\n"
          ]
        },
        {
          "output_type": "stream",
          "name": "stdout",
          "text": [
            "1/1 [==============================] - 0s 21ms/step - loss: 0.0024\n"
          ]
        },
        {
          "output_type": "stream",
          "name": "stderr",
          "text": [
            "<ipython-input-12-62fb44db4d1e>:29: MatplotlibDeprecationWarning: Setting data with a non sequence type is deprecated since 3.7 and will be remove two minor releases later\n",
            "  line_vertical.set_xdata(bitcoin_df['ds'][end_idx])  #line_vertical의 x 데이터를 변경한다. bitcoin_df의 y 열에서 end_idx에 해당하는 행의 값을 가져오는것이다.\n"
          ]
        },
        {
          "output_type": "stream",
          "name": "stdout",
          "text": [
            "1/1 [==============================] - 0s 47ms/step\n"
          ]
        },
        {
          "output_type": "stream",
          "name": "stderr",
          "text": [
            "<ipython-input-12-62fb44db4d1e>:54: MatplotlibDeprecationWarning: Setting data with a non sequence type is deprecated since 3.7 and will be remove two minor releases later\n",
            "  line_forecast.set_data(bitcoin_df['ds'][end_idx], predicted[0][0])  # line_forecast의 데이터를 bitcoin_df의 ds열에서 선택한 데이터와 predicted의 예측값으로 설정하여 그래프의 예측 선을 새로운 데이터로 업데이트 하는 것이다\n",
            "<ipython-input-12-62fb44db4d1e>:29: MatplotlibDeprecationWarning: Setting data with a non sequence type is deprecated since 3.7 and will be remove two minor releases later\n",
            "  line_vertical.set_xdata(bitcoin_df['ds'][end_idx])  #line_vertical의 x 데이터를 변경한다. bitcoin_df의 y 열에서 end_idx에 해당하는 행의 값을 가져오는것이다.\n"
          ]
        },
        {
          "output_type": "stream",
          "name": "stdout",
          "text": [
            "1/1 [==============================] - 0s 12ms/step - loss: 0.0019\n",
            "1/1 [==============================] - 0s 24ms/step\n"
          ]
        },
        {
          "output_type": "stream",
          "name": "stderr",
          "text": [
            "<ipython-input-12-62fb44db4d1e>:54: MatplotlibDeprecationWarning: Setting data with a non sequence type is deprecated since 3.7 and will be remove two minor releases later\n",
            "  line_forecast.set_data(bitcoin_df['ds'][end_idx], predicted[0][0])  # line_forecast의 데이터를 bitcoin_df의 ds열에서 선택한 데이터와 predicted의 예측값으로 설정하여 그래프의 예측 선을 새로운 데이터로 업데이트 하는 것이다\n",
            "<ipython-input-12-62fb44db4d1e>:29: MatplotlibDeprecationWarning: Setting data with a non sequence type is deprecated since 3.7 and will be remove two minor releases later\n",
            "  line_vertical.set_xdata(bitcoin_df['ds'][end_idx])  #line_vertical의 x 데이터를 변경한다. bitcoin_df의 y 열에서 end_idx에 해당하는 행의 값을 가져오는것이다.\n"
          ]
        },
        {
          "output_type": "stream",
          "name": "stdout",
          "text": [
            "1/1 [==============================] - 0s 22ms/step - loss: 1.8636e-05\n",
            "1/1 [==============================] - 0s 25ms/step\n"
          ]
        },
        {
          "output_type": "stream",
          "name": "stderr",
          "text": [
            "<ipython-input-12-62fb44db4d1e>:54: MatplotlibDeprecationWarning: Setting data with a non sequence type is deprecated since 3.7 and will be remove two minor releases later\n",
            "  line_forecast.set_data(bitcoin_df['ds'][end_idx], predicted[0][0])  # line_forecast의 데이터를 bitcoin_df의 ds열에서 선택한 데이터와 predicted의 예측값으로 설정하여 그래프의 예측 선을 새로운 데이터로 업데이트 하는 것이다\n",
            "<ipython-input-12-62fb44db4d1e>:29: MatplotlibDeprecationWarning: Setting data with a non sequence type is deprecated since 3.7 and will be remove two minor releases later\n",
            "  line_vertical.set_xdata(bitcoin_df['ds'][end_idx])  #line_vertical의 x 데이터를 변경한다. bitcoin_df의 y 열에서 end_idx에 해당하는 행의 값을 가져오는것이다.\n"
          ]
        },
        {
          "output_type": "stream",
          "name": "stdout",
          "text": [
            "1/1 [==============================] - 0s 13ms/step - loss: 5.0671e-04\n",
            "1/1 [==============================] - 0s 25ms/step\n"
          ]
        },
        {
          "output_type": "stream",
          "name": "stderr",
          "text": [
            "<ipython-input-12-62fb44db4d1e>:54: MatplotlibDeprecationWarning: Setting data with a non sequence type is deprecated since 3.7 and will be remove two minor releases later\n",
            "  line_forecast.set_data(bitcoin_df['ds'][end_idx], predicted[0][0])  # line_forecast의 데이터를 bitcoin_df의 ds열에서 선택한 데이터와 predicted의 예측값으로 설정하여 그래프의 예측 선을 새로운 데이터로 업데이트 하는 것이다\n",
            "<ipython-input-12-62fb44db4d1e>:29: MatplotlibDeprecationWarning: Setting data with a non sequence type is deprecated since 3.7 and will be remove two minor releases later\n",
            "  line_vertical.set_xdata(bitcoin_df['ds'][end_idx])  #line_vertical의 x 데이터를 변경한다. bitcoin_df의 y 열에서 end_idx에 해당하는 행의 값을 가져오는것이다.\n"
          ]
        },
        {
          "output_type": "stream",
          "name": "stdout",
          "text": [
            "1/1 [==============================] - 0s 14ms/step - loss: 0.0023\n",
            "1/1 [==============================] - 0s 23ms/step\n"
          ]
        },
        {
          "output_type": "stream",
          "name": "stderr",
          "text": [
            "<ipython-input-12-62fb44db4d1e>:54: MatplotlibDeprecationWarning: Setting data with a non sequence type is deprecated since 3.7 and will be remove two minor releases later\n",
            "  line_forecast.set_data(bitcoin_df['ds'][end_idx], predicted[0][0])  # line_forecast의 데이터를 bitcoin_df의 ds열에서 선택한 데이터와 predicted의 예측값으로 설정하여 그래프의 예측 선을 새로운 데이터로 업데이트 하는 것이다\n",
            "<ipython-input-12-62fb44db4d1e>:29: MatplotlibDeprecationWarning: Setting data with a non sequence type is deprecated since 3.7 and will be remove two minor releases later\n",
            "  line_vertical.set_xdata(bitcoin_df['ds'][end_idx])  #line_vertical의 x 데이터를 변경한다. bitcoin_df의 y 열에서 end_idx에 해당하는 행의 값을 가져오는것이다.\n"
          ]
        },
        {
          "output_type": "stream",
          "name": "stdout",
          "text": [
            "1/1 [==============================] - 0s 9ms/step - loss: 0.0072\n",
            "1/1 [==============================] - 0s 24ms/step\n"
          ]
        },
        {
          "output_type": "stream",
          "name": "stderr",
          "text": [
            "<ipython-input-12-62fb44db4d1e>:54: MatplotlibDeprecationWarning: Setting data with a non sequence type is deprecated since 3.7 and will be remove two minor releases later\n",
            "  line_forecast.set_data(bitcoin_df['ds'][end_idx], predicted[0][0])  # line_forecast의 데이터를 bitcoin_df의 ds열에서 선택한 데이터와 predicted의 예측값으로 설정하여 그래프의 예측 선을 새로운 데이터로 업데이트 하는 것이다\n",
            "<ipython-input-12-62fb44db4d1e>:29: MatplotlibDeprecationWarning: Setting data with a non sequence type is deprecated since 3.7 and will be remove two minor releases later\n",
            "  line_vertical.set_xdata(bitcoin_df['ds'][end_idx])  #line_vertical의 x 데이터를 변경한다. bitcoin_df의 y 열에서 end_idx에 해당하는 행의 값을 가져오는것이다.\n"
          ]
        },
        {
          "output_type": "stream",
          "name": "stdout",
          "text": [
            "1/1 [==============================] - 0s 9ms/step - loss: 0.0023\n",
            "1/1 [==============================] - 0s 24ms/step\n"
          ]
        },
        {
          "output_type": "stream",
          "name": "stderr",
          "text": [
            "<ipython-input-12-62fb44db4d1e>:54: MatplotlibDeprecationWarning: Setting data with a non sequence type is deprecated since 3.7 and will be remove two minor releases later\n",
            "  line_forecast.set_data(bitcoin_df['ds'][end_idx], predicted[0][0])  # line_forecast의 데이터를 bitcoin_df의 ds열에서 선택한 데이터와 predicted의 예측값으로 설정하여 그래프의 예측 선을 새로운 데이터로 업데이트 하는 것이다\n",
            "<ipython-input-12-62fb44db4d1e>:29: MatplotlibDeprecationWarning: Setting data with a non sequence type is deprecated since 3.7 and will be remove two minor releases later\n",
            "  line_vertical.set_xdata(bitcoin_df['ds'][end_idx])  #line_vertical의 x 데이터를 변경한다. bitcoin_df의 y 열에서 end_idx에 해당하는 행의 값을 가져오는것이다.\n"
          ]
        },
        {
          "output_type": "stream",
          "name": "stdout",
          "text": [
            "1/1 [==============================] - 0s 10ms/step - loss: 0.0014\n",
            "1/1 [==============================] - 0s 23ms/step\n"
          ]
        },
        {
          "output_type": "stream",
          "name": "stderr",
          "text": [
            "<ipython-input-12-62fb44db4d1e>:54: MatplotlibDeprecationWarning: Setting data with a non sequence type is deprecated since 3.7 and will be remove two minor releases later\n",
            "  line_forecast.set_data(bitcoin_df['ds'][end_idx], predicted[0][0])  # line_forecast의 데이터를 bitcoin_df의 ds열에서 선택한 데이터와 predicted의 예측값으로 설정하여 그래프의 예측 선을 새로운 데이터로 업데이트 하는 것이다\n",
            "<ipython-input-12-62fb44db4d1e>:29: MatplotlibDeprecationWarning: Setting data with a non sequence type is deprecated since 3.7 and will be remove two minor releases later\n",
            "  line_vertical.set_xdata(bitcoin_df['ds'][end_idx])  #line_vertical의 x 데이터를 변경한다. bitcoin_df의 y 열에서 end_idx에 해당하는 행의 값을 가져오는것이다.\n"
          ]
        },
        {
          "output_type": "stream",
          "name": "stdout",
          "text": [
            "1/1 [==============================] - 0s 12ms/step - loss: 0.0051\n",
            "1/1 [==============================] - 0s 23ms/step\n"
          ]
        },
        {
          "output_type": "stream",
          "name": "stderr",
          "text": [
            "<ipython-input-12-62fb44db4d1e>:54: MatplotlibDeprecationWarning: Setting data with a non sequence type is deprecated since 3.7 and will be remove two minor releases later\n",
            "  line_forecast.set_data(bitcoin_df['ds'][end_idx], predicted[0][0])  # line_forecast의 데이터를 bitcoin_df의 ds열에서 선택한 데이터와 predicted의 예측값으로 설정하여 그래프의 예측 선을 새로운 데이터로 업데이트 하는 것이다\n",
            "<ipython-input-12-62fb44db4d1e>:29: MatplotlibDeprecationWarning: Setting data with a non sequence type is deprecated since 3.7 and will be remove two minor releases later\n",
            "  line_vertical.set_xdata(bitcoin_df['ds'][end_idx])  #line_vertical의 x 데이터를 변경한다. bitcoin_df의 y 열에서 end_idx에 해당하는 행의 값을 가져오는것이다.\n"
          ]
        },
        {
          "output_type": "stream",
          "name": "stdout",
          "text": [
            "1/1 [==============================] - 0s 21ms/step - loss: 5.8317e-06\n",
            "1/1 [==============================] - 0s 25ms/step\n"
          ]
        },
        {
          "output_type": "stream",
          "name": "stderr",
          "text": [
            "<ipython-input-12-62fb44db4d1e>:54: MatplotlibDeprecationWarning: Setting data with a non sequence type is deprecated since 3.7 and will be remove two minor releases later\n",
            "  line_forecast.set_data(bitcoin_df['ds'][end_idx], predicted[0][0])  # line_forecast의 데이터를 bitcoin_df의 ds열에서 선택한 데이터와 predicted의 예측값으로 설정하여 그래프의 예측 선을 새로운 데이터로 업데이트 하는 것이다\n",
            "<ipython-input-12-62fb44db4d1e>:29: MatplotlibDeprecationWarning: Setting data with a non sequence type is deprecated since 3.7 and will be remove two minor releases later\n",
            "  line_vertical.set_xdata(bitcoin_df['ds'][end_idx])  #line_vertical의 x 데이터를 변경한다. bitcoin_df의 y 열에서 end_idx에 해당하는 행의 값을 가져오는것이다.\n"
          ]
        },
        {
          "output_type": "stream",
          "name": "stdout",
          "text": [
            "1/1 [==============================] - 0s 15ms/step - loss: 0.0093\n",
            "1/1 [==============================] - 0s 24ms/step\n"
          ]
        },
        {
          "output_type": "stream",
          "name": "stderr",
          "text": [
            "<ipython-input-12-62fb44db4d1e>:54: MatplotlibDeprecationWarning: Setting data with a non sequence type is deprecated since 3.7 and will be remove two minor releases later\n",
            "  line_forecast.set_data(bitcoin_df['ds'][end_idx], predicted[0][0])  # line_forecast의 데이터를 bitcoin_df의 ds열에서 선택한 데이터와 predicted의 예측값으로 설정하여 그래프의 예측 선을 새로운 데이터로 업데이트 하는 것이다\n",
            "<ipython-input-12-62fb44db4d1e>:29: MatplotlibDeprecationWarning: Setting data with a non sequence type is deprecated since 3.7 and will be remove two minor releases later\n",
            "  line_vertical.set_xdata(bitcoin_df['ds'][end_idx])  #line_vertical의 x 데이터를 변경한다. bitcoin_df의 y 열에서 end_idx에 해당하는 행의 값을 가져오는것이다.\n"
          ]
        },
        {
          "output_type": "stream",
          "name": "stdout",
          "text": [
            "1/1 [==============================] - 0s 11ms/step - loss: 0.0096\n",
            "1/1 [==============================] - 0s 24ms/step\n"
          ]
        },
        {
          "output_type": "stream",
          "name": "stderr",
          "text": [
            "<ipython-input-12-62fb44db4d1e>:54: MatplotlibDeprecationWarning: Setting data with a non sequence type is deprecated since 3.7 and will be remove two minor releases later\n",
            "  line_forecast.set_data(bitcoin_df['ds'][end_idx], predicted[0][0])  # line_forecast의 데이터를 bitcoin_df의 ds열에서 선택한 데이터와 predicted의 예측값으로 설정하여 그래프의 예측 선을 새로운 데이터로 업데이트 하는 것이다\n",
            "<ipython-input-12-62fb44db4d1e>:29: MatplotlibDeprecationWarning: Setting data with a non sequence type is deprecated since 3.7 and will be remove two minor releases later\n",
            "  line_vertical.set_xdata(bitcoin_df['ds'][end_idx])  #line_vertical의 x 데이터를 변경한다. bitcoin_df의 y 열에서 end_idx에 해당하는 행의 값을 가져오는것이다.\n"
          ]
        },
        {
          "output_type": "stream",
          "name": "stdout",
          "text": [
            "1/1 [==============================] - 0s 21ms/step - loss: 0.0089\n",
            "1/1 [==============================] - 0s 24ms/step\n"
          ]
        },
        {
          "output_type": "stream",
          "name": "stderr",
          "text": [
            "<ipython-input-12-62fb44db4d1e>:54: MatplotlibDeprecationWarning: Setting data with a non sequence type is deprecated since 3.7 and will be remove two minor releases later\n",
            "  line_forecast.set_data(bitcoin_df['ds'][end_idx], predicted[0][0])  # line_forecast의 데이터를 bitcoin_df의 ds열에서 선택한 데이터와 predicted의 예측값으로 설정하여 그래프의 예측 선을 새로운 데이터로 업데이트 하는 것이다\n",
            "<ipython-input-12-62fb44db4d1e>:29: MatplotlibDeprecationWarning: Setting data with a non sequence type is deprecated since 3.7 and will be remove two minor releases later\n",
            "  line_vertical.set_xdata(bitcoin_df['ds'][end_idx])  #line_vertical의 x 데이터를 변경한다. bitcoin_df의 y 열에서 end_idx에 해당하는 행의 값을 가져오는것이다.\n"
          ]
        },
        {
          "output_type": "stream",
          "name": "stdout",
          "text": [
            "1/1 [==============================] - 0s 9ms/step - loss: 0.0146\n",
            "1/1 [==============================] - 0s 27ms/step\n"
          ]
        },
        {
          "output_type": "stream",
          "name": "stderr",
          "text": [
            "<ipython-input-12-62fb44db4d1e>:54: MatplotlibDeprecationWarning: Setting data with a non sequence type is deprecated since 3.7 and will be remove two minor releases later\n",
            "  line_forecast.set_data(bitcoin_df['ds'][end_idx], predicted[0][0])  # line_forecast의 데이터를 bitcoin_df의 ds열에서 선택한 데이터와 predicted의 예측값으로 설정하여 그래프의 예측 선을 새로운 데이터로 업데이트 하는 것이다\n",
            "<ipython-input-12-62fb44db4d1e>:29: MatplotlibDeprecationWarning: Setting data with a non sequence type is deprecated since 3.7 and will be remove two minor releases later\n",
            "  line_vertical.set_xdata(bitcoin_df['ds'][end_idx])  #line_vertical의 x 데이터를 변경한다. bitcoin_df의 y 열에서 end_idx에 해당하는 행의 값을 가져오는것이다.\n"
          ]
        },
        {
          "output_type": "stream",
          "name": "stdout",
          "text": [
            "1/1 [==============================] - 0s 11ms/step - loss: 0.0509\n",
            "1/1 [==============================] - 0s 24ms/step\n"
          ]
        },
        {
          "output_type": "stream",
          "name": "stderr",
          "text": [
            "<ipython-input-12-62fb44db4d1e>:54: MatplotlibDeprecationWarning: Setting data with a non sequence type is deprecated since 3.7 and will be remove two minor releases later\n",
            "  line_forecast.set_data(bitcoin_df['ds'][end_idx], predicted[0][0])  # line_forecast의 데이터를 bitcoin_df의 ds열에서 선택한 데이터와 predicted의 예측값으로 설정하여 그래프의 예측 선을 새로운 데이터로 업데이트 하는 것이다\n",
            "<ipython-input-12-62fb44db4d1e>:29: MatplotlibDeprecationWarning: Setting data with a non sequence type is deprecated since 3.7 and will be remove two minor releases later\n",
            "  line_vertical.set_xdata(bitcoin_df['ds'][end_idx])  #line_vertical의 x 데이터를 변경한다. bitcoin_df의 y 열에서 end_idx에 해당하는 행의 값을 가져오는것이다.\n"
          ]
        },
        {
          "output_type": "stream",
          "name": "stdout",
          "text": [
            "1/1 [==============================] - 0s 9ms/step - loss: 0.0185\n",
            "1/1 [==============================] - 0s 23ms/step\n"
          ]
        },
        {
          "output_type": "stream",
          "name": "stderr",
          "text": [
            "<ipython-input-12-62fb44db4d1e>:54: MatplotlibDeprecationWarning: Setting data with a non sequence type is deprecated since 3.7 and will be remove two minor releases later\n",
            "  line_forecast.set_data(bitcoin_df['ds'][end_idx], predicted[0][0])  # line_forecast의 데이터를 bitcoin_df의 ds열에서 선택한 데이터와 predicted의 예측값으로 설정하여 그래프의 예측 선을 새로운 데이터로 업데이트 하는 것이다\n",
            "<ipython-input-12-62fb44db4d1e>:29: MatplotlibDeprecationWarning: Setting data with a non sequence type is deprecated since 3.7 and will be remove two minor releases later\n",
            "  line_vertical.set_xdata(bitcoin_df['ds'][end_idx])  #line_vertical의 x 데이터를 변경한다. bitcoin_df의 y 열에서 end_idx에 해당하는 행의 값을 가져오는것이다.\n"
          ]
        },
        {
          "output_type": "stream",
          "name": "stdout",
          "text": [
            "1/1 [==============================] - 0s 20ms/step - loss: 0.0275\n",
            "1/1 [==============================] - 0s 27ms/step\n"
          ]
        },
        {
          "output_type": "stream",
          "name": "stderr",
          "text": [
            "<ipython-input-12-62fb44db4d1e>:54: MatplotlibDeprecationWarning: Setting data with a non sequence type is deprecated since 3.7 and will be remove two minor releases later\n",
            "  line_forecast.set_data(bitcoin_df['ds'][end_idx], predicted[0][0])  # line_forecast의 데이터를 bitcoin_df의 ds열에서 선택한 데이터와 predicted의 예측값으로 설정하여 그래프의 예측 선을 새로운 데이터로 업데이트 하는 것이다\n",
            "<ipython-input-12-62fb44db4d1e>:29: MatplotlibDeprecationWarning: Setting data with a non sequence type is deprecated since 3.7 and will be remove two minor releases later\n",
            "  line_vertical.set_xdata(bitcoin_df['ds'][end_idx])  #line_vertical의 x 데이터를 변경한다. bitcoin_df의 y 열에서 end_idx에 해당하는 행의 값을 가져오는것이다.\n"
          ]
        },
        {
          "output_type": "stream",
          "name": "stdout",
          "text": [
            "1/1 [==============================] - 0s 9ms/step - loss: 0.0096\n",
            "1/1 [==============================] - 0s 25ms/step\n"
          ]
        },
        {
          "output_type": "stream",
          "name": "stderr",
          "text": [
            "<ipython-input-12-62fb44db4d1e>:54: MatplotlibDeprecationWarning: Setting data with a non sequence type is deprecated since 3.7 and will be remove two minor releases later\n",
            "  line_forecast.set_data(bitcoin_df['ds'][end_idx], predicted[0][0])  # line_forecast의 데이터를 bitcoin_df의 ds열에서 선택한 데이터와 predicted의 예측값으로 설정하여 그래프의 예측 선을 새로운 데이터로 업데이트 하는 것이다\n",
            "<ipython-input-12-62fb44db4d1e>:29: MatplotlibDeprecationWarning: Setting data with a non sequence type is deprecated since 3.7 and will be remove two minor releases later\n",
            "  line_vertical.set_xdata(bitcoin_df['ds'][end_idx])  #line_vertical의 x 데이터를 변경한다. bitcoin_df의 y 열에서 end_idx에 해당하는 행의 값을 가져오는것이다.\n"
          ]
        },
        {
          "output_type": "stream",
          "name": "stdout",
          "text": [
            "1/1 [==============================] - 0s 9ms/step - loss: 0.0035\n",
            "1/1 [==============================] - 0s 25ms/step\n"
          ]
        },
        {
          "output_type": "stream",
          "name": "stderr",
          "text": [
            "<ipython-input-12-62fb44db4d1e>:54: MatplotlibDeprecationWarning: Setting data with a non sequence type is deprecated since 3.7 and will be remove two minor releases later\n",
            "  line_forecast.set_data(bitcoin_df['ds'][end_idx], predicted[0][0])  # line_forecast의 데이터를 bitcoin_df의 ds열에서 선택한 데이터와 predicted의 예측값으로 설정하여 그래프의 예측 선을 새로운 데이터로 업데이트 하는 것이다\n",
            "<ipython-input-12-62fb44db4d1e>:29: MatplotlibDeprecationWarning: Setting data with a non sequence type is deprecated since 3.7 and will be remove two minor releases later\n",
            "  line_vertical.set_xdata(bitcoin_df['ds'][end_idx])  #line_vertical의 x 데이터를 변경한다. bitcoin_df의 y 열에서 end_idx에 해당하는 행의 값을 가져오는것이다.\n"
          ]
        },
        {
          "output_type": "stream",
          "name": "stdout",
          "text": [
            "1/1 [==============================] - 0s 23ms/step - loss: 1.4553e-05\n",
            "1/1 [==============================] - 0s 24ms/step\n"
          ]
        },
        {
          "output_type": "stream",
          "name": "stderr",
          "text": [
            "<ipython-input-12-62fb44db4d1e>:54: MatplotlibDeprecationWarning: Setting data with a non sequence type is deprecated since 3.7 and will be remove two minor releases later\n",
            "  line_forecast.set_data(bitcoin_df['ds'][end_idx], predicted[0][0])  # line_forecast의 데이터를 bitcoin_df의 ds열에서 선택한 데이터와 predicted의 예측값으로 설정하여 그래프의 예측 선을 새로운 데이터로 업데이트 하는 것이다\n",
            "<ipython-input-12-62fb44db4d1e>:29: MatplotlibDeprecationWarning: Setting data with a non sequence type is deprecated since 3.7 and will be remove two minor releases later\n",
            "  line_vertical.set_xdata(bitcoin_df['ds'][end_idx])  #line_vertical의 x 데이터를 변경한다. bitcoin_df의 y 열에서 end_idx에 해당하는 행의 값을 가져오는것이다.\n"
          ]
        },
        {
          "output_type": "stream",
          "name": "stdout",
          "text": [
            "1/1 [==============================] - 0s 10ms/step - loss: 0.0047\n",
            "1/1 [==============================] - 0s 27ms/step\n"
          ]
        },
        {
          "output_type": "stream",
          "name": "stderr",
          "text": [
            "<ipython-input-12-62fb44db4d1e>:54: MatplotlibDeprecationWarning: Setting data with a non sequence type is deprecated since 3.7 and will be remove two minor releases later\n",
            "  line_forecast.set_data(bitcoin_df['ds'][end_idx], predicted[0][0])  # line_forecast의 데이터를 bitcoin_df의 ds열에서 선택한 데이터와 predicted의 예측값으로 설정하여 그래프의 예측 선을 새로운 데이터로 업데이트 하는 것이다\n",
            "<ipython-input-12-62fb44db4d1e>:29: MatplotlibDeprecationWarning: Setting data with a non sequence type is deprecated since 3.7 and will be remove two minor releases later\n",
            "  line_vertical.set_xdata(bitcoin_df['ds'][end_idx])  #line_vertical의 x 데이터를 변경한다. bitcoin_df의 y 열에서 end_idx에 해당하는 행의 값을 가져오는것이다.\n"
          ]
        },
        {
          "output_type": "stream",
          "name": "stdout",
          "text": [
            "1/1 [==============================] - 0s 14ms/step - loss: 4.1050e-04\n",
            "1/1 [==============================] - 0s 25ms/step\n"
          ]
        },
        {
          "output_type": "stream",
          "name": "stderr",
          "text": [
            "<ipython-input-12-62fb44db4d1e>:54: MatplotlibDeprecationWarning: Setting data with a non sequence type is deprecated since 3.7 and will be remove two minor releases later\n",
            "  line_forecast.set_data(bitcoin_df['ds'][end_idx], predicted[0][0])  # line_forecast의 데이터를 bitcoin_df의 ds열에서 선택한 데이터와 predicted의 예측값으로 설정하여 그래프의 예측 선을 새로운 데이터로 업데이트 하는 것이다\n",
            "<ipython-input-12-62fb44db4d1e>:29: MatplotlibDeprecationWarning: Setting data with a non sequence type is deprecated since 3.7 and will be remove two minor releases later\n",
            "  line_vertical.set_xdata(bitcoin_df['ds'][end_idx])  #line_vertical의 x 데이터를 변경한다. bitcoin_df의 y 열에서 end_idx에 해당하는 행의 값을 가져오는것이다.\n"
          ]
        },
        {
          "output_type": "stream",
          "name": "stdout",
          "text": [
            "1/1 [==============================] - 0s 12ms/step - loss: 0.0018\n",
            "1/1 [==============================] - 0s 28ms/step\n"
          ]
        },
        {
          "output_type": "stream",
          "name": "stderr",
          "text": [
            "<ipython-input-12-62fb44db4d1e>:54: MatplotlibDeprecationWarning: Setting data with a non sequence type is deprecated since 3.7 and will be remove two minor releases later\n",
            "  line_forecast.set_data(bitcoin_df['ds'][end_idx], predicted[0][0])  # line_forecast의 데이터를 bitcoin_df의 ds열에서 선택한 데이터와 predicted의 예측값으로 설정하여 그래프의 예측 선을 새로운 데이터로 업데이트 하는 것이다\n",
            "<ipython-input-12-62fb44db4d1e>:29: MatplotlibDeprecationWarning: Setting data with a non sequence type is deprecated since 3.7 and will be remove two minor releases later\n",
            "  line_vertical.set_xdata(bitcoin_df['ds'][end_idx])  #line_vertical의 x 데이터를 변경한다. bitcoin_df의 y 열에서 end_idx에 해당하는 행의 값을 가져오는것이다.\n"
          ]
        },
        {
          "output_type": "stream",
          "name": "stdout",
          "text": [
            "1/1 [==============================] - 0s 14ms/step - loss: 3.5973e-05\n",
            "1/1 [==============================] - 0s 27ms/step\n"
          ]
        },
        {
          "output_type": "stream",
          "name": "stderr",
          "text": [
            "<ipython-input-12-62fb44db4d1e>:54: MatplotlibDeprecationWarning: Setting data with a non sequence type is deprecated since 3.7 and will be remove two minor releases later\n",
            "  line_forecast.set_data(bitcoin_df['ds'][end_idx], predicted[0][0])  # line_forecast의 데이터를 bitcoin_df의 ds열에서 선택한 데이터와 predicted의 예측값으로 설정하여 그래프의 예측 선을 새로운 데이터로 업데이트 하는 것이다\n",
            "<ipython-input-12-62fb44db4d1e>:29: MatplotlibDeprecationWarning: Setting data with a non sequence type is deprecated since 3.7 and will be remove two minor releases later\n",
            "  line_vertical.set_xdata(bitcoin_df['ds'][end_idx])  #line_vertical의 x 데이터를 변경한다. bitcoin_df의 y 열에서 end_idx에 해당하는 행의 값을 가져오는것이다.\n"
          ]
        },
        {
          "output_type": "stream",
          "name": "stdout",
          "text": [
            "1/1 [==============================] - 0s 18ms/step - loss: 0.0038\n",
            "1/1 [==============================] - 0s 24ms/step\n"
          ]
        },
        {
          "output_type": "stream",
          "name": "stderr",
          "text": [
            "<ipython-input-12-62fb44db4d1e>:54: MatplotlibDeprecationWarning: Setting data with a non sequence type is deprecated since 3.7 and will be remove two minor releases later\n",
            "  line_forecast.set_data(bitcoin_df['ds'][end_idx], predicted[0][0])  # line_forecast의 데이터를 bitcoin_df의 ds열에서 선택한 데이터와 predicted의 예측값으로 설정하여 그래프의 예측 선을 새로운 데이터로 업데이트 하는 것이다\n",
            "<ipython-input-12-62fb44db4d1e>:29: MatplotlibDeprecationWarning: Setting data with a non sequence type is deprecated since 3.7 and will be remove two minor releases later\n",
            "  line_vertical.set_xdata(bitcoin_df['ds'][end_idx])  #line_vertical의 x 데이터를 변경한다. bitcoin_df의 y 열에서 end_idx에 해당하는 행의 값을 가져오는것이다.\n"
          ]
        },
        {
          "output_type": "stream",
          "name": "stdout",
          "text": [
            "1/1 [==============================] - 0s 12ms/step - loss: 0.0011\n",
            "1/1 [==============================] - 0s 28ms/step\n"
          ]
        },
        {
          "output_type": "stream",
          "name": "stderr",
          "text": [
            "<ipython-input-12-62fb44db4d1e>:54: MatplotlibDeprecationWarning: Setting data with a non sequence type is deprecated since 3.7 and will be remove two minor releases later\n",
            "  line_forecast.set_data(bitcoin_df['ds'][end_idx], predicted[0][0])  # line_forecast의 데이터를 bitcoin_df의 ds열에서 선택한 데이터와 predicted의 예측값으로 설정하여 그래프의 예측 선을 새로운 데이터로 업데이트 하는 것이다\n",
            "<ipython-input-12-62fb44db4d1e>:29: MatplotlibDeprecationWarning: Setting data with a non sequence type is deprecated since 3.7 and will be remove two minor releases later\n",
            "  line_vertical.set_xdata(bitcoin_df['ds'][end_idx])  #line_vertical의 x 데이터를 변경한다. bitcoin_df의 y 열에서 end_idx에 해당하는 행의 값을 가져오는것이다.\n"
          ]
        },
        {
          "output_type": "stream",
          "name": "stdout",
          "text": [
            "1/1 [==============================] - 0s 17ms/step - loss: 0.0027\n",
            "1/1 [==============================] - 0s 32ms/step\n"
          ]
        },
        {
          "output_type": "stream",
          "name": "stderr",
          "text": [
            "<ipython-input-12-62fb44db4d1e>:54: MatplotlibDeprecationWarning: Setting data with a non sequence type is deprecated since 3.7 and will be remove two minor releases later\n",
            "  line_forecast.set_data(bitcoin_df['ds'][end_idx], predicted[0][0])  # line_forecast의 데이터를 bitcoin_df의 ds열에서 선택한 데이터와 predicted의 예측값으로 설정하여 그래프의 예측 선을 새로운 데이터로 업데이트 하는 것이다\n",
            "<ipython-input-12-62fb44db4d1e>:29: MatplotlibDeprecationWarning: Setting data with a non sequence type is deprecated since 3.7 and will be remove two minor releases later\n",
            "  line_vertical.set_xdata(bitcoin_df['ds'][end_idx])  #line_vertical의 x 데이터를 변경한다. bitcoin_df의 y 열에서 end_idx에 해당하는 행의 값을 가져오는것이다.\n"
          ]
        },
        {
          "output_type": "stream",
          "name": "stdout",
          "text": [
            "1/1 [==============================] - 0s 11ms/step - loss: 0.0085\n",
            "1/1 [==============================] - 0s 25ms/step\n"
          ]
        },
        {
          "output_type": "stream",
          "name": "stderr",
          "text": [
            "<ipython-input-12-62fb44db4d1e>:54: MatplotlibDeprecationWarning: Setting data with a non sequence type is deprecated since 3.7 and will be remove two minor releases later\n",
            "  line_forecast.set_data(bitcoin_df['ds'][end_idx], predicted[0][0])  # line_forecast의 데이터를 bitcoin_df의 ds열에서 선택한 데이터와 predicted의 예측값으로 설정하여 그래프의 예측 선을 새로운 데이터로 업데이트 하는 것이다\n",
            "<ipython-input-12-62fb44db4d1e>:29: MatplotlibDeprecationWarning: Setting data with a non sequence type is deprecated since 3.7 and will be remove two minor releases later\n",
            "  line_vertical.set_xdata(bitcoin_df['ds'][end_idx])  #line_vertical의 x 데이터를 변경한다. bitcoin_df의 y 열에서 end_idx에 해당하는 행의 값을 가져오는것이다.\n"
          ]
        },
        {
          "output_type": "stream",
          "name": "stdout",
          "text": [
            "1/1 [==============================] - 0s 11ms/step - loss: 8.3454e-04\n",
            "1/1 [==============================] - 0s 25ms/step\n"
          ]
        },
        {
          "output_type": "stream",
          "name": "stderr",
          "text": [
            "<ipython-input-12-62fb44db4d1e>:54: MatplotlibDeprecationWarning: Setting data with a non sequence type is deprecated since 3.7 and will be remove two minor releases later\n",
            "  line_forecast.set_data(bitcoin_df['ds'][end_idx], predicted[0][0])  # line_forecast의 데이터를 bitcoin_df의 ds열에서 선택한 데이터와 predicted의 예측값으로 설정하여 그래프의 예측 선을 새로운 데이터로 업데이트 하는 것이다\n",
            "<ipython-input-12-62fb44db4d1e>:29: MatplotlibDeprecationWarning: Setting data with a non sequence type is deprecated since 3.7 and will be remove two minor releases later\n",
            "  line_vertical.set_xdata(bitcoin_df['ds'][end_idx])  #line_vertical의 x 데이터를 변경한다. bitcoin_df의 y 열에서 end_idx에 해당하는 행의 값을 가져오는것이다.\n"
          ]
        },
        {
          "output_type": "stream",
          "name": "stdout",
          "text": [
            "1/1 [==============================] - 0s 9ms/step - loss: 0.0035\n",
            "1/1 [==============================] - 0s 27ms/step\n"
          ]
        },
        {
          "output_type": "stream",
          "name": "stderr",
          "text": [
            "<ipython-input-12-62fb44db4d1e>:54: MatplotlibDeprecationWarning: Setting data with a non sequence type is deprecated since 3.7 and will be remove two minor releases later\n",
            "  line_forecast.set_data(bitcoin_df['ds'][end_idx], predicted[0][0])  # line_forecast의 데이터를 bitcoin_df의 ds열에서 선택한 데이터와 predicted의 예측값으로 설정하여 그래프의 예측 선을 새로운 데이터로 업데이트 하는 것이다\n",
            "<ipython-input-12-62fb44db4d1e>:29: MatplotlibDeprecationWarning: Setting data with a non sequence type is deprecated since 3.7 and will be remove two minor releases later\n",
            "  line_vertical.set_xdata(bitcoin_df['ds'][end_idx])  #line_vertical의 x 데이터를 변경한다. bitcoin_df의 y 열에서 end_idx에 해당하는 행의 값을 가져오는것이다.\n"
          ]
        },
        {
          "output_type": "stream",
          "name": "stdout",
          "text": [
            "1/1 [==============================] - 0s 13ms/step - loss: 0.0039\n",
            "1/1 [==============================] - 0s 27ms/step\n"
          ]
        },
        {
          "output_type": "stream",
          "name": "stderr",
          "text": [
            "<ipython-input-12-62fb44db4d1e>:54: MatplotlibDeprecationWarning: Setting data with a non sequence type is deprecated since 3.7 and will be remove two minor releases later\n",
            "  line_forecast.set_data(bitcoin_df['ds'][end_idx], predicted[0][0])  # line_forecast의 데이터를 bitcoin_df의 ds열에서 선택한 데이터와 predicted의 예측값으로 설정하여 그래프의 예측 선을 새로운 데이터로 업데이트 하는 것이다\n"
          ]
        },
        {
          "output_type": "stream",
          "name": "stdout",
          "text": [
            "1/1 [==============================] - 0s 30ms/step - loss: 0.0020\n"
          ]
        },
        {
          "output_type": "stream",
          "name": "stderr",
          "text": [
            "<ipython-input-12-62fb44db4d1e>:29: MatplotlibDeprecationWarning: Setting data with a non sequence type is deprecated since 3.7 and will be remove two minor releases later\n",
            "  line_vertical.set_xdata(bitcoin_df['ds'][end_idx])  #line_vertical의 x 데이터를 변경한다. bitcoin_df의 y 열에서 end_idx에 해당하는 행의 값을 가져오는것이다.\n"
          ]
        },
        {
          "output_type": "stream",
          "name": "stdout",
          "text": [
            "1/1 [==============================] - 0s 48ms/step\n"
          ]
        },
        {
          "output_type": "stream",
          "name": "stderr",
          "text": [
            "<ipython-input-12-62fb44db4d1e>:54: MatplotlibDeprecationWarning: Setting data with a non sequence type is deprecated since 3.7 and will be remove two minor releases later\n",
            "  line_forecast.set_data(bitcoin_df['ds'][end_idx], predicted[0][0])  # line_forecast의 데이터를 bitcoin_df의 ds열에서 선택한 데이터와 predicted의 예측값으로 설정하여 그래프의 예측 선을 새로운 데이터로 업데이트 하는 것이다\n",
            "<ipython-input-12-62fb44db4d1e>:29: MatplotlibDeprecationWarning: Setting data with a non sequence type is deprecated since 3.7 and will be remove two minor releases later\n",
            "  line_vertical.set_xdata(bitcoin_df['ds'][end_idx])  #line_vertical의 x 데이터를 변경한다. bitcoin_df의 y 열에서 end_idx에 해당하는 행의 값을 가져오는것이다.\n"
          ]
        },
        {
          "output_type": "stream",
          "name": "stdout",
          "text": [
            "1/1 [==============================] - 0s 13ms/step - loss: 2.9640e-04\n",
            "1/1 [==============================] - 0s 37ms/step\n"
          ]
        },
        {
          "output_type": "stream",
          "name": "stderr",
          "text": [
            "<ipython-input-12-62fb44db4d1e>:54: MatplotlibDeprecationWarning: Setting data with a non sequence type is deprecated since 3.7 and will be remove two minor releases later\n",
            "  line_forecast.set_data(bitcoin_df['ds'][end_idx], predicted[0][0])  # line_forecast의 데이터를 bitcoin_df의 ds열에서 선택한 데이터와 predicted의 예측값으로 설정하여 그래프의 예측 선을 새로운 데이터로 업데이트 하는 것이다\n"
          ]
        },
        {
          "output_type": "stream",
          "name": "stdout",
          "text": [
            "1/1 [==============================] - 0s 16ms/step - loss: 8.8300e-04\n"
          ]
        },
        {
          "output_type": "stream",
          "name": "stderr",
          "text": [
            "<ipython-input-12-62fb44db4d1e>:29: MatplotlibDeprecationWarning: Setting data with a non sequence type is deprecated since 3.7 and will be remove two minor releases later\n",
            "  line_vertical.set_xdata(bitcoin_df['ds'][end_idx])  #line_vertical의 x 데이터를 변경한다. bitcoin_df의 y 열에서 end_idx에 해당하는 행의 값을 가져오는것이다.\n"
          ]
        },
        {
          "output_type": "stream",
          "name": "stdout",
          "text": [
            "1/1 [==============================] - 0s 47ms/step\n"
          ]
        },
        {
          "output_type": "stream",
          "name": "stderr",
          "text": [
            "<ipython-input-12-62fb44db4d1e>:54: MatplotlibDeprecationWarning: Setting data with a non sequence type is deprecated since 3.7 and will be remove two minor releases later\n",
            "  line_forecast.set_data(bitcoin_df['ds'][end_idx], predicted[0][0])  # line_forecast의 데이터를 bitcoin_df의 ds열에서 선택한 데이터와 predicted의 예측값으로 설정하여 그래프의 예측 선을 새로운 데이터로 업데이트 하는 것이다\n"
          ]
        },
        {
          "output_type": "stream",
          "name": "stdout",
          "text": [
            "1/1 [==============================] - 0s 17ms/step - loss: 0.0029\n"
          ]
        },
        {
          "output_type": "stream",
          "name": "stderr",
          "text": [
            "<ipython-input-12-62fb44db4d1e>:29: MatplotlibDeprecationWarning: Setting data with a non sequence type is deprecated since 3.7 and will be remove two minor releases later\n",
            "  line_vertical.set_xdata(bitcoin_df['ds'][end_idx])  #line_vertical의 x 데이터를 변경한다. bitcoin_df의 y 열에서 end_idx에 해당하는 행의 값을 가져오는것이다.\n"
          ]
        },
        {
          "output_type": "stream",
          "name": "stdout",
          "text": [
            "1/1 [==============================] - 0s 51ms/step\n"
          ]
        },
        {
          "output_type": "stream",
          "name": "stderr",
          "text": [
            "<ipython-input-12-62fb44db4d1e>:54: MatplotlibDeprecationWarning: Setting data with a non sequence type is deprecated since 3.7 and will be remove two minor releases later\n",
            "  line_forecast.set_data(bitcoin_df['ds'][end_idx], predicted[0][0])  # line_forecast의 데이터를 bitcoin_df의 ds열에서 선택한 데이터와 predicted의 예측값으로 설정하여 그래프의 예측 선을 새로운 데이터로 업데이트 하는 것이다\n"
          ]
        },
        {
          "output_type": "stream",
          "name": "stdout",
          "text": [
            "1/1 [==============================] - 0s 13ms/step - loss: 0.0150\n"
          ]
        },
        {
          "output_type": "stream",
          "name": "stderr",
          "text": [
            "<ipython-input-12-62fb44db4d1e>:29: MatplotlibDeprecationWarning: Setting data with a non sequence type is deprecated since 3.7 and will be remove two minor releases later\n",
            "  line_vertical.set_xdata(bitcoin_df['ds'][end_idx])  #line_vertical의 x 데이터를 변경한다. bitcoin_df의 y 열에서 end_idx에 해당하는 행의 값을 가져오는것이다.\n"
          ]
        },
        {
          "output_type": "stream",
          "name": "stdout",
          "text": [
            "1/1 [==============================] - 0s 41ms/step\n"
          ]
        },
        {
          "output_type": "stream",
          "name": "stderr",
          "text": [
            "<ipython-input-12-62fb44db4d1e>:54: MatplotlibDeprecationWarning: Setting data with a non sequence type is deprecated since 3.7 and will be remove two minor releases later\n",
            "  line_forecast.set_data(bitcoin_df['ds'][end_idx], predicted[0][0])  # line_forecast의 데이터를 bitcoin_df의 ds열에서 선택한 데이터와 predicted의 예측값으로 설정하여 그래프의 예측 선을 새로운 데이터로 업데이트 하는 것이다\n"
          ]
        },
        {
          "output_type": "stream",
          "name": "stdout",
          "text": [
            "1/1 [==============================] - 0s 13ms/step - loss: 0.0130\n"
          ]
        },
        {
          "output_type": "stream",
          "name": "stderr",
          "text": [
            "<ipython-input-12-62fb44db4d1e>:29: MatplotlibDeprecationWarning: Setting data with a non sequence type is deprecated since 3.7 and will be remove two minor releases later\n",
            "  line_vertical.set_xdata(bitcoin_df['ds'][end_idx])  #line_vertical의 x 데이터를 변경한다. bitcoin_df의 y 열에서 end_idx에 해당하는 행의 값을 가져오는것이다.\n"
          ]
        },
        {
          "output_type": "stream",
          "name": "stdout",
          "text": [
            "1/1 [==============================] - 0s 44ms/step\n"
          ]
        },
        {
          "output_type": "stream",
          "name": "stderr",
          "text": [
            "<ipython-input-12-62fb44db4d1e>:54: MatplotlibDeprecationWarning: Setting data with a non sequence type is deprecated since 3.7 and will be remove two minor releases later\n",
            "  line_forecast.set_data(bitcoin_df['ds'][end_idx], predicted[0][0])  # line_forecast의 데이터를 bitcoin_df의 ds열에서 선택한 데이터와 predicted의 예측값으로 설정하여 그래프의 예측 선을 새로운 데이터로 업데이트 하는 것이다\n"
          ]
        },
        {
          "output_type": "stream",
          "name": "stdout",
          "text": [
            "1/1 [==============================] - 0s 13ms/step - loss: 7.4629e-04\n"
          ]
        },
        {
          "output_type": "stream",
          "name": "stderr",
          "text": [
            "<ipython-input-12-62fb44db4d1e>:29: MatplotlibDeprecationWarning: Setting data with a non sequence type is deprecated since 3.7 and will be remove two minor releases later\n",
            "  line_vertical.set_xdata(bitcoin_df['ds'][end_idx])  #line_vertical의 x 데이터를 변경한다. bitcoin_df의 y 열에서 end_idx에 해당하는 행의 값을 가져오는것이다.\n"
          ]
        },
        {
          "output_type": "stream",
          "name": "stdout",
          "text": [
            "1/1 [==============================] - 0s 47ms/step\n"
          ]
        },
        {
          "output_type": "stream",
          "name": "stderr",
          "text": [
            "<ipython-input-12-62fb44db4d1e>:54: MatplotlibDeprecationWarning: Setting data with a non sequence type is deprecated since 3.7 and will be remove two minor releases later\n",
            "  line_forecast.set_data(bitcoin_df['ds'][end_idx], predicted[0][0])  # line_forecast의 데이터를 bitcoin_df의 ds열에서 선택한 데이터와 predicted의 예측값으로 설정하여 그래프의 예측 선을 새로운 데이터로 업데이트 하는 것이다\n"
          ]
        },
        {
          "output_type": "stream",
          "name": "stdout",
          "text": [
            "1/1 [==============================] - 0s 14ms/step - loss: 0.0021\n"
          ]
        },
        {
          "output_type": "stream",
          "name": "stderr",
          "text": [
            "<ipython-input-12-62fb44db4d1e>:29: MatplotlibDeprecationWarning: Setting data with a non sequence type is deprecated since 3.7 and will be remove two minor releases later\n",
            "  line_vertical.set_xdata(bitcoin_df['ds'][end_idx])  #line_vertical의 x 데이터를 변경한다. bitcoin_df의 y 열에서 end_idx에 해당하는 행의 값을 가져오는것이다.\n"
          ]
        },
        {
          "output_type": "stream",
          "name": "stdout",
          "text": [
            "1/1 [==============================] - 0s 49ms/step\n"
          ]
        },
        {
          "output_type": "stream",
          "name": "stderr",
          "text": [
            "<ipython-input-12-62fb44db4d1e>:54: MatplotlibDeprecationWarning: Setting data with a non sequence type is deprecated since 3.7 and will be remove two minor releases later\n",
            "  line_forecast.set_data(bitcoin_df['ds'][end_idx], predicted[0][0])  # line_forecast의 데이터를 bitcoin_df의 ds열에서 선택한 데이터와 predicted의 예측값으로 설정하여 그래프의 예측 선을 새로운 데이터로 업데이트 하는 것이다\n",
            "<ipython-input-12-62fb44db4d1e>:29: MatplotlibDeprecationWarning: Setting data with a non sequence type is deprecated since 3.7 and will be remove two minor releases later\n",
            "  line_vertical.set_xdata(bitcoin_df['ds'][end_idx])  #line_vertical의 x 데이터를 변경한다. bitcoin_df의 y 열에서 end_idx에 해당하는 행의 값을 가져오는것이다.\n"
          ]
        },
        {
          "output_type": "stream",
          "name": "stdout",
          "text": [
            "1/1 [==============================] - 0s 20ms/step - loss: 4.8947e-04\n",
            "1/1 [==============================] - 0s 44ms/step\n"
          ]
        },
        {
          "output_type": "stream",
          "name": "stderr",
          "text": [
            "<ipython-input-12-62fb44db4d1e>:54: MatplotlibDeprecationWarning: Setting data with a non sequence type is deprecated since 3.7 and will be remove two minor releases later\n",
            "  line_forecast.set_data(bitcoin_df['ds'][end_idx], predicted[0][0])  # line_forecast의 데이터를 bitcoin_df의 ds열에서 선택한 데이터와 predicted의 예측값으로 설정하여 그래프의 예측 선을 새로운 데이터로 업데이트 하는 것이다\n"
          ]
        },
        {
          "output_type": "stream",
          "name": "stdout",
          "text": [
            "1/1 [==============================] - 0s 13ms/step - loss: 6.4192e-04\n"
          ]
        },
        {
          "output_type": "stream",
          "name": "stderr",
          "text": [
            "<ipython-input-12-62fb44db4d1e>:29: MatplotlibDeprecationWarning: Setting data with a non sequence type is deprecated since 3.7 and will be remove two minor releases later\n",
            "  line_vertical.set_xdata(bitcoin_df['ds'][end_idx])  #line_vertical의 x 데이터를 변경한다. bitcoin_df의 y 열에서 end_idx에 해당하는 행의 값을 가져오는것이다.\n"
          ]
        },
        {
          "output_type": "stream",
          "name": "stdout",
          "text": [
            "1/1 [==============================] - 0s 38ms/step\n"
          ]
        },
        {
          "output_type": "stream",
          "name": "stderr",
          "text": [
            "<ipython-input-12-62fb44db4d1e>:54: MatplotlibDeprecationWarning: Setting data with a non sequence type is deprecated since 3.7 and will be remove two minor releases later\n",
            "  line_forecast.set_data(bitcoin_df['ds'][end_idx], predicted[0][0])  # line_forecast의 데이터를 bitcoin_df의 ds열에서 선택한 데이터와 predicted의 예측값으로 설정하여 그래프의 예측 선을 새로운 데이터로 업데이트 하는 것이다\n"
          ]
        },
        {
          "output_type": "stream",
          "name": "stdout",
          "text": [
            "1/1 [==============================] - 0s 23ms/step - loss: 6.3610e-04\n"
          ]
        },
        {
          "output_type": "stream",
          "name": "stderr",
          "text": [
            "<ipython-input-12-62fb44db4d1e>:29: MatplotlibDeprecationWarning: Setting data with a non sequence type is deprecated since 3.7 and will be remove two minor releases later\n",
            "  line_vertical.set_xdata(bitcoin_df['ds'][end_idx])  #line_vertical의 x 데이터를 변경한다. bitcoin_df의 y 열에서 end_idx에 해당하는 행의 값을 가져오는것이다.\n"
          ]
        },
        {
          "output_type": "stream",
          "name": "stdout",
          "text": [
            "1/1 [==============================] - 0s 29ms/step\n",
            "1/1 [==============================] - ETA: 0s - loss: 0.0063"
          ]
        },
        {
          "output_type": "stream",
          "name": "stderr",
          "text": [
            "<ipython-input-12-62fb44db4d1e>:54: MatplotlibDeprecationWarning: Setting data with a non sequence type is deprecated since 3.7 and will be remove two minor releases later\n",
            "  line_forecast.set_data(bitcoin_df['ds'][end_idx], predicted[0][0])  # line_forecast의 데이터를 bitcoin_df의 ds열에서 선택한 데이터와 predicted의 예측값으로 설정하여 그래프의 예측 선을 새로운 데이터로 업데이트 하는 것이다\n",
            "<ipython-input-12-62fb44db4d1e>:29: MatplotlibDeprecationWarning: Setting data with a non sequence type is deprecated since 3.7 and will be remove two minor releases later\n",
            "  line_vertical.set_xdata(bitcoin_df['ds'][end_idx])  #line_vertical의 x 데이터를 변경한다. bitcoin_df의 y 열에서 end_idx에 해당하는 행의 값을 가져오는것이다.\n"
          ]
        },
        {
          "output_type": "stream",
          "name": "stdout",
          "text": [
            "1/1 [==============================] - 0s 14ms/step - loss: 0.0063\n",
            "1/1 [==============================] - 0s 25ms/step\n"
          ]
        },
        {
          "output_type": "stream",
          "name": "stderr",
          "text": [
            "<ipython-input-12-62fb44db4d1e>:54: MatplotlibDeprecationWarning: Setting data with a non sequence type is deprecated since 3.7 and will be remove two minor releases later\n",
            "  line_forecast.set_data(bitcoin_df['ds'][end_idx], predicted[0][0])  # line_forecast의 데이터를 bitcoin_df의 ds열에서 선택한 데이터와 predicted의 예측값으로 설정하여 그래프의 예측 선을 새로운 데이터로 업데이트 하는 것이다\n",
            "<ipython-input-12-62fb44db4d1e>:29: MatplotlibDeprecationWarning: Setting data with a non sequence type is deprecated since 3.7 and will be remove two minor releases later\n",
            "  line_vertical.set_xdata(bitcoin_df['ds'][end_idx])  #line_vertical의 x 데이터를 변경한다. bitcoin_df의 y 열에서 end_idx에 해당하는 행의 값을 가져오는것이다.\n"
          ]
        },
        {
          "output_type": "stream",
          "name": "stdout",
          "text": [
            "1/1 [==============================] - 0s 11ms/step - loss: 0.0032\n",
            "1/1 [==============================] - 0s 24ms/step\n"
          ]
        },
        {
          "output_type": "stream",
          "name": "stderr",
          "text": [
            "<ipython-input-12-62fb44db4d1e>:54: MatplotlibDeprecationWarning: Setting data with a non sequence type is deprecated since 3.7 and will be remove two minor releases later\n",
            "  line_forecast.set_data(bitcoin_df['ds'][end_idx], predicted[0][0])  # line_forecast의 데이터를 bitcoin_df의 ds열에서 선택한 데이터와 predicted의 예측값으로 설정하여 그래프의 예측 선을 새로운 데이터로 업데이트 하는 것이다\n",
            "<ipython-input-12-62fb44db4d1e>:29: MatplotlibDeprecationWarning: Setting data with a non sequence type is deprecated since 3.7 and will be remove two minor releases later\n",
            "  line_vertical.set_xdata(bitcoin_df['ds'][end_idx])  #line_vertical의 x 데이터를 변경한다. bitcoin_df의 y 열에서 end_idx에 해당하는 행의 값을 가져오는것이다.\n"
          ]
        },
        {
          "output_type": "stream",
          "name": "stdout",
          "text": [
            "1/1 [==============================] - 0s 10ms/step - loss: 1.2889e-04\n",
            "1/1 [==============================] - 0s 24ms/step\n"
          ]
        },
        {
          "output_type": "stream",
          "name": "stderr",
          "text": [
            "<ipython-input-12-62fb44db4d1e>:54: MatplotlibDeprecationWarning: Setting data with a non sequence type is deprecated since 3.7 and will be remove two minor releases later\n",
            "  line_forecast.set_data(bitcoin_df['ds'][end_idx], predicted[0][0])  # line_forecast의 데이터를 bitcoin_df의 ds열에서 선택한 데이터와 predicted의 예측값으로 설정하여 그래프의 예측 선을 새로운 데이터로 업데이트 하는 것이다\n",
            "<ipython-input-12-62fb44db4d1e>:29: MatplotlibDeprecationWarning: Setting data with a non sequence type is deprecated since 3.7 and will be remove two minor releases later\n",
            "  line_vertical.set_xdata(bitcoin_df['ds'][end_idx])  #line_vertical의 x 데이터를 변경한다. bitcoin_df의 y 열에서 end_idx에 해당하는 행의 값을 가져오는것이다.\n"
          ]
        },
        {
          "output_type": "stream",
          "name": "stdout",
          "text": [
            "1/1 [==============================] - 0s 12ms/step - loss: 9.5629e-05\n",
            "1/1 [==============================] - 0s 25ms/step\n"
          ]
        },
        {
          "output_type": "stream",
          "name": "stderr",
          "text": [
            "<ipython-input-12-62fb44db4d1e>:54: MatplotlibDeprecationWarning: Setting data with a non sequence type is deprecated since 3.7 and will be remove two minor releases later\n",
            "  line_forecast.set_data(bitcoin_df['ds'][end_idx], predicted[0][0])  # line_forecast의 데이터를 bitcoin_df의 ds열에서 선택한 데이터와 predicted의 예측값으로 설정하여 그래프의 예측 선을 새로운 데이터로 업데이트 하는 것이다\n",
            "<ipython-input-12-62fb44db4d1e>:29: MatplotlibDeprecationWarning: Setting data with a non sequence type is deprecated since 3.7 and will be remove two minor releases later\n",
            "  line_vertical.set_xdata(bitcoin_df['ds'][end_idx])  #line_vertical의 x 데이터를 변경한다. bitcoin_df의 y 열에서 end_idx에 해당하는 행의 값을 가져오는것이다.\n"
          ]
        },
        {
          "output_type": "stream",
          "name": "stdout",
          "text": [
            "1/1 [==============================] - 0s 10ms/step - loss: 4.0723e-04\n",
            "1/1 [==============================] - 0s 27ms/step\n"
          ]
        },
        {
          "output_type": "stream",
          "name": "stderr",
          "text": [
            "<ipython-input-12-62fb44db4d1e>:54: MatplotlibDeprecationWarning: Setting data with a non sequence type is deprecated since 3.7 and will be remove two minor releases later\n",
            "  line_forecast.set_data(bitcoin_df['ds'][end_idx], predicted[0][0])  # line_forecast의 데이터를 bitcoin_df의 ds열에서 선택한 데이터와 predicted의 예측값으로 설정하여 그래프의 예측 선을 새로운 데이터로 업데이트 하는 것이다\n",
            "<ipython-input-12-62fb44db4d1e>:29: MatplotlibDeprecationWarning: Setting data with a non sequence type is deprecated since 3.7 and will be remove two minor releases later\n",
            "  line_vertical.set_xdata(bitcoin_df['ds'][end_idx])  #line_vertical의 x 데이터를 변경한다. bitcoin_df의 y 열에서 end_idx에 해당하는 행의 값을 가져오는것이다.\n"
          ]
        },
        {
          "output_type": "stream",
          "name": "stdout",
          "text": [
            "1/1 [==============================] - 0s 22ms/step - loss: 0.0022\n",
            "1/1 [==============================] - 0s 26ms/step\n"
          ]
        },
        {
          "output_type": "stream",
          "name": "stderr",
          "text": [
            "<ipython-input-12-62fb44db4d1e>:54: MatplotlibDeprecationWarning: Setting data with a non sequence type is deprecated since 3.7 and will be remove two minor releases later\n",
            "  line_forecast.set_data(bitcoin_df['ds'][end_idx], predicted[0][0])  # line_forecast의 데이터를 bitcoin_df의 ds열에서 선택한 데이터와 predicted의 예측값으로 설정하여 그래프의 예측 선을 새로운 데이터로 업데이트 하는 것이다\n",
            "<ipython-input-12-62fb44db4d1e>:29: MatplotlibDeprecationWarning: Setting data with a non sequence type is deprecated since 3.7 and will be remove two minor releases later\n",
            "  line_vertical.set_xdata(bitcoin_df['ds'][end_idx])  #line_vertical의 x 데이터를 변경한다. bitcoin_df의 y 열에서 end_idx에 해당하는 행의 값을 가져오는것이다.\n"
          ]
        },
        {
          "output_type": "stream",
          "name": "stdout",
          "text": [
            "1/1 [==============================] - 0s 12ms/step - loss: 0.0107\n",
            "1/1 [==============================] - 0s 24ms/step\n"
          ]
        },
        {
          "output_type": "stream",
          "name": "stderr",
          "text": [
            "<ipython-input-12-62fb44db4d1e>:54: MatplotlibDeprecationWarning: Setting data with a non sequence type is deprecated since 3.7 and will be remove two minor releases later\n",
            "  line_forecast.set_data(bitcoin_df['ds'][end_idx], predicted[0][0])  # line_forecast의 데이터를 bitcoin_df의 ds열에서 선택한 데이터와 predicted의 예측값으로 설정하여 그래프의 예측 선을 새로운 데이터로 업데이트 하는 것이다\n",
            "<ipython-input-12-62fb44db4d1e>:29: MatplotlibDeprecationWarning: Setting data with a non sequence type is deprecated since 3.7 and will be remove two minor releases later\n",
            "  line_vertical.set_xdata(bitcoin_df['ds'][end_idx])  #line_vertical의 x 데이터를 변경한다. bitcoin_df의 y 열에서 end_idx에 해당하는 행의 값을 가져오는것이다.\n"
          ]
        },
        {
          "output_type": "stream",
          "name": "stdout",
          "text": [
            "1/1 [==============================] - 0s 20ms/step - loss: 0.0596\n",
            "1/1 [==============================] - 0s 27ms/step\n"
          ]
        },
        {
          "output_type": "stream",
          "name": "stderr",
          "text": [
            "<ipython-input-12-62fb44db4d1e>:54: MatplotlibDeprecationWarning: Setting data with a non sequence type is deprecated since 3.7 and will be remove two minor releases later\n",
            "  line_forecast.set_data(bitcoin_df['ds'][end_idx], predicted[0][0])  # line_forecast의 데이터를 bitcoin_df의 ds열에서 선택한 데이터와 predicted의 예측값으로 설정하여 그래프의 예측 선을 새로운 데이터로 업데이트 하는 것이다\n",
            "<ipython-input-12-62fb44db4d1e>:29: MatplotlibDeprecationWarning: Setting data with a non sequence type is deprecated since 3.7 and will be remove two minor releases later\n",
            "  line_vertical.set_xdata(bitcoin_df['ds'][end_idx])  #line_vertical의 x 데이터를 변경한다. bitcoin_df의 y 열에서 end_idx에 해당하는 행의 값을 가져오는것이다.\n"
          ]
        },
        {
          "output_type": "stream",
          "name": "stdout",
          "text": [
            "1/1 [==============================] - 0s 15ms/step - loss: 0.0461\n",
            "1/1 [==============================] - 0s 24ms/step\n"
          ]
        },
        {
          "output_type": "stream",
          "name": "stderr",
          "text": [
            "<ipython-input-12-62fb44db4d1e>:54: MatplotlibDeprecationWarning: Setting data with a non sequence type is deprecated since 3.7 and will be remove two minor releases later\n",
            "  line_forecast.set_data(bitcoin_df['ds'][end_idx], predicted[0][0])  # line_forecast의 데이터를 bitcoin_df의 ds열에서 선택한 데이터와 predicted의 예측값으로 설정하여 그래프의 예측 선을 새로운 데이터로 업데이트 하는 것이다\n",
            "<ipython-input-12-62fb44db4d1e>:29: MatplotlibDeprecationWarning: Setting data with a non sequence type is deprecated since 3.7 and will be remove two minor releases later\n",
            "  line_vertical.set_xdata(bitcoin_df['ds'][end_idx])  #line_vertical의 x 데이터를 변경한다. bitcoin_df의 y 열에서 end_idx에 해당하는 행의 값을 가져오는것이다.\n"
          ]
        },
        {
          "output_type": "stream",
          "name": "stdout",
          "text": [
            "1/1 [==============================] - 0s 11ms/step - loss: 0.0295\n",
            "1/1 [==============================] - 0s 26ms/step\n"
          ]
        },
        {
          "output_type": "stream",
          "name": "stderr",
          "text": [
            "<ipython-input-12-62fb44db4d1e>:54: MatplotlibDeprecationWarning: Setting data with a non sequence type is deprecated since 3.7 and will be remove two minor releases later\n",
            "  line_forecast.set_data(bitcoin_df['ds'][end_idx], predicted[0][0])  # line_forecast의 데이터를 bitcoin_df의 ds열에서 선택한 데이터와 predicted의 예측값으로 설정하여 그래프의 예측 선을 새로운 데이터로 업데이트 하는 것이다\n",
            "<ipython-input-12-62fb44db4d1e>:29: MatplotlibDeprecationWarning: Setting data with a non sequence type is deprecated since 3.7 and will be remove two minor releases later\n",
            "  line_vertical.set_xdata(bitcoin_df['ds'][end_idx])  #line_vertical의 x 데이터를 변경한다. bitcoin_df의 y 열에서 end_idx에 해당하는 행의 값을 가져오는것이다.\n"
          ]
        },
        {
          "output_type": "stream",
          "name": "stdout",
          "text": [
            "1/1 [==============================] - 0s 16ms/step - loss: 0.0500\n",
            "1/1 [==============================] - 0s 30ms/step\n"
          ]
        },
        {
          "output_type": "stream",
          "name": "stderr",
          "text": [
            "<ipython-input-12-62fb44db4d1e>:54: MatplotlibDeprecationWarning: Setting data with a non sequence type is deprecated since 3.7 and will be remove two minor releases later\n",
            "  line_forecast.set_data(bitcoin_df['ds'][end_idx], predicted[0][0])  # line_forecast의 데이터를 bitcoin_df의 ds열에서 선택한 데이터와 predicted의 예측값으로 설정하여 그래프의 예측 선을 새로운 데이터로 업데이트 하는 것이다\n",
            "<ipython-input-12-62fb44db4d1e>:29: MatplotlibDeprecationWarning: Setting data with a non sequence type is deprecated since 3.7 and will be remove two minor releases later\n",
            "  line_vertical.set_xdata(bitcoin_df['ds'][end_idx])  #line_vertical의 x 데이터를 변경한다. bitcoin_df의 y 열에서 end_idx에 해당하는 행의 값을 가져오는것이다.\n"
          ]
        },
        {
          "output_type": "stream",
          "name": "stdout",
          "text": [
            "1/1 [==============================] - 0s 10ms/step - loss: 0.0339\n",
            "1/1 [==============================] - 0s 27ms/step\n"
          ]
        },
        {
          "output_type": "stream",
          "name": "stderr",
          "text": [
            "<ipython-input-12-62fb44db4d1e>:54: MatplotlibDeprecationWarning: Setting data with a non sequence type is deprecated since 3.7 and will be remove two minor releases later\n",
            "  line_forecast.set_data(bitcoin_df['ds'][end_idx], predicted[0][0])  # line_forecast의 데이터를 bitcoin_df의 ds열에서 선택한 데이터와 predicted의 예측값으로 설정하여 그래프의 예측 선을 새로운 데이터로 업데이트 하는 것이다\n",
            "<ipython-input-12-62fb44db4d1e>:29: MatplotlibDeprecationWarning: Setting data with a non sequence type is deprecated since 3.7 and will be remove two minor releases later\n",
            "  line_vertical.set_xdata(bitcoin_df['ds'][end_idx])  #line_vertical의 x 데이터를 변경한다. bitcoin_df의 y 열에서 end_idx에 해당하는 행의 값을 가져오는것이다.\n"
          ]
        },
        {
          "output_type": "stream",
          "name": "stdout",
          "text": [
            "1/1 [==============================] - 0s 10ms/step - loss: 0.0463\n",
            "1/1 [==============================] - 0s 23ms/step\n"
          ]
        },
        {
          "output_type": "stream",
          "name": "stderr",
          "text": [
            "<ipython-input-12-62fb44db4d1e>:54: MatplotlibDeprecationWarning: Setting data with a non sequence type is deprecated since 3.7 and will be remove two minor releases later\n",
            "  line_forecast.set_data(bitcoin_df['ds'][end_idx], predicted[0][0])  # line_forecast의 데이터를 bitcoin_df의 ds열에서 선택한 데이터와 predicted의 예측값으로 설정하여 그래프의 예측 선을 새로운 데이터로 업데이트 하는 것이다\n",
            "<ipython-input-12-62fb44db4d1e>:29: MatplotlibDeprecationWarning: Setting data with a non sequence type is deprecated since 3.7 and will be remove two minor releases later\n",
            "  line_vertical.set_xdata(bitcoin_df['ds'][end_idx])  #line_vertical의 x 데이터를 변경한다. bitcoin_df의 y 열에서 end_idx에 해당하는 행의 값을 가져오는것이다.\n"
          ]
        },
        {
          "output_type": "stream",
          "name": "stdout",
          "text": [
            "1/1 [==============================] - 0s 13ms/step - loss: 0.0157\n",
            "1/1 [==============================] - 0s 24ms/step\n"
          ]
        },
        {
          "output_type": "stream",
          "name": "stderr",
          "text": [
            "<ipython-input-12-62fb44db4d1e>:54: MatplotlibDeprecationWarning: Setting data with a non sequence type is deprecated since 3.7 and will be remove two minor releases later\n",
            "  line_forecast.set_data(bitcoin_df['ds'][end_idx], predicted[0][0])  # line_forecast의 데이터를 bitcoin_df의 ds열에서 선택한 데이터와 predicted의 예측값으로 설정하여 그래프의 예측 선을 새로운 데이터로 업데이트 하는 것이다\n",
            "<ipython-input-12-62fb44db4d1e>:29: MatplotlibDeprecationWarning: Setting data with a non sequence type is deprecated since 3.7 and will be remove two minor releases later\n",
            "  line_vertical.set_xdata(bitcoin_df['ds'][end_idx])  #line_vertical의 x 데이터를 변경한다. bitcoin_df의 y 열에서 end_idx에 해당하는 행의 값을 가져오는것이다.\n"
          ]
        },
        {
          "output_type": "stream",
          "name": "stdout",
          "text": [
            "1/1 [==============================] - 0s 18ms/step - loss: 0.0119\n",
            "1/1 [==============================] - 0s 27ms/step\n"
          ]
        },
        {
          "output_type": "stream",
          "name": "stderr",
          "text": [
            "<ipython-input-12-62fb44db4d1e>:54: MatplotlibDeprecationWarning: Setting data with a non sequence type is deprecated since 3.7 and will be remove two minor releases later\n",
            "  line_forecast.set_data(bitcoin_df['ds'][end_idx], predicted[0][0])  # line_forecast의 데이터를 bitcoin_df의 ds열에서 선택한 데이터와 predicted의 예측값으로 설정하여 그래프의 예측 선을 새로운 데이터로 업데이트 하는 것이다\n",
            "<ipython-input-12-62fb44db4d1e>:29: MatplotlibDeprecationWarning: Setting data with a non sequence type is deprecated since 3.7 and will be remove two minor releases later\n",
            "  line_vertical.set_xdata(bitcoin_df['ds'][end_idx])  #line_vertical의 x 데이터를 변경한다. bitcoin_df의 y 열에서 end_idx에 해당하는 행의 값을 가져오는것이다.\n"
          ]
        },
        {
          "output_type": "stream",
          "name": "stdout",
          "text": [
            "1/1 [==============================] - 0s 10ms/step - loss: 0.0090\n",
            "1/1 [==============================] - 0s 24ms/step\n"
          ]
        },
        {
          "output_type": "stream",
          "name": "stderr",
          "text": [
            "<ipython-input-12-62fb44db4d1e>:54: MatplotlibDeprecationWarning: Setting data with a non sequence type is deprecated since 3.7 and will be remove two minor releases later\n",
            "  line_forecast.set_data(bitcoin_df['ds'][end_idx], predicted[0][0])  # line_forecast의 데이터를 bitcoin_df의 ds열에서 선택한 데이터와 predicted의 예측값으로 설정하여 그래프의 예측 선을 새로운 데이터로 업데이트 하는 것이다\n",
            "<ipython-input-12-62fb44db4d1e>:29: MatplotlibDeprecationWarning: Setting data with a non sequence type is deprecated since 3.7 and will be remove two minor releases later\n",
            "  line_vertical.set_xdata(bitcoin_df['ds'][end_idx])  #line_vertical의 x 데이터를 변경한다. bitcoin_df의 y 열에서 end_idx에 해당하는 행의 값을 가져오는것이다.\n"
          ]
        },
        {
          "output_type": "stream",
          "name": "stdout",
          "text": [
            "1/1 [==============================] - 0s 10ms/step - loss: 0.0123\n",
            "1/1 [==============================] - 0s 26ms/step\n"
          ]
        },
        {
          "output_type": "stream",
          "name": "stderr",
          "text": [
            "<ipython-input-12-62fb44db4d1e>:54: MatplotlibDeprecationWarning: Setting data with a non sequence type is deprecated since 3.7 and will be remove two minor releases later\n",
            "  line_forecast.set_data(bitcoin_df['ds'][end_idx], predicted[0][0])  # line_forecast의 데이터를 bitcoin_df의 ds열에서 선택한 데이터와 predicted의 예측값으로 설정하여 그래프의 예측 선을 새로운 데이터로 업데이트 하는 것이다\n",
            "<ipython-input-12-62fb44db4d1e>:29: MatplotlibDeprecationWarning: Setting data with a non sequence type is deprecated since 3.7 and will be remove two minor releases later\n",
            "  line_vertical.set_xdata(bitcoin_df['ds'][end_idx])  #line_vertical의 x 데이터를 변경한다. bitcoin_df의 y 열에서 end_idx에 해당하는 행의 값을 가져오는것이다.\n"
          ]
        },
        {
          "output_type": "stream",
          "name": "stdout",
          "text": [
            "1/1 [==============================] - 0s 10ms/step - loss: 0.0029\n",
            "1/1 [==============================] - 0s 25ms/step\n"
          ]
        },
        {
          "output_type": "stream",
          "name": "stderr",
          "text": [
            "<ipython-input-12-62fb44db4d1e>:54: MatplotlibDeprecationWarning: Setting data with a non sequence type is deprecated since 3.7 and will be remove two minor releases later\n",
            "  line_forecast.set_data(bitcoin_df['ds'][end_idx], predicted[0][0])  # line_forecast의 데이터를 bitcoin_df의 ds열에서 선택한 데이터와 predicted의 예측값으로 설정하여 그래프의 예측 선을 새로운 데이터로 업데이트 하는 것이다\n",
            "<ipython-input-12-62fb44db4d1e>:29: MatplotlibDeprecationWarning: Setting data with a non sequence type is deprecated since 3.7 and will be remove two minor releases later\n",
            "  line_vertical.set_xdata(bitcoin_df['ds'][end_idx])  #line_vertical의 x 데이터를 변경한다. bitcoin_df의 y 열에서 end_idx에 해당하는 행의 값을 가져오는것이다.\n"
          ]
        },
        {
          "output_type": "stream",
          "name": "stdout",
          "text": [
            "1/1 [==============================] - 0s 9ms/step - loss: 0.0025\n",
            "1/1 [==============================] - 0s 26ms/step\n"
          ]
        },
        {
          "output_type": "stream",
          "name": "stderr",
          "text": [
            "<ipython-input-12-62fb44db4d1e>:54: MatplotlibDeprecationWarning: Setting data with a non sequence type is deprecated since 3.7 and will be remove two minor releases later\n",
            "  line_forecast.set_data(bitcoin_df['ds'][end_idx], predicted[0][0])  # line_forecast의 데이터를 bitcoin_df의 ds열에서 선택한 데이터와 predicted의 예측값으로 설정하여 그래프의 예측 선을 새로운 데이터로 업데이트 하는 것이다\n",
            "<ipython-input-12-62fb44db4d1e>:29: MatplotlibDeprecationWarning: Setting data with a non sequence type is deprecated since 3.7 and will be remove two minor releases later\n",
            "  line_vertical.set_xdata(bitcoin_df['ds'][end_idx])  #line_vertical의 x 데이터를 변경한다. bitcoin_df의 y 열에서 end_idx에 해당하는 행의 값을 가져오는것이다.\n"
          ]
        },
        {
          "output_type": "stream",
          "name": "stdout",
          "text": [
            "1/1 [==============================] - 0s 14ms/step - loss: 0.0012\n",
            "1/1 [==============================] - 0s 27ms/step\n"
          ]
        },
        {
          "output_type": "stream",
          "name": "stderr",
          "text": [
            "<ipython-input-12-62fb44db4d1e>:54: MatplotlibDeprecationWarning: Setting data with a non sequence type is deprecated since 3.7 and will be remove two minor releases later\n",
            "  line_forecast.set_data(bitcoin_df['ds'][end_idx], predicted[0][0])  # line_forecast의 데이터를 bitcoin_df의 ds열에서 선택한 데이터와 predicted의 예측값으로 설정하여 그래프의 예측 선을 새로운 데이터로 업데이트 하는 것이다\n",
            "<ipython-input-12-62fb44db4d1e>:29: MatplotlibDeprecationWarning: Setting data with a non sequence type is deprecated since 3.7 and will be remove two minor releases later\n",
            "  line_vertical.set_xdata(bitcoin_df['ds'][end_idx])  #line_vertical의 x 데이터를 변경한다. bitcoin_df의 y 열에서 end_idx에 해당하는 행의 값을 가져오는것이다.\n"
          ]
        },
        {
          "output_type": "stream",
          "name": "stdout",
          "text": [
            "1/1 [==============================] - 0s 10ms/step - loss: 0.0024\n",
            "1/1 [==============================] - 0s 24ms/step\n"
          ]
        },
        {
          "output_type": "stream",
          "name": "stderr",
          "text": [
            "<ipython-input-12-62fb44db4d1e>:54: MatplotlibDeprecationWarning: Setting data with a non sequence type is deprecated since 3.7 and will be remove two minor releases later\n",
            "  line_forecast.set_data(bitcoin_df['ds'][end_idx], predicted[0][0])  # line_forecast의 데이터를 bitcoin_df의 ds열에서 선택한 데이터와 predicted의 예측값으로 설정하여 그래프의 예측 선을 새로운 데이터로 업데이트 하는 것이다\n",
            "<ipython-input-12-62fb44db4d1e>:29: MatplotlibDeprecationWarning: Setting data with a non sequence type is deprecated since 3.7 and will be remove two minor releases later\n",
            "  line_vertical.set_xdata(bitcoin_df['ds'][end_idx])  #line_vertical의 x 데이터를 변경한다. bitcoin_df의 y 열에서 end_idx에 해당하는 행의 값을 가져오는것이다.\n"
          ]
        },
        {
          "output_type": "stream",
          "name": "stdout",
          "text": [
            "1/1 [==============================] - 0s 9ms/step - loss: 0.0029\n",
            "1/1 [==============================] - 0s 24ms/step\n"
          ]
        },
        {
          "output_type": "stream",
          "name": "stderr",
          "text": [
            "<ipython-input-12-62fb44db4d1e>:54: MatplotlibDeprecationWarning: Setting data with a non sequence type is deprecated since 3.7 and will be remove two minor releases later\n",
            "  line_forecast.set_data(bitcoin_df['ds'][end_idx], predicted[0][0])  # line_forecast의 데이터를 bitcoin_df의 ds열에서 선택한 데이터와 predicted의 예측값으로 설정하여 그래프의 예측 선을 새로운 데이터로 업데이트 하는 것이다\n",
            "<ipython-input-12-62fb44db4d1e>:29: MatplotlibDeprecationWarning: Setting data with a non sequence type is deprecated since 3.7 and will be remove two minor releases later\n",
            "  line_vertical.set_xdata(bitcoin_df['ds'][end_idx])  #line_vertical의 x 데이터를 변경한다. bitcoin_df의 y 열에서 end_idx에 해당하는 행의 값을 가져오는것이다.\n"
          ]
        },
        {
          "output_type": "stream",
          "name": "stdout",
          "text": [
            "1/1 [==============================] - 0s 9ms/step - loss: 0.0033\n",
            "1/1 [==============================] - 0s 25ms/step\n"
          ]
        },
        {
          "output_type": "stream",
          "name": "stderr",
          "text": [
            "<ipython-input-12-62fb44db4d1e>:54: MatplotlibDeprecationWarning: Setting data with a non sequence type is deprecated since 3.7 and will be remove two minor releases later\n",
            "  line_forecast.set_data(bitcoin_df['ds'][end_idx], predicted[0][0])  # line_forecast의 데이터를 bitcoin_df의 ds열에서 선택한 데이터와 predicted의 예측값으로 설정하여 그래프의 예측 선을 새로운 데이터로 업데이트 하는 것이다\n",
            "<ipython-input-12-62fb44db4d1e>:29: MatplotlibDeprecationWarning: Setting data with a non sequence type is deprecated since 3.7 and will be remove two minor releases later\n",
            "  line_vertical.set_xdata(bitcoin_df['ds'][end_idx])  #line_vertical의 x 데이터를 변경한다. bitcoin_df의 y 열에서 end_idx에 해당하는 행의 값을 가져오는것이다.\n"
          ]
        },
        {
          "output_type": "stream",
          "name": "stdout",
          "text": [
            "1/1 [==============================] - 0s 18ms/step - loss: 0.0022\n",
            "1/1 [==============================] - 0s 23ms/step\n"
          ]
        },
        {
          "output_type": "stream",
          "name": "stderr",
          "text": [
            "<ipython-input-12-62fb44db4d1e>:54: MatplotlibDeprecationWarning: Setting data with a non sequence type is deprecated since 3.7 and will be remove two minor releases later\n",
            "  line_forecast.set_data(bitcoin_df['ds'][end_idx], predicted[0][0])  # line_forecast의 데이터를 bitcoin_df의 ds열에서 선택한 데이터와 predicted의 예측값으로 설정하여 그래프의 예측 선을 새로운 데이터로 업데이트 하는 것이다\n",
            "<ipython-input-12-62fb44db4d1e>:29: MatplotlibDeprecationWarning: Setting data with a non sequence type is deprecated since 3.7 and will be remove two minor releases later\n",
            "  line_vertical.set_xdata(bitcoin_df['ds'][end_idx])  #line_vertical의 x 데이터를 변경한다. bitcoin_df의 y 열에서 end_idx에 해당하는 행의 값을 가져오는것이다.\n"
          ]
        },
        {
          "output_type": "stream",
          "name": "stdout",
          "text": [
            "1/1 [==============================] - 0s 12ms/step - loss: 0.0033\n",
            "1/1 [==============================] - 0s 23ms/step\n"
          ]
        },
        {
          "output_type": "stream",
          "name": "stderr",
          "text": [
            "<ipython-input-12-62fb44db4d1e>:54: MatplotlibDeprecationWarning: Setting data with a non sequence type is deprecated since 3.7 and will be remove two minor releases later\n",
            "  line_forecast.set_data(bitcoin_df['ds'][end_idx], predicted[0][0])  # line_forecast의 데이터를 bitcoin_df의 ds열에서 선택한 데이터와 predicted의 예측값으로 설정하여 그래프의 예측 선을 새로운 데이터로 업데이트 하는 것이다\n",
            "<ipython-input-12-62fb44db4d1e>:29: MatplotlibDeprecationWarning: Setting data with a non sequence type is deprecated since 3.7 and will be remove two minor releases later\n",
            "  line_vertical.set_xdata(bitcoin_df['ds'][end_idx])  #line_vertical의 x 데이터를 변경한다. bitcoin_df의 y 열에서 end_idx에 해당하는 행의 값을 가져오는것이다.\n"
          ]
        },
        {
          "output_type": "stream",
          "name": "stdout",
          "text": [
            "1/1 [==============================] - 0s 9ms/step - loss: 0.0035\n",
            "1/1 [==============================] - 0s 27ms/step\n"
          ]
        },
        {
          "output_type": "stream",
          "name": "stderr",
          "text": [
            "<ipython-input-12-62fb44db4d1e>:54: MatplotlibDeprecationWarning: Setting data with a non sequence type is deprecated since 3.7 and will be remove two minor releases later\n",
            "  line_forecast.set_data(bitcoin_df['ds'][end_idx], predicted[0][0])  # line_forecast의 데이터를 bitcoin_df의 ds열에서 선택한 데이터와 predicted의 예측값으로 설정하여 그래프의 예측 선을 새로운 데이터로 업데이트 하는 것이다\n",
            "<ipython-input-12-62fb44db4d1e>:29: MatplotlibDeprecationWarning: Setting data with a non sequence type is deprecated since 3.7 and will be remove two minor releases later\n",
            "  line_vertical.set_xdata(bitcoin_df['ds'][end_idx])  #line_vertical의 x 데이터를 변경한다. bitcoin_df의 y 열에서 end_idx에 해당하는 행의 값을 가져오는것이다.\n"
          ]
        },
        {
          "output_type": "stream",
          "name": "stdout",
          "text": [
            "1/1 [==============================] - 0s 12ms/step - loss: 0.0023\n",
            "1/1 [==============================] - 0s 23ms/step\n"
          ]
        },
        {
          "output_type": "stream",
          "name": "stderr",
          "text": [
            "<ipython-input-12-62fb44db4d1e>:54: MatplotlibDeprecationWarning: Setting data with a non sequence type is deprecated since 3.7 and will be remove two minor releases later\n",
            "  line_forecast.set_data(bitcoin_df['ds'][end_idx], predicted[0][0])  # line_forecast의 데이터를 bitcoin_df의 ds열에서 선택한 데이터와 predicted의 예측값으로 설정하여 그래프의 예측 선을 새로운 데이터로 업데이트 하는 것이다\n",
            "<ipython-input-12-62fb44db4d1e>:29: MatplotlibDeprecationWarning: Setting data with a non sequence type is deprecated since 3.7 and will be remove two minor releases later\n",
            "  line_vertical.set_xdata(bitcoin_df['ds'][end_idx])  #line_vertical의 x 데이터를 변경한다. bitcoin_df의 y 열에서 end_idx에 해당하는 행의 값을 가져오는것이다.\n"
          ]
        },
        {
          "output_type": "stream",
          "name": "stdout",
          "text": [
            "1/1 [==============================] - 0s 12ms/step - loss: 0.0013\n",
            "1/1 [==============================] - 0s 22ms/step\n"
          ]
        },
        {
          "output_type": "stream",
          "name": "stderr",
          "text": [
            "<ipython-input-12-62fb44db4d1e>:54: MatplotlibDeprecationWarning: Setting data with a non sequence type is deprecated since 3.7 and will be remove two minor releases later\n",
            "  line_forecast.set_data(bitcoin_df['ds'][end_idx], predicted[0][0])  # line_forecast의 데이터를 bitcoin_df의 ds열에서 선택한 데이터와 predicted의 예측값으로 설정하여 그래프의 예측 선을 새로운 데이터로 업데이트 하는 것이다\n",
            "<ipython-input-12-62fb44db4d1e>:29: MatplotlibDeprecationWarning: Setting data with a non sequence type is deprecated since 3.7 and will be remove two minor releases later\n",
            "  line_vertical.set_xdata(bitcoin_df['ds'][end_idx])  #line_vertical의 x 데이터를 변경한다. bitcoin_df의 y 열에서 end_idx에 해당하는 행의 값을 가져오는것이다.\n"
          ]
        },
        {
          "output_type": "stream",
          "name": "stdout",
          "text": [
            "1/1 [==============================] - 0s 10ms/step - loss: 5.2550e-05\n",
            "1/1 [==============================] - 0s 27ms/step\n"
          ]
        },
        {
          "output_type": "stream",
          "name": "stderr",
          "text": [
            "<ipython-input-12-62fb44db4d1e>:54: MatplotlibDeprecationWarning: Setting data with a non sequence type is deprecated since 3.7 and will be remove two minor releases later\n",
            "  line_forecast.set_data(bitcoin_df['ds'][end_idx], predicted[0][0])  # line_forecast의 데이터를 bitcoin_df의 ds열에서 선택한 데이터와 predicted의 예측값으로 설정하여 그래프의 예측 선을 새로운 데이터로 업데이트 하는 것이다\n",
            "<ipython-input-12-62fb44db4d1e>:29: MatplotlibDeprecationWarning: Setting data with a non sequence type is deprecated since 3.7 and will be remove two minor releases later\n",
            "  line_vertical.set_xdata(bitcoin_df['ds'][end_idx])  #line_vertical의 x 데이터를 변경한다. bitcoin_df의 y 열에서 end_idx에 해당하는 행의 값을 가져오는것이다.\n"
          ]
        },
        {
          "output_type": "stream",
          "name": "stdout",
          "text": [
            "1/1 [==============================] - 0s 13ms/step - loss: 2.0032e-04\n",
            "1/1 [==============================] - 0s 37ms/step\n"
          ]
        },
        {
          "output_type": "stream",
          "name": "stderr",
          "text": [
            "<ipython-input-12-62fb44db4d1e>:54: MatplotlibDeprecationWarning: Setting data with a non sequence type is deprecated since 3.7 and will be remove two minor releases later\n",
            "  line_forecast.set_data(bitcoin_df['ds'][end_idx], predicted[0][0])  # line_forecast의 데이터를 bitcoin_df의 ds열에서 선택한 데이터와 predicted의 예측값으로 설정하여 그래프의 예측 선을 새로운 데이터로 업데이트 하는 것이다\n",
            "<ipython-input-12-62fb44db4d1e>:29: MatplotlibDeprecationWarning: Setting data with a non sequence type is deprecated since 3.7 and will be remove two minor releases later\n",
            "  line_vertical.set_xdata(bitcoin_df['ds'][end_idx])  #line_vertical의 x 데이터를 변경한다. bitcoin_df의 y 열에서 end_idx에 해당하는 행의 값을 가져오는것이다.\n"
          ]
        },
        {
          "output_type": "stream",
          "name": "stdout",
          "text": [
            "1/1 [==============================] - 0s 18ms/step - loss: 6.7305e-04\n",
            "1/1 [==============================] - 0s 33ms/step\n"
          ]
        },
        {
          "output_type": "stream",
          "name": "stderr",
          "text": [
            "<ipython-input-12-62fb44db4d1e>:54: MatplotlibDeprecationWarning: Setting data with a non sequence type is deprecated since 3.7 and will be remove two minor releases later\n",
            "  line_forecast.set_data(bitcoin_df['ds'][end_idx], predicted[0][0])  # line_forecast의 데이터를 bitcoin_df의 ds열에서 선택한 데이터와 predicted의 예측값으로 설정하여 그래프의 예측 선을 새로운 데이터로 업데이트 하는 것이다\n"
          ]
        },
        {
          "output_type": "stream",
          "name": "stdout",
          "text": [
            "1/1 [==============================] - 0s 14ms/step - loss: 0.0040\n"
          ]
        },
        {
          "output_type": "stream",
          "name": "stderr",
          "text": [
            "<ipython-input-12-62fb44db4d1e>:29: MatplotlibDeprecationWarning: Setting data with a non sequence type is deprecated since 3.7 and will be remove two minor releases later\n",
            "  line_vertical.set_xdata(bitcoin_df['ds'][end_idx])  #line_vertical의 x 데이터를 변경한다. bitcoin_df의 y 열에서 end_idx에 해당하는 행의 값을 가져오는것이다.\n"
          ]
        },
        {
          "output_type": "stream",
          "name": "stdout",
          "text": [
            "1/1 [==============================] - 0s 44ms/step\n"
          ]
        },
        {
          "output_type": "stream",
          "name": "stderr",
          "text": [
            "<ipython-input-12-62fb44db4d1e>:54: MatplotlibDeprecationWarning: Setting data with a non sequence type is deprecated since 3.7 and will be remove two minor releases later\n",
            "  line_forecast.set_data(bitcoin_df['ds'][end_idx], predicted[0][0])  # line_forecast의 데이터를 bitcoin_df의 ds열에서 선택한 데이터와 predicted의 예측값으로 설정하여 그래프의 예측 선을 새로운 데이터로 업데이트 하는 것이다\n"
          ]
        },
        {
          "output_type": "stream",
          "name": "stdout",
          "text": [
            "1/1 [==============================] - 0s 15ms/step - loss: 0.0034\n"
          ]
        },
        {
          "output_type": "stream",
          "name": "stderr",
          "text": [
            "<ipython-input-12-62fb44db4d1e>:29: MatplotlibDeprecationWarning: Setting data with a non sequence type is deprecated since 3.7 and will be remove two minor releases later\n",
            "  line_vertical.set_xdata(bitcoin_df['ds'][end_idx])  #line_vertical의 x 데이터를 변경한다. bitcoin_df의 y 열에서 end_idx에 해당하는 행의 값을 가져오는것이다.\n"
          ]
        },
        {
          "output_type": "stream",
          "name": "stdout",
          "text": [
            "1/1 [==============================] - 0s 35ms/step\n"
          ]
        },
        {
          "output_type": "stream",
          "name": "stderr",
          "text": [
            "<ipython-input-12-62fb44db4d1e>:54: MatplotlibDeprecationWarning: Setting data with a non sequence type is deprecated since 3.7 and will be remove two minor releases later\n",
            "  line_forecast.set_data(bitcoin_df['ds'][end_idx], predicted[0][0])  # line_forecast의 데이터를 bitcoin_df의 ds열에서 선택한 데이터와 predicted의 예측값으로 설정하여 그래프의 예측 선을 새로운 데이터로 업데이트 하는 것이다\n"
          ]
        },
        {
          "output_type": "stream",
          "name": "stdout",
          "text": [
            "1/1 [==============================] - 0s 15ms/step - loss: 0.0023\n"
          ]
        },
        {
          "output_type": "stream",
          "name": "stderr",
          "text": [
            "<ipython-input-12-62fb44db4d1e>:29: MatplotlibDeprecationWarning: Setting data with a non sequence type is deprecated since 3.7 and will be remove two minor releases later\n",
            "  line_vertical.set_xdata(bitcoin_df['ds'][end_idx])  #line_vertical의 x 데이터를 변경한다. bitcoin_df의 y 열에서 end_idx에 해당하는 행의 값을 가져오는것이다.\n"
          ]
        },
        {
          "output_type": "stream",
          "name": "stdout",
          "text": [
            "1/1 [==============================] - 0s 48ms/step\n"
          ]
        },
        {
          "output_type": "stream",
          "name": "stderr",
          "text": [
            "<ipython-input-12-62fb44db4d1e>:54: MatplotlibDeprecationWarning: Setting data with a non sequence type is deprecated since 3.7 and will be remove two minor releases later\n",
            "  line_forecast.set_data(bitcoin_df['ds'][end_idx], predicted[0][0])  # line_forecast의 데이터를 bitcoin_df의 ds열에서 선택한 데이터와 predicted의 예측값으로 설정하여 그래프의 예측 선을 새로운 데이터로 업데이트 하는 것이다\n"
          ]
        },
        {
          "output_type": "stream",
          "name": "stdout",
          "text": [
            "1/1 [==============================] - 0s 13ms/step - loss: 3.3552e-04\n"
          ]
        },
        {
          "output_type": "stream",
          "name": "stderr",
          "text": [
            "<ipython-input-12-62fb44db4d1e>:29: MatplotlibDeprecationWarning: Setting data with a non sequence type is deprecated since 3.7 and will be remove two minor releases later\n",
            "  line_vertical.set_xdata(bitcoin_df['ds'][end_idx])  #line_vertical의 x 데이터를 변경한다. bitcoin_df의 y 열에서 end_idx에 해당하는 행의 값을 가져오는것이다.\n"
          ]
        },
        {
          "output_type": "stream",
          "name": "stdout",
          "text": [
            "1/1 [==============================] - 0s 36ms/step\n"
          ]
        },
        {
          "output_type": "stream",
          "name": "stderr",
          "text": [
            "<ipython-input-12-62fb44db4d1e>:54: MatplotlibDeprecationWarning: Setting data with a non sequence type is deprecated since 3.7 and will be remove two minor releases later\n",
            "  line_forecast.set_data(bitcoin_df['ds'][end_idx], predicted[0][0])  # line_forecast의 데이터를 bitcoin_df의 ds열에서 선택한 데이터와 predicted의 예측값으로 설정하여 그래프의 예측 선을 새로운 데이터로 업데이트 하는 것이다\n"
          ]
        },
        {
          "output_type": "stream",
          "name": "stdout",
          "text": [
            "1/1 [==============================] - 0s 14ms/step - loss: 4.6619e-06\n"
          ]
        },
        {
          "output_type": "stream",
          "name": "stderr",
          "text": [
            "<ipython-input-12-62fb44db4d1e>:29: MatplotlibDeprecationWarning: Setting data with a non sequence type is deprecated since 3.7 and will be remove two minor releases later\n",
            "  line_vertical.set_xdata(bitcoin_df['ds'][end_idx])  #line_vertical의 x 데이터를 변경한다. bitcoin_df의 y 열에서 end_idx에 해당하는 행의 값을 가져오는것이다.\n"
          ]
        },
        {
          "output_type": "stream",
          "name": "stdout",
          "text": [
            "1/1 [==============================] - 0s 47ms/step\n"
          ]
        },
        {
          "output_type": "stream",
          "name": "stderr",
          "text": [
            "<ipython-input-12-62fb44db4d1e>:54: MatplotlibDeprecationWarning: Setting data with a non sequence type is deprecated since 3.7 and will be remove two minor releases later\n",
            "  line_forecast.set_data(bitcoin_df['ds'][end_idx], predicted[0][0])  # line_forecast의 데이터를 bitcoin_df의 ds열에서 선택한 데이터와 predicted의 예측값으로 설정하여 그래프의 예측 선을 새로운 데이터로 업데이트 하는 것이다\n"
          ]
        },
        {
          "output_type": "stream",
          "name": "stdout",
          "text": [
            "1/1 [==============================] - 0s 13ms/step - loss: 5.2338e-04\n"
          ]
        },
        {
          "output_type": "stream",
          "name": "stderr",
          "text": [
            "<ipython-input-12-62fb44db4d1e>:29: MatplotlibDeprecationWarning: Setting data with a non sequence type is deprecated since 3.7 and will be remove two minor releases later\n",
            "  line_vertical.set_xdata(bitcoin_df['ds'][end_idx])  #line_vertical의 x 데이터를 변경한다. bitcoin_df의 y 열에서 end_idx에 해당하는 행의 값을 가져오는것이다.\n"
          ]
        },
        {
          "output_type": "stream",
          "name": "stdout",
          "text": [
            "1/1 [==============================] - 0s 39ms/step\n"
          ]
        },
        {
          "output_type": "stream",
          "name": "stderr",
          "text": [
            "<ipython-input-12-62fb44db4d1e>:54: MatplotlibDeprecationWarning: Setting data with a non sequence type is deprecated since 3.7 and will be remove two minor releases later\n",
            "  line_forecast.set_data(bitcoin_df['ds'][end_idx], predicted[0][0])  # line_forecast의 데이터를 bitcoin_df의 ds열에서 선택한 데이터와 predicted의 예측값으로 설정하여 그래프의 예측 선을 새로운 데이터로 업데이트 하는 것이다\n",
            "<ipython-input-12-62fb44db4d1e>:29: MatplotlibDeprecationWarning: Setting data with a non sequence type is deprecated since 3.7 and will be remove two minor releases later\n",
            "  line_vertical.set_xdata(bitcoin_df['ds'][end_idx])  #line_vertical의 x 데이터를 변경한다. bitcoin_df의 y 열에서 end_idx에 해당하는 행의 값을 가져오는것이다.\n"
          ]
        },
        {
          "output_type": "stream",
          "name": "stdout",
          "text": [
            "1/1 [==============================] - 0s 14ms/step - loss: 4.8715e-04\n",
            "1/1 [==============================] - 0s 33ms/step\n"
          ]
        },
        {
          "output_type": "stream",
          "name": "stderr",
          "text": [
            "<ipython-input-12-62fb44db4d1e>:54: MatplotlibDeprecationWarning: Setting data with a non sequence type is deprecated since 3.7 and will be remove two minor releases later\n",
            "  line_forecast.set_data(bitcoin_df['ds'][end_idx], predicted[0][0])  # line_forecast의 데이터를 bitcoin_df의 ds열에서 선택한 데이터와 predicted의 예측값으로 설정하여 그래프의 예측 선을 새로운 데이터로 업데이트 하는 것이다\n"
          ]
        },
        {
          "output_type": "stream",
          "name": "stdout",
          "text": [
            "1/1 [==============================] - 0s 16ms/step - loss: 0.0020\n"
          ]
        },
        {
          "output_type": "stream",
          "name": "stderr",
          "text": [
            "<ipython-input-12-62fb44db4d1e>:29: MatplotlibDeprecationWarning: Setting data with a non sequence type is deprecated since 3.7 and will be remove two minor releases later\n",
            "  line_vertical.set_xdata(bitcoin_df['ds'][end_idx])  #line_vertical의 x 데이터를 변경한다. bitcoin_df의 y 열에서 end_idx에 해당하는 행의 값을 가져오는것이다.\n"
          ]
        },
        {
          "output_type": "stream",
          "name": "stdout",
          "text": [
            "1/1 [==============================] - 0s 48ms/step\n"
          ]
        },
        {
          "output_type": "stream",
          "name": "stderr",
          "text": [
            "<ipython-input-12-62fb44db4d1e>:54: MatplotlibDeprecationWarning: Setting data with a non sequence type is deprecated since 3.7 and will be remove two minor releases later\n",
            "  line_forecast.set_data(bitcoin_df['ds'][end_idx], predicted[0][0])  # line_forecast의 데이터를 bitcoin_df의 ds열에서 선택한 데이터와 predicted의 예측값으로 설정하여 그래프의 예측 선을 새로운 데이터로 업데이트 하는 것이다\n"
          ]
        },
        {
          "output_type": "stream",
          "name": "stdout",
          "text": [
            "1/1 [==============================] - 0s 19ms/step - loss: 0.0028\n"
          ]
        },
        {
          "output_type": "stream",
          "name": "stderr",
          "text": [
            "<ipython-input-12-62fb44db4d1e>:29: MatplotlibDeprecationWarning: Setting data with a non sequence type is deprecated since 3.7 and will be remove two minor releases later\n",
            "  line_vertical.set_xdata(bitcoin_df['ds'][end_idx])  #line_vertical의 x 데이터를 변경한다. bitcoin_df의 y 열에서 end_idx에 해당하는 행의 값을 가져오는것이다.\n"
          ]
        },
        {
          "output_type": "stream",
          "name": "stdout",
          "text": [
            "1/1 [==============================] - 0s 40ms/step\n"
          ]
        },
        {
          "output_type": "stream",
          "name": "stderr",
          "text": [
            "<ipython-input-12-62fb44db4d1e>:54: MatplotlibDeprecationWarning: Setting data with a non sequence type is deprecated since 3.7 and will be remove two minor releases later\n",
            "  line_forecast.set_data(bitcoin_df['ds'][end_idx], predicted[0][0])  # line_forecast의 데이터를 bitcoin_df의 ds열에서 선택한 데이터와 predicted의 예측값으로 설정하여 그래프의 예측 선을 새로운 데이터로 업데이트 하는 것이다\n"
          ]
        },
        {
          "output_type": "stream",
          "name": "stdout",
          "text": [
            "1/1 [==============================] - 0s 13ms/step - loss: 0.0039\n"
          ]
        },
        {
          "output_type": "stream",
          "name": "stderr",
          "text": [
            "<ipython-input-12-62fb44db4d1e>:29: MatplotlibDeprecationWarning: Setting data with a non sequence type is deprecated since 3.7 and will be remove two minor releases later\n",
            "  line_vertical.set_xdata(bitcoin_df['ds'][end_idx])  #line_vertical의 x 데이터를 변경한다. bitcoin_df의 y 열에서 end_idx에 해당하는 행의 값을 가져오는것이다.\n"
          ]
        },
        {
          "output_type": "stream",
          "name": "stdout",
          "text": [
            "1/1 [==============================] - 0s 49ms/step\n"
          ]
        },
        {
          "output_type": "stream",
          "name": "stderr",
          "text": [
            "<ipython-input-12-62fb44db4d1e>:54: MatplotlibDeprecationWarning: Setting data with a non sequence type is deprecated since 3.7 and will be remove two minor releases later\n",
            "  line_forecast.set_data(bitcoin_df['ds'][end_idx], predicted[0][0])  # line_forecast의 데이터를 bitcoin_df의 ds열에서 선택한 데이터와 predicted의 예측값으로 설정하여 그래프의 예측 선을 새로운 데이터로 업데이트 하는 것이다\n",
            "<ipython-input-12-62fb44db4d1e>:29: MatplotlibDeprecationWarning: Setting data with a non sequence type is deprecated since 3.7 and will be remove two minor releases later\n",
            "  line_vertical.set_xdata(bitcoin_df['ds'][end_idx])  #line_vertical의 x 데이터를 변경한다. bitcoin_df의 y 열에서 end_idx에 해당하는 행의 값을 가져오는것이다.\n"
          ]
        },
        {
          "output_type": "stream",
          "name": "stdout",
          "text": [
            "1/1 [==============================] - 0s 9ms/step - loss: 0.0016\n",
            "1/1 [==============================] - 0s 23ms/step\n"
          ]
        },
        {
          "output_type": "stream",
          "name": "stderr",
          "text": [
            "<ipython-input-12-62fb44db4d1e>:54: MatplotlibDeprecationWarning: Setting data with a non sequence type is deprecated since 3.7 and will be remove two minor releases later\n",
            "  line_forecast.set_data(bitcoin_df['ds'][end_idx], predicted[0][0])  # line_forecast의 데이터를 bitcoin_df의 ds열에서 선택한 데이터와 predicted의 예측값으로 설정하여 그래프의 예측 선을 새로운 데이터로 업데이트 하는 것이다\n",
            "<ipython-input-12-62fb44db4d1e>:29: MatplotlibDeprecationWarning: Setting data with a non sequence type is deprecated since 3.7 and will be remove two minor releases later\n",
            "  line_vertical.set_xdata(bitcoin_df['ds'][end_idx])  #line_vertical의 x 데이터를 변경한다. bitcoin_df의 y 열에서 end_idx에 해당하는 행의 값을 가져오는것이다.\n"
          ]
        },
        {
          "output_type": "stream",
          "name": "stdout",
          "text": [
            "1/1 [==============================] - 0s 10ms/step - loss: 0.0113\n",
            "1/1 [==============================] - 0s 27ms/step\n"
          ]
        },
        {
          "output_type": "stream",
          "name": "stderr",
          "text": [
            "<ipython-input-12-62fb44db4d1e>:54: MatplotlibDeprecationWarning: Setting data with a non sequence type is deprecated since 3.7 and will be remove two minor releases later\n",
            "  line_forecast.set_data(bitcoin_df['ds'][end_idx], predicted[0][0])  # line_forecast의 데이터를 bitcoin_df의 ds열에서 선택한 데이터와 predicted의 예측값으로 설정하여 그래프의 예측 선을 새로운 데이터로 업데이트 하는 것이다\n",
            "<ipython-input-12-62fb44db4d1e>:29: MatplotlibDeprecationWarning: Setting data with a non sequence type is deprecated since 3.7 and will be remove two minor releases later\n",
            "  line_vertical.set_xdata(bitcoin_df['ds'][end_idx])  #line_vertical의 x 데이터를 변경한다. bitcoin_df의 y 열에서 end_idx에 해당하는 행의 값을 가져오는것이다.\n"
          ]
        },
        {
          "output_type": "stream",
          "name": "stdout",
          "text": [
            "1/1 [==============================] - 0s 11ms/step - loss: 0.0143\n",
            "1/1 [==============================] - 0s 23ms/step\n"
          ]
        },
        {
          "output_type": "stream",
          "name": "stderr",
          "text": [
            "<ipython-input-12-62fb44db4d1e>:54: MatplotlibDeprecationWarning: Setting data with a non sequence type is deprecated since 3.7 and will be remove two minor releases later\n",
            "  line_forecast.set_data(bitcoin_df['ds'][end_idx], predicted[0][0])  # line_forecast의 데이터를 bitcoin_df의 ds열에서 선택한 데이터와 predicted의 예측값으로 설정하여 그래프의 예측 선을 새로운 데이터로 업데이트 하는 것이다\n",
            "<ipython-input-12-62fb44db4d1e>:29: MatplotlibDeprecationWarning: Setting data with a non sequence type is deprecated since 3.7 and will be remove two minor releases later\n",
            "  line_vertical.set_xdata(bitcoin_df['ds'][end_idx])  #line_vertical의 x 데이터를 변경한다. bitcoin_df의 y 열에서 end_idx에 해당하는 행의 값을 가져오는것이다.\n"
          ]
        },
        {
          "output_type": "stream",
          "name": "stdout",
          "text": [
            "1/1 [==============================] - 0s 13ms/step - loss: 0.0107\n",
            "1/1 [==============================] - 0s 22ms/step\n"
          ]
        },
        {
          "output_type": "stream",
          "name": "stderr",
          "text": [
            "<ipython-input-12-62fb44db4d1e>:54: MatplotlibDeprecationWarning: Setting data with a non sequence type is deprecated since 3.7 and will be remove two minor releases later\n",
            "  line_forecast.set_data(bitcoin_df['ds'][end_idx], predicted[0][0])  # line_forecast의 데이터를 bitcoin_df의 ds열에서 선택한 데이터와 predicted의 예측값으로 설정하여 그래프의 예측 선을 새로운 데이터로 업데이트 하는 것이다\n",
            "<ipython-input-12-62fb44db4d1e>:29: MatplotlibDeprecationWarning: Setting data with a non sequence type is deprecated since 3.7 and will be remove two minor releases later\n",
            "  line_vertical.set_xdata(bitcoin_df['ds'][end_idx])  #line_vertical의 x 데이터를 변경한다. bitcoin_df의 y 열에서 end_idx에 해당하는 행의 값을 가져오는것이다.\n"
          ]
        },
        {
          "output_type": "stream",
          "name": "stdout",
          "text": [
            "1/1 [==============================] - 0s 16ms/step - loss: 0.0073\n",
            "1/1 [==============================] - 0s 23ms/step\n"
          ]
        },
        {
          "output_type": "stream",
          "name": "stderr",
          "text": [
            "<ipython-input-12-62fb44db4d1e>:54: MatplotlibDeprecationWarning: Setting data with a non sequence type is deprecated since 3.7 and will be remove two minor releases later\n",
            "  line_forecast.set_data(bitcoin_df['ds'][end_idx], predicted[0][0])  # line_forecast의 데이터를 bitcoin_df의 ds열에서 선택한 데이터와 predicted의 예측값으로 설정하여 그래프의 예측 선을 새로운 데이터로 업데이트 하는 것이다\n",
            "<ipython-input-12-62fb44db4d1e>:29: MatplotlibDeprecationWarning: Setting data with a non sequence type is deprecated since 3.7 and will be remove two minor releases later\n",
            "  line_vertical.set_xdata(bitcoin_df['ds'][end_idx])  #line_vertical의 x 데이터를 변경한다. bitcoin_df의 y 열에서 end_idx에 해당하는 행의 값을 가져오는것이다.\n"
          ]
        },
        {
          "output_type": "stream",
          "name": "stdout",
          "text": [
            "1/1 [==============================] - 0s 13ms/step - loss: 0.0040\n",
            "1/1 [==============================] - 0s 25ms/step\n"
          ]
        },
        {
          "output_type": "stream",
          "name": "stderr",
          "text": [
            "<ipython-input-12-62fb44db4d1e>:54: MatplotlibDeprecationWarning: Setting data with a non sequence type is deprecated since 3.7 and will be remove two minor releases later\n",
            "  line_forecast.set_data(bitcoin_df['ds'][end_idx], predicted[0][0])  # line_forecast의 데이터를 bitcoin_df의 ds열에서 선택한 데이터와 predicted의 예측값으로 설정하여 그래프의 예측 선을 새로운 데이터로 업데이트 하는 것이다\n",
            "<ipython-input-12-62fb44db4d1e>:29: MatplotlibDeprecationWarning: Setting data with a non sequence type is deprecated since 3.7 and will be remove two minor releases later\n",
            "  line_vertical.set_xdata(bitcoin_df['ds'][end_idx])  #line_vertical의 x 데이터를 변경한다. bitcoin_df의 y 열에서 end_idx에 해당하는 행의 값을 가져오는것이다.\n"
          ]
        },
        {
          "output_type": "stream",
          "name": "stdout",
          "text": [
            "1/1 [==============================] - 0s 10ms/step - loss: 0.0025\n",
            "1/1 [==============================] - 0s 24ms/step\n"
          ]
        },
        {
          "output_type": "stream",
          "name": "stderr",
          "text": [
            "<ipython-input-12-62fb44db4d1e>:54: MatplotlibDeprecationWarning: Setting data with a non sequence type is deprecated since 3.7 and will be remove two minor releases later\n",
            "  line_forecast.set_data(bitcoin_df['ds'][end_idx], predicted[0][0])  # line_forecast의 데이터를 bitcoin_df의 ds열에서 선택한 데이터와 predicted의 예측값으로 설정하여 그래프의 예측 선을 새로운 데이터로 업데이트 하는 것이다\n",
            "<ipython-input-12-62fb44db4d1e>:29: MatplotlibDeprecationWarning: Setting data with a non sequence type is deprecated since 3.7 and will be remove two minor releases later\n",
            "  line_vertical.set_xdata(bitcoin_df['ds'][end_idx])  #line_vertical의 x 데이터를 변경한다. bitcoin_df의 y 열에서 end_idx에 해당하는 행의 값을 가져오는것이다.\n"
          ]
        },
        {
          "output_type": "stream",
          "name": "stdout",
          "text": [
            "1/1 [==============================] - 0s 19ms/step - loss: 0.0030\n",
            "1/1 [==============================] - 0s 23ms/step\n"
          ]
        },
        {
          "output_type": "stream",
          "name": "stderr",
          "text": [
            "<ipython-input-12-62fb44db4d1e>:54: MatplotlibDeprecationWarning: Setting data with a non sequence type is deprecated since 3.7 and will be remove two minor releases later\n",
            "  line_forecast.set_data(bitcoin_df['ds'][end_idx], predicted[0][0])  # line_forecast의 데이터를 bitcoin_df의 ds열에서 선택한 데이터와 predicted의 예측값으로 설정하여 그래프의 예측 선을 새로운 데이터로 업데이트 하는 것이다\n",
            "<ipython-input-12-62fb44db4d1e>:29: MatplotlibDeprecationWarning: Setting data with a non sequence type is deprecated since 3.7 and will be remove two minor releases later\n",
            "  line_vertical.set_xdata(bitcoin_df['ds'][end_idx])  #line_vertical의 x 데이터를 변경한다. bitcoin_df의 y 열에서 end_idx에 해당하는 행의 값을 가져오는것이다.\n"
          ]
        },
        {
          "output_type": "stream",
          "name": "stdout",
          "text": [
            "1/1 [==============================] - 0s 18ms/step - loss: 7.3505e-06\n",
            "1/1 [==============================] - 0s 27ms/step\n"
          ]
        },
        {
          "output_type": "stream",
          "name": "stderr",
          "text": [
            "<ipython-input-12-62fb44db4d1e>:54: MatplotlibDeprecationWarning: Setting data with a non sequence type is deprecated since 3.7 and will be remove two minor releases later\n",
            "  line_forecast.set_data(bitcoin_df['ds'][end_idx], predicted[0][0])  # line_forecast의 데이터를 bitcoin_df의 ds열에서 선택한 데이터와 predicted의 예측값으로 설정하여 그래프의 예측 선을 새로운 데이터로 업데이트 하는 것이다\n",
            "<ipython-input-12-62fb44db4d1e>:29: MatplotlibDeprecationWarning: Setting data with a non sequence type is deprecated since 3.7 and will be remove two minor releases later\n",
            "  line_vertical.set_xdata(bitcoin_df['ds'][end_idx])  #line_vertical의 x 데이터를 변경한다. bitcoin_df의 y 열에서 end_idx에 해당하는 행의 값을 가져오는것이다.\n"
          ]
        },
        {
          "output_type": "stream",
          "name": "stdout",
          "text": [
            "1/1 [==============================] - 0s 17ms/step - loss: 9.8404e-06\n",
            "1/1 [==============================] - 0s 24ms/step\n"
          ]
        },
        {
          "output_type": "stream",
          "name": "stderr",
          "text": [
            "<ipython-input-12-62fb44db4d1e>:54: MatplotlibDeprecationWarning: Setting data with a non sequence type is deprecated since 3.7 and will be remove two minor releases later\n",
            "  line_forecast.set_data(bitcoin_df['ds'][end_idx], predicted[0][0])  # line_forecast의 데이터를 bitcoin_df의 ds열에서 선택한 데이터와 predicted의 예측값으로 설정하여 그래프의 예측 선을 새로운 데이터로 업데이트 하는 것이다\n",
            "<ipython-input-12-62fb44db4d1e>:29: MatplotlibDeprecationWarning: Setting data with a non sequence type is deprecated since 3.7 and will be remove two minor releases later\n",
            "  line_vertical.set_xdata(bitcoin_df['ds'][end_idx])  #line_vertical의 x 데이터를 변경한다. bitcoin_df의 y 열에서 end_idx에 해당하는 행의 값을 가져오는것이다.\n"
          ]
        },
        {
          "output_type": "stream",
          "name": "stdout",
          "text": [
            "1/1 [==============================] - 0s 20ms/step - loss: 0.0049\n",
            "1/1 [==============================] - 0s 25ms/step\n"
          ]
        },
        {
          "output_type": "stream",
          "name": "stderr",
          "text": [
            "<ipython-input-12-62fb44db4d1e>:54: MatplotlibDeprecationWarning: Setting data with a non sequence type is deprecated since 3.7 and will be remove two minor releases later\n",
            "  line_forecast.set_data(bitcoin_df['ds'][end_idx], predicted[0][0])  # line_forecast의 데이터를 bitcoin_df의 ds열에서 선택한 데이터와 predicted의 예측값으로 설정하여 그래프의 예측 선을 새로운 데이터로 업데이트 하는 것이다\n",
            "<ipython-input-12-62fb44db4d1e>:29: MatplotlibDeprecationWarning: Setting data with a non sequence type is deprecated since 3.7 and will be remove two minor releases later\n",
            "  line_vertical.set_xdata(bitcoin_df['ds'][end_idx])  #line_vertical의 x 데이터를 변경한다. bitcoin_df의 y 열에서 end_idx에 해당하는 행의 값을 가져오는것이다.\n"
          ]
        },
        {
          "output_type": "stream",
          "name": "stdout",
          "text": [
            "1/1 [==============================] - 0s 11ms/step - loss: 0.0078\n",
            "1/1 [==============================] - 0s 23ms/step\n"
          ]
        },
        {
          "output_type": "stream",
          "name": "stderr",
          "text": [
            "<ipython-input-12-62fb44db4d1e>:54: MatplotlibDeprecationWarning: Setting data with a non sequence type is deprecated since 3.7 and will be remove two minor releases later\n",
            "  line_forecast.set_data(bitcoin_df['ds'][end_idx], predicted[0][0])  # line_forecast의 데이터를 bitcoin_df의 ds열에서 선택한 데이터와 predicted의 예측값으로 설정하여 그래프의 예측 선을 새로운 데이터로 업데이트 하는 것이다\n",
            "<ipython-input-12-62fb44db4d1e>:29: MatplotlibDeprecationWarning: Setting data with a non sequence type is deprecated since 3.7 and will be remove two minor releases later\n",
            "  line_vertical.set_xdata(bitcoin_df['ds'][end_idx])  #line_vertical의 x 데이터를 변경한다. bitcoin_df의 y 열에서 end_idx에 해당하는 행의 값을 가져오는것이다.\n"
          ]
        },
        {
          "output_type": "stream",
          "name": "stdout",
          "text": [
            "1/1 [==============================] - 0s 13ms/step - loss: 0.0061\n",
            "1/1 [==============================] - 0s 28ms/step\n"
          ]
        },
        {
          "output_type": "stream",
          "name": "stderr",
          "text": [
            "<ipython-input-12-62fb44db4d1e>:54: MatplotlibDeprecationWarning: Setting data with a non sequence type is deprecated since 3.7 and will be remove two minor releases later\n",
            "  line_forecast.set_data(bitcoin_df['ds'][end_idx], predicted[0][0])  # line_forecast의 데이터를 bitcoin_df의 ds열에서 선택한 데이터와 predicted의 예측값으로 설정하여 그래프의 예측 선을 새로운 데이터로 업데이트 하는 것이다\n",
            "<ipython-input-12-62fb44db4d1e>:29: MatplotlibDeprecationWarning: Setting data with a non sequence type is deprecated since 3.7 and will be remove two minor releases later\n",
            "  line_vertical.set_xdata(bitcoin_df['ds'][end_idx])  #line_vertical의 x 데이터를 변경한다. bitcoin_df의 y 열에서 end_idx에 해당하는 행의 값을 가져오는것이다.\n"
          ]
        },
        {
          "output_type": "stream",
          "name": "stdout",
          "text": [
            "1/1 [==============================] - 0s 14ms/step - loss: 0.0036\n",
            "1/1 [==============================] - 0s 32ms/step\n"
          ]
        },
        {
          "output_type": "stream",
          "name": "stderr",
          "text": [
            "<ipython-input-12-62fb44db4d1e>:54: MatplotlibDeprecationWarning: Setting data with a non sequence type is deprecated since 3.7 and will be remove two minor releases later\n",
            "  line_forecast.set_data(bitcoin_df['ds'][end_idx], predicted[0][0])  # line_forecast의 데이터를 bitcoin_df의 ds열에서 선택한 데이터와 predicted의 예측값으로 설정하여 그래프의 예측 선을 새로운 데이터로 업데이트 하는 것이다\n",
            "<ipython-input-12-62fb44db4d1e>:29: MatplotlibDeprecationWarning: Setting data with a non sequence type is deprecated since 3.7 and will be remove two minor releases later\n",
            "  line_vertical.set_xdata(bitcoin_df['ds'][end_idx])  #line_vertical의 x 데이터를 변경한다. bitcoin_df의 y 열에서 end_idx에 해당하는 행의 값을 가져오는것이다.\n"
          ]
        },
        {
          "output_type": "stream",
          "name": "stdout",
          "text": [
            "1/1 [==============================] - 0s 14ms/step - loss: 0.0016\n",
            "1/1 [==============================] - 0s 23ms/step\n"
          ]
        },
        {
          "output_type": "stream",
          "name": "stderr",
          "text": [
            "<ipython-input-12-62fb44db4d1e>:54: MatplotlibDeprecationWarning: Setting data with a non sequence type is deprecated since 3.7 and will be remove two minor releases later\n",
            "  line_forecast.set_data(bitcoin_df['ds'][end_idx], predicted[0][0])  # line_forecast의 데이터를 bitcoin_df의 ds열에서 선택한 데이터와 predicted의 예측값으로 설정하여 그래프의 예측 선을 새로운 데이터로 업데이트 하는 것이다\n",
            "<ipython-input-12-62fb44db4d1e>:29: MatplotlibDeprecationWarning: Setting data with a non sequence type is deprecated since 3.7 and will be remove two minor releases later\n",
            "  line_vertical.set_xdata(bitcoin_df['ds'][end_idx])  #line_vertical의 x 데이터를 변경한다. bitcoin_df의 y 열에서 end_idx에 해당하는 행의 값을 가져오는것이다.\n"
          ]
        },
        {
          "output_type": "stream",
          "name": "stdout",
          "text": [
            "1/1 [==============================] - 0s 10ms/step - loss: 0.0014\n",
            "1/1 [==============================] - 0s 22ms/step\n"
          ]
        },
        {
          "output_type": "stream",
          "name": "stderr",
          "text": [
            "<ipython-input-12-62fb44db4d1e>:54: MatplotlibDeprecationWarning: Setting data with a non sequence type is deprecated since 3.7 and will be remove two minor releases later\n",
            "  line_forecast.set_data(bitcoin_df['ds'][end_idx], predicted[0][0])  # line_forecast의 데이터를 bitcoin_df의 ds열에서 선택한 데이터와 predicted의 예측값으로 설정하여 그래프의 예측 선을 새로운 데이터로 업데이트 하는 것이다\n",
            "<ipython-input-12-62fb44db4d1e>:29: MatplotlibDeprecationWarning: Setting data with a non sequence type is deprecated since 3.7 and will be remove two minor releases later\n",
            "  line_vertical.set_xdata(bitcoin_df['ds'][end_idx])  #line_vertical의 x 데이터를 변경한다. bitcoin_df의 y 열에서 end_idx에 해당하는 행의 값을 가져오는것이다.\n"
          ]
        },
        {
          "output_type": "stream",
          "name": "stdout",
          "text": [
            "1/1 [==============================] - 0s 13ms/step - loss: 6.1450e-04\n",
            "1/1 [==============================] - 0s 23ms/step\n"
          ]
        },
        {
          "output_type": "stream",
          "name": "stderr",
          "text": [
            "<ipython-input-12-62fb44db4d1e>:54: MatplotlibDeprecationWarning: Setting data with a non sequence type is deprecated since 3.7 and will be remove two minor releases later\n",
            "  line_forecast.set_data(bitcoin_df['ds'][end_idx], predicted[0][0])  # line_forecast의 데이터를 bitcoin_df의 ds열에서 선택한 데이터와 predicted의 예측값으로 설정하여 그래프의 예측 선을 새로운 데이터로 업데이트 하는 것이다\n",
            "<ipython-input-12-62fb44db4d1e>:29: MatplotlibDeprecationWarning: Setting data with a non sequence type is deprecated since 3.7 and will be remove two minor releases later\n",
            "  line_vertical.set_xdata(bitcoin_df['ds'][end_idx])  #line_vertical의 x 데이터를 변경한다. bitcoin_df의 y 열에서 end_idx에 해당하는 행의 값을 가져오는것이다.\n"
          ]
        },
        {
          "output_type": "stream",
          "name": "stdout",
          "text": [
            "1/1 [==============================] - 0s 11ms/step - loss: 1.5167e-04\n",
            "1/1 [==============================] - 0s 24ms/step\n"
          ]
        },
        {
          "output_type": "stream",
          "name": "stderr",
          "text": [
            "<ipython-input-12-62fb44db4d1e>:54: MatplotlibDeprecationWarning: Setting data with a non sequence type is deprecated since 3.7 and will be remove two minor releases later\n",
            "  line_forecast.set_data(bitcoin_df['ds'][end_idx], predicted[0][0])  # line_forecast의 데이터를 bitcoin_df의 ds열에서 선택한 데이터와 predicted의 예측값으로 설정하여 그래프의 예측 선을 새로운 데이터로 업데이트 하는 것이다\n",
            "<ipython-input-12-62fb44db4d1e>:29: MatplotlibDeprecationWarning: Setting data with a non sequence type is deprecated since 3.7 and will be remove two minor releases later\n",
            "  line_vertical.set_xdata(bitcoin_df['ds'][end_idx])  #line_vertical의 x 데이터를 변경한다. bitcoin_df의 y 열에서 end_idx에 해당하는 행의 값을 가져오는것이다.\n"
          ]
        },
        {
          "output_type": "stream",
          "name": "stdout",
          "text": [
            "1/1 [==============================] - 0s 10ms/step - loss: 2.4545e-06\n",
            "1/1 [==============================] - 0s 24ms/step\n"
          ]
        },
        {
          "output_type": "stream",
          "name": "stderr",
          "text": [
            "<ipython-input-12-62fb44db4d1e>:54: MatplotlibDeprecationWarning: Setting data with a non sequence type is deprecated since 3.7 and will be remove two minor releases later\n",
            "  line_forecast.set_data(bitcoin_df['ds'][end_idx], predicted[0][0])  # line_forecast의 데이터를 bitcoin_df의 ds열에서 선택한 데이터와 predicted의 예측값으로 설정하여 그래프의 예측 선을 새로운 데이터로 업데이트 하는 것이다\n",
            "<ipython-input-12-62fb44db4d1e>:29: MatplotlibDeprecationWarning: Setting data with a non sequence type is deprecated since 3.7 and will be remove two minor releases later\n",
            "  line_vertical.set_xdata(bitcoin_df['ds'][end_idx])  #line_vertical의 x 데이터를 변경한다. bitcoin_df의 y 열에서 end_idx에 해당하는 행의 값을 가져오는것이다.\n"
          ]
        },
        {
          "output_type": "stream",
          "name": "stdout",
          "text": [
            "1/1 [==============================] - 0s 11ms/step - loss: 6.5517e-04\n",
            "1/1 [==============================] - 0s 23ms/step\n"
          ]
        },
        {
          "output_type": "stream",
          "name": "stderr",
          "text": [
            "<ipython-input-12-62fb44db4d1e>:54: MatplotlibDeprecationWarning: Setting data with a non sequence type is deprecated since 3.7 and will be remove two minor releases later\n",
            "  line_forecast.set_data(bitcoin_df['ds'][end_idx], predicted[0][0])  # line_forecast의 데이터를 bitcoin_df의 ds열에서 선택한 데이터와 predicted의 예측값으로 설정하여 그래프의 예측 선을 새로운 데이터로 업데이트 하는 것이다\n",
            "<ipython-input-12-62fb44db4d1e>:29: MatplotlibDeprecationWarning: Setting data with a non sequence type is deprecated since 3.7 and will be remove two minor releases later\n",
            "  line_vertical.set_xdata(bitcoin_df['ds'][end_idx])  #line_vertical의 x 데이터를 변경한다. bitcoin_df의 y 열에서 end_idx에 해당하는 행의 값을 가져오는것이다.\n"
          ]
        },
        {
          "output_type": "stream",
          "name": "stdout",
          "text": [
            "1/1 [==============================] - 0s 12ms/step - loss: 4.9654e-05\n",
            "1/1 [==============================] - 0s 25ms/step\n"
          ]
        },
        {
          "output_type": "stream",
          "name": "stderr",
          "text": [
            "<ipython-input-12-62fb44db4d1e>:54: MatplotlibDeprecationWarning: Setting data with a non sequence type is deprecated since 3.7 and will be remove two minor releases later\n",
            "  line_forecast.set_data(bitcoin_df['ds'][end_idx], predicted[0][0])  # line_forecast의 데이터를 bitcoin_df의 ds열에서 선택한 데이터와 predicted의 예측값으로 설정하여 그래프의 예측 선을 새로운 데이터로 업데이트 하는 것이다\n",
            "<ipython-input-12-62fb44db4d1e>:29: MatplotlibDeprecationWarning: Setting data with a non sequence type is deprecated since 3.7 and will be remove two minor releases later\n",
            "  line_vertical.set_xdata(bitcoin_df['ds'][end_idx])  #line_vertical의 x 데이터를 변경한다. bitcoin_df의 y 열에서 end_idx에 해당하는 행의 값을 가져오는것이다.\n"
          ]
        },
        {
          "output_type": "stream",
          "name": "stdout",
          "text": [
            "1/1 [==============================] - 0s 17ms/step - loss: 1.6201e-04\n",
            "1/1 [==============================] - 0s 23ms/step\n"
          ]
        },
        {
          "output_type": "stream",
          "name": "stderr",
          "text": [
            "<ipython-input-12-62fb44db4d1e>:54: MatplotlibDeprecationWarning: Setting data with a non sequence type is deprecated since 3.7 and will be remove two minor releases later\n",
            "  line_forecast.set_data(bitcoin_df['ds'][end_idx], predicted[0][0])  # line_forecast의 데이터를 bitcoin_df의 ds열에서 선택한 데이터와 predicted의 예측값으로 설정하여 그래프의 예측 선을 새로운 데이터로 업데이트 하는 것이다\n",
            "<ipython-input-12-62fb44db4d1e>:29: MatplotlibDeprecationWarning: Setting data with a non sequence type is deprecated since 3.7 and will be remove two minor releases later\n",
            "  line_vertical.set_xdata(bitcoin_df['ds'][end_idx])  #line_vertical의 x 데이터를 변경한다. bitcoin_df의 y 열에서 end_idx에 해당하는 행의 값을 가져오는것이다.\n"
          ]
        },
        {
          "output_type": "stream",
          "name": "stdout",
          "text": [
            "1/1 [==============================] - 0s 9ms/step - loss: 9.3814e-04\n",
            "1/1 [==============================] - 0s 33ms/step\n"
          ]
        },
        {
          "output_type": "stream",
          "name": "stderr",
          "text": [
            "<ipython-input-12-62fb44db4d1e>:54: MatplotlibDeprecationWarning: Setting data with a non sequence type is deprecated since 3.7 and will be remove two minor releases later\n",
            "  line_forecast.set_data(bitcoin_df['ds'][end_idx], predicted[0][0])  # line_forecast의 데이터를 bitcoin_df의 ds열에서 선택한 데이터와 predicted의 예측값으로 설정하여 그래프의 예측 선을 새로운 데이터로 업데이트 하는 것이다\n",
            "<ipython-input-12-62fb44db4d1e>:29: MatplotlibDeprecationWarning: Setting data with a non sequence type is deprecated since 3.7 and will be remove two minor releases later\n",
            "  line_vertical.set_xdata(bitcoin_df['ds'][end_idx])  #line_vertical의 x 데이터를 변경한다. bitcoin_df의 y 열에서 end_idx에 해당하는 행의 값을 가져오는것이다.\n"
          ]
        },
        {
          "output_type": "stream",
          "name": "stdout",
          "text": [
            "1/1 [==============================] - 0s 10ms/step - loss: 1.0565e-05\n",
            "1/1 [==============================] - 0s 23ms/step\n"
          ]
        },
        {
          "output_type": "stream",
          "name": "stderr",
          "text": [
            "<ipython-input-12-62fb44db4d1e>:54: MatplotlibDeprecationWarning: Setting data with a non sequence type is deprecated since 3.7 and will be remove two minor releases later\n",
            "  line_forecast.set_data(bitcoin_df['ds'][end_idx], predicted[0][0])  # line_forecast의 데이터를 bitcoin_df의 ds열에서 선택한 데이터와 predicted의 예측값으로 설정하여 그래프의 예측 선을 새로운 데이터로 업데이트 하는 것이다\n",
            "<ipython-input-12-62fb44db4d1e>:29: MatplotlibDeprecationWarning: Setting data with a non sequence type is deprecated since 3.7 and will be remove two minor releases later\n",
            "  line_vertical.set_xdata(bitcoin_df['ds'][end_idx])  #line_vertical의 x 데이터를 변경한다. bitcoin_df의 y 열에서 end_idx에 해당하는 행의 값을 가져오는것이다.\n"
          ]
        },
        {
          "output_type": "stream",
          "name": "stdout",
          "text": [
            "1/1 [==============================] - 0s 13ms/step - loss: 5.6157e-04\n",
            "1/1 [==============================] - 0s 23ms/step\n"
          ]
        },
        {
          "output_type": "stream",
          "name": "stderr",
          "text": [
            "<ipython-input-12-62fb44db4d1e>:54: MatplotlibDeprecationWarning: Setting data with a non sequence type is deprecated since 3.7 and will be remove two minor releases later\n",
            "  line_forecast.set_data(bitcoin_df['ds'][end_idx], predicted[0][0])  # line_forecast의 데이터를 bitcoin_df의 ds열에서 선택한 데이터와 predicted의 예측값으로 설정하여 그래프의 예측 선을 새로운 데이터로 업데이트 하는 것이다\n",
            "<ipython-input-12-62fb44db4d1e>:29: MatplotlibDeprecationWarning: Setting data with a non sequence type is deprecated since 3.7 and will be remove two minor releases later\n",
            "  line_vertical.set_xdata(bitcoin_df['ds'][end_idx])  #line_vertical의 x 데이터를 변경한다. bitcoin_df의 y 열에서 end_idx에 해당하는 행의 값을 가져오는것이다.\n"
          ]
        },
        {
          "output_type": "stream",
          "name": "stdout",
          "text": [
            "1/1 [==============================] - 0s 12ms/step - loss: 6.4632e-04\n",
            "1/1 [==============================] - 0s 22ms/step\n"
          ]
        },
        {
          "output_type": "stream",
          "name": "stderr",
          "text": [
            "<ipython-input-12-62fb44db4d1e>:54: MatplotlibDeprecationWarning: Setting data with a non sequence type is deprecated since 3.7 and will be remove two minor releases later\n",
            "  line_forecast.set_data(bitcoin_df['ds'][end_idx], predicted[0][0])  # line_forecast의 데이터를 bitcoin_df의 ds열에서 선택한 데이터와 predicted의 예측값으로 설정하여 그래프의 예측 선을 새로운 데이터로 업데이트 하는 것이다\n",
            "<ipython-input-12-62fb44db4d1e>:29: MatplotlibDeprecationWarning: Setting data with a non sequence type is deprecated since 3.7 and will be remove two minor releases later\n",
            "  line_vertical.set_xdata(bitcoin_df['ds'][end_idx])  #line_vertical의 x 데이터를 변경한다. bitcoin_df의 y 열에서 end_idx에 해당하는 행의 값을 가져오는것이다.\n"
          ]
        },
        {
          "output_type": "stream",
          "name": "stdout",
          "text": [
            "1/1 [==============================] - 0s 13ms/step - loss: 0.0011\n",
            "1/1 [==============================] - 0s 24ms/step\n"
          ]
        },
        {
          "output_type": "stream",
          "name": "stderr",
          "text": [
            "<ipython-input-12-62fb44db4d1e>:54: MatplotlibDeprecationWarning: Setting data with a non sequence type is deprecated since 3.7 and will be remove two minor releases later\n",
            "  line_forecast.set_data(bitcoin_df['ds'][end_idx], predicted[0][0])  # line_forecast의 데이터를 bitcoin_df의 ds열에서 선택한 데이터와 predicted의 예측값으로 설정하여 그래프의 예측 선을 새로운 데이터로 업데이트 하는 것이다\n",
            "<ipython-input-12-62fb44db4d1e>:29: MatplotlibDeprecationWarning: Setting data with a non sequence type is deprecated since 3.7 and will be remove two minor releases later\n",
            "  line_vertical.set_xdata(bitcoin_df['ds'][end_idx])  #line_vertical의 x 데이터를 변경한다. bitcoin_df의 y 열에서 end_idx에 해당하는 행의 값을 가져오는것이다.\n"
          ]
        },
        {
          "output_type": "stream",
          "name": "stdout",
          "text": [
            "1/1 [==============================] - 0s 10ms/step - loss: 6.5371e-04\n",
            "1/1 [==============================] - 0s 24ms/step\n"
          ]
        },
        {
          "output_type": "stream",
          "name": "stderr",
          "text": [
            "<ipython-input-12-62fb44db4d1e>:54: MatplotlibDeprecationWarning: Setting data with a non sequence type is deprecated since 3.7 and will be remove two minor releases later\n",
            "  line_forecast.set_data(bitcoin_df['ds'][end_idx], predicted[0][0])  # line_forecast의 데이터를 bitcoin_df의 ds열에서 선택한 데이터와 predicted의 예측값으로 설정하여 그래프의 예측 선을 새로운 데이터로 업데이트 하는 것이다\n",
            "<ipython-input-12-62fb44db4d1e>:29: MatplotlibDeprecationWarning: Setting data with a non sequence type is deprecated since 3.7 and will be remove two minor releases later\n",
            "  line_vertical.set_xdata(bitcoin_df['ds'][end_idx])  #line_vertical의 x 데이터를 변경한다. bitcoin_df의 y 열에서 end_idx에 해당하는 행의 값을 가져오는것이다.\n"
          ]
        },
        {
          "output_type": "stream",
          "name": "stdout",
          "text": [
            "1/1 [==============================] - 0s 10ms/step - loss: 2.3358e-04\n",
            "1/1 [==============================] - 0s 22ms/step\n"
          ]
        },
        {
          "output_type": "stream",
          "name": "stderr",
          "text": [
            "<ipython-input-12-62fb44db4d1e>:54: MatplotlibDeprecationWarning: Setting data with a non sequence type is deprecated since 3.7 and will be remove two minor releases later\n",
            "  line_forecast.set_data(bitcoin_df['ds'][end_idx], predicted[0][0])  # line_forecast의 데이터를 bitcoin_df의 ds열에서 선택한 데이터와 predicted의 예측값으로 설정하여 그래프의 예측 선을 새로운 데이터로 업데이트 하는 것이다\n",
            "<ipython-input-12-62fb44db4d1e>:29: MatplotlibDeprecationWarning: Setting data with a non sequence type is deprecated since 3.7 and will be remove two minor releases later\n",
            "  line_vertical.set_xdata(bitcoin_df['ds'][end_idx])  #line_vertical의 x 데이터를 변경한다. bitcoin_df의 y 열에서 end_idx에 해당하는 행의 값을 가져오는것이다.\n"
          ]
        },
        {
          "output_type": "stream",
          "name": "stdout",
          "text": [
            "1/1 [==============================] - 0s 13ms/step - loss: 1.4903e-04\n",
            "1/1 [==============================] - 0s 39ms/step\n"
          ]
        },
        {
          "output_type": "stream",
          "name": "stderr",
          "text": [
            "<ipython-input-12-62fb44db4d1e>:54: MatplotlibDeprecationWarning: Setting data with a non sequence type is deprecated since 3.7 and will be remove two minor releases later\n",
            "  line_forecast.set_data(bitcoin_df['ds'][end_idx], predicted[0][0])  # line_forecast의 데이터를 bitcoin_df의 ds열에서 선택한 데이터와 predicted의 예측값으로 설정하여 그래프의 예측 선을 새로운 데이터로 업데이트 하는 것이다\n",
            "<ipython-input-12-62fb44db4d1e>:29: MatplotlibDeprecationWarning: Setting data with a non sequence type is deprecated since 3.7 and will be remove two minor releases later\n",
            "  line_vertical.set_xdata(bitcoin_df['ds'][end_idx])  #line_vertical의 x 데이터를 변경한다. bitcoin_df의 y 열에서 end_idx에 해당하는 행의 값을 가져오는것이다.\n"
          ]
        },
        {
          "output_type": "stream",
          "name": "stdout",
          "text": [
            "1/1 [==============================] - 0s 21ms/step - loss: 8.0285e-06\n",
            "1/1 [==============================] - 0s 37ms/step\n"
          ]
        },
        {
          "output_type": "stream",
          "name": "stderr",
          "text": [
            "<ipython-input-12-62fb44db4d1e>:54: MatplotlibDeprecationWarning: Setting data with a non sequence type is deprecated since 3.7 and will be remove two minor releases later\n",
            "  line_forecast.set_data(bitcoin_df['ds'][end_idx], predicted[0][0])  # line_forecast의 데이터를 bitcoin_df의 ds열에서 선택한 데이터와 predicted의 예측값으로 설정하여 그래프의 예측 선을 새로운 데이터로 업데이트 하는 것이다\n"
          ]
        },
        {
          "output_type": "stream",
          "name": "stdout",
          "text": [
            "1/1 [==============================] - 0s 18ms/step - loss: 5.0785e-04\n"
          ]
        },
        {
          "output_type": "stream",
          "name": "stderr",
          "text": [
            "<ipython-input-12-62fb44db4d1e>:29: MatplotlibDeprecationWarning: Setting data with a non sequence type is deprecated since 3.7 and will be remove two minor releases later\n",
            "  line_vertical.set_xdata(bitcoin_df['ds'][end_idx])  #line_vertical의 x 데이터를 변경한다. bitcoin_df의 y 열에서 end_idx에 해당하는 행의 값을 가져오는것이다.\n"
          ]
        },
        {
          "output_type": "stream",
          "name": "stdout",
          "text": [
            "1/1 [==============================] - 0s 43ms/step\n"
          ]
        },
        {
          "output_type": "stream",
          "name": "stderr",
          "text": [
            "<ipython-input-12-62fb44db4d1e>:54: MatplotlibDeprecationWarning: Setting data with a non sequence type is deprecated since 3.7 and will be remove two minor releases later\n",
            "  line_forecast.set_data(bitcoin_df['ds'][end_idx], predicted[0][0])  # line_forecast의 데이터를 bitcoin_df의 ds열에서 선택한 데이터와 predicted의 예측값으로 설정하여 그래프의 예측 선을 새로운 데이터로 업데이트 하는 것이다\n"
          ]
        },
        {
          "output_type": "stream",
          "name": "stdout",
          "text": [
            "1/1 [==============================] - 0s 13ms/step - loss: 2.6730e-04\n",
            "1/1 [==============================] - ETA: 0s"
          ]
        },
        {
          "output_type": "stream",
          "name": "stderr",
          "text": [
            "<ipython-input-12-62fb44db4d1e>:29: MatplotlibDeprecationWarning: Setting data with a non sequence type is deprecated since 3.7 and will be remove two minor releases later\n",
            "  line_vertical.set_xdata(bitcoin_df['ds'][end_idx])  #line_vertical의 x 데이터를 변경한다. bitcoin_df의 y 열에서 end_idx에 해당하는 행의 값을 가져오는것이다.\n"
          ]
        },
        {
          "output_type": "stream",
          "name": "stdout",
          "text": [
            "\b\b\b\b\b\b\b\b\b\b\b\b\b\b\b\b\b\b\b\b\b\b\b\b\b\b\b\b\b\b\b\b\b\b\b\b\b\b\b\b\b\b\b\b\b\b\r1/1 [==============================] - 0s 40ms/step\n"
          ]
        },
        {
          "output_type": "stream",
          "name": "stderr",
          "text": [
            "<ipython-input-12-62fb44db4d1e>:54: MatplotlibDeprecationWarning: Setting data with a non sequence type is deprecated since 3.7 and will be remove two minor releases later\n",
            "  line_forecast.set_data(bitcoin_df['ds'][end_idx], predicted[0][0])  # line_forecast의 데이터를 bitcoin_df의 ds열에서 선택한 데이터와 predicted의 예측값으로 설정하여 그래프의 예측 선을 새로운 데이터로 업데이트 하는 것이다\n"
          ]
        },
        {
          "output_type": "stream",
          "name": "stdout",
          "text": [
            "1/1 [==============================] - 0s 14ms/step - loss: 0.0107\n"
          ]
        },
        {
          "output_type": "stream",
          "name": "stderr",
          "text": [
            "<ipython-input-12-62fb44db4d1e>:29: MatplotlibDeprecationWarning: Setting data with a non sequence type is deprecated since 3.7 and will be remove two minor releases later\n",
            "  line_vertical.set_xdata(bitcoin_df['ds'][end_idx])  #line_vertical의 x 데이터를 변경한다. bitcoin_df의 y 열에서 end_idx에 해당하는 행의 값을 가져오는것이다.\n"
          ]
        },
        {
          "output_type": "stream",
          "name": "stdout",
          "text": [
            "1/1 [==============================] - 0s 49ms/step\n"
          ]
        },
        {
          "output_type": "stream",
          "name": "stderr",
          "text": [
            "<ipython-input-12-62fb44db4d1e>:54: MatplotlibDeprecationWarning: Setting data with a non sequence type is deprecated since 3.7 and will be remove two minor releases later\n",
            "  line_forecast.set_data(bitcoin_df['ds'][end_idx], predicted[0][0])  # line_forecast의 데이터를 bitcoin_df의 ds열에서 선택한 데이터와 predicted의 예측값으로 설정하여 그래프의 예측 선을 새로운 데이터로 업데이트 하는 것이다\n"
          ]
        },
        {
          "output_type": "stream",
          "name": "stdout",
          "text": [
            "1/1 [==============================] - 0s 19ms/step - loss: 0.0057\n"
          ]
        },
        {
          "output_type": "stream",
          "name": "stderr",
          "text": [
            "<ipython-input-12-62fb44db4d1e>:29: MatplotlibDeprecationWarning: Setting data with a non sequence type is deprecated since 3.7 and will be remove two minor releases later\n",
            "  line_vertical.set_xdata(bitcoin_df['ds'][end_idx])  #line_vertical의 x 데이터를 변경한다. bitcoin_df의 y 열에서 end_idx에 해당하는 행의 값을 가져오는것이다.\n"
          ]
        },
        {
          "output_type": "stream",
          "name": "stdout",
          "text": [
            "1/1 [==============================] - 0s 40ms/step\n"
          ]
        },
        {
          "output_type": "stream",
          "name": "stderr",
          "text": [
            "<ipython-input-12-62fb44db4d1e>:54: MatplotlibDeprecationWarning: Setting data with a non sequence type is deprecated since 3.7 and will be remove two minor releases later\n",
            "  line_forecast.set_data(bitcoin_df['ds'][end_idx], predicted[0][0])  # line_forecast의 데이터를 bitcoin_df의 ds열에서 선택한 데이터와 predicted의 예측값으로 설정하여 그래프의 예측 선을 새로운 데이터로 업데이트 하는 것이다\n"
          ]
        },
        {
          "output_type": "stream",
          "name": "stdout",
          "text": [
            "1/1 [==============================] - 0s 15ms/step - loss: 0.0025\n"
          ]
        },
        {
          "output_type": "stream",
          "name": "stderr",
          "text": [
            "<ipython-input-12-62fb44db4d1e>:29: MatplotlibDeprecationWarning: Setting data with a non sequence type is deprecated since 3.7 and will be remove two minor releases later\n",
            "  line_vertical.set_xdata(bitcoin_df['ds'][end_idx])  #line_vertical의 x 데이터를 변경한다. bitcoin_df의 y 열에서 end_idx에 해당하는 행의 값을 가져오는것이다.\n"
          ]
        },
        {
          "output_type": "stream",
          "name": "stdout",
          "text": [
            "1/1 [==============================] - 0s 48ms/step\n"
          ]
        },
        {
          "output_type": "stream",
          "name": "stderr",
          "text": [
            "<ipython-input-12-62fb44db4d1e>:54: MatplotlibDeprecationWarning: Setting data with a non sequence type is deprecated since 3.7 and will be remove two minor releases later\n",
            "  line_forecast.set_data(bitcoin_df['ds'][end_idx], predicted[0][0])  # line_forecast의 데이터를 bitcoin_df의 ds열에서 선택한 데이터와 predicted의 예측값으로 설정하여 그래프의 예측 선을 새로운 데이터로 업데이트 하는 것이다\n"
          ]
        },
        {
          "output_type": "stream",
          "name": "stdout",
          "text": [
            "1/1 [==============================] - 0s 17ms/step - loss: 0.0022\n"
          ]
        },
        {
          "output_type": "stream",
          "name": "stderr",
          "text": [
            "<ipython-input-12-62fb44db4d1e>:29: MatplotlibDeprecationWarning: Setting data with a non sequence type is deprecated since 3.7 and will be remove two minor releases later\n",
            "  line_vertical.set_xdata(bitcoin_df['ds'][end_idx])  #line_vertical의 x 데이터를 변경한다. bitcoin_df의 y 열에서 end_idx에 해당하는 행의 값을 가져오는것이다.\n"
          ]
        },
        {
          "output_type": "stream",
          "name": "stdout",
          "text": [
            "1/1 [==============================] - 0s 51ms/step\n"
          ]
        },
        {
          "output_type": "stream",
          "name": "stderr",
          "text": [
            "<ipython-input-12-62fb44db4d1e>:54: MatplotlibDeprecationWarning: Setting data with a non sequence type is deprecated since 3.7 and will be remove two minor releases later\n",
            "  line_forecast.set_data(bitcoin_df['ds'][end_idx], predicted[0][0])  # line_forecast의 데이터를 bitcoin_df의 ds열에서 선택한 데이터와 predicted의 예측값으로 설정하여 그래프의 예측 선을 새로운 데이터로 업데이트 하는 것이다\n"
          ]
        },
        {
          "output_type": "stream",
          "name": "stdout",
          "text": [
            "1/1 [==============================] - 0s 16ms/step - loss: 0.0017\n"
          ]
        },
        {
          "output_type": "stream",
          "name": "stderr",
          "text": [
            "<ipython-input-12-62fb44db4d1e>:29: MatplotlibDeprecationWarning: Setting data with a non sequence type is deprecated since 3.7 and will be remove two minor releases later\n",
            "  line_vertical.set_xdata(bitcoin_df['ds'][end_idx])  #line_vertical의 x 데이터를 변경한다. bitcoin_df의 y 열에서 end_idx에 해당하는 행의 값을 가져오는것이다.\n"
          ]
        },
        {
          "output_type": "stream",
          "name": "stdout",
          "text": [
            "1/1 [==============================] - 0s 56ms/step\n"
          ]
        },
        {
          "output_type": "stream",
          "name": "stderr",
          "text": [
            "<ipython-input-12-62fb44db4d1e>:54: MatplotlibDeprecationWarning: Setting data with a non sequence type is deprecated since 3.7 and will be remove two minor releases later\n",
            "  line_forecast.set_data(bitcoin_df['ds'][end_idx], predicted[0][0])  # line_forecast의 데이터를 bitcoin_df의 ds열에서 선택한 데이터와 predicted의 예측값으로 설정하여 그래프의 예측 선을 새로운 데이터로 업데이트 하는 것이다\n"
          ]
        },
        {
          "output_type": "stream",
          "name": "stdout",
          "text": [
            "1/1 [==============================] - 0s 17ms/step - loss: 0.0019\n"
          ]
        },
        {
          "output_type": "stream",
          "name": "stderr",
          "text": [
            "<ipython-input-12-62fb44db4d1e>:29: MatplotlibDeprecationWarning: Setting data with a non sequence type is deprecated since 3.7 and will be remove two minor releases later\n",
            "  line_vertical.set_xdata(bitcoin_df['ds'][end_idx])  #line_vertical의 x 데이터를 변경한다. bitcoin_df의 y 열에서 end_idx에 해당하는 행의 값을 가져오는것이다.\n"
          ]
        },
        {
          "output_type": "stream",
          "name": "stdout",
          "text": [
            "1/1 [==============================] - 0s 45ms/step\n"
          ]
        },
        {
          "output_type": "stream",
          "name": "stderr",
          "text": [
            "<ipython-input-12-62fb44db4d1e>:54: MatplotlibDeprecationWarning: Setting data with a non sequence type is deprecated since 3.7 and will be remove two minor releases later\n",
            "  line_forecast.set_data(bitcoin_df['ds'][end_idx], predicted[0][0])  # line_forecast의 데이터를 bitcoin_df의 ds열에서 선택한 데이터와 predicted의 예측값으로 설정하여 그래프의 예측 선을 새로운 데이터로 업데이트 하는 것이다\n"
          ]
        },
        {
          "output_type": "stream",
          "name": "stdout",
          "text": [
            "1/1 [==============================] - 0s 15ms/step - loss: 0.0013\n"
          ]
        },
        {
          "output_type": "stream",
          "name": "stderr",
          "text": [
            "<ipython-input-12-62fb44db4d1e>:29: MatplotlibDeprecationWarning: Setting data with a non sequence type is deprecated since 3.7 and will be remove two minor releases later\n",
            "  line_vertical.set_xdata(bitcoin_df['ds'][end_idx])  #line_vertical의 x 데이터를 변경한다. bitcoin_df의 y 열에서 end_idx에 해당하는 행의 값을 가져오는것이다.\n"
          ]
        },
        {
          "output_type": "stream",
          "name": "stdout",
          "text": [
            "1/1 [==============================] - 0s 46ms/step\n"
          ]
        },
        {
          "output_type": "stream",
          "name": "stderr",
          "text": [
            "<ipython-input-12-62fb44db4d1e>:54: MatplotlibDeprecationWarning: Setting data with a non sequence type is deprecated since 3.7 and will be remove two minor releases later\n",
            "  line_forecast.set_data(bitcoin_df['ds'][end_idx], predicted[0][0])  # line_forecast의 데이터를 bitcoin_df의 ds열에서 선택한 데이터와 predicted의 예측값으로 설정하여 그래프의 예측 선을 새로운 데이터로 업데이트 하는 것이다\n"
          ]
        },
        {
          "output_type": "stream",
          "name": "stdout",
          "text": [
            "1/1 [==============================] - 0s 11ms/step - loss: 0.0071\n",
            "1/1 [==============================] - 0s 24ms/step\n"
          ]
        },
        {
          "output_type": "stream",
          "name": "stderr",
          "text": [
            "<ipython-input-12-62fb44db4d1e>:29: MatplotlibDeprecationWarning: Setting data with a non sequence type is deprecated since 3.7 and will be remove two minor releases later\n",
            "  line_vertical.set_xdata(bitcoin_df['ds'][end_idx])  #line_vertical의 x 데이터를 변경한다. bitcoin_df의 y 열에서 end_idx에 해당하는 행의 값을 가져오는것이다.\n",
            "<ipython-input-12-62fb44db4d1e>:54: MatplotlibDeprecationWarning: Setting data with a non sequence type is deprecated since 3.7 and will be remove two minor releases later\n",
            "  line_forecast.set_data(bitcoin_df['ds'][end_idx], predicted[0][0])  # line_forecast의 데이터를 bitcoin_df의 ds열에서 선택한 데이터와 predicted의 예측값으로 설정하여 그래프의 예측 선을 새로운 데이터로 업데이트 하는 것이다\n"
          ]
        },
        {
          "output_type": "stream",
          "name": "stdout",
          "text": [
            "1/1 [==============================] - 0s 9ms/step - loss: 0.0067\n",
            "1/1 [==============================] - 0s 23ms/step\n"
          ]
        },
        {
          "output_type": "stream",
          "name": "stderr",
          "text": [
            "<ipython-input-12-62fb44db4d1e>:29: MatplotlibDeprecationWarning: Setting data with a non sequence type is deprecated since 3.7 and will be remove two minor releases later\n",
            "  line_vertical.set_xdata(bitcoin_df['ds'][end_idx])  #line_vertical의 x 데이터를 변경한다. bitcoin_df의 y 열에서 end_idx에 해당하는 행의 값을 가져오는것이다.\n",
            "<ipython-input-12-62fb44db4d1e>:54: MatplotlibDeprecationWarning: Setting data with a non sequence type is deprecated since 3.7 and will be remove two minor releases later\n",
            "  line_forecast.set_data(bitcoin_df['ds'][end_idx], predicted[0][0])  # line_forecast의 데이터를 bitcoin_df의 ds열에서 선택한 데이터와 predicted의 예측값으로 설정하여 그래프의 예측 선을 새로운 데이터로 업데이트 하는 것이다\n"
          ]
        },
        {
          "output_type": "stream",
          "name": "stdout",
          "text": [
            "1/1 [==============================] - 0s 10ms/step - loss: 0.0078\n",
            "1/1 [==============================] - 0s 28ms/step\n"
          ]
        },
        {
          "output_type": "stream",
          "name": "stderr",
          "text": [
            "<ipython-input-12-62fb44db4d1e>:29: MatplotlibDeprecationWarning: Setting data with a non sequence type is deprecated since 3.7 and will be remove two minor releases later\n",
            "  line_vertical.set_xdata(bitcoin_df['ds'][end_idx])  #line_vertical의 x 데이터를 변경한다. bitcoin_df의 y 열에서 end_idx에 해당하는 행의 값을 가져오는것이다.\n",
            "<ipython-input-12-62fb44db4d1e>:54: MatplotlibDeprecationWarning: Setting data with a non sequence type is deprecated since 3.7 and will be remove two minor releases later\n",
            "  line_forecast.set_data(bitcoin_df['ds'][end_idx], predicted[0][0])  # line_forecast의 데이터를 bitcoin_df의 ds열에서 선택한 데이터와 predicted의 예측값으로 설정하여 그래프의 예측 선을 새로운 데이터로 업데이트 하는 것이다\n"
          ]
        },
        {
          "output_type": "stream",
          "name": "stdout",
          "text": [
            "1/1 [==============================] - 0s 10ms/step - loss: 0.0022\n",
            "1/1 [==============================] - 0s 27ms/step\n"
          ]
        },
        {
          "output_type": "stream",
          "name": "stderr",
          "text": [
            "<ipython-input-12-62fb44db4d1e>:29: MatplotlibDeprecationWarning: Setting data with a non sequence type is deprecated since 3.7 and will be remove two minor releases later\n",
            "  line_vertical.set_xdata(bitcoin_df['ds'][end_idx])  #line_vertical의 x 데이터를 변경한다. bitcoin_df의 y 열에서 end_idx에 해당하는 행의 값을 가져오는것이다.\n",
            "<ipython-input-12-62fb44db4d1e>:54: MatplotlibDeprecationWarning: Setting data with a non sequence type is deprecated since 3.7 and will be remove two minor releases later\n",
            "  line_forecast.set_data(bitcoin_df['ds'][end_idx], predicted[0][0])  # line_forecast의 데이터를 bitcoin_df의 ds열에서 선택한 데이터와 predicted의 예측값으로 설정하여 그래프의 예측 선을 새로운 데이터로 업데이트 하는 것이다\n"
          ]
        },
        {
          "output_type": "stream",
          "name": "stdout",
          "text": [
            "1/1 [==============================] - 0s 11ms/step - loss: 0.0037\n",
            "1/1 [==============================] - 0s 24ms/step\n"
          ]
        },
        {
          "output_type": "stream",
          "name": "stderr",
          "text": [
            "<ipython-input-12-62fb44db4d1e>:29: MatplotlibDeprecationWarning: Setting data with a non sequence type is deprecated since 3.7 and will be remove two minor releases later\n",
            "  line_vertical.set_xdata(bitcoin_df['ds'][end_idx])  #line_vertical의 x 데이터를 변경한다. bitcoin_df의 y 열에서 end_idx에 해당하는 행의 값을 가져오는것이다.\n",
            "<ipython-input-12-62fb44db4d1e>:54: MatplotlibDeprecationWarning: Setting data with a non sequence type is deprecated since 3.7 and will be remove two minor releases later\n",
            "  line_forecast.set_data(bitcoin_df['ds'][end_idx], predicted[0][0])  # line_forecast의 데이터를 bitcoin_df의 ds열에서 선택한 데이터와 predicted의 예측값으로 설정하여 그래프의 예측 선을 새로운 데이터로 업데이트 하는 것이다\n"
          ]
        },
        {
          "output_type": "stream",
          "name": "stdout",
          "text": [
            "1/1 [==============================] - 0s 9ms/step - loss: 0.0024\n",
            "1/1 [==============================] - 0s 23ms/step\n"
          ]
        },
        {
          "output_type": "stream",
          "name": "stderr",
          "text": [
            "<ipython-input-12-62fb44db4d1e>:29: MatplotlibDeprecationWarning: Setting data with a non sequence type is deprecated since 3.7 and will be remove two minor releases later\n",
            "  line_vertical.set_xdata(bitcoin_df['ds'][end_idx])  #line_vertical의 x 데이터를 변경한다. bitcoin_df의 y 열에서 end_idx에 해당하는 행의 값을 가져오는것이다.\n",
            "<ipython-input-12-62fb44db4d1e>:54: MatplotlibDeprecationWarning: Setting data with a non sequence type is deprecated since 3.7 and will be remove two minor releases later\n",
            "  line_forecast.set_data(bitcoin_df['ds'][end_idx], predicted[0][0])  # line_forecast의 데이터를 bitcoin_df의 ds열에서 선택한 데이터와 predicted의 예측값으로 설정하여 그래프의 예측 선을 새로운 데이터로 업데이트 하는 것이다\n"
          ]
        },
        {
          "output_type": "display_data",
          "data": {
            "text/plain": [
              "<Figure size 1000x600 with 1 Axes>"
            ],
            "image/png": "[encoded data removed]"
          },
          "metadata": {}
        }
      ]
    }
  ]
}