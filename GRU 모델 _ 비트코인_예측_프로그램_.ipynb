{
  "nbformat": 4,
  "nbformat_minor": 0,
  "metadata": {
    "colab": {
      "provenance": [],
      "authorship_tag": "ABX9TyM+Cht8RzaFTMfGQoBfPc7g",
      "include_colab_link": true
    },
    "kernelspec": {
      "name": "python3",
      "display_name": "Python 3"
    },
    "language_info": {
      "name": "python"
    }
  },
  "cells": [
    {
      "cell_type": "markdown",
      "metadata": {
        "id": "view-in-github",
        "colab_type": "text"
      },
      "source": [
        "<a href=\"https://colab.research.google.com/github/HONG-JU-OH/Bitcoin-Prediction-Project/blob/main/GRU%20%EB%AA%A8%EB%8D%B8%20_%20%EB%B9%84%ED%8A%B8%EC%BD%94%EC%9D%B8_%EC%98%88%EC%B8%A1_%ED%94%84%EB%A1%9C%EA%B7%B8%EB%9E%A8_.ipynb\" target=\"_parent\"><img src=\"https://colab.research.google.com/assets/colab-badge.svg\" alt=\"Open In Colab\"/></a>"
      ]
    },
    {
      "cell_type": "markdown",
      "source": [
        "# 1.2018년부터 2022년 데이터를 학습한후 2023년 예측하기"
      ],
      "metadata": {
        "id": "SqTCAnkRUzHJ"
      }
    },
    {
      "cell_type": "code",
      "execution_count": null,
      "metadata": {
        "colab": {
          "base_uri": "https://localhost:8080/"
        },
        "id": "bc8SbhhaTrTZ",
        "outputId": "e56e1da8-01f0-4e8d-8b7f-d70a7a3352d1"
      },
      "outputs": [
        {
          "output_type": "stream",
          "name": "stdout",
          "text": [
            "Looking in indexes: https://pypi.org/simple, https://us-python.pkg.dev/colab-wheels/public/simple/\n",
            "Requirement already satisfied: finance-datareader in /usr/local/lib/python3.10/dist-packages (0.9.50)\n",
            "Requirement already satisfied: pandas>=0.19.2 in /usr/local/lib/python3.10/dist-packages (from finance-datareader) (1.5.3)\n",
            "Requirement already satisfied: requests>=2.3.0 in /usr/local/lib/python3.10/dist-packages (from finance-datareader) (2.27.1)\n",
            "Requirement already satisfied: requests-file in /usr/local/lib/python3.10/dist-packages (from finance-datareader) (1.5.1)\n",
            "Requirement already satisfied: lxml in /usr/local/lib/python3.10/dist-packages (from finance-datareader) (4.9.2)\n",
            "Requirement already satisfied: tqdm in /usr/local/lib/python3.10/dist-packages (from finance-datareader) (4.65.0)\n",
            "Requirement already satisfied: python-dateutil>=2.8.1 in /usr/local/lib/python3.10/dist-packages (from pandas>=0.19.2->finance-datareader) (2.8.2)\n",
            "Requirement already satisfied: pytz>=2020.1 in /usr/local/lib/python3.10/dist-packages (from pandas>=0.19.2->finance-datareader) (2022.7.1)\n",
            "Requirement already satisfied: numpy>=1.21.0 in /usr/local/lib/python3.10/dist-packages (from pandas>=0.19.2->finance-datareader) (1.22.4)\n",
            "Requirement already satisfied: urllib3<1.27,>=1.21.1 in /usr/local/lib/python3.10/dist-packages (from requests>=2.3.0->finance-datareader) (1.26.15)\n",
            "Requirement already satisfied: certifi>=2017.4.17 in /usr/local/lib/python3.10/dist-packages (from requests>=2.3.0->finance-datareader) (2022.12.7)\n",
            "Requirement already satisfied: charset-normalizer~=2.0.0 in /usr/local/lib/python3.10/dist-packages (from requests>=2.3.0->finance-datareader) (2.0.12)\n",
            "Requirement already satisfied: idna<4,>=2.5 in /usr/local/lib/python3.10/dist-packages (from requests>=2.3.0->finance-datareader) (3.4)\n",
            "Requirement already satisfied: six in /usr/local/lib/python3.10/dist-packages (from requests-file->finance-datareader) (1.16.0)\n"
          ]
        }
      ],
      "source": [
        "!pip install finance-datareader # FinanceDataReader에서 데이터를 불러오기 위해 FinanceDataReader를 설치하는 과정"
      ]
    },
    {
      "cell_type": "code",
      "source": [
        "pip install datetime"
      ],
      "metadata": {
        "id": "k9o9mBIGQ3eK"
      },
      "execution_count": null,
      "outputs": []
    },
    {
      "cell_type": "code",
      "source": [
        "import pandas as pd\n",
        "import numpy as np\n",
        "import FinanceDataReader as fdr\n",
        "import matplotlib.pyplot as plt\n",
        "from sklearn.preprocessing import MinMaxScaler\n",
        "from tensorflow.keras.models import Sequential\n",
        "from tensorflow.keras.layers import Dense, GRU\n",
        "from sklearn.metrics import r2_score\n",
        "\n",
        "# 데이터 불러오기\n",
        "start_date = \"2018-01-01\"\n",
        "end_date = \"2023-12-31\"  #22.12.31 원래 데이터\n",
        "ticker = \"BTC/KRW\"  # 한국거래소에서 비트코인을 가격 데이터 가져오기\n",
        "df_data = fdr.DataReader(ticker, start_date, end_date)\n",
        "df = pd.DataFrame(fdr.DataReader(ticker, start_date, end_date)['Close'])"
      ],
      "metadata": {
        "id": "uY48cpAxTzXf"
      },
      "execution_count": null,
      "outputs": []
    },
    {
      "cell_type": "code",
      "source": [
        "df_data = fdr.DataReader(ticker, start_date, end_date)\n",
        "df_data.head()"
      ],
      "metadata": {
        "colab": {
          "base_uri": "https://localhost:8080/",
          "height": 238
        },
        "id": "7Tr1evCNN9ht",
        "outputId": "2552e5c6-feeb-44c6-d08d-57b8c286ad50"
      },
      "execution_count": null,
      "outputs": [
        {
          "output_type": "execute_result",
          "data": {
            "text/plain": [
              "                  Open        High         Low       Close   Adj Close  \\\n",
              "Date                                                                     \n",
              "2018-01-01  15047133.0  15046287.0  14026068.0  14548333.0  14548333.0   \n",
              "2018-01-02  14514031.0  16400157.0  13990142.0  15918331.0  15918331.0   \n",
              "2018-01-03  15914188.0  16565566.0  15788165.0  16172952.0  16172952.0   \n",
              "2018-01-04  16247109.0  16707220.0  15433904.0  16552935.0  16552935.0   \n",
              "2018-01-05  16423476.0  18802922.0  16131843.0  18510128.0  18510128.0   \n",
              "\n",
              "                    Volume  \n",
              "Date                        \n",
              "2018-01-01  10962700800000  \n",
              "2018-01-02  17899344238000  \n",
              "2018-01-03  17950689456200  \n",
              "2018-01-04  23115024576400  \n",
              "2018-01-05  25319034814500  "
            ],
            "text/html": [
              "\n",
              "  <div id=\"df-9f044c34-3feb-41c9-b909-038444ececad\">\n",
              "    <div class=\"colab-df-container\">\n",
              "      <div>\n",
              "<style scoped>\n",
              "    .dataframe tbody tr th:only-of-type {\n",
              "        vertical-align: middle;\n",
              "    }\n",
              "\n",
              "    .dataframe tbody tr th {\n",
              "        vertical-align: top;\n",
              "    }\n",
              "\n",
              "    .dataframe thead th {\n",
              "        text-align: right;\n",
              "    }\n",
              "</style>\n",
              "<table border=\"1\" class=\"dataframe\">\n",
              "  <thead>\n",
              "    <tr style=\"text-align: right;\">\n",
              "      <th></th>\n",
              "      <th>Open</th>\n",
              "      <th>High</th>\n",
              "      <th>Low</th>\n",
              "      <th>Close</th>\n",
              "      <th>Adj Close</th>\n",
              "      <th>Volume</th>\n",
              "    </tr>\n",
              "    <tr>\n",
              "      <th>Date</th>\n",
              "      <th></th>\n",
              "      <th></th>\n",
              "      <th></th>\n",
              "      <th></th>\n",
              "      <th></th>\n",
              "      <th></th>\n",
              "    </tr>\n",
              "  </thead>\n",
              "  <tbody>\n",
              "    <tr>\n",
              "      <th>2018-01-01</th>\n",
              "      <td>15047133.0</td>\n",
              "      <td>15046287.0</td>\n",
              "      <td>14026068.0</td>\n",
              "      <td>14548333.0</td>\n",
              "      <td>14548333.0</td>\n",
              "      <td>10962700800000</td>\n",
              "    </tr>\n",
              "    <tr>\n",
              "      <th>2018-01-02</th>\n",
              "      <td>14514031.0</td>\n",
              "      <td>16400157.0</td>\n",
              "      <td>13990142.0</td>\n",
              "      <td>15918331.0</td>\n",
              "      <td>15918331.0</td>\n",
              "      <td>17899344238000</td>\n",
              "    </tr>\n",
              "    <tr>\n",
              "      <th>2018-01-03</th>\n",
              "      <td>15914188.0</td>\n",
              "      <td>16565566.0</td>\n",
              "      <td>15788165.0</td>\n",
              "      <td>16172952.0</td>\n",
              "      <td>16172952.0</td>\n",
              "      <td>17950689456200</td>\n",
              "    </tr>\n",
              "    <tr>\n",
              "      <th>2018-01-04</th>\n",
              "      <td>16247109.0</td>\n",
              "      <td>16707220.0</td>\n",
              "      <td>15433904.0</td>\n",
              "      <td>16552935.0</td>\n",
              "      <td>16552935.0</td>\n",
              "      <td>23115024576400</td>\n",
              "    </tr>\n",
              "    <tr>\n",
              "      <th>2018-01-05</th>\n",
              "      <td>16423476.0</td>\n",
              "      <td>18802922.0</td>\n",
              "      <td>16131843.0</td>\n",
              "      <td>18510128.0</td>\n",
              "      <td>18510128.0</td>\n",
              "      <td>25319034814500</td>\n",
              "    </tr>\n",
              "  </tbody>\n",
              "</table>\n",
              "</div>\n",
              "      <button class=\"colab-df-convert\" onclick=\"convertToInteractive('df-9f044c34-3feb-41c9-b909-038444ececad')\"\n",
              "              title=\"Convert this dataframe to an interactive table.\"\n",
              "              style=\"display:none;\">\n",
              "        \n",
              "  <svg xmlns=\"http://www.w3.org/2000/svg\" height=\"24px\"viewBox=\"0 0 24 24\"\n",
              "       width=\"24px\">\n",
              "    <path d=\"M0 0h24v24H0V0z\" fill=\"none\"/>\n",
              "    <path d=\"M18.56 5.44l.94 2.06.94-2.06 2.06-.94-2.06-.94-.94-2.06-.94 2.06-2.06.94zm-11 1L8.5 8.5l.94-2.06 2.06-.94-2.06-.94L8.5 2.5l-.94 2.06-2.06.94zm10 10l.94 2.06.94-2.06 2.06-.94-2.06-.94-.94-2.06-.94 2.06-2.06.94z\"/><path d=\"M17.41 7.96l-1.37-1.37c-.4-.4-.92-.59-1.43-.59-.52 0-1.04.2-1.43.59L10.3 9.45l-7.72 7.72c-.78.78-.78 2.05 0 2.83L4 21.41c.39.39.9.59 1.41.59.51 0 1.02-.2 1.41-.59l7.78-7.78 2.81-2.81c.8-.78.8-2.07 0-2.86zM5.41 20L4 18.59l7.72-7.72 1.47 1.35L5.41 20z\"/>\n",
              "  </svg>\n",
              "      </button>\n",
              "      \n",
              "  <style>\n",
              "    .colab-df-container {\n",
              "      display:flex;\n",
              "      flex-wrap:wrap;\n",
              "      gap: 12px;\n",
              "    }\n",
              "\n",
              "    .colab-df-convert {\n",
              "      background-color: #E8F0FE;\n",
              "      border: none;\n",
              "      border-radius: 50%;\n",
              "      cursor: pointer;\n",
              "      display: none;\n",
              "      fill: #1967D2;\n",
              "      height: 32px;\n",
              "      padding: 0 0 0 0;\n",
              "      width: 32px;\n",
              "    }\n",
              "\n",
              "    .colab-df-convert:hover {\n",
              "      background-color: #E2EBFA;\n",
              "      box-shadow: 0px 1px 2px rgba(60, 64, 67, 0.3), 0px 1px 3px 1px rgba(60, 64, 67, 0.15);\n",
              "      fill: #174EA6;\n",
              "    }\n",
              "\n",
              "    [theme=dark] .colab-df-convert {\n",
              "      background-color: #3B4455;\n",
              "      fill: #D2E3FC;\n",
              "    }\n",
              "\n",
              "    [theme=dark] .colab-df-convert:hover {\n",
              "      background-color: #434B5C;\n",
              "      box-shadow: 0px 1px 3px 1px rgba(0, 0, 0, 0.15);\n",
              "      filter: drop-shadow(0px 1px 2px rgba(0, 0, 0, 0.3));\n",
              "      fill: #FFFFFF;\n",
              "    }\n",
              "  </style>\n",
              "\n",
              "      <script>\n",
              "        const buttonEl =\n",
              "          document.querySelector('#df-9f044c34-3feb-41c9-b909-038444ececad button.colab-df-convert');\n",
              "        buttonEl.style.display =\n",
              "          google.colab.kernel.accessAllowed ? 'block' : 'none';\n",
              "\n",
              "        async function convertToInteractive(key) {\n",
              "          const element = document.querySelector('#df-9f044c34-3feb-41c9-b909-038444ececad');\n",
              "          const dataTable =\n",
              "            await google.colab.kernel.invokeFunction('convertToInteractive',\n",
              "                                                     [key], {});\n",
              "          if (!dataTable) return;\n",
              "\n",
              "          const docLinkHtml = 'Like what you see? Visit the ' +\n",
              "            '<a target=\"_blank\" href=https://colab.research.google.com/notebooks/data_table.ipynb>data table notebook</a>'\n",
              "            + ' to learn more about interactive tables.';\n",
              "          element.innerHTML = '';\n",
              "          dataTable['output_type'] = 'display_data';\n",
              "          await google.colab.output.renderOutput(dataTable, element);\n",
              "          const docLink = document.createElement('div');\n",
              "          docLink.innerHTML = docLinkHtml;\n",
              "          element.appendChild(docLink);\n",
              "        }\n",
              "      </script>\n",
              "    </div>\n",
              "  </div>\n",
              "  "
            ]
          },
          "metadata": {},
          "execution_count": 70
        }
      ]
    },
    {
      "cell_type": "code",
      "source": [
        "df_data.to_csv(\"bitcoin.csv\", index = False)  # df_data을 csv파일로 저장"
      ],
      "metadata": {
        "id": "CcBGWqoWOUEL"
      },
      "execution_count": null,
      "outputs": []
    },
    {
      "cell_type": "code",
      "source": [
        "len(df_data) # 전체 데이터의 갯수"
      ],
      "metadata": {
        "colab": {
          "base_uri": "https://localhost:8080/"
        },
        "id": "MYrZCbFCOOgG",
        "outputId": "f0e4467a-9052-4a40-ce9b-2e3c067785a7"
      },
      "execution_count": null,
      "outputs": [
        {
          "output_type": "execute_result",
          "data": {
            "text/plain": [
              "1978"
            ]
          },
          "metadata": {},
          "execution_count": 71
        }
      ]
    },
    {
      "cell_type": "code",
      "source": [
        "# 데이터 전처리\n",
        "scaler = MinMaxScaler()\n",
        "scaled_data = scaler.fit_transform(df) # minmaxScaler는 스케일을 조정하는 정규화 함수로, 모든 데이터가 0과 1사이의 값을 갖도록 해주는 함수이다\n",
        "                          # 따라서 최댓값은 1로, 최솟값은 0으로 데이터의 범위를 조정해준다. 객체생성함"
      ],
      "metadata": {
        "id": "sQLrn2ZWT10k"
      },
      "execution_count": null,
      "outputs": []
    },
    {
      "cell_type": "code",
      "source": [
        "scaler"
      ],
      "metadata": {
        "colab": {
          "base_uri": "https://localhost:8080/",
          "height": 75
        },
        "id": "QH4mVPcCOg2Z",
        "outputId": "82633b74-617c-4bfc-97d9-e15b67217efb"
      },
      "execution_count": null,
      "outputs": [
        {
          "output_type": "execute_result",
          "data": {
            "text/plain": [
              "MinMaxScaler()"
            ],
            "text/html": [
              "<style>#sk-container-id-1 {color: black;background-color: white;}#sk-container-id-1 pre{padding: 0;}#sk-container-id-1 div.sk-toggleable {background-color: white;}#sk-container-id-1 label.sk-toggleable__label {cursor: pointer;display: block;width: 100%;margin-bottom: 0;padding: 0.3em;box-sizing: border-box;text-align: center;}#sk-container-id-1 label.sk-toggleable__label-arrow:before {content: \"▸\";float: left;margin-right: 0.25em;color: #696969;}#sk-container-id-1 label.sk-toggleable__label-arrow:hover:before {color: black;}#sk-container-id-1 div.sk-estimator:hover label.sk-toggleable__label-arrow:before {color: black;}#sk-container-id-1 div.sk-toggleable__content {max-height: 0;max-width: 0;overflow: hidden;text-align: left;background-color: #f0f8ff;}#sk-container-id-1 div.sk-toggleable__content pre {margin: 0.2em;color: black;border-radius: 0.25em;background-color: #f0f8ff;}#sk-container-id-1 input.sk-toggleable__control:checked~div.sk-toggleable__content {max-height: 200px;max-width: 100%;overflow: auto;}#sk-container-id-1 input.sk-toggleable__control:checked~label.sk-toggleable__label-arrow:before {content: \"▾\";}#sk-container-id-1 div.sk-estimator input.sk-toggleable__control:checked~label.sk-toggleable__label {background-color: #d4ebff;}#sk-container-id-1 div.sk-label input.sk-toggleable__control:checked~label.sk-toggleable__label {background-color: #d4ebff;}#sk-container-id-1 input.sk-hidden--visually {border: 0;clip: rect(1px 1px 1px 1px);clip: rect(1px, 1px, 1px, 1px);height: 1px;margin: -1px;overflow: hidden;padding: 0;position: absolute;width: 1px;}#sk-container-id-1 div.sk-estimator {font-family: monospace;background-color: #f0f8ff;border: 1px dotted black;border-radius: 0.25em;box-sizing: border-box;margin-bottom: 0.5em;}#sk-container-id-1 div.sk-estimator:hover {background-color: #d4ebff;}#sk-container-id-1 div.sk-parallel-item::after {content: \"\";width: 100%;border-bottom: 1px solid gray;flex-grow: 1;}#sk-container-id-1 div.sk-label:hover label.sk-toggleable__label {background-color: #d4ebff;}#sk-container-id-1 div.sk-serial::before {content: \"\";position: absolute;border-left: 1px solid gray;box-sizing: border-box;top: 0;bottom: 0;left: 50%;z-index: 0;}#sk-container-id-1 div.sk-serial {display: flex;flex-direction: column;align-items: center;background-color: white;padding-right: 0.2em;padding-left: 0.2em;position: relative;}#sk-container-id-1 div.sk-item {position: relative;z-index: 1;}#sk-container-id-1 div.sk-parallel {display: flex;align-items: stretch;justify-content: center;background-color: white;position: relative;}#sk-container-id-1 div.sk-item::before, #sk-container-id-1 div.sk-parallel-item::before {content: \"\";position: absolute;border-left: 1px solid gray;box-sizing: border-box;top: 0;bottom: 0;left: 50%;z-index: -1;}#sk-container-id-1 div.sk-parallel-item {display: flex;flex-direction: column;z-index: 1;position: relative;background-color: white;}#sk-container-id-1 div.sk-parallel-item:first-child::after {align-self: flex-end;width: 50%;}#sk-container-id-1 div.sk-parallel-item:last-child::after {align-self: flex-start;width: 50%;}#sk-container-id-1 div.sk-parallel-item:only-child::after {width: 0;}#sk-container-id-1 div.sk-dashed-wrapped {border: 1px dashed gray;margin: 0 0.4em 0.5em 0.4em;box-sizing: border-box;padding-bottom: 0.4em;background-color: white;}#sk-container-id-1 div.sk-label label {font-family: monospace;font-weight: bold;display: inline-block;line-height: 1.2em;}#sk-container-id-1 div.sk-label-container {text-align: center;}#sk-container-id-1 div.sk-container {/* jupyter's `normalize.less` sets `[hidden] { display: none; }` but bootstrap.min.css set `[hidden] { display: none !important; }` so we also need the `!important` here to be able to override the default hidden behavior on the sphinx rendered scikit-learn.org. See: https://github.com/scikit-learn/scikit-learn/issues/21755 */display: inline-block !important;position: relative;}#sk-container-id-1 div.sk-text-repr-fallback {display: none;}</style><div id=\"sk-container-id-1\" class=\"sk-top-container\"><div class=\"sk-text-repr-fallback\"><pre>MinMaxScaler()</pre><b>In a Jupyter environment, please rerun this cell to show the HTML representation or trust the notebook. <br />On GitHub, the HTML representation is unable to render, please try loading this page with nbviewer.org.</b></div><div class=\"sk-container\" hidden><div class=\"sk-item\"><div class=\"sk-estimator sk-toggleable\"><input class=\"sk-toggleable__control sk-hidden--visually\" id=\"sk-estimator-id-1\" type=\"checkbox\" checked><label for=\"sk-estimator-id-1\" class=\"sk-toggleable__label sk-toggleable__label-arrow\">MinMaxScaler</label><div class=\"sk-toggleable__content\"><pre>MinMaxScaler()</pre></div></div></div></div></div>"
            ]
          },
          "metadata": {},
          "execution_count": 74
        }
      ]
    },
    {
      "cell_type": "code",
      "source": [
        "scaled_data"
      ],
      "metadata": {
        "colab": {
          "base_uri": "https://localhost:8080/"
        },
        "id": "65YZAHaaO0ZS",
        "outputId": "96e48120-42de-443b-a61c-99fbff6ad2b2"
      },
      "execution_count": null,
      "outputs": [
        {
          "output_type": "execute_result",
          "data": {
            "text/plain": [
              "array([[0.14048103],\n",
              "       [0.15816443],\n",
              "       [0.16145098],\n",
              "       ...,\n",
              "       [0.4271587 ],\n",
              "       [0.42473192],\n",
              "       [0.4087367 ]])"
            ]
          },
          "metadata": {},
          "execution_count": 75
        }
      ]
    },
    {
      "cell_type": "code",
      "source": [
        "# train, test 데이터 생성\n",
        "\n",
        "train_size = int(len(scaled_data) * 0.8)   ## 전체 데이터셋 중 80%를 학습 데이터셋으로, 20%를 테스트 데이터셋(검증용) 으로 사용하기 위해서 0.8을 곱했다\n",
        "                                          # 모델 학습 시 과적합을 방지하고 일반화 성능을 높이기 위해 사용된다\n",
        "train_data = scaled_data[:train_size]\n",
        "test_data = scaled_data[train_size:]\n",
        "\n",
        "def create_dataset(data, look_back=60): #look_back은 몇 개의 과거 데이터를 사용할 것인지를 표현하는 것이다(기본값이 60이다)\n",
        "    x, y = [], []        #  for문에서 얻은 모든 입력 데이터(x)와 출력 데이터(y)를 리스트에 추가한다\n",
        "    for i in range(len(data)-look_back):\n",
        "        x.append(data[i:(i+look_back), 0])   # i부터 (i+look_back)까지의 데이터를 하나의 입력 데이터 x 로 표현한다.\n",
        "        y.append(data[i+look_back, 0])       # i+look_back의 데이터를 출력 데이터 y 로 표현한다.\n",
        "    return np.array(x), np.array(y)         # 리스트를 numpy 배열로 변환하여 반환\n",
        "\n",
        "# create_dataset()는 시계열 데이터를 RNN 모델에 입력으로 사용하기 위해 입력 데이터와 출력 데이터로 분리하는 함수이다.\n",
        "\n",
        "look_back = 60\n",
        "x_train, y_train = create_dataset(train_data, look_back)\n",
        "x_test, y_test = create_dataset(test_data, look_back)"
      ],
      "metadata": {
        "id": "bkV8eViyT38J"
      },
      "execution_count": null,
      "outputs": []
    },
    {
      "cell_type": "code",
      "source": [
        "x_train"
      ],
      "metadata": {
        "colab": {
          "base_uri": "https://localhost:8080/"
        },
        "id": "GRfiCoxfO2j5",
        "outputId": "98dbc896-f639-4057-a81c-5009a1240e6f"
      },
      "execution_count": null,
      "outputs": [
        {
          "output_type": "execute_result",
          "data": {
            "text/plain": [
              "array([[0.14048103, 0.15816443, 0.16145098, ..., 0.10227909, 0.09835042,\n",
              "        0.10562754],\n",
              "       [0.15816443, 0.16145098, 0.16635566, ..., 0.09835042, 0.10562754,\n",
              "        0.10705619],\n",
              "       [0.16145098, 0.16635566, 0.19161835, ..., 0.10562754, 0.10705619,\n",
              "        0.11267147],\n",
              "       ...,\n",
              "       [0.62236659, 0.64278907, 0.6349003 , ..., 0.57302218, 0.59415024,\n",
              "        0.60593354],\n",
              "       [0.64278907, 0.6349003 , 0.61406849, ..., 0.59415024, 0.60593354,\n",
              "        0.58236801],\n",
              "       [0.6349003 , 0.61406849, 0.5674545 , ..., 0.60593354, 0.58236801,\n",
              "        0.5677727 ]])"
            ]
          },
          "metadata": {},
          "execution_count": 78
        }
      ]
    },
    {
      "cell_type": "code",
      "source": [
        "y_train"
      ],
      "metadata": {
        "colab": {
          "base_uri": "https://localhost:8080/"
        },
        "id": "dSeirLndO63B",
        "outputId": "0b824873-42e7-48fc-dd2b-7ef10c67264d"
      },
      "execution_count": null,
      "outputs": [
        {
          "output_type": "execute_result",
          "data": {
            "text/plain": [
              "array([0.10705619, 0.11267147, 0.11306163, ..., 0.58236801, 0.5677727 ,\n",
              "       0.58009488])"
            ]
          },
          "metadata": {},
          "execution_count": 79
        }
      ]
    },
    {
      "cell_type": "code",
      "source": [
        "# 모델 생성\n",
        "model = Sequential()   # 모델의 객체생성\n",
        "model.add(GRU(50, input_shape=(look_back, 1)))   #  50=레이어의 출력 차원, input_shape=입력 데이터의 형태를 정의를 의미한다.\n",
        "                                                  # lock_back=이전 데이터의 갯수만큼 비트코인 가격을 입력으로 받아들이고, 각각의 데이터가 1차원인 것을 의미합니다.\n",
        "\n",
        "model.add(Dense(1))   # Dense 는 완전 연결 레이어(층)를 의미한다. 1은 출력의 차원을 의미\n",
        "\n",
        "model.compile(loss='mean_squared_error', optimizer='adam')  # compile() 함수를 이용하여 모델을 컴파일합니다\n",
        "                                                             # loss는 손실 함수를 의미한다.\n",
        "                                                             # mean_squared_error(MSE) 는 전체 에러를 표현하기 위해서 사용하는 식이고 오차의 제곱에 대해 평균을 취한 것이다.(수치가 작을 수록 원본과의 오차가 적은 것이다)\n",
        "                                                             # optimizer는  최적화 알고리즘을 정의하는 부분이다. adam(아담) 은 모멘텀+ AdaGrad(아다그라드) 을 합친 것이다\n",
        "\n",
        "# 완전 연결 레이어 : 한 레이어의 모든 뉴런이 그 다음 레이어의 모든 뉴런과 연결된 상태이다.\n",
        "\n",
        "# 모멘텀 : 기울기 방향으로 힘을 받아 물체가 가속된다는 물리법칙을 적용한것이다.\n",
        "# AdaGrad : 학습을 진행하면서 학습률을 점차 줄여가는 방법이다.\n"
      ],
      "metadata": {
        "id": "UEuMLUZfT5_j"
      },
      "execution_count": null,
      "outputs": []
    },
    {
      "cell_type": "code",
      "source": [
        "model"
      ],
      "metadata": {
        "colab": {
          "base_uri": "https://localhost:8080/"
        },
        "id": "EZT1Q0jMPheE",
        "outputId": "7dd7cfb8-0f91-460b-df85-8c9807ac923f"
      },
      "execution_count": null,
      "outputs": [
        {
          "output_type": "execute_result",
          "data": {
            "text/plain": [
              "<keras.engine.sequential.Sequential at 0x7f26bd2f24d0>"
            ]
          },
          "metadata": {},
          "execution_count": 89
        }
      ]
    },
    {
      "cell_type": "code",
      "source": [
        "# 모델 학습\n",
        "model.fit(x_train, y_train, epochs=100, batch_size=64, verbose=2)\n",
        "\n",
        "# x_train : 학습데이터의 입력값   , y_train : 학습데이터의 출력값이다.\n",
        "\n",
        "# 에포크 : 훈련 데이터셋에 포함된 모든 데이터들이 한 번씩 모델을 통과한 횟수 또는 전체 학습 데이터셋에 대한 반복 횟수이다\n",
        "# 에포크가 높을수록 더 많은 반복 학습을 수행하게 되므로 모델이 더 많은 학습을 하게 되어 일반적으로 더 좋은 성능을 낼 수 있습니다\n",
        "\n",
        "# batch_size(배치크기) : 학습을 수행할 때, 몇 개의 데이터를 한 번에 처리할지를 지정한다, 일반적으로 32,64, 128 숫자를 사용한다\n",
        "\n",
        "# verbose : 학습 과정 중 출력되는 문구를 설정합니다. 0일 경우 출력하지 않으며, 1일 경우 학습 진행 상황을 출력하고, 2일 경우 학습 결과만 출력한다"
      ],
      "metadata": {
        "colab": {
          "base_uri": "https://localhost:8080/"
        },
        "id": "tsI7ripYT9Wy",
        "outputId": "b0a780ad-53b7-4109-9c93-786f5d22385c"
      },
      "execution_count": null,
      "outputs": [
        {
          "output_type": "stream",
          "name": "stdout",
          "text": [
            "Epoch 1/100\n",
            "24/24 - 7s - loss: 0.0590 - 7s/epoch - 282ms/step\n",
            "Epoch 2/100\n",
            "24/24 - 1s - loss: 0.0059 - 847ms/epoch - 35ms/step\n",
            "Epoch 3/100\n",
            "24/24 - 1s - loss: 8.5225e-04 - 847ms/epoch - 35ms/step\n",
            "Epoch 4/100\n",
            "24/24 - 1s - loss: 5.3251e-04 - 836ms/epoch - 35ms/step\n",
            "Epoch 5/100\n",
            "24/24 - 1s - loss: 4.9738e-04 - 1s/epoch - 48ms/step\n",
            "Epoch 6/100\n",
            "24/24 - 1s - loss: 4.7205e-04 - 1s/epoch - 60ms/step\n",
            "Epoch 7/100\n",
            "24/24 - 1s - loss: 4.6353e-04 - 1s/epoch - 49ms/step\n",
            "Epoch 8/100\n",
            "24/24 - 1s - loss: 4.4962e-04 - 830ms/epoch - 35ms/step\n",
            "Epoch 9/100\n",
            "24/24 - 1s - loss: 4.3033e-04 - 804ms/epoch - 33ms/step\n",
            "Epoch 10/100\n",
            "24/24 - 1s - loss: 4.1211e-04 - 829ms/epoch - 35ms/step\n",
            "Epoch 11/100\n",
            "24/24 - 1s - loss: 4.0590e-04 - 840ms/epoch - 35ms/step\n",
            "Epoch 12/100\n",
            "24/24 - 1s - loss: 3.9380e-04 - 838ms/epoch - 35ms/step\n",
            "Epoch 13/100\n",
            "24/24 - 1s - loss: 3.7957e-04 - 830ms/epoch - 35ms/step\n",
            "Epoch 14/100\n",
            "24/24 - 1s - loss: 3.9357e-04 - 810ms/epoch - 34ms/step\n",
            "Epoch 15/100\n",
            "24/24 - 1s - loss: 3.6841e-04 - 844ms/epoch - 35ms/step\n",
            "Epoch 16/100\n",
            "24/24 - 1s - loss: 3.7178e-04 - 845ms/epoch - 35ms/step\n",
            "Epoch 17/100\n",
            "24/24 - 1s - loss: 3.5351e-04 - 862ms/epoch - 36ms/step\n",
            "Epoch 18/100\n",
            "24/24 - 1s - loss: 3.5515e-04 - 848ms/epoch - 35ms/step\n",
            "Epoch 19/100\n",
            "24/24 - 1s - loss: 3.4322e-04 - 1s/epoch - 48ms/step\n",
            "Epoch 20/100\n",
            "24/24 - 1s - loss: 3.4300e-04 - 1s/epoch - 61ms/step\n",
            "Epoch 21/100\n",
            "24/24 - 1s - loss: 3.2983e-04 - 1s/epoch - 49ms/step\n",
            "Epoch 22/100\n",
            "24/24 - 1s - loss: 3.2880e-04 - 843ms/epoch - 35ms/step\n",
            "Epoch 23/100\n",
            "24/24 - 1s - loss: 3.2628e-04 - 846ms/epoch - 35ms/step\n",
            "Epoch 24/100\n",
            "24/24 - 1s - loss: 3.1869e-04 - 839ms/epoch - 35ms/step\n",
            "Epoch 25/100\n",
            "24/24 - 1s - loss: 3.1514e-04 - 850ms/epoch - 35ms/step\n",
            "Epoch 26/100\n",
            "24/24 - 1s - loss: 3.0901e-04 - 868ms/epoch - 36ms/step\n",
            "Epoch 27/100\n",
            "24/24 - 1s - loss: 3.1053e-04 - 846ms/epoch - 35ms/step\n",
            "Epoch 28/100\n",
            "24/24 - 1s - loss: 3.1364e-04 - 847ms/epoch - 35ms/step\n",
            "Epoch 29/100\n",
            "24/24 - 1s - loss: 3.0115e-04 - 830ms/epoch - 35ms/step\n",
            "Epoch 30/100\n",
            "24/24 - 1s - loss: 2.9864e-04 - 835ms/epoch - 35ms/step\n",
            "Epoch 31/100\n",
            "24/24 - 1s - loss: 2.9945e-04 - 850ms/epoch - 35ms/step\n",
            "Epoch 32/100\n",
            "24/24 - 1s - loss: 2.9796e-04 - 833ms/epoch - 35ms/step\n",
            "Epoch 33/100\n",
            "24/24 - 1s - loss: 2.9362e-04 - 1s/epoch - 52ms/step\n",
            "Epoch 34/100\n",
            "24/24 - 1s - loss: 2.9755e-04 - 1s/epoch - 59ms/step\n",
            "Epoch 35/100\n",
            "24/24 - 1s - loss: 3.0487e-04 - 1s/epoch - 46ms/step\n",
            "Epoch 36/100\n",
            "24/24 - 1s - loss: 2.9349e-04 - 847ms/epoch - 35ms/step\n",
            "Epoch 37/100\n",
            "24/24 - 1s - loss: 2.9337e-04 - 824ms/epoch - 34ms/step\n",
            "Epoch 38/100\n",
            "24/24 - 1s - loss: 2.9592e-04 - 805ms/epoch - 34ms/step\n",
            "Epoch 39/100\n",
            "24/24 - 1s - loss: 2.9228e-04 - 833ms/epoch - 35ms/step\n",
            "Epoch 40/100\n",
            "24/24 - 1s - loss: 2.9477e-04 - 837ms/epoch - 35ms/step\n",
            "Epoch 41/100\n",
            "24/24 - 1s - loss: 2.9284e-04 - 829ms/epoch - 35ms/step\n",
            "Epoch 42/100\n",
            "24/24 - 1s - loss: 2.8674e-04 - 822ms/epoch - 34ms/step\n",
            "Epoch 43/100\n",
            "24/24 - 1s - loss: 2.8999e-04 - 810ms/epoch - 34ms/step\n",
            "Epoch 44/100\n",
            "24/24 - 1s - loss: 2.7190e-04 - 836ms/epoch - 35ms/step\n",
            "Epoch 45/100\n",
            "24/24 - 1s - loss: 2.7525e-04 - 835ms/epoch - 35ms/step\n",
            "Epoch 46/100\n",
            "24/24 - 1s - loss: 2.8329e-04 - 829ms/epoch - 35ms/step\n",
            "Epoch 47/100\n",
            "24/24 - 1s - loss: 2.7807e-04 - 1s/epoch - 47ms/step\n",
            "Epoch 48/100\n",
            "24/24 - 1s - loss: 2.7277e-04 - 1s/epoch - 58ms/step\n",
            "Epoch 49/100\n",
            "24/24 - 1s - loss: 2.7651e-04 - 1s/epoch - 48ms/step\n",
            "Epoch 50/100\n",
            "24/24 - 1s - loss: 2.6885e-04 - 838ms/epoch - 35ms/step\n",
            "Epoch 51/100\n",
            "24/24 - 1s - loss: 2.7193e-04 - 829ms/epoch - 35ms/step\n",
            "Epoch 52/100\n",
            "24/24 - 1s - loss: 2.6510e-04 - 826ms/epoch - 34ms/step\n",
            "Epoch 53/100\n",
            "24/24 - 1s - loss: 2.7137e-04 - 814ms/epoch - 34ms/step\n",
            "Epoch 54/100\n",
            "24/24 - 1s - loss: 2.7349e-04 - 832ms/epoch - 35ms/step\n",
            "Epoch 55/100\n",
            "24/24 - 1s - loss: 2.6449e-04 - 832ms/epoch - 35ms/step\n",
            "Epoch 56/100\n",
            "24/24 - 1s - loss: 2.6651e-04 - 832ms/epoch - 35ms/step\n",
            "Epoch 57/100\n",
            "24/24 - 1s - loss: 2.6562e-04 - 833ms/epoch - 35ms/step\n",
            "Epoch 58/100\n",
            "24/24 - 1s - loss: 2.6450e-04 - 827ms/epoch - 34ms/step\n",
            "Epoch 59/100\n",
            "24/24 - 1s - loss: 2.6032e-04 - 878ms/epoch - 37ms/step\n",
            "Epoch 60/100\n",
            "24/24 - 1s - loss: 2.5766e-04 - 840ms/epoch - 35ms/step\n",
            "Epoch 61/100\n",
            "24/24 - 1s - loss: 2.5547e-04 - 1s/epoch - 48ms/step\n",
            "Epoch 62/100\n",
            "24/24 - 1s - loss: 2.6169e-04 - 1s/epoch - 58ms/step\n",
            "Epoch 63/100\n",
            "24/24 - 1s - loss: 2.6119e-04 - 1s/epoch - 49ms/step\n",
            "Epoch 64/100\n",
            "24/24 - 1s - loss: 2.6423e-04 - 828ms/epoch - 34ms/step\n",
            "Epoch 65/100\n",
            "24/24 - 1s - loss: 2.6024e-04 - 848ms/epoch - 35ms/step\n",
            "Epoch 66/100\n",
            "24/24 - 1s - loss: 2.5858e-04 - 814ms/epoch - 34ms/step\n",
            "Epoch 67/100\n",
            "24/24 - 1s - loss: 2.5433e-04 - 825ms/epoch - 34ms/step\n",
            "Epoch 68/100\n",
            "24/24 - 1s - loss: 2.6279e-04 - 838ms/epoch - 35ms/step\n",
            "Epoch 69/100\n",
            "24/24 - 1s - loss: 2.6146e-04 - 837ms/epoch - 35ms/step\n",
            "Epoch 70/100\n",
            "24/24 - 1s - loss: 2.5784e-04 - 826ms/epoch - 34ms/step\n",
            "Epoch 71/100\n",
            "24/24 - 1s - loss: 2.5692e-04 - 810ms/epoch - 34ms/step\n",
            "Epoch 72/100\n",
            "24/24 - 1s - loss: 2.8325e-04 - 825ms/epoch - 34ms/step\n",
            "Epoch 73/100\n",
            "24/24 - 1s - loss: 2.5596e-04 - 821ms/epoch - 34ms/step\n",
            "Epoch 74/100\n",
            "24/24 - 1s - loss: 2.6308e-04 - 823ms/epoch - 34ms/step\n",
            "Epoch 75/100\n",
            "24/24 - 1s - loss: 2.5682e-04 - 1s/epoch - 45ms/step\n",
            "Epoch 76/100\n",
            "24/24 - 3s - loss: 2.5555e-04 - 3s/epoch - 109ms/step\n",
            "Epoch 77/100\n",
            "24/24 - 2s - loss: 2.5336e-04 - 2s/epoch - 64ms/step\n",
            "Epoch 78/100\n",
            "24/24 - 1s - loss: 2.7970e-04 - 990ms/epoch - 41ms/step\n",
            "Epoch 79/100\n",
            "24/24 - 1s - loss: 2.5471e-04 - 843ms/epoch - 35ms/step\n",
            "Epoch 80/100\n",
            "24/24 - 1s - loss: 2.5881e-04 - 833ms/epoch - 35ms/step\n",
            "Epoch 81/100\n",
            "24/24 - 1s - loss: 2.5682e-04 - 823ms/epoch - 34ms/step\n",
            "Epoch 82/100\n",
            "24/24 - 1s - loss: 2.5934e-04 - 841ms/epoch - 35ms/step\n",
            "Epoch 83/100\n",
            "24/24 - 1s - loss: 2.4951e-04 - 835ms/epoch - 35ms/step\n",
            "Epoch 84/100\n",
            "24/24 - 1s - loss: 2.5586e-04 - 835ms/epoch - 35ms/step\n",
            "Epoch 85/100\n",
            "24/24 - 1s - loss: 2.5238e-04 - 840ms/epoch - 35ms/step\n",
            "Epoch 86/100\n",
            "24/24 - 1s - loss: 2.5542e-04 - 825ms/epoch - 34ms/step\n",
            "Epoch 87/100\n",
            "24/24 - 1s - loss: 2.5047e-04 - 936ms/epoch - 39ms/step\n",
            "Epoch 88/100\n",
            "24/24 - 1s - loss: 2.5687e-04 - 1s/epoch - 58ms/step\n",
            "Epoch 89/100\n",
            "24/24 - 1s - loss: 2.4964e-04 - 1s/epoch - 58ms/step\n",
            "Epoch 90/100\n",
            "24/24 - 1s - loss: 2.5265e-04 - 854ms/epoch - 36ms/step\n",
            "Epoch 91/100\n",
            "24/24 - 1s - loss: 2.5421e-04 - 830ms/epoch - 35ms/step\n",
            "Epoch 92/100\n",
            "24/24 - 1s - loss: 2.4722e-04 - 819ms/epoch - 34ms/step\n",
            "Epoch 93/100\n",
            "24/24 - 1s - loss: 2.5507e-04 - 837ms/epoch - 35ms/step\n",
            "Epoch 94/100\n",
            "24/24 - 1s - loss: 2.6181e-04 - 828ms/epoch - 35ms/step\n",
            "Epoch 95/100\n",
            "24/24 - 1s - loss: 2.5420e-04 - 830ms/epoch - 35ms/step\n",
            "Epoch 96/100\n",
            "24/24 - 1s - loss: 2.5408e-04 - 826ms/epoch - 34ms/step\n",
            "Epoch 97/100\n",
            "24/24 - 1s - loss: 2.5320e-04 - 831ms/epoch - 35ms/step\n",
            "Epoch 98/100\n",
            "24/24 - 1s - loss: 2.5137e-04 - 855ms/epoch - 36ms/step\n",
            "Epoch 99/100\n",
            "24/24 - 1s - loss: 2.4478e-04 - 827ms/epoch - 34ms/step\n",
            "Epoch 100/100\n",
            "24/24 - 1s - loss: 2.4406e-04 - 851ms/epoch - 35ms/step\n"
          ]
        },
        {
          "output_type": "execute_result",
          "data": {
            "text/plain": [
              "<keras.callbacks.History at 0x7fc614379c60>"
            ]
          },
          "metadata": {},
          "execution_count": 6
        }
      ]
    },
    {
      "cell_type": "code",
      "source": [
        "# 예측\n",
        "train_predict = model.predict(x_train)\n",
        "test_predict = model.predict(x_test)\n",
        "\n",
        "# model.predict(x_train) 은 학습된 모델을 이용하여 train 데이터에 대한 예측값을 계산한다\n",
        "# mode.predict(x_test) 은 학습된 모델을 이용하여 test 데이터에 대한 예측값을 계산한다."
      ],
      "metadata": {
        "colab": {
          "base_uri": "https://localhost:8080/"
        },
        "id": "Z6otkhvTT97S",
        "outputId": "801a0aeb-2c17-4323-e02c-1b32bdf31708"
      },
      "execution_count": null,
      "outputs": [
        {
          "output_type": "stream",
          "name": "stdout",
          "text": [
            "48/48 [==============================] - 1s 9ms/step\n",
            "11/11 [==============================] - 0s 9ms/step\n"
          ]
        }
      ]
    },
    {
      "cell_type": "code",
      "source": [
        "import datetime\n",
        "from datetime import datetime\n",
        "# 예측 결과 시각화\n",
        "train_predict = scaler.inverse_transform(train_predict)\n",
        "test_predict = scaler.inverse_transform(test_predict)\n",
        "\n",
        "# train_predict와 test_predict 배열에 NaN 값이 포함되어 있는지 확인하기 위해  np.isnan() 함수를 사용\n",
        "# 만약 NaN 값이 있다면, 이를 np.ma.array() 함수를 사용하여 NaN 값을 마스킹한 배열을 생성한다.\n",
        "# np.ma.array()에서는 평균값을 구할수있다.(조건이 참일때 평균값을 구해서 NaN값으로 대체한다)\n",
        "\n",
        "# train_predict와 test_predict 배열의 값을 scaler.inverse_transform() 함수를 사용하여 스케일링된 값을 원래의 값으로 복원합니다.\n",
        "\n",
        "plt.figure(figsize=(10, 5))\n",
        "\n",
        "# 2023년 1월 1일에 빨간색 세로축을 추가합니다.\n",
        "target_date = datetime(2023, 1, 1)\n",
        "plt.axvline(x=target_date, color='red', linestyle='--')\n",
        "\n",
        "plt.plot(df[look_back:len(train_data)].index, df[look_back:len(train_data)].values, label='Actual Train Price')\n",
        "plt.plot(df[len(train_data)+look_back:].index, df[len(train_data)+look_back:].values, label='Actual Test Price')\n",
        "plt.plot(df[look_back:len(train_data)].index, train_predict, label='Predicted Train Price')\n",
        "plt.plot(df[len(train_data)+look_back:].index, test_predict, label='Predicted Test Price')\n",
        "plt.xlabel('Date')\n",
        "plt.ylabel('Price')\n",
        "plt.title('Bitcoin price prediction for 2023')\n",
        "plt.legend()\n",
        "plt.show()"
      ],
      "metadata": {
        "colab": {
          "base_uri": "https://localhost:8080/",
          "height": 487
        },
        "id": "mf64kDkvT__e",
        "outputId": "5f7f6c33-e120-41c4-b99f-46ef0846de8c"
      },
      "execution_count": null,
      "outputs": [
        {
          "output_type": "display_data",
          "data": {
            "text/plain": [
              "<Figure size 1000x500 with 1 Axes>"
            ],
            "image/png": "[encoded data removed]"
          },
          "metadata": {}
        }
      ]
    },
    {
      "cell_type": "code",
      "source": [
        "# train 및 test 데이터에 대한 예측값 생성\n",
        "train_predict = model.predict(x_train)\n",
        "test_predict = model.predict(x_test)\n",
        "\n",
        "# 스케일링 된 값을 다시 원래 값으로 변환\n",
        "train_predict = scaler.inverse_transform(train_predict)  #inverse_transform() 함수를 이용해 원본값으로 복원가능하다\n",
        "y_train = scaler.inverse_transform([y_train])\n",
        "test_predict = scaler.inverse_transform(test_predict)\n",
        "y_test = scaler.inverse_transform([y_test])\n",
        "\n",
        "\n",
        "train_r2_score = r2_score(y_train[0], train_predict[:,0])\n",
        "test_r2_score = r2_score(y_test[0], test_predict[:,0])\n",
        "\n",
        "\n",
        "# 결과 출력\n",
        "print(\"Train R2 Score : \", train_r2_score)  # train 데이터의 정확도를 알려준다\n",
        "print(\"Test R2 Score : \", test_r2_score)   # test 데이터의 정확도를 알려준다"
      ],
      "metadata": {
        "colab": {
          "base_uri": "https://localhost:8080/"
        },
        "id": "UlyHZWyLUF7g",
        "outputId": "50d7ab09-17e9-42bf-9cbe-2957616210ef"
      },
      "execution_count": null,
      "outputs": [
        {
          "output_type": "stream",
          "name": "stdout",
          "text": [
            "48/48 [==============================] - 1s 10ms/step\n",
            "11/11 [==============================] - 0s 10ms/step\n",
            "Train R2 Score :  0.9967524212748647\n",
            "Test R2 Score :  0.9648039994448304\n"
          ]
        }
      ]
    },
    {
      "cell_type": "code",
      "source": [
        "model.predict([[2023]])  # 2023년을 예측한 값이다"
      ],
      "metadata": {
        "colab": {
          "base_uri": "https://localhost:8080/"
        },
        "id": "HDD6JkKWU9ht",
        "outputId": "69a78bf8-f3dd-4b2c-ccbb-96682cb34ff0"
      },
      "execution_count": null,
      "outputs": [
        {
          "output_type": "stream",
          "name": "stdout",
          "text": [
            "1/1 [==============================] - 1s 771ms/step\n"
          ]
        },
        {
          "output_type": "execute_result",
          "data": {
            "text/plain": [
              "array([[6.5640645]], dtype=float32)"
            ]
          },
          "metadata": {},
          "execution_count": 10
        }
      ]
    },
    {
      "cell_type": "markdown",
      "source": [
        "# 2. 2018년부터 2020년 데이터를 학습한후 2021년 예측하기"
      ],
      "metadata": {
        "id": "8KRJuybIVB97"
      }
    },
    {
      "cell_type": "code",
      "source": [
        "!pip install finance-datareader # FinanceDataReader에서 데이터를 불러오기 위해 FinanceDataReader를 설치하는 과정"
      ],
      "metadata": {
        "id": "_swa5Gq4VMIs",
        "colab": {
          "base_uri": "https://localhost:8080/"
        },
        "outputId": "134a3a6a-863b-4e48-c42c-b3e1dc59b913"
      },
      "execution_count": null,
      "outputs": [
        {
          "output_type": "stream",
          "name": "stdout",
          "text": [
            "Looking in indexes: https://pypi.org/simple, https://us-python.pkg.dev/colab-wheels/public/simple/\n",
            "Collecting finance-datareader\n",
            "  Downloading finance_datareader-0.9.50-py3-none-any.whl (19 kB)\n",
            "Requirement already satisfied: pandas>=0.19.2 in /usr/local/lib/python3.10/dist-packages (from finance-datareader) (1.5.3)\n",
            "Requirement already satisfied: requests>=2.3.0 in /usr/local/lib/python3.10/dist-packages (from finance-datareader) (2.27.1)\n",
            "Collecting requests-file (from finance-datareader)\n",
            "  Downloading requests_file-1.5.1-py2.py3-none-any.whl (3.7 kB)\n",
            "Requirement already satisfied: lxml in /usr/local/lib/python3.10/dist-packages (from finance-datareader) (4.9.2)\n",
            "Requirement already satisfied: tqdm in /usr/local/lib/python3.10/dist-packages (from finance-datareader) (4.65.0)\n",
            "Requirement already satisfied: python-dateutil>=2.8.1 in /usr/local/lib/python3.10/dist-packages (from pandas>=0.19.2->finance-datareader) (2.8.2)\n",
            "Requirement already satisfied: pytz>=2020.1 in /usr/local/lib/python3.10/dist-packages (from pandas>=0.19.2->finance-datareader) (2022.7.1)\n",
            "Requirement already satisfied: numpy>=1.21.0 in /usr/local/lib/python3.10/dist-packages (from pandas>=0.19.2->finance-datareader) (1.22.4)\n",
            "Requirement already satisfied: urllib3<1.27,>=1.21.1 in /usr/local/lib/python3.10/dist-packages (from requests>=2.3.0->finance-datareader) (1.26.15)\n",
            "Requirement already satisfied: certifi>=2017.4.17 in /usr/local/lib/python3.10/dist-packages (from requests>=2.3.0->finance-datareader) (2022.12.7)\n",
            "Requirement already satisfied: charset-normalizer~=2.0.0 in /usr/local/lib/python3.10/dist-packages (from requests>=2.3.0->finance-datareader) (2.0.12)\n",
            "Requirement already satisfied: idna<4,>=2.5 in /usr/local/lib/python3.10/dist-packages (from requests>=2.3.0->finance-datareader) (3.4)\n",
            "Requirement already satisfied: six in /usr/local/lib/python3.10/dist-packages (from requests-file->finance-datareader) (1.16.0)\n",
            "Installing collected packages: requests-file, finance-datareader\n",
            "Successfully installed finance-datareader-0.9.50 requests-file-1.5.1\n"
          ]
        }
      ]
    },
    {
      "cell_type": "code",
      "source": [
        "pip install datetime"
      ],
      "metadata": {
        "id": "3fsJEb66Q1xC"
      },
      "execution_count": null,
      "outputs": []
    },
    {
      "cell_type": "code",
      "source": [
        "import pandas as pd\n",
        "import numpy as np\n",
        "import FinanceDataReader as fdr\n",
        "import matplotlib.pyplot as plt\n",
        "from sklearn.preprocessing import MinMaxScaler\n",
        "from tensorflow.keras.models import Sequential\n",
        "from tensorflow.keras.layers import Dense, GRU\n",
        "from sklearn.metrics import r2_score\n",
        "\n",
        "# 데이터 불러오기\n",
        "start_date_c = \"2018-01-01\"\n",
        "end_date_c = \"2021-12-31\"\n",
        "ticker_c = \"BTC/KRW\"\n",
        "data_c= fdr.DataReader(ticker_c,start_date_c, end_date_c)\n",
        "df_c = pd.DataFrame(fdr.DataReader(ticker_c, start_date_c, end_date_c)['Close'])"
      ],
      "metadata": {
        "id": "HlWl1S28VNox"
      },
      "execution_count": null,
      "outputs": []
    },
    {
      "cell_type": "code",
      "source": [
        "df_data_c = fdr.DataReader(ticker_c, start_date_c, end_date_c)\n",
        "df_data_c.head()"
      ],
      "metadata": {
        "colab": {
          "base_uri": "https://localhost:8080/",
          "height": 238
        },
        "id": "lXDr-9u8PG2p",
        "outputId": "b6e9981a-d157-4bd4-8e8a-c90837b379e9"
      },
      "execution_count": null,
      "outputs": [
        {
          "output_type": "execute_result",
          "data": {
            "text/plain": [
              "                  Open        High         Low       Close   Adj Close  \\\n",
              "Date                                                                     \n",
              "2018-01-01  15047133.0  15046287.0  14026068.0  14548333.0  14548333.0   \n",
              "2018-01-02  14514031.0  16400157.0  13990142.0  15918331.0  15918331.0   \n",
              "2018-01-03  15914188.0  16565566.0  15788165.0  16172952.0  16172952.0   \n",
              "2018-01-04  16247109.0  16707220.0  15433904.0  16552935.0  16552935.0   \n",
              "2018-01-05  16423476.0  18802922.0  16131843.0  18510128.0  18510128.0   \n",
              "\n",
              "                    Volume  \n",
              "Date                        \n",
              "2018-01-01  10962700800000  \n",
              "2018-01-02  17899344238000  \n",
              "2018-01-03  17950689456200  \n",
              "2018-01-04  23115024576400  \n",
              "2018-01-05  25319034814500  "
            ],
            "text/html": [
              "\n",
              "  <div id=\"df-8cb71d39-686f-49b2-8653-db48ba3ffa2e\">\n",
              "    <div class=\"colab-df-container\">\n",
              "      <div>\n",
              "<style scoped>\n",
              "    .dataframe tbody tr th:only-of-type {\n",
              "        vertical-align: middle;\n",
              "    }\n",
              "\n",
              "    .dataframe tbody tr th {\n",
              "        vertical-align: top;\n",
              "    }\n",
              "\n",
              "    .dataframe thead th {\n",
              "        text-align: right;\n",
              "    }\n",
              "</style>\n",
              "<table border=\"1\" class=\"dataframe\">\n",
              "  <thead>\n",
              "    <tr style=\"text-align: right;\">\n",
              "      <th></th>\n",
              "      <th>Open</th>\n",
              "      <th>High</th>\n",
              "      <th>Low</th>\n",
              "      <th>Close</th>\n",
              "      <th>Adj Close</th>\n",
              "      <th>Volume</th>\n",
              "    </tr>\n",
              "    <tr>\n",
              "      <th>Date</th>\n",
              "      <th></th>\n",
              "      <th></th>\n",
              "      <th></th>\n",
              "      <th></th>\n",
              "      <th></th>\n",
              "      <th></th>\n",
              "    </tr>\n",
              "  </thead>\n",
              "  <tbody>\n",
              "    <tr>\n",
              "      <th>2018-01-01</th>\n",
              "      <td>15047133.0</td>\n",
              "      <td>15046287.0</td>\n",
              "      <td>14026068.0</td>\n",
              "      <td>14548333.0</td>\n",
              "      <td>14548333.0</td>\n",
              "      <td>10962700800000</td>\n",
              "    </tr>\n",
              "    <tr>\n",
              "      <th>2018-01-02</th>\n",
              "      <td>14514031.0</td>\n",
              "      <td>16400157.0</td>\n",
              "      <td>13990142.0</td>\n",
              "      <td>15918331.0</td>\n",
              "      <td>15918331.0</td>\n",
              "      <td>17899344238000</td>\n",
              "    </tr>\n",
              "    <tr>\n",
              "      <th>2018-01-03</th>\n",
              "      <td>15914188.0</td>\n",
              "      <td>16565566.0</td>\n",
              "      <td>15788165.0</td>\n",
              "      <td>16172952.0</td>\n",
              "      <td>16172952.0</td>\n",
              "      <td>17950689456200</td>\n",
              "    </tr>\n",
              "    <tr>\n",
              "      <th>2018-01-04</th>\n",
              "      <td>16247109.0</td>\n",
              "      <td>16707220.0</td>\n",
              "      <td>15433904.0</td>\n",
              "      <td>16552935.0</td>\n",
              "      <td>16552935.0</td>\n",
              "      <td>23115024576400</td>\n",
              "    </tr>\n",
              "    <tr>\n",
              "      <th>2018-01-05</th>\n",
              "      <td>16423476.0</td>\n",
              "      <td>18802922.0</td>\n",
              "      <td>16131843.0</td>\n",
              "      <td>18510128.0</td>\n",
              "      <td>18510128.0</td>\n",
              "      <td>25319034814500</td>\n",
              "    </tr>\n",
              "  </tbody>\n",
              "</table>\n",
              "</div>\n",
              "      <button class=\"colab-df-convert\" onclick=\"convertToInteractive('df-8cb71d39-686f-49b2-8653-db48ba3ffa2e')\"\n",
              "              title=\"Convert this dataframe to an interactive table.\"\n",
              "              style=\"display:none;\">\n",
              "        \n",
              "  <svg xmlns=\"http://www.w3.org/2000/svg\" height=\"24px\"viewBox=\"0 0 24 24\"\n",
              "       width=\"24px\">\n",
              "    <path d=\"M0 0h24v24H0V0z\" fill=\"none\"/>\n",
              "    <path d=\"M18.56 5.44l.94 2.06.94-2.06 2.06-.94-2.06-.94-.94-2.06-.94 2.06-2.06.94zm-11 1L8.5 8.5l.94-2.06 2.06-.94-2.06-.94L8.5 2.5l-.94 2.06-2.06.94zm10 10l.94 2.06.94-2.06 2.06-.94-2.06-.94-.94-2.06-.94 2.06-2.06.94z\"/><path d=\"M17.41 7.96l-1.37-1.37c-.4-.4-.92-.59-1.43-.59-.52 0-1.04.2-1.43.59L10.3 9.45l-7.72 7.72c-.78.78-.78 2.05 0 2.83L4 21.41c.39.39.9.59 1.41.59.51 0 1.02-.2 1.41-.59l7.78-7.78 2.81-2.81c.8-.78.8-2.07 0-2.86zM5.41 20L4 18.59l7.72-7.72 1.47 1.35L5.41 20z\"/>\n",
              "  </svg>\n",
              "      </button>\n",
              "      \n",
              "  <style>\n",
              "    .colab-df-container {\n",
              "      display:flex;\n",
              "      flex-wrap:wrap;\n",
              "      gap: 12px;\n",
              "    }\n",
              "\n",
              "    .colab-df-convert {\n",
              "      background-color: #E8F0FE;\n",
              "      border: none;\n",
              "      border-radius: 50%;\n",
              "      cursor: pointer;\n",
              "      display: none;\n",
              "      fill: #1967D2;\n",
              "      height: 32px;\n",
              "      padding: 0 0 0 0;\n",
              "      width: 32px;\n",
              "    }\n",
              "\n",
              "    .colab-df-convert:hover {\n",
              "      background-color: #E2EBFA;\n",
              "      box-shadow: 0px 1px 2px rgba(60, 64, 67, 0.3), 0px 1px 3px 1px rgba(60, 64, 67, 0.15);\n",
              "      fill: #174EA6;\n",
              "    }\n",
              "\n",
              "    [theme=dark] .colab-df-convert {\n",
              "      background-color: #3B4455;\n",
              "      fill: #D2E3FC;\n",
              "    }\n",
              "\n",
              "    [theme=dark] .colab-df-convert:hover {\n",
              "      background-color: #434B5C;\n",
              "      box-shadow: 0px 1px 3px 1px rgba(0, 0, 0, 0.15);\n",
              "      filter: drop-shadow(0px 1px 2px rgba(0, 0, 0, 0.3));\n",
              "      fill: #FFFFFF;\n",
              "    }\n",
              "  </style>\n",
              "\n",
              "      <script>\n",
              "        const buttonEl =\n",
              "          document.querySelector('#df-8cb71d39-686f-49b2-8653-db48ba3ffa2e button.colab-df-convert');\n",
              "        buttonEl.style.display =\n",
              "          google.colab.kernel.accessAllowed ? 'block' : 'none';\n",
              "\n",
              "        async function convertToInteractive(key) {\n",
              "          const element = document.querySelector('#df-8cb71d39-686f-49b2-8653-db48ba3ffa2e');\n",
              "          const dataTable =\n",
              "            await google.colab.kernel.invokeFunction('convertToInteractive',\n",
              "                                                     [key], {});\n",
              "          if (!dataTable) return;\n",
              "\n",
              "          const docLinkHtml = 'Like what you see? Visit the ' +\n",
              "            '<a target=\"_blank\" href=https://colab.research.google.com/notebooks/data_table.ipynb>data table notebook</a>'\n",
              "            + ' to learn more about interactive tables.';\n",
              "          element.innerHTML = '';\n",
              "          dataTable['output_type'] = 'display_data';\n",
              "          await google.colab.output.renderOutput(dataTable, element);\n",
              "          const docLink = document.createElement('div');\n",
              "          docLink.innerHTML = docLinkHtml;\n",
              "          element.appendChild(docLink);\n",
              "        }\n",
              "      </script>\n",
              "    </div>\n",
              "  </div>\n",
              "  "
            ]
          },
          "metadata": {},
          "execution_count": 81
        }
      ]
    },
    {
      "cell_type": "code",
      "source": [
        "len(df_data_c)  # 전체 데이터의 갯수"
      ],
      "metadata": {
        "colab": {
          "base_uri": "https://localhost:8080/"
        },
        "id": "oRzCEGbaPNzP",
        "outputId": "be36a54b-248d-4975-bbbc-984d616de4ed"
      },
      "execution_count": null,
      "outputs": [
        {
          "output_type": "execute_result",
          "data": {
            "text/plain": [
              "1461"
            ]
          },
          "metadata": {},
          "execution_count": 82
        }
      ]
    },
    {
      "cell_type": "code",
      "source": [
        "# 데이터 전처리\n",
        "scaler_c = MinMaxScaler()\n",
        "scaled_data_c = scaler_c.fit_transform(df_c)\n",
        "\n",
        "# minmaxScaler는 스케일을 조정하는 정규화 함수로, 모든 데이터가 0과 1사이의 값을 갖도록 해주는 함수이다\n",
        "# 따라서 최댓값은 1로, 최솟값은 0으로 데이터의 범위를 조정해준다. 객체생성함"
      ],
      "metadata": {
        "id": "CNTOCD31VPxV"
      },
      "execution_count": null,
      "outputs": []
    },
    {
      "cell_type": "code",
      "source": [
        "scaler_c"
      ],
      "metadata": {
        "colab": {
          "base_uri": "https://localhost:8080/",
          "height": 75
        },
        "id": "QMo3kSS4PRcw",
        "outputId": "31ad27cb-b5b1-48d5-c562-385514aa6aac"
      },
      "execution_count": null,
      "outputs": [
        {
          "output_type": "execute_result",
          "data": {
            "text/plain": [
              "MinMaxScaler()"
            ],
            "text/html": [
              "<style>#sk-container-id-2 {color: black;background-color: white;}#sk-container-id-2 pre{padding: 0;}#sk-container-id-2 div.sk-toggleable {background-color: white;}#sk-container-id-2 label.sk-toggleable__label {cursor: pointer;display: block;width: 100%;margin-bottom: 0;padding: 0.3em;box-sizing: border-box;text-align: center;}#sk-container-id-2 label.sk-toggleable__label-arrow:before {content: \"▸\";float: left;margin-right: 0.25em;color: #696969;}#sk-container-id-2 label.sk-toggleable__label-arrow:hover:before {color: black;}#sk-container-id-2 div.sk-estimator:hover label.sk-toggleable__label-arrow:before {color: black;}#sk-container-id-2 div.sk-toggleable__content {max-height: 0;max-width: 0;overflow: hidden;text-align: left;background-color: #f0f8ff;}#sk-container-id-2 div.sk-toggleable__content pre {margin: 0.2em;color: black;border-radius: 0.25em;background-color: #f0f8ff;}#sk-container-id-2 input.sk-toggleable__control:checked~div.sk-toggleable__content {max-height: 200px;max-width: 100%;overflow: auto;}#sk-container-id-2 input.sk-toggleable__control:checked~label.sk-toggleable__label-arrow:before {content: \"▾\";}#sk-container-id-2 div.sk-estimator input.sk-toggleable__control:checked~label.sk-toggleable__label {background-color: #d4ebff;}#sk-container-id-2 div.sk-label input.sk-toggleable__control:checked~label.sk-toggleable__label {background-color: #d4ebff;}#sk-container-id-2 input.sk-hidden--visually {border: 0;clip: rect(1px 1px 1px 1px);clip: rect(1px, 1px, 1px, 1px);height: 1px;margin: -1px;overflow: hidden;padding: 0;position: absolute;width: 1px;}#sk-container-id-2 div.sk-estimator {font-family: monospace;background-color: #f0f8ff;border: 1px dotted black;border-radius: 0.25em;box-sizing: border-box;margin-bottom: 0.5em;}#sk-container-id-2 div.sk-estimator:hover {background-color: #d4ebff;}#sk-container-id-2 div.sk-parallel-item::after {content: \"\";width: 100%;border-bottom: 1px solid gray;flex-grow: 1;}#sk-container-id-2 div.sk-label:hover label.sk-toggleable__label {background-color: #d4ebff;}#sk-container-id-2 div.sk-serial::before {content: \"\";position: absolute;border-left: 1px solid gray;box-sizing: border-box;top: 0;bottom: 0;left: 50%;z-index: 0;}#sk-container-id-2 div.sk-serial {display: flex;flex-direction: column;align-items: center;background-color: white;padding-right: 0.2em;padding-left: 0.2em;position: relative;}#sk-container-id-2 div.sk-item {position: relative;z-index: 1;}#sk-container-id-2 div.sk-parallel {display: flex;align-items: stretch;justify-content: center;background-color: white;position: relative;}#sk-container-id-2 div.sk-item::before, #sk-container-id-2 div.sk-parallel-item::before {content: \"\";position: absolute;border-left: 1px solid gray;box-sizing: border-box;top: 0;bottom: 0;left: 50%;z-index: -1;}#sk-container-id-2 div.sk-parallel-item {display: flex;flex-direction: column;z-index: 1;position: relative;background-color: white;}#sk-container-id-2 div.sk-parallel-item:first-child::after {align-self: flex-end;width: 50%;}#sk-container-id-2 div.sk-parallel-item:last-child::after {align-self: flex-start;width: 50%;}#sk-container-id-2 div.sk-parallel-item:only-child::after {width: 0;}#sk-container-id-2 div.sk-dashed-wrapped {border: 1px dashed gray;margin: 0 0.4em 0.5em 0.4em;box-sizing: border-box;padding-bottom: 0.4em;background-color: white;}#sk-container-id-2 div.sk-label label {font-family: monospace;font-weight: bold;display: inline-block;line-height: 1.2em;}#sk-container-id-2 div.sk-label-container {text-align: center;}#sk-container-id-2 div.sk-container {/* jupyter's `normalize.less` sets `[hidden] { display: none; }` but bootstrap.min.css set `[hidden] { display: none !important; }` so we also need the `!important` here to be able to override the default hidden behavior on the sphinx rendered scikit-learn.org. See: https://github.com/scikit-learn/scikit-learn/issues/21755 */display: inline-block !important;position: relative;}#sk-container-id-2 div.sk-text-repr-fallback {display: none;}</style><div id=\"sk-container-id-2\" class=\"sk-top-container\"><div class=\"sk-text-repr-fallback\"><pre>MinMaxScaler()</pre><b>In a Jupyter environment, please rerun this cell to show the HTML representation or trust the notebook. <br />On GitHub, the HTML representation is unable to render, please try loading this page with nbviewer.org.</b></div><div class=\"sk-container\" hidden><div class=\"sk-item\"><div class=\"sk-estimator sk-toggleable\"><input class=\"sk-toggleable__control sk-hidden--visually\" id=\"sk-estimator-id-2\" type=\"checkbox\" checked><label for=\"sk-estimator-id-2\" class=\"sk-toggleable__label sk-toggleable__label-arrow\">MinMaxScaler</label><div class=\"sk-toggleable__content\"><pre>MinMaxScaler()</pre></div></div></div></div></div>"
            ]
          },
          "metadata": {},
          "execution_count": 83
        }
      ]
    },
    {
      "cell_type": "code",
      "source": [
        "# train, test 데이터 생성\n",
        "train_size_c = int(len(scaled_data_c) * 0.8) # 전체 데이터셋 중 80%를 학습 데이터셋으로, 20%를 테스트 데이터셋(검증용) 으로 사용하기 위해서 0.8을 곱했다\n",
        "                                          # 모델 학습 시 과적합을 방지하고 일반화 성능을 높이기 위해 사용된다\n",
        "\n",
        "train_data_c = scaled_data_c[:train_size_c]\n",
        "test_data_c = scaled_data_c[train_size_c:]\n",
        "\n",
        "def create_dataset_c(data_c, look_back_c=60):   # lock_back의 기본값은 60이다  , lock_back에다 데이터 갯수만큼 넣으면 모델학습할때 에러가 나서 기본값이 60을 집어넣었다\n",
        "    x_c, y_c = [], []                  #  for문에서 얻은 모든 입력 데이터(x_c)와 출력 데이터(y_c)를 리스트에 추가한다\n",
        "    for i in range(len(data_c)-look_back_c):\n",
        "        x_c.append(data_c[i:(i+look_back_c), 0])   # i부터 (i+look_back)까지의 데이터를 하나의 입력 데이터 x_c 로 표현한다.\n",
        "        y_c.append(data_c[i+look_back_c, 0])      # i+look_back의 데이터를 출력 데이터 y_c 로 표현한다.\n",
        "    return np.array(x_c), np.array(y_c)\n",
        "\n",
        "look_back_c = 60\n",
        "x_train_c, y_train_c = create_dataset_c(train_data_c, look_back_c)\n",
        "x_test_c, y_test_c = create_dataset_c(test_data_c, look_back_c)\n",
        "\n",
        "# create_dataset()는 시계열 데이터를 RNN 모델에 입력으로 사용하기 위해 입력 데이터와 출력 데이터로 분리하는 함수이다."
      ],
      "metadata": {
        "id": "TGAhnSmMVXub"
      },
      "execution_count": null,
      "outputs": []
    },
    {
      "cell_type": "code",
      "source": [
        "x_train_c"
      ],
      "metadata": {
        "colab": {
          "base_uri": "https://localhost:8080/"
        },
        "id": "mmbT1mT8PZej",
        "outputId": "271d0b54-9e33-41f3-9533-706d497e90cc"
      },
      "execution_count": null,
      "outputs": [
        {
          "output_type": "execute_result",
          "data": {
            "text/plain": [
              "array([[0.14048103, 0.15816443, 0.16145098, ..., 0.10227909, 0.09835042,\n",
              "        0.10562754],\n",
              "       [0.15816443, 0.16145098, 0.16635566, ..., 0.09835042, 0.10562754,\n",
              "        0.10705619],\n",
              "       [0.16145098, 0.16635566, 0.19161835, ..., 0.10562754, 0.10705619,\n",
              "        0.11267147],\n",
              "       ...,\n",
              "       [0.493835  , 0.45651485, 0.43161973, ..., 0.72179776, 0.75651919,\n",
              "        0.77463487],\n",
              "       [0.45651485, 0.43161973, 0.48160849, ..., 0.75651919, 0.77463487,\n",
              "        0.79577821],\n",
              "       [0.43161973, 0.48160849, 0.5070242 , ..., 0.77463487, 0.79577821,\n",
              "        0.7937226 ]])"
            ]
          },
          "metadata": {},
          "execution_count": 84
        }
      ]
    },
    {
      "cell_type": "code",
      "source": [
        "y_train_c"
      ],
      "metadata": {
        "colab": {
          "base_uri": "https://localhost:8080/"
        },
        "id": "FVcRaWB0PbA7",
        "outputId": "46ea807e-9d38-4829-b485-b150e78416d1"
      },
      "execution_count": null,
      "outputs": [
        {
          "output_type": "execute_result",
          "data": {
            "text/plain": [
              "array([[11958789., 12393825., 12424052., ..., 65316600., 65157344.,\n",
              "        69602152.]])"
            ]
          },
          "metadata": {},
          "execution_count": 85
        }
      ]
    },
    {
      "cell_type": "code",
      "source": [
        "# 모델 생성\n",
        "model_c = Sequential()   # 모델의 객체생성\n",
        "model_c.add(GRU(50, input_shape=(look_back_c, 1)))  #  50=레이어의 출력 차원, input_shape=입력 데이터의 형태를 정의를 의미한다.\n",
        "                                                  # lock_back=이전 데이터의 갯수만큼 비트코인 가격을 입력으로 받아들이고, 각각의 데이터가 1차원인 것을 의미합니다.\n",
        "\n",
        "model_c.add(Dense(1))   # Dense 는 완전 연결 레이어(층)를 의미한다. 1은 출력의 차원을 의미\n",
        "model_c.compile(loss='mean_squared_error', optimizer='adam')    # compile() 함수를 이용하여 모델을 컴파일합니다\n",
        "                                                             # loss는 손실 함수를 의미한다.\n",
        "                                                             # mean_squared_error(MSE) 는 전체 에러를 표현하기 위해서 사용하는 식이고 오차의 제곱에 대해 평균을 취한 것이다.(수치가 작을 수록 원본과의 오차가 적은 것이다)\n",
        "                                                             # optimizer는  최적화 알고리즘을 정의하는 부분이다. adam(아담) 은 모멘텀+ AdaGrad(아다그라드) 을 합친 것이다\n",
        "\n",
        "# 완전 연결 레이어 : 한 레이어의 모든 뉴런이 그 다음 레이어의 모든 뉴런과 연결된 상태이다.\n",
        "\n",
        "# 모멘텀 : 기울기 방향으로 힘을 받아 물체가 가속된다는 물리법칙을 적용한것이다.\n",
        "# AdaGrad : 학습을 진행하면서 학습률을 점차 줄여가는 방법이다."
      ],
      "metadata": {
        "id": "c_JK1ImZVabV"
      },
      "execution_count": null,
      "outputs": []
    },
    {
      "cell_type": "code",
      "source": [
        "model_c"
      ],
      "metadata": {
        "colab": {
          "base_uri": "https://localhost:8080/"
        },
        "id": "wGy9Fhh0PdIF",
        "outputId": "f48f7520-0d95-4b32-ced7-a51bae5fbe3a"
      },
      "execution_count": null,
      "outputs": [
        {
          "output_type": "execute_result",
          "data": {
            "text/plain": [
              "<keras.engine.sequential.Sequential at 0x7f26c3b97700>"
            ]
          },
          "metadata": {},
          "execution_count": 86
        }
      ]
    },
    {
      "cell_type": "code",
      "source": [
        "# 모델 학습\n",
        "model_c.fit(x_train_c, y_train_c, epochs=100, batch_size=64, verbose=2)\n",
        "\n",
        "# x_train_c : 학습데이터의 입력값   , y_train_c : 학습데이터의 출력값이다.\n",
        "\n",
        "# 에포크 : 훈련 데이터셋에 포함된 모든 데이터들이 한 번씩 모델을 통과한 횟수 또는 전체 학습 데이터셋에 대한 반복 횟수이다\n",
        "# 에포크가 높을수록 더 많은 반복 학습을 수행하게 되므로 모델이 더 많은 학습을 하게 되어 일반적으로 더 좋은 성능을 낼 수 있습니다\n",
        "\n",
        "# batch_size(배치크기) : 학습을 수행할 때, 몇 개의 데이터를 한 번에 처리할지를 지정한다, 일반적으로 32,64, 128 숫자를 사용한다\n",
        "\n",
        "# verbose : 학습 과정 중 출력되는 문구를 설정합니다. 0일 경우 출력하지 않으며, 1일 경우 학습 진행 상황을 출력하고, 2일 경우 학습 결과만 출력한다"
      ],
      "metadata": {
        "colab": {
          "base_uri": "https://localhost:8080/"
        },
        "id": "98_W79UlVc4d",
        "outputId": "3122d101-f34a-4fa4-c286-ce9fe4dc60cf"
      },
      "execution_count": null,
      "outputs": [
        {
          "output_type": "stream",
          "name": "stdout",
          "text": [
            "Epoch 1/100\n",
            "18/18 - 3s - loss: 0.0245 - 3s/epoch - 164ms/step\n",
            "Epoch 2/100\n",
            "18/18 - 1s - loss: 0.0090 - 593ms/epoch - 33ms/step\n",
            "Epoch 3/100\n",
            "18/18 - 1s - loss: 0.0013 - 930ms/epoch - 52ms/step\n",
            "Epoch 4/100\n",
            "18/18 - 1s - loss: 4.1631e-04 - 997ms/epoch - 55ms/step\n",
            "Epoch 5/100\n",
            "18/18 - 1s - loss: 2.7425e-04 - 654ms/epoch - 36ms/step\n",
            "Epoch 6/100\n",
            "18/18 - 1s - loss: 2.4924e-04 - 626ms/epoch - 35ms/step\n",
            "Epoch 7/100\n",
            "18/18 - 1s - loss: 2.3733e-04 - 593ms/epoch - 33ms/step\n",
            "Epoch 8/100\n",
            "18/18 - 1s - loss: 2.3584e-04 - 589ms/epoch - 33ms/step\n",
            "Epoch 9/100\n",
            "18/18 - 1s - loss: 2.2441e-04 - 618ms/epoch - 34ms/step\n",
            "Epoch 10/100\n",
            "18/18 - 1s - loss: 2.2055e-04 - 605ms/epoch - 34ms/step\n",
            "Epoch 11/100\n",
            "18/18 - 1s - loss: 2.1621e-04 - 609ms/epoch - 34ms/step\n",
            "Epoch 12/100\n",
            "18/18 - 1s - loss: 2.1559e-04 - 612ms/epoch - 34ms/step\n",
            "Epoch 13/100\n",
            "18/18 - 1s - loss: 2.1003e-04 - 590ms/epoch - 33ms/step\n",
            "Epoch 14/100\n",
            "18/18 - 1s - loss: 2.0727e-04 - 633ms/epoch - 35ms/step\n",
            "Epoch 15/100\n",
            "18/18 - 1s - loss: 2.0968e-04 - 587ms/epoch - 33ms/step\n",
            "Epoch 16/100\n",
            "18/18 - 1s - loss: 1.9577e-04 - 609ms/epoch - 34ms/step\n",
            "Epoch 17/100\n",
            "18/18 - 1s - loss: 1.9393e-04 - 593ms/epoch - 33ms/step\n",
            "Epoch 18/100\n",
            "18/18 - 1s - loss: 1.8920e-04 - 595ms/epoch - 33ms/step\n",
            "Epoch 19/100\n",
            "18/18 - 1s - loss: 1.8597e-04 - 626ms/epoch - 35ms/step\n",
            "Epoch 20/100\n",
            "18/18 - 1s - loss: 1.8084e-04 - 620ms/epoch - 34ms/step\n",
            "Epoch 21/100\n",
            "18/18 - 1s - loss: 1.8374e-04 - 761ms/epoch - 42ms/step\n",
            "Epoch 22/100\n",
            "18/18 - 1s - loss: 1.7771e-04 - 1s/epoch - 56ms/step\n",
            "Epoch 23/100\n",
            "18/18 - 1s - loss: 1.7749e-04 - 773ms/epoch - 43ms/step\n",
            "Epoch 24/100\n",
            "18/18 - 1s - loss: 1.8189e-04 - 580ms/epoch - 32ms/step\n",
            "Epoch 25/100\n",
            "18/18 - 1s - loss: 1.7047e-04 - 612ms/epoch - 34ms/step\n",
            "Epoch 26/100\n",
            "18/18 - 1s - loss: 1.7197e-04 - 622ms/epoch - 35ms/step\n",
            "Epoch 27/100\n",
            "18/18 - 1s - loss: 1.6612e-04 - 582ms/epoch - 32ms/step\n",
            "Epoch 28/100\n",
            "18/18 - 1s - loss: 1.6005e-04 - 636ms/epoch - 35ms/step\n",
            "Epoch 29/100\n",
            "18/18 - 1s - loss: 1.5894e-04 - 579ms/epoch - 32ms/step\n",
            "Epoch 30/100\n",
            "18/18 - 1s - loss: 1.6053e-04 - 592ms/epoch - 33ms/step\n",
            "Epoch 31/100\n",
            "18/18 - 1s - loss: 1.5514e-04 - 587ms/epoch - 33ms/step\n",
            "Epoch 32/100\n",
            "18/18 - 1s - loss: 1.5529e-04 - 612ms/epoch - 34ms/step\n",
            "Epoch 33/100\n",
            "18/18 - 1s - loss: 1.5333e-04 - 644ms/epoch - 36ms/step\n",
            "Epoch 34/100\n",
            "18/18 - 1s - loss: 1.5271e-04 - 594ms/epoch - 33ms/step\n",
            "Epoch 35/100\n",
            "18/18 - 1s - loss: 1.6047e-04 - 611ms/epoch - 34ms/step\n",
            "Epoch 36/100\n",
            "18/18 - 1s - loss: 1.6468e-04 - 598ms/epoch - 33ms/step\n",
            "Epoch 37/100\n",
            "18/18 - 1s - loss: 1.5374e-04 - 605ms/epoch - 34ms/step\n",
            "Epoch 38/100\n",
            "18/18 - 1s - loss: 1.5047e-04 - 606ms/epoch - 34ms/step\n",
            "Epoch 39/100\n",
            "18/18 - 1s - loss: 1.3911e-04 - 630ms/epoch - 35ms/step\n",
            "Epoch 40/100\n",
            "18/18 - 1s - loss: 1.4451e-04 - 1s/epoch - 57ms/step\n",
            "Epoch 41/100\n",
            "18/18 - 1s - loss: 1.3929e-04 - 927ms/epoch - 52ms/step\n",
            "Epoch 42/100\n",
            "18/18 - 1s - loss: 1.3679e-04 - 630ms/epoch - 35ms/step\n",
            "Epoch 43/100\n",
            "18/18 - 1s - loss: 1.4625e-04 - 620ms/epoch - 34ms/step\n",
            "Epoch 44/100\n",
            "18/18 - 1s - loss: 1.3824e-04 - 590ms/epoch - 33ms/step\n",
            "Epoch 45/100\n",
            "18/18 - 1s - loss: 1.4076e-04 - 625ms/epoch - 35ms/step\n",
            "Epoch 46/100\n",
            "18/18 - 1s - loss: 1.5111e-04 - 594ms/epoch - 33ms/step\n",
            "Epoch 47/100\n",
            "18/18 - 1s - loss: 1.4290e-04 - 618ms/epoch - 34ms/step\n",
            "Epoch 48/100\n",
            "18/18 - 1s - loss: 1.3572e-04 - 618ms/epoch - 34ms/step\n",
            "Epoch 49/100\n",
            "18/18 - 1s - loss: 1.3465e-04 - 604ms/epoch - 34ms/step\n",
            "Epoch 50/100\n",
            "18/18 - 1s - loss: 1.3098e-04 - 619ms/epoch - 34ms/step\n",
            "Epoch 51/100\n",
            "18/18 - 1s - loss: 1.3830e-04 - 591ms/epoch - 33ms/step\n",
            "Epoch 52/100\n",
            "18/18 - 1s - loss: 1.4556e-04 - 610ms/epoch - 34ms/step\n",
            "Epoch 53/100\n",
            "18/18 - 1s - loss: 1.2984e-04 - 585ms/epoch - 33ms/step\n",
            "Epoch 54/100\n",
            "18/18 - 1s - loss: 1.3707e-04 - 614ms/epoch - 34ms/step\n",
            "Epoch 55/100\n",
            "18/18 - 1s - loss: 1.2838e-04 - 615ms/epoch - 34ms/step\n",
            "Epoch 56/100\n",
            "18/18 - 1s - loss: 1.1921e-04 - 622ms/epoch - 35ms/step\n",
            "Epoch 57/100\n",
            "18/18 - 1s - loss: 1.2859e-04 - 634ms/epoch - 35ms/step\n",
            "Epoch 58/100\n",
            "18/18 - 1s - loss: 1.1911e-04 - 987ms/epoch - 55ms/step\n",
            "Epoch 59/100\n",
            "18/18 - 1s - loss: 1.3789e-04 - 987ms/epoch - 55ms/step\n",
            "Epoch 60/100\n",
            "18/18 - 1s - loss: 1.3064e-04 - 596ms/epoch - 33ms/step\n",
            "Epoch 61/100\n",
            "18/18 - 1s - loss: 1.2143e-04 - 621ms/epoch - 35ms/step\n",
            "Epoch 62/100\n",
            "18/18 - 1s - loss: 1.1751e-04 - 625ms/epoch - 35ms/step\n",
            "Epoch 63/100\n",
            "18/18 - 1s - loss: 1.1960e-04 - 644ms/epoch - 36ms/step\n",
            "Epoch 64/100\n",
            "18/18 - 1s - loss: 1.1897e-04 - 599ms/epoch - 33ms/step\n",
            "Epoch 65/100\n",
            "18/18 - 1s - loss: 1.2712e-04 - 599ms/epoch - 33ms/step\n",
            "Epoch 66/100\n",
            "18/18 - 1s - loss: 1.4012e-04 - 594ms/epoch - 33ms/step\n",
            "Epoch 67/100\n",
            "18/18 - 1s - loss: 1.1486e-04 - 579ms/epoch - 32ms/step\n",
            "Epoch 68/100\n",
            "18/18 - 1s - loss: 1.1258e-04 - 631ms/epoch - 35ms/step\n",
            "Epoch 69/100\n",
            "18/18 - 1s - loss: 1.1144e-04 - 609ms/epoch - 34ms/step\n",
            "Epoch 70/100\n",
            "18/18 - 1s - loss: 1.1574e-04 - 583ms/epoch - 32ms/step\n",
            "Epoch 71/100\n",
            "18/18 - 1s - loss: 1.1903e-04 - 595ms/epoch - 33ms/step\n",
            "Epoch 72/100\n",
            "18/18 - 1s - loss: 1.2283e-04 - 575ms/epoch - 32ms/step\n",
            "Epoch 73/100\n",
            "18/18 - 1s - loss: 1.1221e-04 - 610ms/epoch - 34ms/step\n",
            "Epoch 74/100\n",
            "18/18 - 1s - loss: 1.0868e-04 - 611ms/epoch - 34ms/step\n",
            "Epoch 75/100\n",
            "18/18 - 1s - loss: 1.1939e-04 - 595ms/epoch - 33ms/step\n",
            "Epoch 76/100\n",
            "18/18 - 1s - loss: 1.1962e-04 - 827ms/epoch - 46ms/step\n",
            "Epoch 77/100\n",
            "18/18 - 1s - loss: 1.0918e-04 - 999ms/epoch - 55ms/step\n",
            "Epoch 78/100\n",
            "18/18 - 1s - loss: 1.1384e-04 - 821ms/epoch - 46ms/step\n",
            "Epoch 79/100\n",
            "18/18 - 1s - loss: 1.0848e-04 - 610ms/epoch - 34ms/step\n",
            "Epoch 80/100\n",
            "18/18 - 1s - loss: 1.0678e-04 - 632ms/epoch - 35ms/step\n",
            "Epoch 81/100\n",
            "18/18 - 1s - loss: 1.1282e-04 - 608ms/epoch - 34ms/step\n",
            "Epoch 82/100\n",
            "18/18 - 1s - loss: 1.1024e-04 - 591ms/epoch - 33ms/step\n",
            "Epoch 83/100\n",
            "18/18 - 1s - loss: 1.1384e-04 - 600ms/epoch - 33ms/step\n",
            "Epoch 84/100\n",
            "18/18 - 1s - loss: 1.1429e-04 - 603ms/epoch - 33ms/step\n",
            "Epoch 85/100\n",
            "18/18 - 1s - loss: 1.0718e-04 - 595ms/epoch - 33ms/step\n",
            "Epoch 86/100\n",
            "18/18 - 1s - loss: 1.0292e-04 - 600ms/epoch - 33ms/step\n",
            "Epoch 87/100\n",
            "18/18 - 1s - loss: 1.0236e-04 - 595ms/epoch - 33ms/step\n",
            "Epoch 88/100\n",
            "18/18 - 1s - loss: 1.0334e-04 - 601ms/epoch - 33ms/step\n",
            "Epoch 89/100\n",
            "18/18 - 1s - loss: 1.0045e-04 - 588ms/epoch - 33ms/step\n",
            "Epoch 90/100\n",
            "18/18 - 1s - loss: 1.0946e-04 - 613ms/epoch - 34ms/step\n",
            "Epoch 91/100\n",
            "18/18 - 1s - loss: 1.0257e-04 - 602ms/epoch - 33ms/step\n",
            "Epoch 92/100\n",
            "18/18 - 1s - loss: 1.0140e-04 - 632ms/epoch - 35ms/step\n",
            "Epoch 93/100\n",
            "18/18 - 1s - loss: 1.0011e-04 - 641ms/epoch - 36ms/step\n",
            "Epoch 94/100\n",
            "18/18 - 1s - loss: 1.0396e-04 - 718ms/epoch - 40ms/step\n",
            "Epoch 95/100\n",
            "18/18 - 1s - loss: 1.0079e-04 - 1s/epoch - 58ms/step\n",
            "Epoch 96/100\n",
            "18/18 - 1s - loss: 1.0667e-04 - 995ms/epoch - 55ms/step\n",
            "Epoch 97/100\n",
            "18/18 - 1s - loss: 1.0247e-04 - 626ms/epoch - 35ms/step\n",
            "Epoch 98/100\n",
            "18/18 - 1s - loss: 9.9784e-05 - 645ms/epoch - 36ms/step\n",
            "Epoch 99/100\n",
            "18/18 - 1s - loss: 9.7804e-05 - 631ms/epoch - 35ms/step\n",
            "Epoch 100/100\n",
            "18/18 - 1s - loss: 9.8635e-05 - 642ms/epoch - 36ms/step\n"
          ]
        },
        {
          "output_type": "execute_result",
          "data": {
            "text/plain": [
              "<keras.callbacks.History at 0x7f26c3a1b0d0>"
            ]
          },
          "metadata": {},
          "execution_count": 19
        }
      ]
    },
    {
      "cell_type": "code",
      "source": [
        "# 예측\n",
        "train_predict_c = model_c.predict(x_train_c)\n",
        "test_predict_c = model_c.predict(x_test_c)\n",
        "\n",
        "# model.predict(x_train_c) 은 학습된 모델을 이용하여 train 데이터에 대한 예측값을 계산한다\n",
        "# mode.predict(x_test_c) 은 학습된 모델을 이용하여 test 데이터에 대한 예측값을 계산한다.\n"
      ],
      "metadata": {
        "colab": {
          "base_uri": "https://localhost:8080/"
        },
        "id": "dPg3-ZO9VeqG",
        "outputId": "e3683489-d76a-4f13-edb0-1124d19a94c7"
      },
      "execution_count": null,
      "outputs": [
        {
          "output_type": "stream",
          "name": "stdout",
          "text": [
            "35/35 [==============================] - 1s 9ms/step\n",
            "8/8 [==============================] - 0s 8ms/step\n"
          ]
        }
      ]
    },
    {
      "cell_type": "code",
      "source": [
        "import datetime\n",
        "from datetime import datetime\n",
        "\n",
        "# 예측 결과 시각화\n",
        "train_predict_c = scaler_c.inverse_transform(train_predict_c)\n",
        "test_predict_c = scaler_c.inverse_transform(test_predict_c)\n",
        "\n",
        "# train_predict와 test_predict 배열에 NaN 값이 포함되어 있는지 확인하기 위해  np.isnan() 함수를 사용\n",
        "# 만약 NaN 값이 있다면, 이를 np.ma.array() 함수를 사용하여 NaN 값을 마스킹한 배열을 생성한다.\n",
        "# np.ma.array()에서는 평균값을 구할수있다.(조건이 참일때 평균값을 구해서 NaN값으로 대체한다)\n",
        "\n",
        "# train_predict와 test_predict 배열의 값을 scaler.inverse_transform() 함수를 사용하여 스케일링된 값을 원래의 값으로 복원합니다.\n",
        "\n",
        "plt.figure(figsize=(10, 5))\n",
        "\n",
        "# 2021년 1월 1일에 빨간색 세로축을 추가합니다.\n",
        "target_date = datetime(2021, 1, 1)\n",
        "plt.axvline(x=target_date, color='red', linestyle='--')\n",
        "\n",
        "plt.plot(df_c[look_back_c:len(train_data_c)].index, df_c[look_back_c:len(train_data_c)].values, label='Actual Train Price')\n",
        "plt.plot(df_c[len(train_data_c)+look_back_c:].index, df_c[len(train_data_c)+look_back_c:].values, label='Actual Test Price')\n",
        "plt.plot(df_c[look_back_c:len(train_data_c)].index, train_predict_c, label='Predicted Train Price')\n",
        "plt.plot(df_c[len(train_data_c)+look_back_c:].index, test_predict_c, label='Predicted Test Price')\n",
        "plt.xlabel('Date')\n",
        "plt.ylabel('Price')\n",
        "plt.title('Bitcoin price prediction for 2022')\n",
        "plt.legend()\n",
        "plt.show()"
      ],
      "metadata": {
        "colab": {
          "base_uri": "https://localhost:8080/",
          "height": 487
        },
        "id": "o1JCjgtSAb1P",
        "outputId": "283082ac-b457-4cf1-cda8-736e7bb925e6"
      },
      "execution_count": null,
      "outputs": [
        {
          "output_type": "display_data",
          "data": {
            "text/plain": [
              "<Figure size 1000x500 with 1 Axes>"
            ],
            "image/png": "[encoded data removed]"
          },
          "metadata": {}
        }
      ]
    },
    {
      "cell_type": "code",
      "source": [
        "# train 및 test 데이터에 대한 예측값 생성\n",
        "train_predict_c = model_c.predict(x_train_c)\n",
        "test_predict_c = model_c.predict(x_test_c)\n",
        "\n",
        "# 스케일링 된 값을 다시 원래 값으로 변환\n",
        "train_predict_c = scaler_c.inverse_transform(train_predict_c)  #inverse_transform() 함수를 이용해 원본값으로 복원가능하다\n",
        "y_train_c = scaler_c.inverse_transform([y_train_c])\n",
        "test_predict_c = scaler_c.inverse_transform(test_predict_c)\n",
        "y_test_c = scaler_c.inverse_transform([y_test_c])\n",
        "\n",
        "\n",
        "train_r2_score_c = r2_score(y_train_c[0], train_predict_c[:,0])\n",
        "test_r2_score_c = r2_score(y_test_c[0], test_predict_c[:,0])\n",
        "\n",
        "\n",
        "# 결과 출력\n",
        "print(\"Train R2 Score_c : \", train_r2_score_c) # train 데이터의 정확도를 알려준다\n",
        "print(\"Test R2 Score_c : \", test_r2_score_c)   # test 데이터의 정확도를 알려준다"
      ],
      "metadata": {
        "colab": {
          "base_uri": "https://localhost:8080/"
        },
        "id": "zEi0jFQxCEut",
        "outputId": "6df2dcc7-280a-41a8-f2b8-16457feff85f"
      },
      "execution_count": null,
      "outputs": [
        {
          "output_type": "stream",
          "name": "stdout",
          "text": [
            "35/35 [==============================] - 0s 9ms/step\n",
            "8/8 [==============================] - 0s 9ms/step\n",
            "Train R2 Score_c :  0.9946859835187558\n",
            "Test R2 Score_c :  0.9654137780595117\n"
          ]
        }
      ]
    },
    {
      "cell_type": "code",
      "source": [
        "model_c.predict([[2021]])  # 2024년 예측값이다."
      ],
      "metadata": {
        "id": "Rn26o4pHWNfP",
        "colab": {
          "base_uri": "https://localhost:8080/"
        },
        "outputId": "cd65e7d7-9499-40f1-882a-f83884c6cfa1"
      },
      "execution_count": null,
      "outputs": [
        {
          "output_type": "stream",
          "name": "stdout",
          "text": [
            "1/1 [==============================] - 0s 409ms/step\n"
          ]
        },
        {
          "output_type": "execute_result",
          "data": {
            "text/plain": [
              "array([[5.115591]], dtype=float32)"
            ]
          },
          "metadata": {},
          "execution_count": 25
        }
      ]
    },
    {
      "cell_type": "markdown",
      "source": [
        "# 3. 2019년부터 2021년데이터를 학습한후 2022년 예측하기"
      ],
      "metadata": {
        "id": "x1Bgzm4LWQLe"
      }
    },
    {
      "cell_type": "code",
      "source": [
        "!pip install finance-datareader # FinanceDataReader에서 데이터를 불러오기 위해 FinanceDataReader를 설치하는 과정"
      ],
      "metadata": {
        "id": "WBS1tFk3WU45"
      },
      "execution_count": null,
      "outputs": []
    },
    {
      "cell_type": "code",
      "source": [
        "pip install datetime"
      ],
      "metadata": {
        "id": "H6ItPBeGQzCF"
      },
      "execution_count": null,
      "outputs": []
    },
    {
      "cell_type": "code",
      "source": [
        "import pandas as pd\n",
        "import numpy as np\n",
        "import FinanceDataReader as fdr\n",
        "import matplotlib.pyplot as plt\n",
        "from sklearn.preprocessing import MinMaxScaler\n",
        "from tensorflow.keras.models import Sequential\n",
        "from tensorflow.keras.layers import Dense, GRU\n",
        "from sklearn.metrics import r2_score\n",
        "\n",
        "# 데이터 불러오기\n",
        "start_date_d = \"2019-01-01\"\n",
        "end_date_d = \"2022-12-31\"\n",
        "ticker_d = \"BTC/KRW\"\n",
        "data_d= fdr.DataReader(ticker_d,start_date_d, end_date_d)\n",
        "df_d = pd.DataFrame(fdr.DataReader(ticker_d, start_date_d, end_date_d)['Close'])"
      ],
      "metadata": {
        "id": "_rbV1c49WWsi"
      },
      "execution_count": null,
      "outputs": []
    },
    {
      "cell_type": "code",
      "source": [
        "df_data_d = fdr.DataReader(ticker_d, start_date_d, end_date_d)\n",
        "df_data_d.head()"
      ],
      "metadata": {
        "colab": {
          "base_uri": "https://localhost:8080/",
          "height": 238
        },
        "id": "S9l4MhzhPrVU",
        "outputId": "1bcfd621-2a33-45c1-bcdf-6bbfa4260569"
      },
      "execution_count": null,
      "outputs": [
        {
          "output_type": "execute_result",
          "data": {
            "text/plain": [
              "                  Open       High        Low      Close  Adj Close  \\\n",
              "Date                                                                 \n",
              "2019-01-01  4171964.75  4290765.0  4133847.0  4284795.0  4284795.0   \n",
              "2019-01-02  4291491.50  4432793.5  4271306.5  4428835.0  4428835.0   \n",
              "2019-01-03  4415052.00  4431168.0  4308021.0  4316672.0  4316672.0   \n",
              "2019-01-04  4311528.00  4318403.5  4249898.5  4308451.5  4308451.5   \n",
              "2019-01-05  4302037.00  4361150.5  4285202.0  4294465.5  4294465.5   \n",
              "\n",
              "                   Volume  \n",
              "Date                       \n",
              "2019-01-01  4820662946950  \n",
              "2019-01-02  5890487949740  \n",
              "2019-01-03  5096891156140  \n",
              "2019-01-04  5414399614310  \n",
              "2019-01-05  5737885889880  "
            ],
            "text/html": [
              "\n",
              "  <div id=\"df-33d1eac0-7abf-4a2e-a067-9fab8049b786\">\n",
              "    <div class=\"colab-df-container\">\n",
              "      <div>\n",
              "<style scoped>\n",
              "    .dataframe tbody tr th:only-of-type {\n",
              "        vertical-align: middle;\n",
              "    }\n",
              "\n",
              "    .dataframe tbody tr th {\n",
              "        vertical-align: top;\n",
              "    }\n",
              "\n",
              "    .dataframe thead th {\n",
              "        text-align: right;\n",
              "    }\n",
              "</style>\n",
              "<table border=\"1\" class=\"dataframe\">\n",
              "  <thead>\n",
              "    <tr style=\"text-align: right;\">\n",
              "      <th></th>\n",
              "      <th>Open</th>\n",
              "      <th>High</th>\n",
              "      <th>Low</th>\n",
              "      <th>Close</th>\n",
              "      <th>Adj Close</th>\n",
              "      <th>Volume</th>\n",
              "    </tr>\n",
              "    <tr>\n",
              "      <th>Date</th>\n",
              "      <th></th>\n",
              "      <th></th>\n",
              "      <th></th>\n",
              "      <th></th>\n",
              "      <th></th>\n",
              "      <th></th>\n",
              "    </tr>\n",
              "  </thead>\n",
              "  <tbody>\n",
              "    <tr>\n",
              "      <th>2019-01-01</th>\n",
              "      <td>4171964.75</td>\n",
              "      <td>4290765.0</td>\n",
              "      <td>4133847.0</td>\n",
              "      <td>4284795.0</td>\n",
              "      <td>4284795.0</td>\n",
              "      <td>4820662946950</td>\n",
              "    </tr>\n",
              "    <tr>\n",
              "      <th>2019-01-02</th>\n",
              "      <td>4291491.50</td>\n",
              "      <td>4432793.5</td>\n",
              "      <td>4271306.5</td>\n",
              "      <td>4428835.0</td>\n",
              "      <td>4428835.0</td>\n",
              "      <td>5890487949740</td>\n",
              "    </tr>\n",
              "    <tr>\n",
              "      <th>2019-01-03</th>\n",
              "      <td>4415052.00</td>\n",
              "      <td>4431168.0</td>\n",
              "      <td>4308021.0</td>\n",
              "      <td>4316672.0</td>\n",
              "      <td>4316672.0</td>\n",
              "      <td>5096891156140</td>\n",
              "    </tr>\n",
              "    <tr>\n",
              "      <th>2019-01-04</th>\n",
              "      <td>4311528.00</td>\n",
              "      <td>4318403.5</td>\n",
              "      <td>4249898.5</td>\n",
              "      <td>4308451.5</td>\n",
              "      <td>4308451.5</td>\n",
              "      <td>5414399614310</td>\n",
              "    </tr>\n",
              "    <tr>\n",
              "      <th>2019-01-05</th>\n",
              "      <td>4302037.00</td>\n",
              "      <td>4361150.5</td>\n",
              "      <td>4285202.0</td>\n",
              "      <td>4294465.5</td>\n",
              "      <td>4294465.5</td>\n",
              "      <td>5737885889880</td>\n",
              "    </tr>\n",
              "  </tbody>\n",
              "</table>\n",
              "</div>\n",
              "      <button class=\"colab-df-convert\" onclick=\"convertToInteractive('df-33d1eac0-7abf-4a2e-a067-9fab8049b786')\"\n",
              "              title=\"Convert this dataframe to an interactive table.\"\n",
              "              style=\"display:none;\">\n",
              "        \n",
              "  <svg xmlns=\"http://www.w3.org/2000/svg\" height=\"24px\"viewBox=\"0 0 24 24\"\n",
              "       width=\"24px\">\n",
              "    <path d=\"M0 0h24v24H0V0z\" fill=\"none\"/>\n",
              "    <path d=\"M18.56 5.44l.94 2.06.94-2.06 2.06-.94-2.06-.94-.94-2.06-.94 2.06-2.06.94zm-11 1L8.5 8.5l.94-2.06 2.06-.94-2.06-.94L8.5 2.5l-.94 2.06-2.06.94zm10 10l.94 2.06.94-2.06 2.06-.94-2.06-.94-.94-2.06-.94 2.06-2.06.94z\"/><path d=\"M17.41 7.96l-1.37-1.37c-.4-.4-.92-.59-1.43-.59-.52 0-1.04.2-1.43.59L10.3 9.45l-7.72 7.72c-.78.78-.78 2.05 0 2.83L4 21.41c.39.39.9.59 1.41.59.51 0 1.02-.2 1.41-.59l7.78-7.78 2.81-2.81c.8-.78.8-2.07 0-2.86zM5.41 20L4 18.59l7.72-7.72 1.47 1.35L5.41 20z\"/>\n",
              "  </svg>\n",
              "      </button>\n",
              "      \n",
              "  <style>\n",
              "    .colab-df-container {\n",
              "      display:flex;\n",
              "      flex-wrap:wrap;\n",
              "      gap: 12px;\n",
              "    }\n",
              "\n",
              "    .colab-df-convert {\n",
              "      background-color: #E8F0FE;\n",
              "      border: none;\n",
              "      border-radius: 50%;\n",
              "      cursor: pointer;\n",
              "      display: none;\n",
              "      fill: #1967D2;\n",
              "      height: 32px;\n",
              "      padding: 0 0 0 0;\n",
              "      width: 32px;\n",
              "    }\n",
              "\n",
              "    .colab-df-convert:hover {\n",
              "      background-color: #E2EBFA;\n",
              "      box-shadow: 0px 1px 2px rgba(60, 64, 67, 0.3), 0px 1px 3px 1px rgba(60, 64, 67, 0.15);\n",
              "      fill: #174EA6;\n",
              "    }\n",
              "\n",
              "    [theme=dark] .colab-df-convert {\n",
              "      background-color: #3B4455;\n",
              "      fill: #D2E3FC;\n",
              "    }\n",
              "\n",
              "    [theme=dark] .colab-df-convert:hover {\n",
              "      background-color: #434B5C;\n",
              "      box-shadow: 0px 1px 3px 1px rgba(0, 0, 0, 0.15);\n",
              "      filter: drop-shadow(0px 1px 2px rgba(0, 0, 0, 0.3));\n",
              "      fill: #FFFFFF;\n",
              "    }\n",
              "  </style>\n",
              "\n",
              "      <script>\n",
              "        const buttonEl =\n",
              "          document.querySelector('#df-33d1eac0-7abf-4a2e-a067-9fab8049b786 button.colab-df-convert');\n",
              "        buttonEl.style.display =\n",
              "          google.colab.kernel.accessAllowed ? 'block' : 'none';\n",
              "\n",
              "        async function convertToInteractive(key) {\n",
              "          const element = document.querySelector('#df-33d1eac0-7abf-4a2e-a067-9fab8049b786');\n",
              "          const dataTable =\n",
              "            await google.colab.kernel.invokeFunction('convertToInteractive',\n",
              "                                                     [key], {});\n",
              "          if (!dataTable) return;\n",
              "\n",
              "          const docLinkHtml = 'Like what you see? Visit the ' +\n",
              "            '<a target=\"_blank\" href=https://colab.research.google.com/notebooks/data_table.ipynb>data table notebook</a>'\n",
              "            + ' to learn more about interactive tables.';\n",
              "          element.innerHTML = '';\n",
              "          dataTable['output_type'] = 'display_data';\n",
              "          await google.colab.output.renderOutput(dataTable, element);\n",
              "          const docLink = document.createElement('div');\n",
              "          docLink.innerHTML = docLinkHtml;\n",
              "          element.appendChild(docLink);\n",
              "        }\n",
              "      </script>\n",
              "    </div>\n",
              "  </div>\n",
              "  "
            ]
          },
          "metadata": {},
          "execution_count": 90
        }
      ]
    },
    {
      "cell_type": "code",
      "source": [
        "len(df_data_d)"
      ],
      "metadata": {
        "colab": {
          "base_uri": "https://localhost:8080/"
        },
        "id": "RdBaf-8mP15_",
        "outputId": "051d35ed-7089-4ebc-e8b5-f6a01167b92f"
      },
      "execution_count": null,
      "outputs": [
        {
          "output_type": "execute_result",
          "data": {
            "text/plain": [
              "1461"
            ]
          },
          "metadata": {},
          "execution_count": 91
        }
      ]
    },
    {
      "cell_type": "code",
      "source": [
        "# 데이터 전처리\n",
        "scaler_d = MinMaxScaler()\n",
        "scaled_data_d = scaler_d.fit_transform(df_d)\n",
        "\n",
        "# minmaxScaler는 스케일을 조정하는 정규화 함수로, 모든 데이터가 0과 1사이의 값을 갖도록 해주는 함수이다\n",
        "# 따라서 최댓값은 1로, 최솟값은 0으로 데이터의 범위를 조정해준다. 객체생성함"
      ],
      "metadata": {
        "id": "rUTgru7pWYu4"
      },
      "execution_count": null,
      "outputs": []
    },
    {
      "cell_type": "code",
      "source": [
        "scaler_d"
      ],
      "metadata": {
        "colab": {
          "base_uri": "https://localhost:8080/",
          "height": 75
        },
        "id": "2-7aQxv1P7V1",
        "outputId": "5b81bb64-e044-4bec-b3f0-b4a0881dec17"
      },
      "execution_count": null,
      "outputs": [
        {
          "output_type": "execute_result",
          "data": {
            "text/plain": [
              "MinMaxScaler()"
            ],
            "text/html": [
              "<style>#sk-container-id-3 {color: black;background-color: white;}#sk-container-id-3 pre{padding: 0;}#sk-container-id-3 div.sk-toggleable {background-color: white;}#sk-container-id-3 label.sk-toggleable__label {cursor: pointer;display: block;width: 100%;margin-bottom: 0;padding: 0.3em;box-sizing: border-box;text-align: center;}#sk-container-id-3 label.sk-toggleable__label-arrow:before {content: \"▸\";float: left;margin-right: 0.25em;color: #696969;}#sk-container-id-3 label.sk-toggleable__label-arrow:hover:before {color: black;}#sk-container-id-3 div.sk-estimator:hover label.sk-toggleable__label-arrow:before {color: black;}#sk-container-id-3 div.sk-toggleable__content {max-height: 0;max-width: 0;overflow: hidden;text-align: left;background-color: #f0f8ff;}#sk-container-id-3 div.sk-toggleable__content pre {margin: 0.2em;color: black;border-radius: 0.25em;background-color: #f0f8ff;}#sk-container-id-3 input.sk-toggleable__control:checked~div.sk-toggleable__content {max-height: 200px;max-width: 100%;overflow: auto;}#sk-container-id-3 input.sk-toggleable__control:checked~label.sk-toggleable__label-arrow:before {content: \"▾\";}#sk-container-id-3 div.sk-estimator input.sk-toggleable__control:checked~label.sk-toggleable__label {background-color: #d4ebff;}#sk-container-id-3 div.sk-label input.sk-toggleable__control:checked~label.sk-toggleable__label {background-color: #d4ebff;}#sk-container-id-3 input.sk-hidden--visually {border: 0;clip: rect(1px 1px 1px 1px);clip: rect(1px, 1px, 1px, 1px);height: 1px;margin: -1px;overflow: hidden;padding: 0;position: absolute;width: 1px;}#sk-container-id-3 div.sk-estimator {font-family: monospace;background-color: #f0f8ff;border: 1px dotted black;border-radius: 0.25em;box-sizing: border-box;margin-bottom: 0.5em;}#sk-container-id-3 div.sk-estimator:hover {background-color: #d4ebff;}#sk-container-id-3 div.sk-parallel-item::after {content: \"\";width: 100%;border-bottom: 1px solid gray;flex-grow: 1;}#sk-container-id-3 div.sk-label:hover label.sk-toggleable__label {background-color: #d4ebff;}#sk-container-id-3 div.sk-serial::before {content: \"\";position: absolute;border-left: 1px solid gray;box-sizing: border-box;top: 0;bottom: 0;left: 50%;z-index: 0;}#sk-container-id-3 div.sk-serial {display: flex;flex-direction: column;align-items: center;background-color: white;padding-right: 0.2em;padding-left: 0.2em;position: relative;}#sk-container-id-3 div.sk-item {position: relative;z-index: 1;}#sk-container-id-3 div.sk-parallel {display: flex;align-items: stretch;justify-content: center;background-color: white;position: relative;}#sk-container-id-3 div.sk-item::before, #sk-container-id-3 div.sk-parallel-item::before {content: \"\";position: absolute;border-left: 1px solid gray;box-sizing: border-box;top: 0;bottom: 0;left: 50%;z-index: -1;}#sk-container-id-3 div.sk-parallel-item {display: flex;flex-direction: column;z-index: 1;position: relative;background-color: white;}#sk-container-id-3 div.sk-parallel-item:first-child::after {align-self: flex-end;width: 50%;}#sk-container-id-3 div.sk-parallel-item:last-child::after {align-self: flex-start;width: 50%;}#sk-container-id-3 div.sk-parallel-item:only-child::after {width: 0;}#sk-container-id-3 div.sk-dashed-wrapped {border: 1px dashed gray;margin: 0 0.4em 0.5em 0.4em;box-sizing: border-box;padding-bottom: 0.4em;background-color: white;}#sk-container-id-3 div.sk-label label {font-family: monospace;font-weight: bold;display: inline-block;line-height: 1.2em;}#sk-container-id-3 div.sk-label-container {text-align: center;}#sk-container-id-3 div.sk-container {/* jupyter's `normalize.less` sets `[hidden] { display: none; }` but bootstrap.min.css set `[hidden] { display: none !important; }` so we also need the `!important` here to be able to override the default hidden behavior on the sphinx rendered scikit-learn.org. See: https://github.com/scikit-learn/scikit-learn/issues/21755 */display: inline-block !important;position: relative;}#sk-container-id-3 div.sk-text-repr-fallback {display: none;}</style><div id=\"sk-container-id-3\" class=\"sk-top-container\"><div class=\"sk-text-repr-fallback\"><pre>MinMaxScaler()</pre><b>In a Jupyter environment, please rerun this cell to show the HTML representation or trust the notebook. <br />On GitHub, the HTML representation is unable to render, please try loading this page with nbviewer.org.</b></div><div class=\"sk-container\" hidden><div class=\"sk-item\"><div class=\"sk-estimator sk-toggleable\"><input class=\"sk-toggleable__control sk-hidden--visually\" id=\"sk-estimator-id-3\" type=\"checkbox\" checked><label for=\"sk-estimator-id-3\" class=\"sk-toggleable__label sk-toggleable__label-arrow\">MinMaxScaler</label><div class=\"sk-toggleable__content\"><pre>MinMaxScaler()</pre></div></div></div></div></div>"
            ]
          },
          "metadata": {},
          "execution_count": 92
        }
      ]
    },
    {
      "cell_type": "code",
      "source": [
        "# train, test 데이터 생성\n",
        "train_size_d = int(len(scaled_data_d) * 0.8)\n",
        "train_data_d = scaled_data_d[:train_size_d]\n",
        "test_data_d = scaled_data_d[train_size_d:]\n",
        "\n",
        "def create_dataset_d(data_d, look_back=60):   # lock_back의 기본값은 60이다  , lock_back에다 데이터 갯수마큼 넣으면 모델학습할때 에러가 나서 기본값이 60을 집어넣었다\n",
        "                                             #look_back은 몇 개의 과거 데이터를 사용할 것인지를 표현하는 것이다\n",
        "    x_d, y_d = [], []    #  for문에서 얻은 모든 입력 데이터(x_d)와 출력 데이터(y_d)를 리스트에 추가한다\n",
        "    for i in range(len(data_d)-look_back):\n",
        "        x_d.append(data_d[i:(i+look_back), 0])   # i부터 (i+look_back)까지의 데이터를 하나의 입력 데이터 x_d 로 표현한다.\n",
        "        y_d.append(data_d[i+look_back, 0])      # i+look_back의 데이터를 출력 데이터 y_d 로 표현한다.\n",
        "    return np.array(x_d), np.array(y_d)       # 리스트를 numpy 배열로 변환하여 반환\n",
        "\n",
        "\n",
        "look_back = 60\n",
        "x_train_d, y_train_d = create_dataset_d(train_data_d, look_back)\n",
        "x_test_d, y_test_d = create_dataset_d(test_data_d, look_back)"
      ],
      "metadata": {
        "id": "uHLPLb9OWav5"
      },
      "execution_count": null,
      "outputs": []
    },
    {
      "cell_type": "code",
      "source": [
        "x_train_d"
      ],
      "metadata": {
        "colab": {
          "base_uri": "https://localhost:8080/"
        },
        "id": "s5VyalvXP81U",
        "outputId": "50adb0b7-ecb5-4bf8-b435-fd52efc91250"
      },
      "execution_count": null,
      "outputs": [
        {
          "output_type": "execute_result",
          "data": {
            "text/plain": [
              "array([[0.00596423, 0.00782726, 0.00637653, ..., 0.00618687, 0.00664541,\n",
              "        0.00683718],\n",
              "       [0.00782726, 0.00637653, 0.0062702 , ..., 0.00664541, 0.00683718,\n",
              "        0.00690765],\n",
              "       [0.00637653, 0.0062702 , 0.0060893 , ..., 0.00683718, 0.00690765,\n",
              "        0.00666332],\n",
              "       ...,\n",
              "       [0.59865281, 0.60804501, 0.62469167, ..., 0.56887489, 0.61480135,\n",
              "        0.57731183],\n",
              "       [0.60804501, 0.62469167, 0.60434885, ..., 0.61480135, 0.57731183,\n",
              "        0.57129838],\n",
              "       [0.62469167, 0.60434885, 0.61406374, ..., 0.57731183, 0.57129838,\n",
              "        0.5730431 ]])"
            ]
          },
          "metadata": {},
          "execution_count": 93
        }
      ]
    },
    {
      "cell_type": "code",
      "source": [
        "y_train_d"
      ],
      "metadata": {
        "colab": {
          "base_uri": "https://localhost:8080/"
        },
        "id": "in3S23ECP-v7",
        "outputId": "5ae93f52-fcc0-40ea-ad5e-ab21029a8643"
      },
      "execution_count": null,
      "outputs": [
        {
          "output_type": "execute_result",
          "data": {
            "text/plain": [
              "array([[ 4357735.5,  4338845. ,  4247287. , ..., 47993456. , 48128348. ,\n",
              "        46814516. ]])"
            ]
          },
          "metadata": {},
          "execution_count": 94
        }
      ]
    },
    {
      "cell_type": "code",
      "source": [
        "# 모델 생성\n",
        "model_d = Sequential()   # 모델의 객체생성\n",
        "model_d.add(GRU(50, input_shape=(look_back, 1))) #  50=레이어의 출력 차원, input_shape=입력 데이터의 형태를 정의를 의미한다.\n",
        "                                                  # lock_back=이전 데이터의 갯수만큼 비트코인 가격을 입력으로 받아들이고, 각각의 데이터가 1차원인 것을 의미합니다.\n",
        "\n",
        "model_d.add(Dense(1))   # Dense 는 완전 연결 레이어(층)를 의미한다. 1은 출력의 차원을 의미\n",
        "model_d.compile(loss='mean_squared_error', optimizer='adam') # compile() 함수를 이용하여 모델을 컴파일합니다\n",
        "                                                             # loss는 손실 함수를 의미한다.\n",
        "                                                             # mean_squared_error(MSE) 는 전체 에러를 표현하기 위해서 사용하는 식이고 오차의 제곱에 대해 평균을 취한 것이다.(수치가 작을 수록 원본과의 오차가 적은 것이다)\n",
        "                                                             # optimizer는  최적화 알고리즘을 정의하는 부분이다. adam(아담) 은 모멘텀+ AdaGrad(아다그라드) 을 합친 것이다\n",
        "\n",
        "# 완전 연결 레이어 : 한 레이어의 모든 뉴런이 그 다음 레이어의 모든 뉴런과 연결된 상태이다.\n",
        "# 모멘텀 : 기울기 방향으로 힘을 받아 물체가 가속된다는 물리법칙을 적용한것이다.\n",
        "# AdaGrad : 학습을 진행하면서 학습률을 점차 줄여가는 방법이다."
      ],
      "metadata": {
        "id": "4uODhxEoWc1K"
      },
      "execution_count": null,
      "outputs": []
    },
    {
      "cell_type": "code",
      "source": [
        "model_d"
      ],
      "metadata": {
        "colab": {
          "base_uri": "https://localhost:8080/"
        },
        "id": "7XinN1nKQBUK",
        "outputId": "b4507b96-5199-48aa-86f0-2ee120e74e25"
      },
      "execution_count": null,
      "outputs": [
        {
          "output_type": "execute_result",
          "data": {
            "text/plain": [
              "<keras.engine.sequential.Sequential at 0x7f26c252fbb0>"
            ]
          },
          "metadata": {},
          "execution_count": 95
        }
      ]
    },
    {
      "cell_type": "code",
      "source": [
        "# 모델 학습\n",
        "model_d.fit(x_train_d, y_train_d, epochs=100, batch_size=64, verbose=2)\n",
        "\n",
        "# x_train_d : 학습데이터의 입력값   , y_train_d: 학습데이터의 출력값이다.\n",
        "\n",
        "# 에포크 : 훈련 데이터셋에 포함된 모든 데이터들이 한 번씩 모델을 통과한 횟수 또는 전체 학습 데이터셋에 대한 반복 횟수이다\n",
        "# 에포크가 높을수록 더 많은 반복 학습을 수행하게 되므로 모델이 더 많은 학습을 하게 되어 일반적으로 더 좋은 성능을 낼 수 있습니다\n",
        "\n",
        "# batch_size(배치크기) : 학습을 수행할 때, 몇 개의 데이터를 한 번에 처리할지를 지정한다, 일반적으로 32,64, 128 숫자를 사용한다\n",
        "\n",
        "# verbose : 학습 과정 중 출력되는 문구를 설정합니다. 0일 경우 출력하지 않으며, 1일 경우 학습 진행 상황을 출력하고, 2일 경우 학습 결과만 출력한다"
      ],
      "metadata": {
        "id": "unWY0ytpWfDO",
        "colab": {
          "base_uri": "https://localhost:8080/"
        },
        "outputId": "b7b4d82f-970c-4230-857a-89536026b61f"
      },
      "execution_count": null,
      "outputs": [
        {
          "output_type": "stream",
          "name": "stdout",
          "text": [
            "Epoch 1/100\n",
            "18/18 - 1s - loss: 3.2982e-04 - 658ms/epoch - 37ms/step\n",
            "Epoch 2/100\n",
            "18/18 - 1s - loss: 3.4459e-04 - 646ms/epoch - 36ms/step\n",
            "Epoch 3/100\n",
            "18/18 - 1s - loss: 3.3469e-04 - 595ms/epoch - 33ms/step\n",
            "Epoch 4/100\n",
            "18/18 - 1s - loss: 3.3424e-04 - 605ms/epoch - 34ms/step\n",
            "Epoch 5/100\n",
            "18/18 - 1s - loss: 3.3674e-04 - 616ms/epoch - 34ms/step\n",
            "Epoch 6/100\n",
            "18/18 - 1s - loss: 3.3015e-04 - 654ms/epoch - 36ms/step\n",
            "Epoch 7/100\n",
            "18/18 - 1s - loss: 3.3063e-04 - 625ms/epoch - 35ms/step\n",
            "Epoch 8/100\n",
            "18/18 - 1s - loss: 3.3127e-04 - 604ms/epoch - 34ms/step\n",
            "Epoch 9/100\n",
            "18/18 - 1s - loss: 3.4544e-04 - 583ms/epoch - 32ms/step\n",
            "Epoch 10/100\n",
            "18/18 - 1s - loss: 3.6096e-04 - 596ms/epoch - 33ms/step\n",
            "Epoch 11/100\n",
            "18/18 - 1s - loss: 3.2939e-04 - 580ms/epoch - 32ms/step\n",
            "Epoch 12/100\n",
            "18/18 - 1s - loss: 3.5512e-04 - 920ms/epoch - 51ms/step\n",
            "Epoch 13/100\n",
            "18/18 - 1s - loss: 3.3370e-04 - 1s/epoch - 57ms/step\n",
            "Epoch 14/100\n",
            "18/18 - 1s - loss: 3.3033e-04 - 641ms/epoch - 36ms/step\n",
            "Epoch 15/100\n",
            "18/18 - 1s - loss: 3.4137e-04 - 601ms/epoch - 33ms/step\n",
            "Epoch 16/100\n",
            "18/18 - 1s - loss: 3.5043e-04 - 574ms/epoch - 32ms/step\n",
            "Epoch 17/100\n",
            "18/18 - 1s - loss: 3.5722e-04 - 595ms/epoch - 33ms/step\n",
            "Epoch 18/100\n",
            "18/18 - 1s - loss: 3.3524e-04 - 599ms/epoch - 33ms/step\n",
            "Epoch 19/100\n",
            "18/18 - 1s - loss: 3.4012e-04 - 605ms/epoch - 34ms/step\n",
            "Epoch 20/100\n",
            "18/18 - 1s - loss: 3.4742e-04 - 619ms/epoch - 34ms/step\n",
            "Epoch 21/100\n",
            "18/18 - 1s - loss: 3.7274e-04 - 591ms/epoch - 33ms/step\n",
            "Epoch 22/100\n",
            "18/18 - 1s - loss: 3.6326e-04 - 599ms/epoch - 33ms/step\n",
            "Epoch 23/100\n",
            "18/18 - 1s - loss: 3.2792e-04 - 583ms/epoch - 32ms/step\n",
            "Epoch 24/100\n",
            "18/18 - 1s - loss: 3.3107e-04 - 601ms/epoch - 33ms/step\n",
            "Epoch 25/100\n",
            "18/18 - 1s - loss: 3.2285e-04 - 584ms/epoch - 32ms/step\n",
            "Epoch 26/100\n",
            "18/18 - 1s - loss: 3.3267e-04 - 586ms/epoch - 33ms/step\n",
            "Epoch 27/100\n",
            "18/18 - 1s - loss: 3.4460e-04 - 633ms/epoch - 35ms/step\n",
            "Epoch 28/100\n",
            "18/18 - 1s - loss: 3.3691e-04 - 600ms/epoch - 33ms/step\n",
            "Epoch 29/100\n",
            "18/18 - 1s - loss: 3.4839e-04 - 608ms/epoch - 34ms/step\n",
            "Epoch 30/100\n",
            "18/18 - 1s - loss: 3.2185e-04 - 788ms/epoch - 44ms/step\n",
            "Epoch 31/100\n",
            "18/18 - 1s - loss: 3.2643e-04 - 991ms/epoch - 55ms/step\n",
            "Epoch 32/100\n",
            "18/18 - 1s - loss: 3.3251e-04 - 803ms/epoch - 45ms/step\n",
            "Epoch 33/100\n",
            "18/18 - 1s - loss: 3.2186e-04 - 603ms/epoch - 33ms/step\n",
            "Epoch 34/100\n",
            "18/18 - 1s - loss: 3.3041e-04 - 584ms/epoch - 32ms/step\n",
            "Epoch 35/100\n",
            "18/18 - 1s - loss: 3.1980e-04 - 584ms/epoch - 32ms/step\n",
            "Epoch 36/100\n",
            "18/18 - 1s - loss: 3.2328e-04 - 602ms/epoch - 33ms/step\n",
            "Epoch 37/100\n",
            "18/18 - 1s - loss: 3.5151e-04 - 631ms/epoch - 35ms/step\n",
            "Epoch 38/100\n",
            "18/18 - 1s - loss: 3.2606e-04 - 594ms/epoch - 33ms/step\n",
            "Epoch 39/100\n",
            "18/18 - 1s - loss: 3.1848e-04 - 593ms/epoch - 33ms/step\n",
            "Epoch 40/100\n",
            "18/18 - 1s - loss: 3.1887e-04 - 569ms/epoch - 32ms/step\n",
            "Epoch 41/100\n",
            "18/18 - 1s - loss: 3.1663e-04 - 602ms/epoch - 33ms/step\n",
            "Epoch 42/100\n",
            "18/18 - 1s - loss: 3.2547e-04 - 650ms/epoch - 36ms/step\n",
            "Epoch 43/100\n",
            "18/18 - 1s - loss: 3.2054e-04 - 607ms/epoch - 34ms/step\n",
            "Epoch 44/100\n",
            "18/18 - 1s - loss: 3.3772e-04 - 621ms/epoch - 35ms/step\n",
            "Epoch 45/100\n",
            "18/18 - 1s - loss: 3.2483e-04 - 596ms/epoch - 33ms/step\n",
            "Epoch 46/100\n",
            "18/18 - 1s - loss: 3.2273e-04 - 609ms/epoch - 34ms/step\n",
            "Epoch 47/100\n",
            "18/18 - 1s - loss: 3.1821e-04 - 598ms/epoch - 33ms/step\n",
            "Epoch 48/100\n",
            "18/18 - 1s - loss: 3.3274e-04 - 591ms/epoch - 33ms/step\n",
            "Epoch 49/100\n",
            "18/18 - 1s - loss: 3.2234e-04 - 1s/epoch - 60ms/step\n",
            "Epoch 50/100\n",
            "18/18 - 1s - loss: 3.2418e-04 - 965ms/epoch - 54ms/step\n",
            "Epoch 51/100\n",
            "18/18 - 1s - loss: 3.3652e-04 - 618ms/epoch - 34ms/step\n",
            "Epoch 52/100\n",
            "18/18 - 1s - loss: 3.2494e-04 - 633ms/epoch - 35ms/step\n",
            "Epoch 53/100\n",
            "18/18 - 1s - loss: 3.1593e-04 - 609ms/epoch - 34ms/step\n",
            "Epoch 54/100\n",
            "18/18 - 1s - loss: 3.1783e-04 - 623ms/epoch - 35ms/step\n",
            "Epoch 55/100\n",
            "18/18 - 1s - loss: 3.1998e-04 - 633ms/epoch - 35ms/step\n",
            "Epoch 56/100\n",
            "18/18 - 1s - loss: 3.1943e-04 - 613ms/epoch - 34ms/step\n",
            "Epoch 57/100\n",
            "18/18 - 1s - loss: 3.1782e-04 - 628ms/epoch - 35ms/step\n",
            "Epoch 58/100\n",
            "18/18 - 1s - loss: 3.1798e-04 - 621ms/epoch - 34ms/step\n",
            "Epoch 59/100\n",
            "18/18 - 1s - loss: 3.9193e-04 - 578ms/epoch - 32ms/step\n",
            "Epoch 60/100\n",
            "18/18 - 1s - loss: 3.9573e-04 - 596ms/epoch - 33ms/step\n",
            "Epoch 61/100\n",
            "18/18 - 1s - loss: 3.2951e-04 - 566ms/epoch - 31ms/step\n",
            "Epoch 62/100\n",
            "18/18 - 1s - loss: 3.1661e-04 - 599ms/epoch - 33ms/step\n",
            "Epoch 63/100\n",
            "18/18 - 1s - loss: 3.1945e-04 - 584ms/epoch - 32ms/step\n",
            "Epoch 64/100\n",
            "18/18 - 1s - loss: 3.2054e-04 - 578ms/epoch - 32ms/step\n",
            "Epoch 65/100\n",
            "18/18 - 1s - loss: 3.3314e-04 - 587ms/epoch - 33ms/step\n",
            "Epoch 66/100\n",
            "18/18 - 1s - loss: 3.1021e-04 - 586ms/epoch - 33ms/step\n",
            "Epoch 67/100\n",
            "18/18 - 1s - loss: 3.2352e-04 - 902ms/epoch - 50ms/step\n",
            "Epoch 68/100\n",
            "18/18 - 1s - loss: 3.1335e-04 - 1s/epoch - 56ms/step\n",
            "Epoch 69/100\n",
            "18/18 - 1s - loss: 3.2241e-04 - 699ms/epoch - 39ms/step\n",
            "Epoch 70/100\n",
            "18/18 - 1s - loss: 3.1374e-04 - 578ms/epoch - 32ms/step\n",
            "Epoch 71/100\n",
            "18/18 - 1s - loss: 3.1511e-04 - 600ms/epoch - 33ms/step\n",
            "Epoch 72/100\n",
            "18/18 - 1s - loss: 3.1859e-04 - 587ms/epoch - 33ms/step\n",
            "Epoch 73/100\n",
            "18/18 - 1s - loss: 3.1407e-04 - 597ms/epoch - 33ms/step\n",
            "Epoch 74/100\n",
            "18/18 - 1s - loss: 3.1454e-04 - 620ms/epoch - 34ms/step\n",
            "Epoch 75/100\n",
            "18/18 - 1s - loss: 3.2700e-04 - 605ms/epoch - 34ms/step\n",
            "Epoch 76/100\n",
            "18/18 - 1s - loss: 3.1154e-04 - 610ms/epoch - 34ms/step\n",
            "Epoch 77/100\n",
            "18/18 - 1s - loss: 3.2218e-04 - 590ms/epoch - 33ms/step\n",
            "Epoch 78/100\n",
            "18/18 - 1s - loss: 3.3582e-04 - 575ms/epoch - 32ms/step\n",
            "Epoch 79/100\n",
            "18/18 - 1s - loss: 3.2674e-04 - 599ms/epoch - 33ms/step\n",
            "Epoch 80/100\n",
            "18/18 - 1s - loss: 3.1742e-04 - 570ms/epoch - 32ms/step\n",
            "Epoch 81/100\n",
            "18/18 - 1s - loss: 3.1125e-04 - 592ms/epoch - 33ms/step\n",
            "Epoch 82/100\n",
            "18/18 - 1s - loss: 3.1159e-04 - 577ms/epoch - 32ms/step\n",
            "Epoch 83/100\n",
            "18/18 - 1s - loss: 3.1907e-04 - 600ms/epoch - 33ms/step\n",
            "Epoch 84/100\n",
            "18/18 - 1s - loss: 3.2946e-04 - 593ms/epoch - 33ms/step\n",
            "Epoch 85/100\n",
            "18/18 - 1s - loss: 3.1585e-04 - 643ms/epoch - 36ms/step\n",
            "Epoch 86/100\n",
            "18/18 - 1s - loss: 3.1275e-04 - 984ms/epoch - 55ms/step\n",
            "Epoch 87/100\n",
            "18/18 - 1s - loss: 3.1798e-04 - 932ms/epoch - 52ms/step\n",
            "Epoch 88/100\n",
            "18/18 - 1s - loss: 3.2761e-04 - 631ms/epoch - 35ms/step\n",
            "Epoch 89/100\n",
            "18/18 - 1s - loss: 3.3346e-04 - 613ms/epoch - 34ms/step\n",
            "Epoch 90/100\n",
            "18/18 - 1s - loss: 3.2071e-04 - 628ms/epoch - 35ms/step\n",
            "Epoch 91/100\n",
            "18/18 - 1s - loss: 3.1906e-04 - 639ms/epoch - 35ms/step\n",
            "Epoch 92/100\n",
            "18/18 - 1s - loss: 3.3693e-04 - 608ms/epoch - 34ms/step\n",
            "Epoch 93/100\n",
            "18/18 - 1s - loss: 3.3825e-04 - 595ms/epoch - 33ms/step\n",
            "Epoch 94/100\n",
            "18/18 - 1s - loss: 3.3012e-04 - 584ms/epoch - 32ms/step\n",
            "Epoch 95/100\n",
            "18/18 - 1s - loss: 3.3348e-04 - 583ms/epoch - 32ms/step\n",
            "Epoch 96/100\n",
            "18/18 - 1s - loss: 3.5822e-04 - 580ms/epoch - 32ms/step\n",
            "Epoch 97/100\n",
            "18/18 - 1s - loss: 3.1335e-04 - 587ms/epoch - 33ms/step\n",
            "Epoch 98/100\n",
            "18/18 - 1s - loss: 3.2796e-04 - 625ms/epoch - 35ms/step\n",
            "Epoch 99/100\n",
            "18/18 - 1s - loss: 3.1076e-04 - 590ms/epoch - 33ms/step\n",
            "Epoch 100/100\n",
            "18/18 - 1s - loss: 3.1888e-04 - 601ms/epoch - 33ms/step\n"
          ]
        },
        {
          "output_type": "execute_result",
          "data": {
            "text/plain": [
              "<keras.callbacks.History at 0x7f26c3c42890>"
            ]
          },
          "metadata": {},
          "execution_count": 37
        }
      ]
    },
    {
      "cell_type": "code",
      "source": [
        "# 예측\n",
        "train_predict_d = model_d.predict(x_train_d)\n",
        "test_predict_d = model_d.predict(x_test_d)\n",
        "\n",
        "# model.predict(x_train_d) 은 학습된 모델을 이용하여 train 데이터에 대한 예측값을 계산한다\n",
        "# mode.predict(x_test_d) 은 학습된 모델을 이용하여 test 데이터에 대한 예측값을 계산한다."
      ],
      "metadata": {
        "id": "u4qzHMHgWg7G",
        "colab": {
          "base_uri": "https://localhost:8080/"
        },
        "outputId": "0b7b7b8c-f6c7-4a3a-f71f-0a95d8140db7"
      },
      "execution_count": null,
      "outputs": [
        {
          "output_type": "stream",
          "name": "stdout",
          "text": [
            "35/35 [==============================] - 0s 8ms/step\n",
            "8/8 [==============================] - 0s 9ms/step\n"
          ]
        }
      ]
    },
    {
      "cell_type": "code",
      "source": [
        "import datetime\n",
        "from datetime import datetime\n",
        "\n",
        "# 예측 결과 시각화\n",
        "train_predict_d = scaler_d.inverse_transform(train_predict_d)\n",
        "test_predict_d = scaler_d.inverse_transform(test_predict_d)\n",
        "\n",
        "# train_predict와 test_predict 배열에 NaN 값이 포함되어 있는지 확인하기 위해  np.isnan() 함수를 사용\n",
        "# 만약 NaN 값이 있다면, 이를 np.ma.array() 함수를 사용하여 NaN 값을 마스킹한 배열을 생성한다.\n",
        "# np.ma.array()에서는 평균값을 구할수있다.(조건이 참일때 평균값을 구해서 NaN값으로 대체한다)\n",
        "\n",
        "# train_predict와 test_predict 배열의 값을 scaler.inverse_transform() 함수를 사용하여 스케일링된 값을 원래의 값으로 복원합니다.\n",
        "\n",
        "plt.figure(figsize=(10, 5))\n",
        "\n",
        "# 2022년 1월 1일에 빨간색 세로축을 추가합니다.\n",
        "target_date = datetime(2022, 1, 1)\n",
        "plt.axvline(x=target_date, color='red', linestyle='--')\n",
        "\n",
        "plt.plot(df_d[look_back:len(train_data_d)].index, df_d[look_back:len(train_data_d)].values, label='Actual Train Price')\n",
        "plt.plot(df_d[len(train_data_d)+look_back:].index, df_d[len(train_data_d)+look_back:].values, label='Actual Test Price')\n",
        "plt.plot(df_d[look_back:len(train_data_d)].index, train_predict_d, label='Predicted Train Price')\n",
        "plt.plot(df_d[len(train_data_d)+look_back:].index, test_predict_d, label='Predicted Test Price')\n",
        "plt.xlabel('Date')\n",
        "plt.ylabel('Price')\n",
        "plt.title('Bitcoin price prediction for 2022')\n",
        "plt.legend()\n",
        "plt.show()"
      ],
      "metadata": {
        "colab": {
          "base_uri": "https://localhost:8080/",
          "height": 487
        },
        "id": "IlfEDiW7EAed",
        "outputId": "2500ff36-48eb-473b-838f-7ca294d708a8"
      },
      "execution_count": null,
      "outputs": [
        {
          "output_type": "display_data",
          "data": {
            "text/plain": [
              "<Figure size 1000x500 with 1 Axes>"
            ],
            "image/png": "[encoded data removed]"
          },
          "metadata": {}
        }
      ]
    },
    {
      "cell_type": "code",
      "source": [
        "# train 및 test 데이터에 대한 예측값 생성\n",
        "train_predict_d = model_d.predict(x_train_d)\n",
        "test_predict_d = model_d.predict(x_test_d)\n",
        "\n",
        "# 스케일링 된 값을 다시 원래 값으로 변환\n",
        "train_predict_d = scaler_d.inverse_transform(train_predict_d)  #inverse_transform() 함수를 이용해 원본값으로 복원가능하다\n",
        "y_train_d = scaler_d.inverse_transform([y_train_d])\n",
        "test_predict_d = scaler_d.inverse_transform(test_predict_d)\n",
        "y_test_d = scaler_d.inverse_transform([y_test_d])\n",
        "\n",
        "\n",
        "train_r2_score_d = r2_score(y_train_d[0], train_predict_d[:,0])\n",
        "test_r2_score_d = r2_score(y_test_d[0], test_predict_d[:,0])\n",
        "\n",
        "\n",
        "# 결과 출력\n",
        "print(\"Train R2 Score_d : \", train_r2_score_d) # train 데이터의 정확도를 알려준다\n",
        "print(\"Test R2 Score_d : \", test_r2_score_d)   # test 데이터의 정확도를 알려준다"
      ],
      "metadata": {
        "colab": {
          "base_uri": "https://localhost:8080/"
        },
        "id": "EmMkNs7TC9a5",
        "outputId": "46ef3413-3fec-40c2-cfcf-dcf64dd47935"
      },
      "execution_count": null,
      "outputs": [
        {
          "output_type": "stream",
          "name": "stdout",
          "text": [
            "35/35 [==============================] - 0s 8ms/step\n",
            "8/8 [==============================] - 0s 9ms/step\n",
            "Train R2 Score_d :  0.9961280124544134\n",
            "Test R2 Score_d :  0.9465117906664735\n"
          ]
        }
      ]
    },
    {
      "cell_type": "code",
      "source": [
        "print(model_d.predict([[2022]]))  # 2022년에 예측값이다."
      ],
      "metadata": {
        "id": "5N2F_Z_oWofA",
        "colab": {
          "base_uri": "https://localhost:8080/"
        },
        "outputId": "63ae8725-1c64-4dd5-e258-a0ba698b18d9"
      },
      "execution_count": null,
      "outputs": [
        {
          "output_type": "stream",
          "name": "stdout",
          "text": [
            "1/1 [==============================] - 0s 411ms/step\n",
            "[[6.2447257]]\n"
          ]
        }
      ]
    },
    {
      "cell_type": "markdown",
      "source": [
        "## 4. 2020년 부터 2022년 데이터를 학습한 후 2023년 예측해보는 프로그램"
      ],
      "metadata": {
        "id": "JWwTxqcoE_Ia"
      }
    },
    {
      "cell_type": "code",
      "source": [
        "!pip install finance-datareader # FinanceDataReader에서 데이터를 불러오기 위해 FinanceDataReader를 설치하는 과정"
      ],
      "metadata": {
        "id": "lQF7VI-EFDfh"
      },
      "execution_count": null,
      "outputs": []
    },
    {
      "cell_type": "code",
      "source": [
        "pip install datetime"
      ],
      "metadata": {
        "id": "XaaKMx4lQxeh"
      },
      "execution_count": null,
      "outputs": []
    },
    {
      "cell_type": "code",
      "source": [
        "import pandas as pd\n",
        "import numpy as np\n",
        "import FinanceDataReader as fdr\n",
        "import matplotlib.pyplot as plt\n",
        "from sklearn.preprocessing import MinMaxScaler\n",
        "from tensorflow.keras.models import Sequential\n",
        "from tensorflow.keras.layers import Dense, GRU\n",
        "from sklearn.metrics import r2_score\n",
        "\n",
        "# 데이터 불러오기\n",
        "start_date_e = \"2020-01-01\"\n",
        "end_date_e = \"2023-12-31\"\n",
        "ticker_e = \"BTC/KRW\"\n",
        "data_e= fdr.DataReader(ticker_e,start_date_e, end_date_e)\n",
        "df_e = pd.DataFrame(fdr.DataReader(ticker_e, start_date_e, end_date_e)['Close'])"
      ],
      "metadata": {
        "id": "MBw74hhlFGAN"
      },
      "execution_count": null,
      "outputs": []
    },
    {
      "cell_type": "code",
      "source": [
        "df_data_e = fdr.DataReader(ticker_e, start_date_e, end_date_e)\n",
        "df_data_e.head()"
      ],
      "metadata": {
        "colab": {
          "base_uri": "https://localhost:8080/",
          "height": 238
        },
        "id": "kzGtUQaKQGkf",
        "outputId": "d93a6e9a-7345-40fc-db19-22c67e903bc5"
      },
      "execution_count": null,
      "outputs": [
        {
          "output_type": "execute_result",
          "data": {
            "text/plain": [
              "                 Open       High        Low      Close  Adj Close  \\\n",
              "Date                                                                \n",
              "2020-01-01  8308229.5  8376938.5  8287634.5  8315985.5  8315985.5   \n",
              "2020-01-02  8318730.5  8335989.5  8026049.5  8084144.5  8084144.5   \n",
              "2020-01-03  8082939.5  8638980.0  8022294.0  8563107.0  8563107.0   \n",
              "2020-01-04  8563679.0  8659292.0  8521870.0  8639788.0  8639788.0   \n",
              "2020-01-05  8639549.0  8795827.0  8628617.0  8641188.0  8641188.0   \n",
              "\n",
              "                    Volume  \n",
              "Date                        \n",
              "2020-01-01  21442786101341  \n",
              "2020-01-02  24073835152756  \n",
              "2020-01-03  32774051275895  \n",
              "2020-01-04  21503438108393  \n",
              "2020-01-05  22998351377088  "
            ],
            "text/html": [
              "\n",
              "  <div id=\"df-cfb02eff-32f3-4144-8bd6-1dfa7e0f1ac0\">\n",
              "    <div class=\"colab-df-container\">\n",
              "      <div>\n",
              "<style scoped>\n",
              "    .dataframe tbody tr th:only-of-type {\n",
              "        vertical-align: middle;\n",
              "    }\n",
              "\n",
              "    .dataframe tbody tr th {\n",
              "        vertical-align: top;\n",
              "    }\n",
              "\n",
              "    .dataframe thead th {\n",
              "        text-align: right;\n",
              "    }\n",
              "</style>\n",
              "<table border=\"1\" class=\"dataframe\">\n",
              "  <thead>\n",
              "    <tr style=\"text-align: right;\">\n",
              "      <th></th>\n",
              "      <th>Open</th>\n",
              "      <th>High</th>\n",
              "      <th>Low</th>\n",
              "      <th>Close</th>\n",
              "      <th>Adj Close</th>\n",
              "      <th>Volume</th>\n",
              "    </tr>\n",
              "    <tr>\n",
              "      <th>Date</th>\n",
              "      <th></th>\n",
              "      <th></th>\n",
              "      <th></th>\n",
              "      <th></th>\n",
              "      <th></th>\n",
              "      <th></th>\n",
              "    </tr>\n",
              "  </thead>\n",
              "  <tbody>\n",
              "    <tr>\n",
              "      <th>2020-01-01</th>\n",
              "      <td>8308229.5</td>\n",
              "      <td>8376938.5</td>\n",
              "      <td>8287634.5</td>\n",
              "      <td>8315985.5</td>\n",
              "      <td>8315985.5</td>\n",
              "      <td>21442786101341</td>\n",
              "    </tr>\n",
              "    <tr>\n",
              "      <th>2020-01-02</th>\n",
              "      <td>8318730.5</td>\n",
              "      <td>8335989.5</td>\n",
              "      <td>8026049.5</td>\n",
              "      <td>8084144.5</td>\n",
              "      <td>8084144.5</td>\n",
              "      <td>24073835152756</td>\n",
              "    </tr>\n",
              "    <tr>\n",
              "      <th>2020-01-03</th>\n",
              "      <td>8082939.5</td>\n",
              "      <td>8638980.0</td>\n",
              "      <td>8022294.0</td>\n",
              "      <td>8563107.0</td>\n",
              "      <td>8563107.0</td>\n",
              "      <td>32774051275895</td>\n",
              "    </tr>\n",
              "    <tr>\n",
              "      <th>2020-01-04</th>\n",
              "      <td>8563679.0</td>\n",
              "      <td>8659292.0</td>\n",
              "      <td>8521870.0</td>\n",
              "      <td>8639788.0</td>\n",
              "      <td>8639788.0</td>\n",
              "      <td>21503438108393</td>\n",
              "    </tr>\n",
              "    <tr>\n",
              "      <th>2020-01-05</th>\n",
              "      <td>8639549.0</td>\n",
              "      <td>8795827.0</td>\n",
              "      <td>8628617.0</td>\n",
              "      <td>8641188.0</td>\n",
              "      <td>8641188.0</td>\n",
              "      <td>22998351377088</td>\n",
              "    </tr>\n",
              "  </tbody>\n",
              "</table>\n",
              "</div>\n",
              "      <button class=\"colab-df-convert\" onclick=\"convertToInteractive('df-cfb02eff-32f3-4144-8bd6-1dfa7e0f1ac0')\"\n",
              "              title=\"Convert this dataframe to an interactive table.\"\n",
              "              style=\"display:none;\">\n",
              "        \n",
              "  <svg xmlns=\"http://www.w3.org/2000/svg\" height=\"24px\"viewBox=\"0 0 24 24\"\n",
              "       width=\"24px\">\n",
              "    <path d=\"M0 0h24v24H0V0z\" fill=\"none\"/>\n",
              "    <path d=\"M18.56 5.44l.94 2.06.94-2.06 2.06-.94-2.06-.94-.94-2.06-.94 2.06-2.06.94zm-11 1L8.5 8.5l.94-2.06 2.06-.94-2.06-.94L8.5 2.5l-.94 2.06-2.06.94zm10 10l.94 2.06.94-2.06 2.06-.94-2.06-.94-.94-2.06-.94 2.06-2.06.94z\"/><path d=\"M17.41 7.96l-1.37-1.37c-.4-.4-.92-.59-1.43-.59-.52 0-1.04.2-1.43.59L10.3 9.45l-7.72 7.72c-.78.78-.78 2.05 0 2.83L4 21.41c.39.39.9.59 1.41.59.51 0 1.02-.2 1.41-.59l7.78-7.78 2.81-2.81c.8-.78.8-2.07 0-2.86zM5.41 20L4 18.59l7.72-7.72 1.47 1.35L5.41 20z\"/>\n",
              "  </svg>\n",
              "      </button>\n",
              "      \n",
              "  <style>\n",
              "    .colab-df-container {\n",
              "      display:flex;\n",
              "      flex-wrap:wrap;\n",
              "      gap: 12px;\n",
              "    }\n",
              "\n",
              "    .colab-df-convert {\n",
              "      background-color: #E8F0FE;\n",
              "      border: none;\n",
              "      border-radius: 50%;\n",
              "      cursor: pointer;\n",
              "      display: none;\n",
              "      fill: #1967D2;\n",
              "      height: 32px;\n",
              "      padding: 0 0 0 0;\n",
              "      width: 32px;\n",
              "    }\n",
              "\n",
              "    .colab-df-convert:hover {\n",
              "      background-color: #E2EBFA;\n",
              "      box-shadow: 0px 1px 2px rgba(60, 64, 67, 0.3), 0px 1px 3px 1px rgba(60, 64, 67, 0.15);\n",
              "      fill: #174EA6;\n",
              "    }\n",
              "\n",
              "    [theme=dark] .colab-df-convert {\n",
              "      background-color: #3B4455;\n",
              "      fill: #D2E3FC;\n",
              "    }\n",
              "\n",
              "    [theme=dark] .colab-df-convert:hover {\n",
              "      background-color: #434B5C;\n",
              "      box-shadow: 0px 1px 3px 1px rgba(0, 0, 0, 0.15);\n",
              "      filter: drop-shadow(0px 1px 2px rgba(0, 0, 0, 0.3));\n",
              "      fill: #FFFFFF;\n",
              "    }\n",
              "  </style>\n",
              "\n",
              "      <script>\n",
              "        const buttonEl =\n",
              "          document.querySelector('#df-cfb02eff-32f3-4144-8bd6-1dfa7e0f1ac0 button.colab-df-convert');\n",
              "        buttonEl.style.display =\n",
              "          google.colab.kernel.accessAllowed ? 'block' : 'none';\n",
              "\n",
              "        async function convertToInteractive(key) {\n",
              "          const element = document.querySelector('#df-cfb02eff-32f3-4144-8bd6-1dfa7e0f1ac0');\n",
              "          const dataTable =\n",
              "            await google.colab.kernel.invokeFunction('convertToInteractive',\n",
              "                                                     [key], {});\n",
              "          if (!dataTable) return;\n",
              "\n",
              "          const docLinkHtml = 'Like what you see? Visit the ' +\n",
              "            '<a target=\"_blank\" href=https://colab.research.google.com/notebooks/data_table.ipynb>data table notebook</a>'\n",
              "            + ' to learn more about interactive tables.';\n",
              "          element.innerHTML = '';\n",
              "          dataTable['output_type'] = 'display_data';\n",
              "          await google.colab.output.renderOutput(dataTable, element);\n",
              "          const docLink = document.createElement('div');\n",
              "          docLink.innerHTML = docLinkHtml;\n",
              "          element.appendChild(docLink);\n",
              "        }\n",
              "      </script>\n",
              "    </div>\n",
              "  </div>\n",
              "  "
            ]
          },
          "metadata": {},
          "execution_count": 96
        }
      ]
    },
    {
      "cell_type": "code",
      "source": [
        "len(df_data_e)"
      ],
      "metadata": {
        "colab": {
          "base_uri": "https://localhost:8080/"
        },
        "id": "tI5AgN24QOJ9",
        "outputId": "b49663db-b38f-4eb7-98c5-29831b7c3683"
      },
      "execution_count": null,
      "outputs": [
        {
          "output_type": "execute_result",
          "data": {
            "text/plain": [
              "1248"
            ]
          },
          "metadata": {},
          "execution_count": 97
        }
      ]
    },
    {
      "cell_type": "code",
      "source": [
        "# 데이터 전처리\n",
        "scaler_e = MinMaxScaler()\n",
        "scaled_data_e = scaler_e.fit_transform(df_e)\n",
        "\n",
        "# minmaxScaler는 스케일을 조정하는 정규화 함수로, 모든 데이터가 0과 1사이의 값을 갖도록 해주는 함수이다\n",
        "# 따라서 최댓값은 1로, 최솟값은 0으로 데이터의 범위를 조정해준다. 객체생성함"
      ],
      "metadata": {
        "id": "RYxpSqumFJwT"
      },
      "execution_count": null,
      "outputs": []
    },
    {
      "cell_type": "code",
      "source": [
        "scaler_e"
      ],
      "metadata": {
        "colab": {
          "base_uri": "https://localhost:8080/",
          "height": 75
        },
        "id": "-q3JAILSQP4T",
        "outputId": "114e4eb8-a663-4019-d84a-af9a9870dee2"
      },
      "execution_count": null,
      "outputs": [
        {
          "output_type": "execute_result",
          "data": {
            "text/plain": [
              "MinMaxScaler()"
            ],
            "text/html": [
              "<style>#sk-container-id-4 {color: black;background-color: white;}#sk-container-id-4 pre{padding: 0;}#sk-container-id-4 div.sk-toggleable {background-color: white;}#sk-container-id-4 label.sk-toggleable__label {cursor: pointer;display: block;width: 100%;margin-bottom: 0;padding: 0.3em;box-sizing: border-box;text-align: center;}#sk-container-id-4 label.sk-toggleable__label-arrow:before {content: \"▸\";float: left;margin-right: 0.25em;color: #696969;}#sk-container-id-4 label.sk-toggleable__label-arrow:hover:before {color: black;}#sk-container-id-4 div.sk-estimator:hover label.sk-toggleable__label-arrow:before {color: black;}#sk-container-id-4 div.sk-toggleable__content {max-height: 0;max-width: 0;overflow: hidden;text-align: left;background-color: #f0f8ff;}#sk-container-id-4 div.sk-toggleable__content pre {margin: 0.2em;color: black;border-radius: 0.25em;background-color: #f0f8ff;}#sk-container-id-4 input.sk-toggleable__control:checked~div.sk-toggleable__content {max-height: 200px;max-width: 100%;overflow: auto;}#sk-container-id-4 input.sk-toggleable__control:checked~label.sk-toggleable__label-arrow:before {content: \"▾\";}#sk-container-id-4 div.sk-estimator input.sk-toggleable__control:checked~label.sk-toggleable__label {background-color: #d4ebff;}#sk-container-id-4 div.sk-label input.sk-toggleable__control:checked~label.sk-toggleable__label {background-color: #d4ebff;}#sk-container-id-4 input.sk-hidden--visually {border: 0;clip: rect(1px 1px 1px 1px);clip: rect(1px, 1px, 1px, 1px);height: 1px;margin: -1px;overflow: hidden;padding: 0;position: absolute;width: 1px;}#sk-container-id-4 div.sk-estimator {font-family: monospace;background-color: #f0f8ff;border: 1px dotted black;border-radius: 0.25em;box-sizing: border-box;margin-bottom: 0.5em;}#sk-container-id-4 div.sk-estimator:hover {background-color: #d4ebff;}#sk-container-id-4 div.sk-parallel-item::after {content: \"\";width: 100%;border-bottom: 1px solid gray;flex-grow: 1;}#sk-container-id-4 div.sk-label:hover label.sk-toggleable__label {background-color: #d4ebff;}#sk-container-id-4 div.sk-serial::before {content: \"\";position: absolute;border-left: 1px solid gray;box-sizing: border-box;top: 0;bottom: 0;left: 50%;z-index: 0;}#sk-container-id-4 div.sk-serial {display: flex;flex-direction: column;align-items: center;background-color: white;padding-right: 0.2em;padding-left: 0.2em;position: relative;}#sk-container-id-4 div.sk-item {position: relative;z-index: 1;}#sk-container-id-4 div.sk-parallel {display: flex;align-items: stretch;justify-content: center;background-color: white;position: relative;}#sk-container-id-4 div.sk-item::before, #sk-container-id-4 div.sk-parallel-item::before {content: \"\";position: absolute;border-left: 1px solid gray;box-sizing: border-box;top: 0;bottom: 0;left: 50%;z-index: -1;}#sk-container-id-4 div.sk-parallel-item {display: flex;flex-direction: column;z-index: 1;position: relative;background-color: white;}#sk-container-id-4 div.sk-parallel-item:first-child::after {align-self: flex-end;width: 50%;}#sk-container-id-4 div.sk-parallel-item:last-child::after {align-self: flex-start;width: 50%;}#sk-container-id-4 div.sk-parallel-item:only-child::after {width: 0;}#sk-container-id-4 div.sk-dashed-wrapped {border: 1px dashed gray;margin: 0 0.4em 0.5em 0.4em;box-sizing: border-box;padding-bottom: 0.4em;background-color: white;}#sk-container-id-4 div.sk-label label {font-family: monospace;font-weight: bold;display: inline-block;line-height: 1.2em;}#sk-container-id-4 div.sk-label-container {text-align: center;}#sk-container-id-4 div.sk-container {/* jupyter's `normalize.less` sets `[hidden] { display: none; }` but bootstrap.min.css set `[hidden] { display: none !important; }` so we also need the `!important` here to be able to override the default hidden behavior on the sphinx rendered scikit-learn.org. See: https://github.com/scikit-learn/scikit-learn/issues/21755 */display: inline-block !important;position: relative;}#sk-container-id-4 div.sk-text-repr-fallback {display: none;}</style><div id=\"sk-container-id-4\" class=\"sk-top-container\"><div class=\"sk-text-repr-fallback\"><pre>MinMaxScaler()</pre><b>In a Jupyter environment, please rerun this cell to show the HTML representation or trust the notebook. <br />On GitHub, the HTML representation is unable to render, please try loading this page with nbviewer.org.</b></div><div class=\"sk-container\" hidden><div class=\"sk-item\"><div class=\"sk-estimator sk-toggleable\"><input class=\"sk-toggleable__control sk-hidden--visually\" id=\"sk-estimator-id-4\" type=\"checkbox\" checked><label for=\"sk-estimator-id-4\" class=\"sk-toggleable__label sk-toggleable__label-arrow\">MinMaxScaler</label><div class=\"sk-toggleable__content\"><pre>MinMaxScaler()</pre></div></div></div></div></div>"
            ]
          },
          "metadata": {},
          "execution_count": 98
        }
      ]
    },
    {
      "cell_type": "code",
      "source": [
        "# train, test 데이터 생성\n",
        "train_size_e = int(len(scaled_data_e) * 0.8)\n",
        "train_data_e = scaled_data_e[:train_size_e]\n",
        "test_data_e = scaled_data_e[train_size_e:]\n",
        "\n",
        "def create_dataset_e(data_e, look_back=60):   # lock_back의 기본값은 60이다  , lock_back에다 데이터 갯수만큼 넣으면 모델학습할때 에러가 나서 기본값이 60을 집어넣었다\n",
        "                                               # 모델 학습 시 과적합을 방지하고 일반화 성능을 높이기 위해 사용된다\n",
        "\n",
        "    x_e, y_e = [], []  #  for문에서 얻은 모든 입력 데이터(x_e)와 출력 데이터(y_e)를 리스트에 추가한다\n",
        "\n",
        "    for i in range(len(data_e)-look_back):\n",
        "        x_e.append(data_e[i:(i+look_back), 0])     # i부터 (i+look_back)까지의 데이터를 하나의 입력 데이터 x_e 로 표현한다.\n",
        "        y_e.append(data_e[i+look_back, 0])   # i+look_back의 데이터를 출력 데이터 y_e 로 표현한다.\n",
        "    return np.array(x_e), np.array(y_e)      # 리스트를 numpy 배열로 변환하여 반환\n",
        "\n",
        "look_back = 60\n",
        "x_train_e, y_train_e = create_dataset_e(train_data_e, look_back)\n",
        "x_test_e, y_test_e = create_dataset_e(test_data_e, look_back)\n",
        "\n",
        "# create_dataset()는 시계열 데이터를 RNN 모델에 입력으로 사용하기 위해 입력 데이터와 출력 데이터로 분리하는 함수이다."
      ],
      "metadata": {
        "id": "tufBSKDfFL25"
      },
      "execution_count": null,
      "outputs": []
    },
    {
      "cell_type": "code",
      "source": [
        "x_train_e"
      ],
      "metadata": {
        "colab": {
          "base_uri": "https://localhost:8080/"
        },
        "id": "9s5PUqDjQSDk",
        "outputId": "90609ae1-841d-4a09-9358-d5fe32a6b834"
      },
      "execution_count": null,
      "outputs": [
        {
          "output_type": "execute_result",
          "data": {
            "text/plain": [
              "array([[0.03057166, 0.02748534, 0.0338614 , ..., 0.06163633, 0.05844336,\n",
              "        0.05727776],\n",
              "       [0.02748534, 0.0338614 , 0.03488219, ..., 0.05844336, 0.05727776,\n",
              "        0.05668567],\n",
              "       [0.0338614 , 0.03488219, 0.03490083, ..., 0.05727776, 0.05668567,\n",
              "        0.06026688],\n",
              "       ...,\n",
              "       [0.31424465, 0.29263324, 0.29062118, ..., 0.28162885, 0.2701391 ,\n",
              "        0.26498431],\n",
              "       [0.29263324, 0.29062118, 0.3186088 , ..., 0.2701391 , 0.26498431,\n",
              "        0.28288207],\n",
              "       [0.29062118, 0.3186088 , 0.33125328, ..., 0.26498431, 0.28288207,\n",
              "        0.28542566]])"
            ]
          },
          "metadata": {},
          "execution_count": 99
        }
      ]
    },
    {
      "cell_type": "code",
      "source": [
        " y_train_e"
      ],
      "metadata": {
        "colab": {
          "base_uri": "https://localhost:8080/"
        },
        "id": "6Gd4NI68QUjL",
        "outputId": "9cb44c74-1ffd-4d47-8ecf-2ed33fa02617"
      },
      "execution_count": null,
      "outputs": [
        {
          "output_type": "execute_result",
          "data": {
            "text/plain": [
              "array([[10277642.        , 10546659.        , 10428598.        ,\n",
              "        10371464.        , 10789837.        , 10844882.        ,\n",
              "        10592153.        ,  9638118.        ,  9516733.        ,\n",
              "         9373029.        ,  9425678.        ,  6019475.        ,\n",
              "         6742100.        ,  6301804.        ,  6534461.        ,\n",
              "         6183004.5       ,  6474502.5       ,  6581260.        ,\n",
              "         7787777.5       ,  7779156.5       ,  7761949.        ,\n",
              "         7315012.5       ,  8112756.5       ,  8309872.5       ,\n",
              "         8224956.5       ,  8148318.5       ,  7846183.        ,\n",
              "         7570158.        ,  7181247.        ,  7871669.5       ,\n",
              "         7840080.5       ,  8164720.5       ,  8341552.        ,\n",
              "         8327887.        ,  8493792.        ,  8399269.        ,\n",
              "         8901460.        ,  8721497.        ,  8916430.        ,\n",
              "         8839325.        ,  8321939.        ,  8314169.        ,\n",
              "         8449242.        ,  8315968.        ,  8296170.        ,\n",
              "         8126488.5       ,  8736731.        ,  8630806.        ,\n",
              "         8827207.        ,  8744210.        ,  8400463.        ,\n",
              "         8475526.        ,  8771104.        ,  9158622.        ,\n",
              "         9292290.        ,  9315715.        ,  9450076.        ,\n",
              "         9525211.        ,  9535541.        , 10658849.        ,\n",
              "        10511052.        , 10858718.        , 11010401.        ,\n",
              "        10897442.        , 10904276.        , 11002202.        ,\n",
              "        11396221.        , 12136872.        , 12006084.        ,\n",
              "        11702635.        , 10680219.        , 10523523.        ,\n",
              "        10800013.        , 11377427.        , 11947754.        ,\n",
              "        11503440.        , 11563640.        , 11924892.        ,\n",
              "        11917097.        , 11921379.        , 11689746.        ,\n",
              "        11202035.        , 11392457.        , 11425595.        ,\n",
              "        10904891.        , 11053684.        , 10875597.        ,\n",
              "        11369956.        , 11793070.        , 11625131.        ,\n",
              "        11946933.        , 11651010.        , 12435179.        ,\n",
              "        11627695.        , 11741700.        , 11921299.        ,\n",
              "        11622417.        , 11629932.        , 11731214.        ,\n",
              "        11685235.        , 11737992.        , 11751730.        ,\n",
              "        11239738.        , 11412755.        , 11406054.        ,\n",
              "        11298032.        , 11415503.        , 11559609.        ,\n",
              "        11521734.        , 11410539.        , 11256939.        ,\n",
              "        11310657.        , 11274976.        , 11665203.        ,\n",
              "        11636864.        , 11234543.        , 11140011.        ,\n",
              "        11029633.        , 10888163.        , 11005490.        ,\n",
              "        11023970.        , 10959561.        , 11089771.        ,\n",
              "        10940793.        , 10899585.        , 10953780.        ,\n",
              "        10884194.        , 11174909.        , 11072201.        ,\n",
              "        11243429.        , 11103594.        , 11140693.        ,\n",
              "        11094145.        , 11136624.        , 11128109.        ,\n",
              "        11137887.        , 11045010.        , 11006526.        ,\n",
              "        11014890.        , 11024095.        , 11055406.        ,\n",
              "        11006517.        , 11191272.        , 11404813.        ,\n",
              "        11511849.        , 11459435.        , 11627923.        ,\n",
              "        11900959.        , 13145084.        , 13088349.        ,\n",
              "        13219658.        , 13218345.        , 13524635.        ,\n",
              "        14045540.        , 13202326.        , 13413858.        ,\n",
              "        13372104.        , 13933144.        , 13949490.        ,\n",
              "        13796181.        , 13977676.        , 13884205.        ,\n",
              "        14089816.        , 13532541.        , 13711929.        ,\n",
              "        13965500.        , 13970120.        , 14085059.        ,\n",
              "        14117234.        , 14510315.        , 14195702.        ,\n",
              "        13900642.        , 14079196.        , 13820797.        ,\n",
              "        13927306.        , 13906831.        , 13999995.        ,\n",
              "        13497172.        , 13612332.        , 13448572.        ,\n",
              "        13627191.        , 13585120.        , 13826487.        ,\n",
              "        13876231.        , 14190524.        , 13578705.        ,\n",
              "        12210242.        , 12482043.        , 12075649.        ,\n",
              "        12207095.        , 12316760.        , 12059038.        ,\n",
              "        12136209.        , 12313585.        , 12356183.        ,\n",
              "        12405194.        , 12264312.        , 12623148.        ,\n",
              "        12743317.        , 12874551.        , 12807471.        ,\n",
              "        12750442.        , 12924913.        , 12742977.        ,\n",
              "        12187277.        , 12262552.        , 11995621.        ,\n",
              "        12585511.        , 12558008.        , 12626134.        ,\n",
              "        12654907.        , 12501912.        , 12675867.        ,\n",
              "        12561560.        , 12350104.        , 12335288.        ,\n",
              "        12304210.        , 12444574.        , 12489729.        ,\n",
              "        12352966.        , 12349225.        , 12567884.        ,\n",
              "        12653812.        , 12919027.        , 13019520.        ,\n",
              "        13270179.        , 13126530.        , 13111728.        ,\n",
              "        13164346.        , 12932249.        , 12973345.        ,\n",
              "        13116059.        , 13383092.        , 13578664.        ,\n",
              "        14529623.        , 14717989.        , 14592531.        ,\n",
              "        14791728.        , 14705007.        , 14809580.        ,\n",
              "        15418752.        , 15065325.        , 15191791.        ,\n",
              "        15397113.        , 15663616.        , 15614356.        ,\n",
              "        15355968.        , 15782404.        , 15981524.        ,\n",
              "        17505970.        , 17463340.        , 16641969.        ,\n",
              "        17364804.        , 17167440.        , 17081178.        ,\n",
              "        17466932.        , 18147798.        , 18090330.        ,\n",
              "        17813540.        , 17678846.        , 18505544.        ,\n",
              "        19511258.        , 19707432.        , 19853050.        ,\n",
              "        20765186.        , 20788514.        , 20482760.        ,\n",
              "        20458360.        , 21223254.        , 20726538.        ,\n",
              "        18978166.        , 18905298.        , 19578276.        ,\n",
              "        20086742.        , 21784874.        , 20803704.        ,\n",
              "        21128496.        , 21240580.        , 20268114.        ,\n",
              "        20760696.        , 20967596.        , 20816798.        ,\n",
              "        19893996.        , 20174428.        , 19860804.        ,\n",
              "        19716620.        , 20529738.        , 20900106.        ,\n",
              "        21037510.        , 21149274.        , 23305464.        ,\n",
              "        24929690.        , 25439724.        , 26244402.        ,\n",
              "        25809992.        , 25148378.        , 26380374.        ,\n",
              "        25693306.        , 26131076.        , 27133490.        ,\n",
              "        29083120.        , 28911066.        , 29687658.        ,\n",
              "        29896882.        , 31396838.        , 31485718.        ,\n",
              "        31892398.        , 34881540.        , 35641816.        ,\n",
              "        34743756.        , 36965032.        , 40063068.        ,\n",
              "        43075072.        , 44592195.99999999, 43998620.00000001,\n",
              "        41923956.00000001, 39032628.        , 37103912.        ,\n",
              "        40976724.        , 42945771.99999999, 40664780.        ,\n",
              "        39950392.        , 39519664.        , 40443632.        ,\n",
              "        39759344.        , 39010100.        , 33908208.        ,\n",
              "        36489192.        , 35452060.        , 35699244.        ,\n",
              "        35690696.        , 35896204.        , 33734152.        ,\n",
              "        37255728.        , 38380476.        , 38328088.        ,\n",
              "        37036744.        , 37474176.        , 39565580.        ,\n",
              "        41730464.        , 41363408.        , 42635800.        ,\n",
              "        43889584.00000001, 43491412.        , 51619024.        ,\n",
              "        51640508.00000001, 49722155.99999999, 52854096.00000001,\n",
              "        52462932.        , 52021920.        , 53802044.        ,\n",
              "        52851276.        , 54486976.        , 57681956.        ,\n",
              "        57220284.00000001, 61814512.00000001, 62048312.00000001,\n",
              "        63620628.        , 60314244.00000001, 54207284.        ,\n",
              "        55038716.        , 52726276.00000001, 52126204.        ,\n",
              "        51956004.        , 50774780.        , 54719400.00000001,\n",
              "        54441744.00000001, 57022508.        , 55067804.00000001,\n",
              "        55201008.        , 55184172.00000001, 57767156.00000001,\n",
              "        59585064.        , 62275060.00000001, 63678547.99999999,\n",
              "        65316600.00000001, 65157344.        , 69602152.00000001,\n",
              "        67384232.        , 63308756.        , 64228784.        ,\n",
              "        66053192.00000001, 65150752.        , 65900212.00000001,\n",
              "        65862928.        , 64971588.        , 61400888.00000001,\n",
              "        62025784.        , 59922928.00000001, 58695080.        ,\n",
              "        62247820.00000001, 63191856.00000001, 63166036.        ,\n",
              "        65410464.        , 66772600.00000001, 66472352.        ,\n",
              "        66722644.00000001, 67091508.        , 65080008.        ,\n",
              "        66384864.00000001, 66443068.00000001, 65087664.        ,\n",
              "        62710828.        , 65138492.        , 65299636.00000001,\n",
              "        67028080.        , 67613792.00000001, 67406568.        ,\n",
              "        71231096.        , 70458184.        , 70700872.00000001,\n",
              "        68754640.        , 67762592.        , 62773856.        ,\n",
              "        62153148.00000001, 63086508.        , 60182192.00000001,\n",
              "        57952516.00000001, 56973492.00000001, 55813224.        ,\n",
              "        54646180.00000001, 59976572.00000001, 61260020.00000001,\n",
              "        60836704.        , 59319244.        , 64550840.        ,\n",
              "        64637880.00000001, 63299852.        , 64092928.00000001,\n",
              "        60051164.        , 64601340.        , 63187260.00000001,\n",
              "        63835956.00000001, 65446840.00000001, 64810912.00000001,\n",
              "        62369688.        , 63465536.00000001, 55667892.00000001,\n",
              "        56017688.00000001, 56193412.        , 52678156.        ,\n",
              "        52334212.00000001, 49480884.00000001, 48407824.        ,\n",
              "        41859819.99999999, 46005000.00000001, 42071856.        ,\n",
              "        42333436.        , 39213928.        , 43474216.        ,\n",
              "        43102744.        , 43872776.00000001, 42984064.        ,\n",
              "        39761780.        , 38557108.        , 39740144.        ,\n",
              "        41364056.        , 40654640.        , 41741468.        ,\n",
              "        43767600.        , 40977880.        , 39486848.        ,\n",
              "        39831628.        , 37263168.        , 37414684.        ,\n",
              "        41729752.        , 40831988.        , 41685724.        ,\n",
              "        39696164.        , 43654756.00000001, 44938340.        ,\n",
              "        45149976.        , 43445359.99999999, 43173228.        ,\n",
              "        40627468.        , 40432916.        , 40526468.        ,\n",
              "        35837076.        , 36845512.        , 38228064.        ,\n",
              "        39230924.        , 35666220.        , 36284556.        ,\n",
              "        39061980.00000001, 38911504.        , 40584464.        ,\n",
              "        39617212.        , 38084616.        , 38329764.        ,\n",
              "        39202156.00000001, 39902336.        , 38153268.        ,\n",
              "        38930592.        , 38646548.        , 37719496.        ,\n",
              "        38709200.00000001, 38391388.        , 39212040.        ,\n",
              "        37867312.        , 37597471.99999999, 37562159.99999999,\n",
              "        36265684.        , 35899108.        , 36026528.        ,\n",
              "        36328664.        , 35471076.        , 34233176.        ,\n",
              "        36914420.        , 37189548.        , 38689976.        ,\n",
              "        39509012.        , 40727676.        , 43033731.99999999,\n",
              "        45493736.00000001, 46011716.        , 45714020.00000001,\n",
              "        48652396.00000001, 47950464.        , 46048256.00000001,\n",
              "        45101916.        , 43821776.00000001, 45513668.        ,\n",
              "        46722796.        , 49064284.00000001, 51067240.        ,\n",
              "        50189196.        , 53176364.00000001, 52581496.        ,\n",
              "        52608200.        , 51669976.00000001, 55554000.        ,\n",
              "        54744548.00000001, 54686640.00000001, 53661316.        ,\n",
              "        52626548.        , 52447856.        , 54958056.00000001,\n",
              "        57977480.        , 57475688.        , 57964804.00000001,\n",
              "        57900060.        , 55552356.        , 57006468.        ,\n",
              "        54969388.00000001, 57022364.        , 56840728.        ,\n",
              "        56756428.        , 54890112.        , 54685636.        ,\n",
              "        56472240.        , 57127556.00000001, 57816828.00000001,\n",
              "        57723504.        , 59813996.00000001, 60872744.        ,\n",
              "        54394400.00000001, 53811204.        , 54280672.00000001,\n",
              "        52531232.00000001, 52902884.        , 53911656.        ,\n",
              "        52701756.        , 55180628.        , 56184112.        ,\n",
              "        56165524.00000001, 55871156.00000001, 57065992.00000001,\n",
              "        55866796.00000001, 50869412.00000001, 48174784.        ,\n",
              "        51506312.00000001, 52742760.        , 50562044.        ,\n",
              "        50416688.00000001, 50994708.        , 49752004.        ,\n",
              "        48744508.00000001, 49396392.00000001, 51880008.        ,\n",
              "        56802012.00000001, 56323372.00000001, 56924164.00000001,\n",
              "        58187984.        , 61168948.00000001, 65955140.        ,\n",
              "        64096916.00000001, 64576848.00000001, 65773880.00000001,\n",
              "        65538604.00000001, 68746448.        , 67138352.        ,\n",
              "        68128736.        , 67774016.        , 72852712.        ,\n",
              "        72022664.        , 72805184.        , 73555176.        ,\n",
              "        75556360.        , 77580624.        , 73255648.        ,\n",
              "        71467568.        , 72284848.        , 71748440.        ,\n",
              "        73634344.        , 70524832.        , 68547216.        ,\n",
              "        70829040.        , 73093592.        , 72695240.00000001,\n",
              "        72025832.        , 71836320.        , 74551544.        ,\n",
              "        74326024.        , 72876808.        , 72219984.00000001,\n",
              "        72694720.00000001, 74833432.        , 81138408.        ,\n",
              "        78926152.        , 77028576.        , 77312536.        ,\n",
              "        75700480.        , 76070496.        , 77247904.        ,\n",
              "        75227096.        , 71239944.        , 71340552.00000001,\n",
              "        67362832.00000001, 69263424.00000001, 71143536.00000001,\n",
              "        69916600.00000001, 67012396.        , 68510368.        ,\n",
              "        66911760.00000001, 68174048.        , 64060868.        ,\n",
              "        65550064.        , 68452920.        , 68845016.        ,\n",
              "        67434856.        , 67370952.00000001, 66467332.00000001,\n",
              "        63480424.        , 58272084.00000001, 58374020.        ,\n",
              "        59720376.00000001, 59671464.        , 59224448.00000001,\n",
              "        56173468.00000001, 55794344.00000001, 58297124.        ,\n",
              "        59164856.        , 55392096.        , 55246648.00000001,\n",
              "        57962172.00000001, 56541920.00000001, 54883063.99999999,\n",
              "        55651192.00000001, 55480900.00000001, 55800188.00000001,\n",
              "        58300392.        , 57768480.00000001, 60212688.        ,\n",
              "        60326964.00000001, 59861248.        , 60234680.        ,\n",
              "        60092408.00000001, 56570776.        , 55022132.        ,\n",
              "        56169815.99999999, 55052808.00000001, 56693896.        ,\n",
              "        56288032.00000001, 55549032.        , 54962304.00000001,\n",
              "        52293708.00000001, 51982264.00000001, 49772028.        ,\n",
              "        49978692.        , 50194920.        , 50108356.00000001,\n",
              "        50834512.        , 52121544.00000001, 50548744.00000001,\n",
              "        51299848.00000001, 51392328.        , 51314108.        ,\n",
              "        50323360.        , 50556432.00000001, 49602700.00000001,\n",
              "        48511604.00000001, 43478996.00000001, 41777080.        ,\n",
              "        43258039.99999999, 43829596.00000001, 44208072.        ,\n",
              "        44252212.00000001, 44699624.        , 45711864.        ,\n",
              "        46139948.00000001, 45868284.        , 46415284.        ,\n",
              "        46590724.00000001, 44347276.00000001, 44609672.        ,\n",
              "        49734236.00000001, 49662676.        , 50826612.00000001,\n",
              "        52476824.00000001, 52787940.00000001, 52948284.00000001,\n",
              "        52254172.00000001, 50880832.        , 50684704.00000001,\n",
              "        50628040.00000001, 50997836.        , 53352284.00000001,\n",
              "        52611796.00000001, 48597172.00000001, 47866240.00000001,\n",
              "        47975264.00000001, 45949260.00000001, 44294948.00000001,\n",
              "        45675192.        , 44476320.        , 46231236.00000001,\n",
              "        46971968.        , 46844748.        , 45179304.        ,\n",
              "        51881768.        , 53463972.00000001, 52852800.        ,\n",
              "        51238884.        , 47627528.00000001, 47982820.        ,\n",
              "        46772268.        , 46905756.00000001, 47806084.00000001,\n",
              "        51356876.        , 48458384.00000001, 47993456.        ,\n",
              "        48128348.        , 46814516.        , 49270004.        ,\n",
              "        48849132.        , 50321080.        , 49575944.00000001,\n",
              "        50636664.        , 51108492.00000001, 49971328.        ,\n",
              "        50110092.00000001, 51468072.00000001, 52312672.        ,\n",
              "        53660788.00000001, 54347152.        , 54533540.00000001,\n",
              "        57372860.00000001, 57675252.        , 57405292.00000001,\n",
              "        56971236.00000001, 55311276.        , 56452960.        ,\n",
              "        55949567.99999999, 56663148.00000001, 56632564.00000001,\n",
              "        55525924.00000001, 52612860.00000001, 53196508.00000001,\n",
              "        51978092.00000001, 52585876.00000001, 51883400.00000001,\n",
              "        48817056.        , 49304268.00000001, 50357000.        ,\n",
              "        49129672.00000001, 49843856.        , 49685328.00000001,\n",
              "        48815728.        , 50437724.00000001, 51452204.        ,\n",
              "        51064464.        , 50356872.00000001, 49434176.00000001,\n",
              "        49140444.        , 49106136.        , 50581180.        ,\n",
              "        48058876.        , 49695744.        , 50608640.00000001,\n",
              "        48782932.        , 47652180.00000001, 48606824.00000001,\n",
              "        48830600.00000001, 47610872.        , 49682352.00000001,\n",
              "        46438264.        , 45772031.99999999, 45087540.00000001,\n",
              "        43293808.        , 38628576.        , 39605392.        ,\n",
              "        37014340.        , 37496288.        , 37440352.        ,\n",
              "        38486424.00000001, 40025760.        , 38250512.        ,\n",
              "        38542260.        , 36642900.        , 38306708.        ,\n",
              "        37194296.        , 37489152.        , 38638800.        ,\n",
              "        36633928.        , 37399104.        , 37446644.        ,\n",
              "        36873488.        , 35913936.        , 36148940.        ,\n",
              "        36883744.        , 39251264.        , 39509552.        ,\n",
              "        37168392.        , 37816400.        , 37184848.        ,\n",
              "        37336788.        , 37429144.        , 39364075.99999999,\n",
              "        39097168.        , 37987864.        , 38072708.        ,\n",
              "        37213600.        , 36281420.        , 34236924.        ,\n",
              "        29052676.        , 28642432.        , 28859058.        ,\n",
              "        26260840.        , 26440148.        , 24561286.        ,\n",
              "        26544618.        , 26628096.        , 26757160.        ,\n",
              "        25939766.        , 27414804.        , 27373762.        ,\n",
              "        27722750.        , 27110302.        , 26676816.        ,\n",
              "        26210592.        , 26176544.        , 25483420.        ,\n",
              "        25028788.        , 24993574.        , 25064756.        ,\n",
              "        26218804.        , 26428574.        , 26819570.        ,\n",
              "        28085588.        , 28137232.        , 27957372.        ,\n",
              "        27009928.        , 26185584.        , 25240028.        ,\n",
              "        26379788.        , 27087602.        , 27483118.        ,\n",
              "        27954900.        , 27407956.        , 29663910.        ,\n",
              "        30541922.        , 30503728.        , 30276170.        ,\n",
              "        29764460.        , 29435280.        , 29625198.        ,\n",
              "        28001772.        , 27850628.        , 29953028.        ,\n",
              "        30902868.        , 31024102.        , 30830662.        ,\n",
              "        30414514.        , 30489096.        , 30214074.        ,\n",
              "        29891902.        , 29474672.        , 30363210.        ,\n",
              "        29935538.        , 30215326.        , 30946500.        ,\n",
              "        30295684.        , 31057918.        , 31326866.        ,\n",
              "        31781742.        , 31809418.        , 31672922.        ,\n",
              "        31703914.        , 31319472.        , 30691696.        ,\n",
              "        30809108.        , 27889488.        , 28274894.        ,\n",
              "        28765530.        , 28753714.        , 28835800.        ,\n",
              "        28690614.        , 28832996.        , 27192510.        ,\n",
              "        26899620.        , 26329332.        , 27322522.        ,\n",
              "        26736580.        , 26918812.        , 27296428.        ,\n",
              "        27213106.        , 27025484.        , 27232096.        ,\n",
              "        27089852.        , 25967914.        , 26517444.        ,\n",
              "        26754424.        , 29507412.        , 29920446.        ,\n",
              "        30042912.        , 30785988.        , 28288536.        ,\n",
              "        28166488.        , 27564554.        , 27414490.        ,\n",
              "        27906684.        , 26919928.        , 27175134.        ,\n",
              "        26312036.        , 25924814.        , 27269274.        ,\n",
              "        27460346.        , 26942822.        ]])"
            ]
          },
          "metadata": {},
          "execution_count": 100
        }
      ]
    },
    {
      "cell_type": "code",
      "source": [
        "# 모델 생성\n",
        "model_e = Sequential()   # 모델의 객체생성\n",
        "model_e.add(GRU(50, input_shape=(look_back, 1))) #  50=레이어의 출력 차원, input_shape=입력 데이터의 형태를 정의를 의미한다.\n",
        "                                                  # lock_back=이전 데이터의 갯수만큼 비트코인 가격을 입력으로 받아들이고, 각각의 데이터가 1차원인 것을 의미합니다.\n",
        "\n",
        "model_e.add(Dense(1))   # Dense 는 완전 연결 레이어(층)를 의미한다. 1은 출력의 차원을 의미\n",
        "model_e.compile(loss='mean_squared_error', optimizer='adam')  # compile() 함수를 이용하여 모델을 컴파일합니다\n",
        "                                                             # loss는 손실 함수를 의미한다.\n",
        "                                                             # mean_squared_error(MSE) 는 전체 에러를 표현하기 위해서 사용하는 식이고 오차의 제곱에 대해 평균을 취한 것이다.(수치가 작을 수록 원본과의 오차가 적은 것이다)\n",
        "                                                             # optimizer는  최적화 알고리즘을 정의하는 부분이다. adam(아담) 은 모멘텀+ AdaGrad(아다그라드) 을 합친 것이다\n",
        "\n",
        "# 완전 연결 레이어 : 한 레이어의 모든 뉴런이 그 다음 레이어의 모든 뉴런과 연결된 상태이다.\n",
        "# 모멘텀 : 기울기 방향으로 힘을 받아 물체가 가속된다는 물리법칙을 적용한것이다.\n",
        "# AdaGrad : 학습을 진행하면서 학습률을 점차 줄여가는 방법이다."
      ],
      "metadata": {
        "id": "TfQm77u3FNgK"
      },
      "execution_count": null,
      "outputs": []
    },
    {
      "cell_type": "code",
      "source": [
        "model_e"
      ],
      "metadata": {
        "colab": {
          "base_uri": "https://localhost:8080/"
        },
        "id": "pdArg4nuQWx0",
        "outputId": "99e4754d-3a6b-4367-9d8b-c2b802f3c4b6"
      },
      "execution_count": null,
      "outputs": [
        {
          "output_type": "execute_result",
          "data": {
            "text/plain": [
              "<keras.engine.sequential.Sequential at 0x7f26c3da19c0>"
            ]
          },
          "metadata": {},
          "execution_count": 101
        }
      ]
    },
    {
      "cell_type": "code",
      "source": [
        "# 모델 학습\n",
        "model_e.fit(x_train_e, y_train_e, epochs=100, batch_size=64, verbose=2)   # 데이터 갯수가 많으면 에포크는 50~100 사이, 배치사이즈는 32~64 사이로 지정\n",
        "\n",
        "# 배치사이즈 = 64 는 1096개의 데이터를 64개씩 묶어서 17번의 배치로 학습을 진행하게 됩니다.\n",
        "\n",
        "# x_train_e : 학습데이터의 입력값   , y_train_e : 학습데이터의 출력값이다.\n",
        "\n",
        "# 에포크 : 훈련 데이터셋에 포함된 모든 데이터들이 한 번씩 모델을 통과한 횟수 또는 전체 학습 데이터셋에 대한 반복 횟수이다\n",
        "# 에포크가 높을수록 더 많은 반복 학습을 수행하게 되므로 모델이 더 많은 학습을 하게 되어 일반적으로 더 좋은 성능을 낼 수 있습니다\n",
        "\n",
        "# batch_size(배치크기) : 학습을 수행할 때, 몇 개의 데이터를 한 번에 처리할지를 지정한다, 일반적으로 32,64, 128 숫자를 사용한다\n",
        "\n",
        "# verbose : 학습 과정 중 출력되는 문구를 설정합니다. 0일 경우 출력하지 않으며, 1일 경우 학습 진행 상황을 출력하고, 2일 경우 학습 결과만 출력한다"
      ],
      "metadata": {
        "colab": {
          "base_uri": "https://localhost:8080/"
        },
        "id": "juGrqO-1FN9X",
        "outputId": "d22abd49-0a05-45bb-9b2e-2cb48155802e"
      },
      "execution_count": null,
      "outputs": [
        {
          "output_type": "stream",
          "name": "stdout",
          "text": [
            "Epoch 1/100\n",
            "15/15 - 3s - loss: 0.1866 - 3s/epoch - 213ms/step\n",
            "Epoch 2/100\n",
            "15/15 - 1s - loss: 0.0303 - 542ms/epoch - 36ms/step\n",
            "Epoch 3/100\n",
            "15/15 - 1s - loss: 0.0177 - 530ms/epoch - 35ms/step\n",
            "Epoch 4/100\n",
            "15/15 - 1s - loss: 0.0098 - 534ms/epoch - 36ms/step\n",
            "Epoch 5/100\n",
            "15/15 - 1s - loss: 0.0045 - 519ms/epoch - 35ms/step\n",
            "Epoch 6/100\n",
            "15/15 - 1s - loss: 0.0018 - 734ms/epoch - 49ms/step\n",
            "Epoch 7/100\n",
            "15/15 - 1s - loss: 0.0012 - 881ms/epoch - 59ms/step\n",
            "Epoch 8/100\n",
            "15/15 - 1s - loss: 0.0011 - 713ms/epoch - 48ms/step\n",
            "Epoch 9/100\n",
            "15/15 - 0s - loss: 0.0011 - 486ms/epoch - 32ms/step\n",
            "Epoch 10/100\n",
            "15/15 - 1s - loss: 0.0011 - 511ms/epoch - 34ms/step\n",
            "Epoch 11/100\n",
            "15/15 - 0s - loss: 0.0010 - 495ms/epoch - 33ms/step\n",
            "Epoch 12/100\n",
            "15/15 - 1s - loss: 9.6841e-04 - 510ms/epoch - 34ms/step\n",
            "Epoch 13/100\n",
            "15/15 - 1s - loss: 9.4463e-04 - 523ms/epoch - 35ms/step\n",
            "Epoch 14/100\n",
            "15/15 - 1s - loss: 9.4867e-04 - 547ms/epoch - 36ms/step\n",
            "Epoch 15/100\n",
            "15/15 - 1s - loss: 9.3276e-04 - 519ms/epoch - 35ms/step\n",
            "Epoch 16/100\n",
            "15/15 - 1s - loss: 8.8761e-04 - 523ms/epoch - 35ms/step\n",
            "Epoch 17/100\n",
            "15/15 - 1s - loss: 8.5952e-04 - 553ms/epoch - 37ms/step\n",
            "Epoch 18/100\n",
            "15/15 - 1s - loss: 8.3181e-04 - 538ms/epoch - 36ms/step\n",
            "Epoch 19/100\n",
            "15/15 - 1s - loss: 8.1350e-04 - 510ms/epoch - 34ms/step\n",
            "Epoch 20/100\n",
            "15/15 - 1s - loss: 8.3544e-04 - 511ms/epoch - 34ms/step\n",
            "Epoch 21/100\n",
            "15/15 - 0s - loss: 7.8953e-04 - 499ms/epoch - 33ms/step\n",
            "Epoch 22/100\n",
            "15/15 - 1s - loss: 7.7550e-04 - 534ms/epoch - 36ms/step\n",
            "Epoch 23/100\n",
            "15/15 - 1s - loss: 7.6718e-04 - 542ms/epoch - 36ms/step\n",
            "Epoch 24/100\n",
            "15/15 - 0s - loss: 7.5314e-04 - 498ms/epoch - 33ms/step\n",
            "Epoch 25/100\n",
            "15/15 - 1s - loss: 7.3814e-04 - 563ms/epoch - 38ms/step\n",
            "Epoch 26/100\n",
            "15/15 - 1s - loss: 7.4946e-04 - 536ms/epoch - 36ms/step\n",
            "Epoch 27/100\n",
            "15/15 - 1s - loss: 7.2146e-04 - 689ms/epoch - 46ms/step\n",
            "Epoch 28/100\n",
            "15/15 - 1s - loss: 7.0395e-04 - 847ms/epoch - 56ms/step\n",
            "Epoch 29/100\n",
            "15/15 - 1s - loss: 6.9699e-04 - 780ms/epoch - 52ms/step\n",
            "Epoch 30/100\n",
            "15/15 - 0s - loss: 6.9051e-04 - 498ms/epoch - 33ms/step\n",
            "Epoch 31/100\n",
            "15/15 - 1s - loss: 6.8034e-04 - 511ms/epoch - 34ms/step\n",
            "Epoch 32/100\n",
            "15/15 - 0s - loss: 6.7236e-04 - 498ms/epoch - 33ms/step\n",
            "Epoch 33/100\n",
            "15/15 - 0s - loss: 6.8092e-04 - 492ms/epoch - 33ms/step\n",
            "Epoch 34/100\n",
            "15/15 - 1s - loss: 6.7765e-04 - 532ms/epoch - 35ms/step\n",
            "Epoch 35/100\n",
            "15/15 - 1s - loss: 6.5158e-04 - 509ms/epoch - 34ms/step\n",
            "Epoch 36/100\n",
            "15/15 - 1s - loss: 6.5277e-04 - 510ms/epoch - 34ms/step\n",
            "Epoch 37/100\n",
            "15/15 - 1s - loss: 6.4804e-04 - 517ms/epoch - 34ms/step\n",
            "Epoch 38/100\n",
            "15/15 - 1s - loss: 6.3472e-04 - 543ms/epoch - 36ms/step\n",
            "Epoch 39/100\n",
            "15/15 - 1s - loss: 6.4316e-04 - 557ms/epoch - 37ms/step\n",
            "Epoch 40/100\n",
            "15/15 - 1s - loss: 6.3642e-04 - 531ms/epoch - 35ms/step\n",
            "Epoch 41/100\n",
            "15/15 - 1s - loss: 6.2063e-04 - 535ms/epoch - 36ms/step\n",
            "Epoch 42/100\n",
            "15/15 - 1s - loss: 6.3009e-04 - 527ms/epoch - 35ms/step\n",
            "Epoch 43/100\n",
            "15/15 - 1s - loss: 6.1801e-04 - 504ms/epoch - 34ms/step\n",
            "Epoch 44/100\n",
            "15/15 - 1s - loss: 6.0927e-04 - 542ms/epoch - 36ms/step\n",
            "Epoch 45/100\n",
            "15/15 - 1s - loss: 6.0553e-04 - 507ms/epoch - 34ms/step\n",
            "Epoch 46/100\n",
            "15/15 - 1s - loss: 5.9977e-04 - 514ms/epoch - 34ms/step\n",
            "Epoch 47/100\n",
            "15/15 - 1s - loss: 6.0631e-04 - 519ms/epoch - 35ms/step\n",
            "Epoch 48/100\n",
            "15/15 - 1s - loss: 6.0097e-04 - 512ms/epoch - 34ms/step\n",
            "Epoch 49/100\n",
            "15/15 - 1s - loss: 5.9482e-04 - 871ms/epoch - 58ms/step\n",
            "Epoch 50/100\n",
            "15/15 - 1s - loss: 5.8838e-04 - 861ms/epoch - 57ms/step\n",
            "Epoch 51/100\n",
            "15/15 - 1s - loss: 5.9259e-04 - 624ms/epoch - 42ms/step\n",
            "Epoch 52/100\n",
            "15/15 - 1s - loss: 5.7914e-04 - 606ms/epoch - 40ms/step\n",
            "Epoch 53/100\n",
            "15/15 - 1s - loss: 5.8180e-04 - 549ms/epoch - 37ms/step\n",
            "Epoch 54/100\n",
            "15/15 - 1s - loss: 5.9014e-04 - 538ms/epoch - 36ms/step\n",
            "Epoch 55/100\n",
            "15/15 - 1s - loss: 5.9382e-04 - 524ms/epoch - 35ms/step\n",
            "Epoch 56/100\n",
            "15/15 - 1s - loss: 5.8271e-04 - 521ms/epoch - 35ms/step\n",
            "Epoch 57/100\n",
            "15/15 - 1s - loss: 5.8480e-04 - 515ms/epoch - 34ms/step\n",
            "Epoch 58/100\n",
            "15/15 - 1s - loss: 5.6356e-04 - 526ms/epoch - 35ms/step\n",
            "Epoch 59/100\n",
            "15/15 - 1s - loss: 5.5729e-04 - 513ms/epoch - 34ms/step\n",
            "Epoch 60/100\n",
            "15/15 - 1s - loss: 5.5818e-04 - 529ms/epoch - 35ms/step\n",
            "Epoch 61/100\n",
            "15/15 - 1s - loss: 5.6016e-04 - 565ms/epoch - 38ms/step\n",
            "Epoch 62/100\n",
            "15/15 - 1s - loss: 5.5507e-04 - 512ms/epoch - 34ms/step\n",
            "Epoch 63/100\n",
            "15/15 - 1s - loss: 5.5187e-04 - 536ms/epoch - 36ms/step\n",
            "Epoch 64/100\n",
            "15/15 - 1s - loss: 5.6270e-04 - 524ms/epoch - 35ms/step\n",
            "Epoch 65/100\n",
            "15/15 - 1s - loss: 5.5840e-04 - 539ms/epoch - 36ms/step\n",
            "Epoch 66/100\n",
            "15/15 - 1s - loss: 5.7140e-04 - 510ms/epoch - 34ms/step\n",
            "Epoch 67/100\n",
            "15/15 - 1s - loss: 5.5773e-04 - 547ms/epoch - 36ms/step\n",
            "Epoch 68/100\n",
            "15/15 - 1s - loss: 5.4252e-04 - 516ms/epoch - 34ms/step\n",
            "Epoch 69/100\n",
            "15/15 - 1s - loss: 5.3650e-04 - 667ms/epoch - 44ms/step\n",
            "Epoch 70/100\n",
            "15/15 - 1s - loss: 5.4332e-04 - 951ms/epoch - 63ms/step\n",
            "Epoch 71/100\n",
            "15/15 - 1s - loss: 5.5189e-04 - 846ms/epoch - 56ms/step\n",
            "Epoch 72/100\n",
            "15/15 - 0s - loss: 5.3741e-04 - 499ms/epoch - 33ms/step\n",
            "Epoch 73/100\n",
            "15/15 - 1s - loss: 5.3995e-04 - 528ms/epoch - 35ms/step\n",
            "Epoch 74/100\n",
            "15/15 - 1s - loss: 5.4107e-04 - 514ms/epoch - 34ms/step\n",
            "Epoch 75/100\n",
            "15/15 - 1s - loss: 5.4036e-04 - 506ms/epoch - 34ms/step\n",
            "Epoch 76/100\n",
            "15/15 - 1s - loss: 5.2593e-04 - 504ms/epoch - 34ms/step\n",
            "Epoch 77/100\n",
            "15/15 - 1s - loss: 5.2542e-04 - 537ms/epoch - 36ms/step\n",
            "Epoch 78/100\n",
            "15/15 - 1s - loss: 5.2842e-04 - 535ms/epoch - 36ms/step\n",
            "Epoch 79/100\n",
            "15/15 - 1s - loss: 5.2375e-04 - 537ms/epoch - 36ms/step\n",
            "Epoch 80/100\n",
            "15/15 - 1s - loss: 5.2402e-04 - 510ms/epoch - 34ms/step\n",
            "Epoch 81/100\n",
            "15/15 - 1s - loss: 5.3040e-04 - 527ms/epoch - 35ms/step\n",
            "Epoch 82/100\n",
            "15/15 - 1s - loss: 5.4676e-04 - 519ms/epoch - 35ms/step\n",
            "Epoch 83/100\n",
            "15/15 - 1s - loss: 5.3975e-04 - 520ms/epoch - 35ms/step\n",
            "Epoch 84/100\n",
            "15/15 - 1s - loss: 5.1536e-04 - 506ms/epoch - 34ms/step\n",
            "Epoch 85/100\n",
            "15/15 - 1s - loss: 5.2248e-04 - 532ms/epoch - 35ms/step\n",
            "Epoch 86/100\n",
            "15/15 - 1s - loss: 5.1908e-04 - 521ms/epoch - 35ms/step\n",
            "Epoch 87/100\n",
            "15/15 - 1s - loss: 5.0995e-04 - 522ms/epoch - 35ms/step\n",
            "Epoch 88/100\n",
            "15/15 - 1s - loss: 5.1618e-04 - 514ms/epoch - 34ms/step\n",
            "Epoch 89/100\n",
            "15/15 - 1s - loss: 5.2640e-04 - 521ms/epoch - 35ms/step\n",
            "Epoch 90/100\n",
            "15/15 - 1s - loss: 5.1525e-04 - 531ms/epoch - 35ms/step\n",
            "Epoch 91/100\n",
            "15/15 - 1s - loss: 5.0733e-04 - 885ms/epoch - 59ms/step\n",
            "Epoch 92/100\n",
            "15/15 - 1s - loss: 5.1224e-04 - 851ms/epoch - 57ms/step\n",
            "Epoch 93/100\n",
            "15/15 - 1s - loss: 5.1010e-04 - 668ms/epoch - 45ms/step\n",
            "Epoch 94/100\n",
            "15/15 - 1s - loss: 5.1068e-04 - 681ms/epoch - 45ms/step\n",
            "Epoch 95/100\n",
            "15/15 - 1s - loss: 5.0763e-04 - 702ms/epoch - 47ms/step\n",
            "Epoch 96/100\n",
            "15/15 - 1s - loss: 4.9967e-04 - 622ms/epoch - 41ms/step\n",
            "Epoch 97/100\n",
            "15/15 - 1s - loss: 5.0508e-04 - 558ms/epoch - 37ms/step\n",
            "Epoch 98/100\n",
            "15/15 - 1s - loss: 5.0817e-04 - 530ms/epoch - 35ms/step\n",
            "Epoch 99/100\n",
            "15/15 - 1s - loss: 5.4261e-04 - 502ms/epoch - 33ms/step\n",
            "Epoch 100/100\n",
            "15/15 - 1s - loss: 5.3245e-04 - 528ms/epoch - 35ms/step\n"
          ]
        },
        {
          "output_type": "execute_result",
          "data": {
            "text/plain": [
              "<keras.callbacks.History at 0x7f26c3b4c100>"
            ]
          },
          "metadata": {},
          "execution_count": 46
        }
      ]
    },
    {
      "cell_type": "code",
      "source": [
        "# 예측\n",
        "train_predict_e = model_e.predict(x_train_e)\n",
        "test_predict_e = model_e.predict(x_test_e)\n",
        "\n",
        "# model.predict(x_train_d) 은 학습된 모델을 이용하여 train 데이터에 대한 예측값을 계산한다\n",
        "# mode.predict(x_test_d) 은 학습된 모델을 이용하여 test 데이터에 대한 예측값을 계산한다."
      ],
      "metadata": {
        "colab": {
          "base_uri": "https://localhost:8080/"
        },
        "id": "eZ5yT9EVF4fI",
        "outputId": "f3b2324b-133d-48d3-b990-fc6b82ca4fe1"
      },
      "execution_count": null,
      "outputs": [
        {
          "output_type": "stream",
          "name": "stdout",
          "text": [
            "30/30 [==============================] - 1s 9ms/step\n",
            "6/6 [==============================] - 0s 9ms/step\n"
          ]
        }
      ]
    },
    {
      "cell_type": "code",
      "source": [
        "import datetime\n",
        "from datetime import datetime\n",
        "\n",
        "# 예측 결과 시각화\n",
        "train_predict_e = scaler_e.inverse_transform(train_predict_e)\n",
        "test_predict_e = scaler_e.inverse_transform(test_predict_e)\n",
        "\n",
        "# train_predict와 test_predict 배열에 NaN 값이 포함되어 있는지 확인하기 위해  np.isnan() 함수를 사용\n",
        "# 만약 NaN 값이 있다면, 이를 np.ma.array() 함수를 사용하여 NaN 값을 마스킹한 배열을 생성한다.\n",
        "# np.ma.array()에서는 평균값을 구할수있다.(조건이 참일때 평균값을 구해서 NaN값으로 대체한다)\n",
        "\n",
        "# train_predict와 test_predict 배열의 값을 scaler.inverse_transform() 함수를 사용하여 스케일링된 값을 원래의 값으로 복원합니다.\n",
        "\n",
        "plt.figure(figsize=(10, 5))\n",
        "\n",
        "# 2023년 1월 1일에 빨간색 세로축을 추가합니다.\n",
        "target_date = datetime(2023, 1, 1)\n",
        "plt.axvline(x=target_date, color='red', linestyle='--')\n",
        "\n",
        "plt.plot(df_e[look_back:len(train_data_e)].index, df_e[look_back:len(train_data_e)].values, label='Actual Train Price')\n",
        "plt.plot(df_e[len(train_data_e)+look_back:].index, df_e[len(train_data_e)+look_back:].values, label='Actual Test Price')\n",
        "plt.plot(df_e[look_back:len(train_data_e)].index, train_predict_e, label='Predicted Train Price')\n",
        "plt.plot(df_e[len(train_data_e)+look_back:].index, test_predict_e, label='Predicted Test Price')\n",
        "plt.xlabel('Date')\n",
        "plt.ylabel('Price')\n",
        "plt.title('Bitcoin price prediction for 2023')\n",
        "plt.legend()\n",
        "plt.show()"
      ],
      "metadata": {
        "colab": {
          "base_uri": "https://localhost:8080/",
          "height": 487
        },
        "id": "LIPwQMP2F7a1",
        "outputId": "3c00a16e-7a9f-47fa-ed19-cd9fc732f239"
      },
      "execution_count": null,
      "outputs": [
        {
          "output_type": "display_data",
          "data": {
            "text/plain": [
              "<Figure size 1000x500 with 1 Axes>"
            ],
            "image/png": "[encoded data removed]"
          },
          "metadata": {}
        }
      ]
    },
    {
      "cell_type": "code",
      "source": [
        "# train 및 test 데이터에 대한 예측값 생성\n",
        "train_predict_e = model_e.predict(x_train_e)\n",
        "test_predict_e = model_e.predict(x_test_e)\n",
        "\n",
        "# 스케일링 된 값을 다시 원래 값으로 변환\n",
        "train_predict_e = scaler_e.inverse_transform(train_predict_e)  #inverse_transform() 함수를 이용해 원본값으로 복원가능하다\n",
        "y_train_e = scaler_e.inverse_transform([y_train_e])\n",
        "test_predict_e = scaler_e.inverse_transform(test_predict_e)\n",
        "y_test_e = scaler_e.inverse_transform([y_test_e])\n",
        "\n",
        "\n",
        "train_r2_score_e = r2_score(y_train_e[0], train_predict_e[:,0])\n",
        "test_r2_score_e = r2_score(y_test_e[0], test_predict_e[:,0])\n",
        "\n",
        "\n",
        "# 결과 출력\n",
        "print(\"Train R2 Score_e : \", train_r2_score_e) # train 데이터의 정확도를 알려준다\n",
        "print(\"Test R2 Score_e : \", test_r2_score_e)   # test 데이터의 정확도를 알려준다"
      ],
      "metadata": {
        "colab": {
          "base_uri": "https://localhost:8080/"
        },
        "id": "KVoZpJVdFP18",
        "outputId": "89d23627-e3e1-4051-c1bc-07c4b5aaa517"
      },
      "execution_count": null,
      "outputs": [
        {
          "output_type": "stream",
          "name": "stdout",
          "text": [
            "30/30 [==============================] - 0s 12ms/step\n",
            "6/6 [==============================] - 0s 12ms/step\n",
            "Train R2 Score_e :  0.9920918238838435\n",
            "Test R2 Score_e :  0.9801638396056107\n"
          ]
        }
      ]
    },
    {
      "cell_type": "code",
      "source": [
        "print(model_e.predict([[2023]]))  # 2023년에 예측값이다."
      ],
      "metadata": {
        "colab": {
          "base_uri": "https://localhost:8080/"
        },
        "id": "T81Waz0-FTl4",
        "outputId": "6c5dddf6-afce-46a5-c2ad-9ab8f1996959"
      },
      "execution_count": null,
      "outputs": [
        {
          "output_type": "stream",
          "name": "stdout",
          "text": [
            "1/1 [==============================] - 0s 396ms/step\n",
            "[[5.3140836]]\n"
          ]
        }
      ]
    },
    {
      "cell_type": "markdown",
      "source": [
        "## 5. 일론머스크 (2021년 5월 13일)"
      ],
      "metadata": {
        "id": "sldt3wlBGjs-"
      }
    },
    {
      "cell_type": "code",
      "source": [
        "!pip install finance-datareader # FinanceDataReader에서 데이터를 불러오기 위해 FinanceDataReader를 설치하는 과정"
      ],
      "metadata": {
        "id": "ZWEfvxMQGiOr"
      },
      "execution_count": null,
      "outputs": []
    },
    {
      "cell_type": "code",
      "source": [
        "pip install datetime"
      ],
      "metadata": {
        "id": "FitfJM0AGqJN"
      },
      "execution_count": null,
      "outputs": []
    },
    {
      "cell_type": "code",
      "source": [
        "import pandas as pd\n",
        "import numpy as np\n",
        "import FinanceDataReader as fdr\n",
        "import matplotlib.pyplot as plt\n",
        "import datetime\n",
        "from sklearn.preprocessing import MinMaxScaler\n",
        "from tensorflow.keras.models import Sequential\n",
        "from tensorflow.keras.layers import Dense, GRU\n",
        "from sklearn.metrics import r2_score\n",
        "\n",
        "# 데이터 불러오기\n",
        "start_date_q = \"2018-01-01\"\n",
        "end_date_q = \"2021-12-31\"\n",
        "ticker_q = \"BTC/KRW\"  # 한국거래소에서 비트코인을 가격 데이터 가져오기\n",
        "df_data_q = fdr.DataReader(ticker_q, start_date_q, end_date_q)\n",
        "df_q = pd.DataFrame(fdr.DataReader(ticker_q, start_date_q, end_date_q)['Close'])"
      ],
      "metadata": {
        "id": "IZCRLkNeGr3J"
      },
      "execution_count": null,
      "outputs": []
    },
    {
      "cell_type": "code",
      "source": [
        "df_data_q = fdr.DataReader(ticker_q, start_date_q, end_date_q)\n",
        "df_data_q.head()"
      ],
      "metadata": {
        "colab": {
          "base_uri": "https://localhost:8080/",
          "height": 238
        },
        "id": "3vaiCGxLQaCh",
        "outputId": "da2eea39-6b9e-45a6-e66c-62a7097caca9"
      },
      "execution_count": null,
      "outputs": [
        {
          "output_type": "execute_result",
          "data": {
            "text/plain": [
              "                  Open        High         Low       Close   Adj Close  \\\n",
              "Date                                                                     \n",
              "2018-01-01  15047133.0  15046287.0  14026068.0  14548333.0  14548333.0   \n",
              "2018-01-02  14514031.0  16400157.0  13990142.0  15918331.0  15918331.0   \n",
              "2018-01-03  15914188.0  16565566.0  15788165.0  16172952.0  16172952.0   \n",
              "2018-01-04  16247109.0  16707220.0  15433904.0  16552935.0  16552935.0   \n",
              "2018-01-05  16423476.0  18802922.0  16131843.0  18510128.0  18510128.0   \n",
              "\n",
              "                    Volume  \n",
              "Date                        \n",
              "2018-01-01  10962700800000  \n",
              "2018-01-02  17899344238000  \n",
              "2018-01-03  17950689456200  \n",
              "2018-01-04  23115024576400  \n",
              "2018-01-05  25319034814500  "
            ],
            "text/html": [
              "\n",
              "  <div id=\"df-70d249f4-cb8c-4883-b204-35f9526c605f\">\n",
              "    <div class=\"colab-df-container\">\n",
              "      <div>\n",
              "<style scoped>\n",
              "    .dataframe tbody tr th:only-of-type {\n",
              "        vertical-align: middle;\n",
              "    }\n",
              "\n",
              "    .dataframe tbody tr th {\n",
              "        vertical-align: top;\n",
              "    }\n",
              "\n",
              "    .dataframe thead th {\n",
              "        text-align: right;\n",
              "    }\n",
              "</style>\n",
              "<table border=\"1\" class=\"dataframe\">\n",
              "  <thead>\n",
              "    <tr style=\"text-align: right;\">\n",
              "      <th></th>\n",
              "      <th>Open</th>\n",
              "      <th>High</th>\n",
              "      <th>Low</th>\n",
              "      <th>Close</th>\n",
              "      <th>Adj Close</th>\n",
              "      <th>Volume</th>\n",
              "    </tr>\n",
              "    <tr>\n",
              "      <th>Date</th>\n",
              "      <th></th>\n",
              "      <th></th>\n",
              "      <th></th>\n",
              "      <th></th>\n",
              "      <th></th>\n",
              "      <th></th>\n",
              "    </tr>\n",
              "  </thead>\n",
              "  <tbody>\n",
              "    <tr>\n",
              "      <th>2018-01-01</th>\n",
              "      <td>15047133.0</td>\n",
              "      <td>15046287.0</td>\n",
              "      <td>14026068.0</td>\n",
              "      <td>14548333.0</td>\n",
              "      <td>14548333.0</td>\n",
              "      <td>10962700800000</td>\n",
              "    </tr>\n",
              "    <tr>\n",
              "      <th>2018-01-02</th>\n",
              "      <td>14514031.0</td>\n",
              "      <td>16400157.0</td>\n",
              "      <td>13990142.0</td>\n",
              "      <td>15918331.0</td>\n",
              "      <td>15918331.0</td>\n",
              "      <td>17899344238000</td>\n",
              "    </tr>\n",
              "    <tr>\n",
              "      <th>2018-01-03</th>\n",
              "      <td>15914188.0</td>\n",
              "      <td>16565566.0</td>\n",
              "      <td>15788165.0</td>\n",
              "      <td>16172952.0</td>\n",
              "      <td>16172952.0</td>\n",
              "      <td>17950689456200</td>\n",
              "    </tr>\n",
              "    <tr>\n",
              "      <th>2018-01-04</th>\n",
              "      <td>16247109.0</td>\n",
              "      <td>16707220.0</td>\n",
              "      <td>15433904.0</td>\n",
              "      <td>16552935.0</td>\n",
              "      <td>16552935.0</td>\n",
              "      <td>23115024576400</td>\n",
              "    </tr>\n",
              "    <tr>\n",
              "      <th>2018-01-05</th>\n",
              "      <td>16423476.0</td>\n",
              "      <td>18802922.0</td>\n",
              "      <td>16131843.0</td>\n",
              "      <td>18510128.0</td>\n",
              "      <td>18510128.0</td>\n",
              "      <td>25319034814500</td>\n",
              "    </tr>\n",
              "  </tbody>\n",
              "</table>\n",
              "</div>\n",
              "      <button class=\"colab-df-convert\" onclick=\"convertToInteractive('df-70d249f4-cb8c-4883-b204-35f9526c605f')\"\n",
              "              title=\"Convert this dataframe to an interactive table.\"\n",
              "              style=\"display:none;\">\n",
              "        \n",
              "  <svg xmlns=\"http://www.w3.org/2000/svg\" height=\"24px\"viewBox=\"0 0 24 24\"\n",
              "       width=\"24px\">\n",
              "    <path d=\"M0 0h24v24H0V0z\" fill=\"none\"/>\n",
              "    <path d=\"M18.56 5.44l.94 2.06.94-2.06 2.06-.94-2.06-.94-.94-2.06-.94 2.06-2.06.94zm-11 1L8.5 8.5l.94-2.06 2.06-.94-2.06-.94L8.5 2.5l-.94 2.06-2.06.94zm10 10l.94 2.06.94-2.06 2.06-.94-2.06-.94-.94-2.06-.94 2.06-2.06.94z\"/><path d=\"M17.41 7.96l-1.37-1.37c-.4-.4-.92-.59-1.43-.59-.52 0-1.04.2-1.43.59L10.3 9.45l-7.72 7.72c-.78.78-.78 2.05 0 2.83L4 21.41c.39.39.9.59 1.41.59.51 0 1.02-.2 1.41-.59l7.78-7.78 2.81-2.81c.8-.78.8-2.07 0-2.86zM5.41 20L4 18.59l7.72-7.72 1.47 1.35L5.41 20z\"/>\n",
              "  </svg>\n",
              "      </button>\n",
              "      \n",
              "  <style>\n",
              "    .colab-df-container {\n",
              "      display:flex;\n",
              "      flex-wrap:wrap;\n",
              "      gap: 12px;\n",
              "    }\n",
              "\n",
              "    .colab-df-convert {\n",
              "      background-color: #E8F0FE;\n",
              "      border: none;\n",
              "      border-radius: 50%;\n",
              "      cursor: pointer;\n",
              "      display: none;\n",
              "      fill: #1967D2;\n",
              "      height: 32px;\n",
              "      padding: 0 0 0 0;\n",
              "      width: 32px;\n",
              "    }\n",
              "\n",
              "    .colab-df-convert:hover {\n",
              "      background-color: #E2EBFA;\n",
              "      box-shadow: 0px 1px 2px rgba(60, 64, 67, 0.3), 0px 1px 3px 1px rgba(60, 64, 67, 0.15);\n",
              "      fill: #174EA6;\n",
              "    }\n",
              "\n",
              "    [theme=dark] .colab-df-convert {\n",
              "      background-color: #3B4455;\n",
              "      fill: #D2E3FC;\n",
              "    }\n",
              "\n",
              "    [theme=dark] .colab-df-convert:hover {\n",
              "      background-color: #434B5C;\n",
              "      box-shadow: 0px 1px 3px 1px rgba(0, 0, 0, 0.15);\n",
              "      filter: drop-shadow(0px 1px 2px rgba(0, 0, 0, 0.3));\n",
              "      fill: #FFFFFF;\n",
              "    }\n",
              "  </style>\n",
              "\n",
              "      <script>\n",
              "        const buttonEl =\n",
              "          document.querySelector('#df-70d249f4-cb8c-4883-b204-35f9526c605f button.colab-df-convert');\n",
              "        buttonEl.style.display =\n",
              "          google.colab.kernel.accessAllowed ? 'block' : 'none';\n",
              "\n",
              "        async function convertToInteractive(key) {\n",
              "          const element = document.querySelector('#df-70d249f4-cb8c-4883-b204-35f9526c605f');\n",
              "          const dataTable =\n",
              "            await google.colab.kernel.invokeFunction('convertToInteractive',\n",
              "                                                     [key], {});\n",
              "          if (!dataTable) return;\n",
              "\n",
              "          const docLinkHtml = 'Like what you see? Visit the ' +\n",
              "            '<a target=\"_blank\" href=https://colab.research.google.com/notebooks/data_table.ipynb>data table notebook</a>'\n",
              "            + ' to learn more about interactive tables.';\n",
              "          element.innerHTML = '';\n",
              "          dataTable['output_type'] = 'display_data';\n",
              "          await google.colab.output.renderOutput(dataTable, element);\n",
              "          const docLink = document.createElement('div');\n",
              "          docLink.innerHTML = docLinkHtml;\n",
              "          element.appendChild(docLink);\n",
              "        }\n",
              "      </script>\n",
              "    </div>\n",
              "  </div>\n",
              "  "
            ]
          },
          "metadata": {},
          "execution_count": 102
        }
      ]
    },
    {
      "cell_type": "code",
      "source": [
        "len(df_data_q)"
      ],
      "metadata": {
        "colab": {
          "base_uri": "https://localhost:8080/"
        },
        "id": "vQ9h6vhcQgCA",
        "outputId": "a35cbfe3-e517-435f-b3cd-8b021ab0a3c1"
      },
      "execution_count": null,
      "outputs": [
        {
          "output_type": "execute_result",
          "data": {
            "text/plain": [
              "1461"
            ]
          },
          "metadata": {},
          "execution_count": 103
        }
      ]
    },
    {
      "cell_type": "code",
      "source": [
        "# 데이터 전처리\n",
        "scaler_q = MinMaxScaler()\n",
        "scaled_data_q = scaler_q.fit_transform(df_q) # minmaxScaler는 스케일을 조정하는 정규화 함수로, 모든 데이터가 0과 1사이의 값을 갖도록 해주는 함수이다\n",
        "                          # 따라서 최댓값은 1로, 최솟값은 0으로 데이터의 범위를 조정해준다. 객체생성함"
      ],
      "metadata": {
        "id": "5j2F3fhGG3ag"
      },
      "execution_count": null,
      "outputs": []
    },
    {
      "cell_type": "code",
      "source": [
        "scaler_q"
      ],
      "metadata": {
        "colab": {
          "base_uri": "https://localhost:8080/",
          "height": 75
        },
        "id": "FhbT_JrhQi9T",
        "outputId": "bbe517f2-272c-4f45-e19f-f6059f4c25c5"
      },
      "execution_count": null,
      "outputs": [
        {
          "output_type": "execute_result",
          "data": {
            "text/plain": [
              "MinMaxScaler()"
            ],
            "text/html": [
              "<style>#sk-container-id-5 {color: black;background-color: white;}#sk-container-id-5 pre{padding: 0;}#sk-container-id-5 div.sk-toggleable {background-color: white;}#sk-container-id-5 label.sk-toggleable__label {cursor: pointer;display: block;width: 100%;margin-bottom: 0;padding: 0.3em;box-sizing: border-box;text-align: center;}#sk-container-id-5 label.sk-toggleable__label-arrow:before {content: \"▸\";float: left;margin-right: 0.25em;color: #696969;}#sk-container-id-5 label.sk-toggleable__label-arrow:hover:before {color: black;}#sk-container-id-5 div.sk-estimator:hover label.sk-toggleable__label-arrow:before {color: black;}#sk-container-id-5 div.sk-toggleable__content {max-height: 0;max-width: 0;overflow: hidden;text-align: left;background-color: #f0f8ff;}#sk-container-id-5 div.sk-toggleable__content pre {margin: 0.2em;color: black;border-radius: 0.25em;background-color: #f0f8ff;}#sk-container-id-5 input.sk-toggleable__control:checked~div.sk-toggleable__content {max-height: 200px;max-width: 100%;overflow: auto;}#sk-container-id-5 input.sk-toggleable__control:checked~label.sk-toggleable__label-arrow:before {content: \"▾\";}#sk-container-id-5 div.sk-estimator input.sk-toggleable__control:checked~label.sk-toggleable__label {background-color: #d4ebff;}#sk-container-id-5 div.sk-label input.sk-toggleable__control:checked~label.sk-toggleable__label {background-color: #d4ebff;}#sk-container-id-5 input.sk-hidden--visually {border: 0;clip: rect(1px 1px 1px 1px);clip: rect(1px, 1px, 1px, 1px);height: 1px;margin: -1px;overflow: hidden;padding: 0;position: absolute;width: 1px;}#sk-container-id-5 div.sk-estimator {font-family: monospace;background-color: #f0f8ff;border: 1px dotted black;border-radius: 0.25em;box-sizing: border-box;margin-bottom: 0.5em;}#sk-container-id-5 div.sk-estimator:hover {background-color: #d4ebff;}#sk-container-id-5 div.sk-parallel-item::after {content: \"\";width: 100%;border-bottom: 1px solid gray;flex-grow: 1;}#sk-container-id-5 div.sk-label:hover label.sk-toggleable__label {background-color: #d4ebff;}#sk-container-id-5 div.sk-serial::before {content: \"\";position: absolute;border-left: 1px solid gray;box-sizing: border-box;top: 0;bottom: 0;left: 50%;z-index: 0;}#sk-container-id-5 div.sk-serial {display: flex;flex-direction: column;align-items: center;background-color: white;padding-right: 0.2em;padding-left: 0.2em;position: relative;}#sk-container-id-5 div.sk-item {position: relative;z-index: 1;}#sk-container-id-5 div.sk-parallel {display: flex;align-items: stretch;justify-content: center;background-color: white;position: relative;}#sk-container-id-5 div.sk-item::before, #sk-container-id-5 div.sk-parallel-item::before {content: \"\";position: absolute;border-left: 1px solid gray;box-sizing: border-box;top: 0;bottom: 0;left: 50%;z-index: -1;}#sk-container-id-5 div.sk-parallel-item {display: flex;flex-direction: column;z-index: 1;position: relative;background-color: white;}#sk-container-id-5 div.sk-parallel-item:first-child::after {align-self: flex-end;width: 50%;}#sk-container-id-5 div.sk-parallel-item:last-child::after {align-self: flex-start;width: 50%;}#sk-container-id-5 div.sk-parallel-item:only-child::after {width: 0;}#sk-container-id-5 div.sk-dashed-wrapped {border: 1px dashed gray;margin: 0 0.4em 0.5em 0.4em;box-sizing: border-box;padding-bottom: 0.4em;background-color: white;}#sk-container-id-5 div.sk-label label {font-family: monospace;font-weight: bold;display: inline-block;line-height: 1.2em;}#sk-container-id-5 div.sk-label-container {text-align: center;}#sk-container-id-5 div.sk-container {/* jupyter's `normalize.less` sets `[hidden] { display: none; }` but bootstrap.min.css set `[hidden] { display: none !important; }` so we also need the `!important` here to be able to override the default hidden behavior on the sphinx rendered scikit-learn.org. See: https://github.com/scikit-learn/scikit-learn/issues/21755 */display: inline-block !important;position: relative;}#sk-container-id-5 div.sk-text-repr-fallback {display: none;}</style><div id=\"sk-container-id-5\" class=\"sk-top-container\"><div class=\"sk-text-repr-fallback\"><pre>MinMaxScaler()</pre><b>In a Jupyter environment, please rerun this cell to show the HTML representation or trust the notebook. <br />On GitHub, the HTML representation is unable to render, please try loading this page with nbviewer.org.</b></div><div class=\"sk-container\" hidden><div class=\"sk-item\"><div class=\"sk-estimator sk-toggleable\"><input class=\"sk-toggleable__control sk-hidden--visually\" id=\"sk-estimator-id-5\" type=\"checkbox\" checked><label for=\"sk-estimator-id-5\" class=\"sk-toggleable__label sk-toggleable__label-arrow\">MinMaxScaler</label><div class=\"sk-toggleable__content\"><pre>MinMaxScaler()</pre></div></div></div></div></div>"
            ]
          },
          "metadata": {},
          "execution_count": 104
        }
      ]
    },
    {
      "cell_type": "code",
      "source": [
        "# train, test 데이터 생성\n",
        "\n",
        "train_size_q = int(len(scaled_data_q) * 0.8)   ## 전체 데이터셋 중 80%를 학습 데이터셋으로, 20%를 테스트 데이터셋(검증용) 으로 사용하기 위해서 0.8을 곱했다\n",
        "                                          # 모델 학습 시 과적합을 방지하고 일반화 성능을 높이기 위해 사용된다\n",
        "train_data_q = scaled_data_q[:train_size_q]\n",
        "test_data_q = scaled_data_q[train_size_q:]\n",
        "\n",
        "def create_dataset_q(data, look_back=60): #look_back은 몇 개의 과거 데이터를 사용할 것인지를 표현하는 것이다(기본값이 60이다)\n",
        "    x_q, y_q = [], []        #  for문에서 얻은 모든 입력 데이터(x)와 출력 데이터(y)를 리스트에 추가한다\n",
        "    for i in range(len(data)-look_back):\n",
        "        x_q.append(data[i:(i+look_back), 0])   # i부터 (i+look_back)까지의 데이터를 하나의 입력 데이터 x 로 표현한다.\n",
        "        y_q.append(data[i+look_back, 0])       # i+look_back의 데이터를 출력 데이터 y 로 표현한다.\n",
        "    return np.array(x_q), np.array(y_q)         # 리스트를 numpy 배열로 변환하여 반환\n",
        "\n",
        "# create_dataset()는 시계열 데이터를 RNN 모델에 입력으로 사용하기 위해 입력 데이터와 출력 데이터로 분리하는 함수이다.\n",
        "\n",
        "look_back = 60\n",
        "x_train_q, y_train_q = create_dataset_q(train_data_q, look_back)\n",
        "x_test_q, y_test_q = create_dataset_q(test_data_q, look_back)"
      ],
      "metadata": {
        "id": "jjTr4G8sG5gZ"
      },
      "execution_count": null,
      "outputs": []
    },
    {
      "cell_type": "code",
      "source": [
        "x_train_q"
      ],
      "metadata": {
        "colab": {
          "base_uri": "https://localhost:8080/"
        },
        "id": "jiFk_mlkQlVI",
        "outputId": "ffb15737-79d5-4215-c2a9-3b2d2f356e72"
      },
      "execution_count": null,
      "outputs": [
        {
          "output_type": "execute_result",
          "data": {
            "text/plain": [
              "array([[0.14048103, 0.15816443, 0.16145098, ..., 0.10227909, 0.09835042,\n",
              "        0.10562754],\n",
              "       [0.15816443, 0.16145098, 0.16635566, ..., 0.09835042, 0.10562754,\n",
              "        0.10705619],\n",
              "       [0.16145098, 0.16635566, 0.19161835, ..., 0.10562754, 0.10705619,\n",
              "        0.11267147],\n",
              "       ...,\n",
              "       [0.493835  , 0.45651485, 0.43161973, ..., 0.72179776, 0.75651919,\n",
              "        0.77463487],\n",
              "       [0.45651485, 0.43161973, 0.48160849, ..., 0.75651919, 0.77463487,\n",
              "        0.79577821],\n",
              "       [0.43161973, 0.48160849, 0.5070242 , ..., 0.77463487, 0.79577821,\n",
              "        0.7937226 ]])"
            ]
          },
          "metadata": {},
          "execution_count": 105
        }
      ]
    },
    {
      "cell_type": "code",
      "source": [
        "y_train_q"
      ],
      "metadata": {
        "colab": {
          "base_uri": "https://localhost:8080/"
        },
        "id": "VJS1qiiPQm8S",
        "outputId": "32f3d23d-4bcf-4c9e-cd6a-fe60d479188d"
      },
      "execution_count": null,
      "outputs": [
        {
          "output_type": "execute_result",
          "data": {
            "text/plain": [
              "array([[11958789., 12393825., 12424052., ..., 65316600., 65157344.,\n",
              "        69602152.]])"
            ]
          },
          "metadata": {},
          "execution_count": 106
        }
      ]
    },
    {
      "cell_type": "code",
      "source": [
        "# 모델 생성\n",
        "model_q = Sequential()   # 모델의 객체생성\n",
        "model_q.add(GRU(50, input_shape=(look_back, 1)))   #  50=레이어의 출력 차원, input_shape=입력 데이터의 형태를 정의를 의미한다.\n",
        "                                                  # lock_back=이전 데이터의 갯수만큼 비트코인 가격을 입력으로 받아들이고, 각각의 데이터가 1차원인 것을 의미합니다.\n",
        "\n",
        "model_q.add(Dense(1))   # Dense 는 완전 연결 레이어(층)를 의미한다. 1은 출력의 차원을 의미\n",
        "\n",
        "model_q.compile(loss='mean_squared_error', optimizer='adam')  # compile() 함수를 이용하여 모델을 컴파일합니다\n",
        "                                                             # loss는 손실 함수를 의미한다.\n",
        "                                                             # mean_squared_error(MSE) 는 전체 에러를 표현하기 위해서 사용하는 식이고 오차의 제곱에 대해 평균을 취한 것이다.(수치가 작을 수록 원본과의 오차가 적은 것이다)\n",
        "                                                             # optimizer는  최적화 알고리즘을 정의하는 부분이다. adam(아담) 은 모멘텀+ AdaGrad(아다그라드) 을 합친 것이다\n",
        "\n",
        "# 완전 연결 레이어 : 한 레이어의 모든 뉴런이 그 다음 레이어의 모든 뉴런과 연결된 상태이다.\n",
        "\n",
        "# 모멘텀 : 기울기 방향으로 힘을 받아 물체가 가속된다는 물리법칙을 적용한것이다.\n",
        "# AdaGrad : 학습을 진행하면서 학습률을 점차 줄여가는 방법이다."
      ],
      "metadata": {
        "id": "RtQWTQHmG8AR"
      },
      "execution_count": null,
      "outputs": []
    },
    {
      "cell_type": "code",
      "source": [
        "model_q"
      ],
      "metadata": {
        "colab": {
          "base_uri": "https://localhost:8080/"
        },
        "id": "CxIXbBe0QqGV",
        "outputId": "164df09b-825c-4453-fb3f-f8b134acc316"
      },
      "execution_count": null,
      "outputs": [
        {
          "output_type": "execute_result",
          "data": {
            "text/plain": [
              "<keras.engine.sequential.Sequential at 0x7f26bcf96c20>"
            ]
          },
          "metadata": {},
          "execution_count": 107
        }
      ]
    },
    {
      "cell_type": "code",
      "source": [
        "# 모델 학습\n",
        "model_q.fit(x_train_q, y_train_q, epochs=100, batch_size=64, verbose=2)\n",
        "\n",
        "# x_train : 학습데이터의 입력값   , y_train : 학습데이터의 출력값이다.\n",
        "\n",
        "# 에포크 : 훈련 데이터셋에 포함된 모든 데이터들이 한 번씩 모델을 통과한 횟수 또는 전체 학습 데이터셋에 대한 반복 횟수이다\n",
        "# 에포크가 높을수록 더 많은 반복 학습을 수행하게 되므로 모델이 더 많은 학습을 하게 되어 일반적으로 더 좋은 성능을 낼 수 있습니다\n",
        "\n",
        "# batch_size(배치크기) : 학습을 수행할 때, 몇 개의 데이터를 한 번에 처리할지를 지정한다, 일반적으로 32,64, 128 숫자를 사용한다\n",
        "\n",
        "# verbose : 학습 과정 중 출력되는 문구를 설정합니다. 0일 경우 출력하지 않으며, 1일 경우 학습 진행 상황을 출력하고, 2일 경우 학습 결과만 출력한다"
      ],
      "metadata": {
        "colab": {
          "base_uri": "https://localhost:8080/"
        },
        "id": "_UG0rFYdG-nP",
        "outputId": "37deaa8f-b8d6-479a-fbf3-91cc66dbfd77"
      },
      "execution_count": null,
      "outputs": [
        {
          "output_type": "stream",
          "name": "stdout",
          "text": [
            "Epoch 1/100\n",
            "18/18 - 3s - loss: 0.0178 - 3s/epoch - 156ms/step\n",
            "Epoch 2/100\n",
            "18/18 - 1s - loss: 0.0046 - 585ms/epoch - 33ms/step\n",
            "Epoch 3/100\n",
            "18/18 - 1s - loss: 5.6446e-04 - 610ms/epoch - 34ms/step\n",
            "Epoch 4/100\n",
            "18/18 - 1s - loss: 3.2847e-04 - 586ms/epoch - 33ms/step\n",
            "Epoch 5/100\n",
            "18/18 - 1s - loss: 2.3281e-04 - 589ms/epoch - 33ms/step\n",
            "Epoch 6/100\n",
            "18/18 - 1s - loss: 2.2198e-04 - 605ms/epoch - 34ms/step\n",
            "Epoch 7/100\n",
            "18/18 - 1s - loss: 2.1538e-04 - 593ms/epoch - 33ms/step\n",
            "Epoch 8/100\n",
            "18/18 - 1s - loss: 2.1254e-04 - 586ms/epoch - 33ms/step\n",
            "Epoch 9/100\n",
            "18/18 - 1s - loss: 2.1197e-04 - 595ms/epoch - 33ms/step\n",
            "Epoch 10/100\n",
            "18/18 - 1s - loss: 2.0542e-04 - 596ms/epoch - 33ms/step\n",
            "Epoch 11/100\n",
            "18/18 - 1s - loss: 2.0823e-04 - 570ms/epoch - 32ms/step\n",
            "Epoch 12/100\n",
            "18/18 - 1s - loss: 1.9891e-04 - 956ms/epoch - 53ms/step\n",
            "Epoch 13/100\n",
            "18/18 - 1s - loss: 2.0022e-04 - 969ms/epoch - 54ms/step\n",
            "Epoch 14/100\n",
            "18/18 - 1s - loss: 1.9084e-04 - 622ms/epoch - 35ms/step\n",
            "Epoch 15/100\n",
            "18/18 - 1s - loss: 1.9989e-04 - 567ms/epoch - 32ms/step\n",
            "Epoch 16/100\n",
            "18/18 - 1s - loss: 1.9873e-04 - 578ms/epoch - 32ms/step\n",
            "Epoch 17/100\n",
            "18/18 - 1s - loss: 1.8232e-04 - 606ms/epoch - 34ms/step\n",
            "Epoch 18/100\n",
            "18/18 - 1s - loss: 1.7571e-04 - 570ms/epoch - 32ms/step\n",
            "Epoch 19/100\n",
            "18/18 - 1s - loss: 1.7200e-04 - 585ms/epoch - 33ms/step\n",
            "Epoch 20/100\n",
            "18/18 - 1s - loss: 1.7196e-04 - 584ms/epoch - 32ms/step\n",
            "Epoch 21/100\n",
            "18/18 - 1s - loss: 1.6958e-04 - 585ms/epoch - 32ms/step\n",
            "Epoch 22/100\n",
            "18/18 - 1s - loss: 1.6216e-04 - 587ms/epoch - 33ms/step\n",
            "Epoch 23/100\n",
            "18/18 - 1s - loss: 1.6835e-04 - 582ms/epoch - 32ms/step\n",
            "Epoch 24/100\n",
            "18/18 - 1s - loss: 1.6114e-04 - 613ms/epoch - 34ms/step\n",
            "Epoch 25/100\n",
            "18/18 - 1s - loss: 1.5803e-04 - 572ms/epoch - 32ms/step\n",
            "Epoch 26/100\n",
            "18/18 - 1s - loss: 1.5015e-04 - 574ms/epoch - 32ms/step\n",
            "Epoch 27/100\n",
            "18/18 - 1s - loss: 1.5343e-04 - 566ms/epoch - 31ms/step\n",
            "Epoch 28/100\n",
            "18/18 - 1s - loss: 1.6059e-04 - 588ms/epoch - 33ms/step\n",
            "Epoch 29/100\n",
            "18/18 - 1s - loss: 1.6839e-04 - 595ms/epoch - 33ms/step\n",
            "Epoch 30/100\n",
            "18/18 - 1s - loss: 1.5275e-04 - 578ms/epoch - 32ms/step\n",
            "Epoch 31/100\n",
            "18/18 - 1s - loss: 1.4636e-04 - 910ms/epoch - 51ms/step\n",
            "Epoch 32/100\n",
            "18/18 - 1s - loss: 1.4849e-04 - 999ms/epoch - 56ms/step\n",
            "Epoch 33/100\n",
            "18/18 - 1s - loss: 1.3764e-04 - 671ms/epoch - 37ms/step\n",
            "Epoch 34/100\n",
            "18/18 - 1s - loss: 1.3925e-04 - 570ms/epoch - 32ms/step\n",
            "Epoch 35/100\n",
            "18/18 - 1s - loss: 1.3907e-04 - 597ms/epoch - 33ms/step\n",
            "Epoch 36/100\n",
            "18/18 - 1s - loss: 1.3548e-04 - 613ms/epoch - 34ms/step\n",
            "Epoch 37/100\n",
            "18/18 - 1s - loss: 1.3451e-04 - 601ms/epoch - 33ms/step\n",
            "Epoch 38/100\n",
            "18/18 - 1s - loss: 1.3246e-04 - 576ms/epoch - 32ms/step\n",
            "Epoch 39/100\n",
            "18/18 - 1s - loss: 1.3144e-04 - 576ms/epoch - 32ms/step\n",
            "Epoch 40/100\n",
            "18/18 - 1s - loss: 1.3771e-04 - 600ms/epoch - 33ms/step\n",
            "Epoch 41/100\n",
            "18/18 - 1s - loss: 1.3586e-04 - 583ms/epoch - 32ms/step\n",
            "Epoch 42/100\n",
            "18/18 - 1s - loss: 1.3031e-04 - 584ms/epoch - 32ms/step\n",
            "Epoch 43/100\n",
            "18/18 - 1s - loss: 1.2461e-04 - 594ms/epoch - 33ms/step\n",
            "Epoch 44/100\n",
            "18/18 - 1s - loss: 1.2814e-04 - 592ms/epoch - 33ms/step\n",
            "Epoch 45/100\n",
            "18/18 - 1s - loss: 1.2682e-04 - 590ms/epoch - 33ms/step\n",
            "Epoch 46/100\n",
            "18/18 - 1s - loss: 1.2459e-04 - 595ms/epoch - 33ms/step\n",
            "Epoch 47/100\n",
            "18/18 - 1s - loss: 1.2036e-04 - 578ms/epoch - 32ms/step\n",
            "Epoch 48/100\n",
            "18/18 - 1s - loss: 1.1935e-04 - 603ms/epoch - 33ms/step\n",
            "Epoch 49/100\n",
            "18/18 - 1s - loss: 1.2725e-04 - 618ms/epoch - 34ms/step\n",
            "Epoch 50/100\n",
            "18/18 - 1s - loss: 1.2642e-04 - 966ms/epoch - 54ms/step\n",
            "Epoch 51/100\n",
            "18/18 - 1s - loss: 1.2167e-04 - 944ms/epoch - 52ms/step\n",
            "Epoch 52/100\n",
            "18/18 - 1s - loss: 1.1457e-04 - 590ms/epoch - 33ms/step\n",
            "Epoch 53/100\n",
            "18/18 - 1s - loss: 1.1375e-04 - 598ms/epoch - 33ms/step\n",
            "Epoch 54/100\n",
            "18/18 - 1s - loss: 1.1652e-04 - 586ms/epoch - 33ms/step\n",
            "Epoch 55/100\n",
            "18/18 - 1s - loss: 1.2484e-04 - 605ms/epoch - 34ms/step\n",
            "Epoch 56/100\n",
            "18/18 - 1s - loss: 1.2093e-04 - 588ms/epoch - 33ms/step\n",
            "Epoch 57/100\n",
            "18/18 - 1s - loss: 1.1286e-04 - 588ms/epoch - 33ms/step\n",
            "Epoch 58/100\n",
            "18/18 - 1s - loss: 1.1336e-04 - 585ms/epoch - 33ms/step\n",
            "Epoch 59/100\n",
            "18/18 - 1s - loss: 1.1431e-04 - 586ms/epoch - 33ms/step\n",
            "Epoch 60/100\n",
            "18/18 - 1s - loss: 1.1335e-04 - 588ms/epoch - 33ms/step\n",
            "Epoch 61/100\n",
            "18/18 - 1s - loss: 1.1331e-04 - 579ms/epoch - 32ms/step\n",
            "Epoch 62/100\n",
            "18/18 - 1s - loss: 1.1128e-04 - 574ms/epoch - 32ms/step\n",
            "Epoch 63/100\n",
            "18/18 - 1s - loss: 1.2245e-04 - 581ms/epoch - 32ms/step\n",
            "Epoch 64/100\n",
            "18/18 - 1s - loss: 1.0677e-04 - 609ms/epoch - 34ms/step\n",
            "Epoch 65/100\n",
            "18/18 - 1s - loss: 1.1206e-04 - 588ms/epoch - 33ms/step\n",
            "Epoch 66/100\n",
            "18/18 - 1s - loss: 1.1039e-04 - 590ms/epoch - 33ms/step\n",
            "Epoch 67/100\n",
            "18/18 - 1s - loss: 1.1227e-04 - 590ms/epoch - 33ms/step\n",
            "Epoch 68/100\n",
            "18/18 - 1s - loss: 1.1857e-04 - 664ms/epoch - 37ms/step\n",
            "Epoch 69/100\n",
            "18/18 - 1s - loss: 1.0578e-04 - 983ms/epoch - 55ms/step\n",
            "Epoch 70/100\n",
            "18/18 - 1s - loss: 1.0815e-04 - 869ms/epoch - 48ms/step\n",
            "Epoch 71/100\n",
            "18/18 - 1s - loss: 1.0342e-04 - 622ms/epoch - 35ms/step\n",
            "Epoch 72/100\n",
            "18/18 - 1s - loss: 1.0442e-04 - 600ms/epoch - 33ms/step\n",
            "Epoch 73/100\n",
            "18/18 - 1s - loss: 1.0181e-04 - 577ms/epoch - 32ms/step\n",
            "Epoch 74/100\n",
            "18/18 - 1s - loss: 1.0435e-04 - 580ms/epoch - 32ms/step\n",
            "Epoch 75/100\n",
            "18/18 - 1s - loss: 1.0169e-04 - 575ms/epoch - 32ms/step\n",
            "Epoch 76/100\n",
            "18/18 - 1s - loss: 1.0120e-04 - 581ms/epoch - 32ms/step\n",
            "Epoch 77/100\n",
            "18/18 - 1s - loss: 9.9133e-05 - 574ms/epoch - 32ms/step\n",
            "Epoch 78/100\n",
            "18/18 - 1s - loss: 1.0086e-04 - 597ms/epoch - 33ms/step\n",
            "Epoch 79/100\n",
            "18/18 - 1s - loss: 1.1261e-04 - 588ms/epoch - 33ms/step\n",
            "Epoch 80/100\n",
            "18/18 - 1s - loss: 1.0426e-04 - 576ms/epoch - 32ms/step\n",
            "Epoch 81/100\n",
            "18/18 - 1s - loss: 9.8002e-05 - 578ms/epoch - 32ms/step\n",
            "Epoch 82/100\n",
            "18/18 - 1s - loss: 1.0378e-04 - 562ms/epoch - 31ms/step\n",
            "Epoch 83/100\n",
            "18/18 - 1s - loss: 1.0001e-04 - 585ms/epoch - 32ms/step\n",
            "Epoch 84/100\n",
            "18/18 - 1s - loss: 1.0324e-04 - 586ms/epoch - 33ms/step\n",
            "Epoch 85/100\n",
            "18/18 - 1s - loss: 1.1311e-04 - 588ms/epoch - 33ms/step\n",
            "Epoch 86/100\n",
            "18/18 - 1s - loss: 1.1047e-04 - 598ms/epoch - 33ms/step\n",
            "Epoch 87/100\n",
            "18/18 - 1s - loss: 1.0385e-04 - 705ms/epoch - 39ms/step\n",
            "Epoch 88/100\n",
            "18/18 - 1s - loss: 1.0134e-04 - 995ms/epoch - 55ms/step\n",
            "Epoch 89/100\n",
            "18/18 - 1s - loss: 1.0004e-04 - 832ms/epoch - 46ms/step\n",
            "Epoch 90/100\n",
            "18/18 - 1s - loss: 9.7631e-05 - 587ms/epoch - 33ms/step\n",
            "Epoch 91/100\n",
            "18/18 - 1s - loss: 9.7004e-05 - 567ms/epoch - 31ms/step\n",
            "Epoch 92/100\n",
            "18/18 - 1s - loss: 1.0574e-04 - 586ms/epoch - 33ms/step\n",
            "Epoch 93/100\n",
            "18/18 - 1s - loss: 1.0185e-04 - 596ms/epoch - 33ms/step\n",
            "Epoch 94/100\n",
            "18/18 - 1s - loss: 1.0582e-04 - 589ms/epoch - 33ms/step\n",
            "Epoch 95/100\n",
            "18/18 - 1s - loss: 1.1410e-04 - 580ms/epoch - 32ms/step\n",
            "Epoch 96/100\n",
            "18/18 - 1s - loss: 1.0015e-04 - 583ms/epoch - 32ms/step\n",
            "Epoch 97/100\n",
            "18/18 - 1s - loss: 9.5549e-05 - 594ms/epoch - 33ms/step\n",
            "Epoch 98/100\n",
            "18/18 - 1s - loss: 9.4050e-05 - 605ms/epoch - 34ms/step\n",
            "Epoch 99/100\n",
            "18/18 - 1s - loss: 9.7512e-05 - 596ms/epoch - 33ms/step\n",
            "Epoch 100/100\n",
            "18/18 - 1s - loss: 9.2606e-05 - 592ms/epoch - 33ms/step\n"
          ]
        },
        {
          "output_type": "execute_result",
          "data": {
            "text/plain": [
              "<keras.callbacks.History at 0x7f26bd924b80>"
            ]
          },
          "metadata": {},
          "execution_count": 55
        }
      ]
    },
    {
      "cell_type": "code",
      "source": [
        "# 예측\n",
        "train_predict_q = model_q.predict(x_train_q)\n",
        "test_predict_q = model_q.predict(x_test_q)\n",
        "\n",
        "# model.predict(x_train) 은 학습된 모델을 이용하여 train 데이터에 대한 예측값을 계산한다\n",
        "# mode.predict(x_test) 은 학습된 모델을 이용하여 test 데이터에 대한 예측값을 계산한다."
      ],
      "metadata": {
        "colab": {
          "base_uri": "https://localhost:8080/"
        },
        "id": "vB3s_ABbHCNM",
        "outputId": "fde64121-9c13-42e4-f502-7e80d15c3f2b"
      },
      "execution_count": null,
      "outputs": [
        {
          "output_type": "stream",
          "name": "stdout",
          "text": [
            "35/35 [==============================] - 1s 9ms/step\n",
            "8/8 [==============================] - 0s 8ms/step\n"
          ]
        }
      ]
    },
    {
      "cell_type": "code",
      "source": [
        "import datetime\n",
        "from datetime import datetime\n",
        "\n",
        "# 예측 결과 시각화\n",
        "train_predict_q = scaler_q.inverse_transform(train_predict_q)\n",
        "test_predict_q = scaler_q.inverse_transform(test_predict_q)\n",
        "\n",
        "# train_predict와 test_predict 배열에 NaN 값이 포함되어 있는지 확인하기 위해  np.isnan() 함수를 사용\n",
        "# 만약 NaN 값이 있다면, 이를 np.ma.array() 함수를 사용하여 NaN 값을 마스킹한 배열을 생성한다.\n",
        "# np.ma.array()에서는 평균값을 구할수있다.(조건이 참일때 평균값을 구해서 NaN값으로 대체한다)\n",
        "\n",
        "# train_predict와 test_predict 배열의 값을 scaler.inverse_transform() 함수를 사용하여 스케일링된 값을 원래의 값으로 복원합니다.\n",
        "\n",
        "plt.figure(figsize=(10, 5))\n",
        "\n",
        "# 2021년 5월 13일에 빨간색 세로축을 추가합니다.\n",
        "target_date = datetime(2021, 5, 13)\n",
        "plt.axvline(x=target_date, color='red', linestyle='--')\n",
        "\n",
        "plt.plot(df_q[look_back:len(train_data_q)].index, df_q[look_back:len(train_data_q)].values, label='Actual Train Price')\n",
        "plt.plot(df_q[len(train_data_q)+look_back:].index, df_q[len(train_data_q)+look_back:].values, label='Actual Test Price')\n",
        "plt.plot(df_q[look_back:len(train_data_q)].index, train_predict_q, label='Predicted Train Price')\n",
        "plt.plot(df_q[len(train_data_q)+look_back:].index, test_predict_q, label='Predicted Test Price')\n",
        "plt.xlabel('Date')\n",
        "plt.ylabel('Price')\n",
        "plt.title('Bitcoin price prediction for 05/13/2021')\n",
        "plt.legend()\n",
        "plt.show()"
      ],
      "metadata": {
        "colab": {
          "base_uri": "https://localhost:8080/",
          "height": 487
        },
        "id": "fsyS7KIXHGm3",
        "outputId": "f64f7f1c-7153-4cd4-82b3-394284175203"
      },
      "execution_count": null,
      "outputs": [
        {
          "output_type": "display_data",
          "data": {
            "text/plain": [
              "<Figure size 1000x500 with 1 Axes>"
            ],
            "image/png": "[encoded data removed]"
          },
          "metadata": {}
        }
      ]
    },
    {
      "cell_type": "code",
      "source": [
        "# train 및 test 데이터에 대한 예측값 생성\n",
        "train_predict_q = model_d.predict(x_train_q)\n",
        "test_predict_q = model_d.predict(x_test_q)\n",
        "\n",
        "# 스케일링 된 값을 다시 원래 값으로 변환\n",
        "train_predict_q = scaler_q.inverse_transform(train_predict_q)  #inverse_transform() 함수를 이용해 원본값으로 복원가능하다\n",
        "y_train_q = scaler_q.inverse_transform([y_train_q])\n",
        "test_predict_q = scaler_q.inverse_transform(test_predict_q)\n",
        "y_test_q = scaler_q.inverse_transform([y_test_q])\n",
        "\n",
        "\n",
        "train_r2_score_q= r2_score(y_train_q[0], train_predict_q[:,0])\n",
        "test_r2_score_q = r2_score(y_test_q[0], test_predict_q[:,0])\n",
        "\n",
        "\n",
        "# 결과 출력\n",
        "print(\"Train R2 Score : \", train_r2_score_q)  # train 데이터의 정화도를 알려준다\n",
        "print(\"Test R2 Score : \", test_r2_score_q)    # test 데이터의 정확도를 알려준다"
      ],
      "metadata": {
        "colab": {
          "base_uri": "https://localhost:8080/"
        },
        "id": "wCtHU5J3IXSX",
        "outputId": "1fa8caff-024e-4f13-8869-157e6c2ca52f"
      },
      "execution_count": null,
      "outputs": [
        {
          "output_type": "stream",
          "name": "stdout",
          "text": [
            "35/35 [==============================] - 0s 9ms/step\n",
            "8/8 [==============================] - 0s 8ms/step\n",
            "Train R2 Score :  0.9948347362277279\n",
            "Test R2 Score :  0.972223203467908\n"
          ]
        }
      ]
    },
    {
      "cell_type": "markdown",
      "source": [
        "## 6. 러시아-우크라이나 전쟁 (2022/02/24)"
      ],
      "metadata": {
        "id": "UtIp76vNJCGj"
      }
    },
    {
      "cell_type": "code",
      "source": [
        "!pip install finance-datareader # FinanceDataReader에서 데이터를 불러오기 위해 FinanceDataReader를 설치하는 과정"
      ],
      "metadata": {
        "id": "FW2SHyNIJHAS",
        "colab": {
          "base_uri": "https://localhost:8080/"
        },
        "outputId": "131bf82b-bb40-4434-809c-5738ea424da8"
      },
      "execution_count": null,
      "outputs": [
        {
          "output_type": "stream",
          "name": "stdout",
          "text": [
            "Looking in indexes: https://pypi.org/simple, https://us-python.pkg.dev/colab-wheels/public/simple/\n",
            "Collecting finance-datareader\n",
            "  Downloading finance_datareader-0.9.50-py3-none-any.whl (19 kB)\n",
            "Requirement already satisfied: pandas>=0.19.2 in /usr/local/lib/python3.10/dist-packages (from finance-datareader) (1.5.3)\n",
            "Requirement already satisfied: requests>=2.3.0 in /usr/local/lib/python3.10/dist-packages (from finance-datareader) (2.27.1)\n",
            "Collecting requests-file (from finance-datareader)\n",
            "  Downloading requests_file-1.5.1-py2.py3-none-any.whl (3.7 kB)\n",
            "Requirement already satisfied: lxml in /usr/local/lib/python3.10/dist-packages (from finance-datareader) (4.9.2)\n",
            "Requirement already satisfied: tqdm in /usr/local/lib/python3.10/dist-packages (from finance-datareader) (4.65.0)\n",
            "Requirement already satisfied: python-dateutil>=2.8.1 in /usr/local/lib/python3.10/dist-packages (from pandas>=0.19.2->finance-datareader) (2.8.2)\n",
            "Requirement already satisfied: pytz>=2020.1 in /usr/local/lib/python3.10/dist-packages (from pandas>=0.19.2->finance-datareader) (2022.7.1)\n",
            "Requirement already satisfied: numpy>=1.21.0 in /usr/local/lib/python3.10/dist-packages (from pandas>=0.19.2->finance-datareader) (1.22.4)\n",
            "Requirement already satisfied: urllib3<1.27,>=1.21.1 in /usr/local/lib/python3.10/dist-packages (from requests>=2.3.0->finance-datareader) (1.26.15)\n",
            "Requirement already satisfied: certifi>=2017.4.17 in /usr/local/lib/python3.10/dist-packages (from requests>=2.3.0->finance-datareader) (2022.12.7)\n",
            "Requirement already satisfied: charset-normalizer~=2.0.0 in /usr/local/lib/python3.10/dist-packages (from requests>=2.3.0->finance-datareader) (2.0.12)\n",
            "Requirement already satisfied: idna<4,>=2.5 in /usr/local/lib/python3.10/dist-packages (from requests>=2.3.0->finance-datareader) (3.4)\n",
            "Requirement already satisfied: six in /usr/local/lib/python3.10/dist-packages (from requests-file->finance-datareader) (1.16.0)\n",
            "Installing collected packages: requests-file, finance-datareader\n",
            "Successfully installed finance-datareader-0.9.50 requests-file-1.5.1\n"
          ]
        }
      ]
    },
    {
      "cell_type": "code",
      "source": [
        "pip install datetime"
      ],
      "metadata": {
        "id": "DMx6Pf97JJdq"
      },
      "execution_count": null,
      "outputs": []
    },
    {
      "cell_type": "code",
      "source": [
        "import pandas as pd\n",
        "import numpy as np\n",
        "import FinanceDataReader as fdr\n",
        "import matplotlib.pyplot as plt\n",
        "import datetime\n",
        "from sklearn.preprocessing import MinMaxScaler\n",
        "from tensorflow.keras.models import Sequential\n",
        "from tensorflow.keras.layers import Dense, GRU\n",
        "from sklearn.metrics import r2_score\n",
        "\n",
        "\n",
        "\n",
        "# 데이터 불러오기\n",
        "start_date_f = \"2018-01-01\"\n",
        "end_date_f = \"2022-12-31\"\n",
        "ticker_f = \"BTC/KRW\"  # 한국거래소에서 비트코인을 가격 데이터 가져오기\n",
        "df_data_f = fdr.DataReader(ticker_f, start_date_f, end_date_f)\n",
        "df_f= pd.DataFrame(fdr.DataReader(ticker_f, start_date_f, end_date_f)['Close'])"
      ],
      "metadata": {
        "id": "ZSzqXy7cJLlR"
      },
      "execution_count": null,
      "outputs": []
    },
    {
      "cell_type": "code",
      "source": [
        "df_data_cf= fdr.DataReader(ticker_f, start_date_f, end_date_f)\n",
        "df_data_f.head()"
      ],
      "metadata": {
        "colab": {
          "base_uri": "https://localhost:8080/",
          "height": 238
        },
        "id": "N4jyUIatQ9Dt",
        "outputId": "8948fcb2-7334-4cfa-8aa3-2e379c979b8c"
      },
      "execution_count": null,
      "outputs": [
        {
          "output_type": "execute_result",
          "data": {
            "text/plain": [
              "                  Open        High         Low       Close   Adj Close  \\\n",
              "Date                                                                     \n",
              "2018-01-01  15047133.0  15046287.0  14026068.0  14548333.0  14548333.0   \n",
              "2018-01-02  14514031.0  16400157.0  13990142.0  15918331.0  15918331.0   \n",
              "2018-01-03  15914188.0  16565566.0  15788165.0  16172952.0  16172952.0   \n",
              "2018-01-04  16247109.0  16707220.0  15433904.0  16552935.0  16552935.0   \n",
              "2018-01-05  16423476.0  18802922.0  16131843.0  18510128.0  18510128.0   \n",
              "\n",
              "                    Volume  \n",
              "Date                        \n",
              "2018-01-01  10962700800000  \n",
              "2018-01-02  17899344238000  \n",
              "2018-01-03  17950689456200  \n",
              "2018-01-04  23115024576400  \n",
              "2018-01-05  25319034814500  "
            ],
            "text/html": [
              "\n",
              "  <div id=\"df-093401fc-5329-4650-bf9c-ba5679880545\">\n",
              "    <div class=\"colab-df-container\">\n",
              "      <div>\n",
              "<style scoped>\n",
              "    .dataframe tbody tr th:only-of-type {\n",
              "        vertical-align: middle;\n",
              "    }\n",
              "\n",
              "    .dataframe tbody tr th {\n",
              "        vertical-align: top;\n",
              "    }\n",
              "\n",
              "    .dataframe thead th {\n",
              "        text-align: right;\n",
              "    }\n",
              "</style>\n",
              "<table border=\"1\" class=\"dataframe\">\n",
              "  <thead>\n",
              "    <tr style=\"text-align: right;\">\n",
              "      <th></th>\n",
              "      <th>Open</th>\n",
              "      <th>High</th>\n",
              "      <th>Low</th>\n",
              "      <th>Close</th>\n",
              "      <th>Adj Close</th>\n",
              "      <th>Volume</th>\n",
              "    </tr>\n",
              "    <tr>\n",
              "      <th>Date</th>\n",
              "      <th></th>\n",
              "      <th></th>\n",
              "      <th></th>\n",
              "      <th></th>\n",
              "      <th></th>\n",
              "      <th></th>\n",
              "    </tr>\n",
              "  </thead>\n",
              "  <tbody>\n",
              "    <tr>\n",
              "      <th>2018-01-01</th>\n",
              "      <td>15047133.0</td>\n",
              "      <td>15046287.0</td>\n",
              "      <td>14026068.0</td>\n",
              "      <td>14548333.0</td>\n",
              "      <td>14548333.0</td>\n",
              "      <td>10962700800000</td>\n",
              "    </tr>\n",
              "    <tr>\n",
              "      <th>2018-01-02</th>\n",
              "      <td>14514031.0</td>\n",
              "      <td>16400157.0</td>\n",
              "      <td>13990142.0</td>\n",
              "      <td>15918331.0</td>\n",
              "      <td>15918331.0</td>\n",
              "      <td>17899344238000</td>\n",
              "    </tr>\n",
              "    <tr>\n",
              "      <th>2018-01-03</th>\n",
              "      <td>15914188.0</td>\n",
              "      <td>16565566.0</td>\n",
              "      <td>15788165.0</td>\n",
              "      <td>16172952.0</td>\n",
              "      <td>16172952.0</td>\n",
              "      <td>17950689456200</td>\n",
              "    </tr>\n",
              "    <tr>\n",
              "      <th>2018-01-04</th>\n",
              "      <td>16247109.0</td>\n",
              "      <td>16707220.0</td>\n",
              "      <td>15433904.0</td>\n",
              "      <td>16552935.0</td>\n",
              "      <td>16552935.0</td>\n",
              "      <td>23115024576400</td>\n",
              "    </tr>\n",
              "    <tr>\n",
              "      <th>2018-01-05</th>\n",
              "      <td>16423476.0</td>\n",
              "      <td>18802922.0</td>\n",
              "      <td>16131843.0</td>\n",
              "      <td>18510128.0</td>\n",
              "      <td>18510128.0</td>\n",
              "      <td>25319034814500</td>\n",
              "    </tr>\n",
              "  </tbody>\n",
              "</table>\n",
              "</div>\n",
              "      <button class=\"colab-df-convert\" onclick=\"convertToInteractive('df-093401fc-5329-4650-bf9c-ba5679880545')\"\n",
              "              title=\"Convert this dataframe to an interactive table.\"\n",
              "              style=\"display:none;\">\n",
              "        \n",
              "  <svg xmlns=\"http://www.w3.org/2000/svg\" height=\"24px\"viewBox=\"0 0 24 24\"\n",
              "       width=\"24px\">\n",
              "    <path d=\"M0 0h24v24H0V0z\" fill=\"none\"/>\n",
              "    <path d=\"M18.56 5.44l.94 2.06.94-2.06 2.06-.94-2.06-.94-.94-2.06-.94 2.06-2.06.94zm-11 1L8.5 8.5l.94-2.06 2.06-.94-2.06-.94L8.5 2.5l-.94 2.06-2.06.94zm10 10l.94 2.06.94-2.06 2.06-.94-2.06-.94-.94-2.06-.94 2.06-2.06.94z\"/><path d=\"M17.41 7.96l-1.37-1.37c-.4-.4-.92-.59-1.43-.59-.52 0-1.04.2-1.43.59L10.3 9.45l-7.72 7.72c-.78.78-.78 2.05 0 2.83L4 21.41c.39.39.9.59 1.41.59.51 0 1.02-.2 1.41-.59l7.78-7.78 2.81-2.81c.8-.78.8-2.07 0-2.86zM5.41 20L4 18.59l7.72-7.72 1.47 1.35L5.41 20z\"/>\n",
              "  </svg>\n",
              "      </button>\n",
              "      \n",
              "  <style>\n",
              "    .colab-df-container {\n",
              "      display:flex;\n",
              "      flex-wrap:wrap;\n",
              "      gap: 12px;\n",
              "    }\n",
              "\n",
              "    .colab-df-convert {\n",
              "      background-color: #E8F0FE;\n",
              "      border: none;\n",
              "      border-radius: 50%;\n",
              "      cursor: pointer;\n",
              "      display: none;\n",
              "      fill: #1967D2;\n",
              "      height: 32px;\n",
              "      padding: 0 0 0 0;\n",
              "      width: 32px;\n",
              "    }\n",
              "\n",
              "    .colab-df-convert:hover {\n",
              "      background-color: #E2EBFA;\n",
              "      box-shadow: 0px 1px 2px rgba(60, 64, 67, 0.3), 0px 1px 3px 1px rgba(60, 64, 67, 0.15);\n",
              "      fill: #174EA6;\n",
              "    }\n",
              "\n",
              "    [theme=dark] .colab-df-convert {\n",
              "      background-color: #3B4455;\n",
              "      fill: #D2E3FC;\n",
              "    }\n",
              "\n",
              "    [theme=dark] .colab-df-convert:hover {\n",
              "      background-color: #434B5C;\n",
              "      box-shadow: 0px 1px 3px 1px rgba(0, 0, 0, 0.15);\n",
              "      filter: drop-shadow(0px 1px 2px rgba(0, 0, 0, 0.3));\n",
              "      fill: #FFFFFF;\n",
              "    }\n",
              "  </style>\n",
              "\n",
              "      <script>\n",
              "        const buttonEl =\n",
              "          document.querySelector('#df-093401fc-5329-4650-bf9c-ba5679880545 button.colab-df-convert');\n",
              "        buttonEl.style.display =\n",
              "          google.colab.kernel.accessAllowed ? 'block' : 'none';\n",
              "\n",
              "        async function convertToInteractive(key) {\n",
              "          const element = document.querySelector('#df-093401fc-5329-4650-bf9c-ba5679880545');\n",
              "          const dataTable =\n",
              "            await google.colab.kernel.invokeFunction('convertToInteractive',\n",
              "                                                     [key], {});\n",
              "          if (!dataTable) return;\n",
              "\n",
              "          const docLinkHtml = 'Like what you see? Visit the ' +\n",
              "            '<a target=\"_blank\" href=https://colab.research.google.com/notebooks/data_table.ipynb>data table notebook</a>'\n",
              "            + ' to learn more about interactive tables.';\n",
              "          element.innerHTML = '';\n",
              "          dataTable['output_type'] = 'display_data';\n",
              "          await google.colab.output.renderOutput(dataTable, element);\n",
              "          const docLink = document.createElement('div');\n",
              "          docLink.innerHTML = docLinkHtml;\n",
              "          element.appendChild(docLink);\n",
              "        }\n",
              "      </script>\n",
              "    </div>\n",
              "  </div>\n",
              "  "
            ]
          },
          "metadata": {},
          "execution_count": 3
        }
      ]
    },
    {
      "cell_type": "code",
      "source": [
        "len(df_data_f)"
      ],
      "metadata": {
        "colab": {
          "base_uri": "https://localhost:8080/"
        },
        "id": "Q1s-TYf1RBkA",
        "outputId": "a337c8b2-f285-4064-ce8e-05a976ec26ef"
      },
      "execution_count": null,
      "outputs": [
        {
          "output_type": "execute_result",
          "data": {
            "text/plain": [
              "1826"
            ]
          },
          "metadata": {},
          "execution_count": 109
        }
      ]
    },
    {
      "cell_type": "code",
      "source": [
        "# 데이터 전처리\n",
        "scaler_f = MinMaxScaler()\n",
        "scaled_data_f = scaler_f.fit_transform(df_f) # minmaxScaler는 스케일을 조정하는 정규화 함수로, 모든 데이터가 0과 1사이의 값을 갖도록 해주는 함수이다\n",
        "                          # 따라서 최댓값은 1로, 최솟값은 0으로 데이터의 범위를 조정해준다. 객체생성함"
      ],
      "metadata": {
        "id": "J89PohmeJiQi"
      },
      "execution_count": null,
      "outputs": []
    },
    {
      "cell_type": "code",
      "source": [
        "scaler_f"
      ],
      "metadata": {
        "colab": {
          "base_uri": "https://localhost:8080/",
          "height": 75
        },
        "id": "R__zEYcURD3c",
        "outputId": "1d40f3ee-dc2a-4918-fd1e-ae469efd6f21"
      },
      "execution_count": null,
      "outputs": [
        {
          "output_type": "execute_result",
          "data": {
            "text/plain": [
              "MinMaxScaler()"
            ],
            "text/html": [
              "<style>#sk-container-id-6 {color: black;background-color: white;}#sk-container-id-6 pre{padding: 0;}#sk-container-id-6 div.sk-toggleable {background-color: white;}#sk-container-id-6 label.sk-toggleable__label {cursor: pointer;display: block;width: 100%;margin-bottom: 0;padding: 0.3em;box-sizing: border-box;text-align: center;}#sk-container-id-6 label.sk-toggleable__label-arrow:before {content: \"▸\";float: left;margin-right: 0.25em;color: #696969;}#sk-container-id-6 label.sk-toggleable__label-arrow:hover:before {color: black;}#sk-container-id-6 div.sk-estimator:hover label.sk-toggleable__label-arrow:before {color: black;}#sk-container-id-6 div.sk-toggleable__content {max-height: 0;max-width: 0;overflow: hidden;text-align: left;background-color: #f0f8ff;}#sk-container-id-6 div.sk-toggleable__content pre {margin: 0.2em;color: black;border-radius: 0.25em;background-color: #f0f8ff;}#sk-container-id-6 input.sk-toggleable__control:checked~div.sk-toggleable__content {max-height: 200px;max-width: 100%;overflow: auto;}#sk-container-id-6 input.sk-toggleable__control:checked~label.sk-toggleable__label-arrow:before {content: \"▾\";}#sk-container-id-6 div.sk-estimator input.sk-toggleable__control:checked~label.sk-toggleable__label {background-color: #d4ebff;}#sk-container-id-6 div.sk-label input.sk-toggleable__control:checked~label.sk-toggleable__label {background-color: #d4ebff;}#sk-container-id-6 input.sk-hidden--visually {border: 0;clip: rect(1px 1px 1px 1px);clip: rect(1px, 1px, 1px, 1px);height: 1px;margin: -1px;overflow: hidden;padding: 0;position: absolute;width: 1px;}#sk-container-id-6 div.sk-estimator {font-family: monospace;background-color: #f0f8ff;border: 1px dotted black;border-radius: 0.25em;box-sizing: border-box;margin-bottom: 0.5em;}#sk-container-id-6 div.sk-estimator:hover {background-color: #d4ebff;}#sk-container-id-6 div.sk-parallel-item::after {content: \"\";width: 100%;border-bottom: 1px solid gray;flex-grow: 1;}#sk-container-id-6 div.sk-label:hover label.sk-toggleable__label {background-color: #d4ebff;}#sk-container-id-6 div.sk-serial::before {content: \"\";position: absolute;border-left: 1px solid gray;box-sizing: border-box;top: 0;bottom: 0;left: 50%;z-index: 0;}#sk-container-id-6 div.sk-serial {display: flex;flex-direction: column;align-items: center;background-color: white;padding-right: 0.2em;padding-left: 0.2em;position: relative;}#sk-container-id-6 div.sk-item {position: relative;z-index: 1;}#sk-container-id-6 div.sk-parallel {display: flex;align-items: stretch;justify-content: center;background-color: white;position: relative;}#sk-container-id-6 div.sk-item::before, #sk-container-id-6 div.sk-parallel-item::before {content: \"\";position: absolute;border-left: 1px solid gray;box-sizing: border-box;top: 0;bottom: 0;left: 50%;z-index: -1;}#sk-container-id-6 div.sk-parallel-item {display: flex;flex-direction: column;z-index: 1;position: relative;background-color: white;}#sk-container-id-6 div.sk-parallel-item:first-child::after {align-self: flex-end;width: 50%;}#sk-container-id-6 div.sk-parallel-item:last-child::after {align-self: flex-start;width: 50%;}#sk-container-id-6 div.sk-parallel-item:only-child::after {width: 0;}#sk-container-id-6 div.sk-dashed-wrapped {border: 1px dashed gray;margin: 0 0.4em 0.5em 0.4em;box-sizing: border-box;padding-bottom: 0.4em;background-color: white;}#sk-container-id-6 div.sk-label label {font-family: monospace;font-weight: bold;display: inline-block;line-height: 1.2em;}#sk-container-id-6 div.sk-label-container {text-align: center;}#sk-container-id-6 div.sk-container {/* jupyter's `normalize.less` sets `[hidden] { display: none; }` but bootstrap.min.css set `[hidden] { display: none !important; }` so we also need the `!important` here to be able to override the default hidden behavior on the sphinx rendered scikit-learn.org. See: https://github.com/scikit-learn/scikit-learn/issues/21755 */display: inline-block !important;position: relative;}#sk-container-id-6 div.sk-text-repr-fallback {display: none;}</style><div id=\"sk-container-id-6\" class=\"sk-top-container\"><div class=\"sk-text-repr-fallback\"><pre>MinMaxScaler()</pre><b>In a Jupyter environment, please rerun this cell to show the HTML representation or trust the notebook. <br />On GitHub, the HTML representation is unable to render, please try loading this page with nbviewer.org.</b></div><div class=\"sk-container\" hidden><div class=\"sk-item\"><div class=\"sk-estimator sk-toggleable\"><input class=\"sk-toggleable__control sk-hidden--visually\" id=\"sk-estimator-id-6\" type=\"checkbox\" checked><label for=\"sk-estimator-id-6\" class=\"sk-toggleable__label sk-toggleable__label-arrow\">MinMaxScaler</label><div class=\"sk-toggleable__content\"><pre>MinMaxScaler()</pre></div></div></div></div></div>"
            ]
          },
          "metadata": {},
          "execution_count": 110
        }
      ]
    },
    {
      "cell_type": "code",
      "source": [
        "# train, test 데이터 생성\n",
        "\n",
        "train_size_f = int(len(scaled_data_f) * 0.8)   ## 전체 데이터셋 중 80%를 학습 데이터셋으로, 20%를 테스트 데이터셋(검증용) 으로 사용하기 위해서 0.8을 곱했다\n",
        "                                          # 모델 학습 시 과적합을 방지하고 일반화 성능을 높이기 위해 사용된다\n",
        "train_data_f = scaled_data_f[:train_size_f]\n",
        "test_data_f = scaled_data_f[train_size_f:]\n",
        "\n",
        "def create_dataset_f(data, look_back=60): #look_back은 몇 개의 과거 데이터를 사용할 것인지를 표현하는 것이다(기본값이 60이다)\n",
        "    x_f ,y_f = [], []        #  for문에서 얻은 모든 입력 데이터(x)와 출력 데이터(y)를 리스트에 추가한다\n",
        "    for i in range(len(data)-look_back):\n",
        "        x_f.append(data[i:(i+look_back), 0])   # i부터 (i+look_back)까지의 데이터를 하나의 입력 데이터 x 로 표현한다.\n",
        "        y_f.append(data[i+look_back, 0])       # i+look_back의 데이터를 출력 데이터 y 로 표현한다.\n",
        "    return np.array(x_f), np.array(y_f)         # 리스트를 numpy 배열로 변환하여 반환\n",
        "\n",
        "# create_dataset()는 시계열 데이터를 RNN 모델에 입력으로 사용하기 위해 입력 데이터와 출력 데이터로 분리하는 함수이다.\n",
        "\n",
        "look_back = 60\n",
        "x_train_f, y_train_f = create_dataset_f(train_data_f, look_back)\n",
        "x_test_f, y_test_f = create_dataset_f(test_data_f, look_back)"
      ],
      "metadata": {
        "id": "pHWGKKe7JoCL"
      },
      "execution_count": null,
      "outputs": []
    },
    {
      "cell_type": "code",
      "source": [
        "x_train_f"
      ],
      "metadata": {
        "colab": {
          "base_uri": "https://localhost:8080/"
        },
        "id": "A-Bm4n2QRFxq",
        "outputId": "f324fe16-1b1e-4ed3-8ea1-e8ae4462a420"
      },
      "execution_count": null,
      "outputs": [
        {
          "output_type": "execute_result",
          "data": {
            "text/plain": [
              "array([[0.14048103, 0.15816443, 0.16145098, ..., 0.10227909, 0.09835042,\n",
              "        0.10562754],\n",
              "       [0.15816443, 0.16145098, 0.16635566, ..., 0.09835042, 0.10562754,\n",
              "        0.10705619],\n",
              "       [0.16145098, 0.16635566, 0.19161835, ..., 0.10562754, 0.10705619,\n",
              "        0.11267147],\n",
              "       ...,\n",
              "       [0.89616062, 0.89101885, 0.88237839, ..., 0.72536264, 0.73018275,\n",
              "        0.72834636],\n",
              "       [0.89101885, 0.88237839, 0.87993224, ..., 0.73018275, 0.72834636,\n",
              "        0.68289049],\n",
              "       [0.88237839, 0.87993224, 0.9149793 , ..., 0.72834636, 0.68289049,\n",
              "        0.6629012 ]])"
            ]
          },
          "metadata": {},
          "execution_count": 111
        }
      ]
    },
    {
      "cell_type": "code",
      "source": [
        "y_train_f"
      ],
      "metadata": {
        "colab": {
          "base_uri": "https://localhost:8080/"
        },
        "id": "LRC5qsyqRJPJ",
        "outputId": "925a6c1b-e4cf-4aad-eb64-c77431618d30"
      },
      "execution_count": null,
      "outputs": [
        {
          "output_type": "execute_result",
          "data": {
            "text/plain": [
              "array([[11958789., 12393825., 12424052., ..., 56570776., 55022132.,\n",
              "        56169816.]])"
            ]
          },
          "metadata": {},
          "execution_count": 112
        }
      ]
    },
    {
      "cell_type": "code",
      "source": [
        "# 모델 생성\n",
        "model_f = Sequential()   # 모델의 객체생성\n",
        "model_f.add(GRU(50, input_shape=(look_back, 1)))   #  50=레이어의 출력 차원, input_shape=입력 데이터의 형태를 정의를 의미한다.\n",
        "                                                  # lock_back=이전 데이터의 갯수만큼 비트코인 가격을 입력으로 받아들이고, 각각의 데이터가 1차원인 것을 의미합니다.\n",
        "\n",
        "model_f.add(Dense(1))   # Dense 는 완전 연결 레이어(층)를 의미한다. 1은 출력의 차원을 의미\n",
        "\n",
        "model_f.compile(loss='mean_squared_error', optimizer='adam')  # compile() 함수를 이용하여 모델을 컴파일합니다\n",
        "                                                             # loss는 손실 함수를 의미한다.\n",
        "                                                             # mean_squared_error(MSE) 는 전체 에러를 표현하기 위해서 사용하는 식이고 오차의 제곱에 대해 평균을 취한 것이다.(수치가 작을 수록 원본과의 오차가 적은 것이다)\n",
        "                                                             # optimizer는  최적화 알고리즘을 정의하는 부분이다. adam(아담) 은 모멘텀+ AdaGrad(아다그라드) 을 합친 것이다\n",
        "\n",
        "# 완전 연결 레이어 : 한 레이어의 모든 뉴런이 그 다음 레이어의 모든 뉴런과 연결된 상태이다.\n",
        "\n",
        "# 모멘텀 : 기울기 방향으로 힘을 받아 물체가 가속된다는 물리법칙을 적용한것이다.\n",
        "# AdaGrad : 학습을 진행하면서 학습률을 점차 줄여가는 방법이다."
      ],
      "metadata": {
        "id": "_OZoA3GFJ8y9"
      },
      "execution_count": null,
      "outputs": []
    },
    {
      "cell_type": "code",
      "source": [
        "model_f"
      ],
      "metadata": {
        "colab": {
          "base_uri": "https://localhost:8080/"
        },
        "id": "cIldk_45RMnn",
        "outputId": "1628d433-41dd-4f99-8e9b-bc9bc468cdaa"
      },
      "execution_count": null,
      "outputs": [
        {
          "output_type": "execute_result",
          "data": {
            "text/plain": [
              "<keras.engine.sequential.Sequential at 0x7f26bd453d60>"
            ]
          },
          "metadata": {},
          "execution_count": 113
        }
      ]
    },
    {
      "cell_type": "code",
      "source": [
        "# 모델 학습\n",
        "model_f.fit(x_train_f, y_train_f, epochs=100, batch_size=64, verbose=2)\n",
        "\n",
        "# x_train : 학습데이터의 입력값   , y_train : 학습데이터의 출력값이다.\n",
        "\n",
        "# 에포크 : 훈련 데이터셋에 포함된 모든 데이터들이 한 번씩 모델을 통과한 횟수 또는 전체 학습 데이터셋에 대한 반복 횟수이다\n",
        "# 에포크가 높을수록 더 많은 반복 학습을 수행하게 되므로 모델이 더 많은 학습을 하게 되어 일반적으로 더 좋은 성능을 낼 수 있습니다\n",
        "# 에포크가 높을수록 손실함수의 결과값이 줄어든다\n",
        "\n",
        "# batch_size(배치크기) : 학습을 수행할 때, 몇 개의 데이터를 한 번에 처리할지를 지정한다, 일반적으로 32,64, 128 숫자를 사용한다\n",
        "\n",
        "# verbose : 학습 과정 중 출력되는 문구를 설정합니다. 0일 경우 출력하지 않으며, 1일 경우 학습 진행 상황을 출력하고, 2일 경우 학습 결과만 출력한다"
      ],
      "metadata": {
        "colab": {
          "base_uri": "https://localhost:8080/"
        },
        "id": "A88HyR3DKBZU",
        "outputId": "9dff26e4-5914-40ce-e3ff-ec936f8c0368"
      },
      "execution_count": null,
      "outputs": [
        {
          "output_type": "stream",
          "name": "stdout",
          "text": [
            "Epoch 1/100\n",
            "22/22 - 3s - loss: 0.0375 - 3s/epoch - 146ms/step\n",
            "Epoch 2/100\n",
            "22/22 - 1s - loss: 0.0031 - 610ms/epoch - 28ms/step\n",
            "Epoch 3/100\n",
            "22/22 - 1s - loss: 8.5118e-04 - 644ms/epoch - 29ms/step\n",
            "Epoch 4/100\n",
            "22/22 - 1s - loss: 5.8612e-04 - 648ms/epoch - 29ms/step\n",
            "Epoch 5/100\n",
            "22/22 - 1s - loss: 5.1916e-04 - 614ms/epoch - 28ms/step\n",
            "Epoch 6/100\n",
            "22/22 - 1s - loss: 4.8915e-04 - 977ms/epoch - 44ms/step\n",
            "Epoch 7/100\n",
            "22/22 - 2s - loss: 4.7282e-04 - 2s/epoch - 88ms/step\n",
            "Epoch 8/100\n",
            "22/22 - 1s - loss: 4.5467e-04 - 1s/epoch - 66ms/step\n",
            "Epoch 9/100\n",
            "22/22 - 1s - loss: 4.4315e-04 - 1s/epoch - 54ms/step\n",
            "Epoch 10/100\n",
            "22/22 - 1s - loss: 4.1763e-04 - 1s/epoch - 54ms/step\n",
            "Epoch 11/100\n",
            "22/22 - 1s - loss: 4.1102e-04 - 1s/epoch - 59ms/step\n",
            "Epoch 12/100\n",
            "22/22 - 1s - loss: 3.9410e-04 - 1s/epoch - 60ms/step\n",
            "Epoch 13/100\n",
            "22/22 - 1s - loss: 3.8144e-04 - 1s/epoch - 54ms/step\n",
            "Epoch 14/100\n",
            "22/22 - 1s - loss: 3.7082e-04 - 1s/epoch - 63ms/step\n",
            "Epoch 15/100\n",
            "22/22 - 1s - loss: 3.7173e-04 - 1s/epoch - 62ms/step\n",
            "Epoch 16/100\n",
            "22/22 - 1s - loss: 3.6856e-04 - 1s/epoch - 63ms/step\n",
            "Epoch 17/100\n",
            "22/22 - 2s - loss: 3.5715e-04 - 2s/epoch - 97ms/step\n",
            "Epoch 18/100\n",
            "22/22 - 1s - loss: 3.5081e-04 - 1s/epoch - 59ms/step\n",
            "Epoch 19/100\n",
            "22/22 - 1s - loss: 3.5224e-04 - 1s/epoch - 58ms/step\n",
            "Epoch 20/100\n",
            "22/22 - 1s - loss: 3.5184e-04 - 975ms/epoch - 44ms/step\n",
            "Epoch 21/100\n",
            "22/22 - 1s - loss: 3.3707e-04 - 1s/epoch - 53ms/step\n",
            "Epoch 22/100\n",
            "22/22 - 2s - loss: 3.3410e-04 - 2s/epoch - 86ms/step\n",
            "Epoch 23/100\n",
            "22/22 - 2s - loss: 3.2969e-04 - 2s/epoch - 74ms/step\n",
            "Epoch 24/100\n",
            "22/22 - 1s - loss: 3.3694e-04 - 638ms/epoch - 29ms/step\n",
            "Epoch 25/100\n",
            "22/22 - 1s - loss: 3.2501e-04 - 648ms/epoch - 29ms/step\n",
            "Epoch 26/100\n",
            "22/22 - 1s - loss: 3.1007e-04 - 713ms/epoch - 32ms/step\n",
            "Epoch 27/100\n",
            "22/22 - 1s - loss: 3.0753e-04 - 1s/epoch - 48ms/step\n",
            "Epoch 28/100\n",
            "22/22 - 1s - loss: 3.3228e-04 - 1s/epoch - 48ms/step\n",
            "Epoch 29/100\n",
            "22/22 - 1s - loss: 3.0425e-04 - 793ms/epoch - 36ms/step\n",
            "Epoch 30/100\n",
            "22/22 - 1s - loss: 3.0519e-04 - 639ms/epoch - 29ms/step\n",
            "Epoch 31/100\n",
            "22/22 - 1s - loss: 3.2633e-04 - 623ms/epoch - 28ms/step\n",
            "Epoch 32/100\n",
            "22/22 - 1s - loss: 2.9655e-04 - 640ms/epoch - 29ms/step\n",
            "Epoch 33/100\n",
            "22/22 - 1s - loss: 2.8821e-04 - 636ms/epoch - 29ms/step\n",
            "Epoch 34/100\n",
            "22/22 - 1s - loss: 2.9095e-04 - 628ms/epoch - 29ms/step\n",
            "Epoch 35/100\n",
            "22/22 - 1s - loss: 2.8639e-04 - 634ms/epoch - 29ms/step\n",
            "Epoch 36/100\n",
            "22/22 - 1s - loss: 2.9949e-04 - 645ms/epoch - 29ms/step\n",
            "Epoch 37/100\n",
            "22/22 - 1s - loss: 2.8340e-04 - 639ms/epoch - 29ms/step\n",
            "Epoch 38/100\n",
            "22/22 - 1s - loss: 2.7852e-04 - 673ms/epoch - 31ms/step\n",
            "Epoch 39/100\n",
            "22/22 - 1s - loss: 2.7896e-04 - 654ms/epoch - 30ms/step\n",
            "Epoch 40/100\n",
            "22/22 - 1s - loss: 2.7482e-04 - 631ms/epoch - 29ms/step\n",
            "Epoch 41/100\n",
            "22/22 - 1s - loss: 2.8210e-04 - 647ms/epoch - 29ms/step\n",
            "Epoch 42/100\n",
            "22/22 - 1s - loss: 2.7873e-04 - 676ms/epoch - 31ms/step\n",
            "Epoch 43/100\n",
            "22/22 - 1s - loss: 2.7128e-04 - 630ms/epoch - 29ms/step\n",
            "Epoch 44/100\n",
            "22/22 - 1s - loss: 2.7264e-04 - 669ms/epoch - 30ms/step\n",
            "Epoch 45/100\n",
            "22/22 - 1s - loss: 2.6786e-04 - 1s/epoch - 47ms/step\n",
            "Epoch 46/100\n",
            "22/22 - 1s - loss: 2.8027e-04 - 1s/epoch - 48ms/step\n",
            "Epoch 47/100\n",
            "22/22 - 1s - loss: 2.6912e-04 - 844ms/epoch - 38ms/step\n",
            "Epoch 48/100\n",
            "22/22 - 1s - loss: 2.6683e-04 - 650ms/epoch - 30ms/step\n",
            "Epoch 49/100\n",
            "22/22 - 1s - loss: 2.6542e-04 - 634ms/epoch - 29ms/step\n",
            "Epoch 50/100\n",
            "22/22 - 1s - loss: 2.7477e-04 - 619ms/epoch - 28ms/step\n",
            "Epoch 51/100\n",
            "22/22 - 1s - loss: 2.6464e-04 - 632ms/epoch - 29ms/step\n",
            "Epoch 52/100\n",
            "22/22 - 1s - loss: 2.8204e-04 - 627ms/epoch - 28ms/step\n",
            "Epoch 53/100\n",
            "22/22 - 1s - loss: 2.7496e-04 - 619ms/epoch - 28ms/step\n",
            "Epoch 54/100\n",
            "22/22 - 1s - loss: 2.7540e-04 - 639ms/epoch - 29ms/step\n",
            "Epoch 55/100\n",
            "22/22 - 1s - loss: 2.6344e-04 - 623ms/epoch - 28ms/step\n",
            "Epoch 56/100\n",
            "22/22 - 1s - loss: 2.6365e-04 - 630ms/epoch - 29ms/step\n",
            "Epoch 57/100\n",
            "22/22 - 1s - loss: 2.7396e-04 - 638ms/epoch - 29ms/step\n",
            "Epoch 58/100\n",
            "22/22 - 1s - loss: 2.6401e-04 - 626ms/epoch - 28ms/step\n",
            "Epoch 59/100\n",
            "22/22 - 1s - loss: 2.5454e-04 - 629ms/epoch - 29ms/step\n",
            "Epoch 60/100\n",
            "22/22 - 1s - loss: 2.5023e-04 - 624ms/epoch - 28ms/step\n",
            "Epoch 61/100\n",
            "22/22 - 1s - loss: 2.5761e-04 - 615ms/epoch - 28ms/step\n",
            "Epoch 62/100\n",
            "22/22 - 1s - loss: 2.5766e-04 - 630ms/epoch - 29ms/step\n",
            "Epoch 63/100\n",
            "22/22 - 1s - loss: 2.4590e-04 - 923ms/epoch - 42ms/step\n",
            "Epoch 64/100\n",
            "22/22 - 1s - loss: 2.6297e-04 - 1s/epoch - 47ms/step\n",
            "Epoch 65/100\n",
            "22/22 - 1s - loss: 2.6217e-04 - 994ms/epoch - 45ms/step\n",
            "Epoch 66/100\n",
            "22/22 - 1s - loss: 2.6002e-04 - 612ms/epoch - 28ms/step\n",
            "Epoch 67/100\n",
            "22/22 - 1s - loss: 2.5279e-04 - 649ms/epoch - 29ms/step\n",
            "Epoch 68/100\n",
            "22/22 - 1s - loss: 2.5516e-04 - 639ms/epoch - 29ms/step\n",
            "Epoch 69/100\n",
            "22/22 - 1s - loss: 2.5593e-04 - 648ms/epoch - 29ms/step\n",
            "Epoch 70/100\n",
            "22/22 - 1s - loss: 2.5846e-04 - 643ms/epoch - 29ms/step\n",
            "Epoch 71/100\n",
            "22/22 - 1s - loss: 2.5594e-04 - 618ms/epoch - 28ms/step\n",
            "Epoch 72/100\n",
            "22/22 - 1s - loss: 2.4982e-04 - 669ms/epoch - 30ms/step\n",
            "Epoch 73/100\n",
            "22/22 - 1s - loss: 2.6579e-04 - 639ms/epoch - 29ms/step\n",
            "Epoch 74/100\n",
            "22/22 - 1s - loss: 2.5780e-04 - 621ms/epoch - 28ms/step\n",
            "Epoch 75/100\n",
            "22/22 - 1s - loss: 2.4824e-04 - 630ms/epoch - 29ms/step\n",
            "Epoch 76/100\n",
            "22/22 - 1s - loss: 2.7858e-04 - 638ms/epoch - 29ms/step\n",
            "Epoch 77/100\n",
            "22/22 - 1s - loss: 2.5073e-04 - 620ms/epoch - 28ms/step\n",
            "Epoch 78/100\n",
            "22/22 - 1s - loss: 2.6038e-04 - 647ms/epoch - 29ms/step\n",
            "Epoch 79/100\n",
            "22/22 - 1s - loss: 2.4887e-04 - 663ms/epoch - 30ms/step\n",
            "Epoch 80/100\n",
            "22/22 - 1s - loss: 2.4479e-04 - 626ms/epoch - 28ms/step\n",
            "Epoch 81/100\n",
            "22/22 - 1s - loss: 2.4011e-04 - 850ms/epoch - 39ms/step\n",
            "Epoch 82/100\n",
            "22/22 - 1s - loss: 2.3739e-04 - 1s/epoch - 48ms/step\n",
            "Epoch 83/100\n",
            "22/22 - 1s - loss: 2.7306e-04 - 1s/epoch - 49ms/step\n",
            "Epoch 84/100\n",
            "22/22 - 1s - loss: 2.4364e-04 - 1s/epoch - 50ms/step\n",
            "Epoch 85/100\n",
            "22/22 - 1s - loss: 2.4905e-04 - 659ms/epoch - 30ms/step\n",
            "Epoch 86/100\n",
            "22/22 - 1s - loss: 2.4833e-04 - 614ms/epoch - 28ms/step\n",
            "Epoch 87/100\n",
            "22/22 - 1s - loss: 2.6241e-04 - 625ms/epoch - 28ms/step\n",
            "Epoch 88/100\n",
            "22/22 - 1s - loss: 2.4911e-04 - 628ms/epoch - 29ms/step\n",
            "Epoch 89/100\n",
            "22/22 - 1s - loss: 2.3917e-04 - 620ms/epoch - 28ms/step\n",
            "Epoch 90/100\n",
            "22/22 - 1s - loss: 2.5088e-04 - 650ms/epoch - 30ms/step\n",
            "Epoch 91/100\n",
            "22/22 - 1s - loss: 2.5900e-04 - 622ms/epoch - 28ms/step\n",
            "Epoch 92/100\n",
            "22/22 - 1s - loss: 2.6235e-04 - 625ms/epoch - 28ms/step\n",
            "Epoch 93/100\n",
            "22/22 - 1s - loss: 2.4870e-04 - 630ms/epoch - 29ms/step\n",
            "Epoch 94/100\n",
            "22/22 - 1s - loss: 2.4179e-04 - 622ms/epoch - 28ms/step\n",
            "Epoch 95/100\n",
            "22/22 - 1s - loss: 2.3840e-04 - 631ms/epoch - 29ms/step\n",
            "Epoch 96/100\n",
            "22/22 - 1s - loss: 2.4192e-04 - 610ms/epoch - 28ms/step\n",
            "Epoch 97/100\n",
            "22/22 - 1s - loss: 2.3517e-04 - 623ms/epoch - 28ms/step\n",
            "Epoch 98/100\n",
            "22/22 - 1s - loss: 2.3790e-04 - 619ms/epoch - 28ms/step\n",
            "Epoch 99/100\n",
            "22/22 - 1s - loss: 2.4022e-04 - 999ms/epoch - 45ms/step\n",
            "Epoch 100/100\n",
            "22/22 - 1s - loss: 2.3647e-04 - 1s/epoch - 49ms/step\n"
          ]
        },
        {
          "output_type": "execute_result",
          "data": {
            "text/plain": [
              "<keras.callbacks.History at 0x7f7509afe530>"
            ]
          },
          "metadata": {},
          "execution_count": 7
        }
      ]
    },
    {
      "cell_type": "code",
      "source": [
        "# 예측\n",
        "train_predict_f = model_d.predict(x_train_f)\n",
        "test_predict_f = model_d.predict(x_test_f)\n",
        "\n",
        "# model.predict(x_train) 은 학습된 모델을 이용하여 train 데이터에 대한 예측값을 계산한다\n",
        "# mode.predict(x_test) 은 학습된 모델을 이용하여 test 데이터에 대한 예측값을 계산한다."
      ],
      "metadata": {
        "colab": {
          "base_uri": "https://localhost:8080/"
        },
        "id": "TA8a3PJxKGnR",
        "outputId": "4bd82f20-edb2-4cfc-c68b-9eda2983f2ff"
      },
      "execution_count": null,
      "outputs": [
        {
          "output_type": "stream",
          "name": "stdout",
          "text": [
            "44/44 [==============================] - 0s 8ms/step\n",
            "10/10 [==============================] - 0s 8ms/step\n"
          ]
        }
      ]
    },
    {
      "cell_type": "code",
      "source": [
        "# 예측 결과 시각화\n",
        "train_predict_f = scaler_f.inverse_transform(train_predict_f)\n",
        "test_predict_f = scaler_f.inverse_transform(test_predict_f)\n",
        "\n",
        "# 슬라이딩 윈도우 설정\n",
        "window_size = 30\n",
        "train_ratio = 0.6\n",
        "\n",
        "# 반복을 통한 슬라이딩 윈도우 예측\n",
        "for i in range(0, len(data) - window_size + 1):\n",
        "    # 현재 윈도우에 해당하는 데이터 추출\n",
        "    window_data = data.iloc[i:i+window_size]\n",
        "\n",
        "    # 학습 데이터와 검증 데이터 분리\n",
        "    train_size = int(window_size * train_ratio)\n",
        "    train_data = window_data.iloc[:train_size]\n",
        "    val_data = window_data.iloc[train_size:]\n",
        "\n",
        "    # Prophet 모델 생성 및 학습\n",
        "    model = Prophet()\n",
        "    model.fit(train_data)\n",
        "\n",
        "    # 검증 데이터로 예측 수행\n",
        "    future = model.make_future_dataframe(periods=len(val_data), include_history=False)\n",
        "    forecast = model.predict(future)\n",
        "    print(forecast[['ds', 'yhat']])\n",
        "\n",
        "\n",
        "# train_predict와 test_predict 배열에 NaN 값이 포함되어 있는지 확인하기 위해  np.isnan() 함수를 사용\n",
        "# 만약 NaN 값이 있다면, 이를 np.ma.array() 함수를 사용하여 NaN 값을 마스킹한 배열을 생성한다.\n",
        "# np.ma.array()에서는 평균값을 구할수있다.(조건이 참일때 평균값을 구해서 NaN값으로 대체한다)\n",
        "\n",
        "# train_predict와 test_predict 배열의 값을 scaler.inverse_transform() 함수를 사용하여 스케일링된 값을 원래의 값으로 복원합니다.\n",
        "\n",
        "plt.figure(figsize=(10, 5))\n",
        "\n",
        "# 2022년 2월 24일에 빨간색 세로축을 추가합니다.\n",
        "target_date = datetime.datetime(2022, 2, 24)\n",
        "plt.axvline(x=target_date, color='red', linestyle='--')\n",
        "\n",
        "plt.plot(df_f[look_back:len(train_data_f)].index, df_f[look_back:len(train_data_f)].values, label='Actual Train Price')\n",
        "plt.plot(df_f[len(train_data_f)+look_back:].index, df_f[len(train_data_f)+look_back:].values, label='Actual Test Price')\n",
        "plt.plot(df_f[look_back:len(train_data_f)].index, train_predict_f, label='Predicted Train Price')\n",
        "plt.plot(df_f[len(train_data_f)+look_back:].index, test_predict_f, label='Predicted Test Price')\n",
        "plt.xlabel('Date')\n",
        "plt.ylabel('Price')\n",
        "plt.title('Bitcoin price prediction after the outbreak of war between Ukraine and Russia')\n",
        "plt.legend()\n",
        "plt.show()"
      ],
      "metadata": {
        "id": "Strl__YuOMlE"
      },
      "execution_count": null,
      "outputs": []
    },
    {
      "cell_type": "code",
      "source": [
        "# 예측 결과 시각화\n",
        "train_predict_f = scaler_f.inverse_transform(train_predict_f)\n",
        "test_predict_f = scaler_f.inverse_transform(test_predict_f)\n",
        "\n",
        "\n",
        "# train_predict와 test_predict 배열에 NaN 값이 포함되어 있는지 확인하기 위해  np.isnan() 함수를 사용\n",
        "# 만약 NaN 값이 있다면, 이를 np.ma.array() 함수를 사용하여 NaN 값을 마스킹한 배열을 생성한다.\n",
        "# np.ma.array()에서는 평균값을 구할수있다.(조건이 참일때 평균값을 구해서 NaN값으로 대체한다)\n",
        "\n",
        "# train_predict와 test_predict 배열의 값을 scaler.inverse_transform() 함수를 사용하여 스케일링된 값을 원래의 값으로 복원합니다.\n",
        "\n",
        "plt.figure(figsize=(10, 5))\n",
        "\n",
        "# 2022년 2월 24일에 빨간색 세로축을 추가합니다.\n",
        "target_date = datetime.datetime(2022, 2, 24)\n",
        "plt.axvline(x=target_date, color='red', linestyle='--')\n",
        "\n",
        "plt.plot(df_f[look_back:len(train_data_f)].index, df_f[look_back:len(train_data_f)].values, label='Actual Train Price')\n",
        "plt.plot(df_f[len(train_data_f)+look_back:].index, df_f[len(train_data_f)+look_back:].values, label='Actual Test Price')\n",
        "plt.plot(df_f[look_back:len(train_data_f)].index, train_predict_f, label='Predicted Train Price')\n",
        "plt.plot(df_f[len(train_data_f)+look_back:].index, test_predict_f, label='Predicted Test Price')\n",
        "plt.xlabel('Date')\n",
        "plt.ylabel('Price')\n",
        "plt.title('Bitcoin price prediction after the outbreak of war between Ukraine and Russia')\n",
        "plt.legend()\n",
        "plt.show()"
      ],
      "metadata": {
        "colab": {
          "base_uri": "https://localhost:8080/",
          "height": 487
        },
        "id": "IaYkRtPjKHiq",
        "outputId": "d320d7d1-dcd2-4c6c-fc58-af3145e42a34"
      },
      "execution_count": null,
      "outputs": [
        {
          "output_type": "display_data",
          "data": {
            "text/plain": [
              "<Figure size 1000x500 with 1 Axes>"
            ],
            "image/png": "[encoded data removed]"
          },
          "metadata": {}
        }
      ]
    },
    {
      "cell_type": "code",
      "source": [
        "# train 및 test 데이터에 대한 예측값 생성\n",
        "train_predict_f = model_f.predict(x_train_f)\n",
        "test_predict_f = model_f.predict(x_test_f)\n",
        "\n",
        "# 스케일링 된 값을 다시 원래 값으로 변환\n",
        "train_predict_f = scaler_f.inverse_transform(train_predict_f)  #inverse_transform() 함수를 이용해 원본값으로 복원가능하다\n",
        "y_train_f = scaler_f.inverse_transform([y_train_f])\n",
        "test_predict_f = scaler_f.inverse_transform(test_predict_f)\n",
        "y_test_f = scaler_f.inverse_transform([y_test_f])\n",
        "\n",
        "\n",
        "train_r2_score_f= r2_score(y_train_f[0], train_predict_f[:,0])\n",
        "test_r2_score_f = r2_score(y_test_f[0], test_predict_f[:,0])\n",
        "\n",
        "\n",
        "# 결과 출력\n",
        "print(\"Train R2 Score : \", train_r2_score_f)  # train 데이터의 정확도를 알려준다\n",
        "print(\"Test R2 Score : \", test_r2_score_f)    # test 데이터의 정확도를 알려준다"
      ],
      "metadata": {
        "colab": {
          "base_uri": "https://localhost:8080/"
        },
        "id": "xuDqvYvnKclB",
        "outputId": "6ae24f1d-c130-4a63-ee7c-3f3c3994dc79"
      },
      "execution_count": null,
      "outputs": [
        {
          "output_type": "stream",
          "name": "stdout",
          "text": [
            "44/44 [==============================] - 1s 9ms/step\n",
            "10/10 [==============================] - 0s 8ms/step\n",
            "Train R2 Score :  0.996361774794338\n",
            "Test R2 Score :  0.9869057204875414\n"
          ]
        }
      ]
    }
  ]
}