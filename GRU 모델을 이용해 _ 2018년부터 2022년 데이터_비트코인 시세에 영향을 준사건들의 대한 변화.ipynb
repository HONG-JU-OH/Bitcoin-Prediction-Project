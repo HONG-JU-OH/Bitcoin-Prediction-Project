{
  "nbformat": 4,
  "nbformat_minor": 0,
  "metadata": {
    "colab": {
      "provenance": [],
      "authorship_tag": "ABX9TyPD8OHK2fGnBqi/Jmtx++yg",
      "include_colab_link": true
    },
    "kernelspec": {
      "name": "python3",
      "display_name": "Python 3"
    },
    "language_info": {
      "name": "python"
    }
  },
  "cells": [
    {
      "cell_type": "markdown",
      "metadata": {
        "id": "view-in-github",
        "colab_type": "text"
      },
      "source": [
        "<a href=\"https://colab.research.google.com/github/HONG-JU-OH/Bitcoin-Prediction-Project/blob/main/GRU%20%EB%AA%A8%EB%8D%B8%EC%9D%84%20%EC%9D%B4%EC%9A%A9%ED%95%B4%20_%202018%EB%85%84%EB%B6%80%ED%84%B0%202022%EB%85%84%20%EB%8D%B0%EC%9D%B4%ED%84%B0_%EB%B9%84%ED%8A%B8%EC%BD%94%EC%9D%B8%20%EC%8B%9C%EC%84%B8%EC%97%90%20%EC%98%81%ED%96%A5%EC%9D%84%20%EC%A4%80%EC%82%AC%EA%B1%B4%EB%93%A4%EC%9D%98%20%EB%8C%80%ED%95%9C%20%EB%B3%80%ED%99%94.ipynb\" target=\"_parent\"><img src=\"https://colab.research.google.com/assets/colab-badge.svg\" alt=\"Open In Colab\"/></a>"
      ]
    },
    {
      "cell_type": "markdown",
      "source": [
        "## 1. 2021년 2월 일론머스크 비트코인 투자 언급 전후_ 비트코인 시세 증가요인"
      ],
      "metadata": {
        "id": "ikzbGr4mZFJQ"
      }
    },
    {
      "cell_type": "markdown",
      "source": [
        "### 1.1 데이터 불러오기_ 2018년 1월 1일 부터 2021일 2월 28일의 데이터"
      ],
      "metadata": {
        "id": "2ViTymO6oTad"
      }
    },
    {
      "cell_type": "code",
      "execution_count": null,
      "metadata": {
        "colab": {
          "base_uri": "https://localhost:8080/"
        },
        "id": "uunQBgYqX8j2",
        "outputId": "786a8559-8e72-44e3-f5c0-d928b7d7c054"
      },
      "outputs": [
        {
          "output_type": "stream",
          "name": "stdout",
          "text": [
            "Looking in indexes: https://pypi.org/simple, https://us-python.pkg.dev/colab-wheels/public/simple/\n",
            "Requirement already satisfied: finance-datareader in /usr/local/lib/python3.10/dist-packages (0.9.50)\n",
            "Requirement already satisfied: pandas>=0.19.2 in /usr/local/lib/python3.10/dist-packages (from finance-datareader) (1.5.3)\n",
            "Requirement already satisfied: requests>=2.3.0 in /usr/local/lib/python3.10/dist-packages (from finance-datareader) (2.27.1)\n",
            "Requirement already satisfied: requests-file in /usr/local/lib/python3.10/dist-packages (from finance-datareader) (1.5.1)\n",
            "Requirement already satisfied: lxml in /usr/local/lib/python3.10/dist-packages (from finance-datareader) (4.9.2)\n",
            "Requirement already satisfied: tqdm in /usr/local/lib/python3.10/dist-packages (from finance-datareader) (4.65.0)\n",
            "Requirement already satisfied: python-dateutil>=2.8.1 in /usr/local/lib/python3.10/dist-packages (from pandas>=0.19.2->finance-datareader) (2.8.2)\n",
            "Requirement already satisfied: pytz>=2020.1 in /usr/local/lib/python3.10/dist-packages (from pandas>=0.19.2->finance-datareader) (2022.7.1)\n",
            "Requirement already satisfied: numpy>=1.21.0 in /usr/local/lib/python3.10/dist-packages (from pandas>=0.19.2->finance-datareader) (1.22.4)\n",
            "Requirement already satisfied: urllib3<1.27,>=1.21.1 in /usr/local/lib/python3.10/dist-packages (from requests>=2.3.0->finance-datareader) (1.26.15)\n",
            "Requirement already satisfied: certifi>=2017.4.17 in /usr/local/lib/python3.10/dist-packages (from requests>=2.3.0->finance-datareader) (2022.12.7)\n",
            "Requirement already satisfied: charset-normalizer~=2.0.0 in /usr/local/lib/python3.10/dist-packages (from requests>=2.3.0->finance-datareader) (2.0.12)\n",
            "Requirement already satisfied: idna<4,>=2.5 in /usr/local/lib/python3.10/dist-packages (from requests>=2.3.0->finance-datareader) (3.4)\n",
            "Requirement already satisfied: six in /usr/local/lib/python3.10/dist-packages (from requests-file->finance-datareader) (1.16.0)\n"
          ]
        }
      ],
      "source": [
        "!pip install finance-datareader # FinanceDataReader에서 데이터를 불러오기 위해 FinanceDataReader를 설치하는 과정"
      ]
    },
    {
      "cell_type": "code",
      "source": [
        "import pandas as pd\n",
        "import numpy as np\n",
        "import FinanceDataReader as fdr\n",
        "import matplotlib.pyplot as plt\n",
        "from sklearn.preprocessing import MinMaxScaler\n",
        "from tensorflow.keras.models import Sequential\n",
        "from tensorflow.keras.layers import Dense, GRU\n",
        "from sklearn.metrics import r2_score\n",
        "\n",
        "# 데이터 불러오기\n",
        "start_date = \"2018-01-01\"\n",
        "end_date = \"2022-01-01\"\n",
        "ticker = \"BTC/KRW\"  # 한국거래소에서 비트코인을 가격 데이터 가져오기\n",
        "df_data = fdr.DataReader(ticker, start_date, end_date)\n",
        "df = pd.DataFrame(fdr.DataReader(ticker, start_date, end_date)['Close'])"
      ],
      "metadata": {
        "id": "zXde08aOZTG3"
      },
      "execution_count": null,
      "outputs": []
    },
    {
      "cell_type": "code",
      "source": [
        "df_data = fdr.DataReader(ticker, start_date, end_date)\n",
        "df_data.head()"
      ],
      "metadata": {
        "colab": {
          "base_uri": "https://localhost:8080/",
          "height": 238
        },
        "id": "w8ZOX2u9Z0Th",
        "outputId": "4f30be7d-c31f-467e-a9f3-0557fab60e78"
      },
      "execution_count": null,
      "outputs": [
        {
          "output_type": "execute_result",
          "data": {
            "text/plain": [
              "                  Open        High         Low       Close   Adj Close  \\\n",
              "Date                                                                     \n",
              "2018-01-01  15047133.0  15046287.0  14026068.0  14548333.0  14548333.0   \n",
              "2018-01-02  14514031.0  16400157.0  13990142.0  15918331.0  15918331.0   \n",
              "2018-01-03  15914188.0  16565566.0  15788165.0  16172952.0  16172952.0   \n",
              "2018-01-04  16247109.0  16707220.0  15433904.0  16552935.0  16552935.0   \n",
              "2018-01-05  16423476.0  18802922.0  16131843.0  18510128.0  18510128.0   \n",
              "\n",
              "                    Volume  \n",
              "Date                        \n",
              "2018-01-01  10962700800000  \n",
              "2018-01-02  17899344238000  \n",
              "2018-01-03  17950689456200  \n",
              "2018-01-04  23115024576400  \n",
              "2018-01-05  25319034814500  "
            ],
            "text/html": [
              "\n",
              "  <div id=\"df-920f6611-e292-4434-ba7a-e673072d9969\">\n",
              "    <div class=\"colab-df-container\">\n",
              "      <div>\n",
              "<style scoped>\n",
              "    .dataframe tbody tr th:only-of-type {\n",
              "        vertical-align: middle;\n",
              "    }\n",
              "\n",
              "    .dataframe tbody tr th {\n",
              "        vertical-align: top;\n",
              "    }\n",
              "\n",
              "    .dataframe thead th {\n",
              "        text-align: right;\n",
              "    }\n",
              "</style>\n",
              "<table border=\"1\" class=\"dataframe\">\n",
              "  <thead>\n",
              "    <tr style=\"text-align: right;\">\n",
              "      <th></th>\n",
              "      <th>Open</th>\n",
              "      <th>High</th>\n",
              "      <th>Low</th>\n",
              "      <th>Close</th>\n",
              "      <th>Adj Close</th>\n",
              "      <th>Volume</th>\n",
              "    </tr>\n",
              "    <tr>\n",
              "      <th>Date</th>\n",
              "      <th></th>\n",
              "      <th></th>\n",
              "      <th></th>\n",
              "      <th></th>\n",
              "      <th></th>\n",
              "      <th></th>\n",
              "    </tr>\n",
              "  </thead>\n",
              "  <tbody>\n",
              "    <tr>\n",
              "      <th>2018-01-01</th>\n",
              "      <td>15047133.0</td>\n",
              "      <td>15046287.0</td>\n",
              "      <td>14026068.0</td>\n",
              "      <td>14548333.0</td>\n",
              "      <td>14548333.0</td>\n",
              "      <td>10962700800000</td>\n",
              "    </tr>\n",
              "    <tr>\n",
              "      <th>2018-01-02</th>\n",
              "      <td>14514031.0</td>\n",
              "      <td>16400157.0</td>\n",
              "      <td>13990142.0</td>\n",
              "      <td>15918331.0</td>\n",
              "      <td>15918331.0</td>\n",
              "      <td>17899344238000</td>\n",
              "    </tr>\n",
              "    <tr>\n",
              "      <th>2018-01-03</th>\n",
              "      <td>15914188.0</td>\n",
              "      <td>16565566.0</td>\n",
              "      <td>15788165.0</td>\n",
              "      <td>16172952.0</td>\n",
              "      <td>16172952.0</td>\n",
              "      <td>17950689456200</td>\n",
              "    </tr>\n",
              "    <tr>\n",
              "      <th>2018-01-04</th>\n",
              "      <td>16247109.0</td>\n",
              "      <td>16707220.0</td>\n",
              "      <td>15433904.0</td>\n",
              "      <td>16552935.0</td>\n",
              "      <td>16552935.0</td>\n",
              "      <td>23115024576400</td>\n",
              "    </tr>\n",
              "    <tr>\n",
              "      <th>2018-01-05</th>\n",
              "      <td>16423476.0</td>\n",
              "      <td>18802922.0</td>\n",
              "      <td>16131843.0</td>\n",
              "      <td>18510128.0</td>\n",
              "      <td>18510128.0</td>\n",
              "      <td>25319034814500</td>\n",
              "    </tr>\n",
              "  </tbody>\n",
              "</table>\n",
              "</div>\n",
              "      <button class=\"colab-df-convert\" onclick=\"convertToInteractive('df-920f6611-e292-4434-ba7a-e673072d9969')\"\n",
              "              title=\"Convert this dataframe to an interactive table.\"\n",
              "              style=\"display:none;\">\n",
              "        \n",
              "  <svg xmlns=\"http://www.w3.org/2000/svg\" height=\"24px\"viewBox=\"0 0 24 24\"\n",
              "       width=\"24px\">\n",
              "    <path d=\"M0 0h24v24H0V0z\" fill=\"none\"/>\n",
              "    <path d=\"M18.56 5.44l.94 2.06.94-2.06 2.06-.94-2.06-.94-.94-2.06-.94 2.06-2.06.94zm-11 1L8.5 8.5l.94-2.06 2.06-.94-2.06-.94L8.5 2.5l-.94 2.06-2.06.94zm10 10l.94 2.06.94-2.06 2.06-.94-2.06-.94-.94-2.06-.94 2.06-2.06.94z\"/><path d=\"M17.41 7.96l-1.37-1.37c-.4-.4-.92-.59-1.43-.59-.52 0-1.04.2-1.43.59L10.3 9.45l-7.72 7.72c-.78.78-.78 2.05 0 2.83L4 21.41c.39.39.9.59 1.41.59.51 0 1.02-.2 1.41-.59l7.78-7.78 2.81-2.81c.8-.78.8-2.07 0-2.86zM5.41 20L4 18.59l7.72-7.72 1.47 1.35L5.41 20z\"/>\n",
              "  </svg>\n",
              "      </button>\n",
              "      \n",
              "  <style>\n",
              "    .colab-df-container {\n",
              "      display:flex;\n",
              "      flex-wrap:wrap;\n",
              "      gap: 12px;\n",
              "    }\n",
              "\n",
              "    .colab-df-convert {\n",
              "      background-color: #E8F0FE;\n",
              "      border: none;\n",
              "      border-radius: 50%;\n",
              "      cursor: pointer;\n",
              "      display: none;\n",
              "      fill: #1967D2;\n",
              "      height: 32px;\n",
              "      padding: 0 0 0 0;\n",
              "      width: 32px;\n",
              "    }\n",
              "\n",
              "    .colab-df-convert:hover {\n",
              "      background-color: #E2EBFA;\n",
              "      box-shadow: 0px 1px 2px rgba(60, 64, 67, 0.3), 0px 1px 3px 1px rgba(60, 64, 67, 0.15);\n",
              "      fill: #174EA6;\n",
              "    }\n",
              "\n",
              "    [theme=dark] .colab-df-convert {\n",
              "      background-color: #3B4455;\n",
              "      fill: #D2E3FC;\n",
              "    }\n",
              "\n",
              "    [theme=dark] .colab-df-convert:hover {\n",
              "      background-color: #434B5C;\n",
              "      box-shadow: 0px 1px 3px 1px rgba(0, 0, 0, 0.15);\n",
              "      filter: drop-shadow(0px 1px 2px rgba(0, 0, 0, 0.3));\n",
              "      fill: #FFFFFF;\n",
              "    }\n",
              "  </style>\n",
              "\n",
              "      <script>\n",
              "        const buttonEl =\n",
              "          document.querySelector('#df-920f6611-e292-4434-ba7a-e673072d9969 button.colab-df-convert');\n",
              "        buttonEl.style.display =\n",
              "          google.colab.kernel.accessAllowed ? 'block' : 'none';\n",
              "\n",
              "        async function convertToInteractive(key) {\n",
              "          const element = document.querySelector('#df-920f6611-e292-4434-ba7a-e673072d9969');\n",
              "          const dataTable =\n",
              "            await google.colab.kernel.invokeFunction('convertToInteractive',\n",
              "                                                     [key], {});\n",
              "          if (!dataTable) return;\n",
              "\n",
              "          const docLinkHtml = 'Like what you see? Visit the ' +\n",
              "            '<a target=\"_blank\" href=https://colab.research.google.com/notebooks/data_table.ipynb>data table notebook</a>'\n",
              "            + ' to learn more about interactive tables.';\n",
              "          element.innerHTML = '';\n",
              "          dataTable['output_type'] = 'display_data';\n",
              "          await google.colab.output.renderOutput(dataTable, element);\n",
              "          const docLink = document.createElement('div');\n",
              "          docLink.innerHTML = docLinkHtml;\n",
              "          element.appendChild(docLink);\n",
              "        }\n",
              "      </script>\n",
              "    </div>\n",
              "  </div>\n",
              "  "
            ]
          },
          "metadata": {},
          "execution_count": 3
        }
      ]
    },
    {
      "cell_type": "code",
      "source": [
        "df_data.to_csv(\"musk_bitcoin.csv\", index = False)  # df_data을 csv파일로 저장"
      ],
      "metadata": {
        "id": "0M5LeAVusK0J"
      },
      "execution_count": null,
      "outputs": []
    },
    {
      "cell_type": "code",
      "source": [
        "len(df_data) # 전체 데이터의 갯수"
      ],
      "metadata": {
        "colab": {
          "base_uri": "https://localhost:8080/"
        },
        "id": "zfV31Er8qvPm",
        "outputId": "5b556d94-e7c3-4281-a57a-cd9a0bd375a7"
      },
      "execution_count": null,
      "outputs": [
        {
          "output_type": "execute_result",
          "data": {
            "text/plain": [
              "1155"
            ]
          },
          "metadata": {},
          "execution_count": 64
        }
      ]
    },
    {
      "cell_type": "markdown",
      "source": [
        "### 1-2. 데이터 전처리"
      ],
      "metadata": {
        "id": "ajtAJTLPpZS1"
      }
    },
    {
      "cell_type": "code",
      "source": [
        "# 데이터 전처리\n",
        "scaler = MinMaxScaler()\n",
        "scaled_data = scaler.fit_transform(df_data) # minmaxScaler는 스케일을 조정하는 정규화 함수로, 모든 데이터가 0과 1사이의 값을 갖도록 해주는 함수이다\n",
        "                          # 따라서 최댓값은 1로, 최솟값은 0으로 데이터의 범위를 조정해준다. 객체생성함"
      ],
      "metadata": {
        "id": "_lLgUa0rZ3-i"
      },
      "execution_count": null,
      "outputs": []
    },
    {
      "cell_type": "code",
      "source": [
        "scaler"
      ],
      "metadata": {
        "colab": {
          "base_uri": "https://localhost:8080/",
          "height": 75
        },
        "id": "B_OsOzJvrEhZ",
        "outputId": "3767ea3e-8275-4894-a411-639c40aecf09"
      },
      "execution_count": null,
      "outputs": [
        {
          "output_type": "execute_result",
          "data": {
            "text/plain": [
              "MinMaxScaler()"
            ],
            "text/html": [
              "<style>#sk-container-id-1 {color: black;background-color: white;}#sk-container-id-1 pre{padding: 0;}#sk-container-id-1 div.sk-toggleable {background-color: white;}#sk-container-id-1 label.sk-toggleable__label {cursor: pointer;display: block;width: 100%;margin-bottom: 0;padding: 0.3em;box-sizing: border-box;text-align: center;}#sk-container-id-1 label.sk-toggleable__label-arrow:before {content: \"▸\";float: left;margin-right: 0.25em;color: #696969;}#sk-container-id-1 label.sk-toggleable__label-arrow:hover:before {color: black;}#sk-container-id-1 div.sk-estimator:hover label.sk-toggleable__label-arrow:before {color: black;}#sk-container-id-1 div.sk-toggleable__content {max-height: 0;max-width: 0;overflow: hidden;text-align: left;background-color: #f0f8ff;}#sk-container-id-1 div.sk-toggleable__content pre {margin: 0.2em;color: black;border-radius: 0.25em;background-color: #f0f8ff;}#sk-container-id-1 input.sk-toggleable__control:checked~div.sk-toggleable__content {max-height: 200px;max-width: 100%;overflow: auto;}#sk-container-id-1 input.sk-toggleable__control:checked~label.sk-toggleable__label-arrow:before {content: \"▾\";}#sk-container-id-1 div.sk-estimator input.sk-toggleable__control:checked~label.sk-toggleable__label {background-color: #d4ebff;}#sk-container-id-1 div.sk-label input.sk-toggleable__control:checked~label.sk-toggleable__label {background-color: #d4ebff;}#sk-container-id-1 input.sk-hidden--visually {border: 0;clip: rect(1px 1px 1px 1px);clip: rect(1px, 1px, 1px, 1px);height: 1px;margin: -1px;overflow: hidden;padding: 0;position: absolute;width: 1px;}#sk-container-id-1 div.sk-estimator {font-family: monospace;background-color: #f0f8ff;border: 1px dotted black;border-radius: 0.25em;box-sizing: border-box;margin-bottom: 0.5em;}#sk-container-id-1 div.sk-estimator:hover {background-color: #d4ebff;}#sk-container-id-1 div.sk-parallel-item::after {content: \"\";width: 100%;border-bottom: 1px solid gray;flex-grow: 1;}#sk-container-id-1 div.sk-label:hover label.sk-toggleable__label {background-color: #d4ebff;}#sk-container-id-1 div.sk-serial::before {content: \"\";position: absolute;border-left: 1px solid gray;box-sizing: border-box;top: 0;bottom: 0;left: 50%;z-index: 0;}#sk-container-id-1 div.sk-serial {display: flex;flex-direction: column;align-items: center;background-color: white;padding-right: 0.2em;padding-left: 0.2em;position: relative;}#sk-container-id-1 div.sk-item {position: relative;z-index: 1;}#sk-container-id-1 div.sk-parallel {display: flex;align-items: stretch;justify-content: center;background-color: white;position: relative;}#sk-container-id-1 div.sk-item::before, #sk-container-id-1 div.sk-parallel-item::before {content: \"\";position: absolute;border-left: 1px solid gray;box-sizing: border-box;top: 0;bottom: 0;left: 50%;z-index: -1;}#sk-container-id-1 div.sk-parallel-item {display: flex;flex-direction: column;z-index: 1;position: relative;background-color: white;}#sk-container-id-1 div.sk-parallel-item:first-child::after {align-self: flex-end;width: 50%;}#sk-container-id-1 div.sk-parallel-item:last-child::after {align-self: flex-start;width: 50%;}#sk-container-id-1 div.sk-parallel-item:only-child::after {width: 0;}#sk-container-id-1 div.sk-dashed-wrapped {border: 1px dashed gray;margin: 0 0.4em 0.5em 0.4em;box-sizing: border-box;padding-bottom: 0.4em;background-color: white;}#sk-container-id-1 div.sk-label label {font-family: monospace;font-weight: bold;display: inline-block;line-height: 1.2em;}#sk-container-id-1 div.sk-label-container {text-align: center;}#sk-container-id-1 div.sk-container {/* jupyter's `normalize.less` sets `[hidden] { display: none; }` but bootstrap.min.css set `[hidden] { display: none !important; }` so we also need the `!important` here to be able to override the default hidden behavior on the sphinx rendered scikit-learn.org. See: https://github.com/scikit-learn/scikit-learn/issues/21755 */display: inline-block !important;position: relative;}#sk-container-id-1 div.sk-text-repr-fallback {display: none;}</style><div id=\"sk-container-id-1\" class=\"sk-top-container\"><div class=\"sk-text-repr-fallback\"><pre>MinMaxScaler()</pre><b>In a Jupyter environment, please rerun this cell to show the HTML representation or trust the notebook. <br />On GitHub, the HTML representation is unable to render, please try loading this page with nbviewer.org.</b></div><div class=\"sk-container\" hidden><div class=\"sk-item\"><div class=\"sk-estimator sk-toggleable\"><input class=\"sk-toggleable__control sk-hidden--visually\" id=\"sk-estimator-id-1\" type=\"checkbox\" checked><label for=\"sk-estimator-id-1\" class=\"sk-toggleable__label sk-toggleable__label-arrow\">MinMaxScaler</label><div class=\"sk-toggleable__content\"><pre>MinMaxScaler()</pre></div></div></div></div></div>"
            ]
          },
          "metadata": {},
          "execution_count": 15
        }
      ]
    },
    {
      "cell_type": "code",
      "source": [
        "scaled_data"
      ],
      "metadata": {
        "colab": {
          "base_uri": "https://localhost:8080/"
        },
        "id": "Duutn2J0rGAm",
        "outputId": "7ee0ba58-dd74-414c-a67a-686fc8ad41a1"
      },
      "execution_count": null,
      "outputs": [
        {
          "output_type": "execute_result",
          "data": {
            "text/plain": [
              "array([[0.18985845, 0.18643403, 0.17962499, 0.18152648, 0.18152648,\n",
              "        0.01957094],\n",
              "       [0.18096556, 0.20869944, 0.17900516, 0.20437658, 0.20437658,\n",
              "        0.0372894 ],\n",
              "       [0.20432215, 0.21141972, 0.21002621, 0.20862339, 0.20862339,\n",
              "        0.03742055],\n",
              "       ...,\n",
              "       [0.82001738, 0.83669141, 0.80051012, 0.80828527, 0.80828527,\n",
              "        1.        ],\n",
              "       [0.80848378, 0.83163999, 0.81618166, 0.80544652, 0.80544652,\n",
              "        0.12348391],\n",
              "       [0.80565495, 0.80320949, 0.77683532, 0.78574496, 0.78574496,\n",
              "        0.14513019]])"
            ]
          },
          "metadata": {},
          "execution_count": 70
        }
      ]
    },
    {
      "cell_type": "markdown",
      "source": [
        "### 1-3. train, test 데이터 생성"
      ],
      "metadata": {
        "id": "hYOIYkN0pbet"
      }
    },
    {
      "cell_type": "code",
      "source": [
        "# train, test 데이터 생성\n",
        "\n",
        "train_size = int(len(scaled_data) * 0.8)   ## 전체 데이터셋 중 80%를 학습 데이터셋으로, 20%를 테스트 데이터셋(검증용) 으로 사용하기 위해서 0.8을 곱했다\n",
        "                                          # 모델 학습 시 과적합을 방지하고 일반화 성능을 높이기 위해 사용된다\n",
        "train_data = scaled_data[:train_size]\n",
        "test_data = scaled_data[train_size:]\n",
        "\n",
        "def create_dataset(data, look_back=60): #look_back은 몇 개의 과거 데이터를 사용할 것인지를 표현하는 것이다(기본값이 60이다)\n",
        "    x, y = [], []        #  for문에서 얻은 모든 입력 데이터(x)와 출력 데이터(y)를 리스트에 추가한다\n",
        "    for i in range(len(data)-look_back):\n",
        "        x.append(data[i:(i+look_back), 0])   # i부터 (i+look_back)까지의 데이터를 하나의 입력 데이터 x 로 표현한다.\n",
        "        y.append(data[i+look_back, 0])       # i+look_back의 데이터를 출력 데이터 y 로 표현한다.\n",
        "    return np.array(x), np.array(y)         # 리스트를 numpy 배열로 변환하여 반환\n",
        "\n",
        "# create_dataset()는 시계열 데이터를 RNN 모델에 입력으로 사용하기 위해 입력 데이터와 출력 데이터로 분리하는 함수이다.\n",
        "\n",
        "look_back = 60\n",
        "x_train, y_train = create_dataset(train_data, look_back)\n",
        "x_test, y_test = create_dataset(test_data, look_back)"
      ],
      "metadata": {
        "id": "HjOBKM5BZ5T6"
      },
      "execution_count": null,
      "outputs": []
    },
    {
      "cell_type": "code",
      "source": [
        "train_data"
      ],
      "metadata": {
        "colab": {
          "base_uri": "https://localhost:8080/"
        },
        "id": "8s0j2rOzrHzd",
        "outputId": "783f0372-00c2-470d-f806-a0f333f7afa0"
      },
      "execution_count": null,
      "outputs": [
        {
          "output_type": "execute_result",
          "data": {
            "text/plain": [
              "array([[0.18985845, 0.18643403, 0.17962499, 0.18152648, 0.18152648,\n",
              "        0.01957094],\n",
              "       [0.18096556, 0.20869944, 0.17900516, 0.20437658, 0.20437658,\n",
              "        0.0372894 ],\n",
              "       [0.20432215, 0.21141972, 0.21002621, 0.20862339, 0.20862339,\n",
              "        0.03742055],\n",
              "       ...,\n",
              "       [0.12398261, 0.12237467, 0.1269542 , 0.12469068, 0.12469068,\n",
              "        0.0432763 ],\n",
              "       [0.12466758, 0.12249434, 0.12820084, 0.12391431, 0.12391431,\n",
              "        0.03220313],\n",
              "       [0.12393123, 0.12299936, 0.12815235, 0.12462281, 0.12462281,\n",
              "        0.03588709]])"
            ]
          },
          "metadata": {},
          "execution_count": 71
        }
      ]
    },
    {
      "cell_type": "code",
      "source": [
        "test_data"
      ],
      "metadata": {
        "colab": {
          "base_uri": "https://localhost:8080/"
        },
        "id": "2ZMRTqWorIgH",
        "outputId": "eda11d44-d502-4a58-fc8c-43884947bb0d"
      },
      "execution_count": null,
      "outputs": [
        {
          "output_type": "execute_result",
          "data": {
            "text/plain": [
              "array([[0.12463975, 0.12272633, 0.12913726, 0.12448079, 0.12448079,\n",
              "        0.04544343],\n",
              "       [0.12438498, 0.12302365, 0.1285106 , 0.12464388, 0.12464388,\n",
              "        0.0472328 ],\n",
              "       [0.12462025, 0.12214245, 0.12781052, 0.12309479, 0.12309479,\n",
              "        0.04019567],\n",
              "       ...,\n",
              "       [0.82001738, 0.83669141, 0.80051012, 0.80828527, 0.80828527,\n",
              "        1.        ],\n",
              "       [0.80848378, 0.83163999, 0.81618166, 0.80544652, 0.80544652,\n",
              "        0.12348391],\n",
              "       [0.80565495, 0.80320949, 0.77683532, 0.78574496, 0.78574496,\n",
              "        0.14513019]])"
            ]
          },
          "metadata": {},
          "execution_count": 72
        }
      ]
    },
    {
      "cell_type": "code",
      "source": [
        "x_train"
      ],
      "metadata": {
        "colab": {
          "base_uri": "https://localhost:8080/"
        },
        "id": "D_0ar5kwrMhY",
        "outputId": "d3b2a489-2f7f-4028-e5b3-18a4c108a688"
      },
      "execution_count": null,
      "outputs": [
        {
          "output_type": "execute_result",
          "data": {
            "text/plain": [
              "array([[0.18985845, 0.18096556, 0.20432215, ..., 0.12431915, 0.13147461,\n",
              "        0.1268559 ],\n",
              "       [0.18096556, 0.20432215, 0.20987575, ..., 0.13147461, 0.1268559 ,\n",
              "        0.13697064],\n",
              "       [0.20432215, 0.20987575, 0.2128178 , ..., 0.1268559 , 0.13697064,\n",
              "        0.13861943],\n",
              "       ...,\n",
              "       [0.11699395, 0.11457357, 0.11902911, ..., 0.12474111, 0.12356579,\n",
              "        0.12640054],\n",
              "       [0.11457357, 0.11902911, 0.12867002, ..., 0.12356579, 0.12640054,\n",
              "        0.12398261],\n",
              "       [0.11902911, 0.12867002, 0.13816808, ..., 0.12640054, 0.12398261,\n",
              "        0.12466758]])"
            ]
          },
          "metadata": {},
          "execution_count": 73
        }
      ]
    },
    {
      "cell_type": "code",
      "source": [
        " y_train"
      ],
      "metadata": {
        "colab": {
          "base_uri": "https://localhost:8080/"
        },
        "id": "L7m9Ui-ZrOMS",
        "outputId": "e7e8a586-6a6b-4ec7-bead-e0f53965e84c"
      },
      "execution_count": null,
      "outputs": [
        {
          "output_type": "execute_result",
          "data": {
            "text/plain": [
              "array([1.36970637e-01, 1.38619428e-01, 1.45736085e-01, 1.46458224e-01,\n",
              "       1.45397136e-01, 1.30467322e-01, 1.15836273e-01, 1.07353475e-01,\n",
              "       1.04874133e-01, 9.60353372e-02, 1.09301647e-01, 1.01643628e-01,\n",
              "       1.02763284e-01, 8.58019918e-02, 8.72340243e-02, 8.73244876e-02,\n",
              "       7.96279345e-02, 8.78181739e-02, 9.30308649e-02, 9.84620823e-02,\n",
              "       9.75113919e-02, 9.62208012e-02, 9.96540859e-02, 9.44311026e-02,\n",
              "       9.23486785e-02, 8.58019251e-02, 7.92661647e-02, 8.03798825e-02,\n",
              "       6.58920181e-02, 6.07546520e-02, 6.27104225e-02, 5.99934876e-02,\n",
              "       6.39803450e-02, 6.99151158e-02, 5.96595674e-02, 5.95479521e-02,\n",
              "       5.71720854e-02, 6.23376596e-02, 6.46481519e-02, 6.00143644e-02,\n",
              "       6.02463027e-02, 6.24936642e-02, 7.98731846e-02, 7.94962180e-02,\n",
              "       8.17227027e-02, 8.77624247e-02, 8.28462458e-02, 8.01338817e-02,\n",
              "       8.36796158e-02, 8.62488368e-02, 9.68088209e-02, 9.81702910e-02,\n",
              "       9.60299158e-02, 9.98412347e-02, 1.13078702e-01, 9.87770774e-02,\n",
              "       1.05717329e-01, 9.79214210e-02, 1.05166308e-01, 1.06688320e-01,\n",
              "       1.03871964e-01, 1.01941725e-01, 1.05004665e-01, 1.12573422e-01,\n",
              "       1.12495653e-01, 1.15091815e-01, 1.11569552e-01, 1.07626049e-01,\n",
              "       1.04629634e-01, 1.06552567e-01, 9.95850749e-02, 8.91007910e-02,\n",
              "       9.04188060e-02, 9.38110712e-02, 9.41089511e-02, 9.18814155e-02,\n",
              "       8.91551390e-02, 8.47570181e-02, 8.76641545e-02, 8.75065985e-02,\n",
              "       9.24810956e-02, 9.00469774e-02, 8.28795753e-02, 7.44144679e-02,\n",
              "       7.55358090e-02, 7.33522373e-02, 7.11172784e-02, 7.08736381e-02,\n",
              "       6.64706629e-02, 7.39023652e-02, 7.16656548e-02, 7.39568050e-02,\n",
              "       7.34539939e-02, 7.51572578e-02, 7.67235255e-02, 7.27742097e-02,\n",
              "       7.49818110e-02, 7.47923686e-02, 7.61918889e-02, 7.55850943e-02,\n",
              "       7.32029803e-02, 6.05128800e-02, 6.28383772e-02, 5.76041840e-02,\n",
              "       5.36071843e-02, 6.02875892e-02, 5.75662588e-02, 5.92228147e-02,\n",
              "       5.87216550e-02, 6.30421407e-02, 6.43722497e-02, 6.41403197e-02,\n",
              "       6.35547688e-02, 5.17191488e-02, 5.30939306e-02, 5.31870379e-02,\n",
              "       5.50644557e-02, 5.22864335e-02, 5.40733797e-02, 4.90911341e-02,\n",
              "       5.43211320e-02, 5.79902502e-02, 5.74874057e-02, 6.18830495e-02,\n",
              "       6.05077755e-02, 6.14995605e-02, 6.26314944e-02, 6.28530485e-02,\n",
              "       6.63690981e-02, 6.46953353e-02, 6.39121430e-02, 5.63305165e-02,\n",
              "       5.91368554e-02, 5.56168440e-02, 5.65121604e-02, 5.69867632e-02,\n",
              "       5.86626112e-02, 6.56438153e-02, 7.61944245e-02, 7.80469954e-02,\n",
              "       8.01832420e-02, 7.70695481e-02, 7.82929294e-02, 7.82657721e-02,\n",
              "       8.46148425e-02, 9.65391993e-02, 9.10313475e-02, 8.78075646e-02,\n",
              "       9.07460119e-02, 9.14295328e-02, 9.17157024e-02, 9.12378633e-02,\n",
              "       8.29931424e-02, 8.13036990e-02, 8.11639588e-02, 7.81194177e-02,\n",
              "       7.04884309e-02, 7.11520758e-02, 6.94674618e-02, 6.44816047e-02,\n",
              "       5.62329469e-02, 6.18288599e-02, 5.53674986e-02, 5.72108029e-02,\n",
              "       5.84681476e-02, 5.79985242e-02, 5.57822902e-02, 5.81587158e-02,\n",
              "       5.79931945e-02, 6.17977324e-02, 5.87936437e-02, 6.01483411e-02,\n",
              "       5.62439650e-02, 5.96128344e-02, 5.76169119e-02, 6.19373224e-02,\n",
              "       6.37654800e-02, 6.44103167e-02, 6.32550789e-02, 6.62361389e-02,\n",
              "       6.97851759e-02, 6.90961002e-02, 6.86141575e-02, 6.99369685e-02,\n",
              "       7.26307662e-02, 7.42162760e-02, 7.37655109e-02, 7.65400217e-02,\n",
              "       6.48388038e-02, 6.13547992e-02, 6.03633395e-02, 5.59094443e-02,\n",
              "       5.73202413e-02, 5.89146256e-02, 5.74334747e-02, 5.81779328e-02,\n",
              "       6.06491755e-02, 6.05389948e-02, 6.10489789e-02, 6.06739224e-02,\n",
              "       5.67820072e-02, 5.79867471e-02, 5.86399412e-02, 6.02683222e-02,\n",
              "       6.41135711e-02, 6.37432687e-02, 6.35861966e-02, 6.21068640e-02,\n",
              "       5.90630735e-02, 5.96727874e-02, 6.28960198e-02, 6.18748422e-02,\n",
              "       6.11638971e-02, 6.14266043e-02, 6.12748368e-02, 6.11329031e-02,\n",
              "       6.09528939e-02, 6.32014231e-02, 6.39051285e-02, 6.33161996e-02,\n",
              "       6.29728127e-02, 6.47354541e-02, 6.44114844e-02, 6.45053674e-02,\n",
              "       5.70072814e-02, 5.73341953e-02, 5.75306606e-02, 5.76782578e-02,\n",
              "       6.39427951e-02, 6.23369173e-02, 6.19796599e-02, 6.17979576e-02,\n",
              "       6.08678354e-02, 6.14187224e-02, 6.13965194e-02, 6.16701446e-02,\n",
              "       6.17897336e-02, 6.20299209e-02, 6.14479315e-02, 6.20202541e-02,\n",
              "       6.20548430e-02, 6.23689623e-02, 5.96879592e-02, 5.92335075e-02,\n",
              "       5.92074178e-02, 5.91021580e-02, 5.79719007e-02, 5.75658918e-02,\n",
              "       5.74358518e-02, 5.93367904e-02, 5.98294342e-02, 6.03117522e-02,\n",
              "       5.92859288e-02, 5.92977309e-02, 5.98142625e-02, 5.99201728e-02,\n",
              "       5.98850501e-02, 5.87880054e-02, 4.71812460e-02, 4.50910734e-02,\n",
              "       4.32162412e-02, 4.28637797e-02, 4.42588878e-02, 3.03080982e-02,\n",
              "       2.30405910e-02, 2.64214460e-02, 2.15164854e-02, 2.10914431e-02,\n",
              "       1.22529556e-02, 1.48364809e-02, 9.83917201e-03, 1.09957527e-02,\n",
              "       1.87627264e-02, 1.88489192e-02, 1.40710376e-02, 1.73691279e-02,\n",
              "       1.62047820e-02, 1.07637726e-02, 1.22630228e-02, 8.53318846e-03,\n",
              "       4.51255122e-03, 3.10286351e-03, 4.06642772e-03, 6.54041451e-03,\n",
              "       4.91994882e-03, 3.26902705e-03, 4.29208134e-03, 1.17257396e-03,\n",
              "       1.20973597e-04, 0.00000000e+00, 3.11037431e-04, 5.62890882e-03,\n",
              "       8.48350705e-03, 9.34769592e-03, 1.61579656e-02, 1.22661339e-02,\n",
              "       1.45809967e-02, 1.41578727e-02, 1.54018890e-02, 1.04252567e-02,\n",
              "       1.10956076e-02, 7.14002786e-03, 1.21290377e-02, 1.00976421e-02,\n",
              "       1.09193935e-02, 8.44529410e-03, 1.04391690e-02, 1.25003326e-02,\n",
              "       1.07734061e-02, 1.06150828e-02, 1.03279040e-02, 1.47390614e-02,\n",
              "       1.39389709e-02, 1.43164963e-02, 1.42032795e-02, 7.34501321e-03,\n",
              "       7.64049106e-03, 7.11612339e-03, 5.28932115e-03, 8.24276925e-03,\n",
              "       6.92071317e-03, 7.04340078e-03, 7.66576340e-03, 7.44228669e-03,\n",
              "       8.81449962e-03, 6.52277392e-03, 6.44228194e-03, 6.88468132e-03,\n",
              "       6.19479652e-03, 6.71552763e-03, 6.11785351e-03, 6.16618790e-03,\n",
              "       5.38635275e-03, 3.70396149e-03, 3.12903664e-03, 3.38826578e-03,\n",
              "       3.07619410e-03, 3.89685700e-03, 4.49028571e-03, 3.59140367e-03,\n",
              "       3.52062027e-03, 3.64749074e-03, 2.80088825e-03, 2.67021441e-03,\n",
              "       7.68019282e-03, 7.71710044e-03, 8.20469810e-03, 7.27382112e-03,\n",
              "       7.18511354e-03, 6.97935250e-03, 6.99616736e-03, 6.77829144e-03,\n",
              "       7.11817104e-03, 7.83382028e-03, 1.22771937e-02, 1.27463250e-02,\n",
              "       1.37713978e-02, 1.30341044e-02, 1.37840923e-02, 1.65018362e-02,\n",
              "       1.01859452e-02, 1.12022685e-02, 1.06121553e-02, 1.05627116e-02,\n",
              "       1.11761204e-02, 1.13730945e-02, 1.15037934e-02, 1.11847447e-02,\n",
              "       9.66741185e-03, 1.21285706e-02, 1.22996302e-02, 1.28868826e-02,\n",
              "       1.25152541e-02, 1.38980764e-02, 1.37117784e-02, 1.25570827e-02,\n",
              "       1.24951196e-02, 1.25226106e-02, 1.32891382e-02, 1.38427108e-02,\n",
              "       1.54275533e-02, 1.50666593e-02, 1.50149803e-02, 1.56341943e-02,\n",
              "       1.55610547e-02, 1.47098856e-02, 1.50517378e-02, 1.53241870e-02,\n",
              "       1.52400209e-02, 1.39947535e-02, 1.42832168e-02, 1.65429392e-02,\n",
              "       1.58981610e-02, 1.64588399e-02, 1.67114549e-02, 1.67644183e-02,\n",
              "       1.74676399e-02, 3.14397985e-02, 3.29356040e-02, 3.21632546e-02,\n",
              "       3.44406760e-02, 3.49341289e-02, 3.75349111e-02, 3.96372360e-02,\n",
              "       3.79117859e-02, 3.99305536e-02, 3.52669397e-02, 3.51765098e-02,\n",
              "       3.52987762e-02, 3.66369590e-02, 3.47954896e-02, 3.82247208e-02,\n",
              "       3.80340272e-02, 3.93496068e-02, 3.94166410e-02, 4.00180143e-02,\n",
              "       3.94789378e-02, 4.16234083e-02, 4.50817151e-02, 4.42893815e-02,\n",
              "       3.96727090e-02, 4.09155576e-02, 4.07648744e-02, 4.10033352e-02,\n",
              "       4.03784412e-02, 4.27738585e-02, 4.39012634e-02, 4.60392282e-02,\n",
              "       5.09043369e-02, 5.21059406e-02, 5.13411646e-02, 5.08982815e-02,\n",
              "       5.32412025e-02, 5.59277438e-02, 6.04359036e-02, 6.39179898e-02,\n",
              "       8.00685573e-02, 7.55396124e-02, 9.36071576e-02, 9.71713747e-02,\n",
              "       1.01114460e-01, 9.56094775e-02, 8.51700332e-02, 8.37011682e-02,\n",
              "       1.02227561e-01, 9.77970111e-02, 9.71514404e-02, 9.13540327e-02,\n",
              "       9.52838730e-02, 9.69463925e-02, 9.83602423e-02, 1.10460404e-01,\n",
              "       1.12611156e-01, 1.11584965e-01, 1.11357798e-01, 1.03805072e-01,\n",
              "       1.08899124e-01, 1.08733178e-01, 1.12217724e-01, 1.00265677e-01,\n",
              "       9.01246961e-02, 9.27392905e-02, 9.25965810e-02, 9.73262950e-02,\n",
              "       9.56087769e-02, 9.04925045e-02, 9.68880243e-02, 9.46019536e-02,\n",
              "       9.96681317e-02, 1.01154562e-01, 1.10844244e-01, 1.13846681e-01,\n",
              "       1.16822461e-01, 1.23460028e-01, 1.16600382e-01, 1.20037403e-01,\n",
              "       1.22880316e-01, 1.35618726e-01, 1.45688577e-01, 1.48750800e-01,\n",
              "       1.50682924e-01, 1.66125308e-01, 1.89326666e-01, 1.54194295e-01,\n",
              "       1.78068598e-01, 1.69025705e-01, 1.47163697e-01, 1.43879177e-01,\n",
              "       1.49375052e-01, 1.72498658e-01, 1.57197433e-01, 1.54136277e-01,\n",
              "       1.58746152e-01, 1.63215686e-01, 1.80650146e-01, 1.86828874e-01,\n",
              "       1.76930058e-01, 1.61252217e-01, 1.70853287e-01, 1.62367002e-01,\n",
              "       1.40324385e-01, 1.53237866e-01, 1.25106083e-01, 1.29706850e-01,\n",
              "       1.47101559e-01, 1.45357167e-01, 1.50295482e-01, 1.46754702e-01,\n",
              "       1.41785110e-01, 1.33457032e-01, 1.31676424e-01, 1.34542391e-01,\n",
              "       1.33848928e-01, 1.26351417e-01, 1.27491008e-01, 1.26892796e-01,\n",
              "       1.28162151e-01, 1.38445074e-01, 1.46276596e-01, 1.50231676e-01,\n",
              "       1.56307363e-01, 1.59162236e-01, 1.78719306e-01, 1.71001151e-01,\n",
              "       1.80605874e-01, 1.79558365e-01, 1.79144983e-01, 1.68776484e-01,\n",
              "       1.72349009e-01, 1.70125043e-01, 1.57924259e-01, 1.42437736e-01,\n",
              "       1.47573810e-01, 1.47676951e-01, 1.45142594e-01, 1.47506834e-01,\n",
              "       1.59471576e-01, 1.55303959e-01, 1.42273675e-01, 1.43373664e-01,\n",
              "       1.49557897e-01, 1.44559162e-01, 1.43862296e-01, 1.48533992e-01,\n",
              "       1.45100890e-01, 1.36172982e-01, 1.30611566e-01, 1.32654289e-01,\n",
              "       1.33321745e-01, 1.35825108e-01, 1.48325007e-01, 1.53341074e-01,\n",
              "       1.51453622e-01, 1.50073402e-01, 1.44864982e-01, 1.48131753e-01,\n",
              "       1.46614895e-01, 1.44358584e-01, 1.39886615e-01, 1.41004987e-01,\n",
              "       1.44119123e-01, 1.42442174e-01, 1.42659866e-01, 1.42478105e-01,\n",
              "       1.41968405e-01, 1.41663719e-01, 1.41433432e-01, 1.43376950e-01,\n",
              "       1.41707007e-01, 1.38529148e-01, 1.39402570e-01, 1.32635822e-01,\n",
              "       1.10340048e-01, 1.08597441e-01, 1.01189159e-01, 1.04431309e-01,\n",
              "       1.04329852e-01, 1.01471959e-01, 1.04733209e-01, 1.06257356e-01,\n",
              "       1.07455115e-01, 1.04335874e-01, 1.02137865e-01, 1.00939155e-01,\n",
              "       9.77487518e-02, 1.03492162e-01, 1.03506308e-01, 1.10390593e-01,\n",
              "       1.09245981e-01, 1.03019861e-01, 1.03439832e-01, 1.03123269e-01,\n",
              "       1.04219505e-01, 1.00907377e-01, 9.80373068e-02, 9.80765582e-02,\n",
              "       9.56655771e-02, 9.61376443e-02, 1.00628514e-01, 9.99733514e-02,\n",
              "       9.67812966e-02, 8.53983684e-02, 8.55956594e-02, 1.08281462e-01,\n",
              "       1.19504332e-01, 1.25825936e-01, 1.19009595e-01, 1.22242369e-01,\n",
              "       1.17644104e-01, 1.18223466e-01, 1.18757872e-01, 1.20020822e-01,\n",
              "       1.18288157e-01, 1.21406630e-01, 1.19008727e-01, 1.19992430e-01,\n",
              "       1.17331628e-01, 1.09135884e-01, 1.09194269e-01, 1.13919012e-01,\n",
              "       1.09071343e-01, 1.10242378e-01, 1.10962231e-01, 1.08547597e-01,\n",
              "       1.03672988e-01, 1.04804739e-01, 1.05294788e-01, 1.00485854e-01,\n",
              "       9.86646947e-02, 9.54866689e-02, 8.88268655e-02, 8.25604933e-02,\n",
              "       8.45787939e-02, 7.74839393e-02, 7.87137264e-02, 8.01116287e-02,\n",
              "       8.67486619e-02, 8.55774767e-02, 9.18994148e-02, 8.81059450e-02,\n",
              "       8.51967902e-02, 8.36018637e-02, 8.40105417e-02, 8.28911355e-02,\n",
              "       8.65163399e-02, 8.81937392e-02, 8.82743438e-02, 8.84812434e-02,\n",
              "       8.56524096e-02, 8.33183131e-02, 8.19808309e-02, 8.03182280e-02,\n",
              "       8.12838815e-02, 7.84492259e-02, 7.89774595e-02, 7.39543528e-02,\n",
              "       6.78090542e-02, 8.03263184e-02, 7.85890245e-02, 7.84992034e-02,\n",
              "       7.79305007e-02, 8.40751654e-02, 8.14782700e-02, 8.10023326e-02,\n",
              "       7.97138104e-02, 7.91778700e-02, 7.99918228e-02, 8.05459292e-02,\n",
              "       8.25295659e-02, 7.96791631e-02, 7.74440291e-02, 7.76192006e-02,\n",
              "       7.36858738e-02, 8.17052873e-02, 8.29709060e-02, 8.29814320e-02,\n",
              "       9.01374073e-02, 9.78037504e-02, 9.54546239e-02, 9.11433465e-02,\n",
              "       9.66473115e-02, 9.41547750e-02, 9.71805328e-02, 9.56944860e-02,\n",
              "       1.09352942e-01, 1.09076515e-01, 1.07654191e-01, 1.11813918e-01,\n",
              "       1.12089695e-01, 1.07498570e-01, 1.06196853e-01, 1.09476068e-01,\n",
              "       1.07510347e-01, 1.02708302e-01, 1.03612768e-01, 1.02134812e-01,\n",
              "       1.06675559e-01, 1.13818906e-01, 1.22322940e-01, 1.22085146e-01,\n",
              "       1.27299639e-01, 1.25315235e-01, 1.26182351e-01, 1.25286526e-01,\n",
              "       1.23377922e-01, 1.20151104e-01, 1.28890829e-01, 1.31239338e-01,\n",
              "       1.33642529e-01, 1.35051291e-01, 1.40057082e-01, 1.34109508e-01,\n",
              "       1.39968237e-01, 1.41889435e-01, 1.40547449e-01, 1.42468397e-01,\n",
              "       1.34084369e-01, 1.34994674e-01, 1.30393073e-01, 1.40290505e-01,\n",
              "       1.30379895e-01, 1.32010336e-01, 1.33919123e-01, 1.33428056e-01,\n",
              "       1.38628386e-01, 1.35050657e-01, 1.28204389e-01, 1.17327157e-01,\n",
              "       1.16585869e-01, 1.12474268e-01, 1.11043553e-01, 1.10312841e-01,\n",
              "       1.14699251e-01, 1.12829732e-01, 1.11961281e-01, 1.18831737e-01,\n",
              "       1.19740240e-01, 1.15508433e-01, 9.96885330e-02, 9.75735636e-02,\n",
              "       9.52135108e-02, 9.61281026e-02, 4.02146714e-02, 5.15082040e-02,\n",
              "       4.39881735e-02, 4.77118400e-02, 4.17474679e-02, 4.68855513e-02,\n",
              "       4.87819775e-02, 6.87718302e-02, 6.87804545e-02, 6.83415916e-02,\n",
              "       6.08992048e-02, 7.46120091e-02, 7.75519745e-02, 7.59339109e-02,\n",
              "       7.48361573e-02, 6.96849707e-02, 6.52013659e-02, 5.87150742e-02,\n",
              "       7.01772058e-02, 6.96077191e-02, 7.50500964e-02, 7.80771554e-02,\n",
              "       7.78750184e-02, 8.04365325e-02, 7.88991569e-02, 8.73780015e-02,\n",
              "       8.43960658e-02, 8.76681080e-02, 8.63382992e-02, 7.77120994e-02,\n",
              "       7.75225818e-02, 7.96856188e-02, 7.75375284e-02, 7.73062489e-02,\n",
              "       7.43785361e-02, 8.45868844e-02, 8.27460573e-02, 8.61674148e-02,\n",
              "       8.46650368e-02, 7.89383416e-02, 8.02166215e-02, 8.52496870e-02,\n",
              "       9.17214241e-02, 9.38509731e-02, 9.42544631e-02, 9.64824491e-02,\n",
              "       9.77729064e-02, 9.79102779e-02, 1.16587637e-01, 1.14478339e-01,\n",
              "       1.20077455e-01, 1.22418258e-01, 1.20600517e-01, 1.20753386e-01,\n",
              "       1.22472389e-01, 1.28815245e-01, 1.40998781e-01, 1.39093664e-01,\n",
              "       1.34012005e-01, 1.16993946e-01, 1.14573573e-01, 1.19029112e-01,\n",
              "       1.28670017e-01, 1.38168079e-01, 1.30848376e-01, 1.31706000e-01,\n",
              "       1.37877005e-01, 1.37655026e-01, 1.37640663e-01, 1.33847560e-01,\n",
              "       1.25687431e-01, 1.28944726e-01, 1.29508091e-01, 1.20671847e-01,\n",
              "       1.23296984e-01, 1.20319152e-01, 1.28599088e-01, 1.35629886e-01,\n",
              "       1.32770308e-01, 1.38136401e-01, 1.33258640e-01, 1.46199745e-01,\n",
              "       1.32897937e-01, 1.34701648e-01, 1.37706571e-01, 1.32716744e-01,\n",
              "       1.32841137e-01, 1.34568531e-01, 1.33834515e-01, 1.34625715e-01,\n",
              "       1.34886161e-01, 1.26323793e-01, 1.29229728e-01, 1.29165839e-01,\n",
              "       1.27303042e-01, 1.29349551e-01, 1.31595886e-01, 1.31076411e-01,\n",
              "       1.29163670e-01, 1.26692135e-01, 1.27500166e-01, 1.26878684e-01,\n",
              "       1.33349487e-01, 1.33020579e-01, 1.26269462e-01, 1.24605558e-01,\n",
              "       1.22939402e-01, 1.20542616e-01, 1.22366812e-01, 1.22640904e-01,\n",
              "       1.21831873e-01, 1.23900484e-01, 1.21387563e-01, 1.20610059e-01,\n",
              "       1.21447550e-01, 1.20392884e-01, 1.24741111e-01, 1.23565789e-01,\n",
              "       1.26400544e-01, 1.23982607e-01, 1.24667579e-01, 1.23931228e-01])"
            ]
          },
          "metadata": {},
          "execution_count": 74
        }
      ]
    },
    {
      "cell_type": "code",
      "source": [
        "x_test"
      ],
      "metadata": {
        "colab": {
          "base_uri": "https://localhost:8080/"
        },
        "id": "LvTPd_WYrPW1",
        "outputId": "018a4d72-7f87-42b0-ecbb-9f6d3df6f155"
      },
      "execution_count": null,
      "outputs": [
        {
          "output_type": "execute_result",
          "data": {
            "text/plain": [
              "array([[0.12463975, 0.12438498, 0.12462025, ..., 0.14430689, 0.14006512,\n",
              "        0.14129978],\n",
              "       [0.12438498, 0.12462025, 0.12308021, ..., 0.14006512, 0.14129978,\n",
              "        0.14437575],\n",
              "       [0.12462025, 0.12308021, 0.12244707, ..., 0.14129978, 0.14437575,\n",
              "        0.14514691],\n",
              "       ...,\n",
              "       [0.42128493, 0.43402826, 0.43753046, ..., 0.94493339, 0.84330249,\n",
              "        0.85704377],\n",
              "       [0.43402826, 0.43753046, 0.46260589, ..., 0.84330249, 0.85704377,\n",
              "        0.82001738],\n",
              "       [0.43753046, 0.46260589, 0.4639376 , ..., 0.85704377, 0.82001738,\n",
              "        0.80848378]])"
            ]
          },
          "metadata": {},
          "execution_count": 75
        }
      ]
    },
    {
      "cell_type": "code",
      "source": [
        "y_test"
      ],
      "metadata": {
        "colab": {
          "base_uri": "https://localhost:8080/"
        },
        "id": "15YNF2i0rSLQ",
        "outputId": "7d2d822f-afff-4de7-c713-88bd96f64bc1"
      },
      "execution_count": null,
      "outputs": [
        {
          "output_type": "execute_result",
          "data": {
            "text/plain": [
              "array([0.14437575, 0.14514691, 0.14598989, 0.14353572, 0.14936219,\n",
              "       0.15144353, 0.15358437, 0.15255296, 0.15133588, 0.15448644,\n",
              "       0.15135685, 0.14210081, 0.14335011, 0.1390057 , 0.14881549,\n",
              "       0.14839233, 0.14939771, 0.14997907, 0.14740054, 0.15028737,\n",
              "       0.14860472, 0.14487536, 0.14460405, 0.14412424, 0.14657925,\n",
              "       0.14725461, 0.14489554, 0.1448613 , 0.14873592, 0.14983307,\n",
              "       0.1543533 , 0.15619628, 0.16008909, 0.15788042, 0.15751758,\n",
              "       0.15859377, 0.1545792 , 0.15522436, 0.15786793, 0.16217477,\n",
              "       0.1653004 , 0.18080884, 0.18447499, 0.1822757 , 0.18559794,\n",
              "       0.18415182, 0.18589563, 0.1960575 , 0.19016219, 0.19227137,\n",
              "       0.1956968 , 0.20014228, 0.19931906, 0.19500952, 0.20212733,\n",
              "       0.20544591, 0.23087309, 0.2301642 , 0.21646257, 0.22852101,\n",
              "       0.22522883, 0.22378933, 0.23022335, 0.24158369, 0.24062327,\n",
              "       0.23600606, 0.23375894, 0.24698783, 0.26432239, 0.26759615,\n",
              "       0.2700278 , 0.28524368, 0.28563279, 0.28053265, 0.28014197,\n",
              "       0.29282829, 0.28455687, 0.25549435, 0.25430163, 0.26548522,\n",
              "       0.27394169, 0.30240041, 0.28586303, 0.29139292, 0.29320245,\n",
              "       0.27692683, 0.28516785, 0.2885841 , 0.28610277, 0.27070627,\n",
              "       0.27537783, 0.270138  , 0.26761397, 0.28137269, 0.28753274,\n",
              "       0.28979143, 0.29168244, 0.3275781 , 0.35474328, 0.36312809,\n",
              "       0.37649678, 0.36934605, 0.35819513, 0.37889339, 0.36743063,\n",
              "       0.37471056, 0.39170028, 0.4240414 , 0.42128493, 0.43402826,\n",
              "       0.43753046, 0.46260589, 0.4639376 , 0.47090299, 0.52076306,\n",
              "       0.53393143, 0.51851888, 0.55586429, 0.60733211, 0.65759975,\n",
              "       0.68254827, 0.67280419, 0.63802111, 0.58904962, 0.5576536 ,\n",
              "       0.62256091, 0.65468737, 0.61712844, 0.60501306, 0.59811243,\n",
              "       0.61373184, 0.6017309 , 0.58962473, 0.50433961, 0.54717327,\n",
              "       0.53018125, 0.53429883, 0.5340791 , 0.53754336, 0.50174138,\n",
              "       0.57616183, 0.57871001, 0.57824294, 0.55668028, 0.56389912,\n",
              "       0.59887064, 0.63503006, 0.62895349, 0.649966  , 0.67069626,\n",
              "       0.66403937, 0.79971537, 0.80007735, 0.7679272 , 0.81993764,\n",
              "       0.81375538, 0.80681577, 0.83596274, 0.82047391, 0.8479075 ,\n",
              "       0.90091929, 0.89329568, 0.96998961, 0.97333343, 1.        ,\n",
              "       0.94493339, 0.84330249, 0.85704377, 0.82001738, 0.80848378,\n",
              "       0.80565495])"
            ]
          },
          "metadata": {},
          "execution_count": 76
        }
      ]
    },
    {
      "cell_type": "markdown",
      "source": [
        "### 1-4 모델 생성"
      ],
      "metadata": {
        "id": "KDbUHJVjpeuI"
      }
    },
    {
      "cell_type": "code",
      "source": [
        "# 모델 생성\n",
        "model = Sequential()   # 모델의 객체생성\n",
        "model.add(GRU(50, input_shape=(look_back, 1)))   #  50=레이어의 출력 차원, input_shape=입력 데이터의 형태를 정의를 의미한다.\n",
        "                                                  # lock_back=이전 데이터의 갯수만큼 비트코인 가격을 입력으로 받아들이고, 각각의 데이터가 1차원인 것을 의미합니다.\n",
        "\n",
        "model.add(Dense(1))   # Dense 는 완전 연결 레이어(층)를 의미한다. 1은 출력의 차원을 의미\n",
        "\n",
        "model.compile(loss='mean_squared_error', optimizer='adam')  # compile() 함수를 이용하여 모델을 컴파일합니다\n",
        "                                                             # loss는 손실 함수를 의미한다.\n",
        "                                                             # mean_squared_error(MSE) 는 전체 에러를 표현하기 위해서 사용하는 식이고 오차의 제곱에 대해 평균을 취한 것이다.(수치가 작을 수록 원본과의 오차가 적은 것이다)\n",
        "                                                             # optimizer는  최적화 알고리즘을 정의하는 부분이다. adam(아담) 은 모멘텀+ AdaGrad(아다그라드) 을 합친 것이다\n",
        "\n",
        "# 완전 연결 레이어 : 한 레이어의 모든 뉴런이 그 다음 레이어의 모든 뉴런과 연결된 상태이다.\n",
        "\n",
        "# 모멘텀 : 기울기 방향으로 힘을 받아 물체가 가속된다는 물리법칙을 적용한것이다.\n",
        "# AdaGrad : 학습을 진행하면서 학습률을 점차 줄여가는 방법이다."
      ],
      "metadata": {
        "id": "OcnzNzcXaJtF"
      },
      "execution_count": null,
      "outputs": []
    },
    {
      "cell_type": "markdown",
      "source": [
        "### 1-5. 모델학습"
      ],
      "metadata": {
        "id": "Afiz9gkhphGM"
      }
    },
    {
      "cell_type": "code",
      "source": [
        "# 모델 학습\n",
        "model.fit(x_train, y_train, epochs=100, batch_size=64, verbose=2)\n",
        "\n",
        "# x_train : 학습데이터의 입력값   , y_train : 학습데이터의 출력값이다.\n",
        "\n",
        "# 에포크 : 훈련 데이터셋에 포함된 모든 데이터들이 한 번씩 모델을 통과한 횟수 또는 전체 학습 데이터셋에 대한 반복 횟수이다\n",
        "# 에포크가 높을수록 더 많은 반복 학습을 수행하게 되므로 모델이 더 많은 학습을 하게 되어 일반적으로 더 좋은 성능을 낼 수 있습니다\n",
        "\n",
        "# batch_size(배치크기) : 학습을 수행할 때, 몇 개의 데이터를 한 번에 처리할지를 지정한다, 일반적으로 32,64, 128 숫자를 사용한다\n",
        "\n",
        "# verbose : 학습 과정 중 출력되는 문구를 설정합니다. 0일 경우 출력하지 않으며, 1일 경우 학습 진행 상황을 출력하고, 2일 경우 학습 결과만 출력한다"
      ],
      "metadata": {
        "colab": {
          "base_uri": "https://localhost:8080/"
        },
        "id": "hVD-dOM8aLrq",
        "outputId": "fcbe4256-96f9-4a43-a597-7b9a6543817d"
      },
      "execution_count": null,
      "outputs": [
        {
          "output_type": "stream",
          "name": "stdout",
          "text": [
            "Epoch 1/100\n",
            "18/18 - 4s - loss: 0.0115 - 4s/epoch - 204ms/step\n",
            "Epoch 2/100\n",
            "18/18 - 1s - loss: 0.0019 - 616ms/epoch - 34ms/step\n",
            "Epoch 3/100\n",
            "18/18 - 1s - loss: 3.9806e-04 - 915ms/epoch - 51ms/step\n",
            "Epoch 4/100\n",
            "18/18 - 1s - loss: 2.0697e-04 - 1s/epoch - 72ms/step\n",
            "Epoch 5/100\n",
            "18/18 - 1s - loss: 1.8488e-04 - 1s/epoch - 71ms/step\n",
            "Epoch 6/100\n",
            "18/18 - 1s - loss: 1.7031e-04 - 1s/epoch - 77ms/step\n",
            "Epoch 7/100\n",
            "18/18 - 1s - loss: 1.6775e-04 - 1s/epoch - 63ms/step\n",
            "Epoch 8/100\n",
            "18/18 - 1s - loss: 1.6518e-04 - 1s/epoch - 76ms/step\n",
            "Epoch 9/100\n",
            "18/18 - 2s - loss: 1.6240e-04 - 2s/epoch - 94ms/step\n",
            "Epoch 10/100\n",
            "18/18 - 1s - loss: 1.6315e-04 - 1s/epoch - 73ms/step\n",
            "Epoch 11/100\n",
            "18/18 - 1s - loss: 1.6061e-04 - 1s/epoch - 57ms/step\n",
            "Epoch 12/100\n",
            "18/18 - 1s - loss: 1.5966e-04 - 1s/epoch - 67ms/step\n",
            "Epoch 13/100\n",
            "18/18 - 1s - loss: 1.5184e-04 - 1s/epoch - 59ms/step\n",
            "Epoch 14/100\n",
            "18/18 - 1s - loss: 1.4847e-04 - 925ms/epoch - 51ms/step\n",
            "Epoch 15/100\n",
            "18/18 - 1s - loss: 1.4957e-04 - 1s/epoch - 60ms/step\n",
            "Epoch 16/100\n",
            "18/18 - 1s - loss: 1.4436e-04 - 1s/epoch - 66ms/step\n",
            "Epoch 17/100\n",
            "18/18 - 1s - loss: 1.3794e-04 - 1s/epoch - 67ms/step\n",
            "Epoch 18/100\n",
            "18/18 - 1s - loss: 1.3981e-04 - 1s/epoch - 69ms/step\n",
            "Epoch 19/100\n",
            "18/18 - 2s - loss: 1.4288e-04 - 2s/epoch - 88ms/step\n",
            "Epoch 20/100\n",
            "18/18 - 3s - loss: 1.3595e-04 - 3s/epoch - 140ms/step\n",
            "Epoch 21/100\n",
            "18/18 - 1s - loss: 1.4188e-04 - 1s/epoch - 83ms/step\n",
            "Epoch 22/100\n",
            "18/18 - 1s - loss: 1.3712e-04 - 1s/epoch - 65ms/step\n",
            "Epoch 23/100\n",
            "18/18 - 1s - loss: 1.3336e-04 - 962ms/epoch - 53ms/step\n",
            "Epoch 24/100\n",
            "18/18 - 1s - loss: 1.2930e-04 - 827ms/epoch - 46ms/step\n",
            "Epoch 25/100\n",
            "18/18 - 1s - loss: 1.2645e-04 - 966ms/epoch - 54ms/step\n",
            "Epoch 26/100\n",
            "18/18 - 1s - loss: 1.2761e-04 - 957ms/epoch - 53ms/step\n",
            "Epoch 27/100\n",
            "18/18 - 1s - loss: 1.2192e-04 - 758ms/epoch - 42ms/step\n",
            "Epoch 28/100\n",
            "18/18 - 1s - loss: 1.2153e-04 - 884ms/epoch - 49ms/step\n",
            "Epoch 29/100\n",
            "18/18 - 1s - loss: 1.2334e-04 - 1s/epoch - 61ms/step\n",
            "Epoch 30/100\n",
            "18/18 - 1s - loss: 1.1937e-04 - 675ms/epoch - 38ms/step\n",
            "Epoch 31/100\n",
            "18/18 - 1s - loss: 1.2304e-04 - 669ms/epoch - 37ms/step\n",
            "Epoch 32/100\n",
            "18/18 - 1s - loss: 1.1951e-04 - 1s/epoch - 80ms/step\n",
            "Epoch 33/100\n",
            "18/18 - 1s - loss: 1.1794e-04 - 1s/epoch - 78ms/step\n",
            "Epoch 34/100\n",
            "18/18 - 1s - loss: 1.2298e-04 - 1s/epoch - 61ms/step\n",
            "Epoch 35/100\n",
            "18/18 - 1s - loss: 1.1767e-04 - 621ms/epoch - 35ms/step\n",
            "Epoch 36/100\n",
            "18/18 - 1s - loss: 1.2624e-04 - 714ms/epoch - 40ms/step\n",
            "Epoch 37/100\n",
            "18/18 - 1s - loss: 1.1865e-04 - 1s/epoch - 56ms/step\n",
            "Epoch 38/100\n",
            "18/18 - 1s - loss: 1.1086e-04 - 906ms/epoch - 50ms/step\n",
            "Epoch 39/100\n",
            "18/18 - 1s - loss: 1.0809e-04 - 1s/epoch - 59ms/step\n",
            "Epoch 40/100\n",
            "18/18 - 1s - loss: 1.0882e-04 - 692ms/epoch - 38ms/step\n",
            "Epoch 41/100\n",
            "18/18 - 1s - loss: 1.1094e-04 - 955ms/epoch - 53ms/step\n",
            "Epoch 42/100\n",
            "18/18 - 1s - loss: 1.0728e-04 - 921ms/epoch - 51ms/step\n",
            "Epoch 43/100\n",
            "18/18 - 1s - loss: 1.1927e-04 - 602ms/epoch - 33ms/step\n",
            "Epoch 44/100\n",
            "18/18 - 1s - loss: 1.0921e-04 - 600ms/epoch - 33ms/step\n",
            "Epoch 45/100\n",
            "18/18 - 1s - loss: 1.0857e-04 - 613ms/epoch - 34ms/step\n",
            "Epoch 46/100\n",
            "18/18 - 1s - loss: 1.0638e-04 - 1s/epoch - 63ms/step\n",
            "Epoch 47/100\n",
            "18/18 - 2s - loss: 1.0597e-04 - 2s/epoch - 84ms/step\n",
            "Epoch 48/100\n",
            "18/18 - 1s - loss: 1.0786e-04 - 1s/epoch - 65ms/step\n",
            "Epoch 49/100\n",
            "18/18 - 1s - loss: 1.1063e-04 - 1s/epoch - 63ms/step\n",
            "Epoch 50/100\n",
            "18/18 - 1s - loss: 1.0093e-04 - 896ms/epoch - 50ms/step\n",
            "Epoch 51/100\n",
            "18/18 - 1s - loss: 1.0371e-04 - 599ms/epoch - 33ms/step\n",
            "Epoch 52/100\n",
            "18/18 - 1s - loss: 1.0031e-04 - 619ms/epoch - 34ms/step\n",
            "Epoch 53/100\n",
            "18/18 - 1s - loss: 9.8557e-05 - 1s/epoch - 71ms/step\n",
            "Epoch 54/100\n",
            "18/18 - 1s - loss: 9.9841e-05 - 1s/epoch - 69ms/step\n",
            "Epoch 55/100\n",
            "18/18 - 1s - loss: 9.8617e-05 - 605ms/epoch - 34ms/step\n",
            "Epoch 56/100\n",
            "18/18 - 1s - loss: 1.0228e-04 - 585ms/epoch - 32ms/step\n",
            "Epoch 57/100\n",
            "18/18 - 1s - loss: 9.7356e-05 - 601ms/epoch - 33ms/step\n",
            "Epoch 58/100\n",
            "18/18 - 1s - loss: 1.0813e-04 - 600ms/epoch - 33ms/step\n",
            "Epoch 59/100\n",
            "18/18 - 1s - loss: 1.0057e-04 - 584ms/epoch - 32ms/step\n",
            "Epoch 60/100\n",
            "18/18 - 1s - loss: 9.6455e-05 - 786ms/epoch - 44ms/step\n",
            "Epoch 61/100\n",
            "18/18 - 1s - loss: 9.7814e-05 - 1s/epoch - 57ms/step\n",
            "Epoch 62/100\n",
            "18/18 - 1s - loss: 9.9748e-05 - 1s/epoch - 57ms/step\n",
            "Epoch 63/100\n",
            "18/18 - 1s - loss: 1.1273e-04 - 696ms/epoch - 39ms/step\n",
            "Epoch 64/100\n",
            "18/18 - 1s - loss: 9.6639e-05 - 589ms/epoch - 33ms/step\n",
            "Epoch 65/100\n",
            "18/18 - 1s - loss: 1.1510e-04 - 605ms/epoch - 34ms/step\n",
            "Epoch 66/100\n",
            "18/18 - 1s - loss: 9.6269e-05 - 602ms/epoch - 33ms/step\n",
            "Epoch 67/100\n",
            "18/18 - 1s - loss: 9.6120e-05 - 613ms/epoch - 34ms/step\n",
            "Epoch 68/100\n",
            "18/18 - 1s - loss: 1.0124e-04 - 581ms/epoch - 32ms/step\n",
            "Epoch 69/100\n",
            "18/18 - 1s - loss: 1.1269e-04 - 613ms/epoch - 34ms/step\n",
            "Epoch 70/100\n",
            "18/18 - 1s - loss: 9.6396e-05 - 589ms/epoch - 33ms/step\n",
            "Epoch 71/100\n",
            "18/18 - 1s - loss: 1.0032e-04 - 586ms/epoch - 33ms/step\n",
            "Epoch 72/100\n",
            "18/18 - 1s - loss: 9.9643e-05 - 605ms/epoch - 34ms/step\n",
            "Epoch 73/100\n",
            "18/18 - 1s - loss: 9.4975e-05 - 605ms/epoch - 34ms/step\n",
            "Epoch 74/100\n",
            "18/18 - 1s - loss: 1.1451e-04 - 604ms/epoch - 34ms/step\n",
            "Epoch 75/100\n",
            "18/18 - 1s - loss: 1.1537e-04 - 601ms/epoch - 33ms/step\n",
            "Epoch 76/100\n",
            "18/18 - 1s - loss: 9.4513e-05 - 559ms/epoch - 31ms/step\n",
            "Epoch 77/100\n",
            "18/18 - 1s - loss: 9.4119e-05 - 560ms/epoch - 31ms/step\n",
            "Epoch 78/100\n",
            "18/18 - 1s - loss: 9.6798e-05 - 602ms/epoch - 33ms/step\n",
            "Epoch 79/100\n",
            "18/18 - 1s - loss: 9.5986e-05 - 667ms/epoch - 37ms/step\n",
            "Epoch 80/100\n",
            "18/18 - 1s - loss: 9.4890e-05 - 1s/epoch - 58ms/step\n",
            "Epoch 81/100\n",
            "18/18 - 1s - loss: 9.4045e-05 - 1s/epoch - 57ms/step\n",
            "Epoch 82/100\n",
            "18/18 - 1s - loss: 9.1369e-05 - 1s/epoch - 75ms/step\n",
            "Epoch 83/100\n",
            "18/18 - 1s - loss: 9.1079e-05 - 591ms/epoch - 33ms/step\n",
            "Epoch 84/100\n",
            "18/18 - 1s - loss: 9.2201e-05 - 579ms/epoch - 32ms/step\n",
            "Epoch 85/100\n",
            "18/18 - 1s - loss: 9.2554e-05 - 603ms/epoch - 34ms/step\n",
            "Epoch 86/100\n",
            "18/18 - 1s - loss: 1.1599e-04 - 574ms/epoch - 32ms/step\n",
            "Epoch 87/100\n",
            "18/18 - 1s - loss: 9.8821e-05 - 601ms/epoch - 33ms/step\n",
            "Epoch 88/100\n",
            "18/18 - 1s - loss: 9.4193e-05 - 595ms/epoch - 33ms/step\n",
            "Epoch 89/100\n",
            "18/18 - 1s - loss: 9.0813e-05 - 585ms/epoch - 33ms/step\n",
            "Epoch 90/100\n",
            "18/18 - 1s - loss: 9.9606e-05 - 600ms/epoch - 33ms/step\n",
            "Epoch 91/100\n",
            "18/18 - 1s - loss: 9.0908e-05 - 603ms/epoch - 33ms/step\n",
            "Epoch 92/100\n",
            "18/18 - 1s - loss: 9.1122e-05 - 614ms/epoch - 34ms/step\n",
            "Epoch 93/100\n",
            "18/18 - 1s - loss: 8.8623e-05 - 618ms/epoch - 34ms/step\n",
            "Epoch 94/100\n",
            "18/18 - 1s - loss: 9.3539e-05 - 558ms/epoch - 31ms/step\n",
            "Epoch 95/100\n",
            "18/18 - 1s - loss: 9.6649e-05 - 572ms/epoch - 32ms/step\n",
            "Epoch 96/100\n",
            "18/18 - 1s - loss: 9.2421e-05 - 578ms/epoch - 32ms/step\n",
            "Epoch 97/100\n",
            "18/18 - 1s - loss: 1.0323e-04 - 616ms/epoch - 34ms/step\n",
            "Epoch 98/100\n",
            "18/18 - 1s - loss: 9.6870e-05 - 752ms/epoch - 42ms/step\n",
            "Epoch 99/100\n",
            "18/18 - 1s - loss: 8.6923e-05 - 1s/epoch - 56ms/step\n",
            "Epoch 100/100\n",
            "18/18 - 1s - loss: 9.0237e-05 - 1s/epoch - 56ms/step\n"
          ]
        },
        {
          "output_type": "execute_result",
          "data": {
            "text/plain": [
              "<keras.callbacks.History at 0x7f5a45037130>"
            ]
          },
          "metadata": {},
          "execution_count": 21
        }
      ]
    },
    {
      "cell_type": "markdown",
      "source": [
        "### 1-6. 예측하기"
      ],
      "metadata": {
        "id": "ynom6614pjqJ"
      }
    },
    {
      "cell_type": "code",
      "source": [
        "# 예측\n",
        "train_predict = model.predict(x_train)\n",
        "test_predict = model.predict(x_test)\n",
        "\n",
        "# model.predict(x_train) 은 학습된 모델을 이용하여 train 데이터에 대한 예측값을 계산한다\n",
        "# mode.predict(x_test) 은 학습된 모델을 이용하여 test 데이터에 대한 예측값을 계산한다."
      ],
      "metadata": {
        "colab": {
          "base_uri": "https://localhost:8080/"
        },
        "id": "cTAhhpW_aQl2",
        "outputId": "5547a9c1-a7e2-46d2-df7d-a14d101a12ef"
      },
      "execution_count": null,
      "outputs": [
        {
          "output_type": "stream",
          "name": "stdout",
          "text": [
            "35/35 [==============================] - 0s 8ms/step\n",
            "8/8 [==============================] - 0s 9ms/step\n"
          ]
        }
      ]
    },
    {
      "cell_type": "markdown",
      "source": [
        "### 1-7. 예측결과 시각화"
      ],
      "metadata": {
        "id": "Gz9q803ApnU7"
      }
    },
    {
      "cell_type": "code",
      "source": [
        "# 예측 결과 시각화\n",
        "train_predict = scaler.inverse_transform(train_predict)\n",
        "test_predict = scaler.inverse_transform(test_predict)\n",
        "\n",
        "# train_predict와 test_predict 배열에 NaN 값이 포함되어 있는지 확인하기 위해  np.isnan() 함수를 사용\n",
        "# 만약 NaN 값이 있다면, 이를 np.ma.array() 함수를 사용하여 NaN 값을 마스킹한 배열을 생성한다.\n",
        "# np.ma.array()에서는 평균값을 구할수있다.(조건이 참일때 평균값을 구해서 NaN값으로 대체한다)\n",
        "\n",
        "# train_predict와 test_predict 배열의 값을 scaler.inverse_transform() 함수를 사용하여 스케일링된 값을 원래의 값으로 복원합니다.\n",
        "\n",
        "\n",
        "\n",
        "plt.plot(df[look_back:len(train_data)].index, df[look_back:len(train_data)].values, label='Actual Train Price')\n",
        "plt.plot(df[len(train_data)+look_back:].index, df[len(train_data)+look_back:].values, label='Actual Test Price')\n",
        "plt.plot(df[look_back:len(train_data)].index, train_predict, label='Predicted Train Price')\n",
        "plt.plot(df[len(train_data)+look_back:].index, test_predict, label='Predicted Test Price')\n",
        "plt.xlabel('Date')\n",
        "plt.ylabel('Price')\n",
        "plt.legend()\n",
        "plt.show()"
      ],
      "metadata": {
        "colab": {
          "base_uri": "https://localhost:8080/",
          "height": 465
        },
        "id": "MDn2uCDDaSoT",
        "outputId": "332f16a0-bbe4-49c2-a633-72a694c7f350"
      },
      "execution_count": null,
      "outputs": [
        {
          "output_type": "display_data",
          "data": {
            "text/plain": [
              "<Figure size 640x480 with 1 Axes>"
            ],
            "image/png": "[encoded data removed]"
          },
          "metadata": {}
        }
      ]
    },
    {
      "cell_type": "markdown",
      "source": [
        "### 1-8. R2(결정계수)를 통한 모델의 대한 정확도 판단하기"
      ],
      "metadata": {
        "id": "pXltd3czpp9m"
      }
    },
    {
      "cell_type": "code",
      "source": [
        "# train 및 test 데이터에 대한 예측값 생성\n",
        "train_predict = model.predict(x_train)\n",
        "test_predict = model.predict(x_test)\n",
        "\n",
        "# 스케일링 된 값을 다시 원래 값으로 변환\n",
        "train_predict = scaler.inverse_transform(train_predict)  #inverse_transform() 함수를 이용해 원본값으로 복원가능하다\n",
        "y_train = scaler.inverse_transform([y_train])\n",
        "test_predict = scaler.inverse_transform(test_predict)\n",
        "y_test = scaler.inverse_transform([y_test])\n",
        "\n",
        "\n",
        "train_r2_score = r2_score(y_train[0], train_predict[:,0])\n",
        "test_r2_score = r2_score(y_test[0], test_predict[:,0])\n",
        "\n",
        "\n",
        "# 결과 출력\n",
        "print(\"Train R2 Score : \", train_r2_score)  # 99퍼센트에 정확도를 보여준다\n",
        "print(\"Test R2 Score : \", test_r2_score)   # 98% 정확도를 보여준다."
      ],
      "metadata": {
        "colab": {
          "base_uri": "https://localhost:8080/"
        },
        "id": "inpZlMFHoLQe",
        "outputId": "4855405e-2c76-4efa-8273-49c93e6ed999"
      },
      "execution_count": null,
      "outputs": [
        {
          "output_type": "stream",
          "name": "stdout",
          "text": [
            "27/27 [==============================] - 0s 8ms/step\n",
            "6/6 [==============================] - 0s 7ms/step\n",
            "Train R2 Score :  0.9790682137176338\n",
            "Test R2 Score :  0.9838884654153657\n"
          ]
        }
      ]
    },
    {
      "cell_type": "markdown",
      "source": [
        "### 1-9. 예측값 확인하기"
      ],
      "metadata": {
        "id": "xA1znefCpyVe"
      }
    },
    {
      "cell_type": "code",
      "source": [
        "model.predict([[2022]])  # 2022년을 예측한 값이다"
      ],
      "metadata": {
        "colab": {
          "base_uri": "https://localhost:8080/"
        },
        "id": "LOf7geKZpQpp",
        "outputId": "1b0fac2a-ef88-445a-e668-73b16bd38f93"
      },
      "execution_count": null,
      "outputs": [
        {
          "output_type": "stream",
          "name": "stdout",
          "text": [
            "1/1 [==============================] - 0s 108ms/step\n"
          ]
        },
        {
          "output_type": "execute_result",
          "data": {
            "text/plain": [
              "array([[5.1868563]], dtype=float32)"
            ]
          },
          "metadata": {},
          "execution_count": 61
        }
      ]
    },
    {
      "cell_type": "code",
      "source": [
        "model.predict([[2023]])  # 2023년을 예측한 값이다"
      ],
      "metadata": {
        "colab": {
          "base_uri": "https://localhost:8080/"
        },
        "id": "R7Nw8WF9pTdp",
        "outputId": "53279ebe-6d2a-4dd2-bd5a-4ca5a2615d68"
      },
      "execution_count": null,
      "outputs": [
        {
          "output_type": "stream",
          "name": "stdout",
          "text": [
            "1/1 [==============================] - 0s 70ms/step\n"
          ]
        },
        {
          "output_type": "execute_result",
          "data": {
            "text/plain": [
              "array([[5.1868563]], dtype=float32)"
            ]
          },
          "metadata": {},
          "execution_count": 62
        }
      ]
    },
    {
      "cell_type": "markdown",
      "source": [
        "## 2. 2022년 2월 러시아-우크라이나 전쟁 발발 전후 비트코인 _ 비트코인 시세 변동원인"
      ],
      "metadata": {
        "id": "NooF5UeghqaZ"
      }
    },
    {
      "cell_type": "markdown",
      "source": [
        "### 2-1. 데이터불러오기 _ 2018년 1월 1일 부터 2월28일 까지 데이터 불러오기"
      ],
      "metadata": {
        "id": "SpYEcbjLp2He"
      }
    },
    {
      "cell_type": "code",
      "source": [
        "!pip install finance-datareader # FinanceDataReader에서 데이터를 불러오기 위해 FinanceDataReader를 설치하는 과정"
      ],
      "metadata": {
        "id": "GtK5B-tGhwNQ"
      },
      "execution_count": null,
      "outputs": []
    },
    {
      "cell_type": "code",
      "source": [
        "import pandas as pd\n",
        "import numpy as np\n",
        "import FinanceDataReader as fdr\n",
        "import matplotlib.pyplot as plt\n",
        "from sklearn.preprocessing import MinMaxScaler\n",
        "from tensorflow.keras.models import Sequential\n",
        "from tensorflow.keras.layers import Dense, GRU\n",
        "from sklearn.metrics import r2_score\n",
        "\n",
        "# 데이터 불러오기\n",
        "start_date_b = \"2018-01-01\"\n",
        "end_date_b = \"2022-12-31\"\n",
        "ticker_b = \"BTC/KRW\"  # 한국거래소에서 비트코인을 가격 데이터 가져오기\n",
        "df_data_b = fdr.DataReader(ticker_b, start_date_b, end_date_b)\n",
        "df_b = pd.DataFrame(fdr.DataReader(ticker_b, start_date_b, end_date_b)['Close'])"
      ],
      "metadata": {
        "id": "c1l13OPUh1CA"
      },
      "execution_count": null,
      "outputs": []
    },
    {
      "cell_type": "code",
      "source": [
        "df_data_b = fdr.DataReader(ticker_b, start_date_b, end_date_b)\n",
        "df_data_b.head()"
      ],
      "metadata": {
        "colab": {
          "base_uri": "https://localhost:8080/",
          "height": 238
        },
        "id": "xk38krhqmDdn",
        "outputId": "f1eb609e-73cb-4e45-a434-310a7901f7a4"
      },
      "execution_count": null,
      "outputs": [
        {
          "output_type": "execute_result",
          "data": {
            "text/plain": [
              "                  Open        High         Low       Close   Adj Close  \\\n",
              "Date                                                                     \n",
              "2018-01-01  15047133.0  15046287.0  14026068.0  14548333.0  14548333.0   \n",
              "2018-01-02  14514031.0  16400157.0  13990142.0  15918331.0  15918331.0   \n",
              "2018-01-03  15914188.0  16565566.0  15788165.0  16172952.0  16172952.0   \n",
              "2018-01-04  16247109.0  16707220.0  15433904.0  16552935.0  16552935.0   \n",
              "2018-01-05  16423476.0  18802922.0  16131843.0  18510128.0  18510128.0   \n",
              "\n",
              "                    Volume  \n",
              "Date                        \n",
              "2018-01-01  10962700800000  \n",
              "2018-01-02  17899344238000  \n",
              "2018-01-03  17950689456200  \n",
              "2018-01-04  23115024576400  \n",
              "2018-01-05  25319034814500  "
            ],
            "text/html": [
              "\n",
              "  <div id=\"df-fbadf79e-423e-4b37-93a5-56a542254543\">\n",
              "    <div class=\"colab-df-container\">\n",
              "      <div>\n",
              "<style scoped>\n",
              "    .dataframe tbody tr th:only-of-type {\n",
              "        vertical-align: middle;\n",
              "    }\n",
              "\n",
              "    .dataframe tbody tr th {\n",
              "        vertical-align: top;\n",
              "    }\n",
              "\n",
              "    .dataframe thead th {\n",
              "        text-align: right;\n",
              "    }\n",
              "</style>\n",
              "<table border=\"1\" class=\"dataframe\">\n",
              "  <thead>\n",
              "    <tr style=\"text-align: right;\">\n",
              "      <th></th>\n",
              "      <th>Open</th>\n",
              "      <th>High</th>\n",
              "      <th>Low</th>\n",
              "      <th>Close</th>\n",
              "      <th>Adj Close</th>\n",
              "      <th>Volume</th>\n",
              "    </tr>\n",
              "    <tr>\n",
              "      <th>Date</th>\n",
              "      <th></th>\n",
              "      <th></th>\n",
              "      <th></th>\n",
              "      <th></th>\n",
              "      <th></th>\n",
              "      <th></th>\n",
              "    </tr>\n",
              "  </thead>\n",
              "  <tbody>\n",
              "    <tr>\n",
              "      <th>2018-01-01</th>\n",
              "      <td>15047133.0</td>\n",
              "      <td>15046287.0</td>\n",
              "      <td>14026068.0</td>\n",
              "      <td>14548333.0</td>\n",
              "      <td>14548333.0</td>\n",
              "      <td>10962700800000</td>\n",
              "    </tr>\n",
              "    <tr>\n",
              "      <th>2018-01-02</th>\n",
              "      <td>14514031.0</td>\n",
              "      <td>16400157.0</td>\n",
              "      <td>13990142.0</td>\n",
              "      <td>15918331.0</td>\n",
              "      <td>15918331.0</td>\n",
              "      <td>17899344238000</td>\n",
              "    </tr>\n",
              "    <tr>\n",
              "      <th>2018-01-03</th>\n",
              "      <td>15914188.0</td>\n",
              "      <td>16565566.0</td>\n",
              "      <td>15788165.0</td>\n",
              "      <td>16172952.0</td>\n",
              "      <td>16172952.0</td>\n",
              "      <td>17950689456200</td>\n",
              "    </tr>\n",
              "    <tr>\n",
              "      <th>2018-01-04</th>\n",
              "      <td>16247109.0</td>\n",
              "      <td>16707220.0</td>\n",
              "      <td>15433904.0</td>\n",
              "      <td>16552935.0</td>\n",
              "      <td>16552935.0</td>\n",
              "      <td>23115024576400</td>\n",
              "    </tr>\n",
              "    <tr>\n",
              "      <th>2018-01-05</th>\n",
              "      <td>16423476.0</td>\n",
              "      <td>18802922.0</td>\n",
              "      <td>16131843.0</td>\n",
              "      <td>18510128.0</td>\n",
              "      <td>18510128.0</td>\n",
              "      <td>25319034814500</td>\n",
              "    </tr>\n",
              "  </tbody>\n",
              "</table>\n",
              "</div>\n",
              "      <button class=\"colab-df-convert\" onclick=\"convertToInteractive('df-fbadf79e-423e-4b37-93a5-56a542254543')\"\n",
              "              title=\"Convert this dataframe to an interactive table.\"\n",
              "              style=\"display:none;\">\n",
              "        \n",
              "  <svg xmlns=\"http://www.w3.org/2000/svg\" height=\"24px\"viewBox=\"0 0 24 24\"\n",
              "       width=\"24px\">\n",
              "    <path d=\"M0 0h24v24H0V0z\" fill=\"none\"/>\n",
              "    <path d=\"M18.56 5.44l.94 2.06.94-2.06 2.06-.94-2.06-.94-.94-2.06-.94 2.06-2.06.94zm-11 1L8.5 8.5l.94-2.06 2.06-.94-2.06-.94L8.5 2.5l-.94 2.06-2.06.94zm10 10l.94 2.06.94-2.06 2.06-.94-2.06-.94-.94-2.06-.94 2.06-2.06.94z\"/><path d=\"M17.41 7.96l-1.37-1.37c-.4-.4-.92-.59-1.43-.59-.52 0-1.04.2-1.43.59L10.3 9.45l-7.72 7.72c-.78.78-.78 2.05 0 2.83L4 21.41c.39.39.9.59 1.41.59.51 0 1.02-.2 1.41-.59l7.78-7.78 2.81-2.81c.8-.78.8-2.07 0-2.86zM5.41 20L4 18.59l7.72-7.72 1.47 1.35L5.41 20z\"/>\n",
              "  </svg>\n",
              "      </button>\n",
              "      \n",
              "  <style>\n",
              "    .colab-df-container {\n",
              "      display:flex;\n",
              "      flex-wrap:wrap;\n",
              "      gap: 12px;\n",
              "    }\n",
              "\n",
              "    .colab-df-convert {\n",
              "      background-color: #E8F0FE;\n",
              "      border: none;\n",
              "      border-radius: 50%;\n",
              "      cursor: pointer;\n",
              "      display: none;\n",
              "      fill: #1967D2;\n",
              "      height: 32px;\n",
              "      padding: 0 0 0 0;\n",
              "      width: 32px;\n",
              "    }\n",
              "\n",
              "    .colab-df-convert:hover {\n",
              "      background-color: #E2EBFA;\n",
              "      box-shadow: 0px 1px 2px rgba(60, 64, 67, 0.3), 0px 1px 3px 1px rgba(60, 64, 67, 0.15);\n",
              "      fill: #174EA6;\n",
              "    }\n",
              "\n",
              "    [theme=dark] .colab-df-convert {\n",
              "      background-color: #3B4455;\n",
              "      fill: #D2E3FC;\n",
              "    }\n",
              "\n",
              "    [theme=dark] .colab-df-convert:hover {\n",
              "      background-color: #434B5C;\n",
              "      box-shadow: 0px 1px 3px 1px rgba(0, 0, 0, 0.15);\n",
              "      filter: drop-shadow(0px 1px 2px rgba(0, 0, 0, 0.3));\n",
              "      fill: #FFFFFF;\n",
              "    }\n",
              "  </style>\n",
              "\n",
              "      <script>\n",
              "        const buttonEl =\n",
              "          document.querySelector('#df-fbadf79e-423e-4b37-93a5-56a542254543 button.colab-df-convert');\n",
              "        buttonEl.style.display =\n",
              "          google.colab.kernel.accessAllowed ? 'block' : 'none';\n",
              "\n",
              "        async function convertToInteractive(key) {\n",
              "          const element = document.querySelector('#df-fbadf79e-423e-4b37-93a5-56a542254543');\n",
              "          const dataTable =\n",
              "            await google.colab.kernel.invokeFunction('convertToInteractive',\n",
              "                                                     [key], {});\n",
              "          if (!dataTable) return;\n",
              "\n",
              "          const docLinkHtml = 'Like what you see? Visit the ' +\n",
              "            '<a target=\"_blank\" href=https://colab.research.google.com/notebooks/data_table.ipynb>data table notebook</a>'\n",
              "            + ' to learn more about interactive tables.';\n",
              "          element.innerHTML = '';\n",
              "          dataTable['output_type'] = 'display_data';\n",
              "          await google.colab.output.renderOutput(dataTable, element);\n",
              "          const docLink = document.createElement('div');\n",
              "          docLink.innerHTML = docLinkHtml;\n",
              "          element.appendChild(docLink);\n",
              "        }\n",
              "      </script>\n",
              "    </div>\n",
              "  </div>\n",
              "  "
            ]
          },
          "metadata": {},
          "execution_count": 46
        }
      ]
    },
    {
      "cell_type": "code",
      "source": [
        "len(df_data_b)  # 전체 데이터의 갯수"
      ],
      "metadata": {
        "colab": {
          "base_uri": "https://localhost:8080/"
        },
        "id": "DrB9r4PFscVb",
        "outputId": "5392ac5b-2f60-4b94-c912-37d101a42408"
      },
      "execution_count": null,
      "outputs": [
        {
          "output_type": "execute_result",
          "data": {
            "text/plain": [
              "1520"
            ]
          },
          "metadata": {},
          "execution_count": 88
        }
      ]
    },
    {
      "cell_type": "code",
      "source": [
        "df_data_b.to_csv(\"War_bitcoin.csv\", index = False)  # df_data_b을 csv파일로 저장"
      ],
      "metadata": {
        "id": "rge3wYI-ssEp"
      },
      "execution_count": null,
      "outputs": []
    },
    {
      "cell_type": "markdown",
      "source": [
        "### 2-2 . 데이터 전처리"
      ],
      "metadata": {
        "id": "y9Miffy_qBjS"
      }
    },
    {
      "cell_type": "code",
      "source": [
        "# 데이터 전처리\n",
        "scaler_b = MinMaxScaler()\n",
        "scaled_data_b = scaler_b.fit_transform(df_b) # minmaxScaler는 스케일을 조정하는 정규화 함수로, 모든 데이터가 0과 1사이의 값을 갖도록 해주는 함수이다\n",
        "                          # 따라서 최댓값은 1로, 최솟값은 0으로 데이터의 범위를 조정해준다. 객체생성함"
      ],
      "metadata": {
        "id": "ViZa1fV2mK1b"
      },
      "execution_count": null,
      "outputs": []
    },
    {
      "cell_type": "code",
      "source": [
        "scaler_b"
      ],
      "metadata": {
        "colab": {
          "base_uri": "https://localhost:8080/",
          "height": 75
        },
        "id": "2NDplOEEtNmZ",
        "outputId": "b0a80cc3-0540-40cb-8762-e1a8de892d0f"
      },
      "execution_count": null,
      "outputs": [
        {
          "output_type": "execute_result",
          "data": {
            "text/plain": [
              "MinMaxScaler()"
            ],
            "text/html": [
              "<style>#sk-container-id-2 {color: black;background-color: white;}#sk-container-id-2 pre{padding: 0;}#sk-container-id-2 div.sk-toggleable {background-color: white;}#sk-container-id-2 label.sk-toggleable__label {cursor: pointer;display: block;width: 100%;margin-bottom: 0;padding: 0.3em;box-sizing: border-box;text-align: center;}#sk-container-id-2 label.sk-toggleable__label-arrow:before {content: \"▸\";float: left;margin-right: 0.25em;color: #696969;}#sk-container-id-2 label.sk-toggleable__label-arrow:hover:before {color: black;}#sk-container-id-2 div.sk-estimator:hover label.sk-toggleable__label-arrow:before {color: black;}#sk-container-id-2 div.sk-toggleable__content {max-height: 0;max-width: 0;overflow: hidden;text-align: left;background-color: #f0f8ff;}#sk-container-id-2 div.sk-toggleable__content pre {margin: 0.2em;color: black;border-radius: 0.25em;background-color: #f0f8ff;}#sk-container-id-2 input.sk-toggleable__control:checked~div.sk-toggleable__content {max-height: 200px;max-width: 100%;overflow: auto;}#sk-container-id-2 input.sk-toggleable__control:checked~label.sk-toggleable__label-arrow:before {content: \"▾\";}#sk-container-id-2 div.sk-estimator input.sk-toggleable__control:checked~label.sk-toggleable__label {background-color: #d4ebff;}#sk-container-id-2 div.sk-label input.sk-toggleable__control:checked~label.sk-toggleable__label {background-color: #d4ebff;}#sk-container-id-2 input.sk-hidden--visually {border: 0;clip: rect(1px 1px 1px 1px);clip: rect(1px, 1px, 1px, 1px);height: 1px;margin: -1px;overflow: hidden;padding: 0;position: absolute;width: 1px;}#sk-container-id-2 div.sk-estimator {font-family: monospace;background-color: #f0f8ff;border: 1px dotted black;border-radius: 0.25em;box-sizing: border-box;margin-bottom: 0.5em;}#sk-container-id-2 div.sk-estimator:hover {background-color: #d4ebff;}#sk-container-id-2 div.sk-parallel-item::after {content: \"\";width: 100%;border-bottom: 1px solid gray;flex-grow: 1;}#sk-container-id-2 div.sk-label:hover label.sk-toggleable__label {background-color: #d4ebff;}#sk-container-id-2 div.sk-serial::before {content: \"\";position: absolute;border-left: 1px solid gray;box-sizing: border-box;top: 0;bottom: 0;left: 50%;z-index: 0;}#sk-container-id-2 div.sk-serial {display: flex;flex-direction: column;align-items: center;background-color: white;padding-right: 0.2em;padding-left: 0.2em;position: relative;}#sk-container-id-2 div.sk-item {position: relative;z-index: 1;}#sk-container-id-2 div.sk-parallel {display: flex;align-items: stretch;justify-content: center;background-color: white;position: relative;}#sk-container-id-2 div.sk-item::before, #sk-container-id-2 div.sk-parallel-item::before {content: \"\";position: absolute;border-left: 1px solid gray;box-sizing: border-box;top: 0;bottom: 0;left: 50%;z-index: -1;}#sk-container-id-2 div.sk-parallel-item {display: flex;flex-direction: column;z-index: 1;position: relative;background-color: white;}#sk-container-id-2 div.sk-parallel-item:first-child::after {align-self: flex-end;width: 50%;}#sk-container-id-2 div.sk-parallel-item:last-child::after {align-self: flex-start;width: 50%;}#sk-container-id-2 div.sk-parallel-item:only-child::after {width: 0;}#sk-container-id-2 div.sk-dashed-wrapped {border: 1px dashed gray;margin: 0 0.4em 0.5em 0.4em;box-sizing: border-box;padding-bottom: 0.4em;background-color: white;}#sk-container-id-2 div.sk-label label {font-family: monospace;font-weight: bold;display: inline-block;line-height: 1.2em;}#sk-container-id-2 div.sk-label-container {text-align: center;}#sk-container-id-2 div.sk-container {/* jupyter's `normalize.less` sets `[hidden] { display: none; }` but bootstrap.min.css set `[hidden] { display: none !important; }` so we also need the `!important` here to be able to override the default hidden behavior on the sphinx rendered scikit-learn.org. See: https://github.com/scikit-learn/scikit-learn/issues/21755 */display: inline-block !important;position: relative;}#sk-container-id-2 div.sk-text-repr-fallback {display: none;}</style><div id=\"sk-container-id-2\" class=\"sk-top-container\"><div class=\"sk-text-repr-fallback\"><pre>MinMaxScaler()</pre><b>In a Jupyter environment, please rerun this cell to show the HTML representation or trust the notebook. <br />On GitHub, the HTML representation is unable to render, please try loading this page with nbviewer.org.</b></div><div class=\"sk-container\" hidden><div class=\"sk-item\"><div class=\"sk-estimator sk-toggleable\"><input class=\"sk-toggleable__control sk-hidden--visually\" id=\"sk-estimator-id-2\" type=\"checkbox\" checked><label for=\"sk-estimator-id-2\" class=\"sk-toggleable__label sk-toggleable__label-arrow\">MinMaxScaler</label><div class=\"sk-toggleable__content\"><pre>MinMaxScaler()</pre></div></div></div></div></div>"
            ]
          },
          "metadata": {},
          "execution_count": 96
        }
      ]
    },
    {
      "cell_type": "markdown",
      "source": [
        "### 2-3 . train, test 데이터 생성"
      ],
      "metadata": {
        "id": "TTtt0knOqEtj"
      }
    },
    {
      "cell_type": "code",
      "source": [
        "# train, test 데이터 생성\n",
        "\n",
        "train_size_b = int(len(scaled_data_b) * 0.8)   ## 전체 데이터셋 중 80%를 학습 데이터셋으로, 20%를 테스트 데이터셋(검증용) 으로 사용하기 위해서 0.8을 곱했다\n",
        "                                          # 모델 학습 시 과적합을 방지하고 일반화 성능을 높이기 위해 사용된다\n",
        "train_data_b = scaled_data_b[:train_size_b]\n",
        "test_data_b = scaled_data_b[train_size_b:]\n",
        "\n",
        "def create_dataset_b(data, look_back=60): #look_back은 몇 개의 과거 데이터를 사용할 것인지를 표현하는 것이다(기본값이 60이다)\n",
        "    x_b, y_b = [], []        #  for문에서 얻은 모든 입력 데이터(x)와 출력 데이터(y)를 리스트에 추가한다\n",
        "    for i in range(len(data)-look_back):\n",
        "        x_b.append(data[i:(i+look_back), 0])   # i부터 (i+look_back)까지의 데이터를 하나의 입력 데이터 x 로 표현한다.\n",
        "        y_b.append(data[i+look_back, 0])       # i+look_back의 데이터를 출력 데이터 y 로 표현한다.\n",
        "    return np.array(x_b), np.array(y_b)         # 리스트를 numpy 배열로 변환하여 반환\n",
        "\n",
        "# create_dataset()는 시계열 데이터를 RNN 모델에 입력으로 사용하기 위해 입력 데이터와 출력 데이터로 분리하는 함수이다.\n",
        "\n",
        "look_back = 60\n",
        "x_train_b, y_train_b = create_dataset_b(train_data_b, look_back)\n",
        "x_test_b, y_test_b = create_dataset_b(test_data_b, look_back)"
      ],
      "metadata": {
        "id": "KlG0J6e_mRxY"
      },
      "execution_count": null,
      "outputs": []
    },
    {
      "cell_type": "code",
      "source": [
        "train_data_b"
      ],
      "metadata": {
        "colab": {
          "base_uri": "https://localhost:8080/"
        },
        "id": "CEqd1pBss7m0",
        "outputId": "1fe00e93-6971-4d83-c03a-714945073f25"
      },
      "execution_count": null,
      "outputs": [
        {
          "output_type": "execute_result",
          "data": {
            "text/plain": [
              "array([[0.14048103],\n",
              "       [0.15816443],\n",
              "       [0.16145098],\n",
              "       ...,\n",
              "       [0.73795345],\n",
              "       [0.71836666],\n",
              "       [0.78589408]])"
            ]
          },
          "metadata": {},
          "execution_count": 90
        }
      ]
    },
    {
      "cell_type": "code",
      "source": [
        "test_data_b"
      ],
      "metadata": {
        "colab": {
          "base_uri": "https://localhost:8080/"
        },
        "id": "B9x81ewFs-6B",
        "outputId": "eb0f4321-bc3c-48f3-95b6-d3f4fa92364e"
      },
      "execution_count": null,
      "outputs": [
        {
          "output_type": "execute_result",
          "data": {
            "text/plain": [
              "array([[0.78701756],\n",
              "       [0.76974681],\n",
              "       [0.77998353],\n",
              "       [0.727814  ],\n",
              "       [0.78654591],\n",
              "       [0.76829351],\n",
              "       [0.77666663],\n",
              "       [0.7974593 ],\n",
              "       [0.78925099],\n",
              "       [0.75774061],\n",
              "       [0.77188539],\n",
              "       [0.67123642],\n",
              "       [0.67575145],\n",
              "       [0.67801963],\n",
              "       [0.63264606],\n",
              "       [0.62820656],\n",
              "       [0.59137691],\n",
              "       [0.57752626],\n",
              "       [0.49300716],\n",
              "       [0.54651154],\n",
              "       [0.49574403],\n",
              "       [0.49912041],\n",
              "       [0.458855  ],\n",
              "       [0.51384516],\n",
              "       [0.50905034],\n",
              "       [0.51898961],\n",
              "       [0.50751846],\n",
              "       [0.46592646],\n",
              "       [0.45037702],\n",
              "       [0.4656472 ],\n",
              "       [0.48660802],\n",
              "       [0.47745116],\n",
              "       [0.49147951],\n",
              "       [0.51763204],\n",
              "       [0.48162341],\n",
              "       [0.46237775],\n",
              "       [0.46682804],\n",
              "       [0.43367535],\n",
              "       [0.43563106],\n",
              "       [0.49132829],\n",
              "       [0.4797403 ],\n",
              "       [0.49075999],\n",
              "       [0.46507952],\n",
              "       [0.5161755 ],\n",
              "       [0.5327435 ],\n",
              "       [0.53547522],\n",
              "       [0.51347269],\n",
              "       [0.50996012],\n",
              "       [0.47710043],\n",
              "       [0.47458923],\n",
              "       [0.47579676],\n",
              "       [0.4152679 ],\n",
              "       [0.4282844 ],\n",
              "       [0.44612985],\n",
              "       [0.45907438],\n",
              "       [0.41306256],\n",
              "       [0.4210438 ],\n",
              "       [0.45689372],\n",
              "       [0.45495143],\n",
              "       [0.47654535],\n",
              "       [0.46406044],\n",
              "       [0.44427828],\n",
              "       [0.44744256],\n",
              "       [0.45870305],\n",
              "       [0.46774071],\n",
              "       [0.44516441],\n",
              "       [0.45519781],\n",
              "       [0.45153148],\n",
              "       [0.43956545],\n",
              "       [0.45234017],\n",
              "       [0.44823797],\n",
              "       [0.45883063],\n",
              "       [0.4414734 ],\n",
              "       [0.43799041],\n",
              "       [0.43753462],\n",
              "       [0.42080021],\n",
              "       [0.41606859],\n",
              "       [0.41771327],\n",
              "       [0.42161313],\n",
              "       [0.41054371],\n",
              "       [0.39456538],\n",
              "       [0.42917384],\n",
              "       [0.43272509],\n",
              "       [0.45209203],\n",
              "       [0.46266383],\n",
              "       [0.47839388],\n",
              "       [0.50815956],\n",
              "       [0.53991234],\n",
              "       [0.54659823],\n",
              "       [0.54275568],\n",
              "       [0.5806831 ],\n",
              "       [0.57162284],\n",
              "       [0.54706987],\n",
              "       [0.53485488],\n",
              "       [0.51833133],\n",
              "       [0.54016961],\n",
              "       [0.55577657],\n",
              "       [0.58599959],\n",
              "       [0.61185298],\n",
              "       [0.60051952],\n",
              "       [0.63907673],\n",
              "       [0.63139841],\n",
              "       [0.63174309],\n",
              "       [0.61963286],\n",
              "       [0.66976634],\n",
              "       [0.65931825],\n",
              "       [0.65857079],\n",
              "       [0.64533631],\n",
              "       [0.63197992],\n",
              "       [0.62967343],\n",
              "       [0.66207413],\n",
              "       [0.70104769],\n",
              "       [0.69457075],\n",
              "       [0.70088407],\n",
              "       [0.70004838],\n",
              "       [0.66974512],\n",
              "       [0.68851424],\n",
              "       [0.6622204 ],\n",
              "       [0.68871942],\n",
              "       [0.68637493],\n",
              "       [0.68528682],\n",
              "       [0.66119713],\n",
              "       [0.65855783],\n",
              "       [0.68161863],\n",
              "       [0.6900772 ],\n",
              "       [0.69897405],\n",
              "       [0.69776946],\n",
              "       [0.72475273],\n",
              "       [0.73841864],\n",
              "       [0.65479867],\n",
              "       [0.647271  ],\n",
              "       [0.65333072],\n",
              "       [0.63074962],\n",
              "       [0.63554676],\n",
              "       [0.6485676 ],\n",
              "       [0.63295068],\n",
              "       [0.664947  ],\n",
              "       [0.67789958],\n",
              "       [0.67765966],\n",
              "       [0.67386007],\n",
              "       [0.68928255],\n",
              "       [0.67380379],\n",
              "       [0.60929949],\n",
              "       [0.57451827],\n",
              "       [0.61752035],\n",
              "       [0.63347994],\n",
              "       [0.6053321 ],\n",
              "       [0.6034559 ],\n",
              "       [0.61091676],\n",
              "       [0.59487642],\n",
              "       [0.58187205],\n",
              "       [0.59028632],\n",
              "       [0.62234387],\n",
              "       [0.6858752 ],\n",
              "       [0.6796971 ],\n",
              "       [0.68745189],\n",
              "       [0.70376479],\n",
              "       [0.74224192],\n",
              "       [0.80402024],\n",
              "       [0.780035  ],\n",
              "       [0.78622978],\n",
              "       [0.80168061],\n",
              "       [0.79864375],\n",
              "       [0.84004937],\n",
              "       [0.81929268],\n",
              "       [0.83207618],\n",
              "       [0.82749759],\n",
              "       [0.89305144],\n",
              "       [0.8823375 ],\n",
              "       [0.89243796],\n",
              "       [0.90211857],\n",
              "       [0.92794908],\n",
              "       [0.9540775 ],\n",
              "       [0.89825238],\n",
              "       [0.87517253],\n",
              "       [0.88572167],\n",
              "       [0.87879792],\n",
              "       [0.90314044],\n",
              "       [0.86300406],\n",
              "       [0.83747776],\n",
              "       [0.86693066],\n",
              "       [0.89616062],\n",
              "       [0.89101885],\n",
              "       [0.88237839],\n",
              "       [0.87993224],\n",
              "       [0.9149793 ],\n",
              "       [0.91206838],\n",
              "       [0.89336246],\n",
              "       [0.88488443],\n",
              "       [0.89101214],\n",
              "       [0.9186178 ],\n",
              "       [1.        ],\n",
              "       [0.97144505],\n",
              "       [0.94695188],\n",
              "       [0.95061712],\n",
              "       [0.92980933],\n",
              "       [0.93458535],\n",
              "       [0.94978288],\n",
              "       [0.92369907],\n",
              "       [0.87223445],\n",
              "       [0.87353306],\n",
              "       [0.82219018],\n",
              "       [0.84672229],\n",
              "       [0.87099005],\n",
              "       [0.85515324],\n",
              "       [0.81766689],\n",
              "       [0.83700214],\n",
              "       [0.81636792],\n",
              "       [0.83266105],\n",
              "       [0.77956971],\n",
              "       [0.79879168],\n",
              "       [0.83626062],\n",
              "       [0.84132164],\n",
              "       [0.82311984],\n",
              "       [0.82229499],\n",
              "       [0.81063142],\n",
              "       [0.77207756],\n",
              "       [0.70485032],\n",
              "       [0.70616607],\n",
              "       [0.72354431],\n",
              "       [0.72291298],\n",
              "       [0.71714307],\n",
              "       [0.6777622 ],\n",
              "       [0.67286861],\n",
              "       [0.70517353],\n",
              "       [0.71637388],\n",
              "       [0.66767655],\n",
              "       [0.66579916],\n",
              "       [0.7008501 ],\n",
              "       [0.68251803],\n",
              "       [0.66110616],\n",
              "       [0.67102086],\n",
              "       [0.6688228 ],\n",
              "       [0.67294404],\n",
              "       [0.70521571],\n",
              "       [0.69834999],\n",
              "       [0.72989889],\n",
              "       [0.73137392],\n",
              "       [0.72536264],\n",
              "       [0.73018275],\n",
              "       [0.72834636],\n",
              "       [0.68289049],\n",
              "       [0.6629012 ],\n",
              "       [0.67771506],\n",
              "       [0.66329715],\n",
              "       [0.68447968],\n",
              "       [0.67924094],\n",
              "       [0.66970222],\n",
              "       [0.66212896],\n",
              "       [0.62768375],\n",
              "       [0.62366375],\n",
              "       [0.59513488],\n",
              "       [0.59780242],\n",
              "       [0.60059341],\n",
              "       [0.59947607],\n",
              "       [0.60884901],\n",
              "       [0.62546153],\n",
              "       [0.60516043],\n",
              "       [0.61485539],\n",
              "       [0.61604909],\n",
              "       [0.61503945],\n",
              "       [0.60225126],\n",
              "       [0.60525966],\n",
              "       [0.59294926],\n",
              "       [0.57886581],\n",
              "       [0.51390685],\n",
              "       [0.49193918],\n",
              "       [0.51105484],\n",
              "       [0.51843226],\n",
              "       [0.52331748],\n",
              "       [0.52388723],\n",
              "       [0.52966225],\n",
              "       [0.54272785],\n",
              "       [0.54825339],\n",
              "       [0.54474686],\n",
              "       [0.55180733],\n",
              "       [0.55407184],\n",
              "       [0.52511428],\n",
              "       [0.52850118],\n",
              "       [0.59464708],\n",
              "       [0.59372341],\n",
              "       [0.60874704],\n",
              "       [0.63004734],\n",
              "       [0.63406311],\n",
              "       [0.63613277],\n",
              "       [0.62717344],\n",
              "       [0.60944689],\n",
              "       [0.60691535],\n",
              "       [0.60618395],\n",
              "       [0.61095714],\n",
              "       [0.64134744],\n",
              "       [0.63178951],\n",
              "       [0.57997029],\n",
              "       [0.5705357 ],\n",
              "       [0.57194294],\n",
              "       [0.54579207],\n",
              "       [0.52443885],\n",
              "       [0.5422545 ],\n",
              "       [0.52677993],\n",
              "       [0.5494317 ],\n",
              "       [0.55899279],\n",
              "       [0.55735068],\n",
              "       [0.53585377],\n",
              "       [0.62236659]])"
            ]
          },
          "metadata": {},
          "execution_count": 91
        }
      ]
    },
    {
      "cell_type": "code",
      "source": [
        "x_train_b"
      ],
      "metadata": {
        "colab": {
          "base_uri": "https://localhost:8080/"
        },
        "id": "Nfi7j5pvtBiB",
        "outputId": "67df7f83-c2f6-4ab7-91f0-16ce72513b6b"
      },
      "execution_count": null,
      "outputs": [
        {
          "output_type": "execute_result",
          "data": {
            "text/plain": [
              "array([[0.14048103, 0.15816443, 0.16145098, ..., 0.10227909, 0.09835042,\n",
              "        0.10562754],\n",
              "       [0.15816443, 0.16145098, 0.16635566, ..., 0.09835042, 0.10562754,\n",
              "        0.10705619],\n",
              "       [0.16145098, 0.16635566, 0.19161835, ..., 0.10562754, 0.10705619,\n",
              "        0.11267147],\n",
              "       ...,\n",
              "       [0.6233248 , 0.60807802, 0.65899365, ..., 0.65804855, 0.72685119,\n",
              "        0.74341744],\n",
              "       [0.60807802, 0.65899365, 0.65540977, ..., 0.72685119, 0.74341744,\n",
              "        0.73795345],\n",
              "       [0.65899365, 0.65540977, 0.68872128, ..., 0.74341744, 0.73795345,\n",
              "        0.71836666]])"
            ]
          },
          "metadata": {},
          "execution_count": 92
        }
      ]
    },
    {
      "cell_type": "code",
      "source": [
        "y_train_b"
      ],
      "metadata": {
        "colab": {
          "base_uri": "https://localhost:8080/"
        },
        "id": "onxLSTYOtEB3",
        "outputId": "03804760-6465-4d42-9862-6fc5b7a04314"
      },
      "execution_count": null,
      "outputs": [
        {
          "output_type": "execute_result",
          "data": {
            "text/plain": [
              "array([[11958789.        , 12393825.        , 12424052.        , ...,\n",
              "        60836704.        , 59319244.00000001, 64550840.        ]])"
            ]
          },
          "metadata": {},
          "execution_count": 93
        }
      ]
    },
    {
      "cell_type": "code",
      "source": [
        "x_test_b"
      ],
      "metadata": {
        "colab": {
          "base_uri": "https://localhost:8080/"
        },
        "id": "i1u6EX4MtGZB",
        "outputId": "2eea59cd-9936-4fb2-a5c9-173c63251aca"
      },
      "execution_count": null,
      "outputs": [
        {
          "output_type": "execute_result",
          "data": {
            "text/plain": [
              "array([[0.78701756, 0.76974681, 0.77998353, ..., 0.45689372, 0.45495143,\n",
              "        0.47654535],\n",
              "       [0.76974681, 0.77998353, 0.727814  , ..., 0.45495143, 0.47654535,\n",
              "        0.46406044],\n",
              "       [0.77998353, 0.727814  , 0.78654591, ..., 0.47654535, 0.46406044,\n",
              "        0.44427828],\n",
              "       ...,\n",
              "       [0.68289049, 0.6629012 , 0.67771506, ..., 0.52677993, 0.5494317 ,\n",
              "        0.55899279],\n",
              "       [0.6629012 , 0.67771506, 0.66329715, ..., 0.5494317 , 0.55899279,\n",
              "        0.55735068],\n",
              "       [0.67771506, 0.66329715, 0.68447968, ..., 0.55899279, 0.55735068,\n",
              "        0.53585377]])"
            ]
          },
          "metadata": {},
          "execution_count": 94
        }
      ]
    },
    {
      "cell_type": "code",
      "source": [
        "y_test_b"
      ],
      "metadata": {
        "colab": {
          "base_uri": "https://localhost:8080/"
        },
        "id": "HCsV3NXktJZK",
        "outputId": "3d28ecee-e779-4d43-b9f3-9c7267ed6b87"
      },
      "execution_count": null,
      "outputs": [
        {
          "output_type": "execute_result",
          "data": {
            "text/plain": [
              "array([[39617212.        , 38084616.        , 38329764.        ,\n",
              "        39202156.        , 39902336.        , 38153268.        ,\n",
              "        38930592.        , 38646548.00000001, 37719496.        ,\n",
              "        38709200.00000001, 38391388.00000001, 39212039.99999999,\n",
              "        37867312.        , 37597472.00000001, 37562160.00000001,\n",
              "        36265684.        , 35899108.00000001, 36026528.        ,\n",
              "        36328664.        , 35471076.        , 34233176.        ,\n",
              "        36914420.00000001, 37189548.        , 38689976.        ,\n",
              "        39509012.        , 40727676.        , 43033732.        ,\n",
              "        45493736.        , 46011716.        , 45714020.        ,\n",
              "        48652396.        , 47950464.        , 46048256.        ,\n",
              "        45101916.        , 43821776.00000001, 45513668.        ,\n",
              "        46722796.00000001, 49064284.        , 51067240.        ,\n",
              "        50189195.99999999, 53176364.        , 52581496.        ,\n",
              "        52608200.        , 51669976.        , 55554000.        ,\n",
              "        54744548.        , 54686640.        , 53661316.        ,\n",
              "        52626548.        , 52447856.        , 54958056.00000001,\n",
              "        57977480.        , 57475688.        , 57964804.        ,\n",
              "        57900060.        , 55552356.        , 57006468.        ,\n",
              "        54969388.        , 57022364.        , 56840728.        ,\n",
              "        56756428.        , 54890112.        , 54685636.        ,\n",
              "        56472240.        , 57127556.        , 57816827.99999999,\n",
              "        57723504.        , 59813996.        , 60872744.        ,\n",
              "        54394400.        , 53811204.00000001, 54280672.        ,\n",
              "        52531232.        , 52902884.        , 53911656.        ,\n",
              "        52701756.        , 55180628.        , 56184112.        ,\n",
              "        56165524.        , 55871156.        , 57065992.        ,\n",
              "        55866796.        , 50869412.        , 48174784.        ,\n",
              "        51506312.        , 52742760.        , 50562044.        ,\n",
              "        50416688.        , 50994708.        , 49752004.        ,\n",
              "        48744508.        , 49396392.        , 51880008.00000001,\n",
              "        56802012.        , 56323372.00000001, 56924164.        ,\n",
              "        58187984.00000001, 61168948.        , 65955140.        ,\n",
              "        64096916.        , 64576848.        , 65773880.        ,\n",
              "        65538603.99999999, 68746448.        , 67138352.        ,\n",
              "        68128736.        , 67774016.        , 72852712.        ,\n",
              "        72022664.        , 72805184.        , 73555176.        ,\n",
              "        75556360.        , 77580624.        , 73255648.        ,\n",
              "        71467568.        , 72284848.        , 71748440.        ,\n",
              "        73634344.        , 70524832.        , 68547216.        ,\n",
              "        70829040.        , 73093592.        , 72695240.        ,\n",
              "        72025832.        , 71836320.        , 74551544.        ,\n",
              "        74326024.        , 72876808.        , 72219984.        ,\n",
              "        72694720.        , 74833432.        , 81138407.99999999,\n",
              "        78926152.        , 77028576.        , 77312536.        ,\n",
              "        75700480.        , 76070496.        , 77247904.        ,\n",
              "        75227096.        , 71239944.        , 71340552.        ,\n",
              "        67362832.        , 69263424.        , 71143536.        ,\n",
              "        69916600.        , 67012396.        , 68510368.        ,\n",
              "        66911760.        , 68174048.        , 64060868.        ,\n",
              "        65550064.        , 68452920.        , 68845016.        ,\n",
              "        67434856.        , 67370952.        , 66467332.        ,\n",
              "        63480424.        , 58272084.        , 58374020.        ,\n",
              "        59720376.        , 59671464.        , 59224448.        ,\n",
              "        56173468.        , 55794344.        , 58297124.        ,\n",
              "        59164856.        , 55392096.        , 55246648.        ,\n",
              "        57962171.99999999, 56541920.        , 54883064.        ,\n",
              "        55651192.        , 55480900.        , 55800188.        ,\n",
              "        58300392.        , 57768480.        , 60212688.        ,\n",
              "        60326964.        , 59861248.        , 60234680.        ,\n",
              "        60092408.        , 56570776.        , 55022132.        ,\n",
              "        56169816.        , 55052808.        , 56693896.        ,\n",
              "        56288032.        , 55549032.        , 54962304.        ,\n",
              "        52293708.        , 51982264.        , 49772028.        ,\n",
              "        49978692.        , 50194920.        , 50108356.        ,\n",
              "        50834512.        , 52121544.        , 50548744.        ,\n",
              "        51299848.        , 51392328.        , 51314108.        ,\n",
              "        50323360.        , 50556432.00000001, 49602700.00000001,\n",
              "        48511604.        , 43478996.        , 41777080.        ,\n",
              "        43258040.        , 43829596.        , 44208072.        ,\n",
              "        44252212.        , 44699624.        , 45711864.        ,\n",
              "        46139948.        , 45868284.        , 46415284.        ,\n",
              "        46590723.99999999, 44347276.        , 44609672.        ,\n",
              "        49734236.        , 49662676.        , 50826612.        ,\n",
              "        52476824.        , 52787940.        , 52948284.        ,\n",
              "        52254172.00000001, 50880832.        , 50684704.        ,\n",
              "        50628039.99999999, 50997836.        , 53352284.        ,\n",
              "        52611796.        , 48597172.        , 47866240.        ,\n",
              "        47975264.00000001, 45949260.        , 44294948.        ,\n",
              "        45675192.        , 44476320.        , 46231236.        ,\n",
              "        46971968.        , 46844748.        , 45179304.        ,\n",
              "        51881768.        ]])"
            ]
          },
          "metadata": {},
          "execution_count": 95
        }
      ]
    },
    {
      "cell_type": "markdown",
      "source": [
        "### 2-4. 모델생성"
      ],
      "metadata": {
        "id": "XAQbkinFqIT6"
      }
    },
    {
      "cell_type": "code",
      "source": [
        "# 모델 생성\n",
        "model_b = Sequential()   # 모델의 객체생성\n",
        "model_b.add(GRU(50, input_shape=(look_back, 1)))   #  50=레이어의 출력 차원, input_shape=입력 데이터의 형태를 정의를 의미한다.\n",
        "                                                  # lock_back=이전 데이터의 갯수만큼 비트코인 가격을 입력으로 받아들이고, 각각의 데이터가 1차원인 것을 의미합니다.\n",
        "\n",
        "model_b.add(Dense(1))   # Dense 는 완전 연결 레이어(층)를 의미한다. 1은 출력의 차원을 의미\n",
        "\n",
        "model_b.compile(loss='mean_squared_error', optimizer='adam')  # compile() 함수를 이용하여 모델을 컴파일합니다\n",
        "                                                             # loss는 손실 함수를 의미한다.\n",
        "                                                             # mean_squared_error(MSE) 는 전체 에러를 표현하기 위해서 사용하는 식이고 오차의 제곱에 대해 평균을 취한 것이다.(수치가 작을 수록 원본과의 오차가 적은 것이다)\n",
        "                                                             # optimizer는  최적화 알고리즘을 정의하는 부분이다. adam(아담) 은 모멘텀+ AdaGrad(아다그라드) 을 합친 것이다\n",
        "\n",
        "# 완전 연결 레이어 : 한 레이어의 모든 뉴런이 그 다음 레이어의 모든 뉴런과 연결된 상태이다.\n",
        "\n",
        "# 모멘텀 : 기울기 방향으로 힘을 받아 물체가 가속된다는 물리법칙을 적용한것이다.\n",
        "# AdaGrad : 학습을 진행하면서 학습률을 점차 줄여가는 방법이다."
      ],
      "metadata": {
        "id": "RsbRzPQ1mY1H"
      },
      "execution_count": null,
      "outputs": []
    },
    {
      "cell_type": "markdown",
      "source": [
        "### 2-5. 모델학습"
      ],
      "metadata": {
        "id": "1SWdiC7BqMAU"
      }
    },
    {
      "cell_type": "code",
      "source": [
        "# 모델 학습\n",
        "model_b.fit(x_train_b, y_train_b, epochs=100, batch_size=64, verbose=2)\n",
        "\n",
        "# x_train : 학습데이터의 입력값   , y_train : 학습데이터의 출력값이다.\n",
        "\n",
        "# 에포크 : 훈련 데이터셋에 포함된 모든 데이터들이 한 번씩 모델을 통과한 횟수 또는 전체 학습 데이터셋에 대한 반복 횟수이다\n",
        "# 에포크가 높을수록 더 많은 반복 학습을 수행하게 되므로 모델이 더 많은 학습을 하게 되어 일반적으로 더 좋은 성능을 낼 수 있습니다\n",
        "\n",
        "# batch_size(배치크기) : 학습을 수행할 때, 몇 개의 데이터를 한 번에 처리할지를 지정한다, 일반적으로 32,64, 128 숫자를 사용한다\n",
        "\n",
        "# verbose : 학습 과정 중 출력되는 문구를 설정합니다. 0일 경우 출력하지 않으며, 1일 경우 학습 진행 상황을 출력하고, 2일 경우 학습 결과만 출력한다"
      ],
      "metadata": {
        "colab": {
          "base_uri": "https://localhost:8080/"
        },
        "id": "PKt-1VSVm7Gf",
        "outputId": "d242b2ac-ea3b-4c00-9819-e799906dd89c"
      },
      "execution_count": null,
      "outputs": [
        {
          "output_type": "stream",
          "name": "stdout",
          "text": [
            "Epoch 1/100\n",
            "22/22 - 3s - loss: 0.0177 - 3s/epoch - 147ms/step\n",
            "Epoch 2/100\n",
            "22/22 - 1s - loss: 0.0012 - 774ms/epoch - 35ms/step\n",
            "Epoch 3/100\n",
            "22/22 - 1s - loss: 5.3173e-04 - 1s/epoch - 51ms/step\n",
            "Epoch 4/100\n",
            "22/22 - 1s - loss: 4.0690e-04 - 1s/epoch - 58ms/step\n",
            "Epoch 5/100\n",
            "22/22 - 1s - loss: 3.8542e-04 - 932ms/epoch - 42ms/step\n",
            "Epoch 6/100\n",
            "22/22 - 1s - loss: 3.7615e-04 - 752ms/epoch - 34ms/step\n",
            "Epoch 7/100\n",
            "22/22 - 1s - loss: 3.6326e-04 - 741ms/epoch - 34ms/step\n",
            "Epoch 8/100\n",
            "22/22 - 1s - loss: 3.4977e-04 - 749ms/epoch - 34ms/step\n",
            "Epoch 9/100\n",
            "22/22 - 1s - loss: 3.4638e-04 - 780ms/epoch - 35ms/step\n",
            "Epoch 10/100\n",
            "22/22 - 1s - loss: 3.4315e-04 - 767ms/epoch - 35ms/step\n",
            "Epoch 11/100\n",
            "22/22 - 1s - loss: 3.2588e-04 - 747ms/epoch - 34ms/step\n",
            "Epoch 12/100\n",
            "22/22 - 1s - loss: 3.1687e-04 - 736ms/epoch - 33ms/step\n",
            "Epoch 13/100\n",
            "22/22 - 1s - loss: 3.0936e-04 - 744ms/epoch - 34ms/step\n",
            "Epoch 14/100\n",
            "22/22 - 1s - loss: 3.0271e-04 - 755ms/epoch - 34ms/step\n",
            "Epoch 15/100\n",
            "22/22 - 1s - loss: 2.9728e-04 - 729ms/epoch - 33ms/step\n",
            "Epoch 16/100\n",
            "22/22 - 1s - loss: 2.8834e-04 - 752ms/epoch - 34ms/step\n",
            "Epoch 17/100\n",
            "22/22 - 1s - loss: 2.8548e-04 - 756ms/epoch - 34ms/step\n",
            "Epoch 18/100\n",
            "22/22 - 1s - loss: 2.8407e-04 - 957ms/epoch - 44ms/step\n",
            "Epoch 19/100\n",
            "22/22 - 1s - loss: 2.7937e-04 - 1s/epoch - 58ms/step\n",
            "Epoch 20/100\n",
            "22/22 - 1s - loss: 2.9058e-04 - 1s/epoch - 51ms/step\n",
            "Epoch 21/100\n",
            "22/22 - 1s - loss: 2.7057e-04 - 737ms/epoch - 33ms/step\n",
            "Epoch 22/100\n",
            "22/22 - 1s - loss: 2.7093e-04 - 756ms/epoch - 34ms/step\n",
            "Epoch 23/100\n",
            "22/22 - 1s - loss: 2.7544e-04 - 820ms/epoch - 37ms/step\n",
            "Epoch 24/100\n",
            "22/22 - 1s - loss: 2.8573e-04 - 746ms/epoch - 34ms/step\n",
            "Epoch 25/100\n",
            "22/22 - 1s - loss: 2.7404e-04 - 750ms/epoch - 34ms/step\n",
            "Epoch 26/100\n",
            "22/22 - 1s - loss: 2.6138e-04 - 778ms/epoch - 35ms/step\n",
            "Epoch 27/100\n",
            "22/22 - 1s - loss: 2.6453e-04 - 757ms/epoch - 34ms/step\n",
            "Epoch 28/100\n",
            "22/22 - 1s - loss: 2.5583e-04 - 756ms/epoch - 34ms/step\n",
            "Epoch 29/100\n",
            "22/22 - 1s - loss: 2.5844e-04 - 727ms/epoch - 33ms/step\n",
            "Epoch 30/100\n",
            "22/22 - 1s - loss: 2.5446e-04 - 766ms/epoch - 35ms/step\n",
            "Epoch 31/100\n",
            "22/22 - 1s - loss: 2.5901e-04 - 742ms/epoch - 34ms/step\n",
            "Epoch 32/100\n",
            "22/22 - 1s - loss: 2.6362e-04 - 737ms/epoch - 34ms/step\n",
            "Epoch 33/100\n",
            "22/22 - 1s - loss: 2.4746e-04 - 814ms/epoch - 37ms/step\n",
            "Epoch 34/100\n",
            "22/22 - 1s - loss: 2.4635e-04 - 1s/epoch - 59ms/step\n",
            "Epoch 35/100\n",
            "22/22 - 1s - loss: 2.5767e-04 - 1s/epoch - 58ms/step\n",
            "Epoch 36/100\n",
            "22/22 - 1s - loss: 2.4634e-04 - 763ms/epoch - 35ms/step\n",
            "Epoch 37/100\n",
            "22/22 - 1s - loss: 2.6682e-04 - 763ms/epoch - 35ms/step\n",
            "Epoch 38/100\n",
            "22/22 - 1s - loss: 2.4779e-04 - 766ms/epoch - 35ms/step\n",
            "Epoch 39/100\n",
            "22/22 - 1s - loss: 2.5372e-04 - 755ms/epoch - 34ms/step\n",
            "Epoch 40/100\n",
            "22/22 - 1s - loss: 2.4728e-04 - 982ms/epoch - 45ms/step\n",
            "Epoch 41/100\n",
            "22/22 - 2s - loss: 2.4108e-04 - 2s/epoch - 75ms/step\n",
            "Epoch 42/100\n",
            "22/22 - 2s - loss: 2.5502e-04 - 2s/epoch - 72ms/step\n",
            "Epoch 43/100\n",
            "22/22 - 1s - loss: 2.4250e-04 - 1s/epoch - 65ms/step\n",
            "Epoch 44/100\n",
            "22/22 - 2s - loss: 2.4477e-04 - 2s/epoch - 98ms/step\n",
            "Epoch 45/100\n",
            "22/22 - 2s - loss: 2.4115e-04 - 2s/epoch - 96ms/step\n",
            "Epoch 46/100\n",
            "22/22 - 1s - loss: 2.5015e-04 - 1s/epoch - 49ms/step\n",
            "Epoch 47/100\n",
            "22/22 - 2s - loss: 2.4086e-04 - 2s/epoch - 82ms/step\n",
            "Epoch 48/100\n",
            "22/22 - 1s - loss: 2.4178e-04 - 1s/epoch - 65ms/step\n",
            "Epoch 49/100\n",
            "22/22 - 2s - loss: 2.3576e-04 - 2s/epoch - 83ms/step\n",
            "Epoch 50/100\n",
            "22/22 - 2s - loss: 2.5797e-04 - 2s/epoch - 83ms/step\n",
            "Epoch 51/100\n",
            "22/22 - 2s - loss: 2.5367e-04 - 2s/epoch - 85ms/step\n",
            "Epoch 52/100\n",
            "22/22 - 2s - loss: 2.3620e-04 - 2s/epoch - 72ms/step\n",
            "Epoch 53/100\n",
            "22/22 - 1s - loss: 2.4050e-04 - 1s/epoch - 58ms/step\n",
            "Epoch 54/100\n",
            "22/22 - 1s - loss: 2.3603e-04 - 816ms/epoch - 37ms/step\n",
            "Epoch 55/100\n",
            "22/22 - 1s - loss: 2.5058e-04 - 947ms/epoch - 43ms/step\n",
            "Epoch 56/100\n",
            "22/22 - 2s - loss: 2.3841e-04 - 2s/epoch - 78ms/step\n",
            "Epoch 57/100\n",
            "22/22 - 1s - loss: 2.3667e-04 - 1s/epoch - 50ms/step\n",
            "Epoch 58/100\n",
            "22/22 - 1s - loss: 2.2975e-04 - 767ms/epoch - 35ms/step\n",
            "Epoch 59/100\n",
            "22/22 - 1s - loss: 2.5427e-04 - 778ms/epoch - 35ms/step\n",
            "Epoch 60/100\n",
            "22/22 - 1s - loss: 2.4613e-04 - 766ms/epoch - 35ms/step\n",
            "Epoch 61/100\n",
            "22/22 - 1s - loss: 2.3974e-04 - 762ms/epoch - 35ms/step\n",
            "Epoch 62/100\n",
            "22/22 - 1s - loss: 2.3224e-04 - 731ms/epoch - 33ms/step\n",
            "Epoch 63/100\n",
            "22/22 - 1s - loss: 2.3557e-04 - 765ms/epoch - 35ms/step\n",
            "Epoch 64/100\n",
            "22/22 - 1s - loss: 2.3758e-04 - 753ms/epoch - 34ms/step\n",
            "Epoch 65/100\n",
            "22/22 - 1s - loss: 2.4570e-04 - 1s/epoch - 50ms/step\n",
            "Epoch 66/100\n",
            "22/22 - 1s - loss: 2.2600e-04 - 1s/epoch - 57ms/step\n",
            "Epoch 67/100\n",
            "22/22 - 1s - loss: 2.2587e-04 - 996ms/epoch - 45ms/step\n",
            "Epoch 68/100\n",
            "22/22 - 1s - loss: 2.2888e-04 - 760ms/epoch - 35ms/step\n",
            "Epoch 69/100\n",
            "22/22 - 1s - loss: 2.3443e-04 - 749ms/epoch - 34ms/step\n",
            "Epoch 70/100\n",
            "22/22 - 1s - loss: 2.2278e-04 - 745ms/epoch - 34ms/step\n",
            "Epoch 71/100\n",
            "22/22 - 1s - loss: 2.4043e-04 - 725ms/epoch - 33ms/step\n",
            "Epoch 72/100\n",
            "22/22 - 1s - loss: 2.2755e-04 - 701ms/epoch - 32ms/step\n",
            "Epoch 73/100\n",
            "22/22 - 1s - loss: 2.3849e-04 - 711ms/epoch - 32ms/step\n",
            "Epoch 74/100\n",
            "22/22 - 1s - loss: 2.2747e-04 - 756ms/epoch - 34ms/step\n",
            "Epoch 75/100\n",
            "22/22 - 1s - loss: 2.3129e-04 - 766ms/epoch - 35ms/step\n",
            "Epoch 76/100\n",
            "22/22 - 1s - loss: 2.3116e-04 - 753ms/epoch - 34ms/step\n",
            "Epoch 77/100\n",
            "22/22 - 1s - loss: 2.4004e-04 - 736ms/epoch - 33ms/step\n",
            "Epoch 78/100\n",
            "22/22 - 1s - loss: 2.3193e-04 - 752ms/epoch - 34ms/step\n",
            "Epoch 79/100\n",
            "22/22 - 1s - loss: 2.3075e-04 - 705ms/epoch - 32ms/step\n",
            "Epoch 80/100\n",
            "22/22 - 1s - loss: 2.2767e-04 - 763ms/epoch - 35ms/step\n",
            "Epoch 81/100\n",
            "22/22 - 1s - loss: 2.2479e-04 - 1s/epoch - 55ms/step\n",
            "Epoch 82/100\n",
            "22/22 - 1s - loss: 2.2612e-04 - 1s/epoch - 55ms/step\n",
            "Epoch 83/100\n",
            "22/22 - 1s - loss: 2.2496e-04 - 830ms/epoch - 38ms/step\n",
            "Epoch 84/100\n",
            "22/22 - 1s - loss: 2.3706e-04 - 756ms/epoch - 34ms/step\n",
            "Epoch 85/100\n",
            "22/22 - 1s - loss: 2.2622e-04 - 744ms/epoch - 34ms/step\n",
            "Epoch 86/100\n",
            "22/22 - 1s - loss: 2.2343e-04 - 746ms/epoch - 34ms/step\n",
            "Epoch 87/100\n",
            "22/22 - 1s - loss: 2.3314e-04 - 758ms/epoch - 34ms/step\n",
            "Epoch 88/100\n",
            "22/22 - 1s - loss: 2.2337e-04 - 737ms/epoch - 34ms/step\n",
            "Epoch 89/100\n",
            "22/22 - 1s - loss: 2.2990e-04 - 744ms/epoch - 34ms/step\n",
            "Epoch 90/100\n",
            "22/22 - 1s - loss: 2.3440e-04 - 739ms/epoch - 34ms/step\n",
            "Epoch 91/100\n",
            "22/22 - 1s - loss: 2.4382e-04 - 768ms/epoch - 35ms/step\n",
            "Epoch 92/100\n",
            "22/22 - 1s - loss: 2.4050e-04 - 716ms/epoch - 33ms/step\n",
            "Epoch 93/100\n",
            "22/22 - 1s - loss: 2.2457e-04 - 694ms/epoch - 32ms/step\n",
            "Epoch 94/100\n",
            "22/22 - 1s - loss: 2.4024e-04 - 731ms/epoch - 33ms/step\n",
            "Epoch 95/100\n",
            "22/22 - 1s - loss: 2.2592e-04 - 745ms/epoch - 34ms/step\n",
            "Epoch 96/100\n",
            "22/22 - 1s - loss: 2.3143e-04 - 997ms/epoch - 45ms/step\n",
            "Epoch 97/100\n",
            "22/22 - 1s - loss: 2.3866e-04 - 1s/epoch - 58ms/step\n",
            "Epoch 98/100\n",
            "22/22 - 1s - loss: 2.4133e-04 - 1s/epoch - 51ms/step\n",
            "Epoch 99/100\n",
            "22/22 - 1s - loss: 2.3599e-04 - 722ms/epoch - 33ms/step\n",
            "Epoch 100/100\n",
            "22/22 - 1s - loss: 2.4835e-04 - 714ms/epoch - 32ms/step\n"
          ]
        },
        {
          "output_type": "execute_result",
          "data": {
            "text/plain": [
              "<keras.callbacks.History at 0x7f5a2d8df820>"
            ]
          },
          "metadata": {},
          "execution_count": 48
        }
      ]
    },
    {
      "cell_type": "markdown",
      "source": [
        "### 2-6. 예측해보기"
      ],
      "metadata": {
        "id": "FbgQqdj4qO56"
      }
    },
    {
      "cell_type": "code",
      "source": [
        "# 예측\n",
        "train_predict_b = model_b.predict(x_train_b)\n",
        "test_predict_b = model_b.predict(x_test_b)\n",
        "\n",
        "# model.predict(x_train) 은 학습된 모델을 이용하여 train 데이터에 대한 예측값을 계산한다\n",
        "# mode.predict(x_test) 은 학습된 모델을 이용하여 test 데이터에 대한 예측값을 계산한다."
      ],
      "metadata": {
        "colab": {
          "base_uri": "https://localhost:8080/"
        },
        "id": "9FZkMLbBnAtI",
        "outputId": "9c45b56d-4ba7-47ad-b853-5dabb9a56c6c"
      },
      "execution_count": null,
      "outputs": [
        {
          "output_type": "stream",
          "name": "stdout",
          "text": [
            "44/44 [==============================] - 1s 9ms/step\n",
            "10/10 [==============================] - 0s 10ms/step\n"
          ]
        }
      ]
    },
    {
      "cell_type": "markdown",
      "source": [
        "### 2-7. 예측결과 시각화"
      ],
      "metadata": {
        "id": "P3ElU_ANqT-A"
      }
    },
    {
      "cell_type": "code",
      "source": [
        "import matplotlib.pyplot as plt\n",
        "import datetime\n",
        "\n",
        "# 예측 결과 시각화\n",
        "train_predict_b = scaler_b.inverse_transform(train_predict_b)  # inverse_transform()함수로 원본값을 복원할수있다.\n",
        "y_train_b = scaler_b.inverse_transform(y_train_b.reshape(-1,1))\n",
        "test_predict_b = scaler_b.inverse_transform(test_predict_b)\n",
        "y_test_b = scaler_b.inverse_transform(y_test_b.reshape(-1,1))\n",
        "\n",
        "# train 데이터 예측 결과 시각화\n",
        "plt.figure(figsize=(10, 5))\n",
        "plt.plot(df_b[look_back:len(train_data_b)].index, y_train_b, label='Actual Train Price')\n",
        "plt.plot(df_b[look_back:len(train_data_b)].index, train_predict_b, label='Predicted Train Price')\n",
        "plt.xlabel('Date')\n",
        "plt.ylabel('Price')\n",
        "plt.legend()\n",
        "plt.show()\n",
        "\n",
        "# test 데이터 예측 결과 시각화\n",
        "plt.figure(figsize=(10, 5))\n",
        "plt.plot(df_b[len(train_data_b)+look_back:].index, y_test_b, label='Actual Test Price')\n",
        "plt.plot(df_b[len(train_data_b)+look_back:].index, test_predict_b, label='Predicted Test Price')\n",
        "\n",
        "# 2022년 2월 24일에 빨간색 세로축을 추가합니다.\n",
        "target_date = datetime.datetime(2022, 2, 24)\n",
        "plt.axvline(x=target_date, color='red', linestyle='--')\n",
        "\n",
        "plt.xlabel('Date')\n",
        "plt.ylabel('Price')\n",
        "plt.legend()\n",
        "plt.show()"
      ],
      "metadata": {
        "colab": {
          "base_uri": "https://localhost:8080/",
          "height": 943
        },
        "id": "bogZiP1NwUZJ",
        "outputId": "aa9e6aac-3b27-4bca-a019-5c63c238f142"
      },
      "execution_count": null,
      "outputs": [
        {
          "output_type": "display_data",
          "data": {
            "text/plain": [
              "<Figure size 1000x500 with 1 Axes>"
            ],
            "image/png": "[encoded data removed]"
          },
          "metadata": {}
        },
        {
          "output_type": "display_data",
          "data": {
            "text/plain": [
              "<Figure size 1000x500 with 1 Axes>"
            ],
            "image/png": "[encoded data removed]"
          },
          "metadata": {}
        }
      ]
    },
    {
      "cell_type": "markdown",
      "source": [
        "### 2-8. R2(결정계수)를 통해 모델의 정확도 판단하기"
      ],
      "metadata": {
        "id": "TkQG9BNVqWl5"
      }
    },
    {
      "cell_type": "code",
      "source": [
        "# train 및 test 데이터에 대한 예측값 생성\n",
        "train_predict_b = model_b.predict(x_train_b)\n",
        "test_predict_b = model_b.predict(x_test_b)\n",
        "\n",
        "# 스케일링 된 값을 다시 원래 값으로 변환\n",
        "train_predict_b = scaler_b.inverse_transform(train_predict_b)  #inverse_transform() 함수를 이용해 원본값으로 복원가능하다\n",
        "y_train_b = scaler_b.inverse_transform([y_train_b])\n",
        "test_predict_b = scaler_b.inverse_transform(test_predict_b)\n",
        "y_test_b = scaler_b.inverse_transform([y_test_b])\n",
        "\n",
        "\n",
        "train_r2_score_b = r2_score(y_train_b[0], train_predict_b[:,0])\n",
        "test_r2_score_b = r2_score(y_test_b[0], test_predict_b[:,0])\n",
        "\n",
        "\n",
        "# 결과 출력\n",
        "print(\"Train R2 Score : \", train_r2_score_b)  # 99퍼센트에 정확도를 보여준다\n",
        "print(\"Test R2 Score : \", test_r2_score_b)   # 96% 정확도를 보여준다."
      ],
      "metadata": {
        "colab": {
          "base_uri": "https://localhost:8080/"
        },
        "id": "RvhmTseknK93",
        "outputId": "53e16aa0-1b78-4876-d73a-e787465df8a3"
      },
      "execution_count": null,
      "outputs": [
        {
          "output_type": "stream",
          "name": "stdout",
          "text": [
            "37/37 [==============================] - 1s 14ms/step\n",
            "8/8 [==============================] - 0s 15ms/step\n",
            "Train R2 Score :  0.9960717521566689\n",
            "Test R2 Score :  0.9573195235719385\n"
          ]
        }
      ]
    },
    {
      "cell_type": "markdown",
      "source": [
        "### 2-9. 예측값 확인하기"
      ],
      "metadata": {
        "id": "5HOIdB3rqcW-"
      }
    },
    {
      "cell_type": "code",
      "source": [
        "model_b.predict([[2022]])  # 2022년을 예측한 값이다"
      ],
      "metadata": {
        "colab": {
          "base_uri": "https://localhost:8080/"
        },
        "id": "pDaVT4IDos28",
        "outputId": "49877455-f693-4172-ec0d-17b4fdf4be42"
      },
      "execution_count": null,
      "outputs": [
        {
          "output_type": "stream",
          "name": "stdout",
          "text": [
            "1/1 [==============================] - 0s 452ms/step\n"
          ]
        },
        {
          "output_type": "execute_result",
          "data": {
            "text/plain": [
              "array([[6.0464764]], dtype=float32)"
            ]
          },
          "metadata": {},
          "execution_count": 59
        }
      ]
    },
    {
      "cell_type": "code",
      "source": [
        "model_b.predict([[2023]])  # 2023년을 예측한 값이다"
      ],
      "metadata": {
        "colab": {
          "base_uri": "https://localhost:8080/"
        },
        "id": "uWXHFuXKpGD_",
        "outputId": "8f860ee5-0b1a-49c5-ebe4-2052d4f87f75"
      },
      "execution_count": null,
      "outputs": [
        {
          "output_type": "stream",
          "name": "stdout",
          "text": [
            "1/1 [==============================] - 0s 44ms/step\n"
          ]
        },
        {
          "output_type": "execute_result",
          "data": {
            "text/plain": [
              "array([[6.0464764]], dtype=float32)"
            ]
          },
          "metadata": {},
          "execution_count": 60
        }
      ]
    },
    {
      "cell_type": "markdown",
      "source": [
        "## 3. 일론머스크 테슬라 비트코인 거래 관련 발언(2021/ 05 / 13) -> 이후 폭락"
      ],
      "metadata": {
        "id": "DDDgsm38uX_C"
      }
    },
    {
      "cell_type": "code",
      "source": [
        "!pip install finance-datareader # FinanceDataReader에서 데이터를 불러오기 위해 FinanceDataReader를 설치하는 과정"
      ],
      "metadata": {
        "colab": {
          "base_uri": "https://localhost:8080/"
        },
        "id": "aB2QIOMxu1Z1",
        "outputId": "d931b59d-d926-461f-a7d7-6e5fa3a71ce2"
      },
      "execution_count": null,
      "outputs": [
        {
          "output_type": "stream",
          "name": "stdout",
          "text": [
            "Looking in indexes: https://pypi.org/simple, https://us-python.pkg.dev/colab-wheels/public/simple/\n",
            "Collecting finance-datareader\n",
            "  Downloading finance_datareader-0.9.50-py3-none-any.whl (19 kB)\n",
            "Requirement already satisfied: pandas>=0.19.2 in /usr/local/lib/python3.10/dist-packages (from finance-datareader) (1.5.3)\n",
            "Requirement already satisfied: requests>=2.3.0 in /usr/local/lib/python3.10/dist-packages (from finance-datareader) (2.27.1)\n",
            "Collecting requests-file (from finance-datareader)\n",
            "  Downloading requests_file-1.5.1-py2.py3-none-any.whl (3.7 kB)\n",
            "Requirement already satisfied: lxml in /usr/local/lib/python3.10/dist-packages (from finance-datareader) (4.9.2)\n",
            "Requirement already satisfied: tqdm in /usr/local/lib/python3.10/dist-packages (from finance-datareader) (4.65.0)\n",
            "Requirement already satisfied: python-dateutil>=2.8.1 in /usr/local/lib/python3.10/dist-packages (from pandas>=0.19.2->finance-datareader) (2.8.2)\n",
            "Requirement already satisfied: pytz>=2020.1 in /usr/local/lib/python3.10/dist-packages (from pandas>=0.19.2->finance-datareader) (2022.7.1)\n",
            "Requirement already satisfied: numpy>=1.21.0 in /usr/local/lib/python3.10/dist-packages (from pandas>=0.19.2->finance-datareader) (1.22.4)\n",
            "Requirement already satisfied: urllib3<1.27,>=1.21.1 in /usr/local/lib/python3.10/dist-packages (from requests>=2.3.0->finance-datareader) (1.26.15)\n",
            "Requirement already satisfied: certifi>=2017.4.17 in /usr/local/lib/python3.10/dist-packages (from requests>=2.3.0->finance-datareader) (2022.12.7)\n",
            "Requirement already satisfied: charset-normalizer~=2.0.0 in /usr/local/lib/python3.10/dist-packages (from requests>=2.3.0->finance-datareader) (2.0.12)\n",
            "Requirement already satisfied: idna<4,>=2.5 in /usr/local/lib/python3.10/dist-packages (from requests>=2.3.0->finance-datareader) (3.4)\n",
            "Requirement already satisfied: six in /usr/local/lib/python3.10/dist-packages (from requests-file->finance-datareader) (1.16.0)\n",
            "Installing collected packages: requests-file, finance-datareader\n",
            "Successfully installed finance-datareader-0.9.50 requests-file-1.5.1\n"
          ]
        }
      ]
    },
    {
      "cell_type": "code",
      "source": [
        "import pandas as pd\n",
        "import numpy as np\n",
        "import FinanceDataReader as fdr\n",
        "import matplotlib.pyplot as plt\n",
        "from sklearn.preprocessing import MinMaxScaler\n",
        "from tensorflow.keras.models import Sequential\n",
        "from tensorflow.keras.layers import Dense, GRU\n",
        "#from sklearn.metrics import mean_squared_error\n",
        "from sklearn.metrics import r2_score\n",
        "\n",
        "# 데이터 불러오기\n",
        "start_date_c = \"2018-01-01\"\n",
        "end_date_c = \"2021-12-31\"\n",
        "ticker_c = \"BTC/KRW\"  # 한국거래소에서 비트코인을 가격 데이터 가져오기\n",
        "df_data_c = fdr.DataReader(ticker_c, start_date_c, end_date_c)\n",
        "df_c = pd.DataFrame(fdr.DataReader(ticker_c, start_date_c, end_date_c)['Close'])"
      ],
      "metadata": {
        "id": "2crjyatZu862"
      },
      "execution_count": null,
      "outputs": []
    },
    {
      "cell_type": "code",
      "source": [
        "len(df_data_c)"
      ],
      "metadata": {
        "colab": {
          "base_uri": "https://localhost:8080/"
        },
        "id": "c6c7LzEgyjF-",
        "outputId": "cc63b7fd-f5c9-4b03-fe1d-89567312ba30"
      },
      "execution_count": null,
      "outputs": [
        {
          "output_type": "execute_result",
          "data": {
            "text/plain": [
              "1461"
            ]
          },
          "metadata": {},
          "execution_count": 54
        }
      ]
    },
    {
      "cell_type": "code",
      "source": [
        "df_data_c.info()"
      ],
      "metadata": {
        "colab": {
          "base_uri": "https://localhost:8080/"
        },
        "id": "rRBxHyw_7vUT",
        "outputId": "b8cafef1-f6de-4d17-c797-f4a864180346"
      },
      "execution_count": null,
      "outputs": [
        {
          "output_type": "stream",
          "name": "stdout",
          "text": [
            "<class 'pandas.core.frame.DataFrame'>\n",
            "DatetimeIndex: 1217 entries, 2018-01-01 to 2021-05-01\n",
            "Data columns (total 6 columns):\n",
            " #   Column     Non-Null Count  Dtype  \n",
            "---  ------     --------------  -----  \n",
            " 0   Open       1217 non-null   float64\n",
            " 1   High       1217 non-null   float64\n",
            " 2   Low        1217 non-null   float64\n",
            " 3   Close      1217 non-null   float64\n",
            " 4   Adj Close  1217 non-null   float64\n",
            " 5   Volume     1217 non-null   int64  \n",
            "dtypes: float64(5), int64(1)\n",
            "memory usage: 66.6 KB\n"
          ]
        }
      ]
    },
    {
      "cell_type": "code",
      "source": [
        "df_data_c = fdr.DataReader(ticker_c, start_date_c, end_date_c)\n",
        "df_data_c.head()"
      ],
      "metadata": {
        "colab": {
          "base_uri": "https://localhost:8080/",
          "height": 238
        },
        "id": "tWAxrxhCvMOM",
        "outputId": "9a54d454-a796-4643-891e-df569a26b06b"
      },
      "execution_count": null,
      "outputs": [
        {
          "output_type": "execute_result",
          "data": {
            "text/plain": [
              "                  Open        High         Low       Close   Adj Close  \\\n",
              "Date                                                                     \n",
              "2018-01-01  15047133.0  15046287.0  14026068.0  14548333.0  14548333.0   \n",
              "2018-01-02  14514031.0  16400157.0  13990142.0  15918331.0  15918331.0   \n",
              "2018-01-03  15914188.0  16565566.0  15788165.0  16172952.0  16172952.0   \n",
              "2018-01-04  16247109.0  16707220.0  15433904.0  16552935.0  16552935.0   \n",
              "2018-01-05  16423476.0  18802922.0  16131843.0  18510128.0  18510128.0   \n",
              "\n",
              "                    Volume  \n",
              "Date                        \n",
              "2018-01-01  10962700800000  \n",
              "2018-01-02  17899344238000  \n",
              "2018-01-03  17950689456200  \n",
              "2018-01-04  23115024576400  \n",
              "2018-01-05  25319034814500  "
            ],
            "text/html": [
              "\n",
              "  <div id=\"df-1861d36e-a7b8-4d43-8c1a-bb8107c22723\">\n",
              "    <div class=\"colab-df-container\">\n",
              "      <div>\n",
              "<style scoped>\n",
              "    .dataframe tbody tr th:only-of-type {\n",
              "        vertical-align: middle;\n",
              "    }\n",
              "\n",
              "    .dataframe tbody tr th {\n",
              "        vertical-align: top;\n",
              "    }\n",
              "\n",
              "    .dataframe thead th {\n",
              "        text-align: right;\n",
              "    }\n",
              "</style>\n",
              "<table border=\"1\" class=\"dataframe\">\n",
              "  <thead>\n",
              "    <tr style=\"text-align: right;\">\n",
              "      <th></th>\n",
              "      <th>Open</th>\n",
              "      <th>High</th>\n",
              "      <th>Low</th>\n",
              "      <th>Close</th>\n",
              "      <th>Adj Close</th>\n",
              "      <th>Volume</th>\n",
              "    </tr>\n",
              "    <tr>\n",
              "      <th>Date</th>\n",
              "      <th></th>\n",
              "      <th></th>\n",
              "      <th></th>\n",
              "      <th></th>\n",
              "      <th></th>\n",
              "      <th></th>\n",
              "    </tr>\n",
              "  </thead>\n",
              "  <tbody>\n",
              "    <tr>\n",
              "      <th>2018-01-01</th>\n",
              "      <td>15047133.0</td>\n",
              "      <td>15046287.0</td>\n",
              "      <td>14026068.0</td>\n",
              "      <td>14548333.0</td>\n",
              "      <td>14548333.0</td>\n",
              "      <td>10962700800000</td>\n",
              "    </tr>\n",
              "    <tr>\n",
              "      <th>2018-01-02</th>\n",
              "      <td>14514031.0</td>\n",
              "      <td>16400157.0</td>\n",
              "      <td>13990142.0</td>\n",
              "      <td>15918331.0</td>\n",
              "      <td>15918331.0</td>\n",
              "      <td>17899344238000</td>\n",
              "    </tr>\n",
              "    <tr>\n",
              "      <th>2018-01-03</th>\n",
              "      <td>15914188.0</td>\n",
              "      <td>16565566.0</td>\n",
              "      <td>15788165.0</td>\n",
              "      <td>16172952.0</td>\n",
              "      <td>16172952.0</td>\n",
              "      <td>17950689456200</td>\n",
              "    </tr>\n",
              "    <tr>\n",
              "      <th>2018-01-04</th>\n",
              "      <td>16247109.0</td>\n",
              "      <td>16707220.0</td>\n",
              "      <td>15433904.0</td>\n",
              "      <td>16552935.0</td>\n",
              "      <td>16552935.0</td>\n",
              "      <td>23115024576400</td>\n",
              "    </tr>\n",
              "    <tr>\n",
              "      <th>2018-01-05</th>\n",
              "      <td>16423476.0</td>\n",
              "      <td>18802922.0</td>\n",
              "      <td>16131843.0</td>\n",
              "      <td>18510128.0</td>\n",
              "      <td>18510128.0</td>\n",
              "      <td>25319034814500</td>\n",
              "    </tr>\n",
              "  </tbody>\n",
              "</table>\n",
              "</div>\n",
              "      <button class=\"colab-df-convert\" onclick=\"convertToInteractive('df-1861d36e-a7b8-4d43-8c1a-bb8107c22723')\"\n",
              "              title=\"Convert this dataframe to an interactive table.\"\n",
              "              style=\"display:none;\">\n",
              "        \n",
              "  <svg xmlns=\"http://www.w3.org/2000/svg\" height=\"24px\"viewBox=\"0 0 24 24\"\n",
              "       width=\"24px\">\n",
              "    <path d=\"M0 0h24v24H0V0z\" fill=\"none\"/>\n",
              "    <path d=\"M18.56 5.44l.94 2.06.94-2.06 2.06-.94-2.06-.94-.94-2.06-.94 2.06-2.06.94zm-11 1L8.5 8.5l.94-2.06 2.06-.94-2.06-.94L8.5 2.5l-.94 2.06-2.06.94zm10 10l.94 2.06.94-2.06 2.06-.94-2.06-.94-.94-2.06-.94 2.06-2.06.94z\"/><path d=\"M17.41 7.96l-1.37-1.37c-.4-.4-.92-.59-1.43-.59-.52 0-1.04.2-1.43.59L10.3 9.45l-7.72 7.72c-.78.78-.78 2.05 0 2.83L4 21.41c.39.39.9.59 1.41.59.51 0 1.02-.2 1.41-.59l7.78-7.78 2.81-2.81c.8-.78.8-2.07 0-2.86zM5.41 20L4 18.59l7.72-7.72 1.47 1.35L5.41 20z\"/>\n",
              "  </svg>\n",
              "      </button>\n",
              "      \n",
              "  <style>\n",
              "    .colab-df-container {\n",
              "      display:flex;\n",
              "      flex-wrap:wrap;\n",
              "      gap: 12px;\n",
              "    }\n",
              "\n",
              "    .colab-df-convert {\n",
              "      background-color: #E8F0FE;\n",
              "      border: none;\n",
              "      border-radius: 50%;\n",
              "      cursor: pointer;\n",
              "      display: none;\n",
              "      fill: #1967D2;\n",
              "      height: 32px;\n",
              "      padding: 0 0 0 0;\n",
              "      width: 32px;\n",
              "    }\n",
              "\n",
              "    .colab-df-convert:hover {\n",
              "      background-color: #E2EBFA;\n",
              "      box-shadow: 0px 1px 2px rgba(60, 64, 67, 0.3), 0px 1px 3px 1px rgba(60, 64, 67, 0.15);\n",
              "      fill: #174EA6;\n",
              "    }\n",
              "\n",
              "    [theme=dark] .colab-df-convert {\n",
              "      background-color: #3B4455;\n",
              "      fill: #D2E3FC;\n",
              "    }\n",
              "\n",
              "    [theme=dark] .colab-df-convert:hover {\n",
              "      background-color: #434B5C;\n",
              "      box-shadow: 0px 1px 3px 1px rgba(0, 0, 0, 0.15);\n",
              "      filter: drop-shadow(0px 1px 2px rgba(0, 0, 0, 0.3));\n",
              "      fill: #FFFFFF;\n",
              "    }\n",
              "  </style>\n",
              "\n",
              "      <script>\n",
              "        const buttonEl =\n",
              "          document.querySelector('#df-1861d36e-a7b8-4d43-8c1a-bb8107c22723 button.colab-df-convert');\n",
              "        buttonEl.style.display =\n",
              "          google.colab.kernel.accessAllowed ? 'block' : 'none';\n",
              "\n",
              "        async function convertToInteractive(key) {\n",
              "          const element = document.querySelector('#df-1861d36e-a7b8-4d43-8c1a-bb8107c22723');\n",
              "          const dataTable =\n",
              "            await google.colab.kernel.invokeFunction('convertToInteractive',\n",
              "                                                     [key], {});\n",
              "          if (!dataTable) return;\n",
              "\n",
              "          const docLinkHtml = 'Like what you see? Visit the ' +\n",
              "            '<a target=\"_blank\" href=https://colab.research.google.com/notebooks/data_table.ipynb>data table notebook</a>'\n",
              "            + ' to learn more about interactive tables.';\n",
              "          element.innerHTML = '';\n",
              "          dataTable['output_type'] = 'display_data';\n",
              "          await google.colab.output.renderOutput(dataTable, element);\n",
              "          const docLink = document.createElement('div');\n",
              "          docLink.innerHTML = docLinkHtml;\n",
              "          element.appendChild(docLink);\n",
              "        }\n",
              "      </script>\n",
              "    </div>\n",
              "  </div>\n",
              "  "
            ]
          },
          "metadata": {},
          "execution_count": 3
        }
      ]
    },
    {
      "cell_type": "code",
      "source": [
        "# 데이터 전처리\n",
        "scaler_c = MinMaxScaler()\n",
        "scaled_data_c = scaler_c.fit_transform(df_c) # minmaxScaler는 스케일을 조정하는 정규화 함수로, 모든 데이터가 0과 1사이의 값을 갖도록 해주는 함수이다\n",
        "                          # 따라서 최댓값은 1로, 최솟값은 0으로 데이터의 범위를 조정해준다. 객체생성함"
      ],
      "metadata": {
        "id": "wHQvpPGHvW2Q"
      },
      "execution_count": null,
      "outputs": []
    },
    {
      "cell_type": "code",
      "source": [
        "# train, test 데이터 생성\n",
        "\n",
        "train_size_c = int(len(scaled_data_c) * 0.8)   ## 전체 데이터셋 중 80%를 학습 데이터셋으로, 20%를 테스트 데이터셋(검증용) 으로 사용하기 위해서 0.8을 곱했다\n",
        "                                          # 모델 학습 시 과적합을 방지하고 일반화 성능을 높이기 위해 사용된다\n",
        "train_data_c = scaled_data_c[:train_size_c]\n",
        "test_data_c = scaled_data_c[train_size_c:]\n",
        "\n",
        "def create_dataset_c(data, look_back=60): #look_back은 몇 개의 과거 데이터를 사용할 것인지를 표현하는 것이다(기본값이 60이다)\n",
        "    x_c, y_c = [], []        #  for문에서 얻은 모든 입력 데이터(x)와 출력 데이터(y)를 리스트에 추가한다\n",
        "    for i in range(len(data)-look_back):\n",
        "        x_c.append(data[i:(i+look_back), 0])   # i부터 (i+look_back)까지의 데이터를 하나의 입력 데이터 x 로 표현한다.\n",
        "        y_c.append(data[i+look_back, 0])       # i+look_back의 데이터를 출력 데이터 y 로 표현한다.\n",
        "    return np.array(x_c), np.array(y_c)         # 리스트를 numpy 배열로 변환하여 반환\n",
        "\n",
        "# create_dataset()는 시계열 데이터를 RNN 모델에 입력으로 사용하기 위해 입력 데이터와 출력 데이터로 분리하는 함수이다.\n",
        "\n",
        "look_back = 60\n",
        "x_train_c, y_train_c = create_dataset_c(train_data_c, look_back)\n",
        "x_test_c, y_test_c = create_dataset_c(test_data_c, look_back)"
      ],
      "metadata": {
        "id": "AibsTk1avjq9"
      },
      "execution_count": null,
      "outputs": []
    },
    {
      "cell_type": "code",
      "source": [
        "# 모델 생성\n",
        "model_c = Sequential()   # 모델의 객체생성\n",
        "model_c.add(GRU(50, input_shape=(look_back, 1)))   #  50=레이어의 출력 차원, input_shape=입력 데이터의 형태를 정의를 의미한다.\n",
        "                                                  # lock_back=이전 데이터의 갯수만큼 비트코인 가격을 입력으로 받아들이고, 각각의 데이터가 1차원인 것을 의미합니다.\n",
        "\n",
        "model_c.add(Dense(1))   # Dense 는 완전 연결 레이어(층)를 의미한다. 1은 출력의 차원을 의미\n",
        "\n",
        "model_c.compile(loss='mean_squared_error', optimizer='adam')  # compile() 함수를 이용하여 모델을 컴파일합니다\n",
        "                                                             # loss는 손실 함수를 의미한다.\n",
        "                                                             # mean_squared_error(MSE) 는 전체 에러를 표현하기 위해서 사용하는 식이고 오차의 제곱에 대해 평균을 취한 것이다.(수치가 작을 수록 원본과의 오차가 적은 것이다)\n",
        "                                                             # optimizer는  최적화 알고리즘을 정의하는 부분이다. adam(아담) 은 모멘텀+ AdaGrad(아다그라드) 을 합친 것이다\n",
        "\n",
        "# 완전 연결 레이어 : 한 레이어의 모든 뉴런이 그 다음 레이어의 모든 뉴런과 연결된 상태이다.\n",
        "\n",
        "# 모멘텀 : 기울기 방향으로 힘을 받아 물체가 가속된다는 물리법칙을 적용한것이다.\n",
        "# AdaGrad : 학습을 진행하면서 학습률을 점차 줄여가는 방법이다."
      ],
      "metadata": {
        "id": "-HSsl2p6wn7G"
      },
      "execution_count": null,
      "outputs": []
    },
    {
      "cell_type": "code",
      "source": [
        "# 모델 학습\n",
        "model_c.fit(x_train_c, y_train_c, epochs=100, batch_size=64, verbose=2)\n",
        "\n",
        "# x_train : 학습데이터의 입력값   , y_train : 학습데이터의 출력값이다.\n",
        "\n",
        "# 에포크 : 훈련 데이터셋에 포함된 모든 데이터들이 한 번씩 모델을 통과한 횟수 또는 전체 학습 데이터셋에 대한 반복 횟수이다\n",
        "# 에포크가 높을수록 더 많은 반복 학습을 수행하게 되므로 모델이 더 많은 학습을 하게 되어 일반적으로 더 좋은 성능을 낼 수 있습니다\n",
        "\n",
        "# batch_size(배치크기) : 학습을 수행할 때, 몇 개의 데이터를 한 번에 처리할지를 지정한다, 일반적으로 32,64, 128 숫자를 사용한다\n",
        "\n",
        "# verbose : 학습 과정 중 출력되는 문구를 설정합니다. 0일 경우 출력하지 않으며, 1일 경우 학습 진행 상황을 출력하고, 2일 경우 학습 결과만 출력한다"
      ],
      "metadata": {
        "colab": {
          "base_uri": "https://localhost:8080/"
        },
        "id": "Ec-ugiqGwuH1",
        "outputId": "8ffb81c7-a02d-43d0-d607-b2e715fabc31"
      },
      "execution_count": null,
      "outputs": [
        {
          "output_type": "stream",
          "name": "stdout",
          "text": [
            "Epoch 1/100\n",
            "18/18 - 1s - loss: 257848646828032.0000 - 751ms/epoch - 42ms/step\n",
            "Epoch 2/100\n",
            "18/18 - 1s - loss: 257848613273600.0000 - 588ms/epoch - 33ms/step\n",
            "Epoch 3/100\n",
            "18/18 - 1s - loss: 257848596496384.0000 - 610ms/epoch - 34ms/step\n",
            "Epoch 4/100\n",
            "18/18 - 1s - loss: 257848579719168.0000 - 576ms/epoch - 32ms/step\n",
            "Epoch 5/100\n",
            "18/18 - 1s - loss: 257848546164736.0000 - 591ms/epoch - 33ms/step\n",
            "Epoch 6/100\n",
            "18/18 - 1s - loss: 257848546164736.0000 - 595ms/epoch - 33ms/step\n",
            "Epoch 7/100\n",
            "18/18 - 1s - loss: 257848479055872.0000 - 691ms/epoch - 38ms/step\n",
            "Epoch 8/100\n",
            "18/18 - 1s - loss: 257848462278656.0000 - 977ms/epoch - 54ms/step\n",
            "Epoch 9/100\n",
            "18/18 - 1s - loss: 257848445501440.0000 - 995ms/epoch - 55ms/step\n",
            "Epoch 10/100\n",
            "18/18 - 1s - loss: 257848428724224.0000 - 750ms/epoch - 42ms/step\n",
            "Epoch 11/100\n",
            "18/18 - 1s - loss: 257848395169792.0000 - 576ms/epoch - 32ms/step\n",
            "Epoch 12/100\n",
            "18/18 - 1s - loss: 257848344838144.0000 - 589ms/epoch - 33ms/step\n",
            "Epoch 13/100\n",
            "18/18 - 1s - loss: 257848344838144.0000 - 588ms/epoch - 33ms/step\n",
            "Epoch 14/100\n",
            "18/18 - 1s - loss: 257848311283712.0000 - 554ms/epoch - 31ms/step\n",
            "Epoch 15/100\n",
            "18/18 - 1s - loss: 257848344838144.0000 - 556ms/epoch - 31ms/step\n",
            "Epoch 16/100\n",
            "18/18 - 1s - loss: 257848294506496.0000 - 574ms/epoch - 32ms/step\n",
            "Epoch 17/100\n",
            "18/18 - 1s - loss: 257848260952064.0000 - 587ms/epoch - 33ms/step\n",
            "Epoch 18/100\n",
            "18/18 - 1s - loss: 257848244174848.0000 - 571ms/epoch - 32ms/step\n",
            "Epoch 19/100\n",
            "18/18 - 1s - loss: 257848260952064.0000 - 586ms/epoch - 33ms/step\n",
            "Epoch 20/100\n",
            "18/18 - 1s - loss: 257848210620416.0000 - 587ms/epoch - 33ms/step\n",
            "Epoch 21/100\n",
            "18/18 - 1s - loss: 257848193843200.0000 - 575ms/epoch - 32ms/step\n",
            "Epoch 22/100\n",
            "18/18 - 1s - loss: 257848177065984.0000 - 588ms/epoch - 33ms/step\n",
            "Epoch 23/100\n",
            "18/18 - 1s - loss: 257848143511552.0000 - 577ms/epoch - 32ms/step\n",
            "Epoch 24/100\n",
            "18/18 - 1s - loss: 257848109957120.0000 - 577ms/epoch - 32ms/step\n",
            "Epoch 25/100\n",
            "18/18 - 1s - loss: 257848076402688.0000 - 583ms/epoch - 32ms/step\n",
            "Epoch 26/100\n",
            "18/18 - 1s - loss: 257848059625472.0000 - 604ms/epoch - 34ms/step\n",
            "Epoch 27/100\n",
            "18/18 - 1s - loss: 257848042848256.0000 - 756ms/epoch - 42ms/step\n",
            "Epoch 28/100\n",
            "18/18 - 1s - loss: 257848009293824.0000 - 985ms/epoch - 55ms/step\n",
            "Epoch 29/100\n",
            "18/18 - 1s - loss: 257847992516608.0000 - 977ms/epoch - 54ms/step\n",
            "Epoch 30/100\n",
            "18/18 - 1s - loss: 257847992516608.0000 - 714ms/epoch - 40ms/step\n",
            "Epoch 31/100\n",
            "18/18 - 1s - loss: 257847958962176.0000 - 593ms/epoch - 33ms/step\n",
            "Epoch 32/100\n",
            "18/18 - 1s - loss: 257847958962176.0000 - 570ms/epoch - 32ms/step\n",
            "Epoch 33/100\n",
            "18/18 - 1s - loss: 257847891853312.0000 - 580ms/epoch - 32ms/step\n",
            "Epoch 34/100\n",
            "18/18 - 1s - loss: 257847875076096.0000 - 588ms/epoch - 33ms/step\n",
            "Epoch 35/100\n",
            "18/18 - 1s - loss: 257847858298880.0000 - 570ms/epoch - 32ms/step\n",
            "Epoch 36/100\n",
            "18/18 - 1s - loss: 257847858298880.0000 - 595ms/epoch - 33ms/step\n",
            "Epoch 37/100\n",
            "18/18 - 1s - loss: 257847858298880.0000 - 572ms/epoch - 32ms/step\n",
            "Epoch 38/100\n",
            "18/18 - 1s - loss: 257847807967232.0000 - 589ms/epoch - 33ms/step\n",
            "Epoch 39/100\n",
            "18/18 - 1s - loss: 257847791190016.0000 - 574ms/epoch - 32ms/step\n",
            "Epoch 40/100\n",
            "18/18 - 1s - loss: 257847774412800.0000 - 584ms/epoch - 32ms/step\n",
            "Epoch 41/100\n",
            "18/18 - 1s - loss: 257847740858368.0000 - 588ms/epoch - 33ms/step\n",
            "Epoch 42/100\n",
            "18/18 - 1s - loss: 257847690526720.0000 - 572ms/epoch - 32ms/step\n",
            "Epoch 43/100\n",
            "18/18 - 1s - loss: 257847673749504.0000 - 586ms/epoch - 33ms/step\n",
            "Epoch 44/100\n",
            "18/18 - 1s - loss: 257847640195072.0000 - 571ms/epoch - 32ms/step\n",
            "Epoch 45/100\n",
            "18/18 - 1s - loss: 257847640195072.0000 - 585ms/epoch - 32ms/step\n",
            "Epoch 46/100\n",
            "18/18 - 1s - loss: 257847589863424.0000 - 593ms/epoch - 33ms/step\n",
            "Epoch 47/100\n",
            "18/18 - 1s - loss: 257847573086208.0000 - 822ms/epoch - 46ms/step\n",
            "Epoch 48/100\n",
            "18/18 - 1s - loss: 257847556308992.0000 - 986ms/epoch - 55ms/step\n",
            "Epoch 49/100\n",
            "18/18 - 1s - loss: 257847556308992.0000 - 985ms/epoch - 55ms/step\n",
            "Epoch 50/100\n",
            "18/18 - 1s - loss: 257847505977344.0000 - 624ms/epoch - 35ms/step\n",
            "Epoch 51/100\n",
            "18/18 - 1s - loss: 257847505977344.0000 - 571ms/epoch - 32ms/step\n",
            "Epoch 52/100\n",
            "18/18 - 1s - loss: 257847455645696.0000 - 583ms/epoch - 32ms/step\n",
            "Epoch 53/100\n",
            "18/18 - 1s - loss: 257847455645696.0000 - 562ms/epoch - 31ms/step\n",
            "Epoch 54/100\n",
            "18/18 - 1s - loss: 257847438868480.0000 - 579ms/epoch - 32ms/step\n",
            "Epoch 55/100\n",
            "18/18 - 1s - loss: 257847405314048.0000 - 575ms/epoch - 32ms/step\n",
            "Epoch 56/100\n",
            "18/18 - 1s - loss: 257847388536832.0000 - 580ms/epoch - 32ms/step\n",
            "Epoch 57/100\n",
            "18/18 - 1s - loss: 257847388536832.0000 - 583ms/epoch - 32ms/step\n",
            "Epoch 58/100\n",
            "18/18 - 1s - loss: 257847354982400.0000 - 583ms/epoch - 32ms/step\n",
            "Epoch 59/100\n",
            "18/18 - 1s - loss: 257847287873536.0000 - 580ms/epoch - 32ms/step\n",
            "Epoch 60/100\n",
            "18/18 - 1s - loss: 257847287873536.0000 - 578ms/epoch - 32ms/step\n",
            "Epoch 61/100\n",
            "18/18 - 1s - loss: 257847254319104.0000 - 575ms/epoch - 32ms/step\n",
            "Epoch 62/100\n",
            "18/18 - 1s - loss: 257847254319104.0000 - 592ms/epoch - 33ms/step\n",
            "Epoch 63/100\n",
            "18/18 - 1s - loss: 257847237541888.0000 - 576ms/epoch - 32ms/step\n",
            "Epoch 64/100\n",
            "18/18 - 1s - loss: 257847203987456.0000 - 582ms/epoch - 32ms/step\n",
            "Epoch 65/100\n",
            "18/18 - 1s - loss: 257847203987456.0000 - 570ms/epoch - 32ms/step\n",
            "Epoch 66/100\n",
            "18/18 - 1s - loss: 257847153655808.0000 - 589ms/epoch - 33ms/step\n",
            "Epoch 67/100\n",
            "18/18 - 1s - loss: 257847136878592.0000 - 879ms/epoch - 49ms/step\n",
            "Epoch 68/100\n",
            "18/18 - 1s - loss: 257847103324160.0000 - 997ms/epoch - 55ms/step\n",
            "Epoch 69/100\n",
            "18/18 - 1s - loss: 257847086546944.0000 - 983ms/epoch - 55ms/step\n",
            "Epoch 70/100\n",
            "18/18 - 1s - loss: 257847086546944.0000 - 577ms/epoch - 32ms/step\n",
            "Epoch 71/100\n",
            "18/18 - 1s - loss: 257847069769728.0000 - 585ms/epoch - 32ms/step\n",
            "Epoch 72/100\n",
            "18/18 - 1s - loss: 257847036215296.0000 - 576ms/epoch - 32ms/step\n",
            "Epoch 73/100\n",
            "18/18 - 1s - loss: 257847019438080.0000 - 597ms/epoch - 33ms/step\n",
            "Epoch 74/100\n",
            "18/18 - 1s - loss: 257847002660864.0000 - 583ms/epoch - 32ms/step\n",
            "Epoch 75/100\n",
            "18/18 - 1s - loss: 257846952329216.0000 - 590ms/epoch - 33ms/step\n",
            "Epoch 76/100\n",
            "18/18 - 1s - loss: 257846952329216.0000 - 581ms/epoch - 32ms/step\n",
            "Epoch 77/100\n",
            "18/18 - 1s - loss: 257846918774784.0000 - 568ms/epoch - 32ms/step\n",
            "Epoch 78/100\n",
            "18/18 - 1s - loss: 257846901997568.0000 - 599ms/epoch - 33ms/step\n",
            "Epoch 79/100\n",
            "18/18 - 1s - loss: 257846834888704.0000 - 564ms/epoch - 31ms/step\n",
            "Epoch 80/100\n",
            "18/18 - 1s - loss: 257846868443136.0000 - 585ms/epoch - 33ms/step\n",
            "Epoch 81/100\n",
            "18/18 - 1s - loss: 257846834888704.0000 - 581ms/epoch - 32ms/step\n",
            "Epoch 82/100\n",
            "18/18 - 1s - loss: 257846818111488.0000 - 580ms/epoch - 32ms/step\n",
            "Epoch 83/100\n",
            "18/18 - 1s - loss: 257846767779840.0000 - 581ms/epoch - 32ms/step\n",
            "Epoch 84/100\n",
            "18/18 - 1s - loss: 257846767779840.0000 - 569ms/epoch - 32ms/step\n",
            "Epoch 85/100\n",
            "18/18 - 1s - loss: 257846734225408.0000 - 591ms/epoch - 33ms/step\n",
            "Epoch 86/100\n",
            "18/18 - 1s - loss: 257846717448192.0000 - 567ms/epoch - 32ms/step\n",
            "Epoch 87/100\n",
            "18/18 - 1s - loss: 257846700670976.0000 - 960ms/epoch - 53ms/step\n",
            "Epoch 88/100\n",
            "18/18 - 1s - loss: 257846700670976.0000 - 982ms/epoch - 55ms/step\n",
            "Epoch 89/100\n",
            "18/18 - 1s - loss: 257846616784896.0000 - 915ms/epoch - 51ms/step\n",
            "Epoch 90/100\n",
            "18/18 - 1s - loss: 257846616784896.0000 - 581ms/epoch - 32ms/step\n",
            "Epoch 91/100\n",
            "18/18 - 1s - loss: 257846583230464.0000 - 595ms/epoch - 33ms/step\n",
            "Epoch 92/100\n",
            "18/18 - 1s - loss: 257846566453248.0000 - 575ms/epoch - 32ms/step\n",
            "Epoch 93/100\n",
            "18/18 - 1s - loss: 257846532898816.0000 - 577ms/epoch - 32ms/step\n",
            "Epoch 94/100\n",
            "18/18 - 1s - loss: 257846549676032.0000 - 601ms/epoch - 33ms/step\n",
            "Epoch 95/100\n",
            "18/18 - 1s - loss: 257846499344384.0000 - 585ms/epoch - 33ms/step\n",
            "Epoch 96/100\n",
            "18/18 - 1s - loss: 257846499344384.0000 - 575ms/epoch - 32ms/step\n",
            "Epoch 97/100\n",
            "18/18 - 1s - loss: 257846465789952.0000 - 589ms/epoch - 33ms/step\n",
            "Epoch 98/100\n",
            "18/18 - 1s - loss: 257846432235520.0000 - 534ms/epoch - 30ms/step\n",
            "Epoch 99/100\n",
            "18/18 - 1s - loss: 257846432235520.0000 - 562ms/epoch - 31ms/step\n",
            "Epoch 100/100\n",
            "18/18 - 1s - loss: 257846381903872.0000 - 577ms/epoch - 32ms/step\n"
          ]
        },
        {
          "output_type": "execute_result",
          "data": {
            "text/plain": [
              "<keras.callbacks.History at 0x7f5a3760d750>"
            ]
          },
          "metadata": {},
          "execution_count": 79
        }
      ]
    },
    {
      "cell_type": "code",
      "source": [
        "# 예측\n",
        "train_predict_c = model_c.predict(x_train_c)\n",
        "test_predict_c = model_c.predict(x_test_c)\n",
        "\n",
        "# model.predict(x_train) 은 학습된 모델을 이용하여 train 데이터에 대한 예측값을 계산한다\n",
        "# mode.predict(x_test) 은 학습된 모델을 이용하여 test 데이터에 대한 예측값을 계산한다."
      ],
      "metadata": {
        "colab": {
          "base_uri": "https://localhost:8080/"
        },
        "id": "Ft14_xPGwy7y",
        "outputId": "7c7ae12f-887d-4ba5-fdb3-a915cd5a160e"
      },
      "execution_count": null,
      "outputs": [
        {
          "output_type": "stream",
          "name": "stdout",
          "text": [
            "35/35 [==============================] - 0s 8ms/step\n",
            "8/8 [==============================] - 0s 8ms/step\n"
          ]
        }
      ]
    },
    {
      "cell_type": "code",
      "source": [
        "import matplotlib.pyplot as plt\n",
        "import datetime\n",
        "\n",
        "# 예측 결과 시각화\n",
        "train_predict_c = scaler_c.inverse_transform(train_predict_c)  # inverse_transform()함수로 원본값을 복원할수있다.\n",
        "y_train_c = scaler_c.inverse_transform(y_train_c.reshape(-1,1))\n",
        "test_predict_c = scaler_c.inverse_transform(test_predict_c)\n",
        "y_test_c = scaler_c.inverse_transform(y_test_c.reshape(-1,1))\n",
        "\n",
        "# train 데이터 예측 결과 시각화\n",
        "plt.figure(figsize=(10, 5))\n",
        "plt.plot(df_c[look_back:len(train_data_c)].index, y_train_c, label='Actual Train Price')\n",
        "plt.plot(df_c[look_back:len(train_data_c)].index, train_predict_c, label='Predicted Train Price')\n",
        "plt.xlabel('Date')\n",
        "plt.ylabel('Price')\n",
        "plt.legend()\n",
        "plt.show()\n",
        "\n",
        "# test 데이터 예측 결과 시각화\n",
        "plt.figure(figsize=(10, 5))\n",
        "plt.plot(df_c[len(train_data_c)+look_back:].index, y_test_c, label='Actual Test Price')\n",
        "plt.plot(df_c[len(train_data_c)+look_back:].index, test_predict_c, label='Predicted Test Price')\n",
        "\n",
        "# 2021년 5월 13일에 빨간색 세로축을 추가합니다.\n",
        "target_date = datetime.datetime(2021, 5, 13)\n",
        "plt.axvline(x=target_date, color='red', linestyle='--')\n",
        "\n",
        "plt.xlabel('Date')\n",
        "plt.ylabel('Price')\n",
        "plt.legend()\n",
        "plt.show()"
      ],
      "metadata": {
        "colab": {
          "base_uri": "https://localhost:8080/",
          "height": 943
        },
        "id": "2_qjih1Pw0xC",
        "outputId": "6a6e4966-d7f7-4745-bf64-cc145c84b349"
      },
      "execution_count": null,
      "outputs": [
        {
          "output_type": "display_data",
          "data": {
            "text/plain": [
              "<Figure size 1000x500 with 1 Axes>"
            ],
            "image/png": "[encoded data removed]"
          },
          "metadata": {}
        },
        {
          "output_type": "display_data",
          "data": {
            "text/plain": [
              "<Figure size 1000x500 with 1 Axes>"
            ],
            "image/png": "[encoded data removed]"
          },
          "metadata": {}
        }
      ]
    },
    {
      "cell_type": "code",
      "source": [
        "# Train 데이터의 결정 계수 계산\n",
        "train_r2_score_c = r2_score(y_train_c, train_predict_c)\n",
        "\n",
        "# Test 데이터의 결정 계수 계산\n",
        "test_r2_score_c = r2_score(y_test_c, test_predict_c)\n",
        "\n",
        "# 결과 출력\n",
        "print(\"Train R2 Score:\", train_r2_score_c)\n",
        "print(\"Test R2 Score:\", test_r2_score_c)"
      ],
      "metadata": {
        "colab": {
          "base_uri": "https://localhost:8080/"
        },
        "id": "fo_F0srOzvTw",
        "outputId": "3effb9c8-4393-4328-f994-bf5662acbede"
      },
      "execution_count": null,
      "outputs": [
        {
          "output_type": "stream",
          "name": "stdout",
          "text": [
            "Train R2 Score: 0.9941037886742988\n",
            "Test R2 Score: -20.037566560562926\n"
          ]
        }
      ]
    },
    {
      "cell_type": "markdown",
      "source": [
        "## 4. 러시아-우크라이나 전쟁 (2022/02/24)"
      ],
      "metadata": {
        "id": "8DdZfvtM2YeW"
      }
    },
    {
      "cell_type": "code",
      "source": [
        "!pip install finance-datareader # FinanceDataReader에서 데이터를 불러오기 위해 FinanceDataReader를 설치하는 과정"
      ],
      "metadata": {
        "id": "aL58ETKA2kIJ",
        "colab": {
          "base_uri": "https://localhost:8080/"
        },
        "outputId": "b408ad0c-82a7-4080-adef-d6a64d6c7ec0"
      },
      "execution_count": null,
      "outputs": [
        {
          "output_type": "stream",
          "name": "stdout",
          "text": [
            "Looking in indexes: https://pypi.org/simple, https://us-python.pkg.dev/colab-wheels/public/simple/\n",
            "Collecting finance-datareader\n",
            "  Downloading finance_datareader-0.9.50-py3-none-any.whl (19 kB)\n",
            "Requirement already satisfied: pandas>=0.19.2 in /usr/local/lib/python3.10/dist-packages (from finance-datareader) (1.5.3)\n",
            "Requirement already satisfied: requests>=2.3.0 in /usr/local/lib/python3.10/dist-packages (from finance-datareader) (2.27.1)\n",
            "Collecting requests-file (from finance-datareader)\n",
            "  Downloading requests_file-1.5.1-py2.py3-none-any.whl (3.7 kB)\n",
            "Requirement already satisfied: lxml in /usr/local/lib/python3.10/dist-packages (from finance-datareader) (4.9.2)\n",
            "Requirement already satisfied: tqdm in /usr/local/lib/python3.10/dist-packages (from finance-datareader) (4.65.0)\n",
            "Requirement already satisfied: python-dateutil>=2.8.1 in /usr/local/lib/python3.10/dist-packages (from pandas>=0.19.2->finance-datareader) (2.8.2)\n",
            "Requirement already satisfied: pytz>=2020.1 in /usr/local/lib/python3.10/dist-packages (from pandas>=0.19.2->finance-datareader) (2022.7.1)\n",
            "Requirement already satisfied: numpy>=1.21.0 in /usr/local/lib/python3.10/dist-packages (from pandas>=0.19.2->finance-datareader) (1.22.4)\n",
            "Requirement already satisfied: urllib3<1.27,>=1.21.1 in /usr/local/lib/python3.10/dist-packages (from requests>=2.3.0->finance-datareader) (1.26.15)\n",
            "Requirement already satisfied: certifi>=2017.4.17 in /usr/local/lib/python3.10/dist-packages (from requests>=2.3.0->finance-datareader) (2022.12.7)\n",
            "Requirement already satisfied: charset-normalizer~=2.0.0 in /usr/local/lib/python3.10/dist-packages (from requests>=2.3.0->finance-datareader) (2.0.12)\n",
            "Requirement already satisfied: idna<4,>=2.5 in /usr/local/lib/python3.10/dist-packages (from requests>=2.3.0->finance-datareader) (3.4)\n",
            "Requirement already satisfied: six in /usr/local/lib/python3.10/dist-packages (from requests-file->finance-datareader) (1.16.0)\n",
            "Installing collected packages: requests-file, finance-datareader\n",
            "Successfully installed finance-datareader-0.9.50 requests-file-1.5.1\n"
          ]
        }
      ]
    },
    {
      "cell_type": "code",
      "source": [
        "pip install datetime"
      ],
      "metadata": {
        "colab": {
          "base_uri": "https://localhost:8080/"
        },
        "id": "Xl_RyxMKOWmt",
        "outputId": "74b3fb31-52a7-4c7b-eabf-2a9cce96da1e"
      },
      "execution_count": null,
      "outputs": [
        {
          "output_type": "stream",
          "name": "stdout",
          "text": [
            "Looking in indexes: https://pypi.org/simple, https://us-python.pkg.dev/colab-wheels/public/simple/\n",
            "Collecting datetime\n",
            "  Downloading DateTime-5.1-py3-none-any.whl (52 kB)\n",
            "\u001b[2K     \u001b[90m━━━━━━━━━━━━━━━━━━━━━━━━━━━━━━━━━━━━━━━━\u001b[0m \u001b[32m52.1/52.1 kB\u001b[0m \u001b[31m3.0 MB/s\u001b[0m eta \u001b[36m0:00:00\u001b[0m\n",
            "\u001b[?25hCollecting zope.interface (from datetime)\n",
            "  Downloading zope.interface-6.0-cp310-cp310-manylinux_2_5_x86_64.manylinux1_x86_64.manylinux_2_17_x86_64.manylinux2014_x86_64.whl (246 kB)\n",
            "\u001b[2K     \u001b[90m━━━━━━━━━━━━━━━━━━━━━━━━━━━━━━━━━━━━━━━\u001b[0m \u001b[32m247.0/247.0 kB\u001b[0m \u001b[31m8.3 MB/s\u001b[0m eta \u001b[36m0:00:00\u001b[0m\n",
            "\u001b[?25hRequirement already satisfied: pytz in /usr/local/lib/python3.10/dist-packages (from datetime) (2022.7.1)\n",
            "Requirement already satisfied: setuptools in /usr/local/lib/python3.10/dist-packages (from zope.interface->datetime) (67.7.2)\n",
            "Installing collected packages: zope.interface, datetime\n",
            "Successfully installed datetime-5.1 zope.interface-6.0\n"
          ]
        }
      ]
    },
    {
      "cell_type": "code",
      "source": [
        "import pandas as pd\n",
        "import numpy as np\n",
        "import FinanceDataReader as fdr\n",
        "import matplotlib.pyplot as plt\n",
        "import datetime\n",
        "from sklearn.preprocessing import MinMaxScaler\n",
        "from tensorflow.keras.models import Sequential\n",
        "from tensorflow.keras.layers import Dense, GRU\n",
        "#from sklearn.metrics import mean_squared_error\n",
        "from sklearn.metrics import r2_score\n",
        "\n",
        "\n",
        "\n",
        "# 데이터 불러오기\n",
        "start_date_d = \"2018-01-01\"\n",
        "end_date_d = \"2022-12-31\"\n",
        "ticker_d = \"BTC/KRW\"  # 한국거래소에서 비트코인을 가격 데이터 가져오기\n",
        "df_data_d = fdr.DataReader(ticker_d, start_date_d, end_date_d)\n",
        "df_d = pd.DataFrame(fdr.DataReader(ticker_d, start_date_d, end_date_d)['Close'])"
      ],
      "metadata": {
        "id": "YLJiN4W-2sBW"
      },
      "execution_count": null,
      "outputs": []
    },
    {
      "cell_type": "code",
      "source": [
        "df_data_d.info()"
      ],
      "metadata": {
        "colab": {
          "base_uri": "https://localhost:8080/"
        },
        "id": "FFYUWE7EOwfb",
        "outputId": "c4142811-09d1-47a4-c874-748c995d6d9c"
      },
      "execution_count": null,
      "outputs": [
        {
          "output_type": "stream",
          "name": "stdout",
          "text": [
            "<class 'pandas.core.frame.DataFrame'>\n",
            "DatetimeIndex: 1248 entries, 2018-01-01 to 2021-06-01\n",
            "Data columns (total 6 columns):\n",
            " #   Column     Non-Null Count  Dtype  \n",
            "---  ------     --------------  -----  \n",
            " 0   Open       1248 non-null   float64\n",
            " 1   High       1248 non-null   float64\n",
            " 2   Low        1248 non-null   float64\n",
            " 3   Close      1248 non-null   float64\n",
            " 4   Adj Close  1248 non-null   float64\n",
            " 5   Volume     1248 non-null   int64  \n",
            "dtypes: float64(5), int64(1)\n",
            "memory usage: 68.2 KB\n"
          ]
        }
      ]
    },
    {
      "cell_type": "code",
      "source": [
        "len(df_data_d)"
      ],
      "metadata": {
        "colab": {
          "base_uri": "https://localhost:8080/"
        },
        "id": "SbBLR5e_3n4W",
        "outputId": "0bfb2e25-84c9-4a86-b66c-dba2c7a4f0f0"
      },
      "execution_count": null,
      "outputs": [
        {
          "output_type": "execute_result",
          "data": {
            "text/plain": [
              "1248"
            ]
          },
          "metadata": {},
          "execution_count": 4
        }
      ]
    },
    {
      "cell_type": "code",
      "source": [
        "df_data_d = fdr.DataReader(ticker_d, start_date_d, end_date_d)\n",
        "df_data_d.head()"
      ],
      "metadata": {
        "colab": {
          "base_uri": "https://localhost:8080/",
          "height": 238
        },
        "id": "l2DJiwl73hTq",
        "outputId": "85e6319c-a42c-49ad-c9a3-a1421ae09d54"
      },
      "execution_count": null,
      "outputs": [
        {
          "output_type": "execute_result",
          "data": {
            "text/plain": [
              "                  Open        High         Low       Close   Adj Close  \\\n",
              "Date                                                                     \n",
              "2018-01-01  15047133.0  15046287.0  14026068.0  14548333.0  14548333.0   \n",
              "2018-01-02  14514031.0  16400157.0  13990142.0  15918331.0  15918331.0   \n",
              "2018-01-03  15914188.0  16565566.0  15788165.0  16172952.0  16172952.0   \n",
              "2018-01-04  16247109.0  16707220.0  15433904.0  16552935.0  16552935.0   \n",
              "2018-01-05  16423476.0  18802922.0  16131843.0  18510128.0  18510128.0   \n",
              "\n",
              "                    Volume  \n",
              "Date                        \n",
              "2018-01-01  10962700800000  \n",
              "2018-01-02  17899344238000  \n",
              "2018-01-03  17950689456200  \n",
              "2018-01-04  23115024576400  \n",
              "2018-01-05  25319034814500  "
            ],
            "text/html": [
              "\n",
              "  <div id=\"df-98230311-9025-4d18-a6cc-87e66b66ea92\">\n",
              "    <div class=\"colab-df-container\">\n",
              "      <div>\n",
              "<style scoped>\n",
              "    .dataframe tbody tr th:only-of-type {\n",
              "        vertical-align: middle;\n",
              "    }\n",
              "\n",
              "    .dataframe tbody tr th {\n",
              "        vertical-align: top;\n",
              "    }\n",
              "\n",
              "    .dataframe thead th {\n",
              "        text-align: right;\n",
              "    }\n",
              "</style>\n",
              "<table border=\"1\" class=\"dataframe\">\n",
              "  <thead>\n",
              "    <tr style=\"text-align: right;\">\n",
              "      <th></th>\n",
              "      <th>Open</th>\n",
              "      <th>High</th>\n",
              "      <th>Low</th>\n",
              "      <th>Close</th>\n",
              "      <th>Adj Close</th>\n",
              "      <th>Volume</th>\n",
              "    </tr>\n",
              "    <tr>\n",
              "      <th>Date</th>\n",
              "      <th></th>\n",
              "      <th></th>\n",
              "      <th></th>\n",
              "      <th></th>\n",
              "      <th></th>\n",
              "      <th></th>\n",
              "    </tr>\n",
              "  </thead>\n",
              "  <tbody>\n",
              "    <tr>\n",
              "      <th>2018-01-01</th>\n",
              "      <td>15047133.0</td>\n",
              "      <td>15046287.0</td>\n",
              "      <td>14026068.0</td>\n",
              "      <td>14548333.0</td>\n",
              "      <td>14548333.0</td>\n",
              "      <td>10962700800000</td>\n",
              "    </tr>\n",
              "    <tr>\n",
              "      <th>2018-01-02</th>\n",
              "      <td>14514031.0</td>\n",
              "      <td>16400157.0</td>\n",
              "      <td>13990142.0</td>\n",
              "      <td>15918331.0</td>\n",
              "      <td>15918331.0</td>\n",
              "      <td>17899344238000</td>\n",
              "    </tr>\n",
              "    <tr>\n",
              "      <th>2018-01-03</th>\n",
              "      <td>15914188.0</td>\n",
              "      <td>16565566.0</td>\n",
              "      <td>15788165.0</td>\n",
              "      <td>16172952.0</td>\n",
              "      <td>16172952.0</td>\n",
              "      <td>17950689456200</td>\n",
              "    </tr>\n",
              "    <tr>\n",
              "      <th>2018-01-04</th>\n",
              "      <td>16247109.0</td>\n",
              "      <td>16707220.0</td>\n",
              "      <td>15433904.0</td>\n",
              "      <td>16552935.0</td>\n",
              "      <td>16552935.0</td>\n",
              "      <td>23115024576400</td>\n",
              "    </tr>\n",
              "    <tr>\n",
              "      <th>2018-01-05</th>\n",
              "      <td>16423476.0</td>\n",
              "      <td>18802922.0</td>\n",
              "      <td>16131843.0</td>\n",
              "      <td>18510128.0</td>\n",
              "      <td>18510128.0</td>\n",
              "      <td>25319034814500</td>\n",
              "    </tr>\n",
              "  </tbody>\n",
              "</table>\n",
              "</div>\n",
              "      <button class=\"colab-df-convert\" onclick=\"convertToInteractive('df-98230311-9025-4d18-a6cc-87e66b66ea92')\"\n",
              "              title=\"Convert this dataframe to an interactive table.\"\n",
              "              style=\"display:none;\">\n",
              "        \n",
              "  <svg xmlns=\"http://www.w3.org/2000/svg\" height=\"24px\"viewBox=\"0 0 24 24\"\n",
              "       width=\"24px\">\n",
              "    <path d=\"M0 0h24v24H0V0z\" fill=\"none\"/>\n",
              "    <path d=\"M18.56 5.44l.94 2.06.94-2.06 2.06-.94-2.06-.94-.94-2.06-.94 2.06-2.06.94zm-11 1L8.5 8.5l.94-2.06 2.06-.94-2.06-.94L8.5 2.5l-.94 2.06-2.06.94zm10 10l.94 2.06.94-2.06 2.06-.94-2.06-.94-.94-2.06-.94 2.06-2.06.94z\"/><path d=\"M17.41 7.96l-1.37-1.37c-.4-.4-.92-.59-1.43-.59-.52 0-1.04.2-1.43.59L10.3 9.45l-7.72 7.72c-.78.78-.78 2.05 0 2.83L4 21.41c.39.39.9.59 1.41.59.51 0 1.02-.2 1.41-.59l7.78-7.78 2.81-2.81c.8-.78.8-2.07 0-2.86zM5.41 20L4 18.59l7.72-7.72 1.47 1.35L5.41 20z\"/>\n",
              "  </svg>\n",
              "      </button>\n",
              "      \n",
              "  <style>\n",
              "    .colab-df-container {\n",
              "      display:flex;\n",
              "      flex-wrap:wrap;\n",
              "      gap: 12px;\n",
              "    }\n",
              "\n",
              "    .colab-df-convert {\n",
              "      background-color: #E8F0FE;\n",
              "      border: none;\n",
              "      border-radius: 50%;\n",
              "      cursor: pointer;\n",
              "      display: none;\n",
              "      fill: #1967D2;\n",
              "      height: 32px;\n",
              "      padding: 0 0 0 0;\n",
              "      width: 32px;\n",
              "    }\n",
              "\n",
              "    .colab-df-convert:hover {\n",
              "      background-color: #E2EBFA;\n",
              "      box-shadow: 0px 1px 2px rgba(60, 64, 67, 0.3), 0px 1px 3px 1px rgba(60, 64, 67, 0.15);\n",
              "      fill: #174EA6;\n",
              "    }\n",
              "\n",
              "    [theme=dark] .colab-df-convert {\n",
              "      background-color: #3B4455;\n",
              "      fill: #D2E3FC;\n",
              "    }\n",
              "\n",
              "    [theme=dark] .colab-df-convert:hover {\n",
              "      background-color: #434B5C;\n",
              "      box-shadow: 0px 1px 3px 1px rgba(0, 0, 0, 0.15);\n",
              "      filter: drop-shadow(0px 1px 2px rgba(0, 0, 0, 0.3));\n",
              "      fill: #FFFFFF;\n",
              "    }\n",
              "  </style>\n",
              "\n",
              "      <script>\n",
              "        const buttonEl =\n",
              "          document.querySelector('#df-98230311-9025-4d18-a6cc-87e66b66ea92 button.colab-df-convert');\n",
              "        buttonEl.style.display =\n",
              "          google.colab.kernel.accessAllowed ? 'block' : 'none';\n",
              "\n",
              "        async function convertToInteractive(key) {\n",
              "          const element = document.querySelector('#df-98230311-9025-4d18-a6cc-87e66b66ea92');\n",
              "          const dataTable =\n",
              "            await google.colab.kernel.invokeFunction('convertToInteractive',\n",
              "                                                     [key], {});\n",
              "          if (!dataTable) return;\n",
              "\n",
              "          const docLinkHtml = 'Like what you see? Visit the ' +\n",
              "            '<a target=\"_blank\" href=https://colab.research.google.com/notebooks/data_table.ipynb>data table notebook</a>'\n",
              "            + ' to learn more about interactive tables.';\n",
              "          element.innerHTML = '';\n",
              "          dataTable['output_type'] = 'display_data';\n",
              "          await google.colab.output.renderOutput(dataTable, element);\n",
              "          const docLink = document.createElement('div');\n",
              "          docLink.innerHTML = docLinkHtml;\n",
              "          element.appendChild(docLink);\n",
              "        }\n",
              "      </script>\n",
              "    </div>\n",
              "  </div>\n",
              "  "
            ]
          },
          "metadata": {},
          "execution_count": 35
        }
      ]
    },
    {
      "cell_type": "code",
      "source": [
        "df_d.head()"
      ],
      "metadata": {
        "colab": {
          "base_uri": "https://localhost:8080/",
          "height": 238
        },
        "id": "rFztThN6Pnbf",
        "outputId": "ae7ea4aa-6cb4-4c78-fd43-0b46d8b98e73"
      },
      "execution_count": null,
      "outputs": [
        {
          "output_type": "execute_result",
          "data": {
            "text/plain": [
              "                 Close\n",
              "Date                  \n",
              "2018-01-01  14548333.0\n",
              "2018-01-02  15918331.0\n",
              "2018-01-03  16172952.0\n",
              "2018-01-04  16552935.0\n",
              "2018-01-05  18510128.0"
            ],
            "text/html": [
              "\n",
              "  <div id=\"df-6126fda6-e260-4cc4-9fce-ee9c93ba1491\">\n",
              "    <div class=\"colab-df-container\">\n",
              "      <div>\n",
              "<style scoped>\n",
              "    .dataframe tbody tr th:only-of-type {\n",
              "        vertical-align: middle;\n",
              "    }\n",
              "\n",
              "    .dataframe tbody tr th {\n",
              "        vertical-align: top;\n",
              "    }\n",
              "\n",
              "    .dataframe thead th {\n",
              "        text-align: right;\n",
              "    }\n",
              "</style>\n",
              "<table border=\"1\" class=\"dataframe\">\n",
              "  <thead>\n",
              "    <tr style=\"text-align: right;\">\n",
              "      <th></th>\n",
              "      <th>Close</th>\n",
              "    </tr>\n",
              "    <tr>\n",
              "      <th>Date</th>\n",
              "      <th></th>\n",
              "    </tr>\n",
              "  </thead>\n",
              "  <tbody>\n",
              "    <tr>\n",
              "      <th>2018-01-01</th>\n",
              "      <td>14548333.0</td>\n",
              "    </tr>\n",
              "    <tr>\n",
              "      <th>2018-01-02</th>\n",
              "      <td>15918331.0</td>\n",
              "    </tr>\n",
              "    <tr>\n",
              "      <th>2018-01-03</th>\n",
              "      <td>16172952.0</td>\n",
              "    </tr>\n",
              "    <tr>\n",
              "      <th>2018-01-04</th>\n",
              "      <td>16552935.0</td>\n",
              "    </tr>\n",
              "    <tr>\n",
              "      <th>2018-01-05</th>\n",
              "      <td>18510128.0</td>\n",
              "    </tr>\n",
              "  </tbody>\n",
              "</table>\n",
              "</div>\n",
              "      <button class=\"colab-df-convert\" onclick=\"convertToInteractive('df-6126fda6-e260-4cc4-9fce-ee9c93ba1491')\"\n",
              "              title=\"Convert this dataframe to an interactive table.\"\n",
              "              style=\"display:none;\">\n",
              "        \n",
              "  <svg xmlns=\"http://www.w3.org/2000/svg\" height=\"24px\"viewBox=\"0 0 24 24\"\n",
              "       width=\"24px\">\n",
              "    <path d=\"M0 0h24v24H0V0z\" fill=\"none\"/>\n",
              "    <path d=\"M18.56 5.44l.94 2.06.94-2.06 2.06-.94-2.06-.94-.94-2.06-.94 2.06-2.06.94zm-11 1L8.5 8.5l.94-2.06 2.06-.94-2.06-.94L8.5 2.5l-.94 2.06-2.06.94zm10 10l.94 2.06.94-2.06 2.06-.94-2.06-.94-.94-2.06-.94 2.06-2.06.94z\"/><path d=\"M17.41 7.96l-1.37-1.37c-.4-.4-.92-.59-1.43-.59-.52 0-1.04.2-1.43.59L10.3 9.45l-7.72 7.72c-.78.78-.78 2.05 0 2.83L4 21.41c.39.39.9.59 1.41.59.51 0 1.02-.2 1.41-.59l7.78-7.78 2.81-2.81c.8-.78.8-2.07 0-2.86zM5.41 20L4 18.59l7.72-7.72 1.47 1.35L5.41 20z\"/>\n",
              "  </svg>\n",
              "      </button>\n",
              "      \n",
              "  <style>\n",
              "    .colab-df-container {\n",
              "      display:flex;\n",
              "      flex-wrap:wrap;\n",
              "      gap: 12px;\n",
              "    }\n",
              "\n",
              "    .colab-df-convert {\n",
              "      background-color: #E8F0FE;\n",
              "      border: none;\n",
              "      border-radius: 50%;\n",
              "      cursor: pointer;\n",
              "      display: none;\n",
              "      fill: #1967D2;\n",
              "      height: 32px;\n",
              "      padding: 0 0 0 0;\n",
              "      width: 32px;\n",
              "    }\n",
              "\n",
              "    .colab-df-convert:hover {\n",
              "      background-color: #E2EBFA;\n",
              "      box-shadow: 0px 1px 2px rgba(60, 64, 67, 0.3), 0px 1px 3px 1px rgba(60, 64, 67, 0.15);\n",
              "      fill: #174EA6;\n",
              "    }\n",
              "\n",
              "    [theme=dark] .colab-df-convert {\n",
              "      background-color: #3B4455;\n",
              "      fill: #D2E3FC;\n",
              "    }\n",
              "\n",
              "    [theme=dark] .colab-df-convert:hover {\n",
              "      background-color: #434B5C;\n",
              "      box-shadow: 0px 1px 3px 1px rgba(0, 0, 0, 0.15);\n",
              "      filter: drop-shadow(0px 1px 2px rgba(0, 0, 0, 0.3));\n",
              "      fill: #FFFFFF;\n",
              "    }\n",
              "  </style>\n",
              "\n",
              "      <script>\n",
              "        const buttonEl =\n",
              "          document.querySelector('#df-6126fda6-e260-4cc4-9fce-ee9c93ba1491 button.colab-df-convert');\n",
              "        buttonEl.style.display =\n",
              "          google.colab.kernel.accessAllowed ? 'block' : 'none';\n",
              "\n",
              "        async function convertToInteractive(key) {\n",
              "          const element = document.querySelector('#df-6126fda6-e260-4cc4-9fce-ee9c93ba1491');\n",
              "          const dataTable =\n",
              "            await google.colab.kernel.invokeFunction('convertToInteractive',\n",
              "                                                     [key], {});\n",
              "          if (!dataTable) return;\n",
              "\n",
              "          const docLinkHtml = 'Like what you see? Visit the ' +\n",
              "            '<a target=\"_blank\" href=https://colab.research.google.com/notebooks/data_table.ipynb>data table notebook</a>'\n",
              "            + ' to learn more about interactive tables.';\n",
              "          element.innerHTML = '';\n",
              "          dataTable['output_type'] = 'display_data';\n",
              "          await google.colab.output.renderOutput(dataTable, element);\n",
              "          const docLink = document.createElement('div');\n",
              "          docLink.innerHTML = docLinkHtml;\n",
              "          element.appendChild(docLink);\n",
              "        }\n",
              "      </script>\n",
              "    </div>\n",
              "  </div>\n",
              "  "
            ]
          },
          "metadata": {},
          "execution_count": 20
        }
      ]
    },
    {
      "cell_type": "code",
      "source": [
        "# 데이터 전처리\n",
        "scaler_d = MinMaxScaler()\n",
        "scaled_data_d = scaler_d.fit_transform(df_d) # minmaxScaler는 스케일을 조정하는 정규화 함수로, 모든 데이터가 0과 1사이의 값을 갖도록 해주는 함수이다\n",
        "                          # 따라서 최댓값은 1로, 최솟값은 0으로 데이터의 범위를 조정해준다. 객체생성함"
      ],
      "metadata": {
        "id": "Tlyi9Fnk3m5n"
      },
      "execution_count": null,
      "outputs": []
    },
    {
      "cell_type": "code",
      "source": [
        "# train, test 데이터 생성\n",
        "\n",
        "train_size_d = int(len(scaled_data_d) * 0.8)   ## 전체 데이터셋 중 80%를 학습 데이터셋으로, 20%를 테스트 데이터셋(검증용) 으로 사용하기 위해서 0.8을 곱했다\n",
        "                                          # 모델 학습 시 과적합을 방지하고 일반화 성능을 높이기 위해 사용된다\n",
        "train_data_d = scaled_data_d[:train_size_d]\n",
        "test_data_d = scaled_data_d[train_size_d:]\n",
        "\n",
        "def create_dataset_d(data, look_back=60): #look_back은 몇 개의 과거 데이터를 사용할 것인지를 표현하는 것이다(기본값이 60이다)\n",
        "    x_d, y_d = [], []        #  for문에서 얻은 모든 입력 데이터(x)와 출력 데이터(y)를 리스트에 추가한다\n",
        "    for i in range(len(data)-look_back):\n",
        "        x_d.append(data[i:(i+look_back), 0])   # i부터 (i+look_back)까지의 데이터를 하나의 입력 데이터 x 로 표현한다.\n",
        "        y_d.append(data[i+look_back, 0])       # i+look_back의 데이터를 출력 데이터 y 로 표현한다.\n",
        "    return np.array(x_d), np.array(y_d)         # 리스트를 numpy 배열로 변환하여 반환\n",
        "\n",
        "# create_dataset()는 시계열 데이터를 RNN 모델에 입력으로 사용하기 위해 입력 데이터와 출력 데이터로 분리하는 함수이다.\n",
        "\n",
        "look_back = 60\n",
        "x_train_d, y_train_d = create_dataset_d(train_data_d, look_back)\n",
        "x_test_d, y_test_d = create_dataset_d(test_data_d, look_back)"
      ],
      "metadata": {
        "id": "XdJR2JjF5CXN"
      },
      "execution_count": null,
      "outputs": []
    },
    {
      "cell_type": "code",
      "source": [
        "# 모델 생성\n",
        "model_d = Sequential()   # 모델의 객체생성\n",
        "model_d.add(GRU(50, input_shape=(look_back, 1)))   #  50=레이어의 출력 차원, input_shape=입력 데이터의 형태를 정의를 의미한다.\n",
        "                                                  # lock_back=이전 데이터의 갯수만큼 비트코인 가격을 입력으로 받아들이고, 각각의 데이터가 1차원인 것을 의미합니다.\n",
        "\n",
        "model_d.add(Dense(1))   # Dense 는 완전 연결 레이어(층)를 의미한다. 1은 출력의 차원을 의미\n",
        "\n",
        "model_d.compile(loss='mean_squared_error', optimizer='adam')  # compile() 함수를 이용하여 모델을 컴파일합니다\n",
        "                                                             # loss는 손실 함수를 의미한다.\n",
        "                                                             # mean_squared_error(MSE) 는 전체 에러를 표현하기 위해서 사용하는 식이고 오차의 제곱에 대해 평균을 취한 것이다.(수치가 작을 수록 원본과의 오차가 적은 것이다)\n",
        "                                                             # optimizer는  최적화 알고리즘을 정의하는 부분이다. adam(아담) 은 모멘텀+ AdaGrad(아다그라드) 을 합친 것이다\n",
        "\n",
        "# 완전 연결 레이어 : 한 레이어의 모든 뉴런이 그 다음 레이어의 모든 뉴런과 연결된 상태이다.\n",
        "\n",
        "# 모멘텀 : 기울기 방향으로 힘을 받아 물체가 가속된다는 물리법칙을 적용한것이다.\n",
        "# AdaGrad : 학습을 진행하면서 학습률을 점차 줄여가는 방법이다."
      ],
      "metadata": {
        "id": "M8tVeAv-5Xl_"
      },
      "execution_count": null,
      "outputs": []
    },
    {
      "cell_type": "code",
      "source": [
        "# 모델 학습\n",
        "model_d.fit(x_train_d, y_train_d, epochs=100, batch_size=64, verbose=2)\n",
        "\n",
        "# x_train : 학습데이터의 입력값   , y_train : 학습데이터의 출력값이다.\n",
        "\n",
        "# 에포크 : 훈련 데이터셋에 포함된 모든 데이터들이 한 번씩 모델을 통과한 횟수 또는 전체 학습 데이터셋에 대한 반복 횟수이다\n",
        "# 에포크가 높을수록 더 많은 반복 학습을 수행하게 되므로 모델이 더 많은 학습을 하게 되어 일반적으로 더 좋은 성능을 낼 수 있습니다\n",
        "# 에포크가 높을수록 손실함수의 결과값이 줄어든다\n",
        "\n",
        "# batch_size(배치크기) : 학습을 수행할 때, 몇 개의 데이터를 한 번에 처리할지를 지정한다, 일반적으로 32,64, 128 숫자를 사용한다\n",
        "\n",
        "# verbose : 학습 과정 중 출력되는 문구를 설정합니다. 0일 경우 출력하지 않으며, 1일 경우 학습 진행 상황을 출력하고, 2일 경우 학습 결과만 출력한다"
      ],
      "metadata": {
        "colab": {
          "base_uri": "https://localhost:8080/"
        },
        "id": "4Jyhpvm15ejE",
        "outputId": "4b9ee4a2-74b6-4206-8b1b-eed1589cb8e2"
      },
      "execution_count": null,
      "outputs": [
        {
          "output_type": "stream",
          "name": "stdout",
          "text": [
            "Epoch 1/100\n",
            "22/22 - 3s - loss: 0.0231 - 3s/epoch - 147ms/step\n",
            "Epoch 2/100\n",
            "22/22 - 1s - loss: 0.0017 - 1s/epoch - 54ms/step\n",
            "Epoch 3/100\n",
            "22/22 - 1s - loss: 5.4957e-04 - 1s/epoch - 55ms/step\n",
            "Epoch 4/100\n",
            "22/22 - 1s - loss: 4.4207e-04 - 865ms/epoch - 39ms/step\n",
            "Epoch 5/100\n",
            "22/22 - 1s - loss: 4.1536e-04 - 730ms/epoch - 33ms/step\n",
            "Epoch 6/100\n",
            "22/22 - 1s - loss: 4.0639e-04 - 723ms/epoch - 33ms/step\n",
            "Epoch 7/100\n",
            "22/22 - 1s - loss: 3.9297e-04 - 738ms/epoch - 34ms/step\n",
            "Epoch 8/100\n",
            "22/22 - 1s - loss: 3.7141e-04 - 720ms/epoch - 33ms/step\n",
            "Epoch 9/100\n",
            "22/22 - 1s - loss: 3.7026e-04 - 721ms/epoch - 33ms/step\n",
            "Epoch 10/100\n",
            "22/22 - 1s - loss: 3.5494e-04 - 702ms/epoch - 32ms/step\n",
            "Epoch 11/100\n",
            "22/22 - 1s - loss: 3.3883e-04 - 721ms/epoch - 33ms/step\n",
            "Epoch 12/100\n",
            "22/22 - 1s - loss: 3.3830e-04 - 708ms/epoch - 32ms/step\n",
            "Epoch 13/100\n",
            "22/22 - 1s - loss: 3.4050e-04 - 695ms/epoch - 32ms/step\n",
            "Epoch 14/100\n",
            "22/22 - 1s - loss: 3.2097e-04 - 723ms/epoch - 33ms/step\n",
            "Epoch 15/100\n",
            "22/22 - 1s - loss: 3.1661e-04 - 753ms/epoch - 34ms/step\n",
            "Epoch 16/100\n",
            "22/22 - 1s - loss: 3.0982e-04 - 706ms/epoch - 32ms/step\n",
            "Epoch 17/100\n",
            "22/22 - 1s - loss: 3.0187e-04 - 713ms/epoch - 32ms/step\n",
            "Epoch 18/100\n",
            "22/22 - 1s - loss: 2.9483e-04 - 1s/epoch - 54ms/step\n",
            "Epoch 19/100\n",
            "22/22 - 1s - loss: 3.0255e-04 - 1s/epoch - 55ms/step\n",
            "Epoch 20/100\n",
            "22/22 - 1s - loss: 3.1498e-04 - 885ms/epoch - 40ms/step\n",
            "Epoch 21/100\n",
            "22/22 - 1s - loss: 2.9165e-04 - 720ms/epoch - 33ms/step\n",
            "Epoch 22/100\n",
            "22/22 - 1s - loss: 2.9071e-04 - 726ms/epoch - 33ms/step\n",
            "Epoch 23/100\n",
            "22/22 - 1s - loss: 2.9305e-04 - 733ms/epoch - 33ms/step\n",
            "Epoch 24/100\n",
            "22/22 - 1s - loss: 2.8054e-04 - 724ms/epoch - 33ms/step\n",
            "Epoch 25/100\n",
            "22/22 - 1s - loss: 2.8119e-04 - 722ms/epoch - 33ms/step\n",
            "Epoch 26/100\n",
            "22/22 - 1s - loss: 2.7141e-04 - 739ms/epoch - 34ms/step\n",
            "Epoch 27/100\n",
            "22/22 - 1s - loss: 2.7062e-04 - 716ms/epoch - 33ms/step\n",
            "Epoch 28/100\n",
            "22/22 - 1s - loss: 2.7081e-04 - 725ms/epoch - 33ms/step\n",
            "Epoch 29/100\n",
            "22/22 - 1s - loss: 2.6432e-04 - 722ms/epoch - 33ms/step\n",
            "Epoch 30/100\n",
            "22/22 - 1s - loss: 2.6322e-04 - 708ms/epoch - 32ms/step\n",
            "Epoch 31/100\n",
            "22/22 - 1s - loss: 2.6417e-04 - 722ms/epoch - 33ms/step\n",
            "Epoch 32/100\n",
            "22/22 - 1s - loss: 2.6954e-04 - 740ms/epoch - 34ms/step\n",
            "Epoch 33/100\n",
            "22/22 - 1s - loss: 2.5982e-04 - 721ms/epoch - 33ms/step\n",
            "Epoch 34/100\n",
            "22/22 - 1s - loss: 2.7477e-04 - 1s/epoch - 52ms/step\n",
            "Epoch 35/100\n",
            "22/22 - 1s - loss: 2.7608e-04 - 1s/epoch - 57ms/step\n",
            "Epoch 36/100\n",
            "22/22 - 1s - loss: 2.5776e-04 - 959ms/epoch - 44ms/step\n",
            "Epoch 37/100\n",
            "22/22 - 1s - loss: 2.5199e-04 - 741ms/epoch - 34ms/step\n",
            "Epoch 38/100\n",
            "22/22 - 1s - loss: 2.5111e-04 - 711ms/epoch - 32ms/step\n",
            "Epoch 39/100\n",
            "22/22 - 1s - loss: 2.5044e-04 - 725ms/epoch - 33ms/step\n",
            "Epoch 40/100\n",
            "22/22 - 1s - loss: 2.5792e-04 - 714ms/epoch - 32ms/step\n",
            "Epoch 41/100\n",
            "22/22 - 1s - loss: 2.4853e-04 - 717ms/epoch - 33ms/step\n",
            "Epoch 42/100\n",
            "22/22 - 1s - loss: 2.5860e-04 - 736ms/epoch - 33ms/step\n",
            "Epoch 43/100\n",
            "22/22 - 1s - loss: 2.6579e-04 - 714ms/epoch - 32ms/step\n",
            "Epoch 44/100\n",
            "22/22 - 1s - loss: 2.7311e-04 - 710ms/epoch - 32ms/step\n",
            "Epoch 45/100\n",
            "22/22 - 1s - loss: 2.5781e-04 - 738ms/epoch - 34ms/step\n",
            "Epoch 46/100\n",
            "22/22 - 1s - loss: 2.4629e-04 - 732ms/epoch - 33ms/step\n",
            "Epoch 47/100\n",
            "22/22 - 1s - loss: 2.4971e-04 - 736ms/epoch - 33ms/step\n",
            "Epoch 48/100\n",
            "22/22 - 1s - loss: 2.4899e-04 - 708ms/epoch - 32ms/step\n",
            "Epoch 49/100\n",
            "22/22 - 1s - loss: 2.4766e-04 - 717ms/epoch - 33ms/step\n",
            "Epoch 50/100\n",
            "22/22 - 1s - loss: 2.6496e-04 - 1s/epoch - 54ms/step\n",
            "Epoch 51/100\n",
            "22/22 - 1s - loss: 2.5749e-04 - 1s/epoch - 55ms/step\n",
            "Epoch 52/100\n",
            "22/22 - 1s - loss: 2.5880e-04 - 898ms/epoch - 41ms/step\n",
            "Epoch 53/100\n",
            "22/22 - 1s - loss: 2.4342e-04 - 722ms/epoch - 33ms/step\n",
            "Epoch 54/100\n",
            "22/22 - 1s - loss: 2.4652e-04 - 707ms/epoch - 32ms/step\n",
            "Epoch 55/100\n",
            "22/22 - 1s - loss: 2.4310e-04 - 699ms/epoch - 32ms/step\n",
            "Epoch 56/100\n",
            "22/22 - 1s - loss: 2.4562e-04 - 716ms/epoch - 33ms/step\n",
            "Epoch 57/100\n",
            "22/22 - 1s - loss: 2.4193e-04 - 729ms/epoch - 33ms/step\n",
            "Epoch 58/100\n",
            "22/22 - 1s - loss: 2.4286e-04 - 699ms/epoch - 32ms/step\n",
            "Epoch 59/100\n",
            "22/22 - 1s - loss: 2.3847e-04 - 726ms/epoch - 33ms/step\n",
            "Epoch 60/100\n",
            "22/22 - 1s - loss: 2.6392e-04 - 716ms/epoch - 33ms/step\n",
            "Epoch 61/100\n",
            "22/22 - 1s - loss: 2.5012e-04 - 724ms/epoch - 33ms/step\n",
            "Epoch 62/100\n",
            "22/22 - 1s - loss: 2.4008e-04 - 723ms/epoch - 33ms/step\n",
            "Epoch 63/100\n",
            "22/22 - 1s - loss: 2.3535e-04 - 729ms/epoch - 33ms/step\n",
            "Epoch 64/100\n",
            "22/22 - 1s - loss: 2.4908e-04 - 722ms/epoch - 33ms/step\n",
            "Epoch 65/100\n",
            "22/22 - 1s - loss: 2.8873e-04 - 712ms/epoch - 32ms/step\n",
            "Epoch 66/100\n",
            "22/22 - 1s - loss: 3.0364e-04 - 1s/epoch - 50ms/step\n",
            "Epoch 67/100\n",
            "22/22 - 1s - loss: 2.6157e-04 - 1s/epoch - 56ms/step\n",
            "Epoch 68/100\n",
            "22/22 - 1s - loss: 2.5240e-04 - 983ms/epoch - 45ms/step\n",
            "Epoch 69/100\n",
            "22/22 - 1s - loss: 2.4201e-04 - 711ms/epoch - 32ms/step\n",
            "Epoch 70/100\n",
            "22/22 - 1s - loss: 2.4692e-04 - 731ms/epoch - 33ms/step\n",
            "Epoch 71/100\n",
            "22/22 - 1s - loss: 2.5430e-04 - 711ms/epoch - 32ms/step\n",
            "Epoch 72/100\n",
            "22/22 - 1s - loss: 2.4301e-04 - 710ms/epoch - 32ms/step\n",
            "Epoch 73/100\n",
            "22/22 - 1s - loss: 2.3346e-04 - 721ms/epoch - 33ms/step\n",
            "Epoch 74/100\n",
            "22/22 - 1s - loss: 2.3483e-04 - 724ms/epoch - 33ms/step\n",
            "Epoch 75/100\n",
            "22/22 - 1s - loss: 2.3638e-04 - 712ms/epoch - 32ms/step\n",
            "Epoch 76/100\n",
            "22/22 - 1s - loss: 2.4941e-04 - 720ms/epoch - 33ms/step\n",
            "Epoch 77/100\n",
            "22/22 - 1s - loss: 2.8994e-04 - 715ms/epoch - 33ms/step\n",
            "Epoch 78/100\n",
            "22/22 - 1s - loss: 2.3124e-04 - 715ms/epoch - 33ms/step\n",
            "Epoch 79/100\n",
            "22/22 - 1s - loss: 2.3945e-04 - 701ms/epoch - 32ms/step\n",
            "Epoch 80/100\n",
            "22/22 - 1s - loss: 2.3724e-04 - 728ms/epoch - 33ms/step\n",
            "Epoch 81/100\n",
            "22/22 - 1s - loss: 2.4016e-04 - 713ms/epoch - 32ms/step\n",
            "Epoch 82/100\n",
            "22/22 - 1s - loss: 2.3271e-04 - 1s/epoch - 47ms/step\n",
            "Epoch 83/100\n",
            "22/22 - 1s - loss: 2.4173e-04 - 1s/epoch - 55ms/step\n",
            "Epoch 84/100\n",
            "22/22 - 1s - loss: 2.3068e-04 - 1s/epoch - 47ms/step\n",
            "Epoch 85/100\n",
            "22/22 - 1s - loss: 2.3083e-04 - 697ms/epoch - 32ms/step\n",
            "Epoch 86/100\n",
            "22/22 - 1s - loss: 2.6053e-04 - 712ms/epoch - 32ms/step\n",
            "Epoch 87/100\n",
            "22/22 - 1s - loss: 2.3473e-04 - 728ms/epoch - 33ms/step\n",
            "Epoch 88/100\n",
            "22/22 - 1s - loss: 2.5399e-04 - 705ms/epoch - 32ms/step\n",
            "Epoch 89/100\n",
            "22/22 - 1s - loss: 2.3211e-04 - 706ms/epoch - 32ms/step\n",
            "Epoch 90/100\n",
            "22/22 - 1s - loss: 2.4936e-04 - 731ms/epoch - 33ms/step\n",
            "Epoch 91/100\n",
            "22/22 - 1s - loss: 2.3277e-04 - 715ms/epoch - 32ms/step\n",
            "Epoch 92/100\n",
            "22/22 - 1s - loss: 2.3491e-04 - 723ms/epoch - 33ms/step\n",
            "Epoch 93/100\n",
            "22/22 - 1s - loss: 2.3594e-04 - 729ms/epoch - 33ms/step\n",
            "Epoch 94/100\n",
            "22/22 - 1s - loss: 2.3479e-04 - 732ms/epoch - 33ms/step\n",
            "Epoch 95/100\n",
            "22/22 - 1s - loss: 2.3870e-04 - 746ms/epoch - 34ms/step\n",
            "Epoch 96/100\n",
            "22/22 - 1s - loss: 2.3121e-04 - 717ms/epoch - 33ms/step\n",
            "Epoch 97/100\n",
            "22/22 - 1s - loss: 2.4595e-04 - 708ms/epoch - 32ms/step\n",
            "Epoch 98/100\n",
            "22/22 - 1s - loss: 2.4854e-04 - 1s/epoch - 46ms/step\n",
            "Epoch 99/100\n",
            "22/22 - 1s - loss: 2.2777e-04 - 1s/epoch - 54ms/step\n",
            "Epoch 100/100\n",
            "22/22 - 1s - loss: 2.2753e-04 - 1s/epoch - 50ms/step\n"
          ]
        },
        {
          "output_type": "execute_result",
          "data": {
            "text/plain": [
              "<keras.callbacks.History at 0x7fd352a99ae0>"
            ]
          },
          "metadata": {},
          "execution_count": 39
        }
      ]
    },
    {
      "cell_type": "code",
      "source": [
        "# 예측\n",
        "train_predict_d = model_d.predict(x_train_d)\n",
        "test_predict_d = model_d.predict(x_test_d)\n",
        "\n",
        "# model.predict(x_train) 은 학습된 모델을 이용하여 train 데이터에 대한 예측값을 계산한다\n",
        "# mode.predict(x_test) 은 학습된 모델을 이용하여 test 데이터에 대한 예측값을 계산한다."
      ],
      "metadata": {
        "colab": {
          "base_uri": "https://localhost:8080/"
        },
        "id": "E3ZlqXI-5hdy",
        "outputId": "a2bad9e8-2c6d-4698-e192-dc66e6322e74"
      },
      "execution_count": null,
      "outputs": [
        {
          "output_type": "stream",
          "name": "stdout",
          "text": [
            "44/44 [==============================] - 1s 9ms/step\n",
            "10/10 [==============================] - 0s 9ms/step\n"
          ]
        }
      ]
    },
    {
      "cell_type": "code",
      "source": [
        "# 예측 결과 시각화\n",
        "train_predict_d = scaler_d.inverse_transform(train_predict_d)\n",
        "test_predict_d = scaler_d.inverse_transform(test_predict_d)\n",
        "\n",
        "\n",
        "# train_predict와 test_predict 배열에 NaN 값이 포함되어 있는지 확인하기 위해  np.isnan() 함수를 사용\n",
        "# 만약 NaN 값이 있다면, 이를 np.ma.array() 함수를 사용하여 NaN 값을 마스킹한 배열을 생성한다.\n",
        "# np.ma.array()에서는 평균값을 구할수있다.(조건이 참일때 평균값을 구해서 NaN값으로 대체한다)\n",
        "\n",
        "# train_predict와 test_predict 배열의 값을 scaler.inverse_transform() 함수를 사용하여 스케일링된 값을 원래의 값으로 복원합니다.\n",
        "\n",
        "plt.figure(figsize=(10, 5))\n",
        "\n",
        "# 2022년 2월 24일에 빨간색 세로축을 추가합니다.\n",
        "target_date = datetime.datetime(2022, 2, 24)\n",
        "plt.axvline(x=target_date, color='red', linestyle='--')\n",
        "\n",
        "plt.plot(df_d[look_back:len(train_data_d)].index, df_d[look_back:len(train_data_d)].values, label='Actual Train Price')\n",
        "plt.plot(df_d[len(train_data_d)+look_back:].index, df_d[len(train_data_d)+look_back:].values, label='Actual Test Price')\n",
        "plt.plot(df_d[look_back:len(train_data_d)].index, train_predict_d, label='Predicted Train Price')\n",
        "plt.plot(df_d[len(train_data_d)+look_back:].index, test_predict_d, label='Predicted Test Price')\n",
        "plt.xlabel('Date')\n",
        "plt.ylabel('Price')\n",
        "plt.title('Bitcoin price prediction after the outbreak of war between Ukraine and Russia')\n",
        "plt.legend()\n",
        "plt.show()"
      ],
      "metadata": {
        "colab": {
          "base_uri": "https://localhost:8080/",
          "height": 487
        },
        "id": "UIG0ODABSADu",
        "outputId": "7e28e2ab-4492-431d-ba01-4530eb838690"
      },
      "execution_count": null,
      "outputs": [
        {
          "output_type": "display_data",
          "data": {
            "text/plain": [
              "<Figure size 1000x500 with 1 Axes>"
            ],
            "image/png": "[encoded data removed]"
          },
          "metadata": {}
        }
      ]
    },
    {
      "cell_type": "code",
      "source": [
        "# train 및 test 데이터에 대한 예측값 생성\n",
        "train_predict_d = model_d.predict(x_train_d)\n",
        "test_predict_d = model_d.predict(x_test_d)\n",
        "\n",
        "# 스케일링 된 값을 다시 원래 값으로 변환\n",
        "train_predict_d = scaler_d.inverse_transform(train_predict_d)  #inverse_transform() 함수를 이용해 원본값으로 복원가능하다\n",
        "y_train_d = scaler_d.inverse_transform([y_train_d])\n",
        "test_predict_d = scaler_d.inverse_transform(test_predict_d)\n",
        "y_test_d = scaler_d.inverse_transform([y_test_d])\n",
        "\n",
        "\n",
        "train_r2_score_d= r2_score(y_train_d[0], train_predict_d[:,0])\n",
        "test_r2_score_d = r2_score(y_test_d[0], test_predict_d[:,0])\n",
        "\n",
        "\n",
        "# 결과 출력\n",
        "print(\"Train R2 Score : \", train_r2_score_d)  # 99퍼센트에 정확도를 보여준다\n",
        "print(\"Test R2 Score : \", test_r2_score_d)   # 95% 정확도를 보여준다."
      ],
      "metadata": {
        "colab": {
          "base_uri": "https://localhost:8080/"
        },
        "id": "uDCR9_sY6DTp",
        "outputId": "668f5a2e-90f9-4127-f0f2-111e784610ab"
      },
      "execution_count": null,
      "outputs": [
        {
          "output_type": "stream",
          "name": "stdout",
          "text": [
            "37/37 [==============================] - 1s 17ms/step\n",
            "8/8 [==============================] - 0s 15ms/step\n",
            "Train R2 Score :  0.9962525126317751\n",
            "Test R2 Score :  0.9496889547665454\n"
          ]
        }
      ]
    },
    {
      "cell_type": "markdown",
      "source": [
        "## 5. 일론머스크 (2021년 5월 13일)"
      ],
      "metadata": {
        "id": "PrKZ-2YJ6J56"
      }
    },
    {
      "cell_type": "code",
      "source": [
        "!pip install finance-datareader # FinanceDataReader에서 데이터를 불러오기 위해 FinanceDataReader를 설치하는 과정"
      ],
      "metadata": {
        "colab": {
          "base_uri": "https://localhost:8080/"
        },
        "id": "kkK37BlzrLT_",
        "outputId": "baaf3dae-911e-4eb0-dc52-7464e06f21ff"
      },
      "execution_count": null,
      "outputs": [
        {
          "output_type": "stream",
          "name": "stdout",
          "text": [
            "Looking in indexes: https://pypi.org/simple, https://us-python.pkg.dev/colab-wheels/public/simple/\n",
            "Collecting finance-datareader\n",
            "  Downloading finance_datareader-0.9.50-py3-none-any.whl (19 kB)\n",
            "Requirement already satisfied: pandas>=0.19.2 in /usr/local/lib/python3.10/dist-packages (from finance-datareader) (1.5.3)\n",
            "Requirement already satisfied: requests>=2.3.0 in /usr/local/lib/python3.10/dist-packages (from finance-datareader) (2.27.1)\n",
            "Collecting requests-file (from finance-datareader)\n",
            "  Downloading requests_file-1.5.1-py2.py3-none-any.whl (3.7 kB)\n",
            "Requirement already satisfied: lxml in /usr/local/lib/python3.10/dist-packages (from finance-datareader) (4.9.2)\n",
            "Requirement already satisfied: tqdm in /usr/local/lib/python3.10/dist-packages (from finance-datareader) (4.65.0)\n",
            "Requirement already satisfied: python-dateutil>=2.8.1 in /usr/local/lib/python3.10/dist-packages (from pandas>=0.19.2->finance-datareader) (2.8.2)\n",
            "Requirement already satisfied: pytz>=2020.1 in /usr/local/lib/python3.10/dist-packages (from pandas>=0.19.2->finance-datareader) (2022.7.1)\n",
            "Requirement already satisfied: numpy>=1.21.0 in /usr/local/lib/python3.10/dist-packages (from pandas>=0.19.2->finance-datareader) (1.22.4)\n",
            "Requirement already satisfied: urllib3<1.27,>=1.21.1 in /usr/local/lib/python3.10/dist-packages (from requests>=2.3.0->finance-datareader) (1.26.15)\n",
            "Requirement already satisfied: certifi>=2017.4.17 in /usr/local/lib/python3.10/dist-packages (from requests>=2.3.0->finance-datareader) (2022.12.7)\n",
            "Requirement already satisfied: charset-normalizer~=2.0.0 in /usr/local/lib/python3.10/dist-packages (from requests>=2.3.0->finance-datareader) (2.0.12)\n",
            "Requirement already satisfied: idna<4,>=2.5 in /usr/local/lib/python3.10/dist-packages (from requests>=2.3.0->finance-datareader) (3.4)\n",
            "Requirement already satisfied: six in /usr/local/lib/python3.10/dist-packages (from requests-file->finance-datareader) (1.16.0)\n",
            "Installing collected packages: requests-file, finance-datareader\n",
            "Successfully installed finance-datareader-0.9.50 requests-file-1.5.1\n"
          ]
        }
      ]
    },
    {
      "cell_type": "code",
      "source": [
        "pip install datetime"
      ],
      "metadata": {
        "colab": {
          "base_uri": "https://localhost:8080/"
        },
        "id": "p0Hbx75POjpG",
        "outputId": "bb92920e-14e8-48e9-c98b-622d64259219"
      },
      "execution_count": null,
      "outputs": [
        {
          "output_type": "stream",
          "name": "stdout",
          "text": [
            "Looking in indexes: https://pypi.org/simple, https://us-python.pkg.dev/colab-wheels/public/simple/\n",
            "Collecting datetime\n",
            "  Downloading DateTime-5.1-py3-none-any.whl (52 kB)\n",
            "\u001b[2K     \u001b[90m━━━━━━━━━━━━━━━━━━━━━━━━━━━━━━━━━━━━━━━━\u001b[0m \u001b[32m52.1/52.1 kB\u001b[0m \u001b[31m3.0 MB/s\u001b[0m eta \u001b[36m0:00:00\u001b[0m\n",
            "\u001b[?25hCollecting zope.interface (from datetime)\n",
            "  Downloading zope.interface-6.0-cp310-cp310-manylinux_2_5_x86_64.manylinux1_x86_64.manylinux_2_17_x86_64.manylinux2014_x86_64.whl (246 kB)\n",
            "\u001b[2K     \u001b[90m━━━━━━━━━━━━━━━━━━━━━━━━━━━━━━━━━━━━━━━\u001b[0m \u001b[32m247.0/247.0 kB\u001b[0m \u001b[31m9.7 MB/s\u001b[0m eta \u001b[36m0:00:00\u001b[0m\n",
            "\u001b[?25hRequirement already satisfied: pytz in /usr/local/lib/python3.10/dist-packages (from datetime) (2022.7.1)\n",
            "Requirement already satisfied: setuptools in /usr/local/lib/python3.10/dist-packages (from zope.interface->datetime) (67.7.2)\n",
            "Installing collected packages: zope.interface, datetime\n",
            "Successfully installed datetime-5.1 zope.interface-6.0\n"
          ]
        }
      ]
    },
    {
      "cell_type": "code",
      "source": [
        "import pandas as pd\n",
        "import numpy as np\n",
        "import FinanceDataReader as fdr\n",
        "import matplotlib.pyplot as plt\n",
        "import datetime\n",
        "from sklearn.preprocessing import MinMaxScaler\n",
        "from tensorflow.keras.models import Sequential\n",
        "from tensorflow.keras.layers import Dense, GRU\n",
        "#from sklearn.metrics import mean_squared_error\n",
        "from sklearn.metrics import r2_score\n",
        "\n",
        "# 데이터 불러오기\n",
        "start_date_q = \"2018-01-01\"\n",
        "end_date_q = \"2021-12-31\"\n",
        "ticker_q = \"BTC/KRW\"  # 한국거래소에서 비트코인을 가격 데이터 가져오기\n",
        "df_data_q = fdr.DataReader(ticker_q, start_date_q, end_date_q)\n",
        "df_q = pd.DataFrame(fdr.DataReader(ticker_q, start_date_q, end_date_q)['Close'])"
      ],
      "metadata": {
        "id": "2HG3XhdxvPF2"
      },
      "execution_count": null,
      "outputs": []
    },
    {
      "cell_type": "code",
      "source": [
        "# 데이터 전처리\n",
        "scaler_q = MinMaxScaler()\n",
        "scaled_data_q = scaler_q.fit_transform(df_q) # minmaxScaler는 스케일을 조정하는 정규화 함수로, 모든 데이터가 0과 1사이의 값을 갖도록 해주는 함수이다\n",
        "                          # 따라서 최댓값은 1로, 최솟값은 0으로 데이터의 범위를 조정해준다. 객체생성함"
      ],
      "metadata": {
        "id": "EPsyo5kzva2l"
      },
      "execution_count": null,
      "outputs": []
    },
    {
      "cell_type": "code",
      "source": [
        "# train, test 데이터 생성\n",
        "\n",
        "train_size_q = int(len(scaled_data_q) * 0.8)   ## 전체 데이터셋 중 80%를 학습 데이터셋으로, 20%를 테스트 데이터셋(검증용) 으로 사용하기 위해서 0.8을 곱했다\n",
        "                                          # 모델 학습 시 과적합을 방지하고 일반화 성능을 높이기 위해 사용된다\n",
        "train_data_q = scaled_data_q[:train_size_q]\n",
        "test_data_q = scaled_data_q[train_size_q:]\n",
        "\n",
        "def create_dataset_q(data, look_back=60): #look_back은 몇 개의 과거 데이터를 사용할 것인지를 표현하는 것이다(기본값이 60이다)\n",
        "    x_q, y_q = [], []        #  for문에서 얻은 모든 입력 데이터(x)와 출력 데이터(y)를 리스트에 추가한다\n",
        "    for i in range(len(data)-look_back):\n",
        "        x_q.append(data[i:(i+look_back), 0])   # i부터 (i+look_back)까지의 데이터를 하나의 입력 데이터 x 로 표현한다.\n",
        "        y_q.append(data[i+look_back, 0])       # i+look_back의 데이터를 출력 데이터 y 로 표현한다.\n",
        "    return np.array(x_q), np.array(y_q)         # 리스트를 numpy 배열로 변환하여 반환\n",
        "\n",
        "# create_dataset()는 시계열 데이터를 RNN 모델에 입력으로 사용하기 위해 입력 데이터와 출력 데이터로 분리하는 함수이다.\n",
        "\n",
        "look_back = 60\n",
        "x_train_q, y_train_q = create_dataset_q(train_data_q, look_back)\n",
        "x_test_q, y_test_q = create_dataset_q(test_data_q, look_back)"
      ],
      "metadata": {
        "id": "NmkE-TxdwDnI"
      },
      "execution_count": null,
      "outputs": []
    },
    {
      "cell_type": "code",
      "source": [
        "train_data_q"
      ],
      "metadata": {
        "colab": {
          "base_uri": "https://localhost:8080/"
        },
        "id": "gA0462apYHnU",
        "outputId": "f44b10b6-2220-4b22-bb01-ac4bf73a2437"
      },
      "execution_count": null,
      "outputs": [
        {
          "output_type": "execute_result",
          "data": {
            "text/plain": [
              "array([[0.16107988],\n",
              "       [0.18135622],\n",
              "       [0.18512468],\n",
              "       ...,\n",
              "       [0.12832622],\n",
              "       [0.12786626],\n",
              "       [0.12994369]])"
            ]
          },
          "metadata": {},
          "execution_count": 71
        }
      ]
    },
    {
      "cell_type": "code",
      "source": [
        "test_data_q"
      ],
      "metadata": {
        "colab": {
          "base_uri": "https://localhost:8080/"
        },
        "id": "liB-9VOzYKts",
        "outputId": "5709aeb4-d252-49e8-f3d9-df7918f8577d"
      },
      "execution_count": null,
      "outputs": [
        {
          "output_type": "execute_result",
          "data": {
            "text/plain": [
              "array([[0.13061199],\n",
              "       [0.12858786],\n",
              "       [0.1285325 ],\n",
              "       [0.13176871],\n",
              "       [0.13304047],\n",
              "       [0.13696572],\n",
              "       [0.13845304],\n",
              "       [0.14216286],\n",
              "       [0.14003682],\n",
              "       [0.13981774],\n",
              "       [0.14059651],\n",
              "       [0.13716141],\n",
              "       [0.13776964],\n",
              "       [0.13988184],\n",
              "       [0.143834  ],\n",
              "       [0.14672852],\n",
              "       [0.16080297],\n",
              "       [0.16359084],\n",
              "       [0.16173403],\n",
              "       [0.1646822 ],\n",
              "       [0.1633987 ],\n",
              "       [0.16494641],\n",
              "       [0.17396232],\n",
              "       [0.16873151],\n",
              "       [0.17060324],\n",
              "       [0.17364206],\n",
              "       [0.17758637],\n",
              "       [0.17685731],\n",
              "       [0.1730331 ],\n",
              "       [0.17934447],\n",
              "       [0.1822915 ],\n",
              "       [0.20485371],\n",
              "       [0.20422277],\n",
              "       [0.19206626],\n",
              "       [0.20276441],\n",
              "       [0.19984337],\n",
              "       [0.19856667],\n",
              "       [0.20427593],\n",
              "       [0.21435293],\n",
              "       [0.21350239],\n",
              "       [0.20940583],\n",
              "       [0.20741232],\n",
              "       [0.21964767],\n",
              "       [0.23453251],\n",
              "       [0.23743594],\n",
              "       [0.23959112],\n",
              "       [0.25309098],\n",
              "       [0.25343624],\n",
              "       [0.248911  ],\n",
              "       [0.24854987],\n",
              "       [0.25987051],\n",
              "       [0.25251898],\n",
              "       [0.2266426 ],\n",
              "       [0.22556414],\n",
              "       [0.23552439],\n",
              "       [0.24304983],\n",
              "       [0.26818263],\n",
              "       [0.25366106],\n",
              "       [0.25846806],\n",
              "       [0.26012694],\n",
              "       [0.24573418],\n",
              "       [0.25302453],\n",
              "       [0.2560867 ],\n",
              "       [0.25385485],\n",
              "       [0.24019713],\n",
              "       [0.2443476 ],\n",
              "       [0.23970588],\n",
              "       [0.23757192],\n",
              "       [0.24960629],\n",
              "       [0.25508783],\n",
              "       [0.25712145],\n",
              "       [0.25877558],\n",
              "       [0.29068778],\n",
              "       [0.31472676],\n",
              "       [0.3222754 ],\n",
              "       [0.33418485],\n",
              "       [0.32775546],\n",
              "       [0.3179634 ],\n",
              "       [0.33619727],\n",
              "       [0.32602848],\n",
              "       [0.33250759],\n",
              "       [0.34734359],\n",
              "       [0.37619864],\n",
              "       [0.37365219],\n",
              "       [0.38514596],\n",
              "       [0.38824253],\n",
              "       [0.41044228],\n",
              "       [0.41175773],\n",
              "       [0.4177767 ],\n",
              "       [0.46201681],\n",
              "       [0.4732691 ],\n",
              "       [0.45997757],\n",
              "       [0.49285305],\n",
              "       [0.53870482],\n",
              "       [0.58328328],\n",
              "       [0.60573713],\n",
              "       [0.59695204],\n",
              "       [0.56624646],\n",
              "       [0.52345403],\n",
              "       [0.49490851],\n",
              "       [0.55222717],\n",
              "       [0.58136961],\n",
              "       [0.54761031],\n",
              "       [0.53703718],\n",
              "       [0.53066229],\n",
              "       [0.54433726],\n",
              "       [0.53420962],\n",
              "       [0.52312061],\n",
              "       [0.44761123],\n",
              "       [0.48581049],\n",
              "       [0.47046066],\n",
              "       [0.47411905],\n",
              "       [0.47399254],\n",
              "       [0.47703411],\n",
              "       [0.44503516],\n",
              "       [0.49715543],\n",
              "       [0.513802  ],\n",
              "       [0.51302665],\n",
              "       [0.49391441],\n",
              "       [0.50038852],\n",
              "       [0.53134186],\n",
              "       [0.56338272],\n",
              "       [0.5579502 ],\n",
              "       [0.57678194],\n",
              "       [0.59533828],\n",
              "       [0.58944523],\n",
              "       [0.70973607],\n",
              "       [0.71005404],\n",
              "       [0.68166191],\n",
              "       [0.72801546],\n",
              "       [0.72222613],\n",
              "       [0.71569904],\n",
              "       [0.74204535],\n",
              "       [0.72797373],\n",
              "       [0.75218253],\n",
              "       [0.79946909],\n",
              "       [0.79263622],\n",
              "       [0.86063203],\n",
              "       [0.86409233],\n",
              "       [0.88736303],\n",
              "       [0.83842766],\n",
              "       [0.74804301],\n",
              "       [0.76034843],\n",
              "       [0.72612369],\n",
              "       [0.71724247],\n",
              "       [0.71472346],\n",
              "       [0.69724103],\n",
              "       [0.75562246],\n",
              "       [0.75151308],\n",
              "       [0.78970908],\n",
              "       [0.76077894],\n",
              "       [0.76275039],\n",
              "       [0.76250122],\n",
              "       [0.80073007],\n",
              "       [0.8276356 ],\n",
              "       [0.86744826],\n",
              "       [0.88822026],\n",
              "       [0.91246387],\n",
              "       [0.91010684],\n",
              "       [0.97589119],\n",
              "       [0.94306538],\n",
              "       [0.88274724],\n",
              "       [0.8963639 ],\n",
              "       [0.92336563],\n",
              "       [0.91000928],\n",
              "       [0.92110149],\n",
              "       [0.92054967],\n",
              "       [0.9073576 ],\n",
              "       [0.85451028],\n",
              "       [0.86375891],\n",
              "       [0.83263608],\n",
              "       [0.8144636 ],\n",
              "       [0.8670451 ],\n",
              "       [0.88101709],\n",
              "       [0.88063495],\n",
              "       [0.91385308],\n",
              "       [0.93401306],\n",
              "       [0.92956931],\n",
              "       [0.9332737 ],\n",
              "       [0.93873299],\n",
              "       [0.90896225],\n",
              "       [0.92827446],\n",
              "       [0.9291359 ],\n",
              "       [0.90907556],\n",
              "       [0.87389775],\n",
              "       [0.90982782],\n",
              "       [0.9122128 ],\n",
              "       [0.93779423],\n",
              "       [0.94646293],\n",
              "       [0.94339596],\n",
              "       [1.        ],\n",
              "       [0.98856069],\n",
              "       [0.99215254],\n",
              "       [0.96334779],\n",
              "       [0.94866521],\n",
              "       [0.87483058],\n",
              "       [0.86564393],\n",
              "       [0.87945791],\n",
              "       [0.83647325],\n",
              "       [0.80347345],\n",
              "       [0.78898363],\n",
              "       [0.77181135],\n",
              "       [0.75453879],\n",
              "       [0.83343002],\n",
              "       [0.8524254 ],\n",
              "       [0.84616021],\n",
              "       [0.82370139],\n",
              "       [0.90113042],\n",
              "       [0.90241863],\n",
              "       [0.88261546],\n",
              "       [0.8943532 ],\n",
              "       [0.834534  ],\n",
              "       [0.90187783],\n",
              "       [0.88094907],\n",
              "       [0.89054994],\n",
              "       [0.91439146],\n",
              "       [0.90497955],\n",
              "       [0.86884878],\n",
              "       [0.88506763],\n",
              "       [0.7696604 ],\n",
              "       [0.77483748],\n",
              "       [0.77743824],\n",
              "       [0.72541151],\n",
              "       [0.72032104],\n",
              "       [0.67809102],\n",
              "       [0.66220944],\n",
              "       [0.56529723],\n",
              "       [0.626647  ],\n",
              "       [0.56843542],\n",
              "       [0.57230687],\n",
              "       [0.52613731],\n",
              "       [0.58919072],\n",
              "       [0.58369284],\n",
              "       [0.59508952],\n",
              "       [0.58193634],\n",
              "       [0.53424567],\n",
              "       [0.5164162 ],\n",
              "       [0.53392545],\n",
              "       [0.55795979],\n",
              "       [0.54746024],\n",
              "       [0.56354559],\n",
              "       [0.59353288],\n",
              "       [0.55224428],\n",
              "       [0.5301766 ],\n",
              "       [0.53527944],\n",
              "       [0.49726554],\n",
              "       [0.49950802],\n",
              "       [0.56337219],\n",
              "       [0.55008504],\n",
              "       [0.56272056],\n",
              "       [0.53327454],\n",
              "       [0.59186276]])"
            ]
          },
          "metadata": {},
          "execution_count": 72
        }
      ]
    },
    {
      "cell_type": "code",
      "source": [
        "# 모델 생성\n",
        "model_q = Sequential()   # 모델의 객체생성\n",
        "model_q.add(GRU(50, input_shape=(look_back, 1)))   #  50=레이어의 출력 차원, input_shape=입력 데이터의 형태를 정의를 의미한다.\n",
        "                                                  # lock_back=이전 데이터의 갯수만큼 비트코인 가격을 입력으로 받아들이고, 각각의 데이터가 1차원인 것을 의미합니다.\n",
        "\n",
        "model_q.add(Dense(1))   # Dense 는 완전 연결 레이어(층)를 의미한다. 1은 출력의 차원을 의미\n",
        "\n",
        "model_q.compile(loss='mean_squared_error', optimizer='adam')  # compile() 함수를 이용하여 모델을 컴파일합니다\n",
        "                                                             # loss는 손실 함수를 의미한다.\n",
        "                                                             # mean_squared_error(MSE) 는 전체 에러를 표현하기 위해서 사용하는 식이고 오차의 제곱에 대해 평균을 취한 것이다.(수치가 작을 수록 원본과의 오차가 적은 것이다)\n",
        "                                                             # optimizer는  최적화 알고리즘을 정의하는 부분이다. adam(아담) 은 모멘텀+ AdaGrad(아다그라드) 을 합친 것이다\n",
        "\n",
        "# 완전 연결 레이어 : 한 레이어의 모든 뉴런이 그 다음 레이어의 모든 뉴런과 연결된 상태이다.\n",
        "\n",
        "# 모멘텀 : 기울기 방향으로 힘을 받아 물체가 가속된다는 물리법칙을 적용한것이다.\n",
        "# AdaGrad : 학습을 진행하면서 학습률을 점차 줄여가는 방법이다.\n"
      ],
      "metadata": {
        "id": "f0QODaOdwT8K"
      },
      "execution_count": null,
      "outputs": []
    },
    {
      "cell_type": "code",
      "source": [
        "model_q"
      ],
      "metadata": {
        "colab": {
          "base_uri": "https://localhost:8080/"
        },
        "id": "VFqAIsDIwZZG",
        "outputId": "a675f78a-8242-4ae7-f78a-174f8d514923"
      },
      "execution_count": null,
      "outputs": [
        {
          "output_type": "execute_result",
          "data": {
            "text/plain": [
              "<keras.engine.sequential.Sequential at 0x7fb9f3fc8310>"
            ]
          },
          "metadata": {},
          "execution_count": 57
        }
      ]
    },
    {
      "cell_type": "code",
      "source": [
        "# 모델 학습\n",
        "model_q.fit(x_train_q, y_train_q, epochs=100, batch_size=64, verbose=2)\n",
        "\n",
        "# x_train : 학습데이터의 입력값   , y_train : 학습데이터의 출력값이다.\n",
        "\n",
        "# 에포크 : 훈련 데이터셋에 포함된 모든 데이터들이 한 번씩 모델을 통과한 횟수 또는 전체 학습 데이터셋에 대한 반복 횟수이다\n",
        "# 에포크가 높을수록 더 많은 반복 학습을 수행하게 되므로 모델이 더 많은 학습을 하게 되어 일반적으로 더 좋은 성능을 낼 수 있습니다\n",
        "\n",
        "# batch_size(배치크기) : 학습을 수행할 때, 몇 개의 데이터를 한 번에 처리할지를 지정한다, 일반적으로 32,64, 128 숫자를 사용한다\n",
        "\n",
        "# verbose : 학습 과정 중 출력되는 문구를 설정합니다. 0일 경우 출력하지 않으며, 1일 경우 학습 진행 상황을 출력하고, 2일 경우 학습 결과만 출력한다"
      ],
      "metadata": {
        "id": "aQ-pVxFJzH6U",
        "colab": {
          "base_uri": "https://localhost:8080/"
        },
        "outputId": "62d9afcd-c33b-468d-a6be-f45c6fcb7042"
      },
      "execution_count": null,
      "outputs": [
        {
          "output_type": "stream",
          "name": "stdout",
          "text": [
            "Epoch 1/100\n",
            "18/18 - 3s - loss: 0.0225 - 3s/epoch - 169ms/step\n",
            "Epoch 2/100\n",
            "18/18 - 1s - loss: 0.0065 - 587ms/epoch - 33ms/step\n",
            "Epoch 3/100\n",
            "18/18 - 1s - loss: 7.7437e-04 - 588ms/epoch - 33ms/step\n",
            "Epoch 4/100\n",
            "18/18 - 1s - loss: 3.3695e-04 - 598ms/epoch - 33ms/step\n",
            "Epoch 5/100\n",
            "18/18 - 1s - loss: 2.4270e-04 - 595ms/epoch - 33ms/step\n",
            "Epoch 6/100\n",
            "18/18 - 1s - loss: 2.4453e-04 - 590ms/epoch - 33ms/step\n",
            "Epoch 7/100\n",
            "18/18 - 1s - loss: 2.3233e-04 - 772ms/epoch - 43ms/step\n",
            "Epoch 8/100\n",
            "18/18 - 1s - loss: 2.0807e-04 - 957ms/epoch - 53ms/step\n",
            "Epoch 9/100\n",
            "18/18 - 1s - loss: 2.0986e-04 - 963ms/epoch - 54ms/step\n",
            "Epoch 10/100\n",
            "18/18 - 1s - loss: 2.1074e-04 - 743ms/epoch - 41ms/step\n",
            "Epoch 11/100\n",
            "18/18 - 1s - loss: 1.9970e-04 - 590ms/epoch - 33ms/step\n",
            "Epoch 12/100\n",
            "18/18 - 1s - loss: 2.1355e-04 - 606ms/epoch - 34ms/step\n",
            "Epoch 13/100\n",
            "18/18 - 1s - loss: 1.9752e-04 - 603ms/epoch - 33ms/step\n",
            "Epoch 14/100\n",
            "18/18 - 1s - loss: 1.9016e-04 - 572ms/epoch - 32ms/step\n",
            "Epoch 15/100\n",
            "18/18 - 1s - loss: 2.1136e-04 - 568ms/epoch - 32ms/step\n",
            "Epoch 16/100\n",
            "18/18 - 1s - loss: 1.9491e-04 - 572ms/epoch - 32ms/step\n",
            "Epoch 17/100\n",
            "18/18 - 1s - loss: 1.8078e-04 - 581ms/epoch - 32ms/step\n",
            "Epoch 18/100\n",
            "18/18 - 1s - loss: 1.8496e-04 - 604ms/epoch - 34ms/step\n",
            "Epoch 19/100\n",
            "18/18 - 1s - loss: 1.7943e-04 - 581ms/epoch - 32ms/step\n",
            "Epoch 20/100\n",
            "18/18 - 1s - loss: 1.7219e-04 - 588ms/epoch - 33ms/step\n",
            "Epoch 21/100\n",
            "18/18 - 1s - loss: 1.7125e-04 - 567ms/epoch - 31ms/step\n",
            "Epoch 22/100\n",
            "18/18 - 1s - loss: 1.8392e-04 - 863ms/epoch - 48ms/step\n",
            "Epoch 23/100\n",
            "18/18 - 1s - loss: 1.8488e-04 - 1s/epoch - 58ms/step\n",
            "Epoch 24/100\n",
            "18/18 - 1s - loss: 1.7657e-04 - 709ms/epoch - 39ms/step\n",
            "Epoch 25/100\n",
            "18/18 - 1s - loss: 1.6349e-04 - 618ms/epoch - 34ms/step\n",
            "Epoch 26/100\n",
            "18/18 - 1s - loss: 1.5810e-04 - 949ms/epoch - 53ms/step\n",
            "Epoch 27/100\n",
            "18/18 - 1s - loss: 1.5154e-04 - 948ms/epoch - 53ms/step\n",
            "Epoch 28/100\n",
            "18/18 - 1s - loss: 1.4990e-04 - 901ms/epoch - 50ms/step\n",
            "Epoch 29/100\n",
            "18/18 - 1s - loss: 1.5261e-04 - 574ms/epoch - 32ms/step\n",
            "Epoch 30/100\n",
            "18/18 - 1s - loss: 1.5101e-04 - 578ms/epoch - 32ms/step\n",
            "Epoch 31/100\n",
            "18/18 - 1s - loss: 1.5434e-04 - 577ms/epoch - 32ms/step\n",
            "Epoch 32/100\n",
            "18/18 - 1s - loss: 1.5100e-04 - 585ms/epoch - 33ms/step\n",
            "Epoch 33/100\n",
            "18/18 - 1s - loss: 1.4436e-04 - 586ms/epoch - 33ms/step\n",
            "Epoch 34/100\n",
            "18/18 - 1s - loss: 1.4342e-04 - 606ms/epoch - 34ms/step\n",
            "Epoch 35/100\n",
            "18/18 - 1s - loss: 1.4027e-04 - 589ms/epoch - 33ms/step\n",
            "Epoch 36/100\n",
            "18/18 - 1s - loss: 1.3760e-04 - 583ms/epoch - 32ms/step\n",
            "Epoch 37/100\n",
            "18/18 - 1s - loss: 1.3785e-04 - 612ms/epoch - 34ms/step\n",
            "Epoch 38/100\n",
            "18/18 - 1s - loss: 1.3238e-04 - 596ms/epoch - 33ms/step\n",
            "Epoch 39/100\n",
            "18/18 - 1s - loss: 1.3300e-04 - 620ms/epoch - 34ms/step\n",
            "Epoch 40/100\n",
            "18/18 - 1s - loss: 1.3336e-04 - 592ms/epoch - 33ms/step\n",
            "Epoch 41/100\n",
            "18/18 - 1s - loss: 1.3470e-04 - 604ms/epoch - 34ms/step\n",
            "Epoch 42/100\n",
            "18/18 - 1s - loss: 1.3020e-04 - 598ms/epoch - 33ms/step\n",
            "Epoch 43/100\n",
            "18/18 - 1s - loss: 1.3025e-04 - 575ms/epoch - 32ms/step\n",
            "Epoch 44/100\n",
            "18/18 - 1s - loss: 1.3522e-04 - 610ms/epoch - 34ms/step\n",
            "Epoch 45/100\n",
            "18/18 - 1s - loss: 1.3262e-04 - 703ms/epoch - 39ms/step\n",
            "Epoch 46/100\n",
            "18/18 - 1s - loss: 1.2562e-04 - 962ms/epoch - 53ms/step\n",
            "Epoch 47/100\n",
            "18/18 - 2s - loss: 1.2372e-04 - 2s/epoch - 98ms/step\n",
            "Epoch 48/100\n",
            "18/18 - 1s - loss: 1.2122e-04 - 966ms/epoch - 54ms/step\n",
            "Epoch 49/100\n",
            "18/18 - 1s - loss: 1.2276e-04 - 640ms/epoch - 36ms/step\n",
            "Epoch 50/100\n",
            "18/18 - 1s - loss: 1.2215e-04 - 579ms/epoch - 32ms/step\n",
            "Epoch 51/100\n",
            "18/18 - 1s - loss: 1.2296e-04 - 606ms/epoch - 34ms/step\n",
            "Epoch 52/100\n",
            "18/18 - 1s - loss: 1.2252e-04 - 611ms/epoch - 34ms/step\n",
            "Epoch 53/100\n",
            "18/18 - 1s - loss: 1.2320e-04 - 575ms/epoch - 32ms/step\n",
            "Epoch 54/100\n",
            "18/18 - 1s - loss: 1.1579e-04 - 593ms/epoch - 33ms/step\n",
            "Epoch 55/100\n",
            "18/18 - 1s - loss: 1.1835e-04 - 565ms/epoch - 31ms/step\n",
            "Epoch 56/100\n",
            "18/18 - 1s - loss: 1.2038e-04 - 609ms/epoch - 34ms/step\n",
            "Epoch 57/100\n",
            "18/18 - 1s - loss: 1.1368e-04 - 573ms/epoch - 32ms/step\n",
            "Epoch 58/100\n",
            "18/18 - 1s - loss: 1.2002e-04 - 586ms/epoch - 33ms/step\n",
            "Epoch 59/100\n",
            "18/18 - 1s - loss: 1.2027e-04 - 582ms/epoch - 32ms/step\n",
            "Epoch 60/100\n",
            "18/18 - 1s - loss: 1.2023e-04 - 587ms/epoch - 33ms/step\n",
            "Epoch 61/100\n",
            "18/18 - 1s - loss: 1.3302e-04 - 605ms/epoch - 34ms/step\n",
            "Epoch 62/100\n",
            "18/18 - 1s - loss: 1.2350e-04 - 575ms/epoch - 32ms/step\n",
            "Epoch 63/100\n",
            "18/18 - 1s - loss: 1.1568e-04 - 592ms/epoch - 33ms/step\n",
            "Epoch 64/100\n",
            "18/18 - 1s - loss: 1.1097e-04 - 877ms/epoch - 49ms/step\n",
            "Epoch 65/100\n",
            "18/18 - 1s - loss: 1.0690e-04 - 970ms/epoch - 54ms/step\n",
            "Epoch 66/100\n",
            "18/18 - 1s - loss: 1.0653e-04 - 973ms/epoch - 54ms/step\n",
            "Epoch 67/100\n",
            "18/18 - 1s - loss: 1.0863e-04 - 689ms/epoch - 38ms/step\n",
            "Epoch 68/100\n",
            "18/18 - 1s - loss: 1.0733e-04 - 713ms/epoch - 40ms/step\n",
            "Epoch 69/100\n",
            "18/18 - 1s - loss: 1.0766e-04 - 941ms/epoch - 52ms/step\n",
            "Epoch 70/100\n",
            "18/18 - 1s - loss: 1.1584e-04 - 1s/epoch - 75ms/step\n",
            "Epoch 71/100\n",
            "18/18 - 1s - loss: 1.0416e-04 - 574ms/epoch - 32ms/step\n",
            "Epoch 72/100\n",
            "18/18 - 1s - loss: 1.0520e-04 - 596ms/epoch - 33ms/step\n",
            "Epoch 73/100\n",
            "18/18 - 1s - loss: 1.0998e-04 - 592ms/epoch - 33ms/step\n",
            "Epoch 74/100\n",
            "18/18 - 1s - loss: 1.1641e-04 - 580ms/epoch - 32ms/step\n",
            "Epoch 75/100\n",
            "18/18 - 1s - loss: 1.1662e-04 - 590ms/epoch - 33ms/step\n",
            "Epoch 76/100\n",
            "18/18 - 1s - loss: 1.1321e-04 - 607ms/epoch - 34ms/step\n",
            "Epoch 77/100\n",
            "18/18 - 1s - loss: 1.1688e-04 - 586ms/epoch - 33ms/step\n",
            "Epoch 78/100\n",
            "18/18 - 1s - loss: 1.2030e-04 - 592ms/epoch - 33ms/step\n",
            "Epoch 79/100\n",
            "18/18 - 1s - loss: 1.0893e-04 - 612ms/epoch - 34ms/step\n",
            "Epoch 80/100\n",
            "18/18 - 1s - loss: 1.0892e-04 - 588ms/epoch - 33ms/step\n",
            "Epoch 81/100\n",
            "18/18 - 1s - loss: 9.9968e-05 - 661ms/epoch - 37ms/step\n",
            "Epoch 82/100\n",
            "18/18 - 1s - loss: 1.0995e-04 - 1s/epoch - 56ms/step\n",
            "Epoch 83/100\n",
            "18/18 - 1s - loss: 1.0266e-04 - 997ms/epoch - 55ms/step\n",
            "Epoch 84/100\n",
            "18/18 - 1s - loss: 1.0005e-04 - 832ms/epoch - 46ms/step\n",
            "Epoch 85/100\n",
            "18/18 - 1s - loss: 1.1055e-04 - 596ms/epoch - 33ms/step\n",
            "Epoch 86/100\n",
            "18/18 - 1s - loss: 9.6587e-05 - 577ms/epoch - 32ms/step\n",
            "Epoch 87/100\n",
            "18/18 - 1s - loss: 1.0648e-04 - 592ms/epoch - 33ms/step\n",
            "Epoch 88/100\n",
            "18/18 - 1s - loss: 9.9504e-05 - 580ms/epoch - 32ms/step\n",
            "Epoch 89/100\n",
            "18/18 - 1s - loss: 9.6619e-05 - 579ms/epoch - 32ms/step\n",
            "Epoch 90/100\n",
            "18/18 - 1s - loss: 9.6698e-05 - 593ms/epoch - 33ms/step\n",
            "Epoch 91/100\n",
            "18/18 - 1s - loss: 1.0004e-04 - 581ms/epoch - 32ms/step\n",
            "Epoch 92/100\n",
            "18/18 - 1s - loss: 1.0907e-04 - 584ms/epoch - 32ms/step\n",
            "Epoch 93/100\n",
            "18/18 - 1s - loss: 9.7440e-05 - 580ms/epoch - 32ms/step\n",
            "Epoch 94/100\n",
            "18/18 - 1s - loss: 1.0216e-04 - 606ms/epoch - 34ms/step\n",
            "Epoch 95/100\n",
            "18/18 - 1s - loss: 1.0475e-04 - 592ms/epoch - 33ms/step\n",
            "Epoch 96/100\n",
            "18/18 - 1s - loss: 9.8881e-05 - 588ms/epoch - 33ms/step\n",
            "Epoch 97/100\n",
            "18/18 - 1s - loss: 9.7301e-05 - 582ms/epoch - 32ms/step\n",
            "Epoch 98/100\n",
            "18/18 - 1s - loss: 9.4358e-05 - 584ms/epoch - 32ms/step\n",
            "Epoch 99/100\n",
            "18/18 - 1s - loss: 9.2545e-05 - 602ms/epoch - 33ms/step\n",
            "Epoch 100/100\n",
            "18/18 - 1s - loss: 9.5490e-05 - 588ms/epoch - 33ms/step\n"
          ]
        },
        {
          "output_type": "execute_result",
          "data": {
            "text/plain": [
              "<keras.callbacks.History at 0x7fd35162e4a0>"
            ]
          },
          "metadata": {},
          "execution_count": 46
        }
      ]
    },
    {
      "cell_type": "code",
      "source": [
        "# 예측\n",
        "train_predict_q = model_q.predict(x_train_q)\n",
        "test_predict_q = model_q.predict(x_test_q)\n",
        "\n",
        "# model.predict(x_train) 은 학습된 모델을 이용하여 train 데이터에 대한 예측값을 계산한다\n",
        "# mode.predict(x_test) 은 학습된 모델을 이용하여 test 데이터에 대한 예측값을 계산한다."
      ],
      "metadata": {
        "colab": {
          "base_uri": "https://localhost:8080/"
        },
        "id": "GyOGkXN_WfOb",
        "outputId": "b3fa4d9e-24a3-42d8-dcc0-193ccd827b6e"
      },
      "execution_count": null,
      "outputs": [
        {
          "output_type": "stream",
          "name": "stdout",
          "text": [
            "35/35 [==============================] - 1s 9ms/step\n",
            "8/8 [==============================] - 0s 8ms/step\n"
          ]
        }
      ]
    },
    {
      "cell_type": "code",
      "source": [
        "# 예측 결과 시각화\n",
        "train_predict_q = scaler_q.inverse_transform(train_predict_q)\n",
        "test_predict_q = scaler_q.inverse_transform(test_predict_q)\n",
        "\n",
        "\n",
        "# train_predict와 test_predict 배열에 NaN 값이 포함되어 있는지 확인하기 위해  np.isnan() 함수를 사용\n",
        "# 만약 NaN 값이 있다면, 이를 np.ma.array() 함수를 사용하여 NaN 값을 마스킹한 배열을 생성한다.\n",
        "# np.ma.array()에서는 평균값을 구할수있다.(조건이 참일때 평균값을 구해서 NaN값으로 대체한다)\n",
        "\n",
        "# train_predict와 test_predict 배열의 값을 scaler.inverse_transform() 함수를 사용하여 스케일링된 값을 원래의 값으로 복원합니다.\n",
        "\n",
        "plt.figure(figsize=(10, 5))\n",
        "\n",
        "# 2021년 5월 13일에 빨간색 세로축을 추가합니다.\n",
        "target_date = datetime.datetime(2021, 5, 13)\n",
        "plt.axvline(x=target_date, color='red', linestyle='--')\n",
        "\n",
        "plt.plot(df_q[look_back:len(train_data_q)].index, df_q[look_back:len(train_data_q)].values, label='Actual Train Price')\n",
        "plt.plot(df_q[len(train_data_q)+look_back:].index, df_q[len(train_data_q)+look_back:].values, label='Actual Test Price')\n",
        "plt.plot(df_q[look_back:len(train_data_q)].index, train_predict_q, label='Predicted Train Price')\n",
        "plt.plot(df_q[len(train_data_q)+look_back:].index, test_predict_q, label='Predicted Test Price')\n",
        "plt.xlabel('Date')\n",
        "plt.ylabel('Price')\n",
        "plt.legend()\n",
        "plt.show()"
      ],
      "metadata": {
        "colab": {
          "base_uri": "https://localhost:8080/",
          "height": 480
        },
        "id": "wr85PSwZSZWM",
        "outputId": "ec7e896d-4596-4ced-c89f-88748afe0867"
      },
      "execution_count": null,
      "outputs": [
        {
          "output_type": "display_data",
          "data": {
            "text/plain": [
              "<Figure size 1000x500 with 1 Axes>"
            ],
            "image/png": "[encoded data removed]"
          },
          "metadata": {}
        }
      ]
    },
    {
      "cell_type": "code",
      "source": [
        "# train 및 test 데이터에 대한 예측값 생성\n",
        "train_predict_q = model_d.predict(x_train_q)\n",
        "test_predict_q = model_d.predict(x_test_q)\n",
        "\n",
        "# 스케일링 된 값을 다시 원래 값으로 변환\n",
        "train_predict_q = scaler_q.inverse_transform(train_predict_q)  #inverse_transform() 함수를 이용해 원본값으로 복원가능하다\n",
        "y_train_q = scaler_q.inverse_transform([y_train_q])\n",
        "test_predict_q = scaler_q.inverse_transform(test_predict_q)\n",
        "y_test_q = scaler_q.inverse_transform([y_test_q])\n",
        "\n",
        "\n",
        "train_r2_score_q= r2_score(y_train_q[0], train_predict_q[:,0])\n",
        "test_r2_score_q = r2_score(y_test_q[0], test_predict_q[:,0])\n",
        "\n",
        "\n",
        "# 결과 출력\n",
        "print(\"Train R2 Score : \", train_r2_score_q)  # 98퍼센트에 정확도를 보여준다\n",
        "print(\"Test R2 Score : \", test_r2_score_q)   # 98% 정확도를 보여준다."
      ],
      "metadata": {
        "colab": {
          "base_uri": "https://localhost:8080/"
        },
        "id": "DFDr5oCtW7zX",
        "outputId": "e5ed9685-6e0e-4d36-c5cf-08e4923524d1"
      },
      "execution_count": null,
      "outputs": [
        {
          "output_type": "stream",
          "name": "stdout",
          "text": [
            "29/29 [==============================] - 0s 13ms/step\n",
            "6/6 [==============================] - 0s 13ms/step\n",
            "Train R2 Score :  0.9817228179070517\n",
            "Test R2 Score :  0.9804779182445463\n"
          ]
        }
      ]
    }
  ]
}